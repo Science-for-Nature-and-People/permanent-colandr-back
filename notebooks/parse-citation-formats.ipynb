{
 "cells": [
  {
   "cell_type": "markdown",
   "metadata": {},
   "source": [
    "---\n",
    "\n",
    "## RIS Format"
   ]
  },
  {
   "cell_type": "code",
   "execution_count": 1,
   "metadata": {
    "collapsed": false
   },
   "outputs": [],
   "source": [
    "import re\n",
    "\n",
    "\"\"\"\n",
    "\"\"\"\n",
    "import re\n",
    "\n",
    "\n",
    "TAG_KEY_MAPPING = {\n",
    "    'A1': 'primary_authors',  # special: Lastname, Firstname, Suffix\n",
    "    'A2': 'secondary_authors',  # special: Lastname, Firstname, Suffix\n",
    "    'A3': 'tertiary_authors',  # special: Lastname, Firstname, Suffix\n",
    "    'A4': 'subsidiary_authors',  # special: Lastname, Firstname, Suffix\n",
    "    'AB': 'abstract',\n",
    "    'AD': 'author_address',\n",
    "    'AN': 'accession_number',\n",
    "    'AU': 'authors',  # special\n",
    "    'AV': 'location_in_archives',\n",
    "    'BT': 'bt',\n",
    "    'C1': 'custom1',\n",
    "    'C2': 'custom2',\n",
    "    'C3': 'custom3',\n",
    "    'C4': 'custom4',\n",
    "    'C5': 'custom5',\n",
    "    'C6': 'custom6',\n",
    "    'C7': 'custom7',\n",
    "    'C8': 'custom8',\n",
    "    'CA': 'caption',\n",
    "    'CN': 'call_number',\n",
    "    'CP': 'cp',\n",
    "    'CT': 'title_of_unpublished_ref',\n",
    "    'CY': 'place_published',\n",
    "    'DA': 'date',  # special: YYYY, YYYY/MM, YYYY/MM/DD/, or YYYY/MM/DD/other info\n",
    "    'DB': 'name_of_database',\n",
    "    'DO': 'doi',\n",
    "    'DP': 'database_provider',\n",
    "    'ED': 'editor',\n",
    "    'EP': 'end_page',\n",
    "    'ER': 'end_of_reference',  # special: must be empty and last tag of record\n",
    "    'ET': 'edition',\n",
    "    'ID': 'reference_id',\n",
    "    'IS': 'issue_number',\n",
    "    'J1': 'journal_name_user_abbr',\n",
    "    'J2': 'alternate_title',\n",
    "    'JA': 'journal_name_abbr',\n",
    "    'JF': 'journal_name',\n",
    "    'JO': 'journal_name',\n",
    "    'KW': 'keywords',  # special\n",
    "    'L1': 'link_to_pdf',\n",
    "    'L2': 'link_to_fulltext',\n",
    "    'L3': 'related_records',\n",
    "    'L4': 'figure',\n",
    "    'LA': 'language',\n",
    "    'LB': 'label',\n",
    "    'LK': 'link_to_website',\n",
    "    'M1': 'number',\n",
    "    'M2': 'miscellaneous_2',\n",
    "    'M3': 'type_of_work',\n",
    "    'N1': 'notes',\n",
    "    'N2': 'abstract',\n",
    "    'NV': 'number_of_volumes',\n",
    "    'OP': 'original_publication',\n",
    "    'PB': 'publisher',\n",
    "    'PP': 'publishing_place',\n",
    "    'PY': 'publication_year',  # special: YYYY/MM/DD\n",
    "    'RI': 'reviewed_item',\n",
    "    'RN': 'research_notes',\n",
    "    'RP': 'reprint_edition',  # special: 'IN FILE', 'NOT IN FILE', or 'ON REQUEST (MM/DD/YY)'\n",
    "    'SE': 'section',\n",
    "    'SN': 'issn',\n",
    "    'SP': 'start_page',\n",
    "    'ST': 'short_title',\n",
    "    'T1': 'primary_title',\n",
    "    'T2': 'secondary_title',  # note: journal_title, if applicable\n",
    "    'T3': 'tertiary_title',\n",
    "    'TA': 'translated_author',\n",
    "    'TI': 'title',\n",
    "    'TT': 'translated_title',\n",
    "    'TY': 'type_of_reference',  # special: must be key in REFERENCE_TYPES and first tag of record\n",
    "    'U1': 'user_defined_1',\n",
    "    'U2': 'user_defined_2',\n",
    "    'U3': 'user_defined_3',\n",
    "    'U4': 'user_defined_4',\n",
    "    'U5': 'user_defined_5',\n",
    "    'UR': 'url',\n",
    "    'VL': 'volume',\n",
    "    'VO': 'published_standard_number',\n",
    "    'Y1': 'primary_date',\n",
    "    'Y2': 'access_date',\n",
    "}\n",
    "\n",
    "REPEATABLE_TAGS = {'A1', 'A2', 'A3', 'A4', 'AU', 'KW', 'N1'}\n",
    "\n",
    "REFERENCE_TYPES_MAPPING = {\n",
    "    'ABST': 'abstract',\n",
    "    'ADVS': 'audiovisual material',\n",
    "    'AGGR': 'aggregated database',\n",
    "    'ANCIENT': 'ancient text',\n",
    "    'ART': 'art work',\n",
    "    'BILL': 'bill/resolution',\n",
    "    'BLOG': 'blog',\n",
    "    'BOOK': 'book',\n",
    "    'CASE': 'case',\n",
    "    'CHAP': 'book chapter',\n",
    "    'CHART': 'chart',\n",
    "    'CLSWK': 'classical cork',\n",
    "    'COMP': 'computer program',\n",
    "    'CONF': 'conference proceeding',\n",
    "    'CPAPER': 'conference paper',\n",
    "    'CTLG': 'catalog',\n",
    "    'DATA': 'data file',\n",
    "    'DBASE': 'online database',\n",
    "    'DICT': 'dictionary',\n",
    "    'EBOOK': 'electronic book',\n",
    "    'ECHAP': 'electronic book chapter',\n",
    "    'EDBOOK': 'edited book',\n",
    "    'EJOUR': 'electronic article',\n",
    "    'ELEC': 'web page',\n",
    "    'ENCYC': 'encyclopedia',\n",
    "    'EQUA': 'equation',\n",
    "    'FIGURE': 'figure',\n",
    "    'GEN': 'generic',\n",
    "    'GOVDOC': 'government document',\n",
    "    'GRANT': 'grant',\n",
    "    'HEAR': 'hearing',\n",
    "    'ICOMM': 'internet communication',\n",
    "    'INPR': 'in press',\n",
    "    'JFULL': 'journal (full)',\n",
    "    'JOUR': 'journal',\n",
    "    'LEGAL': 'legal rule or regulation',\n",
    "    'MANSCPT': 'manuscript',\n",
    "    'MAP': 'map',\n",
    "    'MGZN': 'magazine article',\n",
    "    'MPCT': 'motion picture',\n",
    "    'MULTI': 'online multimedia',\n",
    "    'MUSIC': 'music score',\n",
    "    'NEWS': 'newspaper',\n",
    "    'PAMP': 'pamphlet',\n",
    "    'PAT': 'patent',\n",
    "    'PCOMM': 'personal communication',\n",
    "    'RPRT': 'report',\n",
    "    'SER': 'serial publication',\n",
    "    'SLIDE': 'slide',\n",
    "    'SOUND': 'sound recording',\n",
    "    'STAND': 'standard',\n",
    "    'STAT': 'statute',\n",
    "    'THES': 'thesis/dissertation',\n",
    "    'UNBILL': 'unenacted bill/resolution',\n",
    "    'UNPB': 'unpublished work',\n",
    "    'VIDEO': 'video recording',\n",
    "}\n",
    "\n",
    "fname = '../data/raw/citation_formats/scopus_to_ris.ris'\n"
   ]
  },
  {
   "cell_type": "code",
   "execution_count": null,
   "metadata": {
    "collapsed": true
   },
   "outputs": [],
   "source": []
  },
  {
   "cell_type": "code",
   "execution_count": null,
   "metadata": {
    "collapsed": true
   },
   "outputs": [],
   "source": []
  },
  {
   "cell_type": "code",
   "execution_count": null,
   "metadata": {
    "collapsed": true
   },
   "outputs": [],
   "source": [
    "import io\n",
    "\n",
    "import pandas as pd\n",
    "import textacy"
   ]
  },
  {
   "cell_type": "code",
   "execution_count": null,
   "metadata": {
    "collapsed": false,
    "scrolled": true
   },
   "outputs": [],
   "source": [
    "fname = '../data/raw/all_fields_Combined Search_Results_Final.txt'\n",
    "records = []\n",
    "with io.open(fname, mode='rt', encoding='utf8') as f:\n",
    "    record = {}\n",
    "    for i, line in enumerate(f):\n",
    "        if not line.strip():\n",
    "            if record:\n",
    "                records.append(record)\n",
    "            record = {}\n",
    "        else:\n",
    "            try:\n",
    "                field, value = line.split(':', 1)\n",
    "            except ValueError:\n",
    "                print(i, line)\n",
    "            record[field.strip()] = value.strip()\n",
    "            \n",
    "        if i > 1000:\n",
    "            break\n",
    "            \n",
    "df = pd.DataFrame(records)"
   ]
  },
  {
   "cell_type": "code",
   "execution_count": null,
   "metadata": {
    "collapsed": true
   },
   "outputs": [],
   "source": []
  },
  {
   "cell_type": "code",
   "execution_count": null,
   "metadata": {
    "collapsed": false
   },
   "outputs": [],
   "source": [
    "df = pd.read_excel('../data/raw/Combined Search_Results_Top_3.xls')\n",
    "print(df.shape)\n",
    "df.head(3)"
   ]
  },
  {
   "cell_type": "code",
   "execution_count": null,
   "metadata": {
    "collapsed": false
   },
   "outputs": [],
   "source": [
    "df[df['Title'].notnull()]['Title']"
   ]
  },
  {
   "cell_type": "code",
   "execution_count": null,
   "metadata": {
    "collapsed": false
   },
   "outputs": [],
   "source": []
  }
 ],
 "metadata": {
  "kernelspec": {
   "display_name": "Python 3",
   "language": "python",
   "name": "python3"
  },
  "language_info": {
   "codemirror_mode": {
    "name": "ipython",
    "version": 3
   },
   "file_extension": ".py",
   "mimetype": "text/x-python",
   "name": "python",
   "nbconvert_exporter": "python",
   "pygments_lexer": "ipython3",
   "version": "3.5.1"
  }
 },
 "nbformat": 4,
 "nbformat_minor": 0
}
