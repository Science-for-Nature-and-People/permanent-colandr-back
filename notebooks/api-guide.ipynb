{
 "cells": [
  {
   "cell_type": "markdown",
   "metadata": {},
   "source": [
    "## setup\n",
    "\n",
    "Note: Before running this notebook, populate the database:\n",
    "\n",
    "```\n",
    "$ python repopulate_db.py --email <your_email>\n",
    "```\n",
    "\n",
    "All API endpoints that modify the database (rather than just fetching data from it) take a `test` argument, and if `test` is `False`, no changes to the database are made. All calls here will use the test parameter."
   ]
  },
  {
   "cell_type": "code",
   "execution_count": 1,
   "metadata": {
    "collapsed": true
   },
   "outputs": [],
   "source": [
    "import io\n",
    "import os\n",
    "from pprint import pprint\n",
    "\n",
    "import requests"
   ]
  },
  {
   "cell_type": "code",
   "execution_count": 2,
   "metadata": {
    "collapsed": true
   },
   "outputs": [],
   "source": [
    "BASE_URL = 'http://localhost:5000/'"
   ]
  },
  {
   "cell_type": "code",
   "execution_count": 3,
   "metadata": {
    "collapsed": false
   },
   "outputs": [],
   "source": [
    "def call_endpoint(method, endpoint,\n",
    "                  auth=None, verbose=True, return_json=True, **kwargs):\n",
    "    \"\"\"\n",
    "    Args:\n",
    "        method ({'GET', 'PUT', 'POST', 'DELETE'})\n",
    "        endpoint (str)\n",
    "        auth (Tuple[str, str])\n",
    "        verbose (bool)\n",
    "        return_json (bool)\n",
    "        **kwargs\n",
    "    \n",
    "    Returns:\n",
    "        ``requests.response`` or JSON\n",
    "    \"\"\"\n",
    "    url = BASE_URL + endpoint\n",
    "    response = requests.request(method, url, auth=auth, **kwargs)\n",
    "\n",
    "    if verbose is True:\n",
    "        print(method, '=>', response.url)\n",
    "    if return_json is True:\n",
    "        return response.json()\n",
    "    else:\n",
    "        return response\n",
    "\n",
    "\n",
    "def get_auth_token(email, password):\n",
    "    return (call_endpoint('authtoken', 'get', (email, password))['token'], '')"
   ]
  },
  {
   "cell_type": "code",
   "execution_count": 16,
   "metadata": {
    "collapsed": false
   },
   "outputs": [
    {
     "name": "stdout",
     "output_type": "stream",
     "text": [
      "GET => http://localhost:5000/authtoken\n"
     ]
    }
   ],
   "source": [
    "auth = (call_endpoint('GET', 'authtoken', auth=('burtdewilde@gmail.com', 'password'))['token'], '')"
   ]
  },
  {
   "cell_type": "markdown",
   "metadata": {
    "collapsed": false,
    "scrolled": true
   },
   "source": [
    "---\n",
    "\n",
    "## USERS\n",
    "\n",
    "### register a new user\n",
    "\n",
    "input: user name, email and password\n",
    "\n",
    "output: user info with `id` and `created_at` fields filled in by the database"
   ]
  },
  {
   "cell_type": "code",
   "execution_count": 38,
   "metadata": {
    "collapsed": false
   },
   "outputs": [
    {
     "name": "stdout",
     "output_type": "stream",
     "text": [
      "POST => http://localhost:5000/users?test=True\n"
     ]
    },
    {
     "data": {
      "text/plain": [
       "{'created_at': None,\n",
       " 'email': 'burtdewilde@gmail.com',\n",
       " 'id': None,\n",
       " 'name': 'Burton DeWilde'}"
      ]
     },
     "execution_count": 38,
     "metadata": {},
     "output_type": "execute_result"
    }
   ],
   "source": [
    "user_info = {'name': 'Burton DeWilde',\n",
    "             'email': 'burtdewilde@gmail.com',\n",
    "             'password': 'password'}\n",
    "\n",
    "call_endpoint('POST', 'users',\n",
    "              json=user_info, params={'test': True})"
   ]
  },
  {
   "cell_type": "markdown",
   "metadata": {},
   "source": [
    "### authenticate an existing user\n",
    "\n",
    "input: user email and password\n",
    "\n",
    "output: authentication token, expires in 30 minutes"
   ]
  },
  {
   "cell_type": "code",
   "execution_count": 18,
   "metadata": {
    "collapsed": false
   },
   "outputs": [
    {
     "name": "stdout",
     "output_type": "stream",
     "text": [
      "GET => http://localhost:5000/authtoken\n"
     ]
    },
    {
     "data": {
      "text/plain": [
       "('eyJhbGciOiJIUzI1NiIsImlhdCI6MTQ3NTIwMDY0MCwiZXhwIjoxNDc1MjAyNDQwfQ.eyJpZCI6MX0.5a9cvcopK32Tcgu5UqVF3UFD4SbK87oQ2-gALfRvZb4',\n",
       " '')"
      ]
     },
     "execution_count": 18,
     "metadata": {},
     "output_type": "execute_result"
    }
   ],
   "source": [
    "login_creds = ('burtdewilde@gmail.com', 'password')\n",
    "\n",
    "response = call_endpoint('GET', 'authtoken', auth=login_creds)\n",
    "auth = (response['token'], '')\n",
    "auth"
   ]
  },
  {
   "cell_type": "markdown",
   "metadata": {},
   "source": [
    "### get user's info by id\n",
    "\n",
    "input: user id\n",
    "\n",
    "output: user info, or a subset specified by the `fields` parameter (**note:** `id` is always returned)"
   ]
  },
  {
   "cell_type": "code",
   "execution_count": 19,
   "metadata": {
    "collapsed": false
   },
   "outputs": [
    {
     "name": "stdout",
     "output_type": "stream",
     "text": [
      "GET => http://localhost:5000/users/1\n"
     ]
    },
    {
     "data": {
      "text/plain": [
       "{'created_at': '2016-09-29T23:52:27.781970+00:00',\n",
       " 'email': 'burtdewilde@gmail.com',\n",
       " 'id': 1,\n",
       " 'name': 'Burton DeWilde'}"
      ]
     },
     "execution_count": 19,
     "metadata": {},
     "output_type": "execute_result"
    }
   ],
   "source": [
    "call_endpoint('GET', 'users/{id}'.format(id=1), auth=auth)"
   ]
  },
  {
   "cell_type": "code",
   "execution_count": 20,
   "metadata": {
    "collapsed": false
   },
   "outputs": [
    {
     "name": "stdout",
     "output_type": "stream",
     "text": [
      "GET => http://localhost:5000/users/1?fields=email%2Cname\n"
     ]
    },
    {
     "data": {
      "text/plain": [
       "{'email': 'burtdewilde@gmail.com', 'id': 1, 'name': 'Burton DeWilde'}"
      ]
     },
     "execution_count": 20,
     "metadata": {},
     "output_type": "execute_result"
    }
   ],
   "source": [
    "call_endpoint('GET', 'users/{id}'.format(id=1), auth=auth,\n",
    "              params={'fields': 'email,name'})"
   ]
  },
  {
   "cell_type": "markdown",
   "metadata": {},
   "source": [
    "### get user's info by email\n",
    "\n",
    "if you don't know the user's id\n",
    "\n",
    "intput: user email\n",
    "\n",
    "output: user info, or a subset"
   ]
  },
  {
   "cell_type": "code",
   "execution_count": 21,
   "metadata": {
    "collapsed": false
   },
   "outputs": [
    {
     "name": "stdout",
     "output_type": "stream",
     "text": [
      "GET => http://localhost:5000/users?email=burtdewilde%40gmail.com\n"
     ]
    },
    {
     "data": {
      "text/plain": [
       "{'created_at': '2016-09-29T23:52:27.781970+00:00',\n",
       " 'email': 'burtdewilde@gmail.com',\n",
       " 'id': 1,\n",
       " 'name': 'Burton DeWilde'}"
      ]
     },
     "execution_count": 21,
     "metadata": {},
     "output_type": "execute_result"
    }
   ],
   "source": [
    "call_endpoint('GET', 'users', auth=auth,\n",
    "              params={'email': 'burtdewilde@gmail.com'})"
   ]
  },
  {
   "cell_type": "markdown",
   "metadata": {},
   "source": [
    "### delete a user\n",
    "\n",
    "input: user id\n",
    "\n",
    "output: nothing\n",
    "\n",
    "**note:** this also deletes all reviews owned by user, so be very careful"
   ]
  },
  {
   "cell_type": "code",
   "execution_count": 22,
   "metadata": {
    "collapsed": false
   },
   "outputs": [
    {
     "name": "stdout",
     "output_type": "stream",
     "text": [
      "DELETE => http://localhost:5000/users/1?test=True\n"
     ]
    }
   ],
   "source": [
    "call_endpoint('DELETE', 'users/{id}'.format(id=1), auth=auth,\n",
    "              params={'test': True})"
   ]
  },
  {
   "cell_type": "markdown",
   "metadata": {},
   "source": [
    "---\n",
    "\n",
    "## REVIEWS\n",
    "\n",
    "### create a new review\n",
    "\n",
    "input: review name and description\n",
    "\n",
    "output: review info, plus `id`, `created_at`, `status`, `num_citation_screening_reviewers`, and `num_fulltext_screening_reviewers` fields filled in by the database"
   ]
  },
  {
   "cell_type": "code",
   "execution_count": 23,
   "metadata": {
    "collapsed": false
   },
   "outputs": [
    {
     "name": "stdout",
     "output_type": "stream",
     "text": [
      "POST => http://localhost:5000/reviews?test=True\n"
     ]
    },
    {
     "data": {
      "text/plain": [
       "{'created_at': None,\n",
       " 'description': 'The greatest systematic review ever created.',\n",
       " 'id': None,\n",
       " 'name': \"Burton's Great Review\",\n",
       " 'num_citation_screening_reviewers': None,\n",
       " 'num_fulltext_screening_reviewers': None,\n",
       " 'owner_user_id': 1,\n",
       " 'status': None}"
      ]
     },
     "execution_count": 23,
     "metadata": {},
     "output_type": "execute_result"
    }
   ],
   "source": [
    "review_info = {'name': \"Burton's Great Review\",\n",
    "               'description': 'The greatest systematic review ever created.'}\n",
    "\n",
    "call_endpoint('POST', 'reviews', auth=auth,\n",
    "              json=review_info, params={'test': True})"
   ]
  },
  {
   "cell_type": "markdown",
   "metadata": {},
   "source": [
    "### get review's info by id\n",
    "\n",
    "input: review id\n",
    "\n",
    "output: review info, or a subset"
   ]
  },
  {
   "cell_type": "code",
   "execution_count": 24,
   "metadata": {
    "collapsed": false
   },
   "outputs": [
    {
     "name": "stdout",
     "output_type": "stream",
     "text": [
      "GET => http://localhost:5000/reviews/1\n"
     ]
    },
    {
     "data": {
      "text/plain": [
       "{'created_at': '2016-09-29T23:52:29.266246+00:00',\n",
       " 'description': 'International policy has sought to emphasize and strengthen the link between the conservation of natural ecosystems and human development. Furthermore, international conservation organizations have broadened their objectives beyond nature-based goals to recognize the contribution of conservation interventions in sustaining ecosystem services upon which human populations are dependent. While many indices have been developed to measure various human well-being domains, the strength of evidence to support the effects, both positive and negative, of conservation interventions on human well-being, is still unclear.\\n\\nThis protocol describes the methodology for examining the research question: What are the impacts of nature conservation interventions on different domains of human well-being in developing countries? Using systematic mapping, this study will scope and identify studies that measure the impacts of nature conservation interventions on human well-being at local to regional scales. The primary objective of this study is to synthesize the state and distribution of the existing evidence base linking conservation and human well-being. In addition, a theory of change approach will be used to identify and characterize the causal linkages between conservation and human well-being, with attention on those studies that examine the role of ecosystem services. Key trends among the resulting studies will be synthesized and the range of studies organized and presented in a graphical matrix illustrating the relationships between types of interventions and types of outcomes. Results of the study are intended to help conservation and development practitioners and the academic community to improve research studies and conservation practices in developing countries in order to achieve both conservation and human well-being outcomes.',\n",
       " 'id': 1,\n",
       " 'name': 'Conservation International Demo',\n",
       " 'num_citation_screening_reviewers': 2,\n",
       " 'num_fulltext_screening_reviewers': 2,\n",
       " 'owner_user_id': 1,\n",
       " 'status': 'active'}"
      ]
     },
     "execution_count": 24,
     "metadata": {},
     "output_type": "execute_result"
    }
   ],
   "source": [
    "call_endpoint('GET', 'reviews/{id}'.format(id=1), auth=auth)"
   ]
  },
  {
   "cell_type": "markdown",
   "metadata": {},
   "source": [
    "### get info for all reviews visible to authenticated user\n",
    "\n",
    "input: nothing\n",
    "\n",
    "output: list of reviews' info, or subsets thereof"
   ]
  },
  {
   "cell_type": "code",
   "execution_count": 25,
   "metadata": {
    "collapsed": false
   },
   "outputs": [
    {
     "name": "stdout",
     "output_type": "stream",
     "text": [
      "GET => http://localhost:5000/reviews?fields=name%2Cstatus\n"
     ]
    },
    {
     "data": {
      "text/plain": [
       "[{'id': 1, 'name': 'Conservation International Demo', 'status': 'active'}]"
      ]
     },
     "execution_count": 25,
     "metadata": {},
     "output_type": "execute_result"
    }
   ],
   "source": [
    "call_endpoint('GET', 'reviews', auth=auth,\n",
    "              params={'fields': 'name,status'})"
   ]
  },
  {
   "cell_type": "markdown",
   "metadata": {},
   "source": [
    "### change a review's info / settings\n",
    "\n",
    "input: review id and field: value pairs to update\n",
    "\n",
    "output: updated review info"
   ]
  },
  {
   "cell_type": "code",
   "execution_count": 26,
   "metadata": {
    "collapsed": false
   },
   "outputs": [
    {
     "name": "stdout",
     "output_type": "stream",
     "text": [
      "PUT => http://localhost:5000/reviews/1?test=True\n"
     ]
    },
    {
     "data": {
      "text/plain": [
       "{'created_at': '2016-09-29T23:52:29.266246+00:00',\n",
       " 'description': 'International policy has sought to emphasize and strengthen the link between the conservation of natural ecosystems and human development. Furthermore, international conservation organizations have broadened their objectives beyond nature-based goals to recognize the contribution of conservation interventions in sustaining ecosystem services upon which human populations are dependent. While many indices have been developed to measure various human well-being domains, the strength of evidence to support the effects, both positive and negative, of conservation interventions on human well-being, is still unclear.\\n\\nThis protocol describes the methodology for examining the research question: What are the impacts of nature conservation interventions on different domains of human well-being in developing countries? Using systematic mapping, this study will scope and identify studies that measure the impacts of nature conservation interventions on human well-being at local to regional scales. The primary objective of this study is to synthesize the state and distribution of the existing evidence base linking conservation and human well-being. In addition, a theory of change approach will be used to identify and characterize the causal linkages between conservation and human well-being, with attention on those studies that examine the role of ecosystem services. Key trends among the resulting studies will be synthesized and the range of studies organized and presented in a graphical matrix illustrating the relationships between types of interventions and types of outcomes. Results of the study are intended to help conservation and development practitioners and the academic community to improve research studies and conservation practices in developing countries in order to achieve both conservation and human well-being outcomes.',\n",
       " 'id': 1,\n",
       " 'name': 'Conservation International Demo',\n",
       " 'num_citation_screening_reviewers': 2,\n",
       " 'num_fulltext_screening_reviewers': 2,\n",
       " 'owner_user_id': 1,\n",
       " 'status': 'active'}"
      ]
     },
     "execution_count": 26,
     "metadata": {},
     "output_type": "execute_result"
    }
   ],
   "source": [
    "modified_review_info = {'name': 'CI Demo',\n",
    "                        'num_citation_screening_reviewers': 1}\n",
    "\n",
    "call_endpoint('PUT', 'reviews/{id}'.format(id=1), auth=auth,\n",
    "              json=modified_review_info, params={'test': True})"
   ]
  },
  {
   "cell_type": "markdown",
   "metadata": {},
   "source": [
    "### delete a review\n",
    "\n",
    "input: review id\n",
    "\n",
    "output: nothing"
   ]
  },
  {
   "cell_type": "code",
   "execution_count": 27,
   "metadata": {
    "collapsed": false
   },
   "outputs": [
    {
     "name": "stdout",
     "output_type": "stream",
     "text": [
      "DELETE => http://localhost:5000/reviews/1?test=True\n"
     ]
    }
   ],
   "source": [
    "call_endpoint('DELETE', 'reviews/{id}'.format(id=1), auth=auth,\n",
    "              params={'test': True})"
   ]
  },
  {
   "cell_type": "markdown",
   "metadata": {
    "collapsed": true
   },
   "source": [
    "---\n",
    "\n",
    "## REVIEW TEAMS\n",
    "\n",
    "### get the team of users on a review\n",
    "\n",
    "input: review id\n",
    "\n",
    "output: list of users on the review; owner is specially noted by `is_owner` field"
   ]
  },
  {
   "cell_type": "code",
   "execution_count": 28,
   "metadata": {
    "collapsed": false
   },
   "outputs": [
    {
     "name": "stdout",
     "output_type": "stream",
     "text": [
      "GET => http://localhost:5000/reviews/1/team\n"
     ]
    },
    {
     "data": {
      "text/plain": [
       "[{'created_at': '2016-09-29T23:52:27.781970+00:00',\n",
       "  'email': 'burtdewilde@gmail.com',\n",
       "  'id': 1,\n",
       "  'is_owner': True,\n",
       "  'name': 'Burton DeWilde'},\n",
       " {'created_at': '2016-09-29T23:52:28.076214+00:00',\n",
       "  'email': 'rayshah@thinkdesign.com',\n",
       "  'id': 2,\n",
       "  'name': 'Ray Shah'},\n",
       " {'created_at': '2016-09-29T23:52:28.368038+00:00',\n",
       "  'email': 'caugustin@rsmas.miami.edu',\n",
       "  'id': 3,\n",
       "  'name': 'Caitlin Augustin'},\n",
       " {'created_at': '2016-09-29T23:52:28.665651+00:00',\n",
       "  'email': 'rcm2164@columbia.edu',\n",
       "  'id': 4,\n",
       "  'name': 'Bob Minnich'},\n",
       " {'created_at': '2016-09-29T23:52:28.965896+00:00',\n",
       "  'email': 'samanzaroot@gmail.com',\n",
       "  'id': 5,\n",
       "  'name': 'Sam Anzaroot'}]"
      ]
     },
     "execution_count": 28,
     "metadata": {},
     "output_type": "execute_result"
    }
   ],
   "source": [
    "call_endpoint('GET', 'reviews/{id}/team'.format(id=1), auth=auth)"
   ]
  },
  {
   "cell_type": "markdown",
   "metadata": {
    "collapsed": true
   },
   "source": [
    "### add or remove a user as a collaborator on a review\n",
    "\n",
    "input: review id, user id, action type\n",
    "\n",
    "output: updated list of users on the review"
   ]
  },
  {
   "cell_type": "code",
   "execution_count": 29,
   "metadata": {
    "collapsed": false
   },
   "outputs": [
    {
     "name": "stdout",
     "output_type": "stream",
     "text": [
      "PUT => http://localhost:5000/reviews/1/team?test=True\n"
     ]
    },
    {
     "data": {
      "text/plain": [
       "[{'created_at': '2016-09-29T23:52:27.781970+00:00',\n",
       "  'email': 'burtdewilde@gmail.com',\n",
       "  'id': 1,\n",
       "  'is_owner': True,\n",
       "  'name': 'Burton DeWilde'},\n",
       " {'created_at': '2016-09-29T23:52:28.076214+00:00',\n",
       "  'email': 'rayshah@thinkdesign.com',\n",
       "  'id': 2,\n",
       "  'name': 'Ray Shah'},\n",
       " {'created_at': '2016-09-29T23:52:28.368038+00:00',\n",
       "  'email': 'caugustin@rsmas.miami.edu',\n",
       "  'id': 3,\n",
       "  'name': 'Caitlin Augustin'},\n",
       " {'created_at': '2016-09-29T23:52:28.665651+00:00',\n",
       "  'email': 'rcm2164@columbia.edu',\n",
       "  'id': 4,\n",
       "  'name': 'Bob Minnich'},\n",
       " {'created_at': '2016-09-29T23:52:28.965896+00:00',\n",
       "  'email': 'samanzaroot@gmail.com',\n",
       "  'id': 5,\n",
       "  'name': 'Sam Anzaroot'}]"
      ]
     },
     "execution_count": 29,
     "metadata": {},
     "output_type": "execute_result"
    }
   ],
   "source": [
    "call_endpoint('PUT', 'reviews/{id}/team'.format(id=1),\n",
    "              json={'user_id': 2, 'action': 'add'},\n",
    "              params={'test': True},\n",
    "              auth=auth)"
   ]
  },
  {
   "cell_type": "code",
   "execution_count": 30,
   "metadata": {
    "collapsed": false
   },
   "outputs": [
    {
     "name": "stdout",
     "output_type": "stream",
     "text": [
      "PUT => http://localhost:5000/reviews/1/team?test=True\n"
     ]
    },
    {
     "data": {
      "text/plain": [
       "[{'created_at': '2016-09-29T23:52:27.781970+00:00',\n",
       "  'email': 'burtdewilde@gmail.com',\n",
       "  'id': 1,\n",
       "  'is_owner': True,\n",
       "  'name': 'Burton DeWilde'},\n",
       " {'created_at': '2016-09-29T23:52:28.076214+00:00',\n",
       "  'email': 'rayshah@thinkdesign.com',\n",
       "  'id': 2,\n",
       "  'name': 'Ray Shah'},\n",
       " {'created_at': '2016-09-29T23:52:28.368038+00:00',\n",
       "  'email': 'caugustin@rsmas.miami.edu',\n",
       "  'id': 3,\n",
       "  'name': 'Caitlin Augustin'},\n",
       " {'created_at': '2016-09-29T23:52:28.665651+00:00',\n",
       "  'email': 'rcm2164@columbia.edu',\n",
       "  'id': 4,\n",
       "  'name': 'Bob Minnich'},\n",
       " {'created_at': '2016-09-29T23:52:28.965896+00:00',\n",
       "  'email': 'samanzaroot@gmail.com',\n",
       "  'id': 5,\n",
       "  'name': 'Sam Anzaroot'}]"
      ]
     },
     "execution_count": 30,
     "metadata": {},
     "output_type": "execute_result"
    }
   ],
   "source": [
    "call_endpoint('PUT', 'reviews/{id}/team'.format(id=1),\n",
    "              json={'user_id': 2, 'action': 'remove'},\n",
    "              params={'test': True},\n",
    "              auth=auth)"
   ]
  },
  {
   "cell_type": "markdown",
   "metadata": {
    "collapsed": true
   },
   "source": [
    "### assign user as new review owner\n",
    "\n",
    "input: review id, user id, action = 'make_owner'\n",
    "\n",
    "output: updated list of users on the review"
   ]
  },
  {
   "cell_type": "code",
   "execution_count": 36,
   "metadata": {
    "collapsed": false
   },
   "outputs": [
    {
     "name": "stdout",
     "output_type": "stream",
     "text": [
      "PUT => http://localhost:5000/reviews/1/team?test=True\n"
     ]
    },
    {
     "data": {
      "text/plain": [
       "[{'created_at': '2016-09-29T23:52:27.781970+00:00',\n",
       "  'email': 'burtdewilde@gmail.com',\n",
       "  'id': 1,\n",
       "  'is_owner': True,\n",
       "  'name': 'Burton DeWilde'},\n",
       " {'created_at': '2016-09-29T23:52:28.076214+00:00',\n",
       "  'email': 'rayshah@thinkdesign.com',\n",
       "  'id': 2,\n",
       "  'name': 'Ray Shah'},\n",
       " {'created_at': '2016-09-29T23:52:28.368038+00:00',\n",
       "  'email': 'caugustin@rsmas.miami.edu',\n",
       "  'id': 3,\n",
       "  'name': 'Caitlin Augustin'},\n",
       " {'created_at': '2016-09-29T23:52:28.665651+00:00',\n",
       "  'email': 'rcm2164@columbia.edu',\n",
       "  'id': 4,\n",
       "  'name': 'Bob Minnich'},\n",
       " {'created_at': '2016-09-29T23:52:28.965896+00:00',\n",
       "  'email': 'samanzaroot@gmail.com',\n",
       "  'id': 5,\n",
       "  'name': 'Sam Anzaroot'}]"
      ]
     },
     "execution_count": 36,
     "metadata": {},
     "output_type": "execute_result"
    }
   ],
   "source": [
    "call_endpoint('PUT', 'reviews/{id}/team'.format(id=1),\n",
    "              json={'user_id': 2, 'action': 'make_owner'},\n",
    "              params={'test': True},\n",
    "              auth=auth)"
   ]
  },
  {
   "cell_type": "markdown",
   "metadata": {
    "collapsed": true
   },
   "source": [
    "---\n",
    "\n",
    "## REVIEW PLANS\n",
    "\n",
    "### get a review plan\n",
    "\n",
    "input: review id, optional fields to return\n",
    "\n",
    "output: review plan"
   ]
  },
  {
   "cell_type": "code",
   "execution_count": 32,
   "metadata": {
    "collapsed": false
   },
   "outputs": [
    {
     "name": "stdout",
     "output_type": "stream",
     "text": [
      "GET => http://localhost:5000/reviews/1/plan\n"
     ]
    },
    {
     "data": {
      "text/plain": [
       "{'data_extraction_form': {},\n",
       " 'id': 1,\n",
       " 'keyterms': [{'group': 'outcome',\n",
       "   'synonyms': ['well-being', 'well being'],\n",
       "   'term': 'wellbeing'},\n",
       "  {'group': 'outcome',\n",
       "   'synonyms': ['ecosystem services'],\n",
       "   'term': 'ecosystem service'},\n",
       "  {'group': 'outcome', 'synonyms': [], 'term': 'nutrition'},\n",
       "  {'group': 'outcome', 'synonyms': ['skills'], 'term': 'skill'},\n",
       "  {'group': 'outcome', 'synonyms': ['empowering'], 'term': 'empower'},\n",
       "  {'group': 'outcome', 'synonyms': ['livelihood'], 'term': 'clean water'},\n",
       "  {'group': 'outcome', 'synonyms': ['food security'], 'term': 'livelihoods'},\n",
       "  {'group': 'outcome', 'synonyms': ['vulnerability'], 'term': 'resilience'},\n",
       "  {'group': 'outcome', 'synonyms': ['social capital'], 'term': 'capital'},\n",
       "  {'group': 'outcome', 'synonyms': ['attitudes'], 'term': 'attitude'},\n",
       "  {'group': 'outcome', 'synonyms': ['perceptions'], 'term': 'perception'},\n",
       "  {'group': 'outcome', 'synonyms': ['human health'], 'term': 'health'},\n",
       "  {'group': 'outcome', 'synonyms': ['knowledge'], 'term': 'human capital'},\n",
       "  {'group': 'outcome', 'synonyms': [], 'term': 'traditional knowledge'},\n",
       "  {'group': 'intervention qualifiers',\n",
       "   'synonyms': ['freshwater'],\n",
       "   'term': 'marine'},\n",
       "  {'group': 'intervention qualifiers', 'synonyms': [], 'term': 'coastal'},\n",
       "  {'group': 'intervention qualifiers',\n",
       "   'synonyms': ['forests', 'forestry'],\n",
       "   'term': 'forest'},\n",
       "  {'group': 'intervention qualifiers',\n",
       "   'synonyms': ['ecosystems'],\n",
       "   'term': 'ecosystem'},\n",
       "  {'group': 'intervention qualifiers', 'synonyms': [], 'term': 'species'},\n",
       "  {'group': 'intervention qualifiers',\n",
       "   'synonyms': ['habitats'],\n",
       "   'term': 'habitat'},\n",
       "  {'group': 'intervention qualifiers', 'synonyms': [], 'term': 'biodiversity'},\n",
       "  {'group': 'intervention qualifiers',\n",
       "   'synonyms': ['sustainability'],\n",
       "   'term': 'sustainable'},\n",
       "  {'group': 'intervention qualifiers',\n",
       "   'synonyms': ['ecological'],\n",
       "   'term': 'ecology'},\n",
       "  {'group': 'intervention qualifiers', 'synonyms': [], 'term': 'integrated'},\n",
       "  {'group': 'intervention qualifiers', 'synonyms': [], 'term': 'landscape'},\n",
       "  {'group': 'intervention qualifiers', 'synonyms': [], 'term': 'seascape'},\n",
       "  {'group': 'intervention qualifiers',\n",
       "   'synonyms': ['coral reefs'],\n",
       "   'term': 'coral reef'},\n",
       "  {'group': 'intervention qualifiers',\n",
       "   'synonyms': ['natural resource'],\n",
       "   'term': 'natural resources'},\n",
       "  {'group': 'outcome qualifiers',\n",
       "   'synonyms': ['humans', 'humanity'],\n",
       "   'term': 'human'},\n",
       "  {'group': 'outcome qualifiers', 'synonyms': [], 'term': 'people'},\n",
       "  {'group': 'outcome qualifiers', 'synonyms': ['persons'], 'term': 'person'},\n",
       "  {'group': 'outcome qualifiers',\n",
       "   'synonyms': ['communities'],\n",
       "   'term': 'community'},\n",
       "  {'group': 'outcome qualifiers',\n",
       "   'synonyms': ['households'],\n",
       "   'term': 'household'},\n",
       "  {'group': 'outcome qualifiers',\n",
       "   'synonyms': ['fisherman'],\n",
       "   'term': 'fishermen'},\n",
       "  {'group': 'outcome qualifiers', 'synonyms': [], 'term': 'collaborative'},\n",
       "  {'group': 'intervention', 'synonyms': [], 'term': 'conservation'},\n",
       "  {'group': 'intervention', 'synonyms': [], 'term': 'conserve'},\n",
       "  {'group': 'intervention', 'synonyms': [], 'term': 'conservancy'},\n",
       "  {'group': 'intervention',\n",
       "   'synonyms': ['protects', 'protection'],\n",
       "   'term': 'protect'},\n",
       "  {'group': 'intervention', 'synonyms': [], 'term': 'management'},\n",
       "  {'group': 'intervention', 'synonyms': [], 'term': 'awareness'},\n",
       "  {'group': 'intervention', 'synonyms': ['laws'], 'term': 'law'},\n",
       "  {'group': 'intervention', 'synonyms': ['policy-making'], 'term': 'policy'},\n",
       "  {'group': 'intervention', 'synonyms': [], 'term': 'reserve'},\n",
       "  {'group': 'intervention',\n",
       "   'synonyms': ['governs', 'government'],\n",
       "   'term': 'govern'},\n",
       "  {'group': 'intervention',\n",
       "   'synonyms': ['capacity-building', 'capacity building'],\n",
       "   'term': 'capacity-build'},\n",
       "  {'group': 'intervention',\n",
       "   'synonyms': ['tarins', 'training'],\n",
       "   'term': 'train'},\n",
       "  {'group': 'intervention', 'synonyms': [], 'term': 'PES'},\n",
       "  {'group': 'intervention', 'synonyms': ['eco-tourism'], 'term': 'ecotourism'},\n",
       "  {'group': 'intervention', 'synonyms': [], 'term': 'sustainable use'}],\n",
       " 'objective': 'To assess and characterize the current state and distribution of the existing evidence base around the causal linkages between both positive and negative effects of nature conservation and human well-being.',\n",
       " 'pico': {'intervention': 'Adoption or implementation of nature conservation interventions',\n",
       "  'outcome': 'Positive or negative effects on the multi-dimensional well-being status of human populations',\n",
       "  'population': 'Human populations, including individuals, households, communities or nation states in non-OECD countries'},\n",
       " 'review_id': 1,\n",
       " 'selection_criteria': [{'description': 'individuals, households, or communities must be in non-OECD countries',\n",
       "   'label': 'location'},\n",
       "  {'description': 'studies must include discrete populations and not undefined groups or populations',\n",
       "   'label': 'undefined pop.'},\n",
       "  {'description': \"study must document or measure people's specific and discrete external interventions, not daily use\",\n",
       "   'label': 'intervention type'},\n",
       "  {'description': 'study must focus on establishment, adoption, or implementation of regulation, protection, or management of natural ecosystems through in-situ activities',\n",
       "   'label': 'in-situ'},\n",
       "  {'label': 'outcome'}]}"
      ]
     },
     "execution_count": 32,
     "metadata": {},
     "output_type": "execute_result"
    }
   ],
   "source": [
    "call_endpoint('GET', 'reviews/{id}/plan'.format(id=1), auth=auth)"
   ]
  },
  {
   "cell_type": "markdown",
   "metadata": {},
   "source": [
    "### add or modify parts of a review plan\n",
    "\n",
    "input: review id, field: value pairs to modify\n",
    "\n",
    "output: modified review plan"
   ]
  },
  {
   "cell_type": "code",
   "execution_count": 40,
   "metadata": {
    "collapsed": false
   },
   "outputs": [
    {
     "name": "stdout",
     "output_type": "stream",
     "text": [
      "PUT => http://localhost:5000/reviews/1/plan?test=True\n"
     ]
    },
    {
     "data": {
      "text/plain": [
       "{'data_extraction_form': {},\n",
       " 'id': 1,\n",
       " 'keyterms': [{'group': 'outcome',\n",
       "   'synonyms': ['well-being', 'well being'],\n",
       "   'term': 'wellbeing'},\n",
       "  {'group': 'outcome',\n",
       "   'synonyms': ['ecosystem services'],\n",
       "   'term': 'ecosystem service'},\n",
       "  {'group': 'outcome', 'synonyms': [], 'term': 'nutrition'},\n",
       "  {'group': 'outcome', 'synonyms': ['skills'], 'term': 'skill'},\n",
       "  {'group': 'outcome', 'synonyms': ['empowering'], 'term': 'empower'},\n",
       "  {'group': 'outcome', 'synonyms': ['livelihood'], 'term': 'clean water'},\n",
       "  {'group': 'outcome', 'synonyms': ['food security'], 'term': 'livelihoods'},\n",
       "  {'group': 'outcome', 'synonyms': ['vulnerability'], 'term': 'resilience'},\n",
       "  {'group': 'outcome', 'synonyms': ['social capital'], 'term': 'capital'},\n",
       "  {'group': 'outcome', 'synonyms': ['attitudes'], 'term': 'attitude'},\n",
       "  {'group': 'outcome', 'synonyms': ['perceptions'], 'term': 'perception'},\n",
       "  {'group': 'outcome', 'synonyms': ['human health'], 'term': 'health'},\n",
       "  {'group': 'outcome', 'synonyms': ['knowledge'], 'term': 'human capital'},\n",
       "  {'group': 'outcome', 'synonyms': [], 'term': 'traditional knowledge'},\n",
       "  {'group': 'intervention qualifiers',\n",
       "   'synonyms': ['freshwater'],\n",
       "   'term': 'marine'},\n",
       "  {'group': 'intervention qualifiers', 'synonyms': [], 'term': 'coastal'},\n",
       "  {'group': 'intervention qualifiers',\n",
       "   'synonyms': ['forests', 'forestry'],\n",
       "   'term': 'forest'},\n",
       "  {'group': 'intervention qualifiers',\n",
       "   'synonyms': ['ecosystems'],\n",
       "   'term': 'ecosystem'},\n",
       "  {'group': 'intervention qualifiers', 'synonyms': [], 'term': 'species'},\n",
       "  {'group': 'intervention qualifiers',\n",
       "   'synonyms': ['habitats'],\n",
       "   'term': 'habitat'},\n",
       "  {'group': 'intervention qualifiers', 'synonyms': [], 'term': 'biodiversity'},\n",
       "  {'group': 'intervention qualifiers',\n",
       "   'synonyms': ['sustainability'],\n",
       "   'term': 'sustainable'},\n",
       "  {'group': 'intervention qualifiers',\n",
       "   'synonyms': ['ecological'],\n",
       "   'term': 'ecology'},\n",
       "  {'group': 'intervention qualifiers', 'synonyms': [], 'term': 'integrated'},\n",
       "  {'group': 'intervention qualifiers', 'synonyms': [], 'term': 'landscape'},\n",
       "  {'group': 'intervention qualifiers', 'synonyms': [], 'term': 'seascape'},\n",
       "  {'group': 'intervention qualifiers',\n",
       "   'synonyms': ['coral reefs'],\n",
       "   'term': 'coral reef'},\n",
       "  {'group': 'intervention qualifiers',\n",
       "   'synonyms': ['natural resource'],\n",
       "   'term': 'natural resources'},\n",
       "  {'group': 'outcome qualifiers',\n",
       "   'synonyms': ['humans', 'humanity'],\n",
       "   'term': 'human'},\n",
       "  {'group': 'outcome qualifiers', 'synonyms': [], 'term': 'people'},\n",
       "  {'group': 'outcome qualifiers', 'synonyms': ['persons'], 'term': 'person'},\n",
       "  {'group': 'outcome qualifiers',\n",
       "   'synonyms': ['communities'],\n",
       "   'term': 'community'},\n",
       "  {'group': 'outcome qualifiers',\n",
       "   'synonyms': ['households'],\n",
       "   'term': 'household'},\n",
       "  {'group': 'outcome qualifiers',\n",
       "   'synonyms': ['fisherman'],\n",
       "   'term': 'fishermen'},\n",
       "  {'group': 'outcome qualifiers', 'synonyms': [], 'term': 'collaborative'},\n",
       "  {'group': 'intervention', 'synonyms': [], 'term': 'conservation'},\n",
       "  {'group': 'intervention', 'synonyms': [], 'term': 'conserve'},\n",
       "  {'group': 'intervention', 'synonyms': [], 'term': 'conservancy'},\n",
       "  {'group': 'intervention',\n",
       "   'synonyms': ['protects', 'protection'],\n",
       "   'term': 'protect'},\n",
       "  {'group': 'intervention', 'synonyms': [], 'term': 'management'},\n",
       "  {'group': 'intervention', 'synonyms': [], 'term': 'awareness'},\n",
       "  {'group': 'intervention', 'synonyms': ['laws'], 'term': 'law'},\n",
       "  {'group': 'intervention', 'synonyms': ['policy-making'], 'term': 'policy'},\n",
       "  {'group': 'intervention', 'synonyms': [], 'term': 'reserve'},\n",
       "  {'group': 'intervention',\n",
       "   'synonyms': ['governs', 'government'],\n",
       "   'term': 'govern'},\n",
       "  {'group': 'intervention',\n",
       "   'synonyms': ['capacity-building', 'capacity building'],\n",
       "   'term': 'capacity-build'},\n",
       "  {'group': 'intervention',\n",
       "   'synonyms': ['tarins', 'training'],\n",
       "   'term': 'train'},\n",
       "  {'group': 'intervention', 'synonyms': [], 'term': 'PES'},\n",
       "  {'group': 'intervention', 'synonyms': ['eco-tourism'], 'term': 'ecotourism'},\n",
       "  {'group': 'intervention', 'synonyms': [], 'term': 'sustainable use'}],\n",
       " 'objective': 'To assess and characterize the current state and distribution of the existing evidence base around the causal linkages between both positive and negative effects of nature conservation and human well-being.',\n",
       " 'pico': {'intervention': 'Adoption or implementation of nature conservation interventions',\n",
       "  'outcome': 'Positive or negative effects on the multi-dimensional well-being status of human populations',\n",
       "  'population': 'Human populations, including individuals, households, communities or nation states in non-OECD countries'},\n",
       " 'review_id': 1,\n",
       " 'selection_criteria': [{'description': 'individuals, households, or communities must be in non-OECD countries',\n",
       "   'label': 'location'},\n",
       "  {'description': 'studies must include discrete populations and not undefined groups or populations',\n",
       "   'label': 'undefined pop.'},\n",
       "  {'description': \"study must document or measure people's specific and discrete external interventions, not daily use\",\n",
       "   'label': 'intervention type'},\n",
       "  {'description': 'study must focus on establishment, adoption, or implementation of regulation, protection, or management of natural ecosystems through in-situ activities',\n",
       "   'label': 'in-situ'},\n",
       "  {'label': 'outcome'}]}"
      ]
     },
     "execution_count": 40,
     "metadata": {},
     "output_type": "execute_result"
    }
   ],
   "source": [
    "review_plan = {\n",
    "    'outcome': 'foo bar bat baz',\n",
    "    'pico': {'population': 'lots of people',\n",
    "             'intervention': 'we did a thing',\n",
    "             'comparison': 'we did not do a thing',\n",
    "             'outcome': 'things got better'}\n",
    "    }\n",
    "\n",
    "call_endpoint('PUT', 'reviews/{id}/plan'.format(id=1),\n",
    "              json=review_plan,\n",
    "              params={'test': True},\n",
    "              auth=auth)"
   ]
  },
  {
   "cell_type": "markdown",
   "metadata": {},
   "source": [
    "### delete an entire review plan\n",
    "\n",
    "although why you would ever do this, I don't know... in fact we probably don't want to enable a \"clear\" option on this screen. nevertheless!\n",
    "\n",
    "input: review id\n",
    "\n",
    "output: nothing"
   ]
  },
  {
   "cell_type": "code",
   "execution_count": 41,
   "metadata": {
    "collapsed": false
   },
   "outputs": [
    {
     "name": "stdout",
     "output_type": "stream",
     "text": [
      "DELETE => http://localhost:5000/reviews/1/plan?test=True\n"
     ]
    }
   ],
   "source": [
    "call_endpoint('DELETE', 'reviews/{id}/plan'.format(id=1), auth=auth,\n",
    "              params={'test': True})"
   ]
  },
  {
   "cell_type": "code",
   "execution_count": null,
   "metadata": {
    "collapsed": true
   },
   "outputs": [],
   "source": []
  },
  {
   "cell_type": "code",
   "execution_count": null,
   "metadata": {
    "collapsed": true
   },
   "outputs": [],
   "source": []
  },
  {
   "cell_type": "code",
   "execution_count": null,
   "metadata": {
    "collapsed": true
   },
   "outputs": [],
   "source": []
  },
  {
   "cell_type": "markdown",
   "metadata": {},
   "source": [
    "---\n",
    "\n",
    "## Populate the Database"
   ]
  },
  {
   "cell_type": "markdown",
   "metadata": {},
   "source": [
    "### Register new users via `POST` to `/users`"
   ]
  },
  {
   "cell_type": "code",
   "execution_count": 85,
   "metadata": {
    "collapsed": true
   },
   "outputs": [],
   "source": [
    "test = False\n",
    "users_to_post = [\n",
    "    {'name': 'Burton DeWilde', 'email': 'burtdewilde@gmail.com', 'password': 'password', 'test': test},\n",
    "    {'name': 'Ray Shah', 'email': 'rayshah@thinkdesign.com', 'password': 'password', 'test': test},\n",
    "    {'name': 'Caitlin Augustin', 'email': 'caugustin@rsmas.miami.edu', 'password': 'password', 'test': test},\n",
    "    {'name': 'Bob Minnich', 'email': 'rcm2164@columbia.edu', 'password': 'password', 'test': test},\n",
    "    {'name': 'Sam Anzaroot', 'email': 'samanzaroot@gmail.com', 'password': 'password', 'test': test}]"
   ]
  },
  {
   "cell_type": "code",
   "execution_count": 86,
   "metadata": {
    "collapsed": false,
    "scrolled": false
   },
   "outputs": [
    {
     "name": "stdout",
     "output_type": "stream",
     "text": [
      "http://localhost:5000/users\n",
      "{'created_at': '2016-09-25T02:55:08.966457+00:00',\n",
      " 'email': 'burtdewilde@gmail.com',\n",
      " 'id': 1,\n",
      " 'name': 'Burton DeWilde'}\n",
      "http://localhost:5000/users\n",
      "{'created_at': '2016-09-25T02:55:09.247314+00:00',\n",
      " 'email': 'rayshah@thinkdesign.com',\n",
      " 'id': 2,\n",
      " 'name': 'Ray Shah'}\n",
      "http://localhost:5000/users\n",
      "{'created_at': '2016-09-25T02:55:09.533289+00:00',\n",
      " 'email': 'caugustin@rsmas.miami.edu',\n",
      " 'id': 3,\n",
      " 'name': 'Caitlin Augustin'}\n",
      "http://localhost:5000/users\n",
      "{'created_at': '2016-09-25T02:55:09.813172+00:00',\n",
      " 'email': 'rcm2164@columbia.edu',\n",
      " 'id': 4,\n",
      " 'name': 'Bob Minnich'}\n",
      "http://localhost:5000/users\n",
      "{'created_at': '2016-09-25T02:55:10.110419+00:00',\n",
      " 'email': 'samanzaroot@gmail.com',\n",
      " 'id': 5,\n",
      " 'name': 'Sam Anzaroot'}\n"
     ]
    }
   ],
   "source": [
    "for user_to_post in users_to_post:\n",
    "    user = call_endpoint('users', 'post', json=user_to_post)\n",
    "    pprint(user)"
   ]
  },
  {
   "cell_type": "markdown",
   "metadata": {},
   "source": [
    "### Authenticate the current user against an existing user"
   ]
  },
  {
   "cell_type": "code",
   "execution_count": 87,
   "metadata": {
    "collapsed": false
   },
   "outputs": [
    {
     "name": "stdout",
     "output_type": "stream",
     "text": [
      "http://localhost:5000/authtoken\n"
     ]
    }
   ],
   "source": [
    "auth = get_auth_token('burtdewilde@gmail.com', 'password')"
   ]
  },
  {
   "cell_type": "markdown",
   "metadata": {},
   "source": [
    "### Create new reviews via `POST` to `/reviews`"
   ]
  },
  {
   "cell_type": "code",
   "execution_count": 88,
   "metadata": {
    "collapsed": false
   },
   "outputs": [],
   "source": [
    "test = False\n",
    "reviews_to_post = [\n",
    "    {'name': 'Conservation International Demo',\n",
    "     'description': 'International policy has sought to emphasize and strengthen the link between the conservation of natural ecosystems and human development. Furthermore, international conservation organizations have broadened their objectives beyond nature-based goals to recognize the contribution of conservation interventions in sustaining ecosystem services upon which human populations are dependent. While many indices have been developed to measure various human well-being domains, the strength of evidence to support the effects, both positive and negative, of conservation interventions on human well-being, is still unclear.\\n\\nThis protocol describes the methodology for examining the research question: What are the impacts of nature conservation interventions on different domains of human well-being in developing countries? Using systematic mapping, this study will scope and identify studies that measure the impacts of nature conservation interventions on human well-being at local to regional scales. The primary objective of this study is to synthesize the state and distribution of the existing evidence base linking conservation and human well-being. In addition, a theory of change approach will be used to identify and characterize the causal linkages between conservation and human well-being, with attention on those studies that examine the role of ecosystem services. Key trends among the resulting studies will be synthesized and the range of studies organized and presented in a graphical matrix illustrating the relationships between types of interventions and types of outcomes. Results of the study are intended to help conservation and development practitioners and the academic community to improve research studies and conservation practices in developing countries in order to achieve both conservation and human well-being outcomes.',\n",
    "     'test': test},\n",
    "    {'name': \"Burton's Great Systematic Review\",\n",
    "     'description': 'I do great systematic reviews. Really, really great.',\n",
    "     'test': test}]"
   ]
  },
  {
   "cell_type": "code",
   "execution_count": 89,
   "metadata": {
    "collapsed": false,
    "scrolled": true
   },
   "outputs": [
    {
     "name": "stdout",
     "output_type": "stream",
     "text": [
      "http://localhost:5000/reviews\n",
      "{'created_at': '2016-09-25T02:55:10.416993+00:00',\n",
      " 'description': 'International policy has sought to emphasize and strengthen '\n",
      "                'the link between the conservation of natural ecosystems and '\n",
      "                'human development. Furthermore, international conservation '\n",
      "                'organizations have broadened their objectives beyond '\n",
      "                'nature-based goals to recognize the contribution of '\n",
      "                'conservation interventions in sustaining ecosystem services '\n",
      "                'upon which human populations are dependent. While many '\n",
      "                'indices have been developed to measure various human '\n",
      "                'well-being domains, the strength of evidence to support the '\n",
      "                'effects, both positive and negative, of conservation '\n",
      "                'interventions on human well-being, is still unclear.\\n'\n",
      "                '\\n'\n",
      "                'This protocol describes the methodology for examining the '\n",
      "                'research question: What are the impacts of nature '\n",
      "                'conservation interventions on different domains of human '\n",
      "                'well-being in developing countries? Using systematic mapping, '\n",
      "                'this study will scope and identify studies that measure the '\n",
      "                'impacts of nature conservation interventions on human '\n",
      "                'well-being at local to regional scales. The primary objective '\n",
      "                'of this study is to synthesize the state and distribution of '\n",
      "                'the existing evidence base linking conservation and human '\n",
      "                'well-being. In addition, a theory of change approach will be '\n",
      "                'used to identify and characterize the causal linkages between '\n",
      "                'conservation and human well-being, with attention on those '\n",
      "                'studies that examine the role of ecosystem services. Key '\n",
      "                'trends among the resulting studies will be synthesized and '\n",
      "                'the range of studies organized and presented in a graphical '\n",
      "                'matrix illustrating the relationships between types of '\n",
      "                'interventions and types of outcomes. Results of the study are '\n",
      "                'intended to help conservation and development practitioners '\n",
      "                'and the academic community to improve research studies and '\n",
      "                'conservation practices in developing countries in order to '\n",
      "                'achieve both conservation and human well-being outcomes.',\n",
      " 'id': 1,\n",
      " 'name': 'Conservation International Demo',\n",
      " 'num_citation_screening_reviewers': 1,\n",
      " 'num_fulltext_screening_reviewers': 1,\n",
      " 'owner_user_id': 1,\n",
      " 'status': 'active'}\n",
      "http://localhost:5000/reviews\n",
      "{'created_at': '2016-09-25T02:55:10.439184+00:00',\n",
      " 'description': 'I do great systematic reviews. Really, really great.',\n",
      " 'id': 2,\n",
      " 'name': \"Burton's Great Systematic Review\",\n",
      " 'num_citation_screening_reviewers': 1,\n",
      " 'num_fulltext_screening_reviewers': 1,\n",
      " 'owner_user_id': 1,\n",
      " 'status': 'active'}\n"
     ]
    }
   ],
   "source": [
    "for review_to_post in reviews_to_post:\n",
    "    review = call_endpoint('reviews', 'post', json=review_to_post, auth=auth)\n",
    "    pprint(review)"
   ]
  },
  {
   "cell_type": "markdown",
   "metadata": {},
   "source": [
    "### Modify reviews via `PUT` to `/reviews/<id>`\n",
    "\n",
    "Here, we require two reviewers per citation."
   ]
  },
  {
   "cell_type": "code",
   "execution_count": 90,
   "metadata": {
    "collapsed": false
   },
   "outputs": [
    {
     "name": "stdout",
     "output_type": "stream",
     "text": [
      "http://localhost:5000/reviews/1\n"
     ]
    },
    {
     "data": {
      "text/plain": [
       "{'created_at': '2016-09-25T02:55:10.416993+00:00',\n",
       " 'description': 'International policy has sought to emphasize and strengthen the link between the conservation of natural ecosystems and human development. Furthermore, international conservation organizations have broadened their objectives beyond nature-based goals to recognize the contribution of conservation interventions in sustaining ecosystem services upon which human populations are dependent. While many indices have been developed to measure various human well-being domains, the strength of evidence to support the effects, both positive and negative, of conservation interventions on human well-being, is still unclear.\\n\\nThis protocol describes the methodology for examining the research question: What are the impacts of nature conservation interventions on different domains of human well-being in developing countries? Using systematic mapping, this study will scope and identify studies that measure the impacts of nature conservation interventions on human well-being at local to regional scales. The primary objective of this study is to synthesize the state and distribution of the existing evidence base linking conservation and human well-being. In addition, a theory of change approach will be used to identify and characterize the causal linkages between conservation and human well-being, with attention on those studies that examine the role of ecosystem services. Key trends among the resulting studies will be synthesized and the range of studies organized and presented in a graphical matrix illustrating the relationships between types of interventions and types of outcomes. Results of the study are intended to help conservation and development practitioners and the academic community to improve research studies and conservation practices in developing countries in order to achieve both conservation and human well-being outcomes.',\n",
       " 'id': 1,\n",
       " 'name': 'Conservation International Demo',\n",
       " 'num_citation_screening_reviewers': 2,\n",
       " 'num_fulltext_screening_reviewers': 1,\n",
       " 'owner_user_id': 1,\n",
       " 'status': 'active'}"
      ]
     },
     "execution_count": 90,
     "metadata": {},
     "output_type": "execute_result"
    }
   ],
   "source": [
    "call_endpoint('reviews/1', 'put',\n",
    "              json={'num_citation_screening_reviewers': 2, 'test': False},\n",
    "              auth=auth)"
   ]
  },
  {
   "cell_type": "markdown",
   "metadata": {},
   "source": [
    "### Add review plans via `POST` to `/reviews/<id>/plan`"
   ]
  },
  {
   "cell_type": "code",
   "execution_count": 91,
   "metadata": {
    "collapsed": false
   },
   "outputs": [],
   "source": [
    "test = False\n",
    "reviewplans_to_post = [\n",
    "    {'test': test,\n",
    "     'review_id': 1,\n",
    "     'objective': 'To assess and characterize the current state and distribution of the existing evidence base around the causal linkages between both positive and negative effects of nature conservation and human well-being.',\n",
    "     'research_questions': [\n",
    "            \"What are the impacts of nature conservation interventions on different domains of human well-being in developing countries?\",\n",
    "            \"What is the current state and distribution of evidence?\",\n",
    "            \"What types of impacts from conservation interventions on human well-being are measured?\",\n",
    "            \"What types of ecosystem services are explicitly associated with the impacts of conservation interventions on human well-being?\",\n",
    "            \"What populations are affected by conservation and/ or focus of studies?\",\n",
    "            \"How does the evidence base align with major priorities and investments of implementing agencies?\",\n",
    "            ],\n",
    "     'pico': {\n",
    "            \"population\": \"Human populations, including individuals, households, communities or nation states in non-OECD countries\",\n",
    "            \"intervention\": \"Adoption or implementation of nature conservation interventions\",\n",
    "            \"comparator\": \"No use of nature conservation interventions either between sites or groups, or over time series (before/after)\",\n",
    "            \"outcome\": \"Positive or negative effects on the multi-dimensional well-being status of human populations\",\n",
    "            },\n",
    "     'keyterms': [\n",
    "            {\"term\": \"wellbeing\", \"group\": \"outcome\", \"synonyms\": [\"well-being\", \"well being\"]},\n",
    "            {\"term\": \"ecosystem service\", \"group\": \"outcome\", \"synonyms\": [\"ecosystem services\"]},\n",
    "            {\"term\": \"nutrition\", \"group\": \"outcome\"},\n",
    "            {\"term\": \"skill\", \"group\": \"outcome\", \"synonyms\": [\"skills\"]},\n",
    "            {\"term\": \"empower\", \"group\": \"outcome\", \"synonyms\": [\"empowering\"]},\n",
    "            {\"term\": \"clean water\", \"group\": \"outcome\", \"synonyms\": [\"livelihood\"]},\n",
    "            {\"term\": \"livelihoods\", \"group\": \"outcome\", \"synonyms\": [\"food security\"]},\n",
    "            {\"term\": \"resilience\", \"group\": \"outcome\", \"synonyms\": [\"vulnerability\"]},\n",
    "            {\"term\": \"capital\", \"group\": \"outcome\", \"synonyms\": [\"social capital\"]},\n",
    "            {\"term\": \"attitude\", \"group\": \"outcome\", \"synonyms\": [\"attitudes\"]},\n",
    "            {\"term\": \"perception\", \"group\": \"outcome\", \"synonyms\": [\"perceptions\"]},\n",
    "            {\"term\": \"health\", \"group\": \"outcome\", \"synonyms\": [\"human health\"]},\n",
    "            {\"term\": \"human capital\", \"group\": \"outcome\", \"synonyms\": [\"knowledge\"]},\n",
    "            {\"term\": \"traditional knowledge\", \"group\": \"outcome\"},\n",
    "            {\"term\": \"marine\", \"group\": \"intervention qualifiers\", \"synonyms\": [\"freshwater\"]},\n",
    "            {\"term\": \"coastal\", \"group\": \"intervention qualifiers\"},\n",
    "            {\"term\": \"forest\", \"group\": \"intervention qualifiers\", \"synonyms\": [\"forests\", \"forestry\"]},\n",
    "            {\"term\": \"ecosystem\", \"group\": \"intervention qualifiers\", \"synonyms\": [\"ecosystems\"]},\n",
    "            {\"term\": \"species\", \"group\": \"intervention qualifiers\"},\n",
    "            {\"term\": \"habitat\", \"group\": \"intervention qualifiers\", \"synonyms\": [\"habitats\"]},\n",
    "            {\"term\": \"biodiversity\", \"group\": \"intervention qualifiers\"},\n",
    "            {\"term\": \"sustainable\", \"group\": \"intervention qualifiers\", \"synonyms\": [\"sustainability\"]},\n",
    "            {\"term\": \"ecology\", \"group\": \"intervention qualifiers\", \"synonyms\": [\"ecological\"]},\n",
    "            {\"term\": \"integrated\", \"group\": \"intervention qualifiers\"},\n",
    "            {\"term\": \"landscape\", \"group\": \"intervention qualifiers\"},\n",
    "            {\"term\": \"seascape\", \"group\": \"intervention qualifiers\"},\n",
    "            {\"term\": \"coral reef\", \"group\": \"intervention qualifiers\", \"synonyms\": [\"coral reefs\"]},\n",
    "            {\"term\": \"natural resources\", \"group\": \"intervention qualifiers\", \"synonyms\": [\"natural resource\"]},\n",
    "            {\"term\": \"human\", \"group\": \"outcome qualifiers\", \"synonyms\": [\"humans\", \"humanity\"]},\n",
    "            {\"term\": \"people\", \"group\": \"outcome qualifiers\"},\n",
    "            {\"term\": \"person\", \"group\": \"outcome qualifiers\", \"synonyms\": [\"persons\"]},\n",
    "            {\"term\": \"community\", \"group\": \"outcome qualifiers\", \"synonyms\": [\"communities\"]},\n",
    "            {\"term\": \"household\", \"group\": \"outcome qualifiers\", \"synonyms\": [\"households\"]},\n",
    "            {\"term\": \"fishermen\", \"group\": \"outcome qualifiers\", \"synonyms\": [\"fisherman\"]},\n",
    "            {\"term\": \"collaborative\", \"group\": \"outcome qualifiers\"},\n",
    "            {\"term\": \"conservation\", \"group\": \"intervention\"},\n",
    "            {\"term\": \"conserve\", \"group\": \"intervention\"},\n",
    "            {\"term\": \"conservancy\", \"group\": \"intervention\"},\n",
    "            {\"term\": \"protect\", \"group\": \"intervention\", \"synonyms\": [\"protects\", \"protection\"]},\n",
    "            {\"term\": \"management\", \"group\": \"intervention\"},\n",
    "            {\"term\": \"awareness\", \"group\": \"intervention\"},\n",
    "            {\"term\": \"law\", \"group\": \"intervention\", \"synonyms\": [\"laws\"]},\n",
    "            {\"term\": \"policy\", \"group\": \"intervention\", \"synonyms\": [\"policy-making\"]},\n",
    "            {\"term\": \"reserve\", \"group\": \"intervention\"},\n",
    "            {\"term\": \"govern\", \"group\": \"intervention\", \"synonyms\": [\"governs\", \"government\"]},\n",
    "            {\"term\": \"capacity-build\", \"group\": \"intervention\", \"synonyms\": [\"capacity-building\", \"capacity building\"]},\n",
    "            {\"term\": \"train\", \"group\": \"intervention\", \"synonyms\": [\"tarins\", \"training\"]},\n",
    "            {\"term\": \"PES\", \"group\": \"intervention\"},\n",
    "            {\"term\": \"ecotourism\", \"group\": \"intervention\", \"synonyms\": [\"eco-tourism\"]},\n",
    "            {\"term\": \"sustainable use\", \"group\": \"intervention\"}\n",
    "            ],\n",
    "     'selection_criteria': [\n",
    "            {\"label\": \"location\",\n",
    "             \"description\": \"individuals, households, or communities must be in non-OECD countries\"},\n",
    "            {\"label\": \"undefined pop.\",\n",
    "             \"description\": \"studies must include discrete populations and not undefined groups or populations\"},\n",
    "            {\"label\": \"intervention type\",\n",
    "             \"description\": \"study must document or measure people's specific and discrete external interventions, not daily use\"},\n",
    "            {\"label\": \"in-situ\",\n",
    "             \"description\": \"study must focus on establishment, adoption, or implementation of regulation, protection, or management of natural ecosystems through in-situ activities\"},\n",
    "            {\"label\": \"outcome\",\n",
    "             \"explanation\": \"studies must measure or describe human well-being outcomes, and can't only focus on biophysical outcomes of conservation\"}\n",
    "            ],\n",
    "     }\n",
    "]"
   ]
  },
  {
   "cell_type": "code",
   "execution_count": 92,
   "metadata": {
    "collapsed": false
   },
   "outputs": [
    {
     "name": "stdout",
     "output_type": "stream",
     "text": [
      "http://localhost:5000/reviews/1/plan\n",
      "{'data_extraction_form': {},\n",
      " 'id': 1,\n",
      " 'keyterms': [{'group': 'outcome',\n",
      "               'synonyms': ['well-being', 'well being'],\n",
      "               'term': 'wellbeing'},\n",
      "              {'group': 'outcome',\n",
      "               'synonyms': ['ecosystem services'],\n",
      "               'term': 'ecosystem service'},\n",
      "              {'group': 'outcome', 'synonyms': [], 'term': 'nutrition'},\n",
      "              {'group': 'outcome', 'synonyms': ['skills'], 'term': 'skill'},\n",
      "              {'group': 'outcome',\n",
      "               'synonyms': ['empowering'],\n",
      "               'term': 'empower'},\n",
      "              {'group': 'outcome',\n",
      "               'synonyms': ['livelihood'],\n",
      "               'term': 'clean water'},\n",
      "              {'group': 'outcome',\n",
      "               'synonyms': ['food security'],\n",
      "               'term': 'livelihoods'},\n",
      "              {'group': 'outcome',\n",
      "               'synonyms': ['vulnerability'],\n",
      "               'term': 'resilience'},\n",
      "              {'group': 'outcome',\n",
      "               'synonyms': ['social capital'],\n",
      "               'term': 'capital'},\n",
      "              {'group': 'outcome',\n",
      "               'synonyms': ['attitudes'],\n",
      "               'term': 'attitude'},\n",
      "              {'group': 'outcome',\n",
      "               'synonyms': ['perceptions'],\n",
      "               'term': 'perception'},\n",
      "              {'group': 'outcome',\n",
      "               'synonyms': ['human health'],\n",
      "               'term': 'health'},\n",
      "              {'group': 'outcome',\n",
      "               'synonyms': ['knowledge'],\n",
      "               'term': 'human capital'},\n",
      "              {'group': 'outcome',\n",
      "               'synonyms': [],\n",
      "               'term': 'traditional knowledge'},\n",
      "              {'group': 'intervention qualifiers',\n",
      "               'synonyms': ['freshwater'],\n",
      "               'term': 'marine'},\n",
      "              {'group': 'intervention qualifiers',\n",
      "               'synonyms': [],\n",
      "               'term': 'coastal'},\n",
      "              {'group': 'intervention qualifiers',\n",
      "               'synonyms': ['forests', 'forestry'],\n",
      "               'term': 'forest'},\n",
      "              {'group': 'intervention qualifiers',\n",
      "               'synonyms': ['ecosystems'],\n",
      "               'term': 'ecosystem'},\n",
      "              {'group': 'intervention qualifiers',\n",
      "               'synonyms': [],\n",
      "               'term': 'species'},\n",
      "              {'group': 'intervention qualifiers',\n",
      "               'synonyms': ['habitats'],\n",
      "               'term': 'habitat'},\n",
      "              {'group': 'intervention qualifiers',\n",
      "               'synonyms': [],\n",
      "               'term': 'biodiversity'},\n",
      "              {'group': 'intervention qualifiers',\n",
      "               'synonyms': ['sustainability'],\n",
      "               'term': 'sustainable'},\n",
      "              {'group': 'intervention qualifiers',\n",
      "               'synonyms': ['ecological'],\n",
      "               'term': 'ecology'},\n",
      "              {'group': 'intervention qualifiers',\n",
      "               'synonyms': [],\n",
      "               'term': 'integrated'},\n",
      "              {'group': 'intervention qualifiers',\n",
      "               'synonyms': [],\n",
      "               'term': 'landscape'},\n",
      "              {'group': 'intervention qualifiers',\n",
      "               'synonyms': [],\n",
      "               'term': 'seascape'},\n",
      "              {'group': 'intervention qualifiers',\n",
      "               'synonyms': ['coral reefs'],\n",
      "               'term': 'coral reef'},\n",
      "              {'group': 'intervention qualifiers',\n",
      "               'synonyms': ['natural resource'],\n",
      "               'term': 'natural resources'},\n",
      "              {'group': 'outcome qualifiers',\n",
      "               'synonyms': ['humans', 'humanity'],\n",
      "               'term': 'human'},\n",
      "              {'group': 'outcome qualifiers', 'synonyms': [], 'term': 'people'},\n",
      "              {'group': 'outcome qualifiers',\n",
      "               'synonyms': ['persons'],\n",
      "               'term': 'person'},\n",
      "              {'group': 'outcome qualifiers',\n",
      "               'synonyms': ['communities'],\n",
      "               'term': 'community'},\n",
      "              {'group': 'outcome qualifiers',\n",
      "               'synonyms': ['households'],\n",
      "               'term': 'household'},\n",
      "              {'group': 'outcome qualifiers',\n",
      "               'synonyms': ['fisherman'],\n",
      "               'term': 'fishermen'},\n",
      "              {'group': 'outcome qualifiers',\n",
      "               'synonyms': [],\n",
      "               'term': 'collaborative'},\n",
      "              {'group': 'intervention', 'synonyms': [], 'term': 'conservation'},\n",
      "              {'group': 'intervention', 'synonyms': [], 'term': 'conserve'},\n",
      "              {'group': 'intervention', 'synonyms': [], 'term': 'conservancy'},\n",
      "              {'group': 'intervention',\n",
      "               'synonyms': ['protects', 'protection'],\n",
      "               'term': 'protect'},\n",
      "              {'group': 'intervention', 'synonyms': [], 'term': 'management'},\n",
      "              {'group': 'intervention', 'synonyms': [], 'term': 'awareness'},\n",
      "              {'group': 'intervention', 'synonyms': ['laws'], 'term': 'law'},\n",
      "              {'group': 'intervention',\n",
      "               'synonyms': ['policy-making'],\n",
      "               'term': 'policy'},\n",
      "              {'group': 'intervention', 'synonyms': [], 'term': 'reserve'},\n",
      "              {'group': 'intervention',\n",
      "               'synonyms': ['governs', 'government'],\n",
      "               'term': 'govern'},\n",
      "              {'group': 'intervention',\n",
      "               'synonyms': ['capacity-building', 'capacity building'],\n",
      "               'term': 'capacity-build'},\n",
      "              {'group': 'intervention',\n",
      "               'synonyms': ['tarins', 'training'],\n",
      "               'term': 'train'},\n",
      "              {'group': 'intervention', 'synonyms': [], 'term': 'PES'},\n",
      "              {'group': 'intervention',\n",
      "               'synonyms': ['eco-tourism'],\n",
      "               'term': 'ecotourism'},\n",
      "              {'group': 'intervention',\n",
      "               'synonyms': [],\n",
      "               'term': 'sustainable use'}],\n",
      " 'objective': 'To assess and characterize the current state and distribution '\n",
      "              'of the existing evidence base around the causal linkages '\n",
      "              'between both positive and negative effects of nature '\n",
      "              'conservation and human well-being.',\n",
      " 'pico': {'intervention': 'Adoption or implementation of nature conservation '\n",
      "                          'interventions',\n",
      "          'outcome': 'Positive or negative effects on the multi-dimensional '\n",
      "                     'well-being status of human populations',\n",
      "          'population': 'Human populations, including individuals, households, '\n",
      "                        'communities or nation states in non-OECD countries'},\n",
      " 'review_id': 1,\n",
      " 'selection_criteria': [{'description': 'individuals, households, or '\n",
      "                                        'communities must be in non-OECD '\n",
      "                                        'countries',\n",
      "                         'label': 'location'},\n",
      "                        {'description': 'studies must include discrete '\n",
      "                                        'populations and not undefined groups '\n",
      "                                        'or populations',\n",
      "                         'label': 'undefined pop.'},\n",
      "                        {'description': 'study must document or measure '\n",
      "                                        \"people's specific and discrete \"\n",
      "                                        'external interventions, not daily use',\n",
      "                         'label': 'intervention type'},\n",
      "                        {'description': 'study must focus on establishment, '\n",
      "                                        'adoption, or implementation of '\n",
      "                                        'regulation, protection, or management '\n",
      "                                        'of natural ecosystems through in-situ '\n",
      "                                        'activities',\n",
      "                         'label': 'in-situ'},\n",
      "                        {'label': 'outcome'}]}\n"
     ]
    }
   ],
   "source": [
    "for reviewplan_to_post in reviewplans_to_post:\n",
    "    review_id = reviewplan_to_post.pop('review_id')\n",
    "    reviewplan = call_endpoint(\n",
    "        'reviews/{}/plan'.format(review_id), 'post',\n",
    "        json=reviewplan_to_post, auth=auth)\n",
    "    pprint(reviewplan)"
   ]
  },
  {
   "cell_type": "markdown",
   "metadata": {},
   "source": [
    "### Add (or remove) collaborators to review via `PUT` to `/reviews/<id>/team`"
   ]
  },
  {
   "cell_type": "code",
   "execution_count": 93,
   "metadata": {
    "collapsed": false
   },
   "outputs": [
    {
     "name": "stdout",
     "output_type": "stream",
     "text": [
      "http://localhost:5000/reviews/1/team\n"
     ]
    },
    {
     "data": {
      "text/plain": [
       "[{'created_at': '2016-09-25T02:55:08.966457+00:00',\n",
       "  'email': 'burtdewilde@gmail.com',\n",
       "  'id': 1,\n",
       "  'is_owner': True,\n",
       "  'name': 'Burton DeWilde'},\n",
       " {'created_at': '2016-09-25T02:55:09.247314+00:00',\n",
       "  'email': 'rayshah@thinkdesign.com',\n",
       "  'id': 2,\n",
       "  'name': 'Ray Shah'}]"
      ]
     },
     "execution_count": 93,
     "metadata": {},
     "output_type": "execute_result"
    }
   ],
   "source": [
    "call_endpoint('reviews/1/team', 'put',\n",
    "              json={'user_id': 2, 'action': 'add', 'test': False},\n",
    "              auth=auth)"
   ]
  },
  {
   "cell_type": "markdown",
   "metadata": {},
   "source": [
    "### Upload collections of citations via `POST` (files in request) to `/citations`\n",
    "\n",
    "Let's split it into two files to simulate \"batches\". When it's implemented (soon...), this should kick off separate, asynchronous deduplication threads."
   ]
  },
  {
   "cell_type": "code",
   "execution_count": 94,
   "metadata": {
    "collapsed": false
   },
   "outputs": [
    {
     "name": "stdout",
     "output_type": "stream",
     "text": [
      "http://localhost:5000/citations\n",
      "http://localhost:5000/citations\n"
     ]
    }
   ],
   "source": [
    "test = False\n",
    "filepaths = ['../data/raw/citation_files/ci-full-collection-group1.ris',\n",
    "             '../data/raw/citation_files/ci-full-collection-group2.ris']\n",
    "# filepaths = ['../data/raw/citation_files/ci-full-collection.ris']\n",
    "# filepaths = ['../data/raw/citation_files/ci-full-collection.bib']\n",
    "\n",
    "for filepath in filepaths:\n",
    "    filename = os.path.split(filepath)[-1]\n",
    "    call_endpoint('citations', 'post',\n",
    "                  data={'review_id': 1, 'test': test},\n",
    "                  files={'uploaded_file': (filename, io.open(filepath, mode='rb'))},\n",
    "                  auth=auth)"
   ]
  },
  {
   "cell_type": "markdown",
   "metadata": {
    "collapsed": true
   },
   "source": [
    "### Screen citations via `POST` to `/citations/screenings`\n",
    "\n",
    "Let's simulate a two-reviewer setup, and randomly change screening decisions as well as whether to screen or not.\n",
    "\n",
    "The screenings data was processed from CI's submitted data, is not complete, and given all the database changes, maybe totally wrong. Will update at some point. Meanwhile, it's fine for practice data.\n",
    "\n",
    "**Note:** This process takes a few minutes. In typical usage, a user submits one screening at a time, not 28,000."
   ]
  },
  {
   "cell_type": "code",
   "execution_count": 245,
   "metadata": {
    "collapsed": false
   },
   "outputs": [
    {
     "name": "stdout",
     "output_type": "stream",
     "text": [
      "http://localhost:5000/reviews/1/plan?fields=selection_criteria\n",
      "http://localhost:5000/authtoken\n",
      "http://localhost:5000/citations/screenings?review_id=1&test=False\n",
      "http://localhost:5000/authtoken\n",
      "http://localhost:5000/citations/screenings?review_id=1&test=False\n",
      "CPU times: user 498 ms, sys: 17.4 ms, total: 515 ms\n",
      "Wall time: 19.3 s\n"
     ]
    }
   ],
   "source": [
    "%%time\n",
    "test = False\n",
    "\n",
    "selection_criteria = call_endpoint(\n",
    "    'reviews/1/plan', 'get',\n",
    "    params={'fields': 'selection_criteria'},\n",
    "    auth=('burtdewilde@gmail.com', 'password')).get('selection_criteria')\n",
    "all_exclude_reasons = [criterion['label'] for criterion in selection_criteria]\n",
    "    \n",
    "for auth in [('rayshah@thinkdesign.com', 'password'), ('burtdewilde@gmail.com', 'password')]:\n",
    "    auth_token = (call_endpoint('authtoken', auth=auth)['token'], '')\n",
    "\n",
    "    filepath = '../data/processed/citation_selection.json'\n",
    "    with io.open(filepath, mode='rt') as f:\n",
    "        screenings = json.load(f)\n",
    "    # let's only screen a random 75% of the total per reviewer\n",
    "    screenings = [screening for screening in screenings\n",
    "                  if random.random() > 0.25\n",
    "                  and screening['citation_id'] < 28708]  # <= HACK\n",
    "    \n",
    "    for screening in screenings:\n",
    "        screening['status'] = 'included' if screening.pop('included') is True else 'excluded'\n",
    "        # let's switch the decision for a random 5% of screenings\n",
    "        if random.random() > 0.95:\n",
    "            screening['status'] = 'included' if screening['status'] == 'excluded' else 'excluded'\n",
    "        # if excluded, let's get a random sample of exclude reasons\n",
    "        if screening['status'] == 'excluded':\n",
    "            screening['exclude_reasons'] = random.sample(\n",
    "                all_exclude_reasons, random.randint(1, 2))\n",
    "            \n",
    "    call_endpoint('citations/screenings', 'post',\n",
    "                  json=screenings, params={'review_id': 1, 'test': test},\n",
    "                  auth=auth)"
   ]
  },
  {
   "cell_type": "code",
   "execution_count": 235,
   "metadata": {
    "collapsed": false
   },
   "outputs": [
    {
     "name": "stdout",
     "output_type": "stream",
     "text": [
      "http://localhost:5000/citations/1/screenings\n",
      "http://localhost:5000/citations/1/screenings\n"
     ]
    }
   ],
   "source": [
    "# call_endpoint('citations/1/screenings', 'post', json={'status': 'included'},\n",
    "#               auth=('burtdewilde@gmail.com', 'password'))\n",
    "\n",
    "# call_endpoint('citations/1/screenings', 'post', json={'status': 'included'},\n",
    "#               auth=('rayshah@thinkdesign.com', 'password'))\n",
    "\n",
    "# call_endpoint('citations/1/screenings', 'delete',\n",
    "#               auth=('rayshah@thinkdesign.com', 'password'))\n",
    "\n",
    "# call_endpoint('citations/1/screenings', 'delete',\n",
    "#               auth=('burtdewilde@gmail.com', 'password'))"
   ]
  },
  {
   "cell_type": "code",
   "execution_count": 217,
   "metadata": {
    "collapsed": false,
    "scrolled": false
   },
   "outputs": [],
   "source": [
    "# # NOTE: This is the \"correct\" way to add citation screenings via the REST API.\n",
    "# # The hack above is done purely for speed while in development.\n",
    "\n",
    "# test = False\n",
    "# filepath = '../data/processed/citation_selection.json'\n",
    "# with io.open(filepath, mode='rt') as f:\n",
    "#     screenings = json.load(f)\n",
    "\n",
    "# selection_criteria = call_endpoint(\n",
    "#     'reviews/1/plan', 'get',\n",
    "#     params={'fields': 'selection_criteria'},\n",
    "#     auth=('burtdewilde@gmail.com', 'password')).get('selection_criteria')\n",
    "# all_exclude_reasons = [criterion['label'] for criterion in selection_criteria]\n",
    "    \n",
    "# for auth in [('rayshah@thinkdesign.com', 'password'), ('burtdewilde@gmail.com', 'password')]:\n",
    "#     auth_token = (call_endpoint('authtoken', auth=auth)['token'], '')\n",
    "\n",
    "#     for screening in screenings[:200]:\n",
    "#         try:\n",
    "#             # let's only screen a random 75% of the total per reviewer\n",
    "#             if random.random() > 0.75:\n",
    "#                 continue\n",
    "#             citation_id = screening['citation_id']\n",
    "#             status = 'included' if screening['included'] is True else 'excluded'\n",
    "#             # let's switch the decision for a random 5% of screenings\n",
    "#             if random.random() > 0.95:\n",
    "#                 status = 'included' if status == 'excluded' else 'excluded'\n",
    "#             screening_to_post = {'status': status}\n",
    "#             if status == 'excluded':\n",
    "#                 screening_to_post['exclude_reasons'] = random.sample(all_exclude_reasons, random.randint(1, 2))\n",
    "#             screening_to_post['test'] = test\n",
    "#             call_endpoint('citations/{}/screenings'.format(citation_id), 'post',\n",
    "#                           json=screening_to_post,\n",
    "#                           auth=auth, verbose=False)\n",
    "#         except Exception as e:\n",
    "#             continue"
   ]
  },
  {
   "cell_type": "markdown",
   "metadata": {},
   "source": [
    "### Get fulltexts"
   ]
  },
  {
   "cell_type": "code",
   "execution_count": 302,
   "metadata": {
    "collapsed": false
   },
   "outputs": [
    {
     "name": "stdout",
     "output_type": "stream",
     "text": [
      "http://localhost:5000/authtoken\n"
     ]
    }
   ],
   "source": [
    "auth = get_auth_token('burtdewilde@gmail.com', 'password')"
   ]
  },
  {
   "cell_type": "code",
   "execution_count": 296,
   "metadata": {
    "collapsed": false,
    "scrolled": true
   },
   "outputs": [
    {
     "name": "stdout",
     "output_type": "stream",
     "text": [
      "http://localhost:5000/fulltexts?review_id=1&fields=citation.title%2Cstatus%2Cfilename\n"
     ]
    },
    {
     "data": {
      "text/plain": [
       "[{'citation': {'title': 'Rural development: from vision to action. A sector strategy'},\n",
       "  'filename': None,\n",
       "  'id': 465,\n",
       "  'status': 'not_screened'},\n",
       " {'citation': {'title': 'The winter habitat selection of red panda (Ailurus fulgens) in the meigu dafengding national nature reserve, china'},\n",
       "  'filename': None,\n",
       "  'id': 464,\n",
       "  'status': 'not_screened'},\n",
       " {'citation': {'title': 'Separating adaptive maintenance (Resilience) and transformative capacity of social-ecological systems'},\n",
       "  'filename': None,\n",
       "  'id': 463,\n",
       "  'status': 'not_screened'},\n",
       " {'citation': {'title': 'Negotiating TVET for sustainable livelihoods'},\n",
       "  'filename': None,\n",
       "  'id': 462,\n",
       "  'status': 'not_screened'},\n",
       " {'citation': {'title': 'The farmer, the worker and the MP: The digital divide and territorial paradoxes in Switzerland'},\n",
       "  'filename': None,\n",
       "  'id': 461,\n",
       "  'status': 'not_screened'},\n",
       " {'citation': {'title': 'A recent inventory of the fishes of the north-western and central western coast of Lake Tanganyika (Democratic Republic Congo)'},\n",
       "  'filename': None,\n",
       "  'id': 460,\n",
       "  'status': 'not_screened'},\n",
       " {'citation': {'title': 'Natural green space and planning policy: Devising a model for its delivery in regional spatial strategies'},\n",
       "  'filename': None,\n",
       "  'id': 459,\n",
       "  'status': 'not_screened'},\n",
       " {'citation': {'title': 'The conservation status of Australian malurids and their value as models in understanding land-management issues'},\n",
       "  'filename': None,\n",
       "  'id': 458,\n",
       "  'status': 'not_screened'},\n",
       " {'citation': {'title': 'Is social work a green profession? An examination of environmental beliefs'},\n",
       "  'filename': None,\n",
       "  'id': 457,\n",
       "  'status': 'not_screened'},\n",
       " {'citation': {'title': 'Nutritional issues in pediatric inflammatory bowel disease'},\n",
       "  'filename': None,\n",
       "  'id': 456,\n",
       "  'status': 'not_screened'},\n",
       " {'citation': {'title': 'Crisis or opportunity? Economic degrowth for social equity and ecological sustainability. Introduction to this special issue'},\n",
       "  'filename': None,\n",
       "  'id': 455,\n",
       "  'status': 'not_screened'},\n",
       " {'citation': {'title': 'Incident reporting or storytelling? Competing schemes in a safety-critical and hazardous work setting'},\n",
       "  'filename': None,\n",
       "  'id': 454,\n",
       "  'status': 'not_screened'},\n",
       " {'citation': {'title': 'Are mediterranean coastal regions more exposed to land degradation in recent years?'},\n",
       "  'filename': None,\n",
       "  'id': 453,\n",
       "  'status': 'not_screened'},\n",
       " {'citation': {'title': 'Stability in Pleistocene Mediterranean mammalian communities'},\n",
       "  'filename': None,\n",
       "  'id': 452,\n",
       "  'status': 'not_screened'},\n",
       " {'citation': {'title': 'Dung beetle assemblages on tropical land-bridge islands: Small island effect and vulnerable species'},\n",
       "  'filename': None,\n",
       "  'id': 451,\n",
       "  'status': 'not_screened'},\n",
       " {'citation': {'title': 'Mechanisms of the Antifungal Action of Marine Metagenome-Derived Peptide, MMGP1, against Candida albicans'},\n",
       "  'filename': None,\n",
       "  'id': 450,\n",
       "  'status': 'not_screened'},\n",
       " {'citation': {'title': 'Predator-induced changes of bacterial size-structure and productivity studied on an experimental microbial community'},\n",
       "  'filename': None,\n",
       "  'id': 449,\n",
       "  'status': 'not_screened'},\n",
       " {'citation': {'title': 'Towards a sustainable natural resource management of tribal communities: Findings from a study of swidden and wetland cultivation in remote hill regions of eastern India'},\n",
       "  'filename': None,\n",
       "  'id': 448,\n",
       "  'status': 'not_screened'},\n",
       " {'citation': {'title': 'Small-scale habitat use and assemblage structure of ground-dwelling beetles in a Patagonian shrub steppe'},\n",
       "  'filename': None,\n",
       "  'id': 447,\n",
       "  'status': 'not_screened'},\n",
       " {'citation': {'title': \"Weber's Law, the Magnitude Effect and Discrimination of Sugar Concentrations in Nectar-Feeding Animals\"},\n",
       "  'filename': None,\n",
       "  'id': 446,\n",
       "  'status': 'not_screened'},\n",
       " {'citation': {'title': 'Essential multiple functions of farms in rural communities and landscapes'},\n",
       "  'filename': None,\n",
       "  'id': 445,\n",
       "  'status': 'not_screened'},\n",
       " {'citation': {'title': 'Coastal dune conservation on an Irish commonage: Community-based management or tragedy of the commons?'},\n",
       "  'filename': None,\n",
       "  'id': 444,\n",
       "  'status': 'not_screened'},\n",
       " {'citation': {'title': 'Differential vulnerability in coastal communities: Evidence and lessons learned from two deltas'},\n",
       "  'filename': None,\n",
       "  'id': 443,\n",
       "  'status': 'not_screened'},\n",
       " {'citation': {'title': 'Population displacement and housing dilemmas due to catastrophic disasters'},\n",
       "  'filename': None,\n",
       "  'id': 442,\n",
       "  'status': 'not_screened'},\n",
       " {'citation': {'title': 'Self-directed learning: Implications and limitations for undergraduate nursing education'},\n",
       "  'filename': None,\n",
       "  'id': 441,\n",
       "  'status': 'not_screened'}]"
      ]
     },
     "execution_count": 296,
     "metadata": {},
     "output_type": "execute_result"
    }
   ],
   "source": [
    "fulltexts = call_endpoint('fulltexts', 'get',\n",
    "                          params={'review_id': 1, 'fields': 'citation.title,status,filename'},\n",
    "                          auth=auth)\n",
    "fulltexts"
   ]
  },
  {
   "cell_type": "markdown",
   "metadata": {},
   "source": [
    "### Upload fulltext PDF or TXT via `POST` to `/fulltexts/<id>/upload`"
   ]
  },
  {
   "cell_type": "code",
   "execution_count": 308,
   "metadata": {
    "collapsed": false
   },
   "outputs": [
    {
     "name": "stdout",
     "output_type": "stream",
     "text": [
      "http://localhost:5000/fulltexts/465/upload\n"
     ]
    }
   ],
   "source": [
    "test = False\n",
    "\n",
    "filepath = '/Users/burtondewilde/Desktop/Abstractive_Summarization_with_Attentive_RNN_-_NAACL_2016.pdf'\n",
    "filename = 'Abstractive_Summarization_with_Attentive_RNN_-_NAACL_2016.pdf'\n",
    "\n",
    "for fulltext in fulltexts[:1]:\n",
    "    call_endpoint('fulltexts/{}/upload'.format(fulltext['id']), 'post',\n",
    "                  data={'test': test},\n",
    "                  files={'uploaded_file': (filename, io.open(filepath, mode='rb'))},\n",
    "                  auth=auth, verbose=False)\n",
    "    \n",
    "    uploaded_file = call_endpoint('fulltexts/{}/upload'.format(fulltext['id']),\n",
    "                                  'get', auth=auth, return_as_json=False)\n",
    "    \n",
    "# for fulltext in fulltexts:\n",
    "#     call_endpoint('fulltexts/{}/upload'.format(fulltext['id']), 'delete',\n",
    "#                   data={'test': test},\n",
    "#                   auth=auth, verbose=False)"
   ]
  },
  {
   "cell_type": "markdown",
   "metadata": {},
   "source": [
    "---\n",
    "\n",
    "## Get Records in the Database"
   ]
  },
  {
   "cell_type": "markdown",
   "metadata": {},
   "source": [
    "### Get a collection of citations via `GET` to `/citations`"
   ]
  },
  {
   "cell_type": "code",
   "execution_count": 273,
   "metadata": {
    "collapsed": false,
    "scrolled": false
   },
   "outputs": [
    {
     "name": "stdout",
     "output_type": "stream",
     "text": [
      "http://localhost:5000/citations?review_id=1&status=awaiting_coscreener&fields=title%2Cstatus&per_page=10&order_dir=ASC\n"
     ]
    },
    {
     "data": {
      "text/plain": [
       "[{'id': 4,\n",
       "  'status': 'screened_once',\n",
       "  'title': 'Crisis and conservation at the end of the world: Sheep ranching in Argentine Patagonia'},\n",
       " {'id': 5,\n",
       "  'status': 'screened_once',\n",
       "  'title': 'Susceptibility of different bacterial species isolated from food animals to copper sulphate, zinc chloride and antimicrobial substances used for disinfection'},\n",
       " {'id': 12,\n",
       "  'status': 'screened_once',\n",
       "  'title': 'A conceptual framework of adoption of an agricultural innovation'},\n",
       " {'id': 14,\n",
       "  'status': 'screened_once',\n",
       "  'title': 'Managing the Brisbane River and Moreton Bay: An integrated research/management program to reduce impacts on an Australian estuary'},\n",
       " {'id': 22,\n",
       "  'status': 'screened_once',\n",
       "  'title': 'Engaging students in active learning: Use of a blog and audience response system'},\n",
       " {'id': 28,\n",
       "  'status': 'screened_once',\n",
       "  'title': 'Botanical ethnoveterinary therapies in three districts of the Lesser Himalayas of Pakistan'},\n",
       " {'id': 29,\n",
       "  'status': 'screened_once',\n",
       "  'title': 'Efficacy of Tunisian montmorillonite for in vitro aflatoxin binding and in vivo amelioration of physiological alterations'},\n",
       " {'id': 41,\n",
       "  'status': 'screened_once',\n",
       "  'title': 'Market-resource links and fish vendor livelihoods in the upper zambezi river floodplains'},\n",
       " {'id': 54,\n",
       "  'status': 'screened_once',\n",
       "  'title': 'Gender dimension in the conservation and sustainable use of agro-biodiversity in West Asia'},\n",
       " {'id': 61,\n",
       "  'status': 'screened_once',\n",
       "  'title': 'Gender differences in the effects of organochlorines, mercury, and lead on thyroid hormone levels in lakeside communities of Quebec (Canada)'}]"
      ]
     },
     "execution_count": 273,
     "metadata": {},
     "output_type": "execute_result"
    }
   ],
   "source": [
    "call_endpoint('citations', 'get',\n",
    "              params={'review_id': 1,\n",
    "                      'fields': 'title,status',\n",
    "                      'status': 'awaiting_coscreener',\n",
    "                      'tag': None,\n",
    "                      #'tsquery': 'fisheries',\n",
    "                      'order_dir': 'ASC', 'per_page': 10},\n",
    "              auth=auth)"
   ]
  },
  {
   "cell_type": "markdown",
   "metadata": {},
   "source": [
    "### Get a collection of fulltexts via `GET` to `fulltexts`"
   ]
  },
  {
   "cell_type": "code",
   "execution_count": 24,
   "metadata": {
    "collapsed": false
   },
   "outputs": [
    {
     "name": "stdout",
     "output_type": "stream",
     "text": [
      "http://localhost:5000/fulltexts?per_page=10&order_dir=ASC&review_id=1\n"
     ]
    },
    {
     "data": {
      "text/plain": [
       "[{'citation_id': 18,\n",
       "  'content': None,\n",
       "  'created_at': '2016-09-24T01:50:00.205776+00:00',\n",
       "  'extracted_info': None,\n",
       "  'filename': '18.pdf',\n",
       "  'id': 1,\n",
       "  'status': 'not_screened'}]"
      ]
     },
     "execution_count": 24,
     "metadata": {},
     "output_type": "execute_result"
    }
   ],
   "source": [
    "call_endpoint('fulltexts', 'get',\n",
    "              params={'review_id': 1,\n",
    "                      'fields': None,\n",
    "                      'status': None,\n",
    "                      'tag': None,\n",
    "                      'tsquery': None,\n",
    "                      'order_dir': 'ASC', 'per_page': 10},\n",
    "              auth=auth)"
   ]
  },
  {
   "cell_type": "code",
   "execution_count": 48,
   "metadata": {
    "collapsed": false
   },
   "outputs": [
    {
     "name": "stdout",
     "output_type": "stream",
     "text": [
      "http://localhost:5000/authtoken\n"
     ]
    }
   ],
   "source": [
    "auth = get_auth_token('burtdewilde@gmail.com', 'password')"
   ]
  },
  {
   "cell_type": "code",
   "execution_count": 9,
   "metadata": {
    "collapsed": false
   },
   "outputs": [
    {
     "name": "stdout",
     "output_type": "stream",
     "text": [
      "http://localhost:5000/fulltexts?review_id=1&per_page=10&order_dir=ASC\n"
     ]
    },
    {
     "data": {
      "text/plain": [
       "[]"
      ]
     },
     "execution_count": 9,
     "metadata": {},
     "output_type": "execute_result"
    }
   ],
   "source": [
    "call_endpoint('fulltexts', 'get',\n",
    "              params={'review_id': 1,\n",
    "                      'fields': None,\n",
    "                      'status': None,\n",
    "                      'tag': None,\n",
    "                      'tsquery': None,\n",
    "                      'order_dir': 'ASC', 'per_page': 10},\n",
    "              auth=auth)"
   ]
  },
  {
   "cell_type": "markdown",
   "metadata": {
    "collapsed": true
   },
   "source": [
    "### Get a single citation via `GET` to the `citations/<id>` endpoint"
   ]
  },
  {
   "cell_type": "code",
   "execution_count": 49,
   "metadata": {
    "collapsed": false
   },
   "outputs": [
    {
     "name": "stdout",
     "output_type": "stream",
     "text": [
      "http://localhost:5000/citations/100?fields=fulltext\n"
     ]
    },
    {
     "data": {
      "text/plain": [
       "{'fulltext': None}"
      ]
     },
     "execution_count": 49,
     "metadata": {},
     "output_type": "execute_result"
    }
   ],
   "source": [
    "call_endpoint('citations/100', 'get',\n",
    "              params={'fields': 'fulltext'}, # 'title,abstract,authors,keywords,pub_year,screenings'},\n",
    "              auth=auth)"
   ]
  },
  {
   "cell_type": "code",
   "execution_count": 129,
   "metadata": {
    "collapsed": false
   },
   "outputs": [
    {
     "name": "stdout",
     "output_type": "stream",
     "text": [
      "http://localhost:5000/citations/screenings?user_id=1&review_id=1&status_counts=True\n",
      "2\n"
     ]
    },
    {
     "data": {
      "text/plain": [
       "{'excluded': 27627, 'included': 715}"
      ]
     },
     "execution_count": 129,
     "metadata": {},
     "output_type": "execute_result"
    }
   ],
   "source": [
    "result = call_endpoint('citations/screenings', 'get',\n",
    "                       params={'user_id': 1, 'review_id': 1, 'status_counts': True},\n",
    "                       auth=auth)\n",
    "print(len(result))\n",
    "result"
   ]
  },
  {
   "cell_type": "code",
   "execution_count": 137,
   "metadata": {
    "collapsed": false
   },
   "outputs": [
    {
     "name": "stdout",
     "output_type": "stream",
     "text": [
      "http://localhost:5000/citations/screenings/1?fields=user_id%2Cstatus\n"
     ]
    },
    {
     "data": {
      "text/plain": [
       "{'status': 'excluded', 'user_id': 1}"
      ]
     },
     "execution_count": 137,
     "metadata": {},
     "output_type": "execute_result"
    }
   ],
   "source": [
    "result = call_endpoint('citations/screenings/1', 'get',\n",
    "                       params={'fields': 'user_id,status'},\n",
    "                       auth=auth)\n",
    "result"
   ]
  },
  {
   "cell_type": "code",
   "execution_count": 138,
   "metadata": {
    "collapsed": false
   },
   "outputs": [
    {
     "name": "stdout",
     "output_type": "stream",
     "text": [
      "http://localhost:5000/citations/screenings/1?test=True\n"
     ]
    }
   ],
   "source": [
    "result = call_endpoint('citations/screenings/1', 'delete',\n",
    "                       params={'test': True},\n",
    "                       auth=auth)\n",
    "result"
   ]
  },
  {
   "cell_type": "code",
   "execution_count": null,
   "metadata": {
    "collapsed": false
   },
   "outputs": [],
   "source": []
  },
  {
   "cell_type": "code",
   "execution_count": 246,
   "metadata": {
    "collapsed": false,
    "scrolled": false
   },
   "outputs": [
    {
     "name": "stdout",
     "output_type": "stream",
     "text": [
      "http://localhost:5000/reviews/1/progress?step=all&user_view=False\n",
      "{'citations': {'conflict': 1484,\n",
      "               'excluded': 14159,\n",
      "               'included': 417,\n",
      "               'not_screened': 2128,\n",
      "               'screened_once': 10520},\n",
      " 'fulltexts': {'not_screened': 417},\n",
      " 'planning': {'keyterms': True,\n",
      "              'objective': True,\n",
      "              'pico': True,\n",
      "              'selection_criteria': True}}\n"
     ]
    }
   ],
   "source": [
    "pprint(call_endpoint('reviews/1/progress', 'get',\n",
    "              params={'step': 'all', 'user_view': False},\n",
    "              auth=('burtdewilde@gmail.com', 'password')))"
   ]
  },
  {
   "cell_type": "code",
   "execution_count": 247,
   "metadata": {
    "collapsed": false
   },
   "outputs": [
    {
     "name": "stdout",
     "output_type": "stream",
     "text": [
      "http://localhost:5000/reviews/1/progress?step=all&user_view=True\n",
      "{'citations': {'awaiting_coscreener': 5217,\n",
      "               'conflict': 1484,\n",
      "               'excluded': 14159,\n",
      "               'included': 417,\n",
      "               'pending': 7431},\n",
      " 'fulltexts': {'pending': 417},\n",
      " 'planning': {'keyterms': True,\n",
      "              'objective': True,\n",
      "              'pico': True,\n",
      "              'selection_criteria': True}}\n"
     ]
    }
   ],
   "source": [
    "pprint(call_endpoint('reviews/1/progress', 'get',\n",
    "              params={'step': 'all', 'user_view': True},\n",
    "              auth=('burtdewilde@gmail.com', 'password')))"
   ]
  },
  {
   "cell_type": "code",
   "execution_count": 205,
   "metadata": {
    "collapsed": false
   },
   "outputs": [],
   "source": [
    "# call_endpoint('reviews/1/team', 'put',\n",
    "#               json={'user_id': 2, 'action': 'remove', 'test': False},\n",
    "#               auth=auth_token)\n",
    "\n",
    "# call_endpoint('reviews/1/team', 'put',\n",
    "#               json={'user_id': 2, 'action': 'make_owner', 'test': False},\n",
    "#               auth=auth_token)\n",
    "\n",
    "# call_endpoint('reviews/1/team', 'get',\n",
    "#               params={'fields': 'name'},\n",
    "#               auth=auth_token)"
   ]
  },
  {
   "cell_type": "code",
   "execution_count": null,
   "metadata": {
    "collapsed": false
   },
   "outputs": [],
   "source": []
  },
  {
   "cell_type": "code",
   "execution_count": 6,
   "metadata": {
    "collapsed": false,
    "scrolled": true
   },
   "outputs": [
    {
     "name": "stdout",
     "output_type": "stream",
     "text": [
      "2016-09-15 16:07:32,618 INFO sqlalchemy.engine.base.Engine select version()\n"
     ]
    },
    {
     "name": "stderr",
     "output_type": "stream",
     "text": [
      "INFO:sqlalchemy.engine.base.Engine:select version()\n"
     ]
    },
    {
     "name": "stdout",
     "output_type": "stream",
     "text": [
      "2016-09-15 16:07:32,619 INFO sqlalchemy.engine.base.Engine {}\n"
     ]
    },
    {
     "name": "stderr",
     "output_type": "stream",
     "text": [
      "INFO:sqlalchemy.engine.base.Engine:{}\n"
     ]
    },
    {
     "name": "stdout",
     "output_type": "stream",
     "text": [
      "2016-09-15 16:07:32,620 INFO sqlalchemy.engine.base.Engine select current_schema()\n"
     ]
    },
    {
     "name": "stderr",
     "output_type": "stream",
     "text": [
      "INFO:sqlalchemy.engine.base.Engine:select current_schema()\n"
     ]
    },
    {
     "name": "stdout",
     "output_type": "stream",
     "text": [
      "2016-09-15 16:07:32,621 INFO sqlalchemy.engine.base.Engine {}\n"
     ]
    },
    {
     "name": "stderr",
     "output_type": "stream",
     "text": [
      "INFO:sqlalchemy.engine.base.Engine:{}\n"
     ]
    },
    {
     "name": "stdout",
     "output_type": "stream",
     "text": [
      "2016-09-15 16:07:32,622 INFO sqlalchemy.engine.base.Engine SELECT CAST('test plain returns' AS VARCHAR(60)) AS anon_1\n"
     ]
    },
    {
     "name": "stderr",
     "output_type": "stream",
     "text": [
      "INFO:sqlalchemy.engine.base.Engine:SELECT CAST('test plain returns' AS VARCHAR(60)) AS anon_1\n"
     ]
    },
    {
     "name": "stdout",
     "output_type": "stream",
     "text": [
      "2016-09-15 16:07:32,623 INFO sqlalchemy.engine.base.Engine {}\n"
     ]
    },
    {
     "name": "stderr",
     "output_type": "stream",
     "text": [
      "INFO:sqlalchemy.engine.base.Engine:{}\n"
     ]
    },
    {
     "name": "stdout",
     "output_type": "stream",
     "text": [
      "2016-09-15 16:07:32,624 INFO sqlalchemy.engine.base.Engine SELECT CAST('test unicode returns' AS VARCHAR(60)) AS anon_1\n"
     ]
    },
    {
     "name": "stderr",
     "output_type": "stream",
     "text": [
      "INFO:sqlalchemy.engine.base.Engine:SELECT CAST('test unicode returns' AS VARCHAR(60)) AS anon_1\n"
     ]
    },
    {
     "name": "stdout",
     "output_type": "stream",
     "text": [
      "2016-09-15 16:07:32,625 INFO sqlalchemy.engine.base.Engine {}\n"
     ]
    },
    {
     "name": "stderr",
     "output_type": "stream",
     "text": [
      "INFO:sqlalchemy.engine.base.Engine:{}\n"
     ]
    },
    {
     "name": "stdout",
     "output_type": "stream",
     "text": [
      "2016-09-15 16:07:32,626 INFO sqlalchemy.engine.base.Engine show standard_conforming_strings\n"
     ]
    },
    {
     "name": "stderr",
     "output_type": "stream",
     "text": [
      "INFO:sqlalchemy.engine.base.Engine:show standard_conforming_strings\n"
     ]
    },
    {
     "name": "stdout",
     "output_type": "stream",
     "text": [
      "2016-09-15 16:07:32,627 INFO sqlalchemy.engine.base.Engine {}\n"
     ]
    },
    {
     "name": "stderr",
     "output_type": "stream",
     "text": [
      "INFO:sqlalchemy.engine.base.Engine:{}\n"
     ]
    },
    {
     "name": "stdout",
     "output_type": "stream",
     "text": [
      "2016-09-15 16:07:32,628 INFO sqlalchemy.engine.base.Engine SELECT COUNT(1) FROM citations\n"
     ]
    },
    {
     "name": "stderr",
     "output_type": "stream",
     "text": [
      "INFO:sqlalchemy.engine.base.Engine:SELECT COUNT(1) FROM citations\n"
     ]
    },
    {
     "name": "stdout",
     "output_type": "stream",
     "text": [
      "2016-09-15 16:07:32,629 INFO sqlalchemy.engine.base.Engine {}\n"
     ]
    },
    {
     "name": "stderr",
     "output_type": "stream",
     "text": [
      "INFO:sqlalchemy.engine.base.Engine:{}\n"
     ]
    },
    {
     "data": {
      "text/plain": [
       "[(28708,)]"
      ]
     },
     "execution_count": 6,
     "metadata": {},
     "output_type": "execute_result"
    }
   ],
   "source": [
    "from colandr.lib import utils\n",
    "import logging\n",
    "\n",
    "logging.basicConfig()\n",
    "logging.getLogger('sqlalchemy.engine').setLevel(logging.CRITICAL)\n",
    "\n",
    "list(utils.execute_raw_sql_query('SELECT COUNT(1) FROM citations'))"
   ]
  },
  {
   "cell_type": "code",
   "execution_count": 93,
   "metadata": {
    "collapsed": false
   },
   "outputs": [
    {
     "name": "stdout",
     "output_type": "stream",
     "text": [
      "http://localhost:5000/citations/1/screenings\n"
     ]
    },
    {
     "data": {
      "text/plain": [
       "{'citation_id': 1,\n",
       " 'created_at': '2016-09-24T19:47:57.600966+00:00',\n",
       " 'exclude_reasons': None,\n",
       " 'id': 1,\n",
       " 'review_id': 1,\n",
       " 'status': 'included',\n",
       " 'user_id': 1}"
      ]
     },
     "execution_count": 93,
     "metadata": {},
     "output_type": "execute_result"
    }
   ],
   "source": [
    "call_endpoint('citations/1/screenings', 'post',\n",
    "              data={'status': 'included'},\n",
    "              auth=('burtdewilde@gmail.com', 'password'))"
   ]
  },
  {
   "cell_type": "code",
   "execution_count": 95,
   "metadata": {
    "collapsed": false
   },
   "outputs": [
    {
     "name": "stdout",
     "output_type": "stream",
     "text": [
      "http://localhost:5000/citations/1/screenings\n"
     ]
    },
    {
     "data": {
      "text/plain": [
       "{'citation_id': 1,\n",
       " 'created_at': '2016-09-24T19:48:42.372801+00:00',\n",
       " 'exclude_reasons': None,\n",
       " 'id': 2,\n",
       " 'review_id': 1,\n",
       " 'status': 'included',\n",
       " 'user_id': 2}"
      ]
     },
     "execution_count": 95,
     "metadata": {},
     "output_type": "execute_result"
    }
   ],
   "source": [
    "call_endpoint('citations/1/screenings', 'post',\n",
    "              data={'status': 'included'},\n",
    "              auth=('rayshah@thinkdesign.com', 'password'))"
   ]
  },
  {
   "cell_type": "code",
   "execution_count": 237,
   "metadata": {
    "collapsed": false,
    "scrolled": true
   },
   "outputs": [
    {
     "name": "stdout",
     "output_type": "stream",
     "text": [
      "2016-09-25 14:52:33,505 INFO sqlalchemy.engine.base.Engine select version()\n"
     ]
    },
    {
     "name": "stderr",
     "output_type": "stream",
     "text": [
      "INFO:sqlalchemy.engine.base.Engine:select version()\n"
     ]
    },
    {
     "name": "stdout",
     "output_type": "stream",
     "text": [
      "2016-09-25 14:52:33,506 INFO sqlalchemy.engine.base.Engine {}\n"
     ]
    },
    {
     "name": "stderr",
     "output_type": "stream",
     "text": [
      "INFO:sqlalchemy.engine.base.Engine:{}\n"
     ]
    },
    {
     "name": "stdout",
     "output_type": "stream",
     "text": [
      "2016-09-25 14:52:33,507 INFO sqlalchemy.engine.base.Engine select current_schema()\n"
     ]
    },
    {
     "name": "stderr",
     "output_type": "stream",
     "text": [
      "INFO:sqlalchemy.engine.base.Engine:select current_schema()\n"
     ]
    },
    {
     "name": "stdout",
     "output_type": "stream",
     "text": [
      "2016-09-25 14:52:33,508 INFO sqlalchemy.engine.base.Engine {}\n"
     ]
    },
    {
     "name": "stderr",
     "output_type": "stream",
     "text": [
      "INFO:sqlalchemy.engine.base.Engine:{}\n"
     ]
    },
    {
     "name": "stdout",
     "output_type": "stream",
     "text": [
      "2016-09-25 14:52:33,509 INFO sqlalchemy.engine.base.Engine SELECT CAST('test plain returns' AS VARCHAR(60)) AS anon_1\n"
     ]
    },
    {
     "name": "stderr",
     "output_type": "stream",
     "text": [
      "INFO:sqlalchemy.engine.base.Engine:SELECT CAST('test plain returns' AS VARCHAR(60)) AS anon_1\n"
     ]
    },
    {
     "name": "stdout",
     "output_type": "stream",
     "text": [
      "2016-09-25 14:52:33,510 INFO sqlalchemy.engine.base.Engine {}\n"
     ]
    },
    {
     "name": "stderr",
     "output_type": "stream",
     "text": [
      "INFO:sqlalchemy.engine.base.Engine:{}\n"
     ]
    },
    {
     "name": "stdout",
     "output_type": "stream",
     "text": [
      "2016-09-25 14:52:33,512 INFO sqlalchemy.engine.base.Engine SELECT CAST('test unicode returns' AS VARCHAR(60)) AS anon_1\n"
     ]
    },
    {
     "name": "stderr",
     "output_type": "stream",
     "text": [
      "INFO:sqlalchemy.engine.base.Engine:SELECT CAST('test unicode returns' AS VARCHAR(60)) AS anon_1\n"
     ]
    },
    {
     "name": "stdout",
     "output_type": "stream",
     "text": [
      "2016-09-25 14:52:33,513 INFO sqlalchemy.engine.base.Engine {}\n"
     ]
    },
    {
     "name": "stderr",
     "output_type": "stream",
     "text": [
      "INFO:sqlalchemy.engine.base.Engine:{}\n"
     ]
    },
    {
     "name": "stdout",
     "output_type": "stream",
     "text": [
      "2016-09-25 14:52:33,514 INFO sqlalchemy.engine.base.Engine show standard_conforming_strings\n"
     ]
    },
    {
     "name": "stderr",
     "output_type": "stream",
     "text": [
      "INFO:sqlalchemy.engine.base.Engine:show standard_conforming_strings\n"
     ]
    },
    {
     "name": "stdout",
     "output_type": "stream",
     "text": [
      "2016-09-25 14:52:33,515 INFO sqlalchemy.engine.base.Engine {}\n"
     ]
    },
    {
     "name": "stderr",
     "output_type": "stream",
     "text": [
      "INFO:sqlalchemy.engine.base.Engine:{}\n"
     ]
    },
    {
     "name": "stdout",
     "output_type": "stream",
     "text": [
      "2016-09-25 14:52:33,516 INFO sqlalchemy.engine.base.Engine \n",
      "            SELECT citation_id, ARRAY_AGG(status)\n",
      "            FROM citation_screenings\n",
      "            WHERE citation_id IN (1,6,11,16,21)\n",
      "            GROUP BY citation_id\n",
      "            \n"
     ]
    },
    {
     "name": "stderr",
     "output_type": "stream",
     "text": [
      "INFO:sqlalchemy.engine.base.Engine:\n",
      "            SELECT citation_id, ARRAY_AGG(status)\n",
      "            FROM citation_screenings\n",
      "            WHERE citation_id IN (1,6,11,16,21)\n",
      "            GROUP BY citation_id\n",
      "            \n"
     ]
    },
    {
     "name": "stdout",
     "output_type": "stream",
     "text": [
      "2016-09-25 14:52:33,517 INFO sqlalchemy.engine.base.Engine {}\n"
     ]
    },
    {
     "name": "stderr",
     "output_type": "stream",
     "text": [
      "INFO:sqlalchemy.engine.base.Engine:{}\n"
     ]
    },
    {
     "name": "stdout",
     "output_type": "stream",
     "text": [
      "[(6, ['included']), (11, ['excluded']), (21, ['excluded', 'excluded']), (1, ['excluded']), (16, ['excluded'])]\n",
      "CPU times: user 18.5 ms, sys: 3.09 ms, total: 21.6 ms\n",
      "Wall time: 30.5 ms\n"
     ]
    }
   ],
   "source": [
    "%%time\n",
    "import itertools\n",
    "from operator import itemgetter\n",
    "\n",
    "from flask import current_app, g\n",
    "from sqlalchemy import asc, desc\n",
    "\n",
    "from colandr import create_app, db\n",
    "from colandr.models import Citation, CitationScreening, Review, User\n",
    "from colandr.api.schemas import CitationSchema\n",
    "\n",
    "logging.getLogger('sqlalchemy.engine').setLevel(logging.WARNING)\n",
    "app = create_app('default')\n",
    "\n",
    "citation_ids = list(range(1, 25, 5))\n",
    "\n",
    "with app.app_context():\n",
    "    \n",
    "    with db.engine.connect() as connection:\n",
    "        query = \"\"\"\n",
    "            SELECT citation_id, ARRAY_AGG(status)\n",
    "            FROM citation_screenings\n",
    "            WHERE citation_id IN ({citation_ids})\n",
    "            GROUP BY citation_id\n",
    "            \"\"\".format(citation_ids=','.join(str(cid) for cid in citation_ids))\n",
    "        print(list(connection.execute(query)))\n",
    "\n",
    "    \n",
    "#     add_fulltexts_query = \"\"\"\n",
    "#         SELECT citations.id\n",
    "#         FROM citations\n",
    "#         LEFT JOIN fulltexts ON citations.id = fulltexts.citation_id\n",
    "#         WHERE\n",
    "#             citations.id IN ({citation_ids})\n",
    "#             AND citations.status = 'included'\n",
    "#             AND fulltexts.id IS NULL\n",
    "#         ORDER BY citations.id\n",
    "#         \"\"\".format(citation_ids=','.join(str(cid) for cid in range(1000)))\n",
    "#     print([row[0] for row in db.engine.execute(add_fulltexts_query)])\n",
    "\n",
    "\n",
    "#     results = db.session.query(CitationScreening)\\\n",
    "#         .filter(CitationScreening.citation_id.in_(citation_ids))\n",
    "        \n",
    "#     for key, grp in itertools.groupby(results, lambda x: x.citation_id):\n",
    "#         print(key, list(grp))\n",
    "        \n",
    "#     print(results)\n",
    "    \n",
    "#     for citation_id in citation_ids:\n",
    "#         citation = db.session.query(Citation).get(citation_id)\n",
    "#     citations = db.session.query(Citation)\\\n",
    "#         .filter(Citation.id.in_(citation_ids))\\\n",
    "#         .with_entities(Citation.id, Citation.status)\\\n",
    "#         .order_by(Citation.id)\\\n",
    "#         .all()\n",
    "#     results = db.session.query(Citation, CitationScreening)\\\n",
    "#         .filter(Citation.id == CitationScreening.citation_id)\\\n",
    "#         .filter(Citation.id.in_(citation_ids))\\\n",
    "#         .all()\n",
    "#     print(results[0])\n",
    "#     query = db.session.query(Citation)\\\n",
    "#         .filter(Citation.id.in_(citation_ids))\n",
    "#     for result in query:\n",
    "#         print(result)"
   ]
  },
  {
   "cell_type": "code",
   "execution_count": null,
   "metadata": {
    "collapsed": true
   },
   "outputs": [],
   "source": []
  },
  {
   "cell_type": "code",
   "execution_count": null,
   "metadata": {
    "collapsed": false
   },
   "outputs": [],
   "source": []
  },
  {
   "cell_type": "code",
   "execution_count": 143,
   "metadata": {
    "collapsed": false,
    "scrolled": true
   },
   "outputs": [
    {
     "name": "stdout",
     "output_type": "stream",
     "text": [
      "2016-09-16 14:47:31,000 INFO sqlalchemy.engine.base.Engine select version()\n"
     ]
    },
    {
     "name": "stderr",
     "output_type": "stream",
     "text": [
      "INFO:sqlalchemy.engine.base.Engine:select version()\n"
     ]
    },
    {
     "name": "stdout",
     "output_type": "stream",
     "text": [
      "2016-09-16 14:47:31,001 INFO sqlalchemy.engine.base.Engine {}\n"
     ]
    },
    {
     "name": "stderr",
     "output_type": "stream",
     "text": [
      "INFO:sqlalchemy.engine.base.Engine:{}\n"
     ]
    },
    {
     "name": "stdout",
     "output_type": "stream",
     "text": [
      "2016-09-16 14:47:31,003 INFO sqlalchemy.engine.base.Engine select current_schema()\n"
     ]
    },
    {
     "name": "stderr",
     "output_type": "stream",
     "text": [
      "INFO:sqlalchemy.engine.base.Engine:select current_schema()\n"
     ]
    },
    {
     "name": "stdout",
     "output_type": "stream",
     "text": [
      "2016-09-16 14:47:31,004 INFO sqlalchemy.engine.base.Engine {}\n"
     ]
    },
    {
     "name": "stderr",
     "output_type": "stream",
     "text": [
      "INFO:sqlalchemy.engine.base.Engine:{}\n"
     ]
    },
    {
     "name": "stdout",
     "output_type": "stream",
     "text": [
      "2016-09-16 14:47:31,006 INFO sqlalchemy.engine.base.Engine SELECT CAST('test plain returns' AS VARCHAR(60)) AS anon_1\n"
     ]
    },
    {
     "name": "stderr",
     "output_type": "stream",
     "text": [
      "INFO:sqlalchemy.engine.base.Engine:SELECT CAST('test plain returns' AS VARCHAR(60)) AS anon_1\n"
     ]
    },
    {
     "name": "stdout",
     "output_type": "stream",
     "text": [
      "2016-09-16 14:47:31,006 INFO sqlalchemy.engine.base.Engine {}\n"
     ]
    },
    {
     "name": "stderr",
     "output_type": "stream",
     "text": [
      "INFO:sqlalchemy.engine.base.Engine:{}\n"
     ]
    },
    {
     "name": "stdout",
     "output_type": "stream",
     "text": [
      "2016-09-16 14:47:31,008 INFO sqlalchemy.engine.base.Engine SELECT CAST('test unicode returns' AS VARCHAR(60)) AS anon_1\n"
     ]
    },
    {
     "name": "stderr",
     "output_type": "stream",
     "text": [
      "INFO:sqlalchemy.engine.base.Engine:SELECT CAST('test unicode returns' AS VARCHAR(60)) AS anon_1\n"
     ]
    },
    {
     "name": "stdout",
     "output_type": "stream",
     "text": [
      "2016-09-16 14:47:31,009 INFO sqlalchemy.engine.base.Engine {}\n"
     ]
    },
    {
     "name": "stderr",
     "output_type": "stream",
     "text": [
      "INFO:sqlalchemy.engine.base.Engine:{}\n"
     ]
    },
    {
     "name": "stdout",
     "output_type": "stream",
     "text": [
      "2016-09-16 14:47:31,010 INFO sqlalchemy.engine.base.Engine show standard_conforming_strings\n"
     ]
    },
    {
     "name": "stderr",
     "output_type": "stream",
     "text": [
      "INFO:sqlalchemy.engine.base.Engine:show standard_conforming_strings\n"
     ]
    },
    {
     "name": "stdout",
     "output_type": "stream",
     "text": [
      "2016-09-16 14:47:31,011 INFO sqlalchemy.engine.base.Engine {}\n"
     ]
    },
    {
     "name": "stderr",
     "output_type": "stream",
     "text": [
      "INFO:sqlalchemy.engine.base.Engine:{}\n"
     ]
    },
    {
     "name": "stdout",
     "output_type": "stream",
     "text": [
      "2016-09-16 14:47:31,012 INFO sqlalchemy.engine.base.Engine BEGIN (implicit)\n"
     ]
    },
    {
     "name": "stderr",
     "output_type": "stream",
     "text": [
      "INFO:sqlalchemy.engine.base.Engine:BEGIN (implicit)\n"
     ]
    },
    {
     "name": "stdout",
     "output_type": "stream",
     "text": [
      "2016-09-16 14:47:31,014 INFO sqlalchemy.engine.base.Engine SELECT users.id AS users_id, users.created_at AS users_created_at, users.name AS users_name, users.email AS users_email, users.password AS users_password \n",
      "FROM users \n",
      "WHERE users.id = %(param_1)s\n"
     ]
    },
    {
     "name": "stderr",
     "output_type": "stream",
     "text": [
      "INFO:sqlalchemy.engine.base.Engine:SELECT users.id AS users_id, users.created_at AS users_created_at, users.name AS users_name, users.email AS users_email, users.password AS users_password \n",
      "FROM users \n",
      "WHERE users.id = %(param_1)s\n"
     ]
    },
    {
     "name": "stdout",
     "output_type": "stream",
     "text": [
      "2016-09-16 14:47:31,014 INFO sqlalchemy.engine.base.Engine {'param_1': 1}\n"
     ]
    },
    {
     "name": "stderr",
     "output_type": "stream",
     "text": [
      "INFO:sqlalchemy.engine.base.Engine:{'param_1': 1}\n"
     ]
    },
    {
     "name": "stdout",
     "output_type": "stream",
     "text": [
      "<User(id=1)>\n",
      "2016-09-16 14:47:31,018 INFO sqlalchemy.engine.base.Engine SELECT reviews.id AS reviews_id, reviews.created_at AS reviews_created_at, reviews.owner_user_id AS reviews_owner_user_id, reviews.name AS reviews_name, reviews.description AS reviews_description, reviews.status AS reviews_status, reviews.num_citation_screening_reviewers AS reviews_num_citation_screening_reviewers, reviews.num_fulltext_screening_reviewers AS reviews_num_fulltext_screening_reviewers \n",
      "FROM reviews, users_to_reviews \n",
      "WHERE %(param_1)s = users_to_reviews.user_id AND reviews.id = users_to_reviews.review_id\n"
     ]
    },
    {
     "name": "stderr",
     "output_type": "stream",
     "text": [
      "INFO:sqlalchemy.engine.base.Engine:SELECT reviews.id AS reviews_id, reviews.created_at AS reviews_created_at, reviews.owner_user_id AS reviews_owner_user_id, reviews.name AS reviews_name, reviews.description AS reviews_description, reviews.status AS reviews_status, reviews.num_citation_screening_reviewers AS reviews_num_citation_screening_reviewers, reviews.num_fulltext_screening_reviewers AS reviews_num_fulltext_screening_reviewers \n",
      "FROM reviews, users_to_reviews \n",
      "WHERE %(param_1)s = users_to_reviews.user_id AND reviews.id = users_to_reviews.review_id\n"
     ]
    },
    {
     "name": "stdout",
     "output_type": "stream",
     "text": [
      "2016-09-16 14:47:31,019 INFO sqlalchemy.engine.base.Engine {'param_1': 1}\n"
     ]
    },
    {
     "name": "stderr",
     "output_type": "stream",
     "text": [
      "INFO:sqlalchemy.engine.base.Engine:{'param_1': 1}\n"
     ]
    },
    {
     "name": "stdout",
     "output_type": "stream",
     "text": [
      "2016-09-16 14:47:31,023 INFO sqlalchemy.engine.base.Engine SELECT users.id AS users_id, users.created_at AS users_created_at, users.name AS users_name, users.email AS users_email, users.password AS users_password \n",
      "FROM users, users_to_reviews \n",
      "WHERE %(param_1)s = users_to_reviews.review_id AND users.id = users_to_reviews.user_id AND users.id = %(id_1)s\n"
     ]
    },
    {
     "name": "stderr",
     "output_type": "stream",
     "text": [
      "INFO:sqlalchemy.engine.base.Engine:SELECT users.id AS users_id, users.created_at AS users_created_at, users.name AS users_name, users.email AS users_email, users.password AS users_password \n",
      "FROM users, users_to_reviews \n",
      "WHERE %(param_1)s = users_to_reviews.review_id AND users.id = users_to_reviews.user_id AND users.id = %(id_1)s\n"
     ]
    },
    {
     "name": "stdout",
     "output_type": "stream",
     "text": [
      "2016-09-16 14:47:31,024 INFO sqlalchemy.engine.base.Engine {'id_1': 2, 'param_1': 1}\n"
     ]
    },
    {
     "name": "stderr",
     "output_type": "stream",
     "text": [
      "INFO:sqlalchemy.engine.base.Engine:{'id_1': 2, 'param_1': 1}\n"
     ]
    },
    {
     "name": "stdout",
     "output_type": "stream",
     "text": [
      "2016-09-16 14:47:31,026 INFO sqlalchemy.engine.base.Engine SELECT users.id AS users_id, users.created_at AS users_created_at, users.name AS users_name, users.email AS users_email, users.password AS users_password \n",
      "FROM users, users_to_reviews \n",
      "WHERE %(param_1)s = users_to_reviews.review_id AND users.id = users_to_reviews.user_id AND users.id = %(id_1)s\n"
     ]
    },
    {
     "name": "stderr",
     "output_type": "stream",
     "text": [
      "INFO:sqlalchemy.engine.base.Engine:SELECT users.id AS users_id, users.created_at AS users_created_at, users.name AS users_name, users.email AS users_email, users.password AS users_password \n",
      "FROM users, users_to_reviews \n",
      "WHERE %(param_1)s = users_to_reviews.review_id AND users.id = users_to_reviews.user_id AND users.id = %(id_1)s\n"
     ]
    },
    {
     "name": "stdout",
     "output_type": "stream",
     "text": [
      "2016-09-16 14:47:31,028 INFO sqlalchemy.engine.base.Engine {'id_1': 2, 'param_1': 2}\n"
     ]
    },
    {
     "name": "stderr",
     "output_type": "stream",
     "text": [
      "INFO:sqlalchemy.engine.base.Engine:{'id_1': 2, 'param_1': 2}\n"
     ]
    },
    {
     "name": "stdout",
     "output_type": "stream",
     "text": [
      "False\n",
      "2016-09-16 14:47:31,029 INFO sqlalchemy.engine.base.Engine COMMIT\n"
     ]
    },
    {
     "name": "stderr",
     "output_type": "stream",
     "text": [
      "INFO:sqlalchemy.engine.base.Engine:COMMIT\n"
     ]
    }
   ],
   "source": [
    "from flask import current_app, g\n",
    "from sqlalchemy import asc, desc\n",
    "\n",
    "from colandr import create_app, db\n",
    "from colandr.models import Citation, Review, User\n",
    "from colandr.api.schemas import CitationSchema\n",
    "\n",
    "logging.getLogger('sqlalchemy.engine').setLevel(logging.WARNING)\n",
    "app = create_app('default')\n",
    "\n",
    "review_id = 1\n",
    "fields = None  # ['title']\n",
    "status = 'not_screened'\n",
    "tag = None\n",
    "order_by = 'recency'\n",
    "order_dir = 'DESC'\n",
    "page = 0\n",
    "per_page = 25\n",
    "\n",
    "with app.app_context():\n",
    "    \n",
    "    user = db.session.query(User).get(1)\n",
    "    print(user)\n",
    "    print(any(review.users.filter_by(id=2).one_or_none()\n",
    "              for review in user.reviews))\n",
    "    \n",
    "#     result = db.session.query(Citation).filter_by(id=100)\n",
    "#     status = 'not_screened' OR\n",
    "#     query = \"\"\"\n",
    "#         SELECT\n",
    "#             (CASE\n",
    "#                  WHEN (status != 'not_screened' AND screening @> '[{{\"user_id\": {user_id}}}]') THEN 'awaiting_coscreener'\n",
    "#                  WHEN (status = 'not_screened' OR NOT screening @> '[{{\"user_id\": {user_id}}}]') THEN 'pending'\n",
    "#              END) AS user_view_status,\n",
    "#             COUNT(1)\n",
    "#         FROM citations\n",
    "#         GROUP BY 1\n",
    "#         \"\"\".format(user_id=1)\n",
    "#     results = [row for row in db.engine.execute(query)]\n",
    "#         print(result)\n",
    "#         db.text(\"SELECT id, screening FROM citations WHERE screening @> '[\\{\\\"user_id\\\":{}\\}]'\".format(1))).all()\n",
    "#     print(result)"
   ]
  },
  {
   "cell_type": "code",
   "execution_count": null,
   "metadata": {
    "collapsed": false,
    "scrolled": false
   },
   "outputs": [],
   "source": []
  },
  {
   "cell_type": "code",
   "execution_count": null,
   "metadata": {
    "collapsed": false
   },
   "outputs": [],
   "source": []
  },
  {
   "cell_type": "code",
   "execution_count": null,
   "metadata": {
    "collapsed": true
   },
   "outputs": [],
   "source": []
  },
  {
   "cell_type": "code",
   "execution_count": null,
   "metadata": {
    "collapsed": true
   },
   "outputs": [],
   "source": []
  },
  {
   "cell_type": "code",
   "execution_count": null,
   "metadata": {
    "collapsed": true
   },
   "outputs": [],
   "source": []
  },
  {
   "cell_type": "markdown",
   "metadata": {},
   "source": [
    "Get one or more existing users:"
   ]
  },
  {
   "cell_type": "code",
   "execution_count": 113,
   "metadata": {
    "collapsed": false
   },
   "outputs": [
    {
     "name": "stdout",
     "output_type": "stream",
     "text": [
      "http://localhost:5000/users?email=burtdewilde%40gmail.com\n"
     ]
    },
    {
     "data": {
      "text/plain": [
       "{'created_at': '2016-09-10T03:59:26.298284+00:00',\n",
       " 'email': 'burtdewilde@gmail.com',\n",
       " 'id': 1,\n",
       " 'name': 'Burton DeWilde'}"
      ]
     },
     "execution_count": 113,
     "metadata": {},
     "output_type": "execute_result"
    }
   ],
   "source": [
    "call_endpoint('users', 'get', params={'email': 'burtdewilde@gmail.com'}, auth=auth_token)"
   ]
  },
  {
   "cell_type": "markdown",
   "metadata": {},
   "source": [
    "Update an existing user:"
   ]
  },
  {
   "cell_type": "code",
   "execution_count": 114,
   "metadata": {
    "collapsed": false
   },
   "outputs": [
    {
     "name": "stdout",
     "output_type": "stream",
     "text": [
      "http://localhost:5000/users/1\n"
     ]
    },
    {
     "data": {
      "text/plain": [
       "{'created_at': '2016-09-10T03:59:26.298284+00:00',\n",
       " 'email': 'burtondewilde@gmail.com',\n",
       " 'id': 1,\n",
       " 'name': 'Burton DeWilde'}"
      ]
     },
     "execution_count": 114,
     "metadata": {},
     "output_type": "execute_result"
    }
   ],
   "source": [
    "call_endpoint('users/1', 'put',\n",
    "              data={'email': 'burtondewilde@gmail.com', 'test': False},\n",
    "              auth=auth_token)"
   ]
  },
  {
   "cell_type": "markdown",
   "metadata": {},
   "source": [
    "Update an existing review:"
   ]
  },
  {
   "cell_type": "code",
   "execution_count": 118,
   "metadata": {
    "collapsed": false
   },
   "outputs": [
    {
     "name": "stdout",
     "output_type": "stream",
     "text": [
      "http://localhost:5000/reviews/2\n"
     ]
    },
    {
     "data": {
      "text/plain": [
       "{'created_at': '2016-09-10T03:59:51.318202+00:00',\n",
       " 'description': 'I do great systematic reviews. Really, really great.',\n",
       " 'id': 2,\n",
       " 'name': \"Burton's Greatest Systematic Review\",\n",
       " 'num_citation_screening_reviewers': 1,\n",
       " 'num_fulltext_screening_reviewers': 1,\n",
       " 'owner_user_id': 1,\n",
       " 'status': 'active'}"
      ]
     },
     "execution_count": 118,
     "metadata": {},
     "output_type": "execute_result"
    }
   ],
   "source": [
    "call_endpoint('reviews/2', 'put',\n",
    "              data={'name': \"Burton's Greatest Systematic Review\"}, auth=auth_token)"
   ]
  },
  {
   "cell_type": "markdown",
   "metadata": {},
   "source": [
    "Update an existing review plan:"
   ]
  },
  {
   "cell_type": "code",
   "execution_count": 70,
   "metadata": {
    "collapsed": false
   },
   "outputs": [
    {
     "name": "stdout",
     "output_type": "stream",
     "text": [
      "http://localhost:5000/reviewplans/1\n"
     ]
    },
    {
     "data": {
      "text/plain": [
       "{'data_extraction_form': {},\n",
       " 'id': 1,\n",
       " 'keyterms': [],\n",
       " 'objective': 'Eat food. Mostly plants. Not too much.',\n",
       " 'pico': {'intervention': 'Adoption or implementation of nature conservation interventions',\n",
       "  'outcome': 'Positive or negative effects on the multi-dimensional well-being status of human populations',\n",
       "  'population': 'Human populations, including individuals, households, communities or nation states in non-OECD countries'},\n",
       " 'research_questions': [],\n",
       " 'review_id': 1,\n",
       " 'selection_criteria': []}"
      ]
     },
     "execution_count": 70,
     "metadata": {},
     "output_type": "execute_result"
    }
   ],
   "source": [
    "call_endpoint('reviewplans/1', 'put',\n",
    "              json={'objective': 'Eat food. Mostly plants. Not too much.'},\n",
    "              auth=auth_token)"
   ]
  },
  {
   "cell_type": "code",
   "execution_count": null,
   "metadata": {
    "collapsed": true
   },
   "outputs": [],
   "source": []
  },
  {
   "cell_type": "code",
   "execution_count": null,
   "metadata": {
    "collapsed": true
   },
   "outputs": [],
   "source": []
  },
  {
   "cell_type": "code",
   "execution_count": null,
   "metadata": {
    "collapsed": true
   },
   "outputs": [],
   "source": []
  },
  {
   "cell_type": "code",
   "execution_count": 117,
   "metadata": {
    "collapsed": false
   },
   "outputs": [
    {
     "name": "stdout",
     "output_type": "stream",
     "text": [
      "http://localhost:5000/reviews?fields=name\n"
     ]
    },
    {
     "data": {
      "text/plain": [
       "[{'name': 'Conservation International Demo'},\n",
       " {'name': \"Burton's Great Systematic Review\"}]"
      ]
     },
     "execution_count": 117,
     "metadata": {},
     "output_type": "execute_result"
    }
   ],
   "source": [
    "call_endpoint('reviews', 'get', params={'fields': 'name'}, auth=auth_token)"
   ]
  },
  {
   "cell_type": "code",
   "execution_count": null,
   "metadata": {
    "collapsed": true
   },
   "outputs": [],
   "source": []
  },
  {
   "cell_type": "code",
   "execution_count": null,
   "metadata": {
    "collapsed": true
   },
   "outputs": [],
   "source": []
  },
  {
   "cell_type": "code",
   "execution_count": 135,
   "metadata": {
    "collapsed": false
   },
   "outputs": [],
   "source": [
    "# call_endpoint('reviews', 'get', params={'fields': 'name,created_at'}, auth=auth_token)"
   ]
  },
  {
   "cell_type": "code",
   "execution_count": 134,
   "metadata": {
    "collapsed": false,
    "scrolled": true
   },
   "outputs": [],
   "source": [
    "# call_endpoint('reviews/2', 'delete', data={'test': True}, auth=auth_token)"
   ]
  },
  {
   "cell_type": "code",
   "execution_count": null,
   "metadata": {
    "collapsed": true
   },
   "outputs": [],
   "source": []
  },
  {
   "cell_type": "code",
   "execution_count": null,
   "metadata": {
    "collapsed": false
   },
   "outputs": [],
   "source": []
  },
  {
   "cell_type": "code",
   "execution_count": null,
   "metadata": {
    "collapsed": true
   },
   "outputs": [],
   "source": []
  },
  {
   "cell_type": "code",
   "execution_count": 36,
   "metadata": {
    "collapsed": false
   },
   "outputs": [
    {
     "name": "stdout",
     "output_type": "stream",
     "text": [
      "http://localhost:5000/users?email=burtdewilde%40gmail.com\n"
     ]
    },
    {
     "data": {
      "text/plain": [
       "{'created_at': '2016-09-05T22:38:44.633619+00:00',\n",
       " 'email': 'burtdewilde@gmail.com',\n",
       " 'id': 1,\n",
       " 'name': 'Burton DeWilde'}"
      ]
     },
     "execution_count": 36,
     "metadata": {},
     "output_type": "execute_result"
    }
   ],
   "source": [
    "call_endpoint('users', 'get', params={'email': 'burtdewilde@gmail.com'}, auth=auth_token)"
   ]
  },
  {
   "cell_type": "code",
   "execution_count": 77,
   "metadata": {
    "collapsed": false
   },
   "outputs": [],
   "source": [
    "# call_endpoint('users', 'get', params={'review_id': 1})  # TODO"
   ]
  },
  {
   "cell_type": "code",
   "execution_count": 10,
   "metadata": {
    "collapsed": false
   },
   "outputs": [
    {
     "name": "stderr",
     "output_type": "stream",
     "text": [
      "INFO:requests.packages.urllib3.connectionpool:Resetting dropped connection: localhost\n"
     ]
    },
    {
     "name": "stdout",
     "output_type": "stream",
     "text": [
      "http://localhost:5000/users/1?fields=name\n"
     ]
    },
    {
     "data": {
      "text/plain": [
       "{'name': 'Burton DeWilde'}"
      ]
     },
     "execution_count": 10,
     "metadata": {},
     "output_type": "execute_result"
    }
   ],
   "source": [
    "call_endpoint('users/1', 'get', params={'fields': 'name'}, auth=auth)"
   ]
  },
  {
   "cell_type": "code",
   "execution_count": 11,
   "metadata": {
    "collapsed": false
   },
   "outputs": [
    {
     "name": "stderr",
     "output_type": "stream",
     "text": [
      "INFO:requests.packages.urllib3.connectionpool:Resetting dropped connection: localhost\n"
     ]
    },
    {
     "name": "stdout",
     "output_type": "stream",
     "text": [
      "http://localhost:5000/users/1?test=False\n"
     ]
    },
    {
     "ename": "HTTPError",
     "evalue": "500 Server Error: INTERNAL SERVER ERROR for url: http://localhost:5000/users/1?test=False",
     "output_type": "error",
     "traceback": [
      "\u001b[0;31m---------------------------------------------------------------------------\u001b[0m",
      "\u001b[0;31mHTTPError\u001b[0m                                 Traceback (most recent call last)",
      "\u001b[0;32m<ipython-input-11-06c7d16a711a>\u001b[0m in \u001b[0;36m<module>\u001b[0;34m()\u001b[0m\n\u001b[0;32m----> 1\u001b[0;31m \u001b[0mcall_endpoint\u001b[0m\u001b[0;34m(\u001b[0m\u001b[0;34m'users/1'\u001b[0m\u001b[0;34m,\u001b[0m \u001b[0;34m'delete'\u001b[0m\u001b[0;34m,\u001b[0m \u001b[0mparams\u001b[0m\u001b[0;34m=\u001b[0m\u001b[0;34m{\u001b[0m\u001b[0;34m'test'\u001b[0m\u001b[0;34m:\u001b[0m \u001b[0;32mFalse\u001b[0m\u001b[0;34m}\u001b[0m\u001b[0;34m)\u001b[0m\u001b[0;34m\u001b[0m\u001b[0m\n\u001b[0m",
      "\u001b[0;32m<ipython-input-2-0af9c0062198>\u001b[0m in \u001b[0;36mcall_endpoint\u001b[0;34m(endpoint, method, headers, params, data, auth)\u001b[0m\n\u001b[1;32m      5\u001b[0m                             headers=headers, params=params, data=data, auth=auth)\n\u001b[1;32m      6\u001b[0m     \u001b[0mprint\u001b[0m\u001b[0;34m(\u001b[0m\u001b[0mresponse\u001b[0m\u001b[0;34m.\u001b[0m\u001b[0murl\u001b[0m\u001b[0;34m)\u001b[0m\u001b[0;34m\u001b[0m\u001b[0m\n\u001b[0;32m----> 7\u001b[0;31m     \u001b[0mresponse\u001b[0m\u001b[0;34m.\u001b[0m\u001b[0mraise_for_status\u001b[0m\u001b[0;34m(\u001b[0m\u001b[0;34m)\u001b[0m\u001b[0;34m\u001b[0m\u001b[0m\n\u001b[0m\u001b[1;32m      8\u001b[0m     \u001b[0;32mreturn\u001b[0m \u001b[0mresponse\u001b[0m\u001b[0;34m.\u001b[0m\u001b[0mjson\u001b[0m\u001b[0;34m(\u001b[0m\u001b[0;34m)\u001b[0m\u001b[0;34m\u001b[0m\u001b[0m\n",
      "\u001b[0;32m/Users/burtondewilde/.pyenv/versions/3.5.2/lib/python3.5/site-packages/requests/models.py\u001b[0m in \u001b[0;36mraise_for_status\u001b[0;34m(self)\u001b[0m\n\u001b[1;32m    860\u001b[0m \u001b[0;34m\u001b[0m\u001b[0m\n\u001b[1;32m    861\u001b[0m         \u001b[0;32mif\u001b[0m \u001b[0mhttp_error_msg\u001b[0m\u001b[0;34m:\u001b[0m\u001b[0;34m\u001b[0m\u001b[0m\n\u001b[0;32m--> 862\u001b[0;31m             \u001b[0;32mraise\u001b[0m \u001b[0mHTTPError\u001b[0m\u001b[0;34m(\u001b[0m\u001b[0mhttp_error_msg\u001b[0m\u001b[0;34m,\u001b[0m \u001b[0mresponse\u001b[0m\u001b[0;34m=\u001b[0m\u001b[0mself\u001b[0m\u001b[0;34m)\u001b[0m\u001b[0;34m\u001b[0m\u001b[0m\n\u001b[0m\u001b[1;32m    863\u001b[0m \u001b[0;34m\u001b[0m\u001b[0m\n\u001b[1;32m    864\u001b[0m     \u001b[0;32mdef\u001b[0m \u001b[0mclose\u001b[0m\u001b[0;34m(\u001b[0m\u001b[0mself\u001b[0m\u001b[0;34m)\u001b[0m\u001b[0;34m:\u001b[0m\u001b[0;34m\u001b[0m\u001b[0m\n",
      "\u001b[0;31mHTTPError\u001b[0m: 500 Server Error: INTERNAL SERVER ERROR for url: http://localhost:5000/users/1?test=False"
     ]
    }
   ],
   "source": [
    "call_endpoint('users/1', 'delete', params={'test': False})"
   ]
  },
  {
   "cell_type": "markdown",
   "metadata": {},
   "source": [
    "---\n",
    "\n",
    "## Reviews"
   ]
  },
  {
   "cell_type": "code",
   "execution_count": 89,
   "metadata": {
    "collapsed": true
   },
   "outputs": [],
   "source": []
  },
  {
   "cell_type": "code",
   "execution_count": null,
   "metadata": {
    "collapsed": true
   },
   "outputs": [],
   "source": []
  },
  {
   "cell_type": "code",
   "execution_count": null,
   "metadata": {
    "collapsed": true
   },
   "outputs": [],
   "source": []
  },
  {
   "cell_type": "code",
   "execution_count": null,
   "metadata": {
    "collapsed": true
   },
   "outputs": [],
   "source": []
  },
  {
   "cell_type": "code",
   "execution_count": null,
   "metadata": {
    "collapsed": true
   },
   "outputs": [],
   "source": []
  },
  {
   "cell_type": "markdown",
   "metadata": {},
   "source": [
    "#### LOGIN"
   ]
  },
  {
   "cell_type": "code",
   "execution_count": 5,
   "metadata": {
    "collapsed": false,
    "scrolled": false
   },
   "outputs": [
    {
     "name": "stdout",
     "output_type": "stream",
     "text": [
      "http://localhost:5000/login\n"
     ]
    },
    {
     "data": {
      "text/plain": [
       "{'email': 'burtdewilde@gmail.com',\n",
       " 'name': 'Burton DeWilde',\n",
       " 'owned_review_ids': [1],\n",
       " 'review_ids': [1],\n",
       " 'user_id': 1}"
      ]
     },
     "execution_count": 5,
     "metadata": {},
     "output_type": "execute_result"
    }
   ],
   "source": [
    "call_endpoint('login', auth=('burtdewilde@gmail.com', 'test'))"
   ]
  },
  {
   "cell_type": "code",
   "execution_count": 6,
   "metadata": {
    "collapsed": false
   },
   "outputs": [
    {
     "name": "stdout",
     "output_type": "stream",
     "text": [
      "http://localhost:5000/users/1\n"
     ]
    },
    {
     "data": {
      "text/plain": [
       "{'created_ts': '2016-07-07T17:56:07+00:00',\n",
       " 'email': 'burtdewilde@gmail.com',\n",
       " 'name': 'Burton DeWilde',\n",
       " 'owned_review_ids': [1],\n",
       " 'review_ids': [1],\n",
       " 'user_id': 1}"
      ]
     },
     "execution_count": 6,
     "metadata": {},
     "output_type": "execute_result"
    }
   ],
   "source": [
    "call_endpoint('users/1', 'get')"
   ]
  },
  {
   "cell_type": "code",
   "execution_count": 7,
   "metadata": {
    "collapsed": false
   },
   "outputs": [
    {
     "name": "stdout",
     "output_type": "stream",
     "text": [
      "http://localhost:5000/users/2\n"
     ]
    },
    {
     "ename": "HTTPError",
     "evalue": "500 Server Error: INTERNAL SERVER ERROR for url: http://localhost:5000/users/2",
     "output_type": "error",
     "traceback": [
      "\u001b[0;31m---------------------------------------------------------------------------\u001b[0m",
      "\u001b[0;31mHTTPError\u001b[0m                                 Traceback (most recent call last)",
      "\u001b[0;32m<ipython-input-7-b85813d52be9>\u001b[0m in \u001b[0;36m<module>\u001b[0;34m()\u001b[0m\n\u001b[0;32m----> 1\u001b[0;31m \u001b[0mcall_endpoint\u001b[0m\u001b[0;34m(\u001b[0m\u001b[0;34m'users/2'\u001b[0m\u001b[0;34m,\u001b[0m \u001b[0;34m'get'\u001b[0m\u001b[0;34m)\u001b[0m\u001b[0;34m\u001b[0m\u001b[0m\n\u001b[0m",
      "\u001b[0;32m<ipython-input-2-0af9c0062198>\u001b[0m in \u001b[0;36mcall_endpoint\u001b[0;34m(endpoint, method, headers, params, data, auth)\u001b[0m\n\u001b[1;32m      5\u001b[0m                             headers=headers, params=params, data=data, auth=auth)\n\u001b[1;32m      6\u001b[0m     \u001b[0mprint\u001b[0m\u001b[0;34m(\u001b[0m\u001b[0mresponse\u001b[0m\u001b[0;34m.\u001b[0m\u001b[0murl\u001b[0m\u001b[0;34m)\u001b[0m\u001b[0;34m\u001b[0m\u001b[0m\n\u001b[0;32m----> 7\u001b[0;31m     \u001b[0mresponse\u001b[0m\u001b[0;34m.\u001b[0m\u001b[0mraise_for_status\u001b[0m\u001b[0;34m(\u001b[0m\u001b[0;34m)\u001b[0m\u001b[0;34m\u001b[0m\u001b[0m\n\u001b[0m\u001b[1;32m      8\u001b[0m     \u001b[0;32mreturn\u001b[0m \u001b[0mresponse\u001b[0m\u001b[0;34m.\u001b[0m\u001b[0mjson\u001b[0m\u001b[0;34m(\u001b[0m\u001b[0;34m)\u001b[0m\u001b[0;34m\u001b[0m\u001b[0m\n",
      "\u001b[0;32m/Users/burtondewilde/.pyenv/versions/3.5.2/lib/python3.5/site-packages/requests/models.py\u001b[0m in \u001b[0;36mraise_for_status\u001b[0;34m(self)\u001b[0m\n\u001b[1;32m    860\u001b[0m \u001b[0;34m\u001b[0m\u001b[0m\n\u001b[1;32m    861\u001b[0m         \u001b[0;32mif\u001b[0m \u001b[0mhttp_error_msg\u001b[0m\u001b[0;34m:\u001b[0m\u001b[0;34m\u001b[0m\u001b[0m\n\u001b[0;32m--> 862\u001b[0;31m             \u001b[0;32mraise\u001b[0m \u001b[0mHTTPError\u001b[0m\u001b[0;34m(\u001b[0m\u001b[0mhttp_error_msg\u001b[0m\u001b[0;34m,\u001b[0m \u001b[0mresponse\u001b[0m\u001b[0;34m=\u001b[0m\u001b[0mself\u001b[0m\u001b[0;34m)\u001b[0m\u001b[0;34m\u001b[0m\u001b[0m\n\u001b[0m\u001b[1;32m    863\u001b[0m \u001b[0;34m\u001b[0m\u001b[0m\n\u001b[1;32m    864\u001b[0m     \u001b[0;32mdef\u001b[0m \u001b[0mclose\u001b[0m\u001b[0;34m(\u001b[0m\u001b[0mself\u001b[0m\u001b[0;34m)\u001b[0m\u001b[0;34m:\u001b[0m\u001b[0;34m\u001b[0m\u001b[0m\n",
      "\u001b[0;31mHTTPError\u001b[0m: 500 Server Error: INTERNAL SERVER ERROR for url: http://localhost:5000/users/2"
     ]
    }
   ],
   "source": [
    "call_endpoint('users/2', 'get')"
   ]
  },
  {
   "cell_type": "code",
   "execution_count": 27,
   "metadata": {
    "collapsed": false,
    "scrolled": true
   },
   "outputs": [
    {
     "name": "stdout",
     "output_type": "stream",
     "text": [
      "http://localhost:5000/users\n"
     ]
    },
    {
     "data": {
      "text/plain": [
       "{'email': 'rayshah@thinkdesign.com',\n",
       " 'name': 'Ray Shah',\n",
       " 'owned_review_ids': None,\n",
       " 'password': 'test',\n",
       " 'review_ids': None}"
      ]
     },
     "execution_count": 27,
     "metadata": {},
     "output_type": "execute_result"
    }
   ],
   "source": [
    "call_endpoint('users', 'post',\n",
    "              data={'name': 'Ray Shah',\n",
    "                    'email': 'rayshah@thinkdesign.com',\n",
    "                    'password': 'test',\n",
    "                    'review_ids': None,\n",
    "                    'owned_review_ids': None,\n",
    "                    'test': True})"
   ]
  },
  {
   "cell_type": "code",
   "execution_count": 10,
   "metadata": {
    "collapsed": false
   },
   "outputs": [
    {
     "name": "stdout",
     "output_type": "stream",
     "text": [
      "http://localhost:5000/users/1\n"
     ]
    }
   ],
   "source": [
    "call_endpoint('users/1', 'delete',\n",
    "              data={'test': True})"
   ]
  },
  {
   "cell_type": "code",
   "execution_count": 51,
   "metadata": {
    "collapsed": false,
    "scrolled": false
   },
   "outputs": [
    {
     "name": "stdout",
     "output_type": "stream",
     "text": [
      "http://localhost:5000/reviews\n"
     ]
    },
    {
     "data": {
      "text/plain": [
       "{'description': 'foo bar bat baz',\n",
       " 'name': 'My Great Review',\n",
       " 'owner_user_id': 1,\n",
       " 'settings': '{\"num_citation_screening_reviewers\": 2, \"required_citation_screener_id\": null, \"num_fulltext_screening_reviewers\": 2, \"required_fulltext_screener_id\": null}',\n",
       " 'user_ids': [1]}"
      ]
     },
     "execution_count": 51,
     "metadata": {},
     "output_type": "execute_result"
    }
   ],
   "source": [
    "call_endpoint('reviews', 'post',\n",
    "              data={'name': 'My Great Review',\n",
    "                    'description': 'foo bar bat baz',\n",
    "                    'test': True})"
   ]
  },
  {
   "cell_type": "code",
   "execution_count": 58,
   "metadata": {
    "collapsed": false
   },
   "outputs": [
    {
     "name": "stdout",
     "output_type": "stream",
     "text": [
      "http://localhost:5000/reviews/1?test=True\n"
     ]
    }
   ],
   "source": [
    "call_endpoint('reviews/1', 'delete',\n",
    "              params={'test': True})"
   ]
  },
  {
   "cell_type": "code",
   "execution_count": 60,
   "metadata": {
    "collapsed": false
   },
   "outputs": [
    {
     "name": "stdout",
     "output_type": "stream",
     "text": [
      "http://localhost:5000/users/6\n"
     ]
    },
    {
     "data": {
      "text/plain": [
       "6"
      ]
     },
     "execution_count": 60,
     "metadata": {},
     "output_type": "execute_result"
    }
   ],
   "source": [
    "call_endpoint('users/6', 'delete')"
   ]
  },
  {
   "cell_type": "code",
   "execution_count": 12,
   "metadata": {
    "collapsed": false
   },
   "outputs": [
    {
     "name": "stdout",
     "output_type": "stream",
     "text": [
      "http://localhost:5000/reviews/1\n"
     ]
    },
    {
     "data": {
      "text/plain": [
       "{'created_ts': 'Wed, 13 Jul 2016 01:40:27 GMT',\n",
       " 'description': 'International policy has sought to emphasize and strengthen the link between the conservation of natural ecosystems and human development. Furthermore, international conservation organizations have broadened their objectives beyond nature-based goals to recognize the contribution of conservation interventions in sustaining ecosystem services upon which human populations are dependent. While many indices have been developed to measure various human well-being domains, the strength of evidence to support the effects, both positive and negative, of conservation interventions on human well-being, is still unclear.\\\\n\\\\nThis protocol describes the methodology for examining the research question: What are the impacts of nature conservation interventions on different domains of human well-being in developing countries? Using systematic mapping, this study will scope and identify studies that measure the impacts of nature conservation interventions on human well-being at local to regional scales. The primary objective of this study is to synthesize the state and distribution of the existing evidence base linking conservation and human well-being. In addition, a theory of change approach will be used to identify and characterize the causal linkages between conservation and human well-being, with attention on those studies that examine the role of ecosystem services. Key trends among the resulting studies will be synthesized and the range of studies organized and presented in a graphical matrix illustrating the relationships between types of interventions and types of outcomes. Results of the study are intended to help conservation and development practitioners and the academic community to improve research studies and conservation practices in developing countries in order to achieve both conservation and human well-being outcomes.',\n",
       " 'name': 'Conservation International demo',\n",
       " 'owner_user_id': 1,\n",
       " 'review_id': 1,\n",
       " 'user_ids': [1]}"
      ]
     },
     "execution_count": 12,
     "metadata": {},
     "output_type": "execute_result"
    }
   ],
   "source": [
    "call_endpoint('reviews/1')"
   ]
  },
  {
   "cell_type": "code",
   "execution_count": null,
   "metadata": {
    "collapsed": true
   },
   "outputs": [],
   "source": []
  }
 ],
 "metadata": {
  "kernelspec": {
   "display_name": "Python 3",
   "language": "python",
   "name": "python3"
  },
  "language_info": {
   "codemirror_mode": {
    "name": "ipython",
    "version": 3
   },
   "file_extension": ".py",
   "mimetype": "text/x-python",
   "name": "python",
   "nbconvert_exporter": "python",
   "pygments_lexer": "ipython3",
   "version": "3.5.2"
  }
 },
 "nbformat": 4,
 "nbformat_minor": 1
}
