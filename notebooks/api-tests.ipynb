{
 "cells": [
  {
   "cell_type": "markdown",
   "metadata": {},
   "source": [
    "---\n",
    "\n",
    "## Setup"
   ]
  },
  {
   "cell_type": "code",
   "execution_count": 128,
   "metadata": {
    "collapsed": true
   },
   "outputs": [],
   "source": [
    "import io\n",
    "import json\n",
    "import logging\n",
    "import os\n",
    "import random\n",
    "from pprint import pprint\n",
    "\n",
    "import requests"
   ]
  },
  {
   "cell_type": "code",
   "execution_count": 129,
   "metadata": {
    "collapsed": true
   },
   "outputs": [],
   "source": [
    "logging.getLogger(\"requests.packages.urllib3.connectionpool\").setLevel(logging.CRITICAL)\n",
    "logging.getLogger(\"sqlalchemy.engine\").setLevel(logging.CRITICAL)"
   ]
  },
  {
   "cell_type": "code",
   "execution_count": 130,
   "metadata": {
    "collapsed": false
   },
   "outputs": [],
   "source": [
    "def call_endpoint(endpoint, method='get',\n",
    "                  params=None, data=None, json=None, files=None,\n",
    "                  headers=None, auth=None,\n",
    "                  verbose=True):\n",
    "    url = base_url + endpoint\n",
    "    response = sess.request(method, base_url + endpoint,\n",
    "                            params=params, data=data, json=json, files=files,\n",
    "                            headers=headers, auth=auth)\n",
    "    if verbose is True:\n",
    "        print(response.url)\n",
    "    return response.json()\n",
    "\n",
    "\n",
    "def get_auth_token(email, password):\n",
    "    \"\"\"For your convenience.\"\"\"\n",
    "    return (call_endpoint('authtoken', auth=(email, password))['token'], '')"
   ]
  },
  {
   "cell_type": "code",
   "execution_count": 131,
   "metadata": {
    "collapsed": true
   },
   "outputs": [],
   "source": [
    "base_url = 'http://localhost:5000/'\n",
    "sess = requests.session()"
   ]
  },
  {
   "cell_type": "code",
   "execution_count": 132,
   "metadata": {
    "collapsed": false,
    "scrolled": true
   },
   "outputs": [
    {
     "name": "stdout",
     "output_type": "stream",
     "text": [
      "2016-09-24 18:59:12,620 INFO sqlalchemy.engine.base.Engine select version()\n"
     ]
    },
    {
     "name": "stderr",
     "output_type": "stream",
     "text": [
      "INFO:sqlalchemy.engine.base.Engine:select version()\n"
     ]
    },
    {
     "name": "stdout",
     "output_type": "stream",
     "text": [
      "2016-09-24 18:59:12,621 INFO sqlalchemy.engine.base.Engine {}\n"
     ]
    },
    {
     "name": "stderr",
     "output_type": "stream",
     "text": [
      "INFO:sqlalchemy.engine.base.Engine:{}\n"
     ]
    },
    {
     "name": "stdout",
     "output_type": "stream",
     "text": [
      "2016-09-24 18:59:12,623 INFO sqlalchemy.engine.base.Engine select current_schema()\n"
     ]
    },
    {
     "name": "stderr",
     "output_type": "stream",
     "text": [
      "INFO:sqlalchemy.engine.base.Engine:select current_schema()\n"
     ]
    },
    {
     "name": "stdout",
     "output_type": "stream",
     "text": [
      "2016-09-24 18:59:12,623 INFO sqlalchemy.engine.base.Engine {}\n"
     ]
    },
    {
     "name": "stderr",
     "output_type": "stream",
     "text": [
      "INFO:sqlalchemy.engine.base.Engine:{}\n"
     ]
    },
    {
     "name": "stdout",
     "output_type": "stream",
     "text": [
      "2016-09-24 18:59:12,625 INFO sqlalchemy.engine.base.Engine SELECT CAST('test plain returns' AS VARCHAR(60)) AS anon_1\n"
     ]
    },
    {
     "name": "stderr",
     "output_type": "stream",
     "text": [
      "INFO:sqlalchemy.engine.base.Engine:SELECT CAST('test plain returns' AS VARCHAR(60)) AS anon_1\n"
     ]
    },
    {
     "name": "stdout",
     "output_type": "stream",
     "text": [
      "2016-09-24 18:59:12,626 INFO sqlalchemy.engine.base.Engine {}\n"
     ]
    },
    {
     "name": "stderr",
     "output_type": "stream",
     "text": [
      "INFO:sqlalchemy.engine.base.Engine:{}\n"
     ]
    },
    {
     "name": "stdout",
     "output_type": "stream",
     "text": [
      "2016-09-24 18:59:12,628 INFO sqlalchemy.engine.base.Engine SELECT CAST('test unicode returns' AS VARCHAR(60)) AS anon_1\n"
     ]
    },
    {
     "name": "stderr",
     "output_type": "stream",
     "text": [
      "INFO:sqlalchemy.engine.base.Engine:SELECT CAST('test unicode returns' AS VARCHAR(60)) AS anon_1\n"
     ]
    },
    {
     "name": "stdout",
     "output_type": "stream",
     "text": [
      "2016-09-24 18:59:12,628 INFO sqlalchemy.engine.base.Engine {}\n"
     ]
    },
    {
     "name": "stderr",
     "output_type": "stream",
     "text": [
      "INFO:sqlalchemy.engine.base.Engine:{}\n"
     ]
    },
    {
     "name": "stdout",
     "output_type": "stream",
     "text": [
      "2016-09-24 18:59:12,629 INFO sqlalchemy.engine.base.Engine show standard_conforming_strings\n"
     ]
    },
    {
     "name": "stderr",
     "output_type": "stream",
     "text": [
      "INFO:sqlalchemy.engine.base.Engine:show standard_conforming_strings\n"
     ]
    },
    {
     "name": "stdout",
     "output_type": "stream",
     "text": [
      "2016-09-24 18:59:12,630 INFO sqlalchemy.engine.base.Engine {}\n"
     ]
    },
    {
     "name": "stderr",
     "output_type": "stream",
     "text": [
      "INFO:sqlalchemy.engine.base.Engine:{}\n"
     ]
    },
    {
     "name": "stdout",
     "output_type": "stream",
     "text": [
      "2016-09-24 18:59:12,632 INFO sqlalchemy.engine.base.Engine select relname from pg_class c join pg_namespace n on n.oid=c.relnamespace where pg_catalog.pg_table_is_visible(c.oid) and relname=%(name)s\n"
     ]
    },
    {
     "name": "stderr",
     "output_type": "stream",
     "text": [
      "INFO:sqlalchemy.engine.base.Engine:select relname from pg_class c join pg_namespace n on n.oid=c.relnamespace where pg_catalog.pg_table_is_visible(c.oid) and relname=%(name)s\n"
     ]
    },
    {
     "name": "stdout",
     "output_type": "stream",
     "text": [
      "2016-09-24 18:59:12,632 INFO sqlalchemy.engine.base.Engine {'name': 'users_to_reviews'}\n"
     ]
    },
    {
     "name": "stderr",
     "output_type": "stream",
     "text": [
      "INFO:sqlalchemy.engine.base.Engine:{'name': 'users_to_reviews'}\n"
     ]
    },
    {
     "name": "stdout",
     "output_type": "stream",
     "text": [
      "2016-09-24 18:59:12,634 INFO sqlalchemy.engine.base.Engine select relname from pg_class c join pg_namespace n on n.oid=c.relnamespace where pg_catalog.pg_table_is_visible(c.oid) and relname=%(name)s\n"
     ]
    },
    {
     "name": "stderr",
     "output_type": "stream",
     "text": [
      "INFO:sqlalchemy.engine.base.Engine:select relname from pg_class c join pg_namespace n on n.oid=c.relnamespace where pg_catalog.pg_table_is_visible(c.oid) and relname=%(name)s\n"
     ]
    },
    {
     "name": "stdout",
     "output_type": "stream",
     "text": [
      "2016-09-24 18:59:12,635 INFO sqlalchemy.engine.base.Engine {'name': 'fulltexts'}\n"
     ]
    },
    {
     "name": "stderr",
     "output_type": "stream",
     "text": [
      "INFO:sqlalchemy.engine.base.Engine:{'name': 'fulltexts'}\n"
     ]
    },
    {
     "name": "stdout",
     "output_type": "stream",
     "text": [
      "2016-09-24 18:59:12,637 INFO sqlalchemy.engine.base.Engine select relname from pg_class c join pg_namespace n on n.oid=c.relnamespace where pg_catalog.pg_table_is_visible(c.oid) and relname=%(name)s\n"
     ]
    },
    {
     "name": "stderr",
     "output_type": "stream",
     "text": [
      "INFO:sqlalchemy.engine.base.Engine:select relname from pg_class c join pg_namespace n on n.oid=c.relnamespace where pg_catalog.pg_table_is_visible(c.oid) and relname=%(name)s\n"
     ]
    },
    {
     "name": "stdout",
     "output_type": "stream",
     "text": [
      "2016-09-24 18:59:12,638 INFO sqlalchemy.engine.base.Engine {'name': 'fulltext_screenings'}\n"
     ]
    },
    {
     "name": "stderr",
     "output_type": "stream",
     "text": [
      "INFO:sqlalchemy.engine.base.Engine:{'name': 'fulltext_screenings'}\n"
     ]
    },
    {
     "name": "stdout",
     "output_type": "stream",
     "text": [
      "2016-09-24 18:59:12,639 INFO sqlalchemy.engine.base.Engine select relname from pg_class c join pg_namespace n on n.oid=c.relnamespace where pg_catalog.pg_table_is_visible(c.oid) and relname=%(name)s\n"
     ]
    },
    {
     "name": "stderr",
     "output_type": "stream",
     "text": [
      "INFO:sqlalchemy.engine.base.Engine:select relname from pg_class c join pg_namespace n on n.oid=c.relnamespace where pg_catalog.pg_table_is_visible(c.oid) and relname=%(name)s\n"
     ]
    },
    {
     "name": "stdout",
     "output_type": "stream",
     "text": [
      "2016-09-24 18:59:12,640 INFO sqlalchemy.engine.base.Engine {'name': 'citations'}\n"
     ]
    },
    {
     "name": "stderr",
     "output_type": "stream",
     "text": [
      "INFO:sqlalchemy.engine.base.Engine:{'name': 'citations'}\n"
     ]
    },
    {
     "name": "stdout",
     "output_type": "stream",
     "text": [
      "2016-09-24 18:59:12,642 INFO sqlalchemy.engine.base.Engine select relname from pg_class c join pg_namespace n on n.oid=c.relnamespace where pg_catalog.pg_table_is_visible(c.oid) and relname=%(name)s\n"
     ]
    },
    {
     "name": "stderr",
     "output_type": "stream",
     "text": [
      "INFO:sqlalchemy.engine.base.Engine:select relname from pg_class c join pg_namespace n on n.oid=c.relnamespace where pg_catalog.pg_table_is_visible(c.oid) and relname=%(name)s\n"
     ]
    },
    {
     "name": "stdout",
     "output_type": "stream",
     "text": [
      "2016-09-24 18:59:12,643 INFO sqlalchemy.engine.base.Engine {'name': 'users'}\n"
     ]
    },
    {
     "name": "stderr",
     "output_type": "stream",
     "text": [
      "INFO:sqlalchemy.engine.base.Engine:{'name': 'users'}\n"
     ]
    },
    {
     "name": "stdout",
     "output_type": "stream",
     "text": [
      "2016-09-24 18:59:12,644 INFO sqlalchemy.engine.base.Engine select relname from pg_class c join pg_namespace n on n.oid=c.relnamespace where pg_catalog.pg_table_is_visible(c.oid) and relname=%(name)s\n"
     ]
    },
    {
     "name": "stderr",
     "output_type": "stream",
     "text": [
      "INFO:sqlalchemy.engine.base.Engine:select relname from pg_class c join pg_namespace n on n.oid=c.relnamespace where pg_catalog.pg_table_is_visible(c.oid) and relname=%(name)s\n"
     ]
    },
    {
     "name": "stdout",
     "output_type": "stream",
     "text": [
      "2016-09-24 18:59:12,645 INFO sqlalchemy.engine.base.Engine {'name': 'citation_screenings'}\n"
     ]
    },
    {
     "name": "stderr",
     "output_type": "stream",
     "text": [
      "INFO:sqlalchemy.engine.base.Engine:{'name': 'citation_screenings'}\n"
     ]
    },
    {
     "name": "stdout",
     "output_type": "stream",
     "text": [
      "2016-09-24 18:59:12,646 INFO sqlalchemy.engine.base.Engine select relname from pg_class c join pg_namespace n on n.oid=c.relnamespace where pg_catalog.pg_table_is_visible(c.oid) and relname=%(name)s\n"
     ]
    },
    {
     "name": "stderr",
     "output_type": "stream",
     "text": [
      "INFO:sqlalchemy.engine.base.Engine:select relname from pg_class c join pg_namespace n on n.oid=c.relnamespace where pg_catalog.pg_table_is_visible(c.oid) and relname=%(name)s\n"
     ]
    },
    {
     "name": "stdout",
     "output_type": "stream",
     "text": [
      "2016-09-24 18:59:12,647 INFO sqlalchemy.engine.base.Engine {'name': 'review_plans'}\n"
     ]
    },
    {
     "name": "stderr",
     "output_type": "stream",
     "text": [
      "INFO:sqlalchemy.engine.base.Engine:{'name': 'review_plans'}\n"
     ]
    },
    {
     "name": "stdout",
     "output_type": "stream",
     "text": [
      "2016-09-24 18:59:12,649 INFO sqlalchemy.engine.base.Engine select relname from pg_class c join pg_namespace n on n.oid=c.relnamespace where pg_catalog.pg_table_is_visible(c.oid) and relname=%(name)s\n"
     ]
    },
    {
     "name": "stderr",
     "output_type": "stream",
     "text": [
      "INFO:sqlalchemy.engine.base.Engine:select relname from pg_class c join pg_namespace n on n.oid=c.relnamespace where pg_catalog.pg_table_is_visible(c.oid) and relname=%(name)s\n"
     ]
    },
    {
     "name": "stdout",
     "output_type": "stream",
     "text": [
      "2016-09-24 18:59:12,650 INFO sqlalchemy.engine.base.Engine {'name': 'reviews'}\n"
     ]
    },
    {
     "name": "stderr",
     "output_type": "stream",
     "text": [
      "INFO:sqlalchemy.engine.base.Engine:{'name': 'reviews'}\n"
     ]
    },
    {
     "name": "stdout",
     "output_type": "stream",
     "text": [
      "2016-09-24 18:59:12,652 INFO sqlalchemy.engine.base.Engine \n",
      "DROP TABLE fulltext_screenings\n"
     ]
    },
    {
     "name": "stderr",
     "output_type": "stream",
     "text": [
      "INFO:sqlalchemy.engine.base.Engine:\n",
      "DROP TABLE fulltext_screenings\n"
     ]
    },
    {
     "name": "stdout",
     "output_type": "stream",
     "text": [
      "2016-09-24 18:59:12,653 INFO sqlalchemy.engine.base.Engine {}\n"
     ]
    },
    {
     "name": "stderr",
     "output_type": "stream",
     "text": [
      "INFO:sqlalchemy.engine.base.Engine:{}\n"
     ]
    },
    {
     "name": "stdout",
     "output_type": "stream",
     "text": [
      "2016-09-24 18:59:12,659 INFO sqlalchemy.engine.base.Engine COMMIT\n"
     ]
    },
    {
     "name": "stderr",
     "output_type": "stream",
     "text": [
      "INFO:sqlalchemy.engine.base.Engine:COMMIT\n"
     ]
    },
    {
     "name": "stdout",
     "output_type": "stream",
     "text": [
      "2016-09-24 18:59:12,667 INFO sqlalchemy.engine.base.Engine \n",
      "DROP TABLE citation_screenings\n"
     ]
    },
    {
     "name": "stderr",
     "output_type": "stream",
     "text": [
      "INFO:sqlalchemy.engine.base.Engine:\n",
      "DROP TABLE citation_screenings\n"
     ]
    },
    {
     "name": "stdout",
     "output_type": "stream",
     "text": [
      "2016-09-24 18:59:12,668 INFO sqlalchemy.engine.base.Engine {}\n"
     ]
    },
    {
     "name": "stderr",
     "output_type": "stream",
     "text": [
      "INFO:sqlalchemy.engine.base.Engine:{}\n"
     ]
    },
    {
     "name": "stdout",
     "output_type": "stream",
     "text": [
      "2016-09-24 18:59:12,670 INFO sqlalchemy.engine.base.Engine COMMIT\n"
     ]
    },
    {
     "name": "stderr",
     "output_type": "stream",
     "text": [
      "INFO:sqlalchemy.engine.base.Engine:COMMIT\n"
     ]
    },
    {
     "name": "stdout",
     "output_type": "stream",
     "text": [
      "2016-09-24 18:59:12,673 INFO sqlalchemy.engine.base.Engine \n",
      "DROP TABLE fulltexts\n"
     ]
    },
    {
     "name": "stderr",
     "output_type": "stream",
     "text": [
      "INFO:sqlalchemy.engine.base.Engine:\n",
      "DROP TABLE fulltexts\n"
     ]
    },
    {
     "name": "stdout",
     "output_type": "stream",
     "text": [
      "2016-09-24 18:59:12,674 INFO sqlalchemy.engine.base.Engine {}\n"
     ]
    },
    {
     "name": "stderr",
     "output_type": "stream",
     "text": [
      "INFO:sqlalchemy.engine.base.Engine:{}\n"
     ]
    },
    {
     "name": "stdout",
     "output_type": "stream",
     "text": [
      "2016-09-24 18:59:12,677 INFO sqlalchemy.engine.base.Engine COMMIT\n"
     ]
    },
    {
     "name": "stderr",
     "output_type": "stream",
     "text": [
      "INFO:sqlalchemy.engine.base.Engine:COMMIT\n"
     ]
    },
    {
     "name": "stdout",
     "output_type": "stream",
     "text": [
      "2016-09-24 18:59:12,681 INFO sqlalchemy.engine.base.Engine \n",
      "DROP TABLE review_plans\n"
     ]
    },
    {
     "name": "stderr",
     "output_type": "stream",
     "text": [
      "INFO:sqlalchemy.engine.base.Engine:\n",
      "DROP TABLE review_plans\n"
     ]
    },
    {
     "name": "stdout",
     "output_type": "stream",
     "text": [
      "2016-09-24 18:59:12,682 INFO sqlalchemy.engine.base.Engine {}\n"
     ]
    },
    {
     "name": "stderr",
     "output_type": "stream",
     "text": [
      "INFO:sqlalchemy.engine.base.Engine:{}\n"
     ]
    },
    {
     "name": "stdout",
     "output_type": "stream",
     "text": [
      "2016-09-24 18:59:12,684 INFO sqlalchemy.engine.base.Engine COMMIT\n"
     ]
    },
    {
     "name": "stderr",
     "output_type": "stream",
     "text": [
      "INFO:sqlalchemy.engine.base.Engine:COMMIT\n"
     ]
    },
    {
     "name": "stdout",
     "output_type": "stream",
     "text": [
      "2016-09-24 18:59:12,688 INFO sqlalchemy.engine.base.Engine \n",
      "DROP TABLE citations\n"
     ]
    },
    {
     "name": "stderr",
     "output_type": "stream",
     "text": [
      "INFO:sqlalchemy.engine.base.Engine:\n",
      "DROP TABLE citations\n"
     ]
    },
    {
     "name": "stdout",
     "output_type": "stream",
     "text": [
      "2016-09-24 18:59:12,689 INFO sqlalchemy.engine.base.Engine {}\n"
     ]
    },
    {
     "name": "stderr",
     "output_type": "stream",
     "text": [
      "INFO:sqlalchemy.engine.base.Engine:{}\n"
     ]
    },
    {
     "name": "stdout",
     "output_type": "stream",
     "text": [
      "2016-09-24 18:59:12,692 INFO sqlalchemy.engine.base.Engine COMMIT\n"
     ]
    },
    {
     "name": "stderr",
     "output_type": "stream",
     "text": [
      "INFO:sqlalchemy.engine.base.Engine:COMMIT\n"
     ]
    },
    {
     "name": "stdout",
     "output_type": "stream",
     "text": [
      "2016-09-24 18:59:12,700 INFO sqlalchemy.engine.base.Engine \n",
      "DROP TABLE users_to_reviews\n"
     ]
    },
    {
     "name": "stderr",
     "output_type": "stream",
     "text": [
      "INFO:sqlalchemy.engine.base.Engine:\n",
      "DROP TABLE users_to_reviews\n"
     ]
    },
    {
     "name": "stdout",
     "output_type": "stream",
     "text": [
      "2016-09-24 18:59:12,702 INFO sqlalchemy.engine.base.Engine {}\n"
     ]
    },
    {
     "name": "stderr",
     "output_type": "stream",
     "text": [
      "INFO:sqlalchemy.engine.base.Engine:{}\n"
     ]
    },
    {
     "name": "stdout",
     "output_type": "stream",
     "text": [
      "2016-09-24 18:59:12,704 INFO sqlalchemy.engine.base.Engine COMMIT\n"
     ]
    },
    {
     "name": "stderr",
     "output_type": "stream",
     "text": [
      "INFO:sqlalchemy.engine.base.Engine:COMMIT\n"
     ]
    },
    {
     "name": "stdout",
     "output_type": "stream",
     "text": [
      "2016-09-24 18:59:12,707 INFO sqlalchemy.engine.base.Engine \n",
      "DROP TABLE reviews\n"
     ]
    },
    {
     "name": "stderr",
     "output_type": "stream",
     "text": [
      "INFO:sqlalchemy.engine.base.Engine:\n",
      "DROP TABLE reviews\n"
     ]
    },
    {
     "name": "stdout",
     "output_type": "stream",
     "text": [
      "2016-09-24 18:59:12,708 INFO sqlalchemy.engine.base.Engine {}\n"
     ]
    },
    {
     "name": "stderr",
     "output_type": "stream",
     "text": [
      "INFO:sqlalchemy.engine.base.Engine:{}\n"
     ]
    },
    {
     "name": "stdout",
     "output_type": "stream",
     "text": [
      "2016-09-24 18:59:12,711 INFO sqlalchemy.engine.base.Engine COMMIT\n"
     ]
    },
    {
     "name": "stderr",
     "output_type": "stream",
     "text": [
      "INFO:sqlalchemy.engine.base.Engine:COMMIT\n"
     ]
    },
    {
     "name": "stdout",
     "output_type": "stream",
     "text": [
      "2016-09-24 18:59:12,714 INFO sqlalchemy.engine.base.Engine \n",
      "DROP TABLE users\n"
     ]
    },
    {
     "name": "stderr",
     "output_type": "stream",
     "text": [
      "INFO:sqlalchemy.engine.base.Engine:\n",
      "DROP TABLE users\n"
     ]
    },
    {
     "name": "stdout",
     "output_type": "stream",
     "text": [
      "2016-09-24 18:59:12,716 INFO sqlalchemy.engine.base.Engine {}\n"
     ]
    },
    {
     "name": "stderr",
     "output_type": "stream",
     "text": [
      "INFO:sqlalchemy.engine.base.Engine:{}\n"
     ]
    },
    {
     "name": "stdout",
     "output_type": "stream",
     "text": [
      "2016-09-24 18:59:12,718 INFO sqlalchemy.engine.base.Engine COMMIT\n"
     ]
    },
    {
     "name": "stderr",
     "output_type": "stream",
     "text": [
      "INFO:sqlalchemy.engine.base.Engine:COMMIT\n"
     ]
    },
    {
     "name": "stdout",
     "output_type": "stream",
     "text": [
      "2016-09-24 18:59:12,721 INFO sqlalchemy.engine.base.Engine select relname from pg_class c join pg_namespace n on n.oid=c.relnamespace where pg_catalog.pg_table_is_visible(c.oid) and relname=%(name)s\n"
     ]
    },
    {
     "name": "stderr",
     "output_type": "stream",
     "text": [
      "INFO:sqlalchemy.engine.base.Engine:select relname from pg_class c join pg_namespace n on n.oid=c.relnamespace where pg_catalog.pg_table_is_visible(c.oid) and relname=%(name)s\n"
     ]
    },
    {
     "name": "stdout",
     "output_type": "stream",
     "text": [
      "2016-09-24 18:59:12,722 INFO sqlalchemy.engine.base.Engine {'name': 'users_to_reviews'}\n"
     ]
    },
    {
     "name": "stderr",
     "output_type": "stream",
     "text": [
      "INFO:sqlalchemy.engine.base.Engine:{'name': 'users_to_reviews'}\n"
     ]
    },
    {
     "name": "stdout",
     "output_type": "stream",
     "text": [
      "2016-09-24 18:59:12,723 INFO sqlalchemy.engine.base.Engine select relname from pg_class c join pg_namespace n on n.oid=c.relnamespace where pg_catalog.pg_table_is_visible(c.oid) and relname=%(name)s\n"
     ]
    },
    {
     "name": "stderr",
     "output_type": "stream",
     "text": [
      "INFO:sqlalchemy.engine.base.Engine:select relname from pg_class c join pg_namespace n on n.oid=c.relnamespace where pg_catalog.pg_table_is_visible(c.oid) and relname=%(name)s\n"
     ]
    },
    {
     "name": "stdout",
     "output_type": "stream",
     "text": [
      "2016-09-24 18:59:12,725 INFO sqlalchemy.engine.base.Engine {'name': 'fulltexts'}\n"
     ]
    },
    {
     "name": "stderr",
     "output_type": "stream",
     "text": [
      "INFO:sqlalchemy.engine.base.Engine:{'name': 'fulltexts'}\n"
     ]
    },
    {
     "name": "stdout",
     "output_type": "stream",
     "text": [
      "2016-09-24 18:59:12,726 INFO sqlalchemy.engine.base.Engine select relname from pg_class c join pg_namespace n on n.oid=c.relnamespace where pg_catalog.pg_table_is_visible(c.oid) and relname=%(name)s\n"
     ]
    },
    {
     "name": "stderr",
     "output_type": "stream",
     "text": [
      "INFO:sqlalchemy.engine.base.Engine:select relname from pg_class c join pg_namespace n on n.oid=c.relnamespace where pg_catalog.pg_table_is_visible(c.oid) and relname=%(name)s\n"
     ]
    },
    {
     "name": "stdout",
     "output_type": "stream",
     "text": [
      "2016-09-24 18:59:12,728 INFO sqlalchemy.engine.base.Engine {'name': 'fulltext_screenings'}\n"
     ]
    },
    {
     "name": "stderr",
     "output_type": "stream",
     "text": [
      "INFO:sqlalchemy.engine.base.Engine:{'name': 'fulltext_screenings'}\n"
     ]
    },
    {
     "name": "stdout",
     "output_type": "stream",
     "text": [
      "2016-09-24 18:59:12,729 INFO sqlalchemy.engine.base.Engine select relname from pg_class c join pg_namespace n on n.oid=c.relnamespace where pg_catalog.pg_table_is_visible(c.oid) and relname=%(name)s\n"
     ]
    },
    {
     "name": "stderr",
     "output_type": "stream",
     "text": [
      "INFO:sqlalchemy.engine.base.Engine:select relname from pg_class c join pg_namespace n on n.oid=c.relnamespace where pg_catalog.pg_table_is_visible(c.oid) and relname=%(name)s\n"
     ]
    },
    {
     "name": "stdout",
     "output_type": "stream",
     "text": [
      "2016-09-24 18:59:12,730 INFO sqlalchemy.engine.base.Engine {'name': 'citations'}\n"
     ]
    },
    {
     "name": "stderr",
     "output_type": "stream",
     "text": [
      "INFO:sqlalchemy.engine.base.Engine:{'name': 'citations'}\n"
     ]
    },
    {
     "name": "stdout",
     "output_type": "stream",
     "text": [
      "2016-09-24 18:59:12,732 INFO sqlalchemy.engine.base.Engine select relname from pg_class c join pg_namespace n on n.oid=c.relnamespace where pg_catalog.pg_table_is_visible(c.oid) and relname=%(name)s\n"
     ]
    },
    {
     "name": "stderr",
     "output_type": "stream",
     "text": [
      "INFO:sqlalchemy.engine.base.Engine:select relname from pg_class c join pg_namespace n on n.oid=c.relnamespace where pg_catalog.pg_table_is_visible(c.oid) and relname=%(name)s\n"
     ]
    },
    {
     "name": "stdout",
     "output_type": "stream",
     "text": [
      "2016-09-24 18:59:12,733 INFO sqlalchemy.engine.base.Engine {'name': 'users'}\n"
     ]
    },
    {
     "name": "stderr",
     "output_type": "stream",
     "text": [
      "INFO:sqlalchemy.engine.base.Engine:{'name': 'users'}\n"
     ]
    },
    {
     "name": "stdout",
     "output_type": "stream",
     "text": [
      "2016-09-24 18:59:12,734 INFO sqlalchemy.engine.base.Engine select relname from pg_class c join pg_namespace n on n.oid=c.relnamespace where pg_catalog.pg_table_is_visible(c.oid) and relname=%(name)s\n"
     ]
    },
    {
     "name": "stderr",
     "output_type": "stream",
     "text": [
      "INFO:sqlalchemy.engine.base.Engine:select relname from pg_class c join pg_namespace n on n.oid=c.relnamespace where pg_catalog.pg_table_is_visible(c.oid) and relname=%(name)s\n"
     ]
    },
    {
     "name": "stdout",
     "output_type": "stream",
     "text": [
      "2016-09-24 18:59:12,735 INFO sqlalchemy.engine.base.Engine {'name': 'citation_screenings'}\n"
     ]
    },
    {
     "name": "stderr",
     "output_type": "stream",
     "text": [
      "INFO:sqlalchemy.engine.base.Engine:{'name': 'citation_screenings'}\n"
     ]
    },
    {
     "name": "stdout",
     "output_type": "stream",
     "text": [
      "2016-09-24 18:59:12,737 INFO sqlalchemy.engine.base.Engine select relname from pg_class c join pg_namespace n on n.oid=c.relnamespace where pg_catalog.pg_table_is_visible(c.oid) and relname=%(name)s\n"
     ]
    },
    {
     "name": "stderr",
     "output_type": "stream",
     "text": [
      "INFO:sqlalchemy.engine.base.Engine:select relname from pg_class c join pg_namespace n on n.oid=c.relnamespace where pg_catalog.pg_table_is_visible(c.oid) and relname=%(name)s\n"
     ]
    },
    {
     "name": "stdout",
     "output_type": "stream",
     "text": [
      "2016-09-24 18:59:12,738 INFO sqlalchemy.engine.base.Engine {'name': 'review_plans'}\n"
     ]
    },
    {
     "name": "stderr",
     "output_type": "stream",
     "text": [
      "INFO:sqlalchemy.engine.base.Engine:{'name': 'review_plans'}\n"
     ]
    },
    {
     "name": "stdout",
     "output_type": "stream",
     "text": [
      "2016-09-24 18:59:12,741 INFO sqlalchemy.engine.base.Engine select relname from pg_class c join pg_namespace n on n.oid=c.relnamespace where pg_catalog.pg_table_is_visible(c.oid) and relname=%(name)s\n"
     ]
    },
    {
     "name": "stderr",
     "output_type": "stream",
     "text": [
      "INFO:sqlalchemy.engine.base.Engine:select relname from pg_class c join pg_namespace n on n.oid=c.relnamespace where pg_catalog.pg_table_is_visible(c.oid) and relname=%(name)s\n"
     ]
    },
    {
     "name": "stdout",
     "output_type": "stream",
     "text": [
      "2016-09-24 18:59:12,742 INFO sqlalchemy.engine.base.Engine {'name': 'reviews'}\n"
     ]
    },
    {
     "name": "stderr",
     "output_type": "stream",
     "text": [
      "INFO:sqlalchemy.engine.base.Engine:{'name': 'reviews'}\n"
     ]
    },
    {
     "name": "stdout",
     "output_type": "stream",
     "text": [
      "2016-09-24 18:59:12,745 INFO sqlalchemy.engine.base.Engine \n",
      "CREATE TABLE users (\n",
      "\tid SERIAL NOT NULL, \n",
      "\tcreated_at TIMESTAMP WITHOUT TIME ZONE DEFAULT (CURRENT_TIMESTAMP AT TIME ZONE 'UTC'), \n",
      "\tname VARCHAR(200) NOT NULL, \n",
      "\temail VARCHAR(200) NOT NULL, \n",
      "\tpassword VARCHAR(60) NOT NULL, \n",
      "\tPRIMARY KEY (id)\n",
      ")\n",
      "\n",
      "\n"
     ]
    },
    {
     "name": "stderr",
     "output_type": "stream",
     "text": [
      "INFO:sqlalchemy.engine.base.Engine:\n",
      "CREATE TABLE users (\n",
      "\tid SERIAL NOT NULL, \n",
      "\tcreated_at TIMESTAMP WITHOUT TIME ZONE DEFAULT (CURRENT_TIMESTAMP AT TIME ZONE 'UTC'), \n",
      "\tname VARCHAR(200) NOT NULL, \n",
      "\temail VARCHAR(200) NOT NULL, \n",
      "\tpassword VARCHAR(60) NOT NULL, \n",
      "\tPRIMARY KEY (id)\n",
      ")\n",
      "\n",
      "\n"
     ]
    },
    {
     "name": "stdout",
     "output_type": "stream",
     "text": [
      "2016-09-24 18:59:12,747 INFO sqlalchemy.engine.base.Engine {}\n"
     ]
    },
    {
     "name": "stderr",
     "output_type": "stream",
     "text": [
      "INFO:sqlalchemy.engine.base.Engine:{}\n"
     ]
    },
    {
     "name": "stdout",
     "output_type": "stream",
     "text": [
      "2016-09-24 18:59:12,751 INFO sqlalchemy.engine.base.Engine COMMIT\n"
     ]
    },
    {
     "name": "stderr",
     "output_type": "stream",
     "text": [
      "INFO:sqlalchemy.engine.base.Engine:COMMIT\n"
     ]
    },
    {
     "name": "stdout",
     "output_type": "stream",
     "text": [
      "2016-09-24 18:59:12,752 INFO sqlalchemy.engine.base.Engine CREATE UNIQUE INDEX ix_users_email ON users (email)\n"
     ]
    },
    {
     "name": "stderr",
     "output_type": "stream",
     "text": [
      "INFO:sqlalchemy.engine.base.Engine:CREATE UNIQUE INDEX ix_users_email ON users (email)\n"
     ]
    },
    {
     "name": "stdout",
     "output_type": "stream",
     "text": [
      "2016-09-24 18:59:12,753 INFO sqlalchemy.engine.base.Engine {}\n"
     ]
    },
    {
     "name": "stderr",
     "output_type": "stream",
     "text": [
      "INFO:sqlalchemy.engine.base.Engine:{}\n"
     ]
    },
    {
     "name": "stdout",
     "output_type": "stream",
     "text": [
      "2016-09-24 18:59:12,756 INFO sqlalchemy.engine.base.Engine COMMIT\n"
     ]
    },
    {
     "name": "stderr",
     "output_type": "stream",
     "text": [
      "INFO:sqlalchemy.engine.base.Engine:COMMIT\n"
     ]
    },
    {
     "name": "stdout",
     "output_type": "stream",
     "text": [
      "2016-09-24 18:59:12,758 INFO sqlalchemy.engine.base.Engine \n",
      "CREATE TABLE reviews (\n",
      "\tid SERIAL NOT NULL, \n",
      "\tcreated_at TIMESTAMP WITHOUT TIME ZONE DEFAULT (CURRENT_TIMESTAMP AT TIME ZONE 'UTC'), \n",
      "\towner_user_id INTEGER NOT NULL, \n",
      "\tname VARCHAR(500) NOT NULL, \n",
      "\tdescription TEXT, \n",
      "\tstatus VARCHAR(25) DEFAULT 'active' NOT NULL, \n",
      "\tnum_citation_screening_reviewers SMALLINT DEFAULT 1 NOT NULL, \n",
      "\tnum_fulltext_screening_reviewers SMALLINT DEFAULT 1 NOT NULL, \n",
      "\tPRIMARY KEY (id), \n",
      "\tFOREIGN KEY(owner_user_id) REFERENCES users (id) ON DELETE CASCADE\n",
      ")\n",
      "\n",
      "\n"
     ]
    },
    {
     "name": "stderr",
     "output_type": "stream",
     "text": [
      "INFO:sqlalchemy.engine.base.Engine:\n",
      "CREATE TABLE reviews (\n",
      "\tid SERIAL NOT NULL, \n",
      "\tcreated_at TIMESTAMP WITHOUT TIME ZONE DEFAULT (CURRENT_TIMESTAMP AT TIME ZONE 'UTC'), \n",
      "\towner_user_id INTEGER NOT NULL, \n",
      "\tname VARCHAR(500) NOT NULL, \n",
      "\tdescription TEXT, \n",
      "\tstatus VARCHAR(25) DEFAULT 'active' NOT NULL, \n",
      "\tnum_citation_screening_reviewers SMALLINT DEFAULT 1 NOT NULL, \n",
      "\tnum_fulltext_screening_reviewers SMALLINT DEFAULT 1 NOT NULL, \n",
      "\tPRIMARY KEY (id), \n",
      "\tFOREIGN KEY(owner_user_id) REFERENCES users (id) ON DELETE CASCADE\n",
      ")\n",
      "\n",
      "\n"
     ]
    },
    {
     "name": "stdout",
     "output_type": "stream",
     "text": [
      "2016-09-24 18:59:12,759 INFO sqlalchemy.engine.base.Engine {}\n"
     ]
    },
    {
     "name": "stderr",
     "output_type": "stream",
     "text": [
      "INFO:sqlalchemy.engine.base.Engine:{}\n"
     ]
    },
    {
     "name": "stdout",
     "output_type": "stream",
     "text": [
      "2016-09-24 18:59:12,763 INFO sqlalchemy.engine.base.Engine COMMIT\n"
     ]
    },
    {
     "name": "stderr",
     "output_type": "stream",
     "text": [
      "INFO:sqlalchemy.engine.base.Engine:COMMIT\n"
     ]
    },
    {
     "name": "stdout",
     "output_type": "stream",
     "text": [
      "2016-09-24 18:59:12,764 INFO sqlalchemy.engine.base.Engine CREATE INDEX ix_reviews_owner_user_id ON reviews (owner_user_id)\n"
     ]
    },
    {
     "name": "stderr",
     "output_type": "stream",
     "text": [
      "INFO:sqlalchemy.engine.base.Engine:CREATE INDEX ix_reviews_owner_user_id ON reviews (owner_user_id)\n"
     ]
    },
    {
     "name": "stdout",
     "output_type": "stream",
     "text": [
      "2016-09-24 18:59:12,765 INFO sqlalchemy.engine.base.Engine {}\n"
     ]
    },
    {
     "name": "stderr",
     "output_type": "stream",
     "text": [
      "INFO:sqlalchemy.engine.base.Engine:{}\n"
     ]
    },
    {
     "name": "stdout",
     "output_type": "stream",
     "text": [
      "2016-09-24 18:59:12,767 INFO sqlalchemy.engine.base.Engine COMMIT\n"
     ]
    },
    {
     "name": "stderr",
     "output_type": "stream",
     "text": [
      "INFO:sqlalchemy.engine.base.Engine:COMMIT\n"
     ]
    },
    {
     "name": "stdout",
     "output_type": "stream",
     "text": [
      "2016-09-24 18:59:12,768 INFO sqlalchemy.engine.base.Engine \n",
      "CREATE TABLE users_to_reviews (\n",
      "\tuser_id INTEGER, \n",
      "\treview_id INTEGER, \n",
      "\tFOREIGN KEY(user_id) REFERENCES users (id), \n",
      "\tFOREIGN KEY(review_id) REFERENCES reviews (id)\n",
      ")\n",
      "\n",
      "\n"
     ]
    },
    {
     "name": "stderr",
     "output_type": "stream",
     "text": [
      "INFO:sqlalchemy.engine.base.Engine:\n",
      "CREATE TABLE users_to_reviews (\n",
      "\tuser_id INTEGER, \n",
      "\treview_id INTEGER, \n",
      "\tFOREIGN KEY(user_id) REFERENCES users (id), \n",
      "\tFOREIGN KEY(review_id) REFERENCES reviews (id)\n",
      ")\n",
      "\n",
      "\n"
     ]
    },
    {
     "name": "stdout",
     "output_type": "stream",
     "text": [
      "2016-09-24 18:59:12,769 INFO sqlalchemy.engine.base.Engine {}\n"
     ]
    },
    {
     "name": "stderr",
     "output_type": "stream",
     "text": [
      "INFO:sqlalchemy.engine.base.Engine:{}\n"
     ]
    },
    {
     "name": "stdout",
     "output_type": "stream",
     "text": [
      "2016-09-24 18:59:12,771 INFO sqlalchemy.engine.base.Engine COMMIT\n"
     ]
    },
    {
     "name": "stderr",
     "output_type": "stream",
     "text": [
      "INFO:sqlalchemy.engine.base.Engine:COMMIT\n"
     ]
    },
    {
     "name": "stdout",
     "output_type": "stream",
     "text": [
      "2016-09-24 18:59:12,773 INFO sqlalchemy.engine.base.Engine CREATE INDEX ix_users_to_reviews_user_id ON users_to_reviews (user_id)\n"
     ]
    },
    {
     "name": "stderr",
     "output_type": "stream",
     "text": [
      "INFO:sqlalchemy.engine.base.Engine:CREATE INDEX ix_users_to_reviews_user_id ON users_to_reviews (user_id)\n"
     ]
    },
    {
     "name": "stdout",
     "output_type": "stream",
     "text": [
      "2016-09-24 18:59:12,773 INFO sqlalchemy.engine.base.Engine {}\n"
     ]
    },
    {
     "name": "stderr",
     "output_type": "stream",
     "text": [
      "INFO:sqlalchemy.engine.base.Engine:{}\n"
     ]
    },
    {
     "name": "stdout",
     "output_type": "stream",
     "text": [
      "2016-09-24 18:59:12,776 INFO sqlalchemy.engine.base.Engine COMMIT\n"
     ]
    },
    {
     "name": "stderr",
     "output_type": "stream",
     "text": [
      "INFO:sqlalchemy.engine.base.Engine:COMMIT\n"
     ]
    },
    {
     "name": "stdout",
     "output_type": "stream",
     "text": [
      "2016-09-24 18:59:12,777 INFO sqlalchemy.engine.base.Engine CREATE INDEX ix_users_to_reviews_review_id ON users_to_reviews (review_id)\n"
     ]
    },
    {
     "name": "stderr",
     "output_type": "stream",
     "text": [
      "INFO:sqlalchemy.engine.base.Engine:CREATE INDEX ix_users_to_reviews_review_id ON users_to_reviews (review_id)\n"
     ]
    },
    {
     "name": "stdout",
     "output_type": "stream",
     "text": [
      "2016-09-24 18:59:12,778 INFO sqlalchemy.engine.base.Engine {}\n"
     ]
    },
    {
     "name": "stderr",
     "output_type": "stream",
     "text": [
      "INFO:sqlalchemy.engine.base.Engine:{}\n"
     ]
    },
    {
     "name": "stdout",
     "output_type": "stream",
     "text": [
      "2016-09-24 18:59:12,780 INFO sqlalchemy.engine.base.Engine COMMIT\n"
     ]
    },
    {
     "name": "stderr",
     "output_type": "stream",
     "text": [
      "INFO:sqlalchemy.engine.base.Engine:COMMIT\n"
     ]
    },
    {
     "name": "stdout",
     "output_type": "stream",
     "text": [
      "2016-09-24 18:59:12,782 INFO sqlalchemy.engine.base.Engine \n",
      "CREATE TABLE citations (\n",
      "\tid BIGSERIAL NOT NULL, \n",
      "\tcreated_at TIMESTAMP WITHOUT TIME ZONE DEFAULT (CURRENT_TIMESTAMP AT TIME ZONE 'UTC'), \n",
      "\treview_id INTEGER NOT NULL, \n",
      "\tstatus VARCHAR(20) DEFAULT 'not_screened' NOT NULL, \n",
      "\tdeduplication JSONB DEFAULT '{}', \n",
      "\ttags VARCHAR(25)[] DEFAULT '{}', \n",
      "\ttype_of_work VARCHAR(25), \n",
      "\ttitle VARCHAR(250) DEFAULT 'unknown' NOT NULL, \n",
      "\tsecondary_title VARCHAR(250), \n",
      "\tabstract TEXT, \n",
      "\tpub_year SMALLINT, \n",
      "\tpub_month SMALLINT, \n",
      "\tauthors VARCHAR(100)[], \n",
      "\tkeywords VARCHAR(100)[], \n",
      "\ttype_of_reference VARCHAR(50), \n",
      "\tjournal_name VARCHAR(100), \n",
      "\tvolume VARCHAR(20), \n",
      "\tissue_number VARCHAR(20), \n",
      "\tdoi VARCHAR(100), \n",
      "\tissn VARCHAR(20), \n",
      "\tpublisher VARCHAR(100), \n",
      "\tlanguage VARCHAR(50), \n",
      "\tother_fields JSONB DEFAULT '{}', \n",
      "\tPRIMARY KEY (id), \n",
      "\tFOREIGN KEY(review_id) REFERENCES reviews (id) ON DELETE CASCADE\n",
      ")\n",
      "\n",
      "\n"
     ]
    },
    {
     "name": "stderr",
     "output_type": "stream",
     "text": [
      "INFO:sqlalchemy.engine.base.Engine:\n",
      "CREATE TABLE citations (\n",
      "\tid BIGSERIAL NOT NULL, \n",
      "\tcreated_at TIMESTAMP WITHOUT TIME ZONE DEFAULT (CURRENT_TIMESTAMP AT TIME ZONE 'UTC'), \n",
      "\treview_id INTEGER NOT NULL, \n",
      "\tstatus VARCHAR(20) DEFAULT 'not_screened' NOT NULL, \n",
      "\tdeduplication JSONB DEFAULT '{}', \n",
      "\ttags VARCHAR(25)[] DEFAULT '{}', \n",
      "\ttype_of_work VARCHAR(25), \n",
      "\ttitle VARCHAR(250) DEFAULT 'unknown' NOT NULL, \n",
      "\tsecondary_title VARCHAR(250), \n",
      "\tabstract TEXT, \n",
      "\tpub_year SMALLINT, \n",
      "\tpub_month SMALLINT, \n",
      "\tauthors VARCHAR(100)[], \n",
      "\tkeywords VARCHAR(100)[], \n",
      "\ttype_of_reference VARCHAR(50), \n",
      "\tjournal_name VARCHAR(100), \n",
      "\tvolume VARCHAR(20), \n",
      "\tissue_number VARCHAR(20), \n",
      "\tdoi VARCHAR(100), \n",
      "\tissn VARCHAR(20), \n",
      "\tpublisher VARCHAR(100), \n",
      "\tlanguage VARCHAR(50), \n",
      "\tother_fields JSONB DEFAULT '{}', \n",
      "\tPRIMARY KEY (id), \n",
      "\tFOREIGN KEY(review_id) REFERENCES reviews (id) ON DELETE CASCADE\n",
      ")\n",
      "\n",
      "\n"
     ]
    },
    {
     "name": "stdout",
     "output_type": "stream",
     "text": [
      "2016-09-24 18:59:12,783 INFO sqlalchemy.engine.base.Engine {}\n"
     ]
    },
    {
     "name": "stderr",
     "output_type": "stream",
     "text": [
      "INFO:sqlalchemy.engine.base.Engine:{}\n"
     ]
    },
    {
     "name": "stdout",
     "output_type": "stream",
     "text": [
      "2016-09-24 18:59:12,788 INFO sqlalchemy.engine.base.Engine COMMIT\n"
     ]
    },
    {
     "name": "stderr",
     "output_type": "stream",
     "text": [
      "INFO:sqlalchemy.engine.base.Engine:COMMIT\n"
     ]
    },
    {
     "name": "stdout",
     "output_type": "stream",
     "text": [
      "2016-09-24 18:59:12,789 INFO sqlalchemy.engine.base.Engine CREATE INDEX ix_citations_tags ON citations (tags)\n"
     ]
    },
    {
     "name": "stderr",
     "output_type": "stream",
     "text": [
      "INFO:sqlalchemy.engine.base.Engine:CREATE INDEX ix_citations_tags ON citations (tags)\n"
     ]
    },
    {
     "name": "stdout",
     "output_type": "stream",
     "text": [
      "2016-09-24 18:59:12,790 INFO sqlalchemy.engine.base.Engine {}\n"
     ]
    },
    {
     "name": "stderr",
     "output_type": "stream",
     "text": [
      "INFO:sqlalchemy.engine.base.Engine:{}\n"
     ]
    },
    {
     "name": "stdout",
     "output_type": "stream",
     "text": [
      "2016-09-24 18:59:12,792 INFO sqlalchemy.engine.base.Engine COMMIT\n"
     ]
    },
    {
     "name": "stderr",
     "output_type": "stream",
     "text": [
      "INFO:sqlalchemy.engine.base.Engine:COMMIT\n"
     ]
    },
    {
     "name": "stdout",
     "output_type": "stream",
     "text": [
      "2016-09-24 18:59:12,793 INFO sqlalchemy.engine.base.Engine CREATE INDEX ix_citations_review_id ON citations (review_id)\n"
     ]
    },
    {
     "name": "stderr",
     "output_type": "stream",
     "text": [
      "INFO:sqlalchemy.engine.base.Engine:CREATE INDEX ix_citations_review_id ON citations (review_id)\n"
     ]
    },
    {
     "name": "stdout",
     "output_type": "stream",
     "text": [
      "2016-09-24 18:59:12,794 INFO sqlalchemy.engine.base.Engine {}\n"
     ]
    },
    {
     "name": "stderr",
     "output_type": "stream",
     "text": [
      "INFO:sqlalchemy.engine.base.Engine:{}\n"
     ]
    },
    {
     "name": "stdout",
     "output_type": "stream",
     "text": [
      "2016-09-24 18:59:12,796 INFO sqlalchemy.engine.base.Engine COMMIT\n"
     ]
    },
    {
     "name": "stderr",
     "output_type": "stream",
     "text": [
      "INFO:sqlalchemy.engine.base.Engine:COMMIT\n"
     ]
    },
    {
     "name": "stdout",
     "output_type": "stream",
     "text": [
      "2016-09-24 18:59:12,798 INFO sqlalchemy.engine.base.Engine CREATE INDEX ix_citations_status ON citations (status)\n"
     ]
    },
    {
     "name": "stderr",
     "output_type": "stream",
     "text": [
      "INFO:sqlalchemy.engine.base.Engine:CREATE INDEX ix_citations_status ON citations (status)\n"
     ]
    },
    {
     "name": "stdout",
     "output_type": "stream",
     "text": [
      "2016-09-24 18:59:12,799 INFO sqlalchemy.engine.base.Engine {}\n"
     ]
    },
    {
     "name": "stderr",
     "output_type": "stream",
     "text": [
      "INFO:sqlalchemy.engine.base.Engine:{}\n"
     ]
    },
    {
     "name": "stdout",
     "output_type": "stream",
     "text": [
      "2016-09-24 18:59:12,801 INFO sqlalchemy.engine.base.Engine COMMIT\n"
     ]
    },
    {
     "name": "stderr",
     "output_type": "stream",
     "text": [
      "INFO:sqlalchemy.engine.base.Engine:COMMIT\n"
     ]
    },
    {
     "name": "stdout",
     "output_type": "stream",
     "text": [
      "2016-09-24 18:59:12,803 INFO sqlalchemy.engine.base.Engine \n",
      "CREATE TABLE review_plans (\n",
      "\tid SERIAL NOT NULL, \n",
      "\treview_id INTEGER NOT NULL, \n",
      "\tobjective TEXT, \n",
      "\tresearch_questions VARCHAR(300)[] DEFAULT '{}', \n",
      "\tpico JSONB DEFAULT '{}', \n",
      "\tkeyterms JSONB DEFAULT '{}', \n",
      "\tselection_criteria JSONB DEFAULT '{}', \n",
      "\tdata_extraction_form JSONB DEFAULT '{}', \n",
      "\tPRIMARY KEY (id), \n",
      "\tFOREIGN KEY(review_id) REFERENCES reviews (id) ON DELETE CASCADE\n",
      ")\n",
      "\n",
      "\n"
     ]
    },
    {
     "name": "stderr",
     "output_type": "stream",
     "text": [
      "INFO:sqlalchemy.engine.base.Engine:\n",
      "CREATE TABLE review_plans (\n",
      "\tid SERIAL NOT NULL, \n",
      "\treview_id INTEGER NOT NULL, \n",
      "\tobjective TEXT, \n",
      "\tresearch_questions VARCHAR(300)[] DEFAULT '{}', \n",
      "\tpico JSONB DEFAULT '{}', \n",
      "\tkeyterms JSONB DEFAULT '{}', \n",
      "\tselection_criteria JSONB DEFAULT '{}', \n",
      "\tdata_extraction_form JSONB DEFAULT '{}', \n",
      "\tPRIMARY KEY (id), \n",
      "\tFOREIGN KEY(review_id) REFERENCES reviews (id) ON DELETE CASCADE\n",
      ")\n",
      "\n",
      "\n"
     ]
    },
    {
     "name": "stdout",
     "output_type": "stream",
     "text": [
      "2016-09-24 18:59:12,803 INFO sqlalchemy.engine.base.Engine {}\n"
     ]
    },
    {
     "name": "stderr",
     "output_type": "stream",
     "text": [
      "INFO:sqlalchemy.engine.base.Engine:{}\n"
     ]
    },
    {
     "name": "stdout",
     "output_type": "stream",
     "text": [
      "2016-09-24 18:59:12,808 INFO sqlalchemy.engine.base.Engine COMMIT\n"
     ]
    },
    {
     "name": "stderr",
     "output_type": "stream",
     "text": [
      "INFO:sqlalchemy.engine.base.Engine:COMMIT\n"
     ]
    },
    {
     "name": "stdout",
     "output_type": "stream",
     "text": [
      "2016-09-24 18:59:12,810 INFO sqlalchemy.engine.base.Engine CREATE UNIQUE INDEX ix_review_plans_review_id ON review_plans (review_id)\n"
     ]
    },
    {
     "name": "stderr",
     "output_type": "stream",
     "text": [
      "INFO:sqlalchemy.engine.base.Engine:CREATE UNIQUE INDEX ix_review_plans_review_id ON review_plans (review_id)\n"
     ]
    },
    {
     "name": "stdout",
     "output_type": "stream",
     "text": [
      "2016-09-24 18:59:12,810 INFO sqlalchemy.engine.base.Engine {}\n"
     ]
    },
    {
     "name": "stderr",
     "output_type": "stream",
     "text": [
      "INFO:sqlalchemy.engine.base.Engine:{}\n"
     ]
    },
    {
     "name": "stdout",
     "output_type": "stream",
     "text": [
      "2016-09-24 18:59:12,813 INFO sqlalchemy.engine.base.Engine COMMIT\n"
     ]
    },
    {
     "name": "stderr",
     "output_type": "stream",
     "text": [
      "INFO:sqlalchemy.engine.base.Engine:COMMIT\n"
     ]
    },
    {
     "name": "stdout",
     "output_type": "stream",
     "text": [
      "2016-09-24 18:59:12,814 INFO sqlalchemy.engine.base.Engine \n",
      "CREATE TABLE fulltexts (\n",
      "\tid BIGSERIAL NOT NULL, \n",
      "\tcreated_at TIMESTAMP WITHOUT TIME ZONE DEFAULT (CURRENT_TIMESTAMP AT TIME ZONE 'UTC'), \n",
      "\treview_id INTEGER NOT NULL, \n",
      "\tcitation_id BIGINT NOT NULL, \n",
      "\tstatus VARCHAR(20) DEFAULT 'not_screened' NOT NULL, \n",
      "\tfilename VARCHAR(30) NOT NULL, \n",
      "\tcontent TEXT, \n",
      "\textracted_info JSONB, \n",
      "\tPRIMARY KEY (id), \n",
      "\tFOREIGN KEY(review_id) REFERENCES reviews (id) ON DELETE CASCADE, \n",
      "\tFOREIGN KEY(citation_id) REFERENCES citations (id) ON DELETE CASCADE, \n",
      "\tUNIQUE (filename)\n",
      ")\n",
      "\n",
      "\n"
     ]
    },
    {
     "name": "stderr",
     "output_type": "stream",
     "text": [
      "INFO:sqlalchemy.engine.base.Engine:\n",
      "CREATE TABLE fulltexts (\n",
      "\tid BIGSERIAL NOT NULL, \n",
      "\tcreated_at TIMESTAMP WITHOUT TIME ZONE DEFAULT (CURRENT_TIMESTAMP AT TIME ZONE 'UTC'), \n",
      "\treview_id INTEGER NOT NULL, \n",
      "\tcitation_id BIGINT NOT NULL, \n",
      "\tstatus VARCHAR(20) DEFAULT 'not_screened' NOT NULL, \n",
      "\tfilename VARCHAR(30) NOT NULL, \n",
      "\tcontent TEXT, \n",
      "\textracted_info JSONB, \n",
      "\tPRIMARY KEY (id), \n",
      "\tFOREIGN KEY(review_id) REFERENCES reviews (id) ON DELETE CASCADE, \n",
      "\tFOREIGN KEY(citation_id) REFERENCES citations (id) ON DELETE CASCADE, \n",
      "\tUNIQUE (filename)\n",
      ")\n",
      "\n",
      "\n"
     ]
    },
    {
     "name": "stdout",
     "output_type": "stream",
     "text": [
      "2016-09-24 18:59:12,815 INFO sqlalchemy.engine.base.Engine {}\n"
     ]
    },
    {
     "name": "stderr",
     "output_type": "stream",
     "text": [
      "INFO:sqlalchemy.engine.base.Engine:{}\n"
     ]
    },
    {
     "name": "stdout",
     "output_type": "stream",
     "text": [
      "2016-09-24 18:59:12,821 INFO sqlalchemy.engine.base.Engine COMMIT\n"
     ]
    },
    {
     "name": "stderr",
     "output_type": "stream",
     "text": [
      "INFO:sqlalchemy.engine.base.Engine:COMMIT\n"
     ]
    },
    {
     "name": "stdout",
     "output_type": "stream",
     "text": [
      "2016-09-24 18:59:12,822 INFO sqlalchemy.engine.base.Engine CREATE UNIQUE INDEX ix_fulltexts_citation_id ON fulltexts (citation_id)\n"
     ]
    },
    {
     "name": "stderr",
     "output_type": "stream",
     "text": [
      "INFO:sqlalchemy.engine.base.Engine:CREATE UNIQUE INDEX ix_fulltexts_citation_id ON fulltexts (citation_id)\n"
     ]
    },
    {
     "name": "stdout",
     "output_type": "stream",
     "text": [
      "2016-09-24 18:59:12,823 INFO sqlalchemy.engine.base.Engine {}\n"
     ]
    },
    {
     "name": "stderr",
     "output_type": "stream",
     "text": [
      "INFO:sqlalchemy.engine.base.Engine:{}\n"
     ]
    },
    {
     "name": "stdout",
     "output_type": "stream",
     "text": [
      "2016-09-24 18:59:12,826 INFO sqlalchemy.engine.base.Engine COMMIT\n"
     ]
    },
    {
     "name": "stderr",
     "output_type": "stream",
     "text": [
      "INFO:sqlalchemy.engine.base.Engine:COMMIT\n"
     ]
    },
    {
     "name": "stdout",
     "output_type": "stream",
     "text": [
      "2016-09-24 18:59:12,827 INFO sqlalchemy.engine.base.Engine CREATE INDEX ix_fulltexts_review_id ON fulltexts (review_id)\n"
     ]
    },
    {
     "name": "stderr",
     "output_type": "stream",
     "text": [
      "INFO:sqlalchemy.engine.base.Engine:CREATE INDEX ix_fulltexts_review_id ON fulltexts (review_id)\n"
     ]
    },
    {
     "name": "stdout",
     "output_type": "stream",
     "text": [
      "2016-09-24 18:59:12,828 INFO sqlalchemy.engine.base.Engine {}\n"
     ]
    },
    {
     "name": "stderr",
     "output_type": "stream",
     "text": [
      "INFO:sqlalchemy.engine.base.Engine:{}\n"
     ]
    },
    {
     "name": "stdout",
     "output_type": "stream",
     "text": [
      "2016-09-24 18:59:12,830 INFO sqlalchemy.engine.base.Engine COMMIT\n"
     ]
    },
    {
     "name": "stderr",
     "output_type": "stream",
     "text": [
      "INFO:sqlalchemy.engine.base.Engine:COMMIT\n"
     ]
    },
    {
     "name": "stdout",
     "output_type": "stream",
     "text": [
      "2016-09-24 18:59:12,831 INFO sqlalchemy.engine.base.Engine CREATE INDEX ix_fulltexts_status ON fulltexts (status)\n"
     ]
    },
    {
     "name": "stderr",
     "output_type": "stream",
     "text": [
      "INFO:sqlalchemy.engine.base.Engine:CREATE INDEX ix_fulltexts_status ON fulltexts (status)\n"
     ]
    },
    {
     "name": "stdout",
     "output_type": "stream",
     "text": [
      "2016-09-24 18:59:12,832 INFO sqlalchemy.engine.base.Engine {}\n"
     ]
    },
    {
     "name": "stderr",
     "output_type": "stream",
     "text": [
      "INFO:sqlalchemy.engine.base.Engine:{}\n"
     ]
    },
    {
     "name": "stdout",
     "output_type": "stream",
     "text": [
      "2016-09-24 18:59:12,834 INFO sqlalchemy.engine.base.Engine COMMIT\n"
     ]
    },
    {
     "name": "stderr",
     "output_type": "stream",
     "text": [
      "INFO:sqlalchemy.engine.base.Engine:COMMIT\n"
     ]
    },
    {
     "name": "stdout",
     "output_type": "stream",
     "text": [
      "2016-09-24 18:59:12,836 INFO sqlalchemy.engine.base.Engine \n",
      "CREATE TABLE citation_screenings (\n",
      "\tid BIGSERIAL NOT NULL, \n",
      "\tcreated_at TIMESTAMP WITHOUT TIME ZONE DEFAULT (CURRENT_TIMESTAMP AT TIME ZONE 'UTC'), \n",
      "\treview_id INTEGER NOT NULL, \n",
      "\tuser_id INTEGER NOT NULL, \n",
      "\tcitation_id BIGINT NOT NULL, \n",
      "\tstatus VARCHAR(20) NOT NULL, \n",
      "\texclude_reasons VARCHAR(25)[], \n",
      "\tPRIMARY KEY (id), \n",
      "\tCONSTRAINT review_user_citation_uc UNIQUE (review_id, user_id, citation_id), \n",
      "\tFOREIGN KEY(review_id) REFERENCES reviews (id) ON DELETE CASCADE, \n",
      "\tFOREIGN KEY(user_id) REFERENCES users (id) ON DELETE SET NULL, \n",
      "\tFOREIGN KEY(citation_id) REFERENCES citations (id) ON DELETE CASCADE\n",
      ")\n",
      "\n",
      "\n"
     ]
    },
    {
     "name": "stderr",
     "output_type": "stream",
     "text": [
      "INFO:sqlalchemy.engine.base.Engine:\n",
      "CREATE TABLE citation_screenings (\n",
      "\tid BIGSERIAL NOT NULL, \n",
      "\tcreated_at TIMESTAMP WITHOUT TIME ZONE DEFAULT (CURRENT_TIMESTAMP AT TIME ZONE 'UTC'), \n",
      "\treview_id INTEGER NOT NULL, \n",
      "\tuser_id INTEGER NOT NULL, \n",
      "\tcitation_id BIGINT NOT NULL, \n",
      "\tstatus VARCHAR(20) NOT NULL, \n",
      "\texclude_reasons VARCHAR(25)[], \n",
      "\tPRIMARY KEY (id), \n",
      "\tCONSTRAINT review_user_citation_uc UNIQUE (review_id, user_id, citation_id), \n",
      "\tFOREIGN KEY(review_id) REFERENCES reviews (id) ON DELETE CASCADE, \n",
      "\tFOREIGN KEY(user_id) REFERENCES users (id) ON DELETE SET NULL, \n",
      "\tFOREIGN KEY(citation_id) REFERENCES citations (id) ON DELETE CASCADE\n",
      ")\n",
      "\n",
      "\n"
     ]
    },
    {
     "name": "stdout",
     "output_type": "stream",
     "text": [
      "2016-09-24 18:59:12,837 INFO sqlalchemy.engine.base.Engine {}\n"
     ]
    },
    {
     "name": "stderr",
     "output_type": "stream",
     "text": [
      "INFO:sqlalchemy.engine.base.Engine:{}\n"
     ]
    },
    {
     "name": "stdout",
     "output_type": "stream",
     "text": [
      "2016-09-24 18:59:12,844 INFO sqlalchemy.engine.base.Engine COMMIT\n"
     ]
    },
    {
     "name": "stderr",
     "output_type": "stream",
     "text": [
      "INFO:sqlalchemy.engine.base.Engine:COMMIT\n"
     ]
    },
    {
     "name": "stdout",
     "output_type": "stream",
     "text": [
      "2016-09-24 18:59:12,845 INFO sqlalchemy.engine.base.Engine CREATE INDEX ix_citation_screenings_user_id ON citation_screenings (user_id)\n"
     ]
    },
    {
     "name": "stderr",
     "output_type": "stream",
     "text": [
      "INFO:sqlalchemy.engine.base.Engine:CREATE INDEX ix_citation_screenings_user_id ON citation_screenings (user_id)\n"
     ]
    },
    {
     "name": "stdout",
     "output_type": "stream",
     "text": [
      "2016-09-24 18:59:12,846 INFO sqlalchemy.engine.base.Engine {}\n"
     ]
    },
    {
     "name": "stderr",
     "output_type": "stream",
     "text": [
      "INFO:sqlalchemy.engine.base.Engine:{}\n"
     ]
    },
    {
     "name": "stdout",
     "output_type": "stream",
     "text": [
      "2016-09-24 18:59:12,849 INFO sqlalchemy.engine.base.Engine COMMIT\n"
     ]
    },
    {
     "name": "stderr",
     "output_type": "stream",
     "text": [
      "INFO:sqlalchemy.engine.base.Engine:COMMIT\n"
     ]
    },
    {
     "name": "stdout",
     "output_type": "stream",
     "text": [
      "2016-09-24 18:59:12,851 INFO sqlalchemy.engine.base.Engine CREATE INDEX ix_citation_screenings_status ON citation_screenings (status)\n"
     ]
    },
    {
     "name": "stderr",
     "output_type": "stream",
     "text": [
      "INFO:sqlalchemy.engine.base.Engine:CREATE INDEX ix_citation_screenings_status ON citation_screenings (status)\n"
     ]
    },
    {
     "name": "stdout",
     "output_type": "stream",
     "text": [
      "2016-09-24 18:59:12,852 INFO sqlalchemy.engine.base.Engine {}\n"
     ]
    },
    {
     "name": "stderr",
     "output_type": "stream",
     "text": [
      "INFO:sqlalchemy.engine.base.Engine:{}\n"
     ]
    },
    {
     "name": "stdout",
     "output_type": "stream",
     "text": [
      "2016-09-24 18:59:12,854 INFO sqlalchemy.engine.base.Engine COMMIT\n"
     ]
    },
    {
     "name": "stderr",
     "output_type": "stream",
     "text": [
      "INFO:sqlalchemy.engine.base.Engine:COMMIT\n"
     ]
    },
    {
     "name": "stdout",
     "output_type": "stream",
     "text": [
      "2016-09-24 18:59:12,855 INFO sqlalchemy.engine.base.Engine CREATE INDEX ix_citation_screenings_review_id ON citation_screenings (review_id)\n"
     ]
    },
    {
     "name": "stderr",
     "output_type": "stream",
     "text": [
      "INFO:sqlalchemy.engine.base.Engine:CREATE INDEX ix_citation_screenings_review_id ON citation_screenings (review_id)\n"
     ]
    },
    {
     "name": "stdout",
     "output_type": "stream",
     "text": [
      "2016-09-24 18:59:12,856 INFO sqlalchemy.engine.base.Engine {}\n"
     ]
    },
    {
     "name": "stderr",
     "output_type": "stream",
     "text": [
      "INFO:sqlalchemy.engine.base.Engine:{}\n"
     ]
    },
    {
     "name": "stdout",
     "output_type": "stream",
     "text": [
      "2016-09-24 18:59:12,858 INFO sqlalchemy.engine.base.Engine COMMIT\n"
     ]
    },
    {
     "name": "stderr",
     "output_type": "stream",
     "text": [
      "INFO:sqlalchemy.engine.base.Engine:COMMIT\n"
     ]
    },
    {
     "name": "stdout",
     "output_type": "stream",
     "text": [
      "2016-09-24 18:59:12,859 INFO sqlalchemy.engine.base.Engine CREATE INDEX ix_citation_screenings_citation_id ON citation_screenings (citation_id)\n"
     ]
    },
    {
     "name": "stderr",
     "output_type": "stream",
     "text": [
      "INFO:sqlalchemy.engine.base.Engine:CREATE INDEX ix_citation_screenings_citation_id ON citation_screenings (citation_id)\n"
     ]
    },
    {
     "name": "stdout",
     "output_type": "stream",
     "text": [
      "2016-09-24 18:59:12,860 INFO sqlalchemy.engine.base.Engine {}\n"
     ]
    },
    {
     "name": "stderr",
     "output_type": "stream",
     "text": [
      "INFO:sqlalchemy.engine.base.Engine:{}\n"
     ]
    },
    {
     "name": "stdout",
     "output_type": "stream",
     "text": [
      "2016-09-24 18:59:12,863 INFO sqlalchemy.engine.base.Engine COMMIT\n"
     ]
    },
    {
     "name": "stderr",
     "output_type": "stream",
     "text": [
      "INFO:sqlalchemy.engine.base.Engine:COMMIT\n"
     ]
    },
    {
     "name": "stdout",
     "output_type": "stream",
     "text": [
      "2016-09-24 18:59:12,866 INFO sqlalchemy.engine.base.Engine \n",
      "CREATE TABLE fulltext_screenings (\n",
      "\tid BIGSERIAL NOT NULL, \n",
      "\tcreated_at TIMESTAMP WITHOUT TIME ZONE DEFAULT (CURRENT_TIMESTAMP AT TIME ZONE 'UTC'), \n",
      "\treview_id INTEGER NOT NULL, \n",
      "\tuser_id INTEGER NOT NULL, \n",
      "\tfulltext_id BIGINT NOT NULL, \n",
      "\tstatus VARCHAR(20) NOT NULL, \n",
      "\texclude_reasons VARCHAR(25)[], \n",
      "\tPRIMARY KEY (id), \n",
      "\tCONSTRAINT review_user_fulltext_uc UNIQUE (review_id, user_id, fulltext_id), \n",
      "\tFOREIGN KEY(review_id) REFERENCES reviews (id) ON DELETE CASCADE, \n",
      "\tFOREIGN KEY(user_id) REFERENCES users (id) ON DELETE SET NULL, \n",
      "\tFOREIGN KEY(fulltext_id) REFERENCES fulltexts (id) ON DELETE CASCADE\n",
      ")\n",
      "\n",
      "\n"
     ]
    },
    {
     "name": "stderr",
     "output_type": "stream",
     "text": [
      "INFO:sqlalchemy.engine.base.Engine:\n",
      "CREATE TABLE fulltext_screenings (\n",
      "\tid BIGSERIAL NOT NULL, \n",
      "\tcreated_at TIMESTAMP WITHOUT TIME ZONE DEFAULT (CURRENT_TIMESTAMP AT TIME ZONE 'UTC'), \n",
      "\treview_id INTEGER NOT NULL, \n",
      "\tuser_id INTEGER NOT NULL, \n",
      "\tfulltext_id BIGINT NOT NULL, \n",
      "\tstatus VARCHAR(20) NOT NULL, \n",
      "\texclude_reasons VARCHAR(25)[], \n",
      "\tPRIMARY KEY (id), \n",
      "\tCONSTRAINT review_user_fulltext_uc UNIQUE (review_id, user_id, fulltext_id), \n",
      "\tFOREIGN KEY(review_id) REFERENCES reviews (id) ON DELETE CASCADE, \n",
      "\tFOREIGN KEY(user_id) REFERENCES users (id) ON DELETE SET NULL, \n",
      "\tFOREIGN KEY(fulltext_id) REFERENCES fulltexts (id) ON DELETE CASCADE\n",
      ")\n",
      "\n",
      "\n"
     ]
    },
    {
     "name": "stdout",
     "output_type": "stream",
     "text": [
      "2016-09-24 18:59:12,867 INFO sqlalchemy.engine.base.Engine {}\n"
     ]
    },
    {
     "name": "stderr",
     "output_type": "stream",
     "text": [
      "INFO:sqlalchemy.engine.base.Engine:{}\n"
     ]
    },
    {
     "name": "stdout",
     "output_type": "stream",
     "text": [
      "2016-09-24 18:59:12,873 INFO sqlalchemy.engine.base.Engine COMMIT\n"
     ]
    },
    {
     "name": "stderr",
     "output_type": "stream",
     "text": [
      "INFO:sqlalchemy.engine.base.Engine:COMMIT\n"
     ]
    },
    {
     "name": "stdout",
     "output_type": "stream",
     "text": [
      "2016-09-24 18:59:12,874 INFO sqlalchemy.engine.base.Engine CREATE INDEX ix_fulltext_screenings_user_id ON fulltext_screenings (user_id)\n"
     ]
    },
    {
     "name": "stderr",
     "output_type": "stream",
     "text": [
      "INFO:sqlalchemy.engine.base.Engine:CREATE INDEX ix_fulltext_screenings_user_id ON fulltext_screenings (user_id)\n"
     ]
    },
    {
     "name": "stdout",
     "output_type": "stream",
     "text": [
      "2016-09-24 18:59:12,875 INFO sqlalchemy.engine.base.Engine {}\n"
     ]
    },
    {
     "name": "stderr",
     "output_type": "stream",
     "text": [
      "INFO:sqlalchemy.engine.base.Engine:{}\n"
     ]
    },
    {
     "name": "stdout",
     "output_type": "stream",
     "text": [
      "2016-09-24 18:59:12,877 INFO sqlalchemy.engine.base.Engine COMMIT\n"
     ]
    },
    {
     "name": "stderr",
     "output_type": "stream",
     "text": [
      "INFO:sqlalchemy.engine.base.Engine:COMMIT\n"
     ]
    },
    {
     "name": "stdout",
     "output_type": "stream",
     "text": [
      "2016-09-24 18:59:12,878 INFO sqlalchemy.engine.base.Engine CREATE INDEX ix_fulltext_screenings_status ON fulltext_screenings (status)\n"
     ]
    },
    {
     "name": "stderr",
     "output_type": "stream",
     "text": [
      "INFO:sqlalchemy.engine.base.Engine:CREATE INDEX ix_fulltext_screenings_status ON fulltext_screenings (status)\n"
     ]
    },
    {
     "name": "stdout",
     "output_type": "stream",
     "text": [
      "2016-09-24 18:59:12,879 INFO sqlalchemy.engine.base.Engine {}\n"
     ]
    },
    {
     "name": "stderr",
     "output_type": "stream",
     "text": [
      "INFO:sqlalchemy.engine.base.Engine:{}\n"
     ]
    },
    {
     "name": "stdout",
     "output_type": "stream",
     "text": [
      "2016-09-24 18:59:12,882 INFO sqlalchemy.engine.base.Engine COMMIT\n"
     ]
    },
    {
     "name": "stderr",
     "output_type": "stream",
     "text": [
      "INFO:sqlalchemy.engine.base.Engine:COMMIT\n"
     ]
    },
    {
     "name": "stdout",
     "output_type": "stream",
     "text": [
      "2016-09-24 18:59:12,883 INFO sqlalchemy.engine.base.Engine CREATE INDEX ix_fulltext_screenings_review_id ON fulltext_screenings (review_id)\n"
     ]
    },
    {
     "name": "stderr",
     "output_type": "stream",
     "text": [
      "INFO:sqlalchemy.engine.base.Engine:CREATE INDEX ix_fulltext_screenings_review_id ON fulltext_screenings (review_id)\n"
     ]
    },
    {
     "name": "stdout",
     "output_type": "stream",
     "text": [
      "2016-09-24 18:59:12,884 INFO sqlalchemy.engine.base.Engine {}\n"
     ]
    },
    {
     "name": "stderr",
     "output_type": "stream",
     "text": [
      "INFO:sqlalchemy.engine.base.Engine:{}\n"
     ]
    },
    {
     "name": "stdout",
     "output_type": "stream",
     "text": [
      "2016-09-24 18:59:12,886 INFO sqlalchemy.engine.base.Engine COMMIT\n"
     ]
    },
    {
     "name": "stderr",
     "output_type": "stream",
     "text": [
      "INFO:sqlalchemy.engine.base.Engine:COMMIT\n"
     ]
    },
    {
     "name": "stdout",
     "output_type": "stream",
     "text": [
      "2016-09-24 18:59:12,887 INFO sqlalchemy.engine.base.Engine CREATE INDEX ix_fulltext_screenings_fulltext_id ON fulltext_screenings (fulltext_id)\n"
     ]
    },
    {
     "name": "stderr",
     "output_type": "stream",
     "text": [
      "INFO:sqlalchemy.engine.base.Engine:CREATE INDEX ix_fulltext_screenings_fulltext_id ON fulltext_screenings (fulltext_id)\n"
     ]
    },
    {
     "name": "stdout",
     "output_type": "stream",
     "text": [
      "2016-09-24 18:59:12,887 INFO sqlalchemy.engine.base.Engine {}\n"
     ]
    },
    {
     "name": "stderr",
     "output_type": "stream",
     "text": [
      "INFO:sqlalchemy.engine.base.Engine:{}\n"
     ]
    },
    {
     "name": "stdout",
     "output_type": "stream",
     "text": [
      "2016-09-24 18:59:12,889 INFO sqlalchemy.engine.base.Engine COMMIT\n"
     ]
    },
    {
     "name": "stderr",
     "output_type": "stream",
     "text": [
      "INFO:sqlalchemy.engine.base.Engine:COMMIT\n"
     ]
    }
   ],
   "source": [
    "%run ../reset_db.py"
   ]
  },
  {
   "cell_type": "markdown",
   "metadata": {},
   "source": [
    "---\n",
    "\n",
    "## Populate the Database"
   ]
  },
  {
   "cell_type": "markdown",
   "metadata": {},
   "source": [
    "### Register new users via `POST` to `/users`"
   ]
  },
  {
   "cell_type": "code",
   "execution_count": 133,
   "metadata": {
    "collapsed": true
   },
   "outputs": [],
   "source": [
    "test = False\n",
    "users_to_post = [\n",
    "    {'name': 'Burton DeWilde', 'email': 'burtdewilde@gmail.com', 'password': 'password', 'test': test},\n",
    "    {'name': 'Ray Shah', 'email': 'rayshah@thinkdesign.com', 'password': 'password', 'test': test},\n",
    "    {'name': 'Caitlin Augustin', 'email': 'caugustin@rsmas.miami.edu', 'password': 'password', 'test': test},\n",
    "    {'name': 'Bob Minnich', 'email': 'rcm2164@columbia.edu', 'password': 'password', 'test': test},\n",
    "    {'name': 'Sam Anzaroot', 'email': 'samanzaroot@gmail.com', 'password': 'password', 'test': test}]"
   ]
  },
  {
   "cell_type": "code",
   "execution_count": 134,
   "metadata": {
    "collapsed": false,
    "scrolled": false
   },
   "outputs": [
    {
     "name": "stdout",
     "output_type": "stream",
     "text": [
      "http://localhost:5000/users\n",
      "{'created_at': '2016-09-24T22:59:14.925802+00:00',\n",
      " 'email': 'burtdewilde@gmail.com',\n",
      " 'id': 1,\n",
      " 'name': 'Burton DeWilde'}\n",
      "http://localhost:5000/users\n",
      "{'created_at': '2016-09-24T22:59:15.219771+00:00',\n",
      " 'email': 'rayshah@thinkdesign.com',\n",
      " 'id': 2,\n",
      " 'name': 'Ray Shah'}\n",
      "http://localhost:5000/users\n",
      "{'created_at': '2016-09-24T22:59:15.511110+00:00',\n",
      " 'email': 'caugustin@rsmas.miami.edu',\n",
      " 'id': 3,\n",
      " 'name': 'Caitlin Augustin'}\n",
      "http://localhost:5000/users\n",
      "{'created_at': '2016-09-24T22:59:15.800632+00:00',\n",
      " 'email': 'rcm2164@columbia.edu',\n",
      " 'id': 4,\n",
      " 'name': 'Bob Minnich'}\n",
      "http://localhost:5000/users\n",
      "{'created_at': '2016-09-24T22:59:16.094632+00:00',\n",
      " 'email': 'samanzaroot@gmail.com',\n",
      " 'id': 5,\n",
      " 'name': 'Sam Anzaroot'}\n"
     ]
    }
   ],
   "source": [
    "for user_to_post in users_to_post:\n",
    "    user = call_endpoint('users', 'post', json=user_to_post)\n",
    "    pprint(user)"
   ]
  },
  {
   "cell_type": "markdown",
   "metadata": {},
   "source": [
    "### Authenticate the current user against an existing user"
   ]
  },
  {
   "cell_type": "code",
   "execution_count": 135,
   "metadata": {
    "collapsed": false
   },
   "outputs": [
    {
     "name": "stdout",
     "output_type": "stream",
     "text": [
      "http://localhost:5000/authtoken\n"
     ]
    }
   ],
   "source": [
    "auth = get_auth_token('burtdewilde@gmail.com', 'password')"
   ]
  },
  {
   "cell_type": "markdown",
   "metadata": {},
   "source": [
    "### Create new reviews via `POST` to `/reviews`"
   ]
  },
  {
   "cell_type": "code",
   "execution_count": 136,
   "metadata": {
    "collapsed": false
   },
   "outputs": [],
   "source": [
    "test = False\n",
    "reviews_to_post = [\n",
    "    {'name': 'Conservation International Demo',\n",
    "     'description': 'International policy has sought to emphasize and strengthen the link between the conservation of natural ecosystems and human development. Furthermore, international conservation organizations have broadened their objectives beyond nature-based goals to recognize the contribution of conservation interventions in sustaining ecosystem services upon which human populations are dependent. While many indices have been developed to measure various human well-being domains, the strength of evidence to support the effects, both positive and negative, of conservation interventions on human well-being, is still unclear.\\n\\nThis protocol describes the methodology for examining the research question: What are the impacts of nature conservation interventions on different domains of human well-being in developing countries? Using systematic mapping, this study will scope and identify studies that measure the impacts of nature conservation interventions on human well-being at local to regional scales. The primary objective of this study is to synthesize the state and distribution of the existing evidence base linking conservation and human well-being. In addition, a theory of change approach will be used to identify and characterize the causal linkages between conservation and human well-being, with attention on those studies that examine the role of ecosystem services. Key trends among the resulting studies will be synthesized and the range of studies organized and presented in a graphical matrix illustrating the relationships between types of interventions and types of outcomes. Results of the study are intended to help conservation and development practitioners and the academic community to improve research studies and conservation practices in developing countries in order to achieve both conservation and human well-being outcomes.',\n",
    "     'test': test},\n",
    "    {'name': \"Burton's Great Systematic Review\",\n",
    "     'description': 'I do great systematic reviews. Really, really great.',\n",
    "     'test': test}]"
   ]
  },
  {
   "cell_type": "code",
   "execution_count": 137,
   "metadata": {
    "collapsed": false,
    "scrolled": true
   },
   "outputs": [
    {
     "name": "stdout",
     "output_type": "stream",
     "text": [
      "http://localhost:5000/reviews\n",
      "{'created_at': '2016-09-24T22:59:17.312069+00:00',\n",
      " 'description': 'International policy has sought to emphasize and strengthen '\n",
      "                'the link between the conservation of natural ecosystems and '\n",
      "                'human development. Furthermore, international conservation '\n",
      "                'organizations have broadened their objectives beyond '\n",
      "                'nature-based goals to recognize the contribution of '\n",
      "                'conservation interventions in sustaining ecosystem services '\n",
      "                'upon which human populations are dependent. While many '\n",
      "                'indices have been developed to measure various human '\n",
      "                'well-being domains, the strength of evidence to support the '\n",
      "                'effects, both positive and negative, of conservation '\n",
      "                'interventions on human well-being, is still unclear.\\n'\n",
      "                '\\n'\n",
      "                'This protocol describes the methodology for examining the '\n",
      "                'research question: What are the impacts of nature '\n",
      "                'conservation interventions on different domains of human '\n",
      "                'well-being in developing countries? Using systematic mapping, '\n",
      "                'this study will scope and identify studies that measure the '\n",
      "                'impacts of nature conservation interventions on human '\n",
      "                'well-being at local to regional scales. The primary objective '\n",
      "                'of this study is to synthesize the state and distribution of '\n",
      "                'the existing evidence base linking conservation and human '\n",
      "                'well-being. In addition, a theory of change approach will be '\n",
      "                'used to identify and characterize the causal linkages between '\n",
      "                'conservation and human well-being, with attention on those '\n",
      "                'studies that examine the role of ecosystem services. Key '\n",
      "                'trends among the resulting studies will be synthesized and '\n",
      "                'the range of studies organized and presented in a graphical '\n",
      "                'matrix illustrating the relationships between types of '\n",
      "                'interventions and types of outcomes. Results of the study are '\n",
      "                'intended to help conservation and development practitioners '\n",
      "                'and the academic community to improve research studies and '\n",
      "                'conservation practices in developing countries in order to '\n",
      "                'achieve both conservation and human well-being outcomes.',\n",
      " 'id': 1,\n",
      " 'name': 'Conservation International Demo',\n",
      " 'num_citation_screening_reviewers': 1,\n",
      " 'num_fulltext_screening_reviewers': 1,\n",
      " 'owner_user_id': 1,\n",
      " 'status': 'active'}\n",
      "http://localhost:5000/reviews\n",
      "{'created_at': '2016-09-24T22:59:17.329574+00:00',\n",
      " 'description': 'I do great systematic reviews. Really, really great.',\n",
      " 'id': 2,\n",
      " 'name': \"Burton's Great Systematic Review\",\n",
      " 'num_citation_screening_reviewers': 1,\n",
      " 'num_fulltext_screening_reviewers': 1,\n",
      " 'owner_user_id': 1,\n",
      " 'status': 'active'}\n"
     ]
    }
   ],
   "source": [
    "for review_to_post in reviews_to_post:\n",
    "    review = call_endpoint('reviews', 'post', json=review_to_post, auth=auth)\n",
    "    pprint(review)"
   ]
  },
  {
   "cell_type": "markdown",
   "metadata": {},
   "source": [
    "### Modify reviews via `PUT` to `/reviews/<id>`\n",
    "\n",
    "Here, we require two reviewers per citation."
   ]
  },
  {
   "cell_type": "code",
   "execution_count": 138,
   "metadata": {
    "collapsed": false
   },
   "outputs": [
    {
     "name": "stdout",
     "output_type": "stream",
     "text": [
      "http://localhost:5000/reviews/1\n"
     ]
    },
    {
     "data": {
      "text/plain": [
       "{'created_at': '2016-09-24T22:59:17.312069+00:00',\n",
       " 'description': 'International policy has sought to emphasize and strengthen the link between the conservation of natural ecosystems and human development. Furthermore, international conservation organizations have broadened their objectives beyond nature-based goals to recognize the contribution of conservation interventions in sustaining ecosystem services upon which human populations are dependent. While many indices have been developed to measure various human well-being domains, the strength of evidence to support the effects, both positive and negative, of conservation interventions on human well-being, is still unclear.\\n\\nThis protocol describes the methodology for examining the research question: What are the impacts of nature conservation interventions on different domains of human well-being in developing countries? Using systematic mapping, this study will scope and identify studies that measure the impacts of nature conservation interventions on human well-being at local to regional scales. The primary objective of this study is to synthesize the state and distribution of the existing evidence base linking conservation and human well-being. In addition, a theory of change approach will be used to identify and characterize the causal linkages between conservation and human well-being, with attention on those studies that examine the role of ecosystem services. Key trends among the resulting studies will be synthesized and the range of studies organized and presented in a graphical matrix illustrating the relationships between types of interventions and types of outcomes. Results of the study are intended to help conservation and development practitioners and the academic community to improve research studies and conservation practices in developing countries in order to achieve both conservation and human well-being outcomes.',\n",
       " 'id': 1,\n",
       " 'name': 'Conservation International Demo',\n",
       " 'num_citation_screening_reviewers': 2,\n",
       " 'num_fulltext_screening_reviewers': 1,\n",
       " 'owner_user_id': 1,\n",
       " 'status': 'active'}"
      ]
     },
     "execution_count": 138,
     "metadata": {},
     "output_type": "execute_result"
    }
   ],
   "source": [
    "call_endpoint('reviews/1', 'put',\n",
    "              json={'num_citation_screening_reviewers': 2, 'test': False},\n",
    "              auth=auth)"
   ]
  },
  {
   "cell_type": "markdown",
   "metadata": {},
   "source": [
    "### Add review plans via `POST` to `/reviews/<id>/plan`"
   ]
  },
  {
   "cell_type": "code",
   "execution_count": 139,
   "metadata": {
    "collapsed": false
   },
   "outputs": [],
   "source": [
    "test = False\n",
    "reviewplans_to_post = [\n",
    "    {'test': test,\n",
    "     'review_id': 1,\n",
    "     'objective': 'To assess and characterize the current state and distribution of the existing evidence base around the causal linkages between both positive and negative effects of nature conservation and human well-being.',\n",
    "     'research_questions': [\n",
    "            \"What are the impacts of nature conservation interventions on different domains of human well-being in developing countries?\",\n",
    "            \"What is the current state and distribution of evidence?\",\n",
    "            \"What types of impacts from conservation interventions on human well-being are measured?\",\n",
    "            \"What types of ecosystem services are explicitly associated with the impacts of conservation interventions on human well-being?\",\n",
    "            \"What populations are affected by conservation and/ or focus of studies?\",\n",
    "            \"How does the evidence base align with major priorities and investments of implementing agencies?\",\n",
    "            ],\n",
    "     'pico': {\n",
    "            \"population\": \"Human populations, including individuals, households, communities or nation states in non-OECD countries\",\n",
    "            \"intervention\": \"Adoption or implementation of nature conservation interventions\",\n",
    "            \"comparator\": \"No use of nature conservation interventions either between sites or groups, or over time series (before/after)\",\n",
    "            \"outcome\": \"Positive or negative effects on the multi-dimensional well-being status of human populations\",\n",
    "            },\n",
    "     'keyterms': [\n",
    "            {\"term\": \"wellbeing\", \"group\": \"outcome\", \"synonyms\": [\"well-being\", \"well being\"]},\n",
    "            {\"term\": \"ecosystem service\", \"group\": \"outcome\", \"synonyms\": [\"ecosystem services\"]},\n",
    "            {\"term\": \"nutrition\", \"group\": \"outcome\"},\n",
    "            {\"term\": \"skill\", \"group\": \"outcome\", \"synonyms\": [\"skills\"]},\n",
    "            {\"term\": \"empower\", \"group\": \"outcome\", \"synonyms\": [\"empowering\"]},\n",
    "            {\"term\": \"clean water\", \"group\": \"outcome\", \"synonyms\": [\"livelihood\"]},\n",
    "            {\"term\": \"livelihoods\", \"group\": \"outcome\", \"synonyms\": [\"food security\"]},\n",
    "            {\"term\": \"resilience\", \"group\": \"outcome\", \"synonyms\": [\"vulnerability\"]},\n",
    "            {\"term\": \"capital\", \"group\": \"outcome\", \"synonyms\": [\"social capital\"]},\n",
    "            {\"term\": \"attitude\", \"group\": \"outcome\", \"synonyms\": [\"attitudes\"]},\n",
    "            {\"term\": \"perception\", \"group\": \"outcome\", \"synonyms\": [\"perceptions\"]},\n",
    "            {\"term\": \"health\", \"group\": \"outcome\", \"synonyms\": [\"human health\"]},\n",
    "            {\"term\": \"human capital\", \"group\": \"outcome\", \"synonyms\": [\"knowledge\"]},\n",
    "            {\"term\": \"traditional knowledge\", \"group\": \"outcome\"},\n",
    "            {\"term\": \"marine\", \"group\": \"intervention qualifiers\", \"synonyms\": [\"freshwater\"]},\n",
    "            {\"term\": \"coastal\", \"group\": \"intervention qualifiers\"},\n",
    "            {\"term\": \"forest\", \"group\": \"intervention qualifiers\", \"synonyms\": [\"forests\", \"forestry\"]},\n",
    "            {\"term\": \"ecosystem\", \"group\": \"intervention qualifiers\", \"synonyms\": [\"ecosystems\"]},\n",
    "            {\"term\": \"species\", \"group\": \"intervention qualifiers\"},\n",
    "            {\"term\": \"habitat\", \"group\": \"intervention qualifiers\", \"synonyms\": [\"habitats\"]},\n",
    "            {\"term\": \"biodiversity\", \"group\": \"intervention qualifiers\"},\n",
    "            {\"term\": \"sustainable\", \"group\": \"intervention qualifiers\", \"synonyms\": [\"sustainability\"]},\n",
    "            {\"term\": \"ecology\", \"group\": \"intervention qualifiers\", \"synonyms\": [\"ecological\"]},\n",
    "            {\"term\": \"integrated\", \"group\": \"intervention qualifiers\"},\n",
    "            {\"term\": \"landscape\", \"group\": \"intervention qualifiers\"},\n",
    "            {\"term\": \"seascape\", \"group\": \"intervention qualifiers\"},\n",
    "            {\"term\": \"coral reef\", \"group\": \"intervention qualifiers\", \"synonyms\": [\"coral reefs\"]},\n",
    "            {\"term\": \"natural resources\", \"group\": \"intervention qualifiers\", \"synonyms\": [\"natural resource\"]},\n",
    "            {\"term\": \"human\", \"group\": \"outcome qualifiers\", \"synonyms\": [\"humans\", \"humanity\"]},\n",
    "            {\"term\": \"people\", \"group\": \"outcome qualifiers\"},\n",
    "            {\"term\": \"person\", \"group\": \"outcome qualifiers\", \"synonyms\": [\"persons\"]},\n",
    "            {\"term\": \"community\", \"group\": \"outcome qualifiers\", \"synonyms\": [\"communities\"]},\n",
    "            {\"term\": \"household\", \"group\": \"outcome qualifiers\", \"synonyms\": [\"households\"]},\n",
    "            {\"term\": \"fishermen\", \"group\": \"outcome qualifiers\", \"synonyms\": [\"fisherman\"]},\n",
    "            {\"term\": \"collaborative\", \"group\": \"outcome qualifiers\"},\n",
    "            {\"term\": \"conservation\", \"group\": \"intervention\"},\n",
    "            {\"term\": \"conserve\", \"group\": \"intervention\"},\n",
    "            {\"term\": \"conservancy\", \"group\": \"intervention\"},\n",
    "            {\"term\": \"protect\", \"group\": \"intervention\", \"synonyms\": [\"protects\", \"protection\"]},\n",
    "            {\"term\": \"management\", \"group\": \"intervention\"},\n",
    "            {\"term\": \"awareness\", \"group\": \"intervention\"},\n",
    "            {\"term\": \"law\", \"group\": \"intervention\", \"synonyms\": [\"laws\"]},\n",
    "            {\"term\": \"policy\", \"group\": \"intervention\", \"synonyms\": [\"policy-making\"]},\n",
    "            {\"term\": \"reserve\", \"group\": \"intervention\"},\n",
    "            {\"term\": \"govern\", \"group\": \"intervention\", \"synonyms\": [\"governs\", \"government\"]},\n",
    "            {\"term\": \"capacity-build\", \"group\": \"intervention\", \"synonyms\": [\"capacity-building\", \"capacity building\"]},\n",
    "            {\"term\": \"train\", \"group\": \"intervention\", \"synonyms\": [\"tarins\", \"training\"]},\n",
    "            {\"term\": \"PES\", \"group\": \"intervention\"},\n",
    "            {\"term\": \"ecotourism\", \"group\": \"intervention\", \"synonyms\": [\"eco-tourism\"]},\n",
    "            {\"term\": \"sustainable use\", \"group\": \"intervention\"}\n",
    "            ],\n",
    "     'selection_criteria': [\n",
    "            {\"label\": \"location\",\n",
    "             \"description\": \"individuals, households, or communities must be in non-OECD countries\"},\n",
    "            {\"label\": \"undefined pop.\",\n",
    "             \"description\": \"studies must include discrete populations and not undefined groups or populations\"},\n",
    "            {\"label\": \"intervention type\",\n",
    "             \"description\": \"study must document or measure people's specific and discrete external interventions, not daily use\"},\n",
    "            {\"label\": \"in-situ\",\n",
    "             \"description\": \"study must focus on establishment, adoption, or implementation of regulation, protection, or management of natural ecosystems through in-situ activities\"},\n",
    "            {\"label\": \"outcome\",\n",
    "             \"explanation\": \"studies must measure or describe human well-being outcomes, and can't only focus on biophysical outcomes of conservation\"}\n",
    "            ],\n",
    "     }\n",
    "]"
   ]
  },
  {
   "cell_type": "code",
   "execution_count": 140,
   "metadata": {
    "collapsed": false
   },
   "outputs": [
    {
     "name": "stdout",
     "output_type": "stream",
     "text": [
      "http://localhost:5000/reviews/1/plan\n",
      "{'data_extraction_form': {},\n",
      " 'id': 1,\n",
      " 'keyterms': [{'group': 'outcome',\n",
      "               'synonyms': ['well-being', 'well being'],\n",
      "               'term': 'wellbeing'},\n",
      "              {'group': 'outcome',\n",
      "               'synonyms': ['ecosystem services'],\n",
      "               'term': 'ecosystem service'},\n",
      "              {'group': 'outcome', 'synonyms': [], 'term': 'nutrition'},\n",
      "              {'group': 'outcome', 'synonyms': ['skills'], 'term': 'skill'},\n",
      "              {'group': 'outcome',\n",
      "               'synonyms': ['empowering'],\n",
      "               'term': 'empower'},\n",
      "              {'group': 'outcome',\n",
      "               'synonyms': ['livelihood'],\n",
      "               'term': 'clean water'},\n",
      "              {'group': 'outcome',\n",
      "               'synonyms': ['food security'],\n",
      "               'term': 'livelihoods'},\n",
      "              {'group': 'outcome',\n",
      "               'synonyms': ['vulnerability'],\n",
      "               'term': 'resilience'},\n",
      "              {'group': 'outcome',\n",
      "               'synonyms': ['social capital'],\n",
      "               'term': 'capital'},\n",
      "              {'group': 'outcome',\n",
      "               'synonyms': ['attitudes'],\n",
      "               'term': 'attitude'},\n",
      "              {'group': 'outcome',\n",
      "               'synonyms': ['perceptions'],\n",
      "               'term': 'perception'},\n",
      "              {'group': 'outcome',\n",
      "               'synonyms': ['human health'],\n",
      "               'term': 'health'},\n",
      "              {'group': 'outcome',\n",
      "               'synonyms': ['knowledge'],\n",
      "               'term': 'human capital'},\n",
      "              {'group': 'outcome',\n",
      "               'synonyms': [],\n",
      "               'term': 'traditional knowledge'},\n",
      "              {'group': 'intervention qualifiers',\n",
      "               'synonyms': ['freshwater'],\n",
      "               'term': 'marine'},\n",
      "              {'group': 'intervention qualifiers',\n",
      "               'synonyms': [],\n",
      "               'term': 'coastal'},\n",
      "              {'group': 'intervention qualifiers',\n",
      "               'synonyms': ['forests', 'forestry'],\n",
      "               'term': 'forest'},\n",
      "              {'group': 'intervention qualifiers',\n",
      "               'synonyms': ['ecosystems'],\n",
      "               'term': 'ecosystem'},\n",
      "              {'group': 'intervention qualifiers',\n",
      "               'synonyms': [],\n",
      "               'term': 'species'},\n",
      "              {'group': 'intervention qualifiers',\n",
      "               'synonyms': ['habitats'],\n",
      "               'term': 'habitat'},\n",
      "              {'group': 'intervention qualifiers',\n",
      "               'synonyms': [],\n",
      "               'term': 'biodiversity'},\n",
      "              {'group': 'intervention qualifiers',\n",
      "               'synonyms': ['sustainability'],\n",
      "               'term': 'sustainable'},\n",
      "              {'group': 'intervention qualifiers',\n",
      "               'synonyms': ['ecological'],\n",
      "               'term': 'ecology'},\n",
      "              {'group': 'intervention qualifiers',\n",
      "               'synonyms': [],\n",
      "               'term': 'integrated'},\n",
      "              {'group': 'intervention qualifiers',\n",
      "               'synonyms': [],\n",
      "               'term': 'landscape'},\n",
      "              {'group': 'intervention qualifiers',\n",
      "               'synonyms': [],\n",
      "               'term': 'seascape'},\n",
      "              {'group': 'intervention qualifiers',\n",
      "               'synonyms': ['coral reefs'],\n",
      "               'term': 'coral reef'},\n",
      "              {'group': 'intervention qualifiers',\n",
      "               'synonyms': ['natural resource'],\n",
      "               'term': 'natural resources'},\n",
      "              {'group': 'outcome qualifiers',\n",
      "               'synonyms': ['humans', 'humanity'],\n",
      "               'term': 'human'},\n",
      "              {'group': 'outcome qualifiers', 'synonyms': [], 'term': 'people'},\n",
      "              {'group': 'outcome qualifiers',\n",
      "               'synonyms': ['persons'],\n",
      "               'term': 'person'},\n",
      "              {'group': 'outcome qualifiers',\n",
      "               'synonyms': ['communities'],\n",
      "               'term': 'community'},\n",
      "              {'group': 'outcome qualifiers',\n",
      "               'synonyms': ['households'],\n",
      "               'term': 'household'},\n",
      "              {'group': 'outcome qualifiers',\n",
      "               'synonyms': ['fisherman'],\n",
      "               'term': 'fishermen'},\n",
      "              {'group': 'outcome qualifiers',\n",
      "               'synonyms': [],\n",
      "               'term': 'collaborative'},\n",
      "              {'group': 'intervention', 'synonyms': [], 'term': 'conservation'},\n",
      "              {'group': 'intervention', 'synonyms': [], 'term': 'conserve'},\n",
      "              {'group': 'intervention', 'synonyms': [], 'term': 'conservancy'},\n",
      "              {'group': 'intervention',\n",
      "               'synonyms': ['protects', 'protection'],\n",
      "               'term': 'protect'},\n",
      "              {'group': 'intervention', 'synonyms': [], 'term': 'management'},\n",
      "              {'group': 'intervention', 'synonyms': [], 'term': 'awareness'},\n",
      "              {'group': 'intervention', 'synonyms': ['laws'], 'term': 'law'},\n",
      "              {'group': 'intervention',\n",
      "               'synonyms': ['policy-making'],\n",
      "               'term': 'policy'},\n",
      "              {'group': 'intervention', 'synonyms': [], 'term': 'reserve'},\n",
      "              {'group': 'intervention',\n",
      "               'synonyms': ['governs', 'government'],\n",
      "               'term': 'govern'},\n",
      "              {'group': 'intervention',\n",
      "               'synonyms': ['capacity-building', 'capacity building'],\n",
      "               'term': 'capacity-build'},\n",
      "              {'group': 'intervention',\n",
      "               'synonyms': ['tarins', 'training'],\n",
      "               'term': 'train'},\n",
      "              {'group': 'intervention', 'synonyms': [], 'term': 'PES'},\n",
      "              {'group': 'intervention',\n",
      "               'synonyms': ['eco-tourism'],\n",
      "               'term': 'ecotourism'},\n",
      "              {'group': 'intervention',\n",
      "               'synonyms': [],\n",
      "               'term': 'sustainable use'}],\n",
      " 'objective': 'To assess and characterize the current state and distribution '\n",
      "              'of the existing evidence base around the causal linkages '\n",
      "              'between both positive and negative effects of nature '\n",
      "              'conservation and human well-being.',\n",
      " 'pico': {'intervention': 'Adoption or implementation of nature conservation '\n",
      "                          'interventions',\n",
      "          'outcome': 'Positive or negative effects on the multi-dimensional '\n",
      "                     'well-being status of human populations',\n",
      "          'population': 'Human populations, including individuals, households, '\n",
      "                        'communities or nation states in non-OECD countries'},\n",
      " 'review_id': 1,\n",
      " 'selection_criteria': [{'description': 'individuals, households, or '\n",
      "                                        'communities must be in non-OECD '\n",
      "                                        'countries',\n",
      "                         'label': 'location'},\n",
      "                        {'description': 'studies must include discrete '\n",
      "                                        'populations and not undefined groups '\n",
      "                                        'or populations',\n",
      "                         'label': 'undefined pop.'},\n",
      "                        {'description': 'study must document or measure '\n",
      "                                        \"people's specific and discrete \"\n",
      "                                        'external interventions, not daily use',\n",
      "                         'label': 'intervention type'},\n",
      "                        {'description': 'study must focus on establishment, '\n",
      "                                        'adoption, or implementation of '\n",
      "                                        'regulation, protection, or management '\n",
      "                                        'of natural ecosystems through in-situ '\n",
      "                                        'activities',\n",
      "                         'label': 'in-situ'},\n",
      "                        {'label': 'outcome'}]}\n"
     ]
    }
   ],
   "source": [
    "for reviewplan_to_post in reviewplans_to_post:\n",
    "    review_id = reviewplan_to_post.pop('review_id')\n",
    "    reviewplan = call_endpoint(\n",
    "        'reviews/{}/plan'.format(review_id), 'post',\n",
    "        json=reviewplan_to_post, auth=auth)\n",
    "    pprint(reviewplan)"
   ]
  },
  {
   "cell_type": "markdown",
   "metadata": {},
   "source": [
    "### Add (or remove) collaborators to review via `PUT` to `/reviews/<id>/team`"
   ]
  },
  {
   "cell_type": "code",
   "execution_count": 142,
   "metadata": {
    "collapsed": false
   },
   "outputs": [
    {
     "name": "stdout",
     "output_type": "stream",
     "text": [
      "http://localhost:5000/reviews/1/team\n"
     ]
    },
    {
     "data": {
      "text/plain": [
       "[{'created_at': '2016-09-24T22:59:14.925802+00:00',\n",
       "  'email': 'burtdewilde@gmail.com',\n",
       "  'id': 1,\n",
       "  'is_owner': True,\n",
       "  'name': 'Burton DeWilde'},\n",
       " {'created_at': '2016-09-24T22:59:15.219771+00:00',\n",
       "  'email': 'rayshah@thinkdesign.com',\n",
       "  'id': 2,\n",
       "  'name': 'Ray Shah'}]"
      ]
     },
     "execution_count": 142,
     "metadata": {},
     "output_type": "execute_result"
    }
   ],
   "source": [
    "call_endpoint('reviews/1/team', 'put',\n",
    "              json={'user_id': 2, 'action': 'add', 'test': False},\n",
    "              auth=auth)"
   ]
  },
  {
   "cell_type": "markdown",
   "metadata": {},
   "source": [
    "### Upload collections of citations via `POST` (files in request) to `/citations`\n",
    "\n",
    "Let's split it into two files to simulate \"batches\". When it's implemented (soon...), this should kick off separate, asynchronous deduplication threads."
   ]
  },
  {
   "cell_type": "code",
   "execution_count": 143,
   "metadata": {
    "collapsed": false
   },
   "outputs": [
    {
     "name": "stdout",
     "output_type": "stream",
     "text": [
      "http://localhost:5000/citations\n",
      "http://localhost:5000/citations\n"
     ]
    }
   ],
   "source": [
    "test = False\n",
    "filepaths = ['../data/raw/citation_files/ci-full-collection-group1.ris',\n",
    "             '../data/raw/citation_files/ci-full-collection-group2.ris']\n",
    "# filepaths = ['../data/raw/citation_files/ci-full-collection.ris']\n",
    "# filepaths = ['../data/raw/citation_files/ci-full-collection.bib']\n",
    "\n",
    "for filepath in filepaths:\n",
    "    filename = os.path.split(filepath)[-1]\n",
    "    call_endpoint('citations', 'post',\n",
    "                  data={'review_id': 1, 'test': test},\n",
    "                  files={'uploaded_file': (filename, io.open(filepath, mode='rb'))},\n",
    "                  auth=auth)"
   ]
  },
  {
   "cell_type": "markdown",
   "metadata": {
    "collapsed": true
   },
   "source": [
    "### Screen citations via `POST` to `/citations/screenings`\n",
    "\n",
    "Let's simulate a two-reviewer setup, and randomly change screening decisions as well as whether to screen or not.\n",
    "\n",
    "The screenings data was processed from CI's submitted data, is not complete, and given all the database changes, maybe totally wrong. Will update at some point. Meanwhile, it's fine for practice data.\n",
    "\n",
    "**Note:** This process takes a few minutes. In typical usage, a user submits one screening at a time, not 28,000."
   ]
  },
  {
   "cell_type": "code",
   "execution_count": 145,
   "metadata": {
    "collapsed": false
   },
   "outputs": [
    {
     "name": "stdout",
     "output_type": "stream",
     "text": [
      "http://localhost:5000/reviews/1/plan?fields=selection_criteria\n",
      "http://localhost:5000/authtoken\n",
      "http://localhost:5000/citations/screenings?review_id=1&test=False\n",
      "http://localhost:5000/authtoken\n",
      "http://localhost:5000/citations/screenings?review_id=1&test=False\n",
      "CPU times: user 492 ms, sys: 23.5 ms, total: 516 ms\n",
      "Wall time: 6min 3s\n"
     ]
    }
   ],
   "source": [
    "%%time\n",
    "test = False\n",
    "\n",
    "selection_criteria = call_endpoint(\n",
    "    'reviews/1/plan', 'get',\n",
    "    params={'fields': 'selection_criteria'},\n",
    "    auth=('burtdewilde@gmail.com', 'password')).get('selection_criteria')\n",
    "all_exclude_reasons = [criterion['label'] for criterion in selection_criteria]\n",
    "    \n",
    "for auth in [('rayshah@thinkdesign.com', 'password'), ('burtdewilde@gmail.com', 'password')]:\n",
    "    auth_token = (call_endpoint('authtoken', auth=auth)['token'], '')\n",
    "\n",
    "    filepath = '../data/processed/citation_selection.json'\n",
    "    with io.open(filepath, mode='rt') as f:\n",
    "        screenings = json.load(f)\n",
    "    # let's only screen a random 75% of the total per reviewer\n",
    "    screenings = [screening for screening in screenings\n",
    "                  if random.random() > 0.25\n",
    "                  and screening['citation_id'] < 28708]  # <= HACK\n",
    "    \n",
    "    for screening in screenings:\n",
    "        screening['status'] = 'included' if screening.pop('included') is True else 'excluded'\n",
    "        # let's switch the decision for a random 5% of screenings\n",
    "        if random.random() > 0.95:\n",
    "            screening['status'] = 'included' if screening['status'] == 'excluded' else 'excluded'\n",
    "        # if excluded, let's get a random sample of exclude reasons\n",
    "        if screening['status'] == 'excluded':\n",
    "            screening['exclude_reasons'] = random.sample(\n",
    "                all_exclude_reasons, random.randint(1, 2))\n",
    "            \n",
    "    call_endpoint('citations/screenings', 'post',\n",
    "                  json=screenings, params={'review_id': 1, 'test': test},\n",
    "                  auth=auth)"
   ]
  },
  {
   "cell_type": "code",
   "execution_count": 61,
   "metadata": {
    "collapsed": false,
    "scrolled": false
   },
   "outputs": [],
   "source": [
    "# NOTE: This is the \"correct\" way to add citation screenings via the REST API.\n",
    "# The hack above is done purely for speed while in development.\n",
    "\n",
    "# test = False\n",
    "# filepath = '../data/processed/citation_selection.json'\n",
    "# with io.open(filepath, mode='rt') as f:\n",
    "#     screenings = json.load(f)\n",
    "\n",
    "# selection_criteria = call_endpoint(\n",
    "#     'reviews/1/plan', 'get',\n",
    "#     params={'fields': 'selection_criteria'},\n",
    "#     auth=('burtdewilde@gmail.com', 'password')).get('selection_criteria')\n",
    "# all_exclude_reasons = [criterion['label'] for criterion in selection_criteria]\n",
    "    \n",
    "# for auth in [('rayshah@thinkdesign.com', 'password'), ('burtdewilde@gmail.com', 'password')]:\n",
    "#     auth_token = (call_endpoint('authtoken', auth=auth)['token'], '')\n",
    "\n",
    "#     for screening in screenings:\n",
    "#         try:\n",
    "#             # let's only screen a random 75% of the total per reviewer\n",
    "#             if random.random() > 0.75:\n",
    "#                 continue\n",
    "#             citation_id = screening['citation_id']\n",
    "#             status = 'included' if screening['included'] is True else 'excluded'\n",
    "#             # let's switch the decision for a random 5% of screenings\n",
    "#             if random.random() > 0.95:\n",
    "#                 status = 'included' if status == 'excluded' else 'excluded'\n",
    "#             screening_to_post = {'status': status}\n",
    "#             if status == 'excluded':\n",
    "#                 screening_to_post['exclude_reasons'] = random.sample(all_exclude_reasons, random.randint(1, 2))\n",
    "#             screening_to_post['test'] = test\n",
    "#             call_endpoint('citations/{}/screenings'.format(citation_id), 'post',\n",
    "#                           json=screening_to_post,\n",
    "#                           auth=auth, verbose=False)\n",
    "#         except Exception as e:\n",
    "#             continue"
   ]
  },
  {
   "cell_type": "markdown",
   "metadata": {},
   "source": [
    "### Upload PDF or TXT for included citations via `POST` to `/fulltexts`"
   ]
  },
  {
   "cell_type": "code",
   "execution_count": 10,
   "metadata": {
    "collapsed": false
   },
   "outputs": [
    {
     "name": "stdout",
     "output_type": "stream",
     "text": [
      "http://localhost:5000/fulltexts\n"
     ]
    },
    {
     "data": {
      "text/plain": [
       "{'citation_id': 18,\n",
       " 'content': None,\n",
       " 'created_at': '2016-09-24T01:50:00.205776+00:00',\n",
       " 'extracted_info': None,\n",
       " 'filename': '18.pdf',\n",
       " 'id': 1,\n",
       " 'status': 'not_screened'}"
      ]
     },
     "execution_count": 10,
     "metadata": {},
     "output_type": "execute_result"
    }
   ],
   "source": [
    "filepath = '/Users/burtondewilde/Desktop/Abstractive_Summarization_with_Attentive_RNN_-_NAACL_2016.pdf'\n",
    "filename = 'Abstractive_Summarization_with_Attentive_RNN_-_NAACL_2016.pdf'\n",
    "\n",
    "call_endpoint('fulltexts', 'post',\n",
    "              data={'citation_id': 18, 'test': False},\n",
    "              files={'uploaded_file': (filename, io.open(filepath, mode='rb'))},\n",
    "              auth=auth)"
   ]
  },
  {
   "cell_type": "markdown",
   "metadata": {},
   "source": [
    "---\n",
    "\n",
    "## Get Records in the Database"
   ]
  },
  {
   "cell_type": "markdown",
   "metadata": {},
   "source": [
    "### Get a collection of citations via `GET` to `/citations`"
   ]
  },
  {
   "cell_type": "code",
   "execution_count": 21,
   "metadata": {
    "collapsed": false,
    "scrolled": false
   },
   "outputs": [
    {
     "name": "stdout",
     "output_type": "stream",
     "text": [
      "http://localhost:5000/citations?tsquery=fisheries&fields=title%2Cpub_year&per_page=10&order_dir=ASC&review_id=1\n"
     ]
    },
    {
     "data": {
      "text/plain": [
       "[{'id': 6,\n",
       "  'pub_year': 2013,\n",
       "  'title': 'Hierarchical livelihood outcomes among co-managed fisheries'},\n",
       " {'id': 33,\n",
       "  'pub_year': 2006,\n",
       "  'title': 'Molecular provenance analysis for shy and white-capped albatrosses killed by fisheries interactions in Australia, New Zealand, and South Africa'},\n",
       " {'id': 41,\n",
       "  'pub_year': 2007,\n",
       "  'title': 'Market-resource links and fish vendor livelihoods in the upper zambezi river floodplains'},\n",
       " {'id': 42,\n",
       "  'pub_year': 2007,\n",
       "  'title': 'Market-resource links and fish vendor livelihoods in the upper Zambezi river floodplains'},\n",
       " {'id': 43,\n",
       "  'pub_year': 2012,\n",
       "  'title': 'What are we protecting? Fisher behavior and the unintended consequences of spatial closures as a fishery management tool'},\n",
       " {'id': 44,\n",
       "  'pub_year': 2007,\n",
       "  'title': 'Rivers as resources, rivers as borders: Community and transboundary management of fisheries in the Upper Zambezi River floodplains'},\n",
       " {'id': 80,\n",
       "  'pub_year': 2010,\n",
       "  'title': 'Economics of Date Palm Agriculture in the Sultanate of Oman, Current Situation and Future Prospects'},\n",
       " {'id': 81,\n",
       "  'pub_year': 2010,\n",
       "  'title': 'Economics of date palm agriculture in the sultanate of Oman, current situation and future prospects'},\n",
       " {'id': 109,\n",
       "  'pub_year': 2005,\n",
       "  'title': 'Fisheries and cage culture of three reservoirs in west Java, Indonesia; a case study of ambitious development and resulting interactions'},\n",
       " {'id': 129,\n",
       "  'pub_year': 1996,\n",
       "  'title': 'Imperiled waters, impoverished future: the decline of freshwater ecosystems'}]"
      ]
     },
     "execution_count": 21,
     "metadata": {},
     "output_type": "execute_result"
    }
   ],
   "source": [
    "call_endpoint('citations', 'get',\n",
    "              params={'review_id': 1,\n",
    "                      'fields': 'title,pub_year',\n",
    "                      'status': None, 'tag': None,\n",
    "                      'tsquery': 'fisheries',\n",
    "                      'order_dir': 'ASC', 'per_page': 10},\n",
    "              auth=auth)"
   ]
  },
  {
   "cell_type": "markdown",
   "metadata": {},
   "source": [
    "### Get a collection of fulltexts via `GET` to `fulltexts`"
   ]
  },
  {
   "cell_type": "code",
   "execution_count": 24,
   "metadata": {
    "collapsed": false
   },
   "outputs": [
    {
     "name": "stdout",
     "output_type": "stream",
     "text": [
      "http://localhost:5000/fulltexts?per_page=10&order_dir=ASC&review_id=1\n"
     ]
    },
    {
     "data": {
      "text/plain": [
       "[{'citation_id': 18,\n",
       "  'content': None,\n",
       "  'created_at': '2016-09-24T01:50:00.205776+00:00',\n",
       "  'extracted_info': None,\n",
       "  'filename': '18.pdf',\n",
       "  'id': 1,\n",
       "  'status': 'not_screened'}]"
      ]
     },
     "execution_count": 24,
     "metadata": {},
     "output_type": "execute_result"
    }
   ],
   "source": [
    "call_endpoint('fulltexts', 'get',\n",
    "              params={'review_id': 1,\n",
    "                      'fields': None,\n",
    "                      'status': None,\n",
    "                      'tag': None,\n",
    "                      'tsquery': None,\n",
    "                      'order_dir': 'ASC', 'per_page': 10},\n",
    "              auth=auth)"
   ]
  },
  {
   "cell_type": "markdown",
   "metadata": {
    "collapsed": true
   },
   "source": [
    "### Get a single citation via `GET` to the `citations/<id>` endpoint"
   ]
  },
  {
   "cell_type": "code",
   "execution_count": 23,
   "metadata": {
    "collapsed": false
   },
   "outputs": [
    {
     "name": "stdout",
     "output_type": "stream",
     "text": [
      "http://localhost:5000/citations/100?fields=text_content\n",
      "A systematic review of wild burro grazing effects on mojave desert vegetation, USA\n",
      "\n",
      "Wild burros (Equus asinus), protected by the 1971 Wild Free-Roaming Horse and Burro Act on some federal lands but exotic animals many ecologists and resource mangers view as damaging to native ecosystems, represent one of the most contentious environmental management problems in American Southwest arid lands. This review synthesizes the scattered literature about burro effects on plant communities of the Mojave Desert, a center of burro management contentions. I classified 24 documents meeting selection criteria for this review into five categories of research: (i) diet analyses directly determining which plant species burros consume, (ii) utilization studies of individual species, (iii) control-impact comparisons, (iv) exclosure studies, and (v) forage analyses examining chemical characteristics of forage plants. Ten diet studies recorded 175 total species that burros consumed. However, these studies and two exclosure studies suggested that burros preferentially eat graminoid and forb groups over shrubs. One study in Death Valley National Park, for example, found that Achnatherum hymenoides (Indian ricegrass) was 11 times more abundant in burro diets than expected based on its availability. Utilization studies revealed that burros also exhibit preferences within the shrub group. Eighty-three percent of reviewed documents were produced in a 12-year period, from 1972 to 1983, with the most recent document produced in 1988. Because burros remain abundant on many federal lands and grazing may interact with other management concerns (e.g., desert wildfires fueled by exotic grasses), rejuvenating grazing research to better understand both past and present burro effects could help guide revegetation and grazing management scenarios. © 2008 Springer Science+Business Media, LLC.\n"
     ]
    }
   ],
   "source": [
    "print(call_endpoint('citations/100', 'get',\n",
    "              params={'fields': 'title,abstract,authors,keywords,pub_year'},\n",
    "              auth=auth)['text_content'])"
   ]
  },
  {
   "cell_type": "code",
   "execution_count": 129,
   "metadata": {
    "collapsed": false
   },
   "outputs": [
    {
     "name": "stdout",
     "output_type": "stream",
     "text": [
      "http://localhost:5000/citations/screenings?user_id=1&review_id=1&status_counts=True\n",
      "2\n"
     ]
    },
    {
     "data": {
      "text/plain": [
       "{'excluded': 27627, 'included': 715}"
      ]
     },
     "execution_count": 129,
     "metadata": {},
     "output_type": "execute_result"
    }
   ],
   "source": [
    "result = call_endpoint('citations/screenings', 'get',\n",
    "                       params={'user_id': 1, 'review_id': 1, 'status_counts': True},\n",
    "                       auth=auth)\n",
    "print(len(result))\n",
    "result"
   ]
  },
  {
   "cell_type": "code",
   "execution_count": 137,
   "metadata": {
    "collapsed": false
   },
   "outputs": [
    {
     "name": "stdout",
     "output_type": "stream",
     "text": [
      "http://localhost:5000/citations/screenings/1?fields=user_id%2Cstatus\n"
     ]
    },
    {
     "data": {
      "text/plain": [
       "{'status': 'excluded', 'user_id': 1}"
      ]
     },
     "execution_count": 137,
     "metadata": {},
     "output_type": "execute_result"
    }
   ],
   "source": [
    "result = call_endpoint('citations/screenings/1', 'get',\n",
    "                       params={'fields': 'user_id,status'},\n",
    "                       auth=auth)\n",
    "result"
   ]
  },
  {
   "cell_type": "code",
   "execution_count": 138,
   "metadata": {
    "collapsed": false
   },
   "outputs": [
    {
     "name": "stdout",
     "output_type": "stream",
     "text": [
      "http://localhost:5000/citations/screenings/1?test=True\n"
     ]
    }
   ],
   "source": [
    "result = call_endpoint('citations/screenings/1', 'delete',\n",
    "                       params={'test': True},\n",
    "                       auth=auth)\n",
    "result"
   ]
  },
  {
   "cell_type": "code",
   "execution_count": null,
   "metadata": {
    "collapsed": false
   },
   "outputs": [],
   "source": []
  },
  {
   "cell_type": "code",
   "execution_count": 56,
   "metadata": {
    "collapsed": false,
    "scrolled": false
   },
   "outputs": [
    {
     "name": "stdout",
     "output_type": "stream",
     "text": [
      "http://localhost:5000/reviews/1/progress?step=citations&user_view=False\n",
      "{'citations': {'not_screened': 21537, 'screened_once': 7171}}\n"
     ]
    }
   ],
   "source": [
    "pprint(call_endpoint('reviews/1/progress', 'get',\n",
    "              params={'step': 'citations', 'user_view': False},\n",
    "              auth=('burtdewilde@gmail.com', 'password')))"
   ]
  },
  {
   "cell_type": "code",
   "execution_count": 227,
   "metadata": {
    "collapsed": false
   },
   "outputs": [
    {
     "name": "stdout",
     "output_type": "stream",
     "text": [
      "http://localhost:5000/reviews/1/progress?step=all&user_view=True\n",
      "{'citations': {'awaiting_coscreener': 5213,\n",
      "               'conflict': 1502,\n",
      "               'excluded': 14141,\n",
      "               'included': 412,\n",
      "               'pending': 7440},\n",
      " 'fulltexts': {},\n",
      " 'planning': {'keyterms': True,\n",
      "              'objective': True,\n",
      "              'pico': True,\n",
      "              'selection_criteria': True}}\n"
     ]
    }
   ],
   "source": [
    "pprint(call_endpoint('reviews/1/progress', 'get',\n",
    "              params={'step': 'all', 'user_view': True},\n",
    "              auth=('burtdewilde@gmail.com', 'password')))"
   ]
  },
  {
   "cell_type": "code",
   "execution_count": 205,
   "metadata": {
    "collapsed": false
   },
   "outputs": [],
   "source": [
    "# call_endpoint('reviews/1/team', 'put',\n",
    "#               json={'user_id': 2, 'action': 'remove', 'test': False},\n",
    "#               auth=auth_token)\n",
    "\n",
    "# call_endpoint('reviews/1/team', 'put',\n",
    "#               json={'user_id': 2, 'action': 'make_owner', 'test': False},\n",
    "#               auth=auth_token)\n",
    "\n",
    "# call_endpoint('reviews/1/team', 'get',\n",
    "#               params={'fields': 'name'},\n",
    "#               auth=auth_token)"
   ]
  },
  {
   "cell_type": "code",
   "execution_count": null,
   "metadata": {
    "collapsed": false
   },
   "outputs": [],
   "source": []
  },
  {
   "cell_type": "code",
   "execution_count": 6,
   "metadata": {
    "collapsed": false,
    "scrolled": true
   },
   "outputs": [
    {
     "name": "stdout",
     "output_type": "stream",
     "text": [
      "2016-09-15 16:07:32,618 INFO sqlalchemy.engine.base.Engine select version()\n"
     ]
    },
    {
     "name": "stderr",
     "output_type": "stream",
     "text": [
      "INFO:sqlalchemy.engine.base.Engine:select version()\n"
     ]
    },
    {
     "name": "stdout",
     "output_type": "stream",
     "text": [
      "2016-09-15 16:07:32,619 INFO sqlalchemy.engine.base.Engine {}\n"
     ]
    },
    {
     "name": "stderr",
     "output_type": "stream",
     "text": [
      "INFO:sqlalchemy.engine.base.Engine:{}\n"
     ]
    },
    {
     "name": "stdout",
     "output_type": "stream",
     "text": [
      "2016-09-15 16:07:32,620 INFO sqlalchemy.engine.base.Engine select current_schema()\n"
     ]
    },
    {
     "name": "stderr",
     "output_type": "stream",
     "text": [
      "INFO:sqlalchemy.engine.base.Engine:select current_schema()\n"
     ]
    },
    {
     "name": "stdout",
     "output_type": "stream",
     "text": [
      "2016-09-15 16:07:32,621 INFO sqlalchemy.engine.base.Engine {}\n"
     ]
    },
    {
     "name": "stderr",
     "output_type": "stream",
     "text": [
      "INFO:sqlalchemy.engine.base.Engine:{}\n"
     ]
    },
    {
     "name": "stdout",
     "output_type": "stream",
     "text": [
      "2016-09-15 16:07:32,622 INFO sqlalchemy.engine.base.Engine SELECT CAST('test plain returns' AS VARCHAR(60)) AS anon_1\n"
     ]
    },
    {
     "name": "stderr",
     "output_type": "stream",
     "text": [
      "INFO:sqlalchemy.engine.base.Engine:SELECT CAST('test plain returns' AS VARCHAR(60)) AS anon_1\n"
     ]
    },
    {
     "name": "stdout",
     "output_type": "stream",
     "text": [
      "2016-09-15 16:07:32,623 INFO sqlalchemy.engine.base.Engine {}\n"
     ]
    },
    {
     "name": "stderr",
     "output_type": "stream",
     "text": [
      "INFO:sqlalchemy.engine.base.Engine:{}\n"
     ]
    },
    {
     "name": "stdout",
     "output_type": "stream",
     "text": [
      "2016-09-15 16:07:32,624 INFO sqlalchemy.engine.base.Engine SELECT CAST('test unicode returns' AS VARCHAR(60)) AS anon_1\n"
     ]
    },
    {
     "name": "stderr",
     "output_type": "stream",
     "text": [
      "INFO:sqlalchemy.engine.base.Engine:SELECT CAST('test unicode returns' AS VARCHAR(60)) AS anon_1\n"
     ]
    },
    {
     "name": "stdout",
     "output_type": "stream",
     "text": [
      "2016-09-15 16:07:32,625 INFO sqlalchemy.engine.base.Engine {}\n"
     ]
    },
    {
     "name": "stderr",
     "output_type": "stream",
     "text": [
      "INFO:sqlalchemy.engine.base.Engine:{}\n"
     ]
    },
    {
     "name": "stdout",
     "output_type": "stream",
     "text": [
      "2016-09-15 16:07:32,626 INFO sqlalchemy.engine.base.Engine show standard_conforming_strings\n"
     ]
    },
    {
     "name": "stderr",
     "output_type": "stream",
     "text": [
      "INFO:sqlalchemy.engine.base.Engine:show standard_conforming_strings\n"
     ]
    },
    {
     "name": "stdout",
     "output_type": "stream",
     "text": [
      "2016-09-15 16:07:32,627 INFO sqlalchemy.engine.base.Engine {}\n"
     ]
    },
    {
     "name": "stderr",
     "output_type": "stream",
     "text": [
      "INFO:sqlalchemy.engine.base.Engine:{}\n"
     ]
    },
    {
     "name": "stdout",
     "output_type": "stream",
     "text": [
      "2016-09-15 16:07:32,628 INFO sqlalchemy.engine.base.Engine SELECT COUNT(1) FROM citations\n"
     ]
    },
    {
     "name": "stderr",
     "output_type": "stream",
     "text": [
      "INFO:sqlalchemy.engine.base.Engine:SELECT COUNT(1) FROM citations\n"
     ]
    },
    {
     "name": "stdout",
     "output_type": "stream",
     "text": [
      "2016-09-15 16:07:32,629 INFO sqlalchemy.engine.base.Engine {}\n"
     ]
    },
    {
     "name": "stderr",
     "output_type": "stream",
     "text": [
      "INFO:sqlalchemy.engine.base.Engine:{}\n"
     ]
    },
    {
     "data": {
      "text/plain": [
       "[(28708,)]"
      ]
     },
     "execution_count": 6,
     "metadata": {},
     "output_type": "execute_result"
    }
   ],
   "source": [
    "from colandr.lib import utils\n",
    "import logging\n",
    "\n",
    "logging.basicConfig()\n",
    "logging.getLogger('sqlalchemy.engine').setLevel(logging.CRITICAL)\n",
    "\n",
    "list(utils.execute_raw_sql_query('SELECT COUNT(1) FROM citations'))"
   ]
  },
  {
   "cell_type": "code",
   "execution_count": 93,
   "metadata": {
    "collapsed": false
   },
   "outputs": [
    {
     "name": "stdout",
     "output_type": "stream",
     "text": [
      "http://localhost:5000/citations/1/screenings\n"
     ]
    },
    {
     "data": {
      "text/plain": [
       "{'citation_id': 1,\n",
       " 'created_at': '2016-09-24T19:47:57.600966+00:00',\n",
       " 'exclude_reasons': None,\n",
       " 'id': 1,\n",
       " 'review_id': 1,\n",
       " 'status': 'included',\n",
       " 'user_id': 1}"
      ]
     },
     "execution_count": 93,
     "metadata": {},
     "output_type": "execute_result"
    }
   ],
   "source": [
    "call_endpoint('citations/1/screenings', 'post',\n",
    "              data={'status': 'included'},\n",
    "              auth=('burtdewilde@gmail.com', 'password'))"
   ]
  },
  {
   "cell_type": "code",
   "execution_count": 95,
   "metadata": {
    "collapsed": false
   },
   "outputs": [
    {
     "name": "stdout",
     "output_type": "stream",
     "text": [
      "http://localhost:5000/citations/1/screenings\n"
     ]
    },
    {
     "data": {
      "text/plain": [
       "{'citation_id': 1,\n",
       " 'created_at': '2016-09-24T19:48:42.372801+00:00',\n",
       " 'exclude_reasons': None,\n",
       " 'id': 2,\n",
       " 'review_id': 1,\n",
       " 'status': 'included',\n",
       " 'user_id': 2}"
      ]
     },
     "execution_count": 95,
     "metadata": {},
     "output_type": "execute_result"
    }
   ],
   "source": [
    "call_endpoint('citations/1/screenings', 'post',\n",
    "              data={'status': 'included'},\n",
    "              auth=('rayshah@thinkdesign.com', 'password'))"
   ]
  },
  {
   "cell_type": "code",
   "execution_count": 127,
   "metadata": {
    "collapsed": false,
    "scrolled": true
   },
   "outputs": [
    {
     "name": "stdout",
     "output_type": "stream",
     "text": [
      "2016-09-24 18:58:46,161 INFO sqlalchemy.engine.base.Engine select version()\n"
     ]
    },
    {
     "name": "stderr",
     "output_type": "stream",
     "text": [
      "INFO:sqlalchemy.engine.base.Engine:select version()\n"
     ]
    },
    {
     "name": "stdout",
     "output_type": "stream",
     "text": [
      "2016-09-24 18:58:46,161 INFO sqlalchemy.engine.base.Engine {}\n"
     ]
    },
    {
     "name": "stderr",
     "output_type": "stream",
     "text": [
      "INFO:sqlalchemy.engine.base.Engine:{}\n"
     ]
    },
    {
     "name": "stdout",
     "output_type": "stream",
     "text": [
      "2016-09-24 18:58:46,163 INFO sqlalchemy.engine.base.Engine select current_schema()\n"
     ]
    },
    {
     "name": "stderr",
     "output_type": "stream",
     "text": [
      "INFO:sqlalchemy.engine.base.Engine:select current_schema()\n"
     ]
    },
    {
     "name": "stdout",
     "output_type": "stream",
     "text": [
      "2016-09-24 18:58:46,163 INFO sqlalchemy.engine.base.Engine {}\n"
     ]
    },
    {
     "name": "stderr",
     "output_type": "stream",
     "text": [
      "INFO:sqlalchemy.engine.base.Engine:{}\n"
     ]
    },
    {
     "name": "stdout",
     "output_type": "stream",
     "text": [
      "2016-09-24 18:58:46,165 INFO sqlalchemy.engine.base.Engine SELECT CAST('test plain returns' AS VARCHAR(60)) AS anon_1\n"
     ]
    },
    {
     "name": "stderr",
     "output_type": "stream",
     "text": [
      "INFO:sqlalchemy.engine.base.Engine:SELECT CAST('test plain returns' AS VARCHAR(60)) AS anon_1\n"
     ]
    },
    {
     "name": "stdout",
     "output_type": "stream",
     "text": [
      "2016-09-24 18:58:46,166 INFO sqlalchemy.engine.base.Engine {}\n"
     ]
    },
    {
     "name": "stderr",
     "output_type": "stream",
     "text": [
      "INFO:sqlalchemy.engine.base.Engine:{}\n"
     ]
    },
    {
     "name": "stdout",
     "output_type": "stream",
     "text": [
      "2016-09-24 18:58:46,167 INFO sqlalchemy.engine.base.Engine SELECT CAST('test unicode returns' AS VARCHAR(60)) AS anon_1\n"
     ]
    },
    {
     "name": "stderr",
     "output_type": "stream",
     "text": [
      "INFO:sqlalchemy.engine.base.Engine:SELECT CAST('test unicode returns' AS VARCHAR(60)) AS anon_1\n"
     ]
    },
    {
     "name": "stdout",
     "output_type": "stream",
     "text": [
      "2016-09-24 18:58:46,168 INFO sqlalchemy.engine.base.Engine {}\n"
     ]
    },
    {
     "name": "stderr",
     "output_type": "stream",
     "text": [
      "INFO:sqlalchemy.engine.base.Engine:{}\n"
     ]
    },
    {
     "name": "stdout",
     "output_type": "stream",
     "text": [
      "2016-09-24 18:58:46,169 INFO sqlalchemy.engine.base.Engine show standard_conforming_strings\n"
     ]
    },
    {
     "name": "stderr",
     "output_type": "stream",
     "text": [
      "INFO:sqlalchemy.engine.base.Engine:show standard_conforming_strings\n"
     ]
    },
    {
     "name": "stdout",
     "output_type": "stream",
     "text": [
      "2016-09-24 18:58:46,170 INFO sqlalchemy.engine.base.Engine {}\n"
     ]
    },
    {
     "name": "stderr",
     "output_type": "stream",
     "text": [
      "INFO:sqlalchemy.engine.base.Engine:{}\n"
     ]
    },
    {
     "name": "stdout",
     "output_type": "stream",
     "text": [
      "2016-09-24 18:58:46,171 INFO sqlalchemy.engine.base.Engine BEGIN (implicit)\n"
     ]
    },
    {
     "name": "stderr",
     "output_type": "stream",
     "text": [
      "INFO:sqlalchemy.engine.base.Engine:BEGIN (implicit)\n"
     ]
    },
    {
     "name": "stdout",
     "output_type": "stream",
     "text": [
      "2016-09-24 18:58:46,174 INFO sqlalchemy.engine.base.Engine SELECT citations.id AS citations_id, citations.created_at AS citations_created_at, citations.review_id AS citations_review_id, citations.status AS citations_status, citations.deduplication AS citations_deduplication, citations.tags AS citations_tags, citations.type_of_work AS citations_type_of_work, citations.title AS citations_title, citations.secondary_title AS citations_secondary_title, citations.abstract AS citations_abstract, citations.pub_year AS citations_pub_year, citations.pub_month AS citations_pub_month, citations.authors AS citations_authors, citations.keywords AS citations_keywords, citations.type_of_reference AS citations_type_of_reference, citations.journal_name AS citations_journal_name, citations.volume AS citations_volume, citations.issue_number AS citations_issue_number, citations.doi AS citations_doi, citations.issn AS citations_issn, citations.publisher AS citations_publisher, citations.language AS citations_language, citations.other_fields AS citations_other_fields \n",
      "FROM citations \n",
      "WHERE citations.id IN (%(id_1)s, %(id_2)s, %(id_3)s, %(id_4)s, %(id_5)s, %(id_6)s, %(id_7)s, %(id_8)s, %(id_9)s, %(id_10)s, %(id_11)s, %(id_12)s, %(id_13)s, %(id_14)s, %(id_15)s, %(id_16)s, %(id_17)s, %(id_18)s, %(id_19)s, %(id_20)s, %(id_21)s, %(id_22)s, %(id_23)s, %(id_24)s, %(id_25)s, %(id_26)s, %(id_27)s, %(id_28)s, %(id_29)s, %(id_30)s, %(id_31)s, %(id_32)s, %(id_33)s, %(id_34)s, %(id_35)s, %(id_36)s, %(id_37)s, %(id_38)s, %(id_39)s, %(id_40)s, %(id_41)s, %(id_42)s, %(id_43)s, %(id_44)s, %(id_45)s, %(id_46)s, %(id_47)s, %(id_48)s, %(id_49)s, %(id_50)s, %(id_51)s, %(id_52)s, %(id_53)s, %(id_54)s, %(id_55)s, %(id_56)s, %(id_57)s, %(id_58)s, %(id_59)s, %(id_60)s, %(id_61)s, %(id_62)s, %(id_63)s, %(id_64)s, %(id_65)s, %(id_66)s, %(id_67)s, %(id_68)s, %(id_69)s, %(id_70)s, %(id_71)s, %(id_72)s, %(id_73)s, %(id_74)s, %(id_75)s, %(id_76)s, %(id_77)s, %(id_78)s, %(id_79)s, %(id_80)s, %(id_81)s, %(id_82)s, %(id_83)s, %(id_84)s, %(id_85)s, %(id_86)s, %(id_87)s, %(id_88)s, %(id_89)s, %(id_90)s, %(id_91)s, %(id_92)s, %(id_93)s, %(id_94)s, %(id_95)s, %(id_96)s, %(id_97)s, %(id_98)s, %(id_99)s, %(id_100)s, %(id_101)s, %(id_102)s, %(id_103)s, %(id_104)s, %(id_105)s, %(id_106)s, %(id_107)s, %(id_108)s, %(id_109)s, %(id_110)s, %(id_111)s, %(id_112)s, %(id_113)s, %(id_114)s, %(id_115)s, %(id_116)s, %(id_117)s, %(id_118)s, %(id_119)s, %(id_120)s, %(id_121)s, %(id_122)s, %(id_123)s, %(id_124)s, %(id_125)s, %(id_126)s, %(id_127)s, %(id_128)s, %(id_129)s, %(id_130)s, %(id_131)s, %(id_132)s, %(id_133)s, %(id_134)s, %(id_135)s, %(id_136)s, %(id_137)s, %(id_138)s, %(id_139)s, %(id_140)s, %(id_141)s, %(id_142)s, %(id_143)s, %(id_144)s, %(id_145)s, %(id_146)s, %(id_147)s, %(id_148)s, %(id_149)s, %(id_150)s, %(id_151)s, %(id_152)s, %(id_153)s, %(id_154)s, %(id_155)s, %(id_156)s, %(id_157)s, %(id_158)s, %(id_159)s, %(id_160)s, %(id_161)s, %(id_162)s, %(id_163)s, %(id_164)s, %(id_165)s, %(id_166)s, %(id_167)s, %(id_168)s, %(id_169)s, %(id_170)s, %(id_171)s, %(id_172)s, %(id_173)s, %(id_174)s, %(id_175)s, %(id_176)s, %(id_177)s, %(id_178)s, %(id_179)s, %(id_180)s, %(id_181)s, %(id_182)s, %(id_183)s, %(id_184)s, %(id_185)s, %(id_186)s, %(id_187)s, %(id_188)s, %(id_189)s, %(id_190)s, %(id_191)s, %(id_192)s, %(id_193)s, %(id_194)s, %(id_195)s, %(id_196)s, %(id_197)s, %(id_198)s, %(id_199)s, %(id_200)s)\n"
     ]
    },
    {
     "name": "stderr",
     "output_type": "stream",
     "text": [
      "INFO:sqlalchemy.engine.base.Engine:SELECT citations.id AS citations_id, citations.created_at AS citations_created_at, citations.review_id AS citations_review_id, citations.status AS citations_status, citations.deduplication AS citations_deduplication, citations.tags AS citations_tags, citations.type_of_work AS citations_type_of_work, citations.title AS citations_title, citations.secondary_title AS citations_secondary_title, citations.abstract AS citations_abstract, citations.pub_year AS citations_pub_year, citations.pub_month AS citations_pub_month, citations.authors AS citations_authors, citations.keywords AS citations_keywords, citations.type_of_reference AS citations_type_of_reference, citations.journal_name AS citations_journal_name, citations.volume AS citations_volume, citations.issue_number AS citations_issue_number, citations.doi AS citations_doi, citations.issn AS citations_issn, citations.publisher AS citations_publisher, citations.language AS citations_language, citations.other_fields AS citations_other_fields \n",
      "FROM citations \n",
      "WHERE citations.id IN (%(id_1)s, %(id_2)s, %(id_3)s, %(id_4)s, %(id_5)s, %(id_6)s, %(id_7)s, %(id_8)s, %(id_9)s, %(id_10)s, %(id_11)s, %(id_12)s, %(id_13)s, %(id_14)s, %(id_15)s, %(id_16)s, %(id_17)s, %(id_18)s, %(id_19)s, %(id_20)s, %(id_21)s, %(id_22)s, %(id_23)s, %(id_24)s, %(id_25)s, %(id_26)s, %(id_27)s, %(id_28)s, %(id_29)s, %(id_30)s, %(id_31)s, %(id_32)s, %(id_33)s, %(id_34)s, %(id_35)s, %(id_36)s, %(id_37)s, %(id_38)s, %(id_39)s, %(id_40)s, %(id_41)s, %(id_42)s, %(id_43)s, %(id_44)s, %(id_45)s, %(id_46)s, %(id_47)s, %(id_48)s, %(id_49)s, %(id_50)s, %(id_51)s, %(id_52)s, %(id_53)s, %(id_54)s, %(id_55)s, %(id_56)s, %(id_57)s, %(id_58)s, %(id_59)s, %(id_60)s, %(id_61)s, %(id_62)s, %(id_63)s, %(id_64)s, %(id_65)s, %(id_66)s, %(id_67)s, %(id_68)s, %(id_69)s, %(id_70)s, %(id_71)s, %(id_72)s, %(id_73)s, %(id_74)s, %(id_75)s, %(id_76)s, %(id_77)s, %(id_78)s, %(id_79)s, %(id_80)s, %(id_81)s, %(id_82)s, %(id_83)s, %(id_84)s, %(id_85)s, %(id_86)s, %(id_87)s, %(id_88)s, %(id_89)s, %(id_90)s, %(id_91)s, %(id_92)s, %(id_93)s, %(id_94)s, %(id_95)s, %(id_96)s, %(id_97)s, %(id_98)s, %(id_99)s, %(id_100)s, %(id_101)s, %(id_102)s, %(id_103)s, %(id_104)s, %(id_105)s, %(id_106)s, %(id_107)s, %(id_108)s, %(id_109)s, %(id_110)s, %(id_111)s, %(id_112)s, %(id_113)s, %(id_114)s, %(id_115)s, %(id_116)s, %(id_117)s, %(id_118)s, %(id_119)s, %(id_120)s, %(id_121)s, %(id_122)s, %(id_123)s, %(id_124)s, %(id_125)s, %(id_126)s, %(id_127)s, %(id_128)s, %(id_129)s, %(id_130)s, %(id_131)s, %(id_132)s, %(id_133)s, %(id_134)s, %(id_135)s, %(id_136)s, %(id_137)s, %(id_138)s, %(id_139)s, %(id_140)s, %(id_141)s, %(id_142)s, %(id_143)s, %(id_144)s, %(id_145)s, %(id_146)s, %(id_147)s, %(id_148)s, %(id_149)s, %(id_150)s, %(id_151)s, %(id_152)s, %(id_153)s, %(id_154)s, %(id_155)s, %(id_156)s, %(id_157)s, %(id_158)s, %(id_159)s, %(id_160)s, %(id_161)s, %(id_162)s, %(id_163)s, %(id_164)s, %(id_165)s, %(id_166)s, %(id_167)s, %(id_168)s, %(id_169)s, %(id_170)s, %(id_171)s, %(id_172)s, %(id_173)s, %(id_174)s, %(id_175)s, %(id_176)s, %(id_177)s, %(id_178)s, %(id_179)s, %(id_180)s, %(id_181)s, %(id_182)s, %(id_183)s, %(id_184)s, %(id_185)s, %(id_186)s, %(id_187)s, %(id_188)s, %(id_189)s, %(id_190)s, %(id_191)s, %(id_192)s, %(id_193)s, %(id_194)s, %(id_195)s, %(id_196)s, %(id_197)s, %(id_198)s, %(id_199)s, %(id_200)s)\n"
     ]
    },
    {
     "name": "stdout",
     "output_type": "stream",
     "text": [
      "2016-09-24 18:58:46,175 INFO sqlalchemy.engine.base.Engine {'id_159': 791, 'id_148': 736, 'id_173': 861, 'id_131': 651, 'id_7': 31, 'id_188': 936, 'id_99': 491, 'id_64': 316, 'id_180': 896, 'id_195': 971, 'id_146': 726, 'id_55': 271, 'id_179': 891, 'id_166': 826, 'id_6': 26, 'id_63': 311, 'id_110': 546, 'id_19': 91, 'id_196': 976, 'id_56': 276, 'id_182': 906, 'id_168': 836, 'id_2': 6, 'id_89': 441, 'id_175': 871, 'id_134': 666, 'id_34': 166, 'id_20': 96, 'id_87': 431, 'id_176': 876, 'id_130': 646, 'id_65': 321, 'id_125': 621, 'id_91': 451, 'id_46': 226, 'id_54': 266, 'id_117': 581, 'id_86': 426, 'id_101': 501, 'id_14': 66, 'id_93': 461, 'id_199': 991, 'id_108': 536, 'id_36': 176, 'id_191': 951, 'id_142': 706, 'id_111': 551, 'id_106': 526, 'id_31': 151, 'id_107': 531, 'id_144': 716, 'id_25': 121, 'id_68': 336, 'id_137': 681, 'id_124': 616, 'id_15': 71, 'id_61': 301, 'id_30': 146, 'id_189': 941, 'id_51': 251, 'id_52': 256, 'id_163': 811, 'id_160': 796, 'id_37': 181, 'id_49': 241, 'id_95': 471, 'id_136': 676, 'id_58': 286, 'id_157': 781, 'id_28': 136, 'id_120': 596, 'id_78': 386, 'id_169': 841, 'id_127': 631, 'id_75': 371, 'id_178': 886, 'id_112': 556, 'id_71': 351, 'id_77': 381, 'id_74': 366, 'id_84': 416, 'id_190': 946, 'id_135': 671, 'id_26': 126, 'id_174': 866, 'id_115': 571, 'id_29': 141, 'id_79': 391, 'id_60': 296, 'id_23': 111, 'id_172': 856, 'id_119': 591, 'id_141': 701, 'id_97': 481, 'id_126': 626, 'id_103': 511, 'id_12': 56, 'id_129': 641, 'id_164': 816, 'id_18': 86, 'id_42': 206, 'id_102': 506, 'id_10': 46, 'id_83': 411, 'id_177': 881, 'id_151': 751, 'id_149': 741, 'id_57': 281, 'id_92': 456, 'id_197': 981, 'id_113': 561, 'id_200': 996, 'id_140': 696, 'id_50': 246, 'id_5': 21, 'id_62': 306, 'id_139': 691, 'id_98': 486, 'id_17': 81, 'id_80': 396, 'id_27': 131, 'id_165': 821, 'id_132': 656, 'id_138': 686, 'id_4': 16, 'id_187': 931, 'id_154': 766, 'id_183': 911, 'id_116': 576, 'id_90': 446, 'id_184': 916, 'id_38': 186, 'id_118': 586, 'id_167': 831, 'id_32': 156, 'id_48': 236, 'id_150': 746, 'id_43': 211, 'id_155': 771, 'id_45': 221, 'id_181': 901, 'id_145': 721, 'id_16': 76, 'id_44': 216, 'id_81': 401, 'id_133': 661, 'id_96': 476, 'id_1': 1, 'id_69': 341, 'id_109': 541, 'id_105': 521, 'id_153': 761, 'id_47': 231, 'id_70': 346, 'id_66': 326, 'id_114': 566, 'id_8': 36, 'id_9': 41, 'id_161': 801, 'id_35': 171, 'id_143': 711, 'id_22': 106, 'id_185': 921, 'id_73': 361, 'id_59': 291, 'id_41': 201, 'id_40': 196, 'id_123': 611, 'id_67': 331, 'id_186': 926, 'id_194': 966, 'id_193': 961, 'id_147': 731, 'id_33': 161, 'id_39': 191, 'id_171': 851, 'id_198': 986, 'id_85': 421, 'id_152': 756, 'id_53': 261, 'id_128': 636, 'id_121': 601, 'id_156': 776, 'id_162': 806, 'id_76': 376, 'id_11': 51, 'id_21': 101, 'id_24': 116, 'id_82': 406, 'id_13': 61, 'id_72': 356, 'id_94': 466, 'id_122': 606, 'id_100': 496, 'id_88': 436, 'id_158': 786, 'id_3': 11, 'id_104': 516, 'id_192': 956, 'id_170': 846}\n"
     ]
    },
    {
     "name": "stderr",
     "output_type": "stream",
     "text": [
      "INFO:sqlalchemy.engine.base.Engine:{'id_159': 791, 'id_148': 736, 'id_173': 861, 'id_131': 651, 'id_7': 31, 'id_188': 936, 'id_99': 491, 'id_64': 316, 'id_180': 896, 'id_195': 971, 'id_146': 726, 'id_55': 271, 'id_179': 891, 'id_166': 826, 'id_6': 26, 'id_63': 311, 'id_110': 546, 'id_19': 91, 'id_196': 976, 'id_56': 276, 'id_182': 906, 'id_168': 836, 'id_2': 6, 'id_89': 441, 'id_175': 871, 'id_134': 666, 'id_34': 166, 'id_20': 96, 'id_87': 431, 'id_176': 876, 'id_130': 646, 'id_65': 321, 'id_125': 621, 'id_91': 451, 'id_46': 226, 'id_54': 266, 'id_117': 581, 'id_86': 426, 'id_101': 501, 'id_14': 66, 'id_93': 461, 'id_199': 991, 'id_108': 536, 'id_36': 176, 'id_191': 951, 'id_142': 706, 'id_111': 551, 'id_106': 526, 'id_31': 151, 'id_107': 531, 'id_144': 716, 'id_25': 121, 'id_68': 336, 'id_137': 681, 'id_124': 616, 'id_15': 71, 'id_61': 301, 'id_30': 146, 'id_189': 941, 'id_51': 251, 'id_52': 256, 'id_163': 811, 'id_160': 796, 'id_37': 181, 'id_49': 241, 'id_95': 471, 'id_136': 676, 'id_58': 286, 'id_157': 781, 'id_28': 136, 'id_120': 596, 'id_78': 386, 'id_169': 841, 'id_127': 631, 'id_75': 371, 'id_178': 886, 'id_112': 556, 'id_71': 351, 'id_77': 381, 'id_74': 366, 'id_84': 416, 'id_190': 946, 'id_135': 671, 'id_26': 126, 'id_174': 866, 'id_115': 571, 'id_29': 141, 'id_79': 391, 'id_60': 296, 'id_23': 111, 'id_172': 856, 'id_119': 591, 'id_141': 701, 'id_97': 481, 'id_126': 626, 'id_103': 511, 'id_12': 56, 'id_129': 641, 'id_164': 816, 'id_18': 86, 'id_42': 206, 'id_102': 506, 'id_10': 46, 'id_83': 411, 'id_177': 881, 'id_151': 751, 'id_149': 741, 'id_57': 281, 'id_92': 456, 'id_197': 981, 'id_113': 561, 'id_200': 996, 'id_140': 696, 'id_50': 246, 'id_5': 21, 'id_62': 306, 'id_139': 691, 'id_98': 486, 'id_17': 81, 'id_80': 396, 'id_27': 131, 'id_165': 821, 'id_132': 656, 'id_138': 686, 'id_4': 16, 'id_187': 931, 'id_154': 766, 'id_183': 911, 'id_116': 576, 'id_90': 446, 'id_184': 916, 'id_38': 186, 'id_118': 586, 'id_167': 831, 'id_32': 156, 'id_48': 236, 'id_150': 746, 'id_43': 211, 'id_155': 771, 'id_45': 221, 'id_181': 901, 'id_145': 721, 'id_16': 76, 'id_44': 216, 'id_81': 401, 'id_133': 661, 'id_96': 476, 'id_1': 1, 'id_69': 341, 'id_109': 541, 'id_105': 521, 'id_153': 761, 'id_47': 231, 'id_70': 346, 'id_66': 326, 'id_114': 566, 'id_8': 36, 'id_9': 41, 'id_161': 801, 'id_35': 171, 'id_143': 711, 'id_22': 106, 'id_185': 921, 'id_73': 361, 'id_59': 291, 'id_41': 201, 'id_40': 196, 'id_123': 611, 'id_67': 331, 'id_186': 926, 'id_194': 966, 'id_193': 961, 'id_147': 731, 'id_33': 161, 'id_39': 191, 'id_171': 851, 'id_198': 986, 'id_85': 421, 'id_152': 756, 'id_53': 261, 'id_128': 636, 'id_121': 601, 'id_156': 776, 'id_162': 806, 'id_76': 376, 'id_11': 51, 'id_21': 101, 'id_24': 116, 'id_82': 406, 'id_13': 61, 'id_72': 356, 'id_94': 466, 'id_122': 606, 'id_100': 496, 'id_88': 436, 'id_158': 786, 'id_3': 11, 'id_104': 516, 'id_192': 956, 'id_170': 846}\n"
     ]
    },
    {
     "name": "stdout",
     "output_type": "stream",
     "text": [
      "<Citation(id=1)>\n",
      "<Citation(id=6)>\n",
      "<Citation(id=11)>\n",
      "<Citation(id=16)>\n",
      "<Citation(id=21)>\n",
      "<Citation(id=26)>\n",
      "<Citation(id=31)>\n",
      "<Citation(id=36)>\n",
      "<Citation(id=41)>\n",
      "<Citation(id=46)>\n",
      "<Citation(id=51)>\n",
      "<Citation(id=56)>\n",
      "<Citation(id=61)>\n",
      "<Citation(id=66)>\n",
      "<Citation(id=71)>\n",
      "<Citation(id=76)>\n",
      "<Citation(id=81)>\n",
      "<Citation(id=86)>\n",
      "<Citation(id=91)>\n",
      "<Citation(id=96)>\n",
      "<Citation(id=101)>\n",
      "<Citation(id=106)>\n",
      "<Citation(id=111)>\n",
      "<Citation(id=116)>\n",
      "<Citation(id=121)>\n",
      "<Citation(id=126)>\n",
      "<Citation(id=131)>\n",
      "<Citation(id=136)>\n",
      "<Citation(id=141)>\n",
      "<Citation(id=146)>\n",
      "<Citation(id=151)>\n",
      "<Citation(id=156)>\n",
      "<Citation(id=161)>\n",
      "<Citation(id=166)>\n",
      "<Citation(id=171)>\n",
      "<Citation(id=176)>\n",
      "<Citation(id=181)>\n",
      "<Citation(id=186)>\n",
      "<Citation(id=191)>\n",
      "<Citation(id=196)>\n",
      "<Citation(id=201)>\n",
      "<Citation(id=206)>\n",
      "<Citation(id=211)>\n",
      "<Citation(id=216)>\n",
      "<Citation(id=221)>\n",
      "<Citation(id=226)>\n",
      "<Citation(id=231)>\n",
      "<Citation(id=236)>\n",
      "<Citation(id=241)>\n",
      "<Citation(id=246)>\n",
      "<Citation(id=251)>\n",
      "<Citation(id=256)>\n",
      "<Citation(id=261)>\n",
      "<Citation(id=266)>\n",
      "<Citation(id=271)>\n",
      "<Citation(id=276)>\n",
      "<Citation(id=281)>\n",
      "<Citation(id=286)>\n",
      "<Citation(id=291)>\n",
      "<Citation(id=296)>\n",
      "<Citation(id=301)>\n",
      "<Citation(id=306)>\n",
      "<Citation(id=311)>\n",
      "<Citation(id=316)>\n",
      "<Citation(id=321)>\n",
      "<Citation(id=326)>\n",
      "<Citation(id=331)>\n",
      "<Citation(id=336)>\n",
      "<Citation(id=341)>\n",
      "<Citation(id=346)>\n",
      "<Citation(id=351)>\n",
      "<Citation(id=356)>\n",
      "<Citation(id=361)>\n",
      "<Citation(id=366)>\n",
      "<Citation(id=371)>\n",
      "<Citation(id=376)>\n",
      "<Citation(id=381)>\n",
      "<Citation(id=386)>\n",
      "<Citation(id=391)>\n",
      "<Citation(id=396)>\n",
      "<Citation(id=401)>\n",
      "<Citation(id=406)>\n",
      "<Citation(id=411)>\n",
      "<Citation(id=416)>\n",
      "<Citation(id=421)>\n",
      "<Citation(id=426)>\n",
      "<Citation(id=431)>\n",
      "<Citation(id=436)>\n",
      "<Citation(id=441)>\n",
      "<Citation(id=446)>\n",
      "<Citation(id=451)>\n",
      "<Citation(id=456)>\n",
      "<Citation(id=461)>\n",
      "<Citation(id=466)>\n",
      "<Citation(id=471)>\n",
      "<Citation(id=476)>\n",
      "<Citation(id=481)>\n",
      "<Citation(id=486)>\n",
      "<Citation(id=491)>\n",
      "<Citation(id=496)>\n",
      "<Citation(id=501)>\n",
      "<Citation(id=506)>\n",
      "<Citation(id=511)>\n",
      "<Citation(id=516)>\n",
      "<Citation(id=521)>\n",
      "<Citation(id=526)>\n",
      "<Citation(id=531)>\n",
      "<Citation(id=536)>\n",
      "<Citation(id=541)>\n",
      "<Citation(id=546)>\n",
      "<Citation(id=551)>\n",
      "<Citation(id=556)>\n",
      "<Citation(id=561)>\n",
      "<Citation(id=566)>\n",
      "<Citation(id=571)>\n",
      "<Citation(id=576)>\n",
      "<Citation(id=581)>\n",
      "<Citation(id=586)>\n",
      "<Citation(id=591)>\n",
      "<Citation(id=596)>\n",
      "<Citation(id=601)>\n",
      "<Citation(id=606)>\n",
      "<Citation(id=611)>\n",
      "<Citation(id=616)>\n",
      "<Citation(id=621)>\n",
      "<Citation(id=626)>\n",
      "<Citation(id=631)>\n",
      "<Citation(id=636)>\n",
      "<Citation(id=641)>\n",
      "<Citation(id=646)>\n",
      "<Citation(id=651)>\n",
      "<Citation(id=656)>\n",
      "<Citation(id=661)>\n",
      "<Citation(id=666)>\n",
      "<Citation(id=671)>\n",
      "<Citation(id=676)>\n",
      "<Citation(id=681)>\n",
      "<Citation(id=686)>\n",
      "<Citation(id=691)>\n",
      "<Citation(id=696)>\n",
      "<Citation(id=701)>\n",
      "<Citation(id=706)>\n",
      "<Citation(id=711)>\n",
      "<Citation(id=716)>\n",
      "<Citation(id=721)>\n",
      "<Citation(id=726)>\n",
      "<Citation(id=731)>\n",
      "<Citation(id=736)>\n",
      "<Citation(id=741)>\n",
      "<Citation(id=746)>\n",
      "<Citation(id=751)>\n",
      "<Citation(id=756)>\n",
      "<Citation(id=761)>\n",
      "<Citation(id=766)>\n",
      "<Citation(id=771)>\n",
      "<Citation(id=776)>\n",
      "<Citation(id=781)>\n",
      "<Citation(id=786)>\n",
      "<Citation(id=791)>\n",
      "<Citation(id=796)>\n",
      "<Citation(id=801)>\n",
      "<Citation(id=806)>\n",
      "<Citation(id=811)>\n",
      "<Citation(id=816)>\n",
      "<Citation(id=821)>\n",
      "<Citation(id=826)>\n",
      "<Citation(id=831)>\n",
      "<Citation(id=836)>\n",
      "<Citation(id=841)>\n",
      "<Citation(id=846)>\n",
      "<Citation(id=851)>\n",
      "<Citation(id=856)>\n",
      "<Citation(id=861)>\n",
      "<Citation(id=866)>\n",
      "<Citation(id=871)>\n",
      "<Citation(id=876)>\n",
      "<Citation(id=881)>\n",
      "<Citation(id=886)>\n",
      "<Citation(id=891)>\n",
      "<Citation(id=896)>\n",
      "<Citation(id=901)>\n",
      "<Citation(id=906)>\n",
      "<Citation(id=911)>\n",
      "<Citation(id=916)>\n",
      "<Citation(id=921)>\n",
      "<Citation(id=926)>\n",
      "<Citation(id=931)>\n",
      "<Citation(id=936)>\n",
      "<Citation(id=941)>\n",
      "<Citation(id=946)>\n",
      "<Citation(id=951)>\n",
      "<Citation(id=956)>\n",
      "<Citation(id=961)>\n",
      "<Citation(id=966)>\n",
      "<Citation(id=971)>\n",
      "<Citation(id=976)>\n",
      "<Citation(id=981)>\n",
      "<Citation(id=986)>\n",
      "<Citation(id=991)>\n",
      "<Citation(id=996)>\n",
      "2016-09-24 18:58:46,193 INFO sqlalchemy.engine.base.Engine COMMIT\n"
     ]
    },
    {
     "name": "stderr",
     "output_type": "stream",
     "text": [
      "INFO:sqlalchemy.engine.base.Engine:COMMIT\n"
     ]
    },
    {
     "name": "stdout",
     "output_type": "stream",
     "text": [
      "CPU times: user 33.1 ms, sys: 4.82 ms, total: 37.9 ms\n",
      "Wall time: 47.7 ms\n"
     ]
    }
   ],
   "source": [
    "%%time\n",
    "\n",
    "from flask import current_app, g\n",
    "from sqlalchemy import asc, desc\n",
    "\n",
    "from colandr import create_app, db\n",
    "from colandr.models import Citation, CitationScreening, Review, User\n",
    "from colandr.api.schemas import CitationSchema\n",
    "\n",
    "logging.getLogger('sqlalchemy.engine').setLevel(logging.WARNING)\n",
    "app = create_app('default')\n",
    "\n",
    "citation_ids = list(range(1, 1000, 5))\n",
    "\n",
    "\n",
    "\n",
    "with app.app_context():\n",
    "    \n",
    "#     for citation_id in citation_ids:\n",
    "#         citation = db.session.query(Citation).get(citation_id)\n",
    "#     citations = db.session.query(Citation)\\\n",
    "#         .filter(Citation.id.in_(citation_ids))\\\n",
    "#         .with_entities(Citation.id, Citation.status)\\\n",
    "#         .order_by(Citation.id)\\\n",
    "#         .all()\n",
    "#     results = db.session.query(Citation, CitationScreening)\\\n",
    "#         .filter(Citation.id == CitationScreening.citation_id)\\\n",
    "#         .filter(Citation.id.in_(citation_ids))\\\n",
    "#         .all()\n",
    "#     print(results[0])\n",
    "    query = db.session.query(Citation)\\\n",
    "        .filter(Citation.id.in_(citation_ids))\n",
    "    for result in query:\n",
    "        print(result)"
   ]
  },
  {
   "cell_type": "code",
   "execution_count": null,
   "metadata": {
    "collapsed": true
   },
   "outputs": [],
   "source": []
  },
  {
   "cell_type": "code",
   "execution_count": null,
   "metadata": {
    "collapsed": false
   },
   "outputs": [],
   "source": []
  },
  {
   "cell_type": "code",
   "execution_count": 143,
   "metadata": {
    "collapsed": false,
    "scrolled": true
   },
   "outputs": [
    {
     "name": "stdout",
     "output_type": "stream",
     "text": [
      "2016-09-16 14:47:31,000 INFO sqlalchemy.engine.base.Engine select version()\n"
     ]
    },
    {
     "name": "stderr",
     "output_type": "stream",
     "text": [
      "INFO:sqlalchemy.engine.base.Engine:select version()\n"
     ]
    },
    {
     "name": "stdout",
     "output_type": "stream",
     "text": [
      "2016-09-16 14:47:31,001 INFO sqlalchemy.engine.base.Engine {}\n"
     ]
    },
    {
     "name": "stderr",
     "output_type": "stream",
     "text": [
      "INFO:sqlalchemy.engine.base.Engine:{}\n"
     ]
    },
    {
     "name": "stdout",
     "output_type": "stream",
     "text": [
      "2016-09-16 14:47:31,003 INFO sqlalchemy.engine.base.Engine select current_schema()\n"
     ]
    },
    {
     "name": "stderr",
     "output_type": "stream",
     "text": [
      "INFO:sqlalchemy.engine.base.Engine:select current_schema()\n"
     ]
    },
    {
     "name": "stdout",
     "output_type": "stream",
     "text": [
      "2016-09-16 14:47:31,004 INFO sqlalchemy.engine.base.Engine {}\n"
     ]
    },
    {
     "name": "stderr",
     "output_type": "stream",
     "text": [
      "INFO:sqlalchemy.engine.base.Engine:{}\n"
     ]
    },
    {
     "name": "stdout",
     "output_type": "stream",
     "text": [
      "2016-09-16 14:47:31,006 INFO sqlalchemy.engine.base.Engine SELECT CAST('test plain returns' AS VARCHAR(60)) AS anon_1\n"
     ]
    },
    {
     "name": "stderr",
     "output_type": "stream",
     "text": [
      "INFO:sqlalchemy.engine.base.Engine:SELECT CAST('test plain returns' AS VARCHAR(60)) AS anon_1\n"
     ]
    },
    {
     "name": "stdout",
     "output_type": "stream",
     "text": [
      "2016-09-16 14:47:31,006 INFO sqlalchemy.engine.base.Engine {}\n"
     ]
    },
    {
     "name": "stderr",
     "output_type": "stream",
     "text": [
      "INFO:sqlalchemy.engine.base.Engine:{}\n"
     ]
    },
    {
     "name": "stdout",
     "output_type": "stream",
     "text": [
      "2016-09-16 14:47:31,008 INFO sqlalchemy.engine.base.Engine SELECT CAST('test unicode returns' AS VARCHAR(60)) AS anon_1\n"
     ]
    },
    {
     "name": "stderr",
     "output_type": "stream",
     "text": [
      "INFO:sqlalchemy.engine.base.Engine:SELECT CAST('test unicode returns' AS VARCHAR(60)) AS anon_1\n"
     ]
    },
    {
     "name": "stdout",
     "output_type": "stream",
     "text": [
      "2016-09-16 14:47:31,009 INFO sqlalchemy.engine.base.Engine {}\n"
     ]
    },
    {
     "name": "stderr",
     "output_type": "stream",
     "text": [
      "INFO:sqlalchemy.engine.base.Engine:{}\n"
     ]
    },
    {
     "name": "stdout",
     "output_type": "stream",
     "text": [
      "2016-09-16 14:47:31,010 INFO sqlalchemy.engine.base.Engine show standard_conforming_strings\n"
     ]
    },
    {
     "name": "stderr",
     "output_type": "stream",
     "text": [
      "INFO:sqlalchemy.engine.base.Engine:show standard_conforming_strings\n"
     ]
    },
    {
     "name": "stdout",
     "output_type": "stream",
     "text": [
      "2016-09-16 14:47:31,011 INFO sqlalchemy.engine.base.Engine {}\n"
     ]
    },
    {
     "name": "stderr",
     "output_type": "stream",
     "text": [
      "INFO:sqlalchemy.engine.base.Engine:{}\n"
     ]
    },
    {
     "name": "stdout",
     "output_type": "stream",
     "text": [
      "2016-09-16 14:47:31,012 INFO sqlalchemy.engine.base.Engine BEGIN (implicit)\n"
     ]
    },
    {
     "name": "stderr",
     "output_type": "stream",
     "text": [
      "INFO:sqlalchemy.engine.base.Engine:BEGIN (implicit)\n"
     ]
    },
    {
     "name": "stdout",
     "output_type": "stream",
     "text": [
      "2016-09-16 14:47:31,014 INFO sqlalchemy.engine.base.Engine SELECT users.id AS users_id, users.created_at AS users_created_at, users.name AS users_name, users.email AS users_email, users.password AS users_password \n",
      "FROM users \n",
      "WHERE users.id = %(param_1)s\n"
     ]
    },
    {
     "name": "stderr",
     "output_type": "stream",
     "text": [
      "INFO:sqlalchemy.engine.base.Engine:SELECT users.id AS users_id, users.created_at AS users_created_at, users.name AS users_name, users.email AS users_email, users.password AS users_password \n",
      "FROM users \n",
      "WHERE users.id = %(param_1)s\n"
     ]
    },
    {
     "name": "stdout",
     "output_type": "stream",
     "text": [
      "2016-09-16 14:47:31,014 INFO sqlalchemy.engine.base.Engine {'param_1': 1}\n"
     ]
    },
    {
     "name": "stderr",
     "output_type": "stream",
     "text": [
      "INFO:sqlalchemy.engine.base.Engine:{'param_1': 1}\n"
     ]
    },
    {
     "name": "stdout",
     "output_type": "stream",
     "text": [
      "<User(id=1)>\n",
      "2016-09-16 14:47:31,018 INFO sqlalchemy.engine.base.Engine SELECT reviews.id AS reviews_id, reviews.created_at AS reviews_created_at, reviews.owner_user_id AS reviews_owner_user_id, reviews.name AS reviews_name, reviews.description AS reviews_description, reviews.status AS reviews_status, reviews.num_citation_screening_reviewers AS reviews_num_citation_screening_reviewers, reviews.num_fulltext_screening_reviewers AS reviews_num_fulltext_screening_reviewers \n",
      "FROM reviews, users_to_reviews \n",
      "WHERE %(param_1)s = users_to_reviews.user_id AND reviews.id = users_to_reviews.review_id\n"
     ]
    },
    {
     "name": "stderr",
     "output_type": "stream",
     "text": [
      "INFO:sqlalchemy.engine.base.Engine:SELECT reviews.id AS reviews_id, reviews.created_at AS reviews_created_at, reviews.owner_user_id AS reviews_owner_user_id, reviews.name AS reviews_name, reviews.description AS reviews_description, reviews.status AS reviews_status, reviews.num_citation_screening_reviewers AS reviews_num_citation_screening_reviewers, reviews.num_fulltext_screening_reviewers AS reviews_num_fulltext_screening_reviewers \n",
      "FROM reviews, users_to_reviews \n",
      "WHERE %(param_1)s = users_to_reviews.user_id AND reviews.id = users_to_reviews.review_id\n"
     ]
    },
    {
     "name": "stdout",
     "output_type": "stream",
     "text": [
      "2016-09-16 14:47:31,019 INFO sqlalchemy.engine.base.Engine {'param_1': 1}\n"
     ]
    },
    {
     "name": "stderr",
     "output_type": "stream",
     "text": [
      "INFO:sqlalchemy.engine.base.Engine:{'param_1': 1}\n"
     ]
    },
    {
     "name": "stdout",
     "output_type": "stream",
     "text": [
      "2016-09-16 14:47:31,023 INFO sqlalchemy.engine.base.Engine SELECT users.id AS users_id, users.created_at AS users_created_at, users.name AS users_name, users.email AS users_email, users.password AS users_password \n",
      "FROM users, users_to_reviews \n",
      "WHERE %(param_1)s = users_to_reviews.review_id AND users.id = users_to_reviews.user_id AND users.id = %(id_1)s\n"
     ]
    },
    {
     "name": "stderr",
     "output_type": "stream",
     "text": [
      "INFO:sqlalchemy.engine.base.Engine:SELECT users.id AS users_id, users.created_at AS users_created_at, users.name AS users_name, users.email AS users_email, users.password AS users_password \n",
      "FROM users, users_to_reviews \n",
      "WHERE %(param_1)s = users_to_reviews.review_id AND users.id = users_to_reviews.user_id AND users.id = %(id_1)s\n"
     ]
    },
    {
     "name": "stdout",
     "output_type": "stream",
     "text": [
      "2016-09-16 14:47:31,024 INFO sqlalchemy.engine.base.Engine {'id_1': 2, 'param_1': 1}\n"
     ]
    },
    {
     "name": "stderr",
     "output_type": "stream",
     "text": [
      "INFO:sqlalchemy.engine.base.Engine:{'id_1': 2, 'param_1': 1}\n"
     ]
    },
    {
     "name": "stdout",
     "output_type": "stream",
     "text": [
      "2016-09-16 14:47:31,026 INFO sqlalchemy.engine.base.Engine SELECT users.id AS users_id, users.created_at AS users_created_at, users.name AS users_name, users.email AS users_email, users.password AS users_password \n",
      "FROM users, users_to_reviews \n",
      "WHERE %(param_1)s = users_to_reviews.review_id AND users.id = users_to_reviews.user_id AND users.id = %(id_1)s\n"
     ]
    },
    {
     "name": "stderr",
     "output_type": "stream",
     "text": [
      "INFO:sqlalchemy.engine.base.Engine:SELECT users.id AS users_id, users.created_at AS users_created_at, users.name AS users_name, users.email AS users_email, users.password AS users_password \n",
      "FROM users, users_to_reviews \n",
      "WHERE %(param_1)s = users_to_reviews.review_id AND users.id = users_to_reviews.user_id AND users.id = %(id_1)s\n"
     ]
    },
    {
     "name": "stdout",
     "output_type": "stream",
     "text": [
      "2016-09-16 14:47:31,028 INFO sqlalchemy.engine.base.Engine {'id_1': 2, 'param_1': 2}\n"
     ]
    },
    {
     "name": "stderr",
     "output_type": "stream",
     "text": [
      "INFO:sqlalchemy.engine.base.Engine:{'id_1': 2, 'param_1': 2}\n"
     ]
    },
    {
     "name": "stdout",
     "output_type": "stream",
     "text": [
      "False\n",
      "2016-09-16 14:47:31,029 INFO sqlalchemy.engine.base.Engine COMMIT\n"
     ]
    },
    {
     "name": "stderr",
     "output_type": "stream",
     "text": [
      "INFO:sqlalchemy.engine.base.Engine:COMMIT\n"
     ]
    }
   ],
   "source": [
    "from flask import current_app, g\n",
    "from sqlalchemy import asc, desc\n",
    "\n",
    "from colandr import create_app, db\n",
    "from colandr.models import Citation, Review, User\n",
    "from colandr.api.schemas import CitationSchema\n",
    "\n",
    "logging.getLogger('sqlalchemy.engine').setLevel(logging.WARNING)\n",
    "app = create_app('default')\n",
    "\n",
    "review_id = 1\n",
    "fields = None  # ['title']\n",
    "status = 'not_screened'\n",
    "tag = None\n",
    "order_by = 'recency'\n",
    "order_dir = 'DESC'\n",
    "page = 0\n",
    "per_page = 25\n",
    "\n",
    "with app.app_context():\n",
    "    \n",
    "    user = db.session.query(User).get(1)\n",
    "    print(user)\n",
    "    print(any(review.users.filter_by(id=2).one_or_none()\n",
    "              for review in user.reviews))\n",
    "    \n",
    "#     result = db.session.query(Citation).filter_by(id=100)\n",
    "#     status = 'not_screened' OR\n",
    "#     query = \"\"\"\n",
    "#         SELECT\n",
    "#             (CASE\n",
    "#                  WHEN (status != 'not_screened' AND screening @> '[{{\"user_id\": {user_id}}}]') THEN 'awaiting_coscreener'\n",
    "#                  WHEN (status = 'not_screened' OR NOT screening @> '[{{\"user_id\": {user_id}}}]') THEN 'pending'\n",
    "#              END) AS user_view_status,\n",
    "#             COUNT(1)\n",
    "#         FROM citations\n",
    "#         GROUP BY 1\n",
    "#         \"\"\".format(user_id=1)\n",
    "#     results = [row for row in db.engine.execute(query)]\n",
    "#         print(result)\n",
    "#         db.text(\"SELECT id, screening FROM citations WHERE screening @> '[\\{\\\"user_id\\\":{}\\}]'\".format(1))).all()\n",
    "#     print(result)"
   ]
  },
  {
   "cell_type": "code",
   "execution_count": null,
   "metadata": {
    "collapsed": false,
    "scrolled": false
   },
   "outputs": [],
   "source": []
  },
  {
   "cell_type": "code",
   "execution_count": null,
   "metadata": {
    "collapsed": false
   },
   "outputs": [],
   "source": []
  },
  {
   "cell_type": "code",
   "execution_count": null,
   "metadata": {
    "collapsed": true
   },
   "outputs": [],
   "source": []
  },
  {
   "cell_type": "code",
   "execution_count": null,
   "metadata": {
    "collapsed": true
   },
   "outputs": [],
   "source": []
  },
  {
   "cell_type": "code",
   "execution_count": null,
   "metadata": {
    "collapsed": true
   },
   "outputs": [],
   "source": []
  },
  {
   "cell_type": "markdown",
   "metadata": {},
   "source": [
    "Get one or more existing users:"
   ]
  },
  {
   "cell_type": "code",
   "execution_count": 113,
   "metadata": {
    "collapsed": false
   },
   "outputs": [
    {
     "name": "stdout",
     "output_type": "stream",
     "text": [
      "http://localhost:5000/users?email=burtdewilde%40gmail.com\n"
     ]
    },
    {
     "data": {
      "text/plain": [
       "{'created_at': '2016-09-10T03:59:26.298284+00:00',\n",
       " 'email': 'burtdewilde@gmail.com',\n",
       " 'id': 1,\n",
       " 'name': 'Burton DeWilde'}"
      ]
     },
     "execution_count": 113,
     "metadata": {},
     "output_type": "execute_result"
    }
   ],
   "source": [
    "call_endpoint('users', 'get', params={'email': 'burtdewilde@gmail.com'}, auth=auth_token)"
   ]
  },
  {
   "cell_type": "markdown",
   "metadata": {},
   "source": [
    "Update an existing user:"
   ]
  },
  {
   "cell_type": "code",
   "execution_count": 114,
   "metadata": {
    "collapsed": false
   },
   "outputs": [
    {
     "name": "stdout",
     "output_type": "stream",
     "text": [
      "http://localhost:5000/users/1\n"
     ]
    },
    {
     "data": {
      "text/plain": [
       "{'created_at': '2016-09-10T03:59:26.298284+00:00',\n",
       " 'email': 'burtondewilde@gmail.com',\n",
       " 'id': 1,\n",
       " 'name': 'Burton DeWilde'}"
      ]
     },
     "execution_count": 114,
     "metadata": {},
     "output_type": "execute_result"
    }
   ],
   "source": [
    "call_endpoint('users/1', 'put',\n",
    "              data={'email': 'burtondewilde@gmail.com', 'test': False},\n",
    "              auth=auth_token)"
   ]
  },
  {
   "cell_type": "markdown",
   "metadata": {},
   "source": [
    "Update an existing review:"
   ]
  },
  {
   "cell_type": "code",
   "execution_count": 118,
   "metadata": {
    "collapsed": false
   },
   "outputs": [
    {
     "name": "stdout",
     "output_type": "stream",
     "text": [
      "http://localhost:5000/reviews/2\n"
     ]
    },
    {
     "data": {
      "text/plain": [
       "{'created_at': '2016-09-10T03:59:51.318202+00:00',\n",
       " 'description': 'I do great systematic reviews. Really, really great.',\n",
       " 'id': 2,\n",
       " 'name': \"Burton's Greatest Systematic Review\",\n",
       " 'num_citation_screening_reviewers': 1,\n",
       " 'num_fulltext_screening_reviewers': 1,\n",
       " 'owner_user_id': 1,\n",
       " 'status': 'active'}"
      ]
     },
     "execution_count": 118,
     "metadata": {},
     "output_type": "execute_result"
    }
   ],
   "source": [
    "call_endpoint('reviews/2', 'put',\n",
    "              data={'name': \"Burton's Greatest Systematic Review\"}, auth=auth_token)"
   ]
  },
  {
   "cell_type": "markdown",
   "metadata": {},
   "source": [
    "Update an existing review plan:"
   ]
  },
  {
   "cell_type": "code",
   "execution_count": 70,
   "metadata": {
    "collapsed": false
   },
   "outputs": [
    {
     "name": "stdout",
     "output_type": "stream",
     "text": [
      "http://localhost:5000/reviewplans/1\n"
     ]
    },
    {
     "data": {
      "text/plain": [
       "{'data_extraction_form': {},\n",
       " 'id': 1,\n",
       " 'keyterms': [],\n",
       " 'objective': 'Eat food. Mostly plants. Not too much.',\n",
       " 'pico': {'intervention': 'Adoption or implementation of nature conservation interventions',\n",
       "  'outcome': 'Positive or negative effects on the multi-dimensional well-being status of human populations',\n",
       "  'population': 'Human populations, including individuals, households, communities or nation states in non-OECD countries'},\n",
       " 'research_questions': [],\n",
       " 'review_id': 1,\n",
       " 'selection_criteria': []}"
      ]
     },
     "execution_count": 70,
     "metadata": {},
     "output_type": "execute_result"
    }
   ],
   "source": [
    "call_endpoint('reviewplans/1', 'put',\n",
    "              json={'objective': 'Eat food. Mostly plants. Not too much.'},\n",
    "              auth=auth_token)"
   ]
  },
  {
   "cell_type": "code",
   "execution_count": null,
   "metadata": {
    "collapsed": true
   },
   "outputs": [],
   "source": []
  },
  {
   "cell_type": "code",
   "execution_count": null,
   "metadata": {
    "collapsed": true
   },
   "outputs": [],
   "source": []
  },
  {
   "cell_type": "code",
   "execution_count": null,
   "metadata": {
    "collapsed": true
   },
   "outputs": [],
   "source": []
  },
  {
   "cell_type": "code",
   "execution_count": 117,
   "metadata": {
    "collapsed": false
   },
   "outputs": [
    {
     "name": "stdout",
     "output_type": "stream",
     "text": [
      "http://localhost:5000/reviews?fields=name\n"
     ]
    },
    {
     "data": {
      "text/plain": [
       "[{'name': 'Conservation International Demo'},\n",
       " {'name': \"Burton's Great Systematic Review\"}]"
      ]
     },
     "execution_count": 117,
     "metadata": {},
     "output_type": "execute_result"
    }
   ],
   "source": [
    "call_endpoint('reviews', 'get', params={'fields': 'name'}, auth=auth_token)"
   ]
  },
  {
   "cell_type": "code",
   "execution_count": null,
   "metadata": {
    "collapsed": true
   },
   "outputs": [],
   "source": []
  },
  {
   "cell_type": "code",
   "execution_count": null,
   "metadata": {
    "collapsed": true
   },
   "outputs": [],
   "source": []
  },
  {
   "cell_type": "code",
   "execution_count": 135,
   "metadata": {
    "collapsed": false
   },
   "outputs": [],
   "source": [
    "# call_endpoint('reviews', 'get', params={'fields': 'name,created_at'}, auth=auth_token)"
   ]
  },
  {
   "cell_type": "code",
   "execution_count": 134,
   "metadata": {
    "collapsed": false,
    "scrolled": true
   },
   "outputs": [],
   "source": [
    "# call_endpoint('reviews/2', 'delete', data={'test': True}, auth=auth_token)"
   ]
  },
  {
   "cell_type": "code",
   "execution_count": null,
   "metadata": {
    "collapsed": true
   },
   "outputs": [],
   "source": []
  },
  {
   "cell_type": "code",
   "execution_count": null,
   "metadata": {
    "collapsed": false
   },
   "outputs": [],
   "source": []
  },
  {
   "cell_type": "code",
   "execution_count": null,
   "metadata": {
    "collapsed": true
   },
   "outputs": [],
   "source": []
  },
  {
   "cell_type": "code",
   "execution_count": 36,
   "metadata": {
    "collapsed": false
   },
   "outputs": [
    {
     "name": "stdout",
     "output_type": "stream",
     "text": [
      "http://localhost:5000/users?email=burtdewilde%40gmail.com\n"
     ]
    },
    {
     "data": {
      "text/plain": [
       "{'created_at': '2016-09-05T22:38:44.633619+00:00',\n",
       " 'email': 'burtdewilde@gmail.com',\n",
       " 'id': 1,\n",
       " 'name': 'Burton DeWilde'}"
      ]
     },
     "execution_count": 36,
     "metadata": {},
     "output_type": "execute_result"
    }
   ],
   "source": [
    "call_endpoint('users', 'get', params={'email': 'burtdewilde@gmail.com'}, auth=auth_token)"
   ]
  },
  {
   "cell_type": "code",
   "execution_count": 77,
   "metadata": {
    "collapsed": false
   },
   "outputs": [],
   "source": [
    "# call_endpoint('users', 'get', params={'review_id': 1})  # TODO"
   ]
  },
  {
   "cell_type": "code",
   "execution_count": 10,
   "metadata": {
    "collapsed": false
   },
   "outputs": [
    {
     "name": "stderr",
     "output_type": "stream",
     "text": [
      "INFO:requests.packages.urllib3.connectionpool:Resetting dropped connection: localhost\n"
     ]
    },
    {
     "name": "stdout",
     "output_type": "stream",
     "text": [
      "http://localhost:5000/users/1?fields=name\n"
     ]
    },
    {
     "data": {
      "text/plain": [
       "{'name': 'Burton DeWilde'}"
      ]
     },
     "execution_count": 10,
     "metadata": {},
     "output_type": "execute_result"
    }
   ],
   "source": [
    "call_endpoint('users/1', 'get', params={'fields': 'name'}, auth=auth)"
   ]
  },
  {
   "cell_type": "code",
   "execution_count": 11,
   "metadata": {
    "collapsed": false
   },
   "outputs": [
    {
     "name": "stderr",
     "output_type": "stream",
     "text": [
      "INFO:requests.packages.urllib3.connectionpool:Resetting dropped connection: localhost\n"
     ]
    },
    {
     "name": "stdout",
     "output_type": "stream",
     "text": [
      "http://localhost:5000/users/1?test=False\n"
     ]
    },
    {
     "ename": "HTTPError",
     "evalue": "500 Server Error: INTERNAL SERVER ERROR for url: http://localhost:5000/users/1?test=False",
     "output_type": "error",
     "traceback": [
      "\u001b[0;31m---------------------------------------------------------------------------\u001b[0m",
      "\u001b[0;31mHTTPError\u001b[0m                                 Traceback (most recent call last)",
      "\u001b[0;32m<ipython-input-11-06c7d16a711a>\u001b[0m in \u001b[0;36m<module>\u001b[0;34m()\u001b[0m\n\u001b[0;32m----> 1\u001b[0;31m \u001b[0mcall_endpoint\u001b[0m\u001b[0;34m(\u001b[0m\u001b[0;34m'users/1'\u001b[0m\u001b[0;34m,\u001b[0m \u001b[0;34m'delete'\u001b[0m\u001b[0;34m,\u001b[0m \u001b[0mparams\u001b[0m\u001b[0;34m=\u001b[0m\u001b[0;34m{\u001b[0m\u001b[0;34m'test'\u001b[0m\u001b[0;34m:\u001b[0m \u001b[0;32mFalse\u001b[0m\u001b[0;34m}\u001b[0m\u001b[0;34m)\u001b[0m\u001b[0;34m\u001b[0m\u001b[0m\n\u001b[0m",
      "\u001b[0;32m<ipython-input-2-0af9c0062198>\u001b[0m in \u001b[0;36mcall_endpoint\u001b[0;34m(endpoint, method, headers, params, data, auth)\u001b[0m\n\u001b[1;32m      5\u001b[0m                             headers=headers, params=params, data=data, auth=auth)\n\u001b[1;32m      6\u001b[0m     \u001b[0mprint\u001b[0m\u001b[0;34m(\u001b[0m\u001b[0mresponse\u001b[0m\u001b[0;34m.\u001b[0m\u001b[0murl\u001b[0m\u001b[0;34m)\u001b[0m\u001b[0;34m\u001b[0m\u001b[0m\n\u001b[0;32m----> 7\u001b[0;31m     \u001b[0mresponse\u001b[0m\u001b[0;34m.\u001b[0m\u001b[0mraise_for_status\u001b[0m\u001b[0;34m(\u001b[0m\u001b[0;34m)\u001b[0m\u001b[0;34m\u001b[0m\u001b[0m\n\u001b[0m\u001b[1;32m      8\u001b[0m     \u001b[0;32mreturn\u001b[0m \u001b[0mresponse\u001b[0m\u001b[0;34m.\u001b[0m\u001b[0mjson\u001b[0m\u001b[0;34m(\u001b[0m\u001b[0;34m)\u001b[0m\u001b[0;34m\u001b[0m\u001b[0m\n",
      "\u001b[0;32m/Users/burtondewilde/.pyenv/versions/3.5.2/lib/python3.5/site-packages/requests/models.py\u001b[0m in \u001b[0;36mraise_for_status\u001b[0;34m(self)\u001b[0m\n\u001b[1;32m    860\u001b[0m \u001b[0;34m\u001b[0m\u001b[0m\n\u001b[1;32m    861\u001b[0m         \u001b[0;32mif\u001b[0m \u001b[0mhttp_error_msg\u001b[0m\u001b[0;34m:\u001b[0m\u001b[0;34m\u001b[0m\u001b[0m\n\u001b[0;32m--> 862\u001b[0;31m             \u001b[0;32mraise\u001b[0m \u001b[0mHTTPError\u001b[0m\u001b[0;34m(\u001b[0m\u001b[0mhttp_error_msg\u001b[0m\u001b[0;34m,\u001b[0m \u001b[0mresponse\u001b[0m\u001b[0;34m=\u001b[0m\u001b[0mself\u001b[0m\u001b[0;34m)\u001b[0m\u001b[0;34m\u001b[0m\u001b[0m\n\u001b[0m\u001b[1;32m    863\u001b[0m \u001b[0;34m\u001b[0m\u001b[0m\n\u001b[1;32m    864\u001b[0m     \u001b[0;32mdef\u001b[0m \u001b[0mclose\u001b[0m\u001b[0;34m(\u001b[0m\u001b[0mself\u001b[0m\u001b[0;34m)\u001b[0m\u001b[0;34m:\u001b[0m\u001b[0;34m\u001b[0m\u001b[0m\n",
      "\u001b[0;31mHTTPError\u001b[0m: 500 Server Error: INTERNAL SERVER ERROR for url: http://localhost:5000/users/1?test=False"
     ]
    }
   ],
   "source": [
    "call_endpoint('users/1', 'delete', params={'test': False})"
   ]
  },
  {
   "cell_type": "markdown",
   "metadata": {},
   "source": [
    "---\n",
    "\n",
    "## Reviews"
   ]
  },
  {
   "cell_type": "code",
   "execution_count": 89,
   "metadata": {
    "collapsed": true
   },
   "outputs": [],
   "source": []
  },
  {
   "cell_type": "code",
   "execution_count": null,
   "metadata": {
    "collapsed": true
   },
   "outputs": [],
   "source": []
  },
  {
   "cell_type": "code",
   "execution_count": null,
   "metadata": {
    "collapsed": true
   },
   "outputs": [],
   "source": []
  },
  {
   "cell_type": "code",
   "execution_count": null,
   "metadata": {
    "collapsed": true
   },
   "outputs": [],
   "source": []
  },
  {
   "cell_type": "code",
   "execution_count": null,
   "metadata": {
    "collapsed": true
   },
   "outputs": [],
   "source": []
  },
  {
   "cell_type": "markdown",
   "metadata": {},
   "source": [
    "#### LOGIN"
   ]
  },
  {
   "cell_type": "code",
   "execution_count": 5,
   "metadata": {
    "collapsed": false,
    "scrolled": false
   },
   "outputs": [
    {
     "name": "stdout",
     "output_type": "stream",
     "text": [
      "http://localhost:5000/login\n"
     ]
    },
    {
     "data": {
      "text/plain": [
       "{'email': 'burtdewilde@gmail.com',\n",
       " 'name': 'Burton DeWilde',\n",
       " 'owned_review_ids': [1],\n",
       " 'review_ids': [1],\n",
       " 'user_id': 1}"
      ]
     },
     "execution_count": 5,
     "metadata": {},
     "output_type": "execute_result"
    }
   ],
   "source": [
    "call_endpoint('login', auth=('burtdewilde@gmail.com', 'test'))"
   ]
  },
  {
   "cell_type": "code",
   "execution_count": 6,
   "metadata": {
    "collapsed": false
   },
   "outputs": [
    {
     "name": "stdout",
     "output_type": "stream",
     "text": [
      "http://localhost:5000/users/1\n"
     ]
    },
    {
     "data": {
      "text/plain": [
       "{'created_ts': '2016-07-07T17:56:07+00:00',\n",
       " 'email': 'burtdewilde@gmail.com',\n",
       " 'name': 'Burton DeWilde',\n",
       " 'owned_review_ids': [1],\n",
       " 'review_ids': [1],\n",
       " 'user_id': 1}"
      ]
     },
     "execution_count": 6,
     "metadata": {},
     "output_type": "execute_result"
    }
   ],
   "source": [
    "call_endpoint('users/1', 'get')"
   ]
  },
  {
   "cell_type": "code",
   "execution_count": 7,
   "metadata": {
    "collapsed": false
   },
   "outputs": [
    {
     "name": "stdout",
     "output_type": "stream",
     "text": [
      "http://localhost:5000/users/2\n"
     ]
    },
    {
     "ename": "HTTPError",
     "evalue": "500 Server Error: INTERNAL SERVER ERROR for url: http://localhost:5000/users/2",
     "output_type": "error",
     "traceback": [
      "\u001b[0;31m---------------------------------------------------------------------------\u001b[0m",
      "\u001b[0;31mHTTPError\u001b[0m                                 Traceback (most recent call last)",
      "\u001b[0;32m<ipython-input-7-b85813d52be9>\u001b[0m in \u001b[0;36m<module>\u001b[0;34m()\u001b[0m\n\u001b[0;32m----> 1\u001b[0;31m \u001b[0mcall_endpoint\u001b[0m\u001b[0;34m(\u001b[0m\u001b[0;34m'users/2'\u001b[0m\u001b[0;34m,\u001b[0m \u001b[0;34m'get'\u001b[0m\u001b[0;34m)\u001b[0m\u001b[0;34m\u001b[0m\u001b[0m\n\u001b[0m",
      "\u001b[0;32m<ipython-input-2-0af9c0062198>\u001b[0m in \u001b[0;36mcall_endpoint\u001b[0;34m(endpoint, method, headers, params, data, auth)\u001b[0m\n\u001b[1;32m      5\u001b[0m                             headers=headers, params=params, data=data, auth=auth)\n\u001b[1;32m      6\u001b[0m     \u001b[0mprint\u001b[0m\u001b[0;34m(\u001b[0m\u001b[0mresponse\u001b[0m\u001b[0;34m.\u001b[0m\u001b[0murl\u001b[0m\u001b[0;34m)\u001b[0m\u001b[0;34m\u001b[0m\u001b[0m\n\u001b[0;32m----> 7\u001b[0;31m     \u001b[0mresponse\u001b[0m\u001b[0;34m.\u001b[0m\u001b[0mraise_for_status\u001b[0m\u001b[0;34m(\u001b[0m\u001b[0;34m)\u001b[0m\u001b[0;34m\u001b[0m\u001b[0m\n\u001b[0m\u001b[1;32m      8\u001b[0m     \u001b[0;32mreturn\u001b[0m \u001b[0mresponse\u001b[0m\u001b[0;34m.\u001b[0m\u001b[0mjson\u001b[0m\u001b[0;34m(\u001b[0m\u001b[0;34m)\u001b[0m\u001b[0;34m\u001b[0m\u001b[0m\n",
      "\u001b[0;32m/Users/burtondewilde/.pyenv/versions/3.5.2/lib/python3.5/site-packages/requests/models.py\u001b[0m in \u001b[0;36mraise_for_status\u001b[0;34m(self)\u001b[0m\n\u001b[1;32m    860\u001b[0m \u001b[0;34m\u001b[0m\u001b[0m\n\u001b[1;32m    861\u001b[0m         \u001b[0;32mif\u001b[0m \u001b[0mhttp_error_msg\u001b[0m\u001b[0;34m:\u001b[0m\u001b[0;34m\u001b[0m\u001b[0m\n\u001b[0;32m--> 862\u001b[0;31m             \u001b[0;32mraise\u001b[0m \u001b[0mHTTPError\u001b[0m\u001b[0;34m(\u001b[0m\u001b[0mhttp_error_msg\u001b[0m\u001b[0;34m,\u001b[0m \u001b[0mresponse\u001b[0m\u001b[0;34m=\u001b[0m\u001b[0mself\u001b[0m\u001b[0;34m)\u001b[0m\u001b[0;34m\u001b[0m\u001b[0m\n\u001b[0m\u001b[1;32m    863\u001b[0m \u001b[0;34m\u001b[0m\u001b[0m\n\u001b[1;32m    864\u001b[0m     \u001b[0;32mdef\u001b[0m \u001b[0mclose\u001b[0m\u001b[0;34m(\u001b[0m\u001b[0mself\u001b[0m\u001b[0;34m)\u001b[0m\u001b[0;34m:\u001b[0m\u001b[0;34m\u001b[0m\u001b[0m\n",
      "\u001b[0;31mHTTPError\u001b[0m: 500 Server Error: INTERNAL SERVER ERROR for url: http://localhost:5000/users/2"
     ]
    }
   ],
   "source": [
    "call_endpoint('users/2', 'get')"
   ]
  },
  {
   "cell_type": "code",
   "execution_count": 27,
   "metadata": {
    "collapsed": false,
    "scrolled": true
   },
   "outputs": [
    {
     "name": "stdout",
     "output_type": "stream",
     "text": [
      "http://localhost:5000/users\n"
     ]
    },
    {
     "data": {
      "text/plain": [
       "{'email': 'rayshah@thinkdesign.com',\n",
       " 'name': 'Ray Shah',\n",
       " 'owned_review_ids': None,\n",
       " 'password': 'test',\n",
       " 'review_ids': None}"
      ]
     },
     "execution_count": 27,
     "metadata": {},
     "output_type": "execute_result"
    }
   ],
   "source": [
    "call_endpoint('users', 'post',\n",
    "              data={'name': 'Ray Shah',\n",
    "                    'email': 'rayshah@thinkdesign.com',\n",
    "                    'password': 'test',\n",
    "                    'review_ids': None,\n",
    "                    'owned_review_ids': None,\n",
    "                    'test': True})"
   ]
  },
  {
   "cell_type": "code",
   "execution_count": 10,
   "metadata": {
    "collapsed": false
   },
   "outputs": [
    {
     "name": "stdout",
     "output_type": "stream",
     "text": [
      "http://localhost:5000/users/1\n"
     ]
    }
   ],
   "source": [
    "call_endpoint('users/1', 'delete',\n",
    "              data={'test': True})"
   ]
  },
  {
   "cell_type": "code",
   "execution_count": 51,
   "metadata": {
    "collapsed": false,
    "scrolled": false
   },
   "outputs": [
    {
     "name": "stdout",
     "output_type": "stream",
     "text": [
      "http://localhost:5000/reviews\n"
     ]
    },
    {
     "data": {
      "text/plain": [
       "{'description': 'foo bar bat baz',\n",
       " 'name': 'My Great Review',\n",
       " 'owner_user_id': 1,\n",
       " 'settings': '{\"num_citation_screening_reviewers\": 2, \"required_citation_screener_id\": null, \"num_fulltext_screening_reviewers\": 2, \"required_fulltext_screener_id\": null}',\n",
       " 'user_ids': [1]}"
      ]
     },
     "execution_count": 51,
     "metadata": {},
     "output_type": "execute_result"
    }
   ],
   "source": [
    "call_endpoint('reviews', 'post',\n",
    "              data={'name': 'My Great Review',\n",
    "                    'description': 'foo bar bat baz',\n",
    "                    'test': True})"
   ]
  },
  {
   "cell_type": "code",
   "execution_count": 58,
   "metadata": {
    "collapsed": false
   },
   "outputs": [
    {
     "name": "stdout",
     "output_type": "stream",
     "text": [
      "http://localhost:5000/reviews/1?test=True\n"
     ]
    }
   ],
   "source": [
    "call_endpoint('reviews/1', 'delete',\n",
    "              params={'test': True})"
   ]
  },
  {
   "cell_type": "code",
   "execution_count": 60,
   "metadata": {
    "collapsed": false
   },
   "outputs": [
    {
     "name": "stdout",
     "output_type": "stream",
     "text": [
      "http://localhost:5000/users/6\n"
     ]
    },
    {
     "data": {
      "text/plain": [
       "6"
      ]
     },
     "execution_count": 60,
     "metadata": {},
     "output_type": "execute_result"
    }
   ],
   "source": [
    "call_endpoint('users/6', 'delete')"
   ]
  },
  {
   "cell_type": "code",
   "execution_count": 12,
   "metadata": {
    "collapsed": false
   },
   "outputs": [
    {
     "name": "stdout",
     "output_type": "stream",
     "text": [
      "http://localhost:5000/reviews/1\n"
     ]
    },
    {
     "data": {
      "text/plain": [
       "{'created_ts': 'Wed, 13 Jul 2016 01:40:27 GMT',\n",
       " 'description': 'International policy has sought to emphasize and strengthen the link between the conservation of natural ecosystems and human development. Furthermore, international conservation organizations have broadened their objectives beyond nature-based goals to recognize the contribution of conservation interventions in sustaining ecosystem services upon which human populations are dependent. While many indices have been developed to measure various human well-being domains, the strength of evidence to support the effects, both positive and negative, of conservation interventions on human well-being, is still unclear.\\\\n\\\\nThis protocol describes the methodology for examining the research question: What are the impacts of nature conservation interventions on different domains of human well-being in developing countries? Using systematic mapping, this study will scope and identify studies that measure the impacts of nature conservation interventions on human well-being at local to regional scales. The primary objective of this study is to synthesize the state and distribution of the existing evidence base linking conservation and human well-being. In addition, a theory of change approach will be used to identify and characterize the causal linkages between conservation and human well-being, with attention on those studies that examine the role of ecosystem services. Key trends among the resulting studies will be synthesized and the range of studies organized and presented in a graphical matrix illustrating the relationships between types of interventions and types of outcomes. Results of the study are intended to help conservation and development practitioners and the academic community to improve research studies and conservation practices in developing countries in order to achieve both conservation and human well-being outcomes.',\n",
       " 'name': 'Conservation International demo',\n",
       " 'owner_user_id': 1,\n",
       " 'review_id': 1,\n",
       " 'user_ids': [1]}"
      ]
     },
     "execution_count": 12,
     "metadata": {},
     "output_type": "execute_result"
    }
   ],
   "source": [
    "call_endpoint('reviews/1')"
   ]
  },
  {
   "cell_type": "code",
   "execution_count": null,
   "metadata": {
    "collapsed": true
   },
   "outputs": [],
   "source": []
  }
 ],
 "metadata": {
  "kernelspec": {
   "display_name": "Python 3",
   "language": "python",
   "name": "python3"
  },
  "language_info": {
   "codemirror_mode": {
    "name": "ipython",
    "version": 3
   },
   "file_extension": ".py",
   "mimetype": "text/x-python",
   "name": "python",
   "nbconvert_exporter": "python",
   "pygments_lexer": "ipython3",
   "version": "3.5.2"
  }
 },
 "nbformat": 4,
 "nbformat_minor": 1
}
