{
 "cells": [
  {
   "cell_type": "markdown",
   "metadata": {},
   "source": [
    "---\n",
    "\n",
    "## Setup"
   ]
  },
  {
   "cell_type": "code",
   "execution_count": 1,
   "metadata": {
    "collapsed": true
   },
   "outputs": [],
   "source": [
    "import logging\n",
    "from pprint import pprint\n",
    "\n",
    "import requests"
   ]
  },
  {
   "cell_type": "code",
   "execution_count": 2,
   "metadata": {
    "collapsed": true
   },
   "outputs": [],
   "source": [
    "logging.getLogger(\"requests.packages.urllib3.connectionpool\").setLevel(logging.WARNING)"
   ]
  },
  {
   "cell_type": "code",
   "execution_count": 3,
   "metadata": {
    "collapsed": false
   },
   "outputs": [],
   "source": [
    "def call_endpoint(endpoint, method='get',\n",
    "                  headers=None, params=None, data=None, json=None, auth=None):\n",
    "    url = base_url + endpoint\n",
    "    response = sess.request(method, base_url + endpoint,\n",
    "                            headers=headers, params=params, data=data, json=json, auth=auth)\n",
    "    print(response.url)\n",
    "    response.raise_for_status()\n",
    "    return response.json()"
   ]
  },
  {
   "cell_type": "code",
   "execution_count": 4,
   "metadata": {
    "collapsed": true
   },
   "outputs": [],
   "source": [
    "base_url = 'http://localhost:5000/'\n",
    "sess = requests.session()"
   ]
  },
  {
   "cell_type": "code",
   "execution_count": 5,
   "metadata": {
    "collapsed": false,
    "scrolled": true
   },
   "outputs": [
    {
     "name": "stdout",
     "output_type": "stream",
     "text": [
      "2016-09-10 16:20:25,980 INFO sqlalchemy.engine.base.Engine select version()\n"
     ]
    },
    {
     "name": "stderr",
     "output_type": "stream",
     "text": [
      "/Users/burtondewilde/.pyenv/versions/3.5.2/lib/python3.5/site-packages/flask/exthook.py:71: ExtDeprecationWarning: Importing flask.ext.restful is deprecated, use flask_restful instead.\n",
      "  .format(x=modname), ExtDeprecationWarning\n",
      "INFO:sqlalchemy.engine.base.Engine:select version()\n"
     ]
    },
    {
     "name": "stdout",
     "output_type": "stream",
     "text": [
      "2016-09-10 16:20:25,982 INFO sqlalchemy.engine.base.Engine {}\n"
     ]
    },
    {
     "name": "stderr",
     "output_type": "stream",
     "text": [
      "INFO:sqlalchemy.engine.base.Engine:{}\n"
     ]
    },
    {
     "name": "stdout",
     "output_type": "stream",
     "text": [
      "2016-09-10 16:20:25,984 INFO sqlalchemy.engine.base.Engine select current_schema()\n"
     ]
    },
    {
     "name": "stderr",
     "output_type": "stream",
     "text": [
      "INFO:sqlalchemy.engine.base.Engine:select current_schema()\n"
     ]
    },
    {
     "name": "stdout",
     "output_type": "stream",
     "text": [
      "2016-09-10 16:20:25,985 INFO sqlalchemy.engine.base.Engine {}\n"
     ]
    },
    {
     "name": "stderr",
     "output_type": "stream",
     "text": [
      "INFO:sqlalchemy.engine.base.Engine:{}\n"
     ]
    },
    {
     "name": "stdout",
     "output_type": "stream",
     "text": [
      "2016-09-10 16:20:25,986 INFO sqlalchemy.engine.base.Engine SELECT CAST('test plain returns' AS VARCHAR(60)) AS anon_1\n"
     ]
    },
    {
     "name": "stderr",
     "output_type": "stream",
     "text": [
      "INFO:sqlalchemy.engine.base.Engine:SELECT CAST('test plain returns' AS VARCHAR(60)) AS anon_1\n"
     ]
    },
    {
     "name": "stdout",
     "output_type": "stream",
     "text": [
      "2016-09-10 16:20:25,987 INFO sqlalchemy.engine.base.Engine {}\n"
     ]
    },
    {
     "name": "stderr",
     "output_type": "stream",
     "text": [
      "INFO:sqlalchemy.engine.base.Engine:{}\n"
     ]
    },
    {
     "name": "stdout",
     "output_type": "stream",
     "text": [
      "2016-09-10 16:20:25,989 INFO sqlalchemy.engine.base.Engine SELECT CAST('test unicode returns' AS VARCHAR(60)) AS anon_1\n"
     ]
    },
    {
     "name": "stderr",
     "output_type": "stream",
     "text": [
      "INFO:sqlalchemy.engine.base.Engine:SELECT CAST('test unicode returns' AS VARCHAR(60)) AS anon_1\n"
     ]
    },
    {
     "name": "stdout",
     "output_type": "stream",
     "text": [
      "2016-09-10 16:20:25,989 INFO sqlalchemy.engine.base.Engine {}\n"
     ]
    },
    {
     "name": "stderr",
     "output_type": "stream",
     "text": [
      "INFO:sqlalchemy.engine.base.Engine:{}\n"
     ]
    },
    {
     "name": "stdout",
     "output_type": "stream",
     "text": [
      "2016-09-10 16:20:25,990 INFO sqlalchemy.engine.base.Engine show standard_conforming_strings\n"
     ]
    },
    {
     "name": "stderr",
     "output_type": "stream",
     "text": [
      "INFO:sqlalchemy.engine.base.Engine:show standard_conforming_strings\n"
     ]
    },
    {
     "name": "stdout",
     "output_type": "stream",
     "text": [
      "2016-09-10 16:20:25,991 INFO sqlalchemy.engine.base.Engine {}\n"
     ]
    },
    {
     "name": "stderr",
     "output_type": "stream",
     "text": [
      "INFO:sqlalchemy.engine.base.Engine:{}\n"
     ]
    },
    {
     "name": "stdout",
     "output_type": "stream",
     "text": [
      "2016-09-10 16:20:25,993 INFO sqlalchemy.engine.base.Engine select relname from pg_class c join pg_namespace n on n.oid=c.relnamespace where pg_catalog.pg_table_is_visible(c.oid) and relname=%(name)s\n"
     ]
    },
    {
     "name": "stderr",
     "output_type": "stream",
     "text": [
      "INFO:sqlalchemy.engine.base.Engine:select relname from pg_class c join pg_namespace n on n.oid=c.relnamespace where pg_catalog.pg_table_is_visible(c.oid) and relname=%(name)s\n"
     ]
    },
    {
     "name": "stdout",
     "output_type": "stream",
     "text": [
      "2016-09-10 16:20:25,993 INFO sqlalchemy.engine.base.Engine {'name': 'fulltexts'}\n"
     ]
    },
    {
     "name": "stderr",
     "output_type": "stream",
     "text": [
      "INFO:sqlalchemy.engine.base.Engine:{'name': 'fulltexts'}\n"
     ]
    },
    {
     "name": "stdout",
     "output_type": "stream",
     "text": [
      "2016-09-10 16:20:25,995 INFO sqlalchemy.engine.base.Engine select relname from pg_class c join pg_namespace n on n.oid=c.relnamespace where pg_catalog.pg_table_is_visible(c.oid) and relname=%(name)s\n"
     ]
    },
    {
     "name": "stderr",
     "output_type": "stream",
     "text": [
      "INFO:sqlalchemy.engine.base.Engine:select relname from pg_class c join pg_namespace n on n.oid=c.relnamespace where pg_catalog.pg_table_is_visible(c.oid) and relname=%(name)s\n"
     ]
    },
    {
     "name": "stdout",
     "output_type": "stream",
     "text": [
      "2016-09-10 16:20:25,996 INFO sqlalchemy.engine.base.Engine {'name': 'reviews'}\n"
     ]
    },
    {
     "name": "stderr",
     "output_type": "stream",
     "text": [
      "INFO:sqlalchemy.engine.base.Engine:{'name': 'reviews'}\n"
     ]
    },
    {
     "name": "stdout",
     "output_type": "stream",
     "text": [
      "2016-09-10 16:20:25,998 INFO sqlalchemy.engine.base.Engine select relname from pg_class c join pg_namespace n on n.oid=c.relnamespace where pg_catalog.pg_table_is_visible(c.oid) and relname=%(name)s\n"
     ]
    },
    {
     "name": "stderr",
     "output_type": "stream",
     "text": [
      "INFO:sqlalchemy.engine.base.Engine:select relname from pg_class c join pg_namespace n on n.oid=c.relnamespace where pg_catalog.pg_table_is_visible(c.oid) and relname=%(name)s\n"
     ]
    },
    {
     "name": "stdout",
     "output_type": "stream",
     "text": [
      "2016-09-10 16:20:25,999 INFO sqlalchemy.engine.base.Engine {'name': 'users'}\n"
     ]
    },
    {
     "name": "stderr",
     "output_type": "stream",
     "text": [
      "INFO:sqlalchemy.engine.base.Engine:{'name': 'users'}\n"
     ]
    },
    {
     "name": "stdout",
     "output_type": "stream",
     "text": [
      "2016-09-10 16:20:26,001 INFO sqlalchemy.engine.base.Engine select relname from pg_class c join pg_namespace n on n.oid=c.relnamespace where pg_catalog.pg_table_is_visible(c.oid) and relname=%(name)s\n"
     ]
    },
    {
     "name": "stderr",
     "output_type": "stream",
     "text": [
      "INFO:sqlalchemy.engine.base.Engine:select relname from pg_class c join pg_namespace n on n.oid=c.relnamespace where pg_catalog.pg_table_is_visible(c.oid) and relname=%(name)s\n"
     ]
    },
    {
     "name": "stdout",
     "output_type": "stream",
     "text": [
      "2016-09-10 16:20:26,002 INFO sqlalchemy.engine.base.Engine {'name': 'review_plans'}\n"
     ]
    },
    {
     "name": "stderr",
     "output_type": "stream",
     "text": [
      "INFO:sqlalchemy.engine.base.Engine:{'name': 'review_plans'}\n"
     ]
    },
    {
     "name": "stdout",
     "output_type": "stream",
     "text": [
      "2016-09-10 16:20:26,004 INFO sqlalchemy.engine.base.Engine select relname from pg_class c join pg_namespace n on n.oid=c.relnamespace where pg_catalog.pg_table_is_visible(c.oid) and relname=%(name)s\n"
     ]
    },
    {
     "name": "stderr",
     "output_type": "stream",
     "text": [
      "INFO:sqlalchemy.engine.base.Engine:select relname from pg_class c join pg_namespace n on n.oid=c.relnamespace where pg_catalog.pg_table_is_visible(c.oid) and relname=%(name)s\n"
     ]
    },
    {
     "name": "stdout",
     "output_type": "stream",
     "text": [
      "2016-09-10 16:20:26,005 INFO sqlalchemy.engine.base.Engine {'name': 'citations'}\n"
     ]
    },
    {
     "name": "stderr",
     "output_type": "stream",
     "text": [
      "INFO:sqlalchemy.engine.base.Engine:{'name': 'citations'}\n"
     ]
    },
    {
     "name": "stdout",
     "output_type": "stream",
     "text": [
      "2016-09-10 16:20:26,006 INFO sqlalchemy.engine.base.Engine select relname from pg_class c join pg_namespace n on n.oid=c.relnamespace where pg_catalog.pg_table_is_visible(c.oid) and relname=%(name)s\n"
     ]
    },
    {
     "name": "stderr",
     "output_type": "stream",
     "text": [
      "INFO:sqlalchemy.engine.base.Engine:select relname from pg_class c join pg_namespace n on n.oid=c.relnamespace where pg_catalog.pg_table_is_visible(c.oid) and relname=%(name)s\n"
     ]
    },
    {
     "name": "stdout",
     "output_type": "stream",
     "text": [
      "2016-09-10 16:20:26,007 INFO sqlalchemy.engine.base.Engine {'name': 'users_to_reviews'}\n"
     ]
    },
    {
     "name": "stderr",
     "output_type": "stream",
     "text": [
      "INFO:sqlalchemy.engine.base.Engine:{'name': 'users_to_reviews'}\n"
     ]
    },
    {
     "name": "stdout",
     "output_type": "stream",
     "text": [
      "2016-09-10 16:20:26,009 INFO sqlalchemy.engine.base.Engine \n",
      "DROP TABLE fulltexts\n"
     ]
    },
    {
     "name": "stderr",
     "output_type": "stream",
     "text": [
      "INFO:sqlalchemy.engine.base.Engine:\n",
      "DROP TABLE fulltexts\n"
     ]
    },
    {
     "name": "stdout",
     "output_type": "stream",
     "text": [
      "2016-09-10 16:20:26,010 INFO sqlalchemy.engine.base.Engine {}\n"
     ]
    },
    {
     "name": "stderr",
     "output_type": "stream",
     "text": [
      "INFO:sqlalchemy.engine.base.Engine:{}\n"
     ]
    },
    {
     "name": "stdout",
     "output_type": "stream",
     "text": [
      "2016-09-10 16:20:26,013 INFO sqlalchemy.engine.base.Engine COMMIT\n"
     ]
    },
    {
     "name": "stderr",
     "output_type": "stream",
     "text": [
      "INFO:sqlalchemy.engine.base.Engine:COMMIT\n"
     ]
    },
    {
     "name": "stdout",
     "output_type": "stream",
     "text": [
      "2016-09-10 16:20:26,016 INFO sqlalchemy.engine.base.Engine \n",
      "DROP TABLE users_to_reviews\n"
     ]
    },
    {
     "name": "stderr",
     "output_type": "stream",
     "text": [
      "INFO:sqlalchemy.engine.base.Engine:\n",
      "DROP TABLE users_to_reviews\n"
     ]
    },
    {
     "name": "stdout",
     "output_type": "stream",
     "text": [
      "2016-09-10 16:20:26,017 INFO sqlalchemy.engine.base.Engine {}\n"
     ]
    },
    {
     "name": "stderr",
     "output_type": "stream",
     "text": [
      "INFO:sqlalchemy.engine.base.Engine:{}\n"
     ]
    },
    {
     "name": "stdout",
     "output_type": "stream",
     "text": [
      "2016-09-10 16:20:26,019 INFO sqlalchemy.engine.base.Engine COMMIT\n"
     ]
    },
    {
     "name": "stderr",
     "output_type": "stream",
     "text": [
      "INFO:sqlalchemy.engine.base.Engine:COMMIT\n"
     ]
    },
    {
     "name": "stdout",
     "output_type": "stream",
     "text": [
      "2016-09-10 16:20:26,020 INFO sqlalchemy.engine.base.Engine \n",
      "DROP TABLE citations\n"
     ]
    },
    {
     "name": "stderr",
     "output_type": "stream",
     "text": [
      "INFO:sqlalchemy.engine.base.Engine:\n",
      "DROP TABLE citations\n"
     ]
    },
    {
     "name": "stdout",
     "output_type": "stream",
     "text": [
      "2016-09-10 16:20:26,021 INFO sqlalchemy.engine.base.Engine {}\n"
     ]
    },
    {
     "name": "stderr",
     "output_type": "stream",
     "text": [
      "INFO:sqlalchemy.engine.base.Engine:{}\n"
     ]
    },
    {
     "name": "stdout",
     "output_type": "stream",
     "text": [
      "2016-09-10 16:20:26,023 INFO sqlalchemy.engine.base.Engine COMMIT\n"
     ]
    },
    {
     "name": "stderr",
     "output_type": "stream",
     "text": [
      "INFO:sqlalchemy.engine.base.Engine:COMMIT\n"
     ]
    },
    {
     "name": "stdout",
     "output_type": "stream",
     "text": [
      "2016-09-10 16:20:26,025 INFO sqlalchemy.engine.base.Engine \n",
      "DROP TABLE review_plans\n"
     ]
    },
    {
     "name": "stderr",
     "output_type": "stream",
     "text": [
      "INFO:sqlalchemy.engine.base.Engine:\n",
      "DROP TABLE review_plans\n"
     ]
    },
    {
     "name": "stdout",
     "output_type": "stream",
     "text": [
      "2016-09-10 16:20:26,026 INFO sqlalchemy.engine.base.Engine {}\n"
     ]
    },
    {
     "name": "stderr",
     "output_type": "stream",
     "text": [
      "INFO:sqlalchemy.engine.base.Engine:{}\n"
     ]
    },
    {
     "name": "stdout",
     "output_type": "stream",
     "text": [
      "2016-09-10 16:20:26,028 INFO sqlalchemy.engine.base.Engine COMMIT\n"
     ]
    },
    {
     "name": "stderr",
     "output_type": "stream",
     "text": [
      "INFO:sqlalchemy.engine.base.Engine:COMMIT\n"
     ]
    },
    {
     "name": "stdout",
     "output_type": "stream",
     "text": [
      "2016-09-10 16:20:26,030 INFO sqlalchemy.engine.base.Engine \n",
      "DROP TABLE reviews\n"
     ]
    },
    {
     "name": "stderr",
     "output_type": "stream",
     "text": [
      "INFO:sqlalchemy.engine.base.Engine:\n",
      "DROP TABLE reviews\n"
     ]
    },
    {
     "name": "stdout",
     "output_type": "stream",
     "text": [
      "2016-09-10 16:20:26,030 INFO sqlalchemy.engine.base.Engine {}\n"
     ]
    },
    {
     "name": "stderr",
     "output_type": "stream",
     "text": [
      "INFO:sqlalchemy.engine.base.Engine:{}\n"
     ]
    },
    {
     "name": "stdout",
     "output_type": "stream",
     "text": [
      "2016-09-10 16:20:26,032 INFO sqlalchemy.engine.base.Engine COMMIT\n"
     ]
    },
    {
     "name": "stderr",
     "output_type": "stream",
     "text": [
      "INFO:sqlalchemy.engine.base.Engine:COMMIT\n"
     ]
    },
    {
     "name": "stdout",
     "output_type": "stream",
     "text": [
      "2016-09-10 16:20:26,034 INFO sqlalchemy.engine.base.Engine \n",
      "DROP TABLE users\n"
     ]
    },
    {
     "name": "stderr",
     "output_type": "stream",
     "text": [
      "INFO:sqlalchemy.engine.base.Engine:\n",
      "DROP TABLE users\n"
     ]
    },
    {
     "name": "stdout",
     "output_type": "stream",
     "text": [
      "2016-09-10 16:20:26,034 INFO sqlalchemy.engine.base.Engine {}\n"
     ]
    },
    {
     "name": "stderr",
     "output_type": "stream",
     "text": [
      "INFO:sqlalchemy.engine.base.Engine:{}\n"
     ]
    },
    {
     "name": "stdout",
     "output_type": "stream",
     "text": [
      "2016-09-10 16:20:26,036 INFO sqlalchemy.engine.base.Engine COMMIT\n"
     ]
    },
    {
     "name": "stderr",
     "output_type": "stream",
     "text": [
      "INFO:sqlalchemy.engine.base.Engine:COMMIT\n"
     ]
    },
    {
     "name": "stdout",
     "output_type": "stream",
     "text": [
      "2016-09-10 16:20:26,037 INFO sqlalchemy.engine.base.Engine select relname from pg_class c join pg_namespace n on n.oid=c.relnamespace where pg_catalog.pg_table_is_visible(c.oid) and relname=%(name)s\n"
     ]
    },
    {
     "name": "stderr",
     "output_type": "stream",
     "text": [
      "INFO:sqlalchemy.engine.base.Engine:select relname from pg_class c join pg_namespace n on n.oid=c.relnamespace where pg_catalog.pg_table_is_visible(c.oid) and relname=%(name)s\n"
     ]
    },
    {
     "name": "stdout",
     "output_type": "stream",
     "text": [
      "2016-09-10 16:20:26,038 INFO sqlalchemy.engine.base.Engine {'name': 'fulltexts'}\n"
     ]
    },
    {
     "name": "stderr",
     "output_type": "stream",
     "text": [
      "INFO:sqlalchemy.engine.base.Engine:{'name': 'fulltexts'}\n"
     ]
    },
    {
     "name": "stdout",
     "output_type": "stream",
     "text": [
      "2016-09-10 16:20:26,040 INFO sqlalchemy.engine.base.Engine select relname from pg_class c join pg_namespace n on n.oid=c.relnamespace where pg_catalog.pg_table_is_visible(c.oid) and relname=%(name)s\n"
     ]
    },
    {
     "name": "stderr",
     "output_type": "stream",
     "text": [
      "INFO:sqlalchemy.engine.base.Engine:select relname from pg_class c join pg_namespace n on n.oid=c.relnamespace where pg_catalog.pg_table_is_visible(c.oid) and relname=%(name)s\n"
     ]
    },
    {
     "name": "stdout",
     "output_type": "stream",
     "text": [
      "2016-09-10 16:20:26,041 INFO sqlalchemy.engine.base.Engine {'name': 'reviews'}\n"
     ]
    },
    {
     "name": "stderr",
     "output_type": "stream",
     "text": [
      "INFO:sqlalchemy.engine.base.Engine:{'name': 'reviews'}\n"
     ]
    },
    {
     "name": "stdout",
     "output_type": "stream",
     "text": [
      "2016-09-10 16:20:26,042 INFO sqlalchemy.engine.base.Engine select relname from pg_class c join pg_namespace n on n.oid=c.relnamespace where pg_catalog.pg_table_is_visible(c.oid) and relname=%(name)s\n"
     ]
    },
    {
     "name": "stderr",
     "output_type": "stream",
     "text": [
      "INFO:sqlalchemy.engine.base.Engine:select relname from pg_class c join pg_namespace n on n.oid=c.relnamespace where pg_catalog.pg_table_is_visible(c.oid) and relname=%(name)s\n"
     ]
    },
    {
     "name": "stdout",
     "output_type": "stream",
     "text": [
      "2016-09-10 16:20:26,043 INFO sqlalchemy.engine.base.Engine {'name': 'users'}\n"
     ]
    },
    {
     "name": "stderr",
     "output_type": "stream",
     "text": [
      "INFO:sqlalchemy.engine.base.Engine:{'name': 'users'}\n"
     ]
    },
    {
     "name": "stdout",
     "output_type": "stream",
     "text": [
      "2016-09-10 16:20:26,044 INFO sqlalchemy.engine.base.Engine select relname from pg_class c join pg_namespace n on n.oid=c.relnamespace where pg_catalog.pg_table_is_visible(c.oid) and relname=%(name)s\n"
     ]
    },
    {
     "name": "stderr",
     "output_type": "stream",
     "text": [
      "INFO:sqlalchemy.engine.base.Engine:select relname from pg_class c join pg_namespace n on n.oid=c.relnamespace where pg_catalog.pg_table_is_visible(c.oid) and relname=%(name)s\n"
     ]
    },
    {
     "name": "stdout",
     "output_type": "stream",
     "text": [
      "2016-09-10 16:20:26,045 INFO sqlalchemy.engine.base.Engine {'name': 'review_plans'}\n"
     ]
    },
    {
     "name": "stderr",
     "output_type": "stream",
     "text": [
      "INFO:sqlalchemy.engine.base.Engine:{'name': 'review_plans'}\n"
     ]
    },
    {
     "name": "stdout",
     "output_type": "stream",
     "text": [
      "2016-09-10 16:20:26,047 INFO sqlalchemy.engine.base.Engine select relname from pg_class c join pg_namespace n on n.oid=c.relnamespace where pg_catalog.pg_table_is_visible(c.oid) and relname=%(name)s\n"
     ]
    },
    {
     "name": "stderr",
     "output_type": "stream",
     "text": [
      "INFO:sqlalchemy.engine.base.Engine:select relname from pg_class c join pg_namespace n on n.oid=c.relnamespace where pg_catalog.pg_table_is_visible(c.oid) and relname=%(name)s\n"
     ]
    },
    {
     "name": "stdout",
     "output_type": "stream",
     "text": [
      "2016-09-10 16:20:26,047 INFO sqlalchemy.engine.base.Engine {'name': 'citations'}\n"
     ]
    },
    {
     "name": "stderr",
     "output_type": "stream",
     "text": [
      "INFO:sqlalchemy.engine.base.Engine:{'name': 'citations'}\n"
     ]
    },
    {
     "name": "stdout",
     "output_type": "stream",
     "text": [
      "2016-09-10 16:20:26,049 INFO sqlalchemy.engine.base.Engine select relname from pg_class c join pg_namespace n on n.oid=c.relnamespace where pg_catalog.pg_table_is_visible(c.oid) and relname=%(name)s\n"
     ]
    },
    {
     "name": "stderr",
     "output_type": "stream",
     "text": [
      "INFO:sqlalchemy.engine.base.Engine:select relname from pg_class c join pg_namespace n on n.oid=c.relnamespace where pg_catalog.pg_table_is_visible(c.oid) and relname=%(name)s\n"
     ]
    },
    {
     "name": "stdout",
     "output_type": "stream",
     "text": [
      "2016-09-10 16:20:26,050 INFO sqlalchemy.engine.base.Engine {'name': 'users_to_reviews'}\n"
     ]
    },
    {
     "name": "stderr",
     "output_type": "stream",
     "text": [
      "INFO:sqlalchemy.engine.base.Engine:{'name': 'users_to_reviews'}\n"
     ]
    },
    {
     "name": "stdout",
     "output_type": "stream",
     "text": [
      "2016-09-10 16:20:26,051 INFO sqlalchemy.engine.base.Engine \n",
      "CREATE TABLE users (\n",
      "\tid SERIAL NOT NULL, \n",
      "\tcreated_at TIMESTAMP WITHOUT TIME ZONE DEFAULT (CURRENT_TIMESTAMP AT TIME ZONE 'UTC'), \n",
      "\tname VARCHAR(200) NOT NULL, \n",
      "\temail VARCHAR(200) NOT NULL, \n",
      "\tpassword VARCHAR(60) NOT NULL, \n",
      "\tPRIMARY KEY (id)\n",
      ")\n",
      "\n",
      "\n"
     ]
    },
    {
     "name": "stderr",
     "output_type": "stream",
     "text": [
      "INFO:sqlalchemy.engine.base.Engine:\n",
      "CREATE TABLE users (\n",
      "\tid SERIAL NOT NULL, \n",
      "\tcreated_at TIMESTAMP WITHOUT TIME ZONE DEFAULT (CURRENT_TIMESTAMP AT TIME ZONE 'UTC'), \n",
      "\tname VARCHAR(200) NOT NULL, \n",
      "\temail VARCHAR(200) NOT NULL, \n",
      "\tpassword VARCHAR(60) NOT NULL, \n",
      "\tPRIMARY KEY (id)\n",
      ")\n",
      "\n",
      "\n"
     ]
    },
    {
     "name": "stdout",
     "output_type": "stream",
     "text": [
      "2016-09-10 16:20:26,052 INFO sqlalchemy.engine.base.Engine {}\n"
     ]
    },
    {
     "name": "stderr",
     "output_type": "stream",
     "text": [
      "INFO:sqlalchemy.engine.base.Engine:{}\n"
     ]
    },
    {
     "name": "stdout",
     "output_type": "stream",
     "text": [
      "2016-09-10 16:20:26,056 INFO sqlalchemy.engine.base.Engine COMMIT\n"
     ]
    },
    {
     "name": "stderr",
     "output_type": "stream",
     "text": [
      "INFO:sqlalchemy.engine.base.Engine:COMMIT\n"
     ]
    },
    {
     "name": "stdout",
     "output_type": "stream",
     "text": [
      "2016-09-10 16:20:26,057 INFO sqlalchemy.engine.base.Engine CREATE UNIQUE INDEX ix_users_email ON users (email)\n"
     ]
    },
    {
     "name": "stderr",
     "output_type": "stream",
     "text": [
      "INFO:sqlalchemy.engine.base.Engine:CREATE UNIQUE INDEX ix_users_email ON users (email)\n"
     ]
    },
    {
     "name": "stdout",
     "output_type": "stream",
     "text": [
      "2016-09-10 16:20:26,058 INFO sqlalchemy.engine.base.Engine {}\n"
     ]
    },
    {
     "name": "stderr",
     "output_type": "stream",
     "text": [
      "INFO:sqlalchemy.engine.base.Engine:{}\n"
     ]
    },
    {
     "name": "stdout",
     "output_type": "stream",
     "text": [
      "2016-09-10 16:20:26,061 INFO sqlalchemy.engine.base.Engine COMMIT\n"
     ]
    },
    {
     "name": "stderr",
     "output_type": "stream",
     "text": [
      "INFO:sqlalchemy.engine.base.Engine:COMMIT\n"
     ]
    },
    {
     "name": "stdout",
     "output_type": "stream",
     "text": [
      "2016-09-10 16:20:26,062 INFO sqlalchemy.engine.base.Engine \n",
      "CREATE TABLE reviews (\n",
      "\tid SERIAL NOT NULL, \n",
      "\tcreated_at TIMESTAMP WITHOUT TIME ZONE DEFAULT (CURRENT_TIMESTAMP AT TIME ZONE 'UTC'), \n",
      "\towner_user_id INTEGER, \n",
      "\tname VARCHAR(500) NOT NULL, \n",
      "\tdescription TEXT, \n",
      "\tstatus VARCHAR(25) DEFAULT 'active' NOT NULL, \n",
      "\tnum_citation_screening_reviewers SMALLINT DEFAULT 1 NOT NULL, \n",
      "\tnum_fulltext_screening_reviewers SMALLINT DEFAULT 1 NOT NULL, \n",
      "\tPRIMARY KEY (id), \n",
      "\tFOREIGN KEY(owner_user_id) REFERENCES users (id) ON DELETE CASCADE\n",
      ")\n",
      "\n",
      "\n"
     ]
    },
    {
     "name": "stderr",
     "output_type": "stream",
     "text": [
      "INFO:sqlalchemy.engine.base.Engine:\n",
      "CREATE TABLE reviews (\n",
      "\tid SERIAL NOT NULL, \n",
      "\tcreated_at TIMESTAMP WITHOUT TIME ZONE DEFAULT (CURRENT_TIMESTAMP AT TIME ZONE 'UTC'), \n",
      "\towner_user_id INTEGER, \n",
      "\tname VARCHAR(500) NOT NULL, \n",
      "\tdescription TEXT, \n",
      "\tstatus VARCHAR(25) DEFAULT 'active' NOT NULL, \n",
      "\tnum_citation_screening_reviewers SMALLINT DEFAULT 1 NOT NULL, \n",
      "\tnum_fulltext_screening_reviewers SMALLINT DEFAULT 1 NOT NULL, \n",
      "\tPRIMARY KEY (id), \n",
      "\tFOREIGN KEY(owner_user_id) REFERENCES users (id) ON DELETE CASCADE\n",
      ")\n",
      "\n",
      "\n"
     ]
    },
    {
     "name": "stdout",
     "output_type": "stream",
     "text": [
      "2016-09-10 16:20:26,063 INFO sqlalchemy.engine.base.Engine {}\n"
     ]
    },
    {
     "name": "stderr",
     "output_type": "stream",
     "text": [
      "INFO:sqlalchemy.engine.base.Engine:{}\n"
     ]
    },
    {
     "name": "stdout",
     "output_type": "stream",
     "text": [
      "2016-09-10 16:20:26,068 INFO sqlalchemy.engine.base.Engine COMMIT\n"
     ]
    },
    {
     "name": "stderr",
     "output_type": "stream",
     "text": [
      "INFO:sqlalchemy.engine.base.Engine:COMMIT\n"
     ]
    },
    {
     "name": "stdout",
     "output_type": "stream",
     "text": [
      "2016-09-10 16:20:26,069 INFO sqlalchemy.engine.base.Engine CREATE INDEX ix_reviews_owner_user_id ON reviews (owner_user_id)\n"
     ]
    },
    {
     "name": "stderr",
     "output_type": "stream",
     "text": [
      "INFO:sqlalchemy.engine.base.Engine:CREATE INDEX ix_reviews_owner_user_id ON reviews (owner_user_id)\n"
     ]
    },
    {
     "name": "stdout",
     "output_type": "stream",
     "text": [
      "2016-09-10 16:20:26,070 INFO sqlalchemy.engine.base.Engine {}\n"
     ]
    },
    {
     "name": "stderr",
     "output_type": "stream",
     "text": [
      "INFO:sqlalchemy.engine.base.Engine:{}\n"
     ]
    },
    {
     "name": "stdout",
     "output_type": "stream",
     "text": [
      "2016-09-10 16:20:26,074 INFO sqlalchemy.engine.base.Engine COMMIT\n"
     ]
    },
    {
     "name": "stderr",
     "output_type": "stream",
     "text": [
      "INFO:sqlalchemy.engine.base.Engine:COMMIT\n"
     ]
    },
    {
     "name": "stdout",
     "output_type": "stream",
     "text": [
      "2016-09-10 16:20:26,076 INFO sqlalchemy.engine.base.Engine \n",
      "CREATE TABLE review_plans (\n",
      "\tid SERIAL NOT NULL, \n",
      "\treview_id INTEGER, \n",
      "\tobjective TEXT, \n",
      "\tresearch_questions VARCHAR(300)[] DEFAULT '{}', \n",
      "\tpico JSONB DEFAULT '{}', \n",
      "\tkeyterms JSONB DEFAULT '{}', \n",
      "\tselection_criteria JSONB DEFAULT '{}', \n",
      "\tdata_extraction_form JSONB DEFAULT '{}', \n",
      "\tPRIMARY KEY (id), \n",
      "\tFOREIGN KEY(review_id) REFERENCES reviews (id) ON DELETE CASCADE\n",
      ")\n",
      "\n",
      "\n"
     ]
    },
    {
     "name": "stderr",
     "output_type": "stream",
     "text": [
      "INFO:sqlalchemy.engine.base.Engine:\n",
      "CREATE TABLE review_plans (\n",
      "\tid SERIAL NOT NULL, \n",
      "\treview_id INTEGER, \n",
      "\tobjective TEXT, \n",
      "\tresearch_questions VARCHAR(300)[] DEFAULT '{}', \n",
      "\tpico JSONB DEFAULT '{}', \n",
      "\tkeyterms JSONB DEFAULT '{}', \n",
      "\tselection_criteria JSONB DEFAULT '{}', \n",
      "\tdata_extraction_form JSONB DEFAULT '{}', \n",
      "\tPRIMARY KEY (id), \n",
      "\tFOREIGN KEY(review_id) REFERENCES reviews (id) ON DELETE CASCADE\n",
      ")\n",
      "\n",
      "\n"
     ]
    },
    {
     "name": "stdout",
     "output_type": "stream",
     "text": [
      "2016-09-10 16:20:26,077 INFO sqlalchemy.engine.base.Engine {}\n"
     ]
    },
    {
     "name": "stderr",
     "output_type": "stream",
     "text": [
      "INFO:sqlalchemy.engine.base.Engine:{}\n"
     ]
    },
    {
     "name": "stdout",
     "output_type": "stream",
     "text": [
      "2016-09-10 16:20:26,082 INFO sqlalchemy.engine.base.Engine COMMIT\n"
     ]
    },
    {
     "name": "stderr",
     "output_type": "stream",
     "text": [
      "INFO:sqlalchemy.engine.base.Engine:COMMIT\n"
     ]
    },
    {
     "name": "stdout",
     "output_type": "stream",
     "text": [
      "2016-09-10 16:20:26,084 INFO sqlalchemy.engine.base.Engine CREATE INDEX ix_review_plans_review_id ON review_plans (review_id)\n"
     ]
    },
    {
     "name": "stderr",
     "output_type": "stream",
     "text": [
      "INFO:sqlalchemy.engine.base.Engine:CREATE INDEX ix_review_plans_review_id ON review_plans (review_id)\n"
     ]
    },
    {
     "name": "stdout",
     "output_type": "stream",
     "text": [
      "2016-09-10 16:20:26,085 INFO sqlalchemy.engine.base.Engine {}\n"
     ]
    },
    {
     "name": "stderr",
     "output_type": "stream",
     "text": [
      "INFO:sqlalchemy.engine.base.Engine:{}\n"
     ]
    },
    {
     "name": "stdout",
     "output_type": "stream",
     "text": [
      "2016-09-10 16:20:26,087 INFO sqlalchemy.engine.base.Engine COMMIT\n"
     ]
    },
    {
     "name": "stderr",
     "output_type": "stream",
     "text": [
      "INFO:sqlalchemy.engine.base.Engine:COMMIT\n"
     ]
    },
    {
     "name": "stdout",
     "output_type": "stream",
     "text": [
      "2016-09-10 16:20:26,089 INFO sqlalchemy.engine.base.Engine \n",
      "CREATE TABLE citations (\n",
      "\tid BIGSERIAL NOT NULL, \n",
      "\tcreated_at TIMESTAMP WITHOUT TIME ZONE DEFAULT (CURRENT_TIMESTAMP AT TIME ZONE 'UTC'), \n",
      "\treview_id INTEGER, \n",
      "\tstatus VARCHAR(20) DEFAULT 'pending' NOT NULL, \n",
      "\texclude_reasons VARCHAR(25)[] DEFAULT '{}', \n",
      "\tdeduplication JSONB DEFAULT '{}', \n",
      "\tscreening JSONB DEFAULT '{}', \n",
      "\ttags VARCHAR(25)[] DEFAULT '{}', \n",
      "\ttype_of_work VARCHAR(25), \n",
      "\ttitle VARCHAR(250) DEFAULT 'unknown' NOT NULL, \n",
      "\tsecondary_title VARCHAR(250), \n",
      "\tabstract TEXT, \n",
      "\tpub_year SMALLINT, \n",
      "\tpub_month SMALLINT, \n",
      "\tauthors VARCHAR(100)[], \n",
      "\tkeywords VARCHAR(100)[], \n",
      "\ttype_of_reference VARCHAR(50), \n",
      "\tjournal_name VARCHAR(100), \n",
      "\tvolume VARCHAR(20), \n",
      "\tissue_number VARCHAR(20), \n",
      "\tdoi VARCHAR(100), \n",
      "\tissn VARCHAR(20), \n",
      "\tpublisher VARCHAR(100), \n",
      "\tlanguage VARCHAR(50), \n",
      "\tother_fields JSONB, \n",
      "\tPRIMARY KEY (id), \n",
      "\tFOREIGN KEY(review_id) REFERENCES reviews (id) ON DELETE CASCADE\n",
      ")\n",
      "\n",
      "\n"
     ]
    },
    {
     "name": "stderr",
     "output_type": "stream",
     "text": [
      "INFO:sqlalchemy.engine.base.Engine:\n",
      "CREATE TABLE citations (\n",
      "\tid BIGSERIAL NOT NULL, \n",
      "\tcreated_at TIMESTAMP WITHOUT TIME ZONE DEFAULT (CURRENT_TIMESTAMP AT TIME ZONE 'UTC'), \n",
      "\treview_id INTEGER, \n",
      "\tstatus VARCHAR(20) DEFAULT 'pending' NOT NULL, \n",
      "\texclude_reasons VARCHAR(25)[] DEFAULT '{}', \n",
      "\tdeduplication JSONB DEFAULT '{}', \n",
      "\tscreening JSONB DEFAULT '{}', \n",
      "\ttags VARCHAR(25)[] DEFAULT '{}', \n",
      "\ttype_of_work VARCHAR(25), \n",
      "\ttitle VARCHAR(250) DEFAULT 'unknown' NOT NULL, \n",
      "\tsecondary_title VARCHAR(250), \n",
      "\tabstract TEXT, \n",
      "\tpub_year SMALLINT, \n",
      "\tpub_month SMALLINT, \n",
      "\tauthors VARCHAR(100)[], \n",
      "\tkeywords VARCHAR(100)[], \n",
      "\ttype_of_reference VARCHAR(50), \n",
      "\tjournal_name VARCHAR(100), \n",
      "\tvolume VARCHAR(20), \n",
      "\tissue_number VARCHAR(20), \n",
      "\tdoi VARCHAR(100), \n",
      "\tissn VARCHAR(20), \n",
      "\tpublisher VARCHAR(100), \n",
      "\tlanguage VARCHAR(50), \n",
      "\tother_fields JSONB, \n",
      "\tPRIMARY KEY (id), \n",
      "\tFOREIGN KEY(review_id) REFERENCES reviews (id) ON DELETE CASCADE\n",
      ")\n",
      "\n",
      "\n"
     ]
    },
    {
     "name": "stdout",
     "output_type": "stream",
     "text": [
      "2016-09-10 16:20:26,091 INFO sqlalchemy.engine.base.Engine {}\n"
     ]
    },
    {
     "name": "stderr",
     "output_type": "stream",
     "text": [
      "INFO:sqlalchemy.engine.base.Engine:{}\n"
     ]
    },
    {
     "name": "stdout",
     "output_type": "stream",
     "text": [
      "2016-09-10 16:20:26,096 INFO sqlalchemy.engine.base.Engine COMMIT\n"
     ]
    },
    {
     "name": "stderr",
     "output_type": "stream",
     "text": [
      "INFO:sqlalchemy.engine.base.Engine:COMMIT\n"
     ]
    },
    {
     "name": "stdout",
     "output_type": "stream",
     "text": [
      "2016-09-10 16:20:26,097 INFO sqlalchemy.engine.base.Engine CREATE INDEX ix_citations_review_id ON citations (review_id)\n"
     ]
    },
    {
     "name": "stderr",
     "output_type": "stream",
     "text": [
      "INFO:sqlalchemy.engine.base.Engine:CREATE INDEX ix_citations_review_id ON citations (review_id)\n"
     ]
    },
    {
     "name": "stdout",
     "output_type": "stream",
     "text": [
      "2016-09-10 16:20:26,098 INFO sqlalchemy.engine.base.Engine {}\n"
     ]
    },
    {
     "name": "stderr",
     "output_type": "stream",
     "text": [
      "INFO:sqlalchemy.engine.base.Engine:{}\n"
     ]
    },
    {
     "name": "stdout",
     "output_type": "stream",
     "text": [
      "2016-09-10 16:20:26,100 INFO sqlalchemy.engine.base.Engine COMMIT\n"
     ]
    },
    {
     "name": "stderr",
     "output_type": "stream",
     "text": [
      "INFO:sqlalchemy.engine.base.Engine:COMMIT\n"
     ]
    },
    {
     "name": "stdout",
     "output_type": "stream",
     "text": [
      "2016-09-10 16:20:26,102 INFO sqlalchemy.engine.base.Engine CREATE INDEX ix_citations_status ON citations (status)\n"
     ]
    },
    {
     "name": "stderr",
     "output_type": "stream",
     "text": [
      "INFO:sqlalchemy.engine.base.Engine:CREATE INDEX ix_citations_status ON citations (status)\n"
     ]
    },
    {
     "name": "stdout",
     "output_type": "stream",
     "text": [
      "2016-09-10 16:20:26,102 INFO sqlalchemy.engine.base.Engine {}\n"
     ]
    },
    {
     "name": "stderr",
     "output_type": "stream",
     "text": [
      "INFO:sqlalchemy.engine.base.Engine:{}\n"
     ]
    },
    {
     "name": "stdout",
     "output_type": "stream",
     "text": [
      "2016-09-10 16:20:26,105 INFO sqlalchemy.engine.base.Engine COMMIT\n"
     ]
    },
    {
     "name": "stderr",
     "output_type": "stream",
     "text": [
      "INFO:sqlalchemy.engine.base.Engine:COMMIT\n"
     ]
    },
    {
     "name": "stdout",
     "output_type": "stream",
     "text": [
      "2016-09-10 16:20:26,106 INFO sqlalchemy.engine.base.Engine CREATE INDEX ix_citations_tags ON citations (tags)\n"
     ]
    },
    {
     "name": "stderr",
     "output_type": "stream",
     "text": [
      "INFO:sqlalchemy.engine.base.Engine:CREATE INDEX ix_citations_tags ON citations (tags)\n"
     ]
    },
    {
     "name": "stdout",
     "output_type": "stream",
     "text": [
      "2016-09-10 16:20:26,106 INFO sqlalchemy.engine.base.Engine {}\n"
     ]
    },
    {
     "name": "stderr",
     "output_type": "stream",
     "text": [
      "INFO:sqlalchemy.engine.base.Engine:{}\n"
     ]
    },
    {
     "name": "stdout",
     "output_type": "stream",
     "text": [
      "2016-09-10 16:20:26,109 INFO sqlalchemy.engine.base.Engine COMMIT\n"
     ]
    },
    {
     "name": "stderr",
     "output_type": "stream",
     "text": [
      "INFO:sqlalchemy.engine.base.Engine:COMMIT\n"
     ]
    },
    {
     "name": "stdout",
     "output_type": "stream",
     "text": [
      "2016-09-10 16:20:26,110 INFO sqlalchemy.engine.base.Engine \n",
      "CREATE TABLE users_to_reviews (\n",
      "\tuser_id INTEGER, \n",
      "\treview_id INTEGER, \n",
      "\tFOREIGN KEY(user_id) REFERENCES users (id), \n",
      "\tFOREIGN KEY(review_id) REFERENCES reviews (id)\n",
      ")\n",
      "\n",
      "\n"
     ]
    },
    {
     "name": "stderr",
     "output_type": "stream",
     "text": [
      "INFO:sqlalchemy.engine.base.Engine:\n",
      "CREATE TABLE users_to_reviews (\n",
      "\tuser_id INTEGER, \n",
      "\treview_id INTEGER, \n",
      "\tFOREIGN KEY(user_id) REFERENCES users (id), \n",
      "\tFOREIGN KEY(review_id) REFERENCES reviews (id)\n",
      ")\n",
      "\n",
      "\n"
     ]
    },
    {
     "name": "stdout",
     "output_type": "stream",
     "text": [
      "2016-09-10 16:20:26,111 INFO sqlalchemy.engine.base.Engine {}\n"
     ]
    },
    {
     "name": "stderr",
     "output_type": "stream",
     "text": [
      "INFO:sqlalchemy.engine.base.Engine:{}\n"
     ]
    },
    {
     "name": "stdout",
     "output_type": "stream",
     "text": [
      "2016-09-10 16:20:26,113 INFO sqlalchemy.engine.base.Engine COMMIT\n"
     ]
    },
    {
     "name": "stderr",
     "output_type": "stream",
     "text": [
      "INFO:sqlalchemy.engine.base.Engine:COMMIT\n"
     ]
    },
    {
     "name": "stdout",
     "output_type": "stream",
     "text": [
      "2016-09-10 16:20:26,114 INFO sqlalchemy.engine.base.Engine CREATE INDEX ix_users_to_reviews_user_id ON users_to_reviews (user_id)\n"
     ]
    },
    {
     "name": "stderr",
     "output_type": "stream",
     "text": [
      "INFO:sqlalchemy.engine.base.Engine:CREATE INDEX ix_users_to_reviews_user_id ON users_to_reviews (user_id)\n"
     ]
    },
    {
     "name": "stdout",
     "output_type": "stream",
     "text": [
      "2016-09-10 16:20:26,114 INFO sqlalchemy.engine.base.Engine {}\n"
     ]
    },
    {
     "name": "stderr",
     "output_type": "stream",
     "text": [
      "INFO:sqlalchemy.engine.base.Engine:{}\n"
     ]
    },
    {
     "name": "stdout",
     "output_type": "stream",
     "text": [
      "2016-09-10 16:20:26,117 INFO sqlalchemy.engine.base.Engine COMMIT\n"
     ]
    },
    {
     "name": "stderr",
     "output_type": "stream",
     "text": [
      "INFO:sqlalchemy.engine.base.Engine:COMMIT\n"
     ]
    },
    {
     "name": "stdout",
     "output_type": "stream",
     "text": [
      "2016-09-10 16:20:26,118 INFO sqlalchemy.engine.base.Engine CREATE INDEX ix_users_to_reviews_review_id ON users_to_reviews (review_id)\n"
     ]
    },
    {
     "name": "stderr",
     "output_type": "stream",
     "text": [
      "INFO:sqlalchemy.engine.base.Engine:CREATE INDEX ix_users_to_reviews_review_id ON users_to_reviews (review_id)\n"
     ]
    },
    {
     "name": "stdout",
     "output_type": "stream",
     "text": [
      "2016-09-10 16:20:26,118 INFO sqlalchemy.engine.base.Engine {}\n"
     ]
    },
    {
     "name": "stderr",
     "output_type": "stream",
     "text": [
      "INFO:sqlalchemy.engine.base.Engine:{}\n"
     ]
    },
    {
     "name": "stdout",
     "output_type": "stream",
     "text": [
      "2016-09-10 16:20:26,120 INFO sqlalchemy.engine.base.Engine COMMIT\n"
     ]
    },
    {
     "name": "stderr",
     "output_type": "stream",
     "text": [
      "INFO:sqlalchemy.engine.base.Engine:COMMIT\n"
     ]
    },
    {
     "name": "stdout",
     "output_type": "stream",
     "text": [
      "2016-09-10 16:20:26,122 INFO sqlalchemy.engine.base.Engine \n",
      "CREATE TABLE fulltexts (\n",
      "\tid BIGSERIAL NOT NULL, \n",
      "\tcreated_at TIMESTAMP WITHOUT TIME ZONE DEFAULT (CURRENT_TIMESTAMP AT TIME ZONE 'UTC'), \n",
      "\tcitation_id BIGINT, \n",
      "\tstatus VARCHAR(20) DEFAULT 'pending' NOT NULL, \n",
      "\texclude_reasons VARCHAR(25)[] DEFAULT '{}', \n",
      "\tscreening JSONB DEFAULT '{}', \n",
      "\tcontent TEXT NOT NULL, \n",
      "\tfilename TEXT, \n",
      "\textracted_info JSONB, \n",
      "\tPRIMARY KEY (id), \n",
      "\tFOREIGN KEY(citation_id) REFERENCES citations (id) ON DELETE CASCADE\n",
      ")\n",
      "\n",
      "\n"
     ]
    },
    {
     "name": "stderr",
     "output_type": "stream",
     "text": [
      "INFO:sqlalchemy.engine.base.Engine:\n",
      "CREATE TABLE fulltexts (\n",
      "\tid BIGSERIAL NOT NULL, \n",
      "\tcreated_at TIMESTAMP WITHOUT TIME ZONE DEFAULT (CURRENT_TIMESTAMP AT TIME ZONE 'UTC'), \n",
      "\tcitation_id BIGINT, \n",
      "\tstatus VARCHAR(20) DEFAULT 'pending' NOT NULL, \n",
      "\texclude_reasons VARCHAR(25)[] DEFAULT '{}', \n",
      "\tscreening JSONB DEFAULT '{}', \n",
      "\tcontent TEXT NOT NULL, \n",
      "\tfilename TEXT, \n",
      "\textracted_info JSONB, \n",
      "\tPRIMARY KEY (id), \n",
      "\tFOREIGN KEY(citation_id) REFERENCES citations (id) ON DELETE CASCADE\n",
      ")\n",
      "\n",
      "\n"
     ]
    },
    {
     "name": "stdout",
     "output_type": "stream",
     "text": [
      "2016-09-10 16:20:26,123 INFO sqlalchemy.engine.base.Engine {}\n"
     ]
    },
    {
     "name": "stderr",
     "output_type": "stream",
     "text": [
      "INFO:sqlalchemy.engine.base.Engine:{}\n"
     ]
    },
    {
     "name": "stdout",
     "output_type": "stream",
     "text": [
      "2016-09-10 16:20:26,128 INFO sqlalchemy.engine.base.Engine COMMIT\n"
     ]
    },
    {
     "name": "stderr",
     "output_type": "stream",
     "text": [
      "INFO:sqlalchemy.engine.base.Engine:COMMIT\n"
     ]
    },
    {
     "name": "stdout",
     "output_type": "stream",
     "text": [
      "2016-09-10 16:20:26,129 INFO sqlalchemy.engine.base.Engine CREATE INDEX ix_fulltexts_status ON fulltexts (status)\n"
     ]
    },
    {
     "name": "stderr",
     "output_type": "stream",
     "text": [
      "INFO:sqlalchemy.engine.base.Engine:CREATE INDEX ix_fulltexts_status ON fulltexts (status)\n"
     ]
    },
    {
     "name": "stdout",
     "output_type": "stream",
     "text": [
      "2016-09-10 16:20:26,130 INFO sqlalchemy.engine.base.Engine {}\n"
     ]
    },
    {
     "name": "stderr",
     "output_type": "stream",
     "text": [
      "INFO:sqlalchemy.engine.base.Engine:{}\n"
     ]
    },
    {
     "name": "stdout",
     "output_type": "stream",
     "text": [
      "2016-09-10 16:20:26,133 INFO sqlalchemy.engine.base.Engine COMMIT\n"
     ]
    },
    {
     "name": "stderr",
     "output_type": "stream",
     "text": [
      "INFO:sqlalchemy.engine.base.Engine:COMMIT\n"
     ]
    },
    {
     "name": "stdout",
     "output_type": "stream",
     "text": [
      "2016-09-10 16:20:26,134 INFO sqlalchemy.engine.base.Engine CREATE INDEX ix_fulltexts_citation_id ON fulltexts (citation_id)\n"
     ]
    },
    {
     "name": "stderr",
     "output_type": "stream",
     "text": [
      "INFO:sqlalchemy.engine.base.Engine:CREATE INDEX ix_fulltexts_citation_id ON fulltexts (citation_id)\n"
     ]
    },
    {
     "name": "stdout",
     "output_type": "stream",
     "text": [
      "2016-09-10 16:20:26,135 INFO sqlalchemy.engine.base.Engine {}\n"
     ]
    },
    {
     "name": "stderr",
     "output_type": "stream",
     "text": [
      "INFO:sqlalchemy.engine.base.Engine:{}\n"
     ]
    },
    {
     "name": "stdout",
     "output_type": "stream",
     "text": [
      "2016-09-10 16:20:26,137 INFO sqlalchemy.engine.base.Engine COMMIT\n"
     ]
    },
    {
     "name": "stderr",
     "output_type": "stream",
     "text": [
      "INFO:sqlalchemy.engine.base.Engine:COMMIT\n"
     ]
    }
   ],
   "source": [
    "%run ../ciapi/reset_db.py"
   ]
  },
  {
   "cell_type": "markdown",
   "metadata": {},
   "source": [
    "---\n",
    "\n",
    "## Populate Database"
   ]
  },
  {
   "cell_type": "markdown",
   "metadata": {},
   "source": [
    "Create new users via `POST` to the `users/` endpoint:"
   ]
  },
  {
   "cell_type": "code",
   "execution_count": 6,
   "metadata": {
    "collapsed": true
   },
   "outputs": [],
   "source": [
    "test = False\n",
    "users_to_post = [\n",
    "    {'name': 'Burton DeWilde', 'email': 'burtdewilde@gmail.com', 'password': 'password', 'test': test},\n",
    "    {'name': 'Ray Shah', 'email': 'rayshah@thinkdesign.com', 'password': 'password', 'test': test},\n",
    "    {'name': 'Caitlin Augustin', 'email': 'caugustin@rsmas.miami.edu', 'password': 'password', 'test': test},\n",
    "    {'name': 'Bob Minnich', 'email': 'rcm2164@columbia.edu', 'password': 'password', 'test': test},\n",
    "    {'name': 'Sam Anzaroot', 'email': 'samanzaroot@gmail.com', 'password': 'password', 'test': test}]"
   ]
  },
  {
   "cell_type": "code",
   "execution_count": 7,
   "metadata": {
    "collapsed": false,
    "scrolled": false
   },
   "outputs": [
    {
     "name": "stdout",
     "output_type": "stream",
     "text": [
      "http://localhost:5000/users\n",
      "{'created_at': '2016-09-10T20:20:29.990676+00:00',\n",
      " 'email': 'burtdewilde@gmail.com',\n",
      " 'id': 1,\n",
      " 'name': 'Burton DeWilde'}\n",
      "http://localhost:5000/users\n",
      "{'created_at': '2016-09-10T20:20:30.277156+00:00',\n",
      " 'email': 'rayshah@thinkdesign.com',\n",
      " 'id': 2,\n",
      " 'name': 'Ray Shah'}\n",
      "http://localhost:5000/users\n",
      "{'created_at': '2016-09-10T20:20:30.563878+00:00',\n",
      " 'email': 'caugustin@rsmas.miami.edu',\n",
      " 'id': 3,\n",
      " 'name': 'Caitlin Augustin'}\n",
      "http://localhost:5000/users\n",
      "{'created_at': '2016-09-10T20:20:30.845431+00:00',\n",
      " 'email': 'rcm2164@columbia.edu',\n",
      " 'id': 4,\n",
      " 'name': 'Bob Minnich'}\n",
      "http://localhost:5000/users\n",
      "{'created_at': '2016-09-10T20:20:31.132775+00:00',\n",
      " 'email': 'samanzaroot@gmail.com',\n",
      " 'id': 5,\n",
      " 'name': 'Sam Anzaroot'}\n"
     ]
    }
   ],
   "source": [
    "for user_to_post in users_to_post:\n",
    "    user = call_endpoint('users', 'post', json=user_to_post)\n",
    "    pprint(user)"
   ]
  },
  {
   "cell_type": "markdown",
   "metadata": {},
   "source": [
    "**Now authenticate the current user against existing users!**"
   ]
  },
  {
   "cell_type": "code",
   "execution_count": 8,
   "metadata": {
    "collapsed": false
   },
   "outputs": [
    {
     "name": "stdout",
     "output_type": "stream",
     "text": [
      "http://localhost:5000/authtoken\n"
     ]
    },
    {
     "data": {
      "text/plain": [
       "('eyJhbGciOiJIUzI1NiIsImlhdCI6MTQ3MzUzODgzNCwiZXhwIjoxNDczNTQwNjM0fQ.eyJpZCI6MX0.JuSlfCPyh3RHkusjaKWivBG0Z8Gp9E5p84SpuTxtFmo',\n",
       " None)"
      ]
     },
     "execution_count": 8,
     "metadata": {},
     "output_type": "execute_result"
    }
   ],
   "source": [
    "auth = ('burtdewilde@gmail.com', 'password')\n",
    "# auth = ('rcm2164@columbia.edu', 'password')\n",
    "auth_token = (call_endpoint('authtoken', auth=auth)['token'], None)\n",
    "auth_token"
   ]
  },
  {
   "cell_type": "markdown",
   "metadata": {},
   "source": [
    "Create a new review via `POST` to the `reviews/` endpoint:"
   ]
  },
  {
   "cell_type": "code",
   "execution_count": 9,
   "metadata": {
    "collapsed": false
   },
   "outputs": [],
   "source": [
    "test = False\n",
    "reviews_to_post = [\n",
    "    {'name': 'Conservation International Demo',\n",
    "     'description': 'International policy has sought to emphasize and strengthen the link between the conservation of natural ecosystems and human development. Furthermore, international conservation organizations have broadened their objectives beyond nature-based goals to recognize the contribution of conservation interventions in sustaining ecosystem services upon which human populations are dependent. While many indices have been developed to measure various human well-being domains, the strength of evidence to support the effects, both positive and negative, of conservation interventions on human well-being, is still unclear.\\n\\nThis protocol describes the methodology for examining the research question: What are the impacts of nature conservation interventions on different domains of human well-being in developing countries? Using systematic mapping, this study will scope and identify studies that measure the impacts of nature conservation interventions on human well-being at local to regional scales. The primary objective of this study is to synthesize the state and distribution of the existing evidence base linking conservation and human well-being. In addition, a theory of change approach will be used to identify and characterize the causal linkages between conservation and human well-being, with attention on those studies that examine the role of ecosystem services. Key trends among the resulting studies will be synthesized and the range of studies organized and presented in a graphical matrix illustrating the relationships between types of interventions and types of outcomes. Results of the study are intended to help conservation and development practitioners and the academic community to improve research studies and conservation practices in developing countries in order to achieve both conservation and human well-being outcomes.',\n",
    "     'test': test},\n",
    "    {'name': \"Burton's Great Systematic Review\",\n",
    "     'description': 'I do great systematic reviews. Really, really great.',\n",
    "     'test': test}]"
   ]
  },
  {
   "cell_type": "code",
   "execution_count": 10,
   "metadata": {
    "collapsed": false,
    "scrolled": true
   },
   "outputs": [
    {
     "name": "stdout",
     "output_type": "stream",
     "text": [
      "http://localhost:5000/reviews\n",
      "{'created_at': '2016-09-10T20:20:39.290420+00:00',\n",
      " 'description': 'International policy has sought to emphasize and strengthen '\n",
      "                'the link between the conservation of natural ecosystems and '\n",
      "                'human development. Furthermore, international conservation '\n",
      "                'organizations have broadened their objectives beyond '\n",
      "                'nature-based goals to recognize the contribution of '\n",
      "                'conservation interventions in sustaining ecosystem services '\n",
      "                'upon which human populations are dependent. While many '\n",
      "                'indices have been developed to measure various human '\n",
      "                'well-being domains, the strength of evidence to support the '\n",
      "                'effects, both positive and negative, of conservation '\n",
      "                'interventions on human well-being, is still unclear.\\n'\n",
      "                '\\n'\n",
      "                'This protocol describes the methodology for examining the '\n",
      "                'research question: What are the impacts of nature '\n",
      "                'conservation interventions on different domains of human '\n",
      "                'well-being in developing countries? Using systematic mapping, '\n",
      "                'this study will scope and identify studies that measure the '\n",
      "                'impacts of nature conservation interventions on human '\n",
      "                'well-being at local to regional scales. The primary objective '\n",
      "                'of this study is to synthesize the state and distribution of '\n",
      "                'the existing evidence base linking conservation and human '\n",
      "                'well-being. In addition, a theory of change approach will be '\n",
      "                'used to identify and characterize the causal linkages between '\n",
      "                'conservation and human well-being, with attention on those '\n",
      "                'studies that examine the role of ecosystem services. Key '\n",
      "                'trends among the resulting studies will be synthesized and '\n",
      "                'the range of studies organized and presented in a graphical '\n",
      "                'matrix illustrating the relationships between types of '\n",
      "                'interventions and types of outcomes. Results of the study are '\n",
      "                'intended to help conservation and development practitioners '\n",
      "                'and the academic community to improve research studies and '\n",
      "                'conservation practices in developing countries in order to '\n",
      "                'achieve both conservation and human well-being outcomes.',\n",
      " 'id': 1,\n",
      " 'name': 'Conservation International Demo',\n",
      " 'num_citation_screening_reviewers': 1,\n",
      " 'num_fulltext_screening_reviewers': 1,\n",
      " 'owner_user_id': 1,\n",
      " 'status': 'active'}\n",
      "http://localhost:5000/reviews\n",
      "{'created_at': '2016-09-10T20:20:39.309887+00:00',\n",
      " 'description': 'I do great systematic reviews. Really, really great.',\n",
      " 'id': 2,\n",
      " 'name': \"Burton's Great Systematic Review\",\n",
      " 'num_citation_screening_reviewers': 1,\n",
      " 'num_fulltext_screening_reviewers': 1,\n",
      " 'owner_user_id': 1,\n",
      " 'status': 'active'}\n"
     ]
    }
   ],
   "source": [
    "for review_to_post in reviews_to_post:\n",
    "    review = call_endpoint('reviews', 'post', json=review_to_post, auth=auth_token)\n",
    "    pprint(review)"
   ]
  },
  {
   "cell_type": "markdown",
   "metadata": {},
   "source": [
    "Create a new review plan via `POST` to the `reviewplans/` endpoint:"
   ]
  },
  {
   "cell_type": "code",
   "execution_count": 11,
   "metadata": {
    "collapsed": false
   },
   "outputs": [],
   "source": [
    "test = False\n",
    "reviewplans_to_post = [\n",
    "    {'test': test,\n",
    "     'review_id': 1,\n",
    "     'objective': 'To assess and characterize the current state and distribution of the existing evidence base around the causal linkages between both positive and negative effects of nature conservation and human well-being.',\n",
    "     'research_questions': [\n",
    "            \"What are the impacts of nature conservation interventions on different domains of human well-being in developing countries?\",\n",
    "            \"What is the current state and distribution of evidence?\",\n",
    "            \"What types of impacts from conservation interventions on human well-being are measured?\",\n",
    "            \"What types of ecosystem services are explicitly associated with the impacts of conservation interventions on human well-being?\",\n",
    "            \"What populations are affected by conservation and/ or focus of studies?\",\n",
    "            \"How does the evidence base align with major priorities and investments of implementing agencies?\",\n",
    "            ],\n",
    "     'pico': {\n",
    "            \"population\": \"Human populations, including individuals, households, communities or nation states in non-OECD countries\",\n",
    "            \"intervention\": \"Adoption or implementation of nature conservation interventions\",\n",
    "            \"comparator\": \"No use of nature conservation interventions either between sites or groups, or over time series (before/after)\",\n",
    "            \"outcome\": \"Positive or negative effects on the multi-dimensional well-being status of human populations\",\n",
    "            },\n",
    "     'keyterms': [\n",
    "            {\"term\": \"wellbeing\", \"group\": \"outcome\", \"synonyms\": [\"well-being\", \"well being\"]},\n",
    "            {\"term\": \"ecosystem service\", \"group\": \"outcome\", \"synonyms\": [\"ecosystem services\"]},\n",
    "            {\"term\": \"nutrition\", \"group\": \"outcome\"},\n",
    "            {\"term\": \"skill\", \"group\": \"outcome\", \"synonyms\": [\"skills\"]},\n",
    "            {\"term\": \"empower\", \"group\": \"outcome\", \"synonyms\": [\"empowering\"]},\n",
    "            {\"term\": \"clean water\", \"group\": \"outcome\", \"synonyms\": [\"livelihood\"]},\n",
    "            {\"term\": \"livelihoods\", \"group\": \"outcome\", \"synonyms\": [\"food security\"]},\n",
    "            {\"term\": \"resilience\", \"group\": \"outcome\", \"synonyms\": [\"vulnerability\"]},\n",
    "            {\"term\": \"capital\", \"group\": \"outcome\", \"synonyms\": [\"social capital\"]},\n",
    "            {\"term\": \"attitude\", \"group\": \"outcome\", \"synonyms\": [\"attitudes\"]},\n",
    "            {\"term\": \"perception\", \"group\": \"outcome\", \"synonyms\": [\"perceptions\"]},\n",
    "            {\"term\": \"health\", \"group\": \"outcome\", \"synonyms\": [\"human health\"]},\n",
    "            {\"term\": \"human capital\", \"group\": \"outcome\", \"synonyms\": [\"knowledge\"]},\n",
    "            {\"term\": \"traditional knowledge\", \"group\": \"outcome\"},\n",
    "            {\"term\": \"marine\", \"group\": \"intervention qualifiers\", \"synonyms\": [\"freshwater\"]},\n",
    "            {\"term\": \"coastal\", \"group\": \"intervention qualifiers\"},\n",
    "            {\"term\": \"forest\", \"group\": \"intervention qualifiers\", \"synonyms\": [\"forests\", \"forestry\"]},\n",
    "            {\"term\": \"ecosystem\", \"group\": \"intervention qualifiers\", \"synonyms\": [\"ecosystems\"]},\n",
    "            {\"term\": \"species\", \"group\": \"intervention qualifiers\"},\n",
    "            {\"term\": \"habitat\", \"group\": \"intervention qualifiers\", \"synonyms\": [\"habitats\"]},\n",
    "            {\"term\": \"biodiversity\", \"group\": \"intervention qualifiers\"},\n",
    "            {\"term\": \"sustainable\", \"group\": \"intervention qualifiers\", \"synonyms\": [\"sustainability\"]},\n",
    "            {\"term\": \"ecology\", \"group\": \"intervention qualifiers\", \"synonyms\": [\"ecological\"]},\n",
    "            {\"term\": \"integrated\", \"group\": \"intervention qualifiers\"},\n",
    "            {\"term\": \"landscape\", \"group\": \"intervention qualifiers\"},\n",
    "            {\"term\": \"seascape\", \"group\": \"intervention qualifiers\"},\n",
    "            {\"term\": \"coral reef\", \"group\": \"intervention qualifiers\", \"synonyms\": [\"coral reefs\"]},\n",
    "            {\"term\": \"natural resources\", \"group\": \"intervention qualifiers\", \"synonyms\": [\"natural resource\"]},\n",
    "            {\"term\": \"human\", \"group\": \"outcome qualifiers\", \"synonyms\": [\"humans\", \"humanity\"]},\n",
    "            {\"term\": \"people\", \"group\": \"outcome qualifiers\"},\n",
    "            {\"term\": \"person\", \"group\": \"outcome qualifiers\", \"synonyms\": [\"persons\"]},\n",
    "            {\"term\": \"community\", \"group\": \"outcome qualifiers\", \"synonyms\": [\"communities\"]},\n",
    "            {\"term\": \"household\", \"group\": \"outcome qualifiers\", \"synonyms\": [\"households\"]},\n",
    "            {\"term\": \"fishermen\", \"group\": \"outcome qualifiers\", \"synonyms\": [\"fisherman\"]},\n",
    "            {\"term\": \"collaborative\", \"group\": \"outcome qualifiers\"},\n",
    "            {\"term\": \"conservation\", \"group\": \"intervention\"},\n",
    "            {\"term\": \"conserve\", \"group\": \"intervention\"},\n",
    "            {\"term\": \"conservancy\", \"group\": \"intervention\"},\n",
    "            {\"term\": \"protect\", \"group\": \"intervention\", \"synonyms\": [\"protects\", \"protection\"]},\n",
    "            {\"term\": \"management\", \"group\": \"intervention\"},\n",
    "            {\"term\": \"awareness\", \"group\": \"intervention\"},\n",
    "            {\"term\": \"law\", \"group\": \"intervention\", \"synonyms\": [\"laws\"]},\n",
    "            {\"term\": \"policy\", \"group\": \"intervention\", \"synonyms\": [\"policy-making\"]},\n",
    "            {\"term\": \"reserve\", \"group\": \"intervention\"},\n",
    "            {\"term\": \"govern\", \"group\": \"intervention\", \"synonyms\": [\"governs\", \"government\"]},\n",
    "            {\"term\": \"capacity-build\", \"group\": \"intervention\", \"synonyms\": [\"capacity-building\", \"capacity building\"]},\n",
    "            {\"term\": \"train\", \"group\": \"intervention\", \"synonyms\": [\"tarins\", \"training\"]},\n",
    "            {\"term\": \"PES\", \"group\": \"intervention\"},\n",
    "            {\"term\": \"ecotourism\", \"group\": \"intervention\", \"synonyms\": [\"eco-tourism\"]},\n",
    "            {\"term\": \"sustainable use\", \"group\": \"intervention\"}\n",
    "            ],\n",
    "     'selection_criteria': [\n",
    "            {\"label\": \"location\",\n",
    "             \"description\": \"individuals, households, or communities must be in non-OECD countries\"},\n",
    "            {\"label\": \"undefined pop.\",\n",
    "             \"description\": \"studies must include discrete populations and not undefined groups or populations\"},\n",
    "            {\"label\": \"intervention type\",\n",
    "             \"description\": \"study must document or measure people's specific and discrete external interventions, not daily use\"},\n",
    "            {\"label\": \"in-situ\",\n",
    "             \"description\": \"study must focus on establishment, adoption, or implementation of regulation, protection, or management of natural ecosystems through in-situ activities\"},\n",
    "            {\"label\": \"outcome\",\n",
    "             \"explanation\": \"studies must measure or describe human well-being outcomes, and can't only focus on biophysical outcomes of conservation\"}\n",
    "            ],\n",
    "     }\n",
    "]"
   ]
  },
  {
   "cell_type": "code",
   "execution_count": 12,
   "metadata": {
    "collapsed": false
   },
   "outputs": [
    {
     "name": "stdout",
     "output_type": "stream",
     "text": [
      "http://localhost:5000/reviewplans\n",
      "{'data_extraction_form': {},\n",
      " 'id': 1,\n",
      " 'keyterms': [{'group': 'outcome',\n",
      "               'synonyms': ['well-being', 'well being'],\n",
      "               'term': 'wellbeing'},\n",
      "              {'group': 'outcome',\n",
      "               'synonyms': ['ecosystem services'],\n",
      "               'term': 'ecosystem service'},\n",
      "              {'group': 'outcome', 'synonyms': [], 'term': 'nutrition'},\n",
      "              {'group': 'outcome', 'synonyms': ['skills'], 'term': 'skill'},\n",
      "              {'group': 'outcome',\n",
      "               'synonyms': ['empowering'],\n",
      "               'term': 'empower'},\n",
      "              {'group': 'outcome',\n",
      "               'synonyms': ['livelihood'],\n",
      "               'term': 'clean water'},\n",
      "              {'group': 'outcome',\n",
      "               'synonyms': ['food security'],\n",
      "               'term': 'livelihoods'},\n",
      "              {'group': 'outcome',\n",
      "               'synonyms': ['vulnerability'],\n",
      "               'term': 'resilience'},\n",
      "              {'group': 'outcome',\n",
      "               'synonyms': ['social capital'],\n",
      "               'term': 'capital'},\n",
      "              {'group': 'outcome',\n",
      "               'synonyms': ['attitudes'],\n",
      "               'term': 'attitude'},\n",
      "              {'group': 'outcome',\n",
      "               'synonyms': ['perceptions'],\n",
      "               'term': 'perception'},\n",
      "              {'group': 'outcome',\n",
      "               'synonyms': ['human health'],\n",
      "               'term': 'health'},\n",
      "              {'group': 'outcome',\n",
      "               'synonyms': ['knowledge'],\n",
      "               'term': 'human capital'},\n",
      "              {'group': 'outcome',\n",
      "               'synonyms': [],\n",
      "               'term': 'traditional knowledge'},\n",
      "              {'group': 'intervention qualifiers',\n",
      "               'synonyms': ['freshwater'],\n",
      "               'term': 'marine'},\n",
      "              {'group': 'intervention qualifiers',\n",
      "               'synonyms': [],\n",
      "               'term': 'coastal'},\n",
      "              {'group': 'intervention qualifiers',\n",
      "               'synonyms': ['forests', 'forestry'],\n",
      "               'term': 'forest'},\n",
      "              {'group': 'intervention qualifiers',\n",
      "               'synonyms': ['ecosystems'],\n",
      "               'term': 'ecosystem'},\n",
      "              {'group': 'intervention qualifiers',\n",
      "               'synonyms': [],\n",
      "               'term': 'species'},\n",
      "              {'group': 'intervention qualifiers',\n",
      "               'synonyms': ['habitats'],\n",
      "               'term': 'habitat'},\n",
      "              {'group': 'intervention qualifiers',\n",
      "               'synonyms': [],\n",
      "               'term': 'biodiversity'},\n",
      "              {'group': 'intervention qualifiers',\n",
      "               'synonyms': ['sustainability'],\n",
      "               'term': 'sustainable'},\n",
      "              {'group': 'intervention qualifiers',\n",
      "               'synonyms': ['ecological'],\n",
      "               'term': 'ecology'},\n",
      "              {'group': 'intervention qualifiers',\n",
      "               'synonyms': [],\n",
      "               'term': 'integrated'},\n",
      "              {'group': 'intervention qualifiers',\n",
      "               'synonyms': [],\n",
      "               'term': 'landscape'},\n",
      "              {'group': 'intervention qualifiers',\n",
      "               'synonyms': [],\n",
      "               'term': 'seascape'},\n",
      "              {'group': 'intervention qualifiers',\n",
      "               'synonyms': ['coral reefs'],\n",
      "               'term': 'coral reef'},\n",
      "              {'group': 'intervention qualifiers',\n",
      "               'synonyms': ['natural resource'],\n",
      "               'term': 'natural resources'},\n",
      "              {'group': 'outcome qualifiers',\n",
      "               'synonyms': ['humans', 'humanity'],\n",
      "               'term': 'human'},\n",
      "              {'group': 'outcome qualifiers', 'synonyms': [], 'term': 'people'},\n",
      "              {'group': 'outcome qualifiers',\n",
      "               'synonyms': ['persons'],\n",
      "               'term': 'person'},\n",
      "              {'group': 'outcome qualifiers',\n",
      "               'synonyms': ['communities'],\n",
      "               'term': 'community'},\n",
      "              {'group': 'outcome qualifiers',\n",
      "               'synonyms': ['households'],\n",
      "               'term': 'household'},\n",
      "              {'group': 'outcome qualifiers',\n",
      "               'synonyms': ['fisherman'],\n",
      "               'term': 'fishermen'},\n",
      "              {'group': 'outcome qualifiers',\n",
      "               'synonyms': [],\n",
      "               'term': 'collaborative'},\n",
      "              {'group': 'intervention', 'synonyms': [], 'term': 'conservation'},\n",
      "              {'group': 'intervention', 'synonyms': [], 'term': 'conserve'},\n",
      "              {'group': 'intervention', 'synonyms': [], 'term': 'conservancy'},\n",
      "              {'group': 'intervention',\n",
      "               'synonyms': ['protects', 'protection'],\n",
      "               'term': 'protect'},\n",
      "              {'group': 'intervention', 'synonyms': [], 'term': 'management'},\n",
      "              {'group': 'intervention', 'synonyms': [], 'term': 'awareness'},\n",
      "              {'group': 'intervention', 'synonyms': ['laws'], 'term': 'law'},\n",
      "              {'group': 'intervention',\n",
      "               'synonyms': ['policy-making'],\n",
      "               'term': 'policy'},\n",
      "              {'group': 'intervention', 'synonyms': [], 'term': 'reserve'},\n",
      "              {'group': 'intervention',\n",
      "               'synonyms': ['governs', 'government'],\n",
      "               'term': 'govern'},\n",
      "              {'group': 'intervention',\n",
      "               'synonyms': ['capacity-building', 'capacity building'],\n",
      "               'term': 'capacity-build'},\n",
      "              {'group': 'intervention',\n",
      "               'synonyms': ['tarins', 'training'],\n",
      "               'term': 'train'},\n",
      "              {'group': 'intervention', 'synonyms': [], 'term': 'PES'},\n",
      "              {'group': 'intervention',\n",
      "               'synonyms': ['eco-tourism'],\n",
      "               'term': 'ecotourism'},\n",
      "              {'group': 'intervention',\n",
      "               'synonyms': [],\n",
      "               'term': 'sustainable use'}],\n",
      " 'objective': 'To assess and characterize the current state and distribution '\n",
      "              'of the existing evidence base around the causal linkages '\n",
      "              'between both positive and negative effects of nature '\n",
      "              'conservation and human well-being.',\n",
      " 'pico': {'intervention': 'Adoption or implementation of nature conservation '\n",
      "                          'interventions',\n",
      "          'outcome': 'Positive or negative effects on the multi-dimensional '\n",
      "                     'well-being status of human populations',\n",
      "          'population': 'Human populations, including individuals, households, '\n",
      "                        'communities or nation states in non-OECD countries'},\n",
      " 'review_id': 1,\n",
      " 'selection_criteria': [{'description': 'individuals, households, or '\n",
      "                                        'communities must be in non-OECD '\n",
      "                                        'countries',\n",
      "                         'label': 'location'},\n",
      "                        {'description': 'studies must include discrete '\n",
      "                                        'populations and not undefined groups '\n",
      "                                        'or populations',\n",
      "                         'label': 'undefined pop.'},\n",
      "                        {'description': 'study must document or measure '\n",
      "                                        \"people's specific and discrete \"\n",
      "                                        'external interventions, not daily use',\n",
      "                         'label': 'intervention type'},\n",
      "                        {'description': 'study must focus on establishment, '\n",
      "                                        'adoption, or implementation of '\n",
      "                                        'regulation, protection, or management '\n",
      "                                        'of natural ecosystems through in-situ '\n",
      "                                        'activities',\n",
      "                         'label': 'in-situ'},\n",
      "                        {'label': 'outcome'}]}\n"
     ]
    }
   ],
   "source": [
    "for reviewplan_to_post in reviewplans_to_post:\n",
    "    reviewplan = call_endpoint(\n",
    "        'reviewplans', 'post', json=reviewplan_to_post, auth=auth_token)\n",
    "    pprint(reviewplan)"
   ]
  },
  {
   "cell_type": "markdown",
   "metadata": {},
   "source": [
    "Get one or more existing users:"
   ]
  },
  {
   "cell_type": "code",
   "execution_count": 113,
   "metadata": {
    "collapsed": false
   },
   "outputs": [
    {
     "name": "stdout",
     "output_type": "stream",
     "text": [
      "http://localhost:5000/users?email=burtdewilde%40gmail.com\n"
     ]
    },
    {
     "data": {
      "text/plain": [
       "{'created_at': '2016-09-10T03:59:26.298284+00:00',\n",
       " 'email': 'burtdewilde@gmail.com',\n",
       " 'id': 1,\n",
       " 'name': 'Burton DeWilde'}"
      ]
     },
     "execution_count": 113,
     "metadata": {},
     "output_type": "execute_result"
    }
   ],
   "source": [
    "call_endpoint('users', 'get', params={'email': 'burtdewilde@gmail.com'}, auth=auth_token)"
   ]
  },
  {
   "cell_type": "markdown",
   "metadata": {},
   "source": [
    "Update an existing user:"
   ]
  },
  {
   "cell_type": "code",
   "execution_count": 114,
   "metadata": {
    "collapsed": false
   },
   "outputs": [
    {
     "name": "stdout",
     "output_type": "stream",
     "text": [
      "http://localhost:5000/users/1\n"
     ]
    },
    {
     "data": {
      "text/plain": [
       "{'created_at': '2016-09-10T03:59:26.298284+00:00',\n",
       " 'email': 'burtondewilde@gmail.com',\n",
       " 'id': 1,\n",
       " 'name': 'Burton DeWilde'}"
      ]
     },
     "execution_count": 114,
     "metadata": {},
     "output_type": "execute_result"
    }
   ],
   "source": [
    "call_endpoint('users/1', 'put',\n",
    "              data={'email': 'burtondewilde@gmail.com', 'test': False},\n",
    "              auth=auth_token)"
   ]
  },
  {
   "cell_type": "markdown",
   "metadata": {},
   "source": [
    "Update an existing review:"
   ]
  },
  {
   "cell_type": "code",
   "execution_count": 118,
   "metadata": {
    "collapsed": false
   },
   "outputs": [
    {
     "name": "stdout",
     "output_type": "stream",
     "text": [
      "http://localhost:5000/reviews/2\n"
     ]
    },
    {
     "data": {
      "text/plain": [
       "{'created_at': '2016-09-10T03:59:51.318202+00:00',\n",
       " 'description': 'I do great systematic reviews. Really, really great.',\n",
       " 'id': 2,\n",
       " 'name': \"Burton's Greatest Systematic Review\",\n",
       " 'num_citation_screening_reviewers': 1,\n",
       " 'num_fulltext_screening_reviewers': 1,\n",
       " 'owner_user_id': 1,\n",
       " 'status': 'active'}"
      ]
     },
     "execution_count": 118,
     "metadata": {},
     "output_type": "execute_result"
    }
   ],
   "source": [
    "call_endpoint('reviews/2', 'put',\n",
    "              data={'name': \"Burton's Greatest Systematic Review\"}, auth=auth_token)"
   ]
  },
  {
   "cell_type": "markdown",
   "metadata": {},
   "source": [
    "Update an existing review plan:"
   ]
  },
  {
   "cell_type": "code",
   "execution_count": 70,
   "metadata": {
    "collapsed": false
   },
   "outputs": [
    {
     "name": "stdout",
     "output_type": "stream",
     "text": [
      "http://localhost:5000/reviewplans/1\n"
     ]
    },
    {
     "data": {
      "text/plain": [
       "{'data_extraction_form': {},\n",
       " 'id': 1,\n",
       " 'keyterms': [],\n",
       " 'objective': 'Eat food. Mostly plants. Not too much.',\n",
       " 'pico': {'intervention': 'Adoption or implementation of nature conservation interventions',\n",
       "  'outcome': 'Positive or negative effects on the multi-dimensional well-being status of human populations',\n",
       "  'population': 'Human populations, including individuals, households, communities or nation states in non-OECD countries'},\n",
       " 'research_questions': [],\n",
       " 'review_id': 1,\n",
       " 'selection_criteria': []}"
      ]
     },
     "execution_count": 70,
     "metadata": {},
     "output_type": "execute_result"
    }
   ],
   "source": [
    "call_endpoint('reviewplans/1', 'put',\n",
    "              json={'objective': 'Eat food. Mostly plants. Not too much.'},\n",
    "              auth=auth_token)"
   ]
  },
  {
   "cell_type": "code",
   "execution_count": null,
   "metadata": {
    "collapsed": true
   },
   "outputs": [],
   "source": []
  },
  {
   "cell_type": "code",
   "execution_count": null,
   "metadata": {
    "collapsed": true
   },
   "outputs": [],
   "source": []
  },
  {
   "cell_type": "code",
   "execution_count": null,
   "metadata": {
    "collapsed": true
   },
   "outputs": [],
   "source": []
  },
  {
   "cell_type": "code",
   "execution_count": 117,
   "metadata": {
    "collapsed": false
   },
   "outputs": [
    {
     "name": "stdout",
     "output_type": "stream",
     "text": [
      "http://localhost:5000/reviews?fields=name\n"
     ]
    },
    {
     "data": {
      "text/plain": [
       "[{'name': 'Conservation International Demo'},\n",
       " {'name': \"Burton's Great Systematic Review\"}]"
      ]
     },
     "execution_count": 117,
     "metadata": {},
     "output_type": "execute_result"
    }
   ],
   "source": [
    "call_endpoint('reviews', 'get', params={'fields': 'name'}, auth=auth_token)"
   ]
  },
  {
   "cell_type": "code",
   "execution_count": null,
   "metadata": {
    "collapsed": true
   },
   "outputs": [],
   "source": []
  },
  {
   "cell_type": "code",
   "execution_count": null,
   "metadata": {
    "collapsed": true
   },
   "outputs": [],
   "source": []
  },
  {
   "cell_type": "code",
   "execution_count": 135,
   "metadata": {
    "collapsed": false
   },
   "outputs": [],
   "source": [
    "# call_endpoint('reviews', 'get', params={'fields': 'name,created_at'}, auth=auth_token)"
   ]
  },
  {
   "cell_type": "code",
   "execution_count": 134,
   "metadata": {
    "collapsed": false,
    "scrolled": true
   },
   "outputs": [],
   "source": [
    "# call_endpoint('reviews/2', 'delete', data={'test': True}, auth=auth_token)"
   ]
  },
  {
   "cell_type": "code",
   "execution_count": null,
   "metadata": {
    "collapsed": true
   },
   "outputs": [],
   "source": []
  },
  {
   "cell_type": "code",
   "execution_count": null,
   "metadata": {
    "collapsed": false
   },
   "outputs": [],
   "source": []
  },
  {
   "cell_type": "code",
   "execution_count": null,
   "metadata": {
    "collapsed": true
   },
   "outputs": [],
   "source": []
  },
  {
   "cell_type": "code",
   "execution_count": 36,
   "metadata": {
    "collapsed": false
   },
   "outputs": [
    {
     "name": "stdout",
     "output_type": "stream",
     "text": [
      "http://localhost:5000/users?email=burtdewilde%40gmail.com\n"
     ]
    },
    {
     "data": {
      "text/plain": [
       "{'created_at': '2016-09-05T22:38:44.633619+00:00',\n",
       " 'email': 'burtdewilde@gmail.com',\n",
       " 'id': 1,\n",
       " 'name': 'Burton DeWilde'}"
      ]
     },
     "execution_count": 36,
     "metadata": {},
     "output_type": "execute_result"
    }
   ],
   "source": [
    "call_endpoint('users', 'get', params={'email': 'burtdewilde@gmail.com'}, auth=auth_token)"
   ]
  },
  {
   "cell_type": "code",
   "execution_count": 77,
   "metadata": {
    "collapsed": false
   },
   "outputs": [],
   "source": [
    "# call_endpoint('users', 'get', params={'review_id': 1})  # TODO"
   ]
  },
  {
   "cell_type": "code",
   "execution_count": 10,
   "metadata": {
    "collapsed": false
   },
   "outputs": [
    {
     "name": "stderr",
     "output_type": "stream",
     "text": [
      "INFO:requests.packages.urllib3.connectionpool:Resetting dropped connection: localhost\n"
     ]
    },
    {
     "name": "stdout",
     "output_type": "stream",
     "text": [
      "http://localhost:5000/users/1?fields=name\n"
     ]
    },
    {
     "data": {
      "text/plain": [
       "{'name': 'Burton DeWilde'}"
      ]
     },
     "execution_count": 10,
     "metadata": {},
     "output_type": "execute_result"
    }
   ],
   "source": [
    "call_endpoint('users/1', 'get', params={'fields': 'name'}, auth=auth)"
   ]
  },
  {
   "cell_type": "code",
   "execution_count": 11,
   "metadata": {
    "collapsed": false
   },
   "outputs": [
    {
     "name": "stderr",
     "output_type": "stream",
     "text": [
      "INFO:requests.packages.urllib3.connectionpool:Resetting dropped connection: localhost\n"
     ]
    },
    {
     "name": "stdout",
     "output_type": "stream",
     "text": [
      "http://localhost:5000/users/1?test=False\n"
     ]
    },
    {
     "ename": "HTTPError",
     "evalue": "500 Server Error: INTERNAL SERVER ERROR for url: http://localhost:5000/users/1?test=False",
     "output_type": "error",
     "traceback": [
      "\u001b[0;31m---------------------------------------------------------------------------\u001b[0m",
      "\u001b[0;31mHTTPError\u001b[0m                                 Traceback (most recent call last)",
      "\u001b[0;32m<ipython-input-11-06c7d16a711a>\u001b[0m in \u001b[0;36m<module>\u001b[0;34m()\u001b[0m\n\u001b[0;32m----> 1\u001b[0;31m \u001b[0mcall_endpoint\u001b[0m\u001b[0;34m(\u001b[0m\u001b[0;34m'users/1'\u001b[0m\u001b[0;34m,\u001b[0m \u001b[0;34m'delete'\u001b[0m\u001b[0;34m,\u001b[0m \u001b[0mparams\u001b[0m\u001b[0;34m=\u001b[0m\u001b[0;34m{\u001b[0m\u001b[0;34m'test'\u001b[0m\u001b[0;34m:\u001b[0m \u001b[0;32mFalse\u001b[0m\u001b[0;34m}\u001b[0m\u001b[0;34m)\u001b[0m\u001b[0;34m\u001b[0m\u001b[0m\n\u001b[0m",
      "\u001b[0;32m<ipython-input-2-0af9c0062198>\u001b[0m in \u001b[0;36mcall_endpoint\u001b[0;34m(endpoint, method, headers, params, data, auth)\u001b[0m\n\u001b[1;32m      5\u001b[0m                             headers=headers, params=params, data=data, auth=auth)\n\u001b[1;32m      6\u001b[0m     \u001b[0mprint\u001b[0m\u001b[0;34m(\u001b[0m\u001b[0mresponse\u001b[0m\u001b[0;34m.\u001b[0m\u001b[0murl\u001b[0m\u001b[0;34m)\u001b[0m\u001b[0;34m\u001b[0m\u001b[0m\n\u001b[0;32m----> 7\u001b[0;31m     \u001b[0mresponse\u001b[0m\u001b[0;34m.\u001b[0m\u001b[0mraise_for_status\u001b[0m\u001b[0;34m(\u001b[0m\u001b[0;34m)\u001b[0m\u001b[0;34m\u001b[0m\u001b[0m\n\u001b[0m\u001b[1;32m      8\u001b[0m     \u001b[0;32mreturn\u001b[0m \u001b[0mresponse\u001b[0m\u001b[0;34m.\u001b[0m\u001b[0mjson\u001b[0m\u001b[0;34m(\u001b[0m\u001b[0;34m)\u001b[0m\u001b[0;34m\u001b[0m\u001b[0m\n",
      "\u001b[0;32m/Users/burtondewilde/.pyenv/versions/3.5.2/lib/python3.5/site-packages/requests/models.py\u001b[0m in \u001b[0;36mraise_for_status\u001b[0;34m(self)\u001b[0m\n\u001b[1;32m    860\u001b[0m \u001b[0;34m\u001b[0m\u001b[0m\n\u001b[1;32m    861\u001b[0m         \u001b[0;32mif\u001b[0m \u001b[0mhttp_error_msg\u001b[0m\u001b[0;34m:\u001b[0m\u001b[0;34m\u001b[0m\u001b[0m\n\u001b[0;32m--> 862\u001b[0;31m             \u001b[0;32mraise\u001b[0m \u001b[0mHTTPError\u001b[0m\u001b[0;34m(\u001b[0m\u001b[0mhttp_error_msg\u001b[0m\u001b[0;34m,\u001b[0m \u001b[0mresponse\u001b[0m\u001b[0;34m=\u001b[0m\u001b[0mself\u001b[0m\u001b[0;34m)\u001b[0m\u001b[0;34m\u001b[0m\u001b[0m\n\u001b[0m\u001b[1;32m    863\u001b[0m \u001b[0;34m\u001b[0m\u001b[0m\n\u001b[1;32m    864\u001b[0m     \u001b[0;32mdef\u001b[0m \u001b[0mclose\u001b[0m\u001b[0;34m(\u001b[0m\u001b[0mself\u001b[0m\u001b[0;34m)\u001b[0m\u001b[0;34m:\u001b[0m\u001b[0;34m\u001b[0m\u001b[0m\n",
      "\u001b[0;31mHTTPError\u001b[0m: 500 Server Error: INTERNAL SERVER ERROR for url: http://localhost:5000/users/1?test=False"
     ]
    }
   ],
   "source": [
    "call_endpoint('users/1', 'delete', params={'test': False})"
   ]
  },
  {
   "cell_type": "markdown",
   "metadata": {},
   "source": [
    "---\n",
    "\n",
    "## Reviews"
   ]
  },
  {
   "cell_type": "code",
   "execution_count": 89,
   "metadata": {
    "collapsed": true
   },
   "outputs": [],
   "source": []
  },
  {
   "cell_type": "code",
   "execution_count": null,
   "metadata": {
    "collapsed": true
   },
   "outputs": [],
   "source": []
  },
  {
   "cell_type": "code",
   "execution_count": null,
   "metadata": {
    "collapsed": true
   },
   "outputs": [],
   "source": []
  },
  {
   "cell_type": "code",
   "execution_count": null,
   "metadata": {
    "collapsed": true
   },
   "outputs": [],
   "source": []
  },
  {
   "cell_type": "code",
   "execution_count": null,
   "metadata": {
    "collapsed": true
   },
   "outputs": [],
   "source": []
  },
  {
   "cell_type": "markdown",
   "metadata": {},
   "source": [
    "#### LOGIN"
   ]
  },
  {
   "cell_type": "code",
   "execution_count": 5,
   "metadata": {
    "collapsed": false,
    "scrolled": false
   },
   "outputs": [
    {
     "name": "stdout",
     "output_type": "stream",
     "text": [
      "http://localhost:5000/login\n"
     ]
    },
    {
     "data": {
      "text/plain": [
       "{'email': 'burtdewilde@gmail.com',\n",
       " 'name': 'Burton DeWilde',\n",
       " 'owned_review_ids': [1],\n",
       " 'review_ids': [1],\n",
       " 'user_id': 1}"
      ]
     },
     "execution_count": 5,
     "metadata": {},
     "output_type": "execute_result"
    }
   ],
   "source": [
    "call_endpoint('login', auth=('burtdewilde@gmail.com', 'test'))"
   ]
  },
  {
   "cell_type": "code",
   "execution_count": 6,
   "metadata": {
    "collapsed": false
   },
   "outputs": [
    {
     "name": "stdout",
     "output_type": "stream",
     "text": [
      "http://localhost:5000/users/1\n"
     ]
    },
    {
     "data": {
      "text/plain": [
       "{'created_ts': '2016-07-07T17:56:07+00:00',\n",
       " 'email': 'burtdewilde@gmail.com',\n",
       " 'name': 'Burton DeWilde',\n",
       " 'owned_review_ids': [1],\n",
       " 'review_ids': [1],\n",
       " 'user_id': 1}"
      ]
     },
     "execution_count": 6,
     "metadata": {},
     "output_type": "execute_result"
    }
   ],
   "source": [
    "call_endpoint('users/1', 'get')"
   ]
  },
  {
   "cell_type": "code",
   "execution_count": 7,
   "metadata": {
    "collapsed": false
   },
   "outputs": [
    {
     "name": "stdout",
     "output_type": "stream",
     "text": [
      "http://localhost:5000/users/2\n"
     ]
    },
    {
     "ename": "HTTPError",
     "evalue": "500 Server Error: INTERNAL SERVER ERROR for url: http://localhost:5000/users/2",
     "output_type": "error",
     "traceback": [
      "\u001b[0;31m---------------------------------------------------------------------------\u001b[0m",
      "\u001b[0;31mHTTPError\u001b[0m                                 Traceback (most recent call last)",
      "\u001b[0;32m<ipython-input-7-b85813d52be9>\u001b[0m in \u001b[0;36m<module>\u001b[0;34m()\u001b[0m\n\u001b[0;32m----> 1\u001b[0;31m \u001b[0mcall_endpoint\u001b[0m\u001b[0;34m(\u001b[0m\u001b[0;34m'users/2'\u001b[0m\u001b[0;34m,\u001b[0m \u001b[0;34m'get'\u001b[0m\u001b[0;34m)\u001b[0m\u001b[0;34m\u001b[0m\u001b[0m\n\u001b[0m",
      "\u001b[0;32m<ipython-input-2-0af9c0062198>\u001b[0m in \u001b[0;36mcall_endpoint\u001b[0;34m(endpoint, method, headers, params, data, auth)\u001b[0m\n\u001b[1;32m      5\u001b[0m                             headers=headers, params=params, data=data, auth=auth)\n\u001b[1;32m      6\u001b[0m     \u001b[0mprint\u001b[0m\u001b[0;34m(\u001b[0m\u001b[0mresponse\u001b[0m\u001b[0;34m.\u001b[0m\u001b[0murl\u001b[0m\u001b[0;34m)\u001b[0m\u001b[0;34m\u001b[0m\u001b[0m\n\u001b[0;32m----> 7\u001b[0;31m     \u001b[0mresponse\u001b[0m\u001b[0;34m.\u001b[0m\u001b[0mraise_for_status\u001b[0m\u001b[0;34m(\u001b[0m\u001b[0;34m)\u001b[0m\u001b[0;34m\u001b[0m\u001b[0m\n\u001b[0m\u001b[1;32m      8\u001b[0m     \u001b[0;32mreturn\u001b[0m \u001b[0mresponse\u001b[0m\u001b[0;34m.\u001b[0m\u001b[0mjson\u001b[0m\u001b[0;34m(\u001b[0m\u001b[0;34m)\u001b[0m\u001b[0;34m\u001b[0m\u001b[0m\n",
      "\u001b[0;32m/Users/burtondewilde/.pyenv/versions/3.5.2/lib/python3.5/site-packages/requests/models.py\u001b[0m in \u001b[0;36mraise_for_status\u001b[0;34m(self)\u001b[0m\n\u001b[1;32m    860\u001b[0m \u001b[0;34m\u001b[0m\u001b[0m\n\u001b[1;32m    861\u001b[0m         \u001b[0;32mif\u001b[0m \u001b[0mhttp_error_msg\u001b[0m\u001b[0;34m:\u001b[0m\u001b[0;34m\u001b[0m\u001b[0m\n\u001b[0;32m--> 862\u001b[0;31m             \u001b[0;32mraise\u001b[0m \u001b[0mHTTPError\u001b[0m\u001b[0;34m(\u001b[0m\u001b[0mhttp_error_msg\u001b[0m\u001b[0;34m,\u001b[0m \u001b[0mresponse\u001b[0m\u001b[0;34m=\u001b[0m\u001b[0mself\u001b[0m\u001b[0;34m)\u001b[0m\u001b[0;34m\u001b[0m\u001b[0m\n\u001b[0m\u001b[1;32m    863\u001b[0m \u001b[0;34m\u001b[0m\u001b[0m\n\u001b[1;32m    864\u001b[0m     \u001b[0;32mdef\u001b[0m \u001b[0mclose\u001b[0m\u001b[0;34m(\u001b[0m\u001b[0mself\u001b[0m\u001b[0;34m)\u001b[0m\u001b[0;34m:\u001b[0m\u001b[0;34m\u001b[0m\u001b[0m\n",
      "\u001b[0;31mHTTPError\u001b[0m: 500 Server Error: INTERNAL SERVER ERROR for url: http://localhost:5000/users/2"
     ]
    }
   ],
   "source": [
    "call_endpoint('users/2', 'get')"
   ]
  },
  {
   "cell_type": "code",
   "execution_count": 27,
   "metadata": {
    "collapsed": false,
    "scrolled": true
   },
   "outputs": [
    {
     "name": "stdout",
     "output_type": "stream",
     "text": [
      "http://localhost:5000/users\n"
     ]
    },
    {
     "data": {
      "text/plain": [
       "{'email': 'rayshah@thinkdesign.com',\n",
       " 'name': 'Ray Shah',\n",
       " 'owned_review_ids': None,\n",
       " 'password': 'test',\n",
       " 'review_ids': None}"
      ]
     },
     "execution_count": 27,
     "metadata": {},
     "output_type": "execute_result"
    }
   ],
   "source": [
    "call_endpoint('users', 'post',\n",
    "              data={'name': 'Ray Shah',\n",
    "                    'email': 'rayshah@thinkdesign.com',\n",
    "                    'password': 'test',\n",
    "                    'review_ids': None,\n",
    "                    'owned_review_ids': None,\n",
    "                    'test': True})"
   ]
  },
  {
   "cell_type": "code",
   "execution_count": 10,
   "metadata": {
    "collapsed": false
   },
   "outputs": [
    {
     "name": "stdout",
     "output_type": "stream",
     "text": [
      "http://localhost:5000/users/1\n"
     ]
    }
   ],
   "source": [
    "call_endpoint('users/1', 'delete',\n",
    "              data={'test': True})"
   ]
  },
  {
   "cell_type": "code",
   "execution_count": 51,
   "metadata": {
    "collapsed": false,
    "scrolled": false
   },
   "outputs": [
    {
     "name": "stdout",
     "output_type": "stream",
     "text": [
      "http://localhost:5000/reviews\n"
     ]
    },
    {
     "data": {
      "text/plain": [
       "{'description': 'foo bar bat baz',\n",
       " 'name': 'My Great Review',\n",
       " 'owner_user_id': 1,\n",
       " 'settings': '{\"num_citation_screening_reviewers\": 2, \"required_citation_screener_id\": null, \"num_fulltext_screening_reviewers\": 2, \"required_fulltext_screener_id\": null}',\n",
       " 'user_ids': [1]}"
      ]
     },
     "execution_count": 51,
     "metadata": {},
     "output_type": "execute_result"
    }
   ],
   "source": [
    "call_endpoint('reviews', 'post',\n",
    "              data={'name': 'My Great Review',\n",
    "                    'description': 'foo bar bat baz',\n",
    "                    'test': True})"
   ]
  },
  {
   "cell_type": "code",
   "execution_count": 58,
   "metadata": {
    "collapsed": false
   },
   "outputs": [
    {
     "name": "stdout",
     "output_type": "stream",
     "text": [
      "http://localhost:5000/reviews/1?test=True\n"
     ]
    }
   ],
   "source": [
    "call_endpoint('reviews/1', 'delete',\n",
    "              params={'test': True})"
   ]
  },
  {
   "cell_type": "code",
   "execution_count": 60,
   "metadata": {
    "collapsed": false
   },
   "outputs": [
    {
     "name": "stdout",
     "output_type": "stream",
     "text": [
      "http://localhost:5000/users/6\n"
     ]
    },
    {
     "data": {
      "text/plain": [
       "6"
      ]
     },
     "execution_count": 60,
     "metadata": {},
     "output_type": "execute_result"
    }
   ],
   "source": [
    "call_endpoint('users/6', 'delete')"
   ]
  },
  {
   "cell_type": "code",
   "execution_count": 12,
   "metadata": {
    "collapsed": false
   },
   "outputs": [
    {
     "name": "stdout",
     "output_type": "stream",
     "text": [
      "http://localhost:5000/reviews/1\n"
     ]
    },
    {
     "data": {
      "text/plain": [
       "{'created_ts': 'Wed, 13 Jul 2016 01:40:27 GMT',\n",
       " 'description': 'International policy has sought to emphasize and strengthen the link between the conservation of natural ecosystems and human development. Furthermore, international conservation organizations have broadened their objectives beyond nature-based goals to recognize the contribution of conservation interventions in sustaining ecosystem services upon which human populations are dependent. While many indices have been developed to measure various human well-being domains, the strength of evidence to support the effects, both positive and negative, of conservation interventions on human well-being, is still unclear.\\\\n\\\\nThis protocol describes the methodology for examining the research question: What are the impacts of nature conservation interventions on different domains of human well-being in developing countries? Using systematic mapping, this study will scope and identify studies that measure the impacts of nature conservation interventions on human well-being at local to regional scales. The primary objective of this study is to synthesize the state and distribution of the existing evidence base linking conservation and human well-being. In addition, a theory of change approach will be used to identify and characterize the causal linkages between conservation and human well-being, with attention on those studies that examine the role of ecosystem services. Key trends among the resulting studies will be synthesized and the range of studies organized and presented in a graphical matrix illustrating the relationships between types of interventions and types of outcomes. Results of the study are intended to help conservation and development practitioners and the academic community to improve research studies and conservation practices in developing countries in order to achieve both conservation and human well-being outcomes.',\n",
       " 'name': 'Conservation International demo',\n",
       " 'owner_user_id': 1,\n",
       " 'review_id': 1,\n",
       " 'user_ids': [1]}"
      ]
     },
     "execution_count": 12,
     "metadata": {},
     "output_type": "execute_result"
    }
   ],
   "source": [
    "call_endpoint('reviews/1')"
   ]
  },
  {
   "cell_type": "code",
   "execution_count": null,
   "metadata": {
    "collapsed": true
   },
   "outputs": [],
   "source": []
  }
 ],
 "metadata": {
  "kernelspec": {
   "display_name": "Python 3",
   "language": "python",
   "name": "python3"
  },
  "language_info": {
   "codemirror_mode": {
    "name": "ipython",
    "version": 3
   },
   "file_extension": ".py",
   "mimetype": "text/x-python",
   "name": "python",
   "nbconvert_exporter": "python",
   "pygments_lexer": "ipython3",
   "version": "3.5.2"
  }
 },
 "nbformat": 4,
 "nbformat_minor": 1
}
