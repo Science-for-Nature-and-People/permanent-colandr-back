{
 "cells": [
  {
   "cell_type": "markdown",
   "metadata": {},
   "source": [
    "---\n",
    "\n",
    "## Setup"
   ]
  },
  {
   "cell_type": "code",
   "execution_count": 104,
   "metadata": {
    "collapsed": true
   },
   "outputs": [],
   "source": [
    "import logging\n",
    "from pprint import pprint\n",
    "\n",
    "import requests"
   ]
  },
  {
   "cell_type": "code",
   "execution_count": 105,
   "metadata": {
    "collapsed": true
   },
   "outputs": [],
   "source": [
    "logging.getLogger(\"requests.packages.urllib3.connectionpool\").setLevel(logging.WARNING)"
   ]
  },
  {
   "cell_type": "code",
   "execution_count": 106,
   "metadata": {
    "collapsed": false
   },
   "outputs": [],
   "source": [
    "def call_endpoint(endpoint, method='get',\n",
    "                  headers=None, params=None, data=None, auth=None):\n",
    "    url = base_url + endpoint\n",
    "    response = sess.request(method, base_url + endpoint,\n",
    "                            headers=headers, params=params, data=data, auth=auth)\n",
    "    print(response.url)\n",
    "    response.raise_for_status()\n",
    "    return response.json()"
   ]
  },
  {
   "cell_type": "code",
   "execution_count": 107,
   "metadata": {
    "collapsed": true
   },
   "outputs": [],
   "source": [
    "base_url = 'http://localhost:5000/'\n",
    "sess = requests.session()"
   ]
  },
  {
   "cell_type": "code",
   "execution_count": 108,
   "metadata": {
    "collapsed": false,
    "scrolled": true
   },
   "outputs": [
    {
     "name": "stdout",
     "output_type": "stream",
     "text": [
      "2016-09-09 23:59:24,574 INFO sqlalchemy.engine.base.Engine select relname from pg_class c join pg_namespace n on n.oid=c.relnamespace where pg_catalog.pg_table_is_visible(c.oid) and relname=%(name)s\n"
     ]
    },
    {
     "name": "stderr",
     "output_type": "stream",
     "text": [
      "INFO:sqlalchemy.engine.base.Engine:select relname from pg_class c join pg_namespace n on n.oid=c.relnamespace where pg_catalog.pg_table_is_visible(c.oid) and relname=%(name)s\n"
     ]
    },
    {
     "name": "stdout",
     "output_type": "stream",
     "text": [
      "2016-09-09 23:59:24,575 INFO sqlalchemy.engine.base.Engine {'name': 'users_to_reviews'}\n"
     ]
    },
    {
     "name": "stderr",
     "output_type": "stream",
     "text": [
      "INFO:sqlalchemy.engine.base.Engine:{'name': 'users_to_reviews'}\n"
     ]
    },
    {
     "name": "stdout",
     "output_type": "stream",
     "text": [
      "2016-09-09 23:59:24,578 INFO sqlalchemy.engine.base.Engine select relname from pg_class c join pg_namespace n on n.oid=c.relnamespace where pg_catalog.pg_table_is_visible(c.oid) and relname=%(name)s\n"
     ]
    },
    {
     "name": "stderr",
     "output_type": "stream",
     "text": [
      "INFO:sqlalchemy.engine.base.Engine:select relname from pg_class c join pg_namespace n on n.oid=c.relnamespace where pg_catalog.pg_table_is_visible(c.oid) and relname=%(name)s\n"
     ]
    },
    {
     "name": "stdout",
     "output_type": "stream",
     "text": [
      "2016-09-09 23:59:24,578 INFO sqlalchemy.engine.base.Engine {'name': 'studies'}\n"
     ]
    },
    {
     "name": "stderr",
     "output_type": "stream",
     "text": [
      "INFO:sqlalchemy.engine.base.Engine:{'name': 'studies'}\n"
     ]
    },
    {
     "name": "stdout",
     "output_type": "stream",
     "text": [
      "2016-09-09 23:59:24,580 INFO sqlalchemy.engine.base.Engine select relname from pg_class c join pg_namespace n on n.oid=c.relnamespace where pg_catalog.pg_table_is_visible(c.oid) and relname=%(name)s\n"
     ]
    },
    {
     "name": "stderr",
     "output_type": "stream",
     "text": [
      "INFO:sqlalchemy.engine.base.Engine:select relname from pg_class c join pg_namespace n on n.oid=c.relnamespace where pg_catalog.pg_table_is_visible(c.oid) and relname=%(name)s\n"
     ]
    },
    {
     "name": "stdout",
     "output_type": "stream",
     "text": [
      "2016-09-09 23:59:24,581 INFO sqlalchemy.engine.base.Engine {'name': 'citations'}\n"
     ]
    },
    {
     "name": "stderr",
     "output_type": "stream",
     "text": [
      "INFO:sqlalchemy.engine.base.Engine:{'name': 'citations'}\n"
     ]
    },
    {
     "name": "stdout",
     "output_type": "stream",
     "text": [
      "2016-09-09 23:59:24,582 INFO sqlalchemy.engine.base.Engine select relname from pg_class c join pg_namespace n on n.oid=c.relnamespace where pg_catalog.pg_table_is_visible(c.oid) and relname=%(name)s\n"
     ]
    },
    {
     "name": "stderr",
     "output_type": "stream",
     "text": [
      "INFO:sqlalchemy.engine.base.Engine:select relname from pg_class c join pg_namespace n on n.oid=c.relnamespace where pg_catalog.pg_table_is_visible(c.oid) and relname=%(name)s\n"
     ]
    },
    {
     "name": "stdout",
     "output_type": "stream",
     "text": [
      "2016-09-09 23:59:24,583 INFO sqlalchemy.engine.base.Engine {'name': 'review_plans'}\n"
     ]
    },
    {
     "name": "stderr",
     "output_type": "stream",
     "text": [
      "INFO:sqlalchemy.engine.base.Engine:{'name': 'review_plans'}\n"
     ]
    },
    {
     "name": "stdout",
     "output_type": "stream",
     "text": [
      "2016-09-09 23:59:24,585 INFO sqlalchemy.engine.base.Engine select relname from pg_class c join pg_namespace n on n.oid=c.relnamespace where pg_catalog.pg_table_is_visible(c.oid) and relname=%(name)s\n"
     ]
    },
    {
     "name": "stderr",
     "output_type": "stream",
     "text": [
      "INFO:sqlalchemy.engine.base.Engine:select relname from pg_class c join pg_namespace n on n.oid=c.relnamespace where pg_catalog.pg_table_is_visible(c.oid) and relname=%(name)s\n"
     ]
    },
    {
     "name": "stdout",
     "output_type": "stream",
     "text": [
      "2016-09-09 23:59:24,585 INFO sqlalchemy.engine.base.Engine {'name': 'fulltexts'}\n"
     ]
    },
    {
     "name": "stderr",
     "output_type": "stream",
     "text": [
      "INFO:sqlalchemy.engine.base.Engine:{'name': 'fulltexts'}\n"
     ]
    },
    {
     "name": "stdout",
     "output_type": "stream",
     "text": [
      "2016-09-09 23:59:24,587 INFO sqlalchemy.engine.base.Engine select relname from pg_class c join pg_namespace n on n.oid=c.relnamespace where pg_catalog.pg_table_is_visible(c.oid) and relname=%(name)s\n"
     ]
    },
    {
     "name": "stderr",
     "output_type": "stream",
     "text": [
      "INFO:sqlalchemy.engine.base.Engine:select relname from pg_class c join pg_namespace n on n.oid=c.relnamespace where pg_catalog.pg_table_is_visible(c.oid) and relname=%(name)s\n"
     ]
    },
    {
     "name": "stdout",
     "output_type": "stream",
     "text": [
      "2016-09-09 23:59:24,588 INFO sqlalchemy.engine.base.Engine {'name': 'users'}\n"
     ]
    },
    {
     "name": "stderr",
     "output_type": "stream",
     "text": [
      "INFO:sqlalchemy.engine.base.Engine:{'name': 'users'}\n"
     ]
    },
    {
     "name": "stdout",
     "output_type": "stream",
     "text": [
      "2016-09-09 23:59:24,589 INFO sqlalchemy.engine.base.Engine select relname from pg_class c join pg_namespace n on n.oid=c.relnamespace where pg_catalog.pg_table_is_visible(c.oid) and relname=%(name)s\n"
     ]
    },
    {
     "name": "stderr",
     "output_type": "stream",
     "text": [
      "INFO:sqlalchemy.engine.base.Engine:select relname from pg_class c join pg_namespace n on n.oid=c.relnamespace where pg_catalog.pg_table_is_visible(c.oid) and relname=%(name)s\n"
     ]
    },
    {
     "name": "stdout",
     "output_type": "stream",
     "text": [
      "2016-09-09 23:59:24,591 INFO sqlalchemy.engine.base.Engine {'name': 'reviews'}\n"
     ]
    },
    {
     "name": "stderr",
     "output_type": "stream",
     "text": [
      "INFO:sqlalchemy.engine.base.Engine:{'name': 'reviews'}\n"
     ]
    },
    {
     "name": "stdout",
     "output_type": "stream",
     "text": [
      "2016-09-09 23:59:24,593 INFO sqlalchemy.engine.base.Engine \n",
      "DROP TABLE fulltexts\n"
     ]
    },
    {
     "name": "stderr",
     "output_type": "stream",
     "text": [
      "INFO:sqlalchemy.engine.base.Engine:\n",
      "DROP TABLE fulltexts\n"
     ]
    },
    {
     "name": "stdout",
     "output_type": "stream",
     "text": [
      "2016-09-09 23:59:24,594 INFO sqlalchemy.engine.base.Engine {}\n"
     ]
    },
    {
     "name": "stderr",
     "output_type": "stream",
     "text": [
      "INFO:sqlalchemy.engine.base.Engine:{}\n"
     ]
    },
    {
     "name": "stdout",
     "output_type": "stream",
     "text": [
      "2016-09-09 23:59:24,596 INFO sqlalchemy.engine.base.Engine COMMIT\n"
     ]
    },
    {
     "name": "stderr",
     "output_type": "stream",
     "text": [
      "INFO:sqlalchemy.engine.base.Engine:COMMIT\n"
     ]
    },
    {
     "name": "stdout",
     "output_type": "stream",
     "text": [
      "2016-09-09 23:59:24,598 INFO sqlalchemy.engine.base.Engine \n",
      "DROP TABLE citations\n"
     ]
    },
    {
     "name": "stderr",
     "output_type": "stream",
     "text": [
      "INFO:sqlalchemy.engine.base.Engine:\n",
      "DROP TABLE citations\n"
     ]
    },
    {
     "name": "stdout",
     "output_type": "stream",
     "text": [
      "2016-09-09 23:59:24,599 INFO sqlalchemy.engine.base.Engine {}\n"
     ]
    },
    {
     "name": "stderr",
     "output_type": "stream",
     "text": [
      "INFO:sqlalchemy.engine.base.Engine:{}\n"
     ]
    },
    {
     "name": "stdout",
     "output_type": "stream",
     "text": [
      "2016-09-09 23:59:24,601 INFO sqlalchemy.engine.base.Engine COMMIT\n"
     ]
    },
    {
     "name": "stderr",
     "output_type": "stream",
     "text": [
      "INFO:sqlalchemy.engine.base.Engine:COMMIT\n"
     ]
    },
    {
     "name": "stdout",
     "output_type": "stream",
     "text": [
      "2016-09-09 23:59:24,602 INFO sqlalchemy.engine.base.Engine \n",
      "DROP TABLE review_plans\n"
     ]
    },
    {
     "name": "stderr",
     "output_type": "stream",
     "text": [
      "INFO:sqlalchemy.engine.base.Engine:\n",
      "DROP TABLE review_plans\n"
     ]
    },
    {
     "name": "stdout",
     "output_type": "stream",
     "text": [
      "2016-09-09 23:59:24,603 INFO sqlalchemy.engine.base.Engine {}\n"
     ]
    },
    {
     "name": "stderr",
     "output_type": "stream",
     "text": [
      "INFO:sqlalchemy.engine.base.Engine:{}\n"
     ]
    },
    {
     "name": "stdout",
     "output_type": "stream",
     "text": [
      "2016-09-09 23:59:24,605 INFO sqlalchemy.engine.base.Engine COMMIT\n"
     ]
    },
    {
     "name": "stderr",
     "output_type": "stream",
     "text": [
      "INFO:sqlalchemy.engine.base.Engine:COMMIT\n"
     ]
    },
    {
     "name": "stdout",
     "output_type": "stream",
     "text": [
      "2016-09-09 23:59:24,607 INFO sqlalchemy.engine.base.Engine \n",
      "DROP TABLE studies\n"
     ]
    },
    {
     "name": "stderr",
     "output_type": "stream",
     "text": [
      "INFO:sqlalchemy.engine.base.Engine:\n",
      "DROP TABLE studies\n"
     ]
    },
    {
     "name": "stdout",
     "output_type": "stream",
     "text": [
      "2016-09-09 23:59:24,608 INFO sqlalchemy.engine.base.Engine {}\n"
     ]
    },
    {
     "name": "stderr",
     "output_type": "stream",
     "text": [
      "INFO:sqlalchemy.engine.base.Engine:{}\n"
     ]
    },
    {
     "name": "stdout",
     "output_type": "stream",
     "text": [
      "2016-09-09 23:59:24,610 INFO sqlalchemy.engine.base.Engine COMMIT\n"
     ]
    },
    {
     "name": "stderr",
     "output_type": "stream",
     "text": [
      "INFO:sqlalchemy.engine.base.Engine:COMMIT\n"
     ]
    },
    {
     "name": "stdout",
     "output_type": "stream",
     "text": [
      "2016-09-09 23:59:24,612 INFO sqlalchemy.engine.base.Engine \n",
      "DROP TABLE users_to_reviews\n"
     ]
    },
    {
     "name": "stderr",
     "output_type": "stream",
     "text": [
      "INFO:sqlalchemy.engine.base.Engine:\n",
      "DROP TABLE users_to_reviews\n"
     ]
    },
    {
     "name": "stdout",
     "output_type": "stream",
     "text": [
      "2016-09-09 23:59:24,612 INFO sqlalchemy.engine.base.Engine {}\n"
     ]
    },
    {
     "name": "stderr",
     "output_type": "stream",
     "text": [
      "INFO:sqlalchemy.engine.base.Engine:{}\n"
     ]
    },
    {
     "name": "stdout",
     "output_type": "stream",
     "text": [
      "2016-09-09 23:59:24,614 INFO sqlalchemy.engine.base.Engine COMMIT\n"
     ]
    },
    {
     "name": "stderr",
     "output_type": "stream",
     "text": [
      "INFO:sqlalchemy.engine.base.Engine:COMMIT\n"
     ]
    },
    {
     "name": "stdout",
     "output_type": "stream",
     "text": [
      "2016-09-09 23:59:24,615 INFO sqlalchemy.engine.base.Engine \n",
      "DROP TABLE reviews\n"
     ]
    },
    {
     "name": "stderr",
     "output_type": "stream",
     "text": [
      "INFO:sqlalchemy.engine.base.Engine:\n",
      "DROP TABLE reviews\n"
     ]
    },
    {
     "name": "stdout",
     "output_type": "stream",
     "text": [
      "2016-09-09 23:59:24,616 INFO sqlalchemy.engine.base.Engine {}\n"
     ]
    },
    {
     "name": "stderr",
     "output_type": "stream",
     "text": [
      "INFO:sqlalchemy.engine.base.Engine:{}\n"
     ]
    },
    {
     "name": "stdout",
     "output_type": "stream",
     "text": [
      "2016-09-09 23:59:24,618 INFO sqlalchemy.engine.base.Engine COMMIT\n"
     ]
    },
    {
     "name": "stderr",
     "output_type": "stream",
     "text": [
      "INFO:sqlalchemy.engine.base.Engine:COMMIT\n"
     ]
    },
    {
     "name": "stdout",
     "output_type": "stream",
     "text": [
      "2016-09-09 23:59:24,619 INFO sqlalchemy.engine.base.Engine \n",
      "DROP TABLE users\n"
     ]
    },
    {
     "name": "stderr",
     "output_type": "stream",
     "text": [
      "INFO:sqlalchemy.engine.base.Engine:\n",
      "DROP TABLE users\n"
     ]
    },
    {
     "name": "stdout",
     "output_type": "stream",
     "text": [
      "2016-09-09 23:59:24,620 INFO sqlalchemy.engine.base.Engine {}\n"
     ]
    },
    {
     "name": "stderr",
     "output_type": "stream",
     "text": [
      "INFO:sqlalchemy.engine.base.Engine:{}\n"
     ]
    },
    {
     "name": "stdout",
     "output_type": "stream",
     "text": [
      "2016-09-09 23:59:24,621 INFO sqlalchemy.engine.base.Engine COMMIT\n"
     ]
    },
    {
     "name": "stderr",
     "output_type": "stream",
     "text": [
      "INFO:sqlalchemy.engine.base.Engine:COMMIT\n"
     ]
    },
    {
     "name": "stdout",
     "output_type": "stream",
     "text": [
      "2016-09-09 23:59:24,623 INFO sqlalchemy.engine.base.Engine select relname from pg_class c join pg_namespace n on n.oid=c.relnamespace where pg_catalog.pg_table_is_visible(c.oid) and relname=%(name)s\n"
     ]
    },
    {
     "name": "stderr",
     "output_type": "stream",
     "text": [
      "INFO:sqlalchemy.engine.base.Engine:select relname from pg_class c join pg_namespace n on n.oid=c.relnamespace where pg_catalog.pg_table_is_visible(c.oid) and relname=%(name)s\n"
     ]
    },
    {
     "name": "stdout",
     "output_type": "stream",
     "text": [
      "2016-09-09 23:59:24,624 INFO sqlalchemy.engine.base.Engine {'name': 'users_to_reviews'}\n"
     ]
    },
    {
     "name": "stderr",
     "output_type": "stream",
     "text": [
      "INFO:sqlalchemy.engine.base.Engine:{'name': 'users_to_reviews'}\n"
     ]
    },
    {
     "name": "stdout",
     "output_type": "stream",
     "text": [
      "2016-09-09 23:59:24,625 INFO sqlalchemy.engine.base.Engine select relname from pg_class c join pg_namespace n on n.oid=c.relnamespace where pg_catalog.pg_table_is_visible(c.oid) and relname=%(name)s\n"
     ]
    },
    {
     "name": "stderr",
     "output_type": "stream",
     "text": [
      "INFO:sqlalchemy.engine.base.Engine:select relname from pg_class c join pg_namespace n on n.oid=c.relnamespace where pg_catalog.pg_table_is_visible(c.oid) and relname=%(name)s\n"
     ]
    },
    {
     "name": "stdout",
     "output_type": "stream",
     "text": [
      "2016-09-09 23:59:24,626 INFO sqlalchemy.engine.base.Engine {'name': 'studies'}\n"
     ]
    },
    {
     "name": "stderr",
     "output_type": "stream",
     "text": [
      "INFO:sqlalchemy.engine.base.Engine:{'name': 'studies'}\n"
     ]
    },
    {
     "name": "stdout",
     "output_type": "stream",
     "text": [
      "2016-09-09 23:59:24,628 INFO sqlalchemy.engine.base.Engine select relname from pg_class c join pg_namespace n on n.oid=c.relnamespace where pg_catalog.pg_table_is_visible(c.oid) and relname=%(name)s\n"
     ]
    },
    {
     "name": "stderr",
     "output_type": "stream",
     "text": [
      "INFO:sqlalchemy.engine.base.Engine:select relname from pg_class c join pg_namespace n on n.oid=c.relnamespace where pg_catalog.pg_table_is_visible(c.oid) and relname=%(name)s\n"
     ]
    },
    {
     "name": "stdout",
     "output_type": "stream",
     "text": [
      "2016-09-09 23:59:24,629 INFO sqlalchemy.engine.base.Engine {'name': 'citations'}\n"
     ]
    },
    {
     "name": "stderr",
     "output_type": "stream",
     "text": [
      "INFO:sqlalchemy.engine.base.Engine:{'name': 'citations'}\n"
     ]
    },
    {
     "name": "stdout",
     "output_type": "stream",
     "text": [
      "2016-09-09 23:59:24,631 INFO sqlalchemy.engine.base.Engine select relname from pg_class c join pg_namespace n on n.oid=c.relnamespace where pg_catalog.pg_table_is_visible(c.oid) and relname=%(name)s\n"
     ]
    },
    {
     "name": "stderr",
     "output_type": "stream",
     "text": [
      "INFO:sqlalchemy.engine.base.Engine:select relname from pg_class c join pg_namespace n on n.oid=c.relnamespace where pg_catalog.pg_table_is_visible(c.oid) and relname=%(name)s\n"
     ]
    },
    {
     "name": "stdout",
     "output_type": "stream",
     "text": [
      "2016-09-09 23:59:24,632 INFO sqlalchemy.engine.base.Engine {'name': 'review_plans'}\n"
     ]
    },
    {
     "name": "stderr",
     "output_type": "stream",
     "text": [
      "INFO:sqlalchemy.engine.base.Engine:{'name': 'review_plans'}\n"
     ]
    },
    {
     "name": "stdout",
     "output_type": "stream",
     "text": [
      "2016-09-09 23:59:24,633 INFO sqlalchemy.engine.base.Engine select relname from pg_class c join pg_namespace n on n.oid=c.relnamespace where pg_catalog.pg_table_is_visible(c.oid) and relname=%(name)s\n"
     ]
    },
    {
     "name": "stderr",
     "output_type": "stream",
     "text": [
      "INFO:sqlalchemy.engine.base.Engine:select relname from pg_class c join pg_namespace n on n.oid=c.relnamespace where pg_catalog.pg_table_is_visible(c.oid) and relname=%(name)s\n"
     ]
    },
    {
     "name": "stdout",
     "output_type": "stream",
     "text": [
      "2016-09-09 23:59:24,634 INFO sqlalchemy.engine.base.Engine {'name': 'fulltexts'}\n"
     ]
    },
    {
     "name": "stderr",
     "output_type": "stream",
     "text": [
      "INFO:sqlalchemy.engine.base.Engine:{'name': 'fulltexts'}\n"
     ]
    },
    {
     "name": "stdout",
     "output_type": "stream",
     "text": [
      "2016-09-09 23:59:24,635 INFO sqlalchemy.engine.base.Engine select relname from pg_class c join pg_namespace n on n.oid=c.relnamespace where pg_catalog.pg_table_is_visible(c.oid) and relname=%(name)s\n"
     ]
    },
    {
     "name": "stderr",
     "output_type": "stream",
     "text": [
      "INFO:sqlalchemy.engine.base.Engine:select relname from pg_class c join pg_namespace n on n.oid=c.relnamespace where pg_catalog.pg_table_is_visible(c.oid) and relname=%(name)s\n"
     ]
    },
    {
     "name": "stdout",
     "output_type": "stream",
     "text": [
      "2016-09-09 23:59:24,636 INFO sqlalchemy.engine.base.Engine {'name': 'users'}\n"
     ]
    },
    {
     "name": "stderr",
     "output_type": "stream",
     "text": [
      "INFO:sqlalchemy.engine.base.Engine:{'name': 'users'}\n"
     ]
    },
    {
     "name": "stdout",
     "output_type": "stream",
     "text": [
      "2016-09-09 23:59:24,638 INFO sqlalchemy.engine.base.Engine select relname from pg_class c join pg_namespace n on n.oid=c.relnamespace where pg_catalog.pg_table_is_visible(c.oid) and relname=%(name)s\n"
     ]
    },
    {
     "name": "stderr",
     "output_type": "stream",
     "text": [
      "INFO:sqlalchemy.engine.base.Engine:select relname from pg_class c join pg_namespace n on n.oid=c.relnamespace where pg_catalog.pg_table_is_visible(c.oid) and relname=%(name)s\n"
     ]
    },
    {
     "name": "stdout",
     "output_type": "stream",
     "text": [
      "2016-09-09 23:59:24,639 INFO sqlalchemy.engine.base.Engine {'name': 'reviews'}\n"
     ]
    },
    {
     "name": "stderr",
     "output_type": "stream",
     "text": [
      "INFO:sqlalchemy.engine.base.Engine:{'name': 'reviews'}\n"
     ]
    },
    {
     "name": "stdout",
     "output_type": "stream",
     "text": [
      "2016-09-09 23:59:24,641 INFO sqlalchemy.engine.base.Engine \n",
      "CREATE TABLE users (\n",
      "\tid SERIAL NOT NULL, \n",
      "\tcreated_at TIMESTAMP WITHOUT TIME ZONE DEFAULT (CURRENT_TIMESTAMP AT TIME ZONE 'UTC'), \n",
      "\tname VARCHAR(200) NOT NULL, \n",
      "\temail VARCHAR(200) NOT NULL, \n",
      "\tpassword VARCHAR(60) NOT NULL, \n",
      "\tPRIMARY KEY (id)\n",
      ")\n",
      "\n",
      "\n"
     ]
    },
    {
     "name": "stderr",
     "output_type": "stream",
     "text": [
      "INFO:sqlalchemy.engine.base.Engine:\n",
      "CREATE TABLE users (\n",
      "\tid SERIAL NOT NULL, \n",
      "\tcreated_at TIMESTAMP WITHOUT TIME ZONE DEFAULT (CURRENT_TIMESTAMP AT TIME ZONE 'UTC'), \n",
      "\tname VARCHAR(200) NOT NULL, \n",
      "\temail VARCHAR(200) NOT NULL, \n",
      "\tpassword VARCHAR(60) NOT NULL, \n",
      "\tPRIMARY KEY (id)\n",
      ")\n",
      "\n",
      "\n"
     ]
    },
    {
     "name": "stdout",
     "output_type": "stream",
     "text": [
      "2016-09-09 23:59:24,642 INFO sqlalchemy.engine.base.Engine {}\n"
     ]
    },
    {
     "name": "stderr",
     "output_type": "stream",
     "text": [
      "INFO:sqlalchemy.engine.base.Engine:{}\n"
     ]
    },
    {
     "name": "stdout",
     "output_type": "stream",
     "text": [
      "2016-09-09 23:59:24,645 INFO sqlalchemy.engine.base.Engine COMMIT\n"
     ]
    },
    {
     "name": "stderr",
     "output_type": "stream",
     "text": [
      "INFO:sqlalchemy.engine.base.Engine:COMMIT\n"
     ]
    },
    {
     "name": "stdout",
     "output_type": "stream",
     "text": [
      "2016-09-09 23:59:24,646 INFO sqlalchemy.engine.base.Engine CREATE UNIQUE INDEX ix_users_email ON users (email)\n"
     ]
    },
    {
     "name": "stderr",
     "output_type": "stream",
     "text": [
      "INFO:sqlalchemy.engine.base.Engine:CREATE UNIQUE INDEX ix_users_email ON users (email)\n"
     ]
    },
    {
     "name": "stdout",
     "output_type": "stream",
     "text": [
      "2016-09-09 23:59:24,647 INFO sqlalchemy.engine.base.Engine {}\n"
     ]
    },
    {
     "name": "stderr",
     "output_type": "stream",
     "text": [
      "INFO:sqlalchemy.engine.base.Engine:{}\n"
     ]
    },
    {
     "name": "stdout",
     "output_type": "stream",
     "text": [
      "2016-09-09 23:59:24,650 INFO sqlalchemy.engine.base.Engine COMMIT\n"
     ]
    },
    {
     "name": "stderr",
     "output_type": "stream",
     "text": [
      "INFO:sqlalchemy.engine.base.Engine:COMMIT\n"
     ]
    },
    {
     "name": "stdout",
     "output_type": "stream",
     "text": [
      "2016-09-09 23:59:24,652 INFO sqlalchemy.engine.base.Engine \n",
      "CREATE TABLE reviews (\n",
      "\tid SERIAL NOT NULL, \n",
      "\tcreated_at TIMESTAMP WITHOUT TIME ZONE DEFAULT (CURRENT_TIMESTAMP AT TIME ZONE 'UTC'), \n",
      "\tname VARCHAR(500) NOT NULL, \n",
      "\tdescription TEXT, \n",
      "\tstatus VARCHAR(25) DEFAULT 'active' NOT NULL, \n",
      "\towner_user_id INTEGER, \n",
      "\tnum_citation_screening_reviewers SMALLINT DEFAULT 1 NOT NULL, \n",
      "\tnum_fulltext_screening_reviewers SMALLINT DEFAULT 1 NOT NULL, \n",
      "\tPRIMARY KEY (id), \n",
      "\tFOREIGN KEY(owner_user_id) REFERENCES users (id) ON DELETE CASCADE\n",
      ")\n",
      "\n",
      "\n"
     ]
    },
    {
     "name": "stderr",
     "output_type": "stream",
     "text": [
      "INFO:sqlalchemy.engine.base.Engine:\n",
      "CREATE TABLE reviews (\n",
      "\tid SERIAL NOT NULL, \n",
      "\tcreated_at TIMESTAMP WITHOUT TIME ZONE DEFAULT (CURRENT_TIMESTAMP AT TIME ZONE 'UTC'), \n",
      "\tname VARCHAR(500) NOT NULL, \n",
      "\tdescription TEXT, \n",
      "\tstatus VARCHAR(25) DEFAULT 'active' NOT NULL, \n",
      "\towner_user_id INTEGER, \n",
      "\tnum_citation_screening_reviewers SMALLINT DEFAULT 1 NOT NULL, \n",
      "\tnum_fulltext_screening_reviewers SMALLINT DEFAULT 1 NOT NULL, \n",
      "\tPRIMARY KEY (id), \n",
      "\tFOREIGN KEY(owner_user_id) REFERENCES users (id) ON DELETE CASCADE\n",
      ")\n",
      "\n",
      "\n"
     ]
    },
    {
     "name": "stdout",
     "output_type": "stream",
     "text": [
      "2016-09-09 23:59:24,654 INFO sqlalchemy.engine.base.Engine {}\n"
     ]
    },
    {
     "name": "stderr",
     "output_type": "stream",
     "text": [
      "INFO:sqlalchemy.engine.base.Engine:{}\n"
     ]
    },
    {
     "name": "stdout",
     "output_type": "stream",
     "text": [
      "2016-09-09 23:59:24,660 INFO sqlalchemy.engine.base.Engine COMMIT\n"
     ]
    },
    {
     "name": "stderr",
     "output_type": "stream",
     "text": [
      "INFO:sqlalchemy.engine.base.Engine:COMMIT\n"
     ]
    },
    {
     "name": "stdout",
     "output_type": "stream",
     "text": [
      "2016-09-09 23:59:24,662 INFO sqlalchemy.engine.base.Engine CREATE INDEX ix_reviews_owner_user_id ON reviews (owner_user_id)\n"
     ]
    },
    {
     "name": "stderr",
     "output_type": "stream",
     "text": [
      "INFO:sqlalchemy.engine.base.Engine:CREATE INDEX ix_reviews_owner_user_id ON reviews (owner_user_id)\n"
     ]
    },
    {
     "name": "stdout",
     "output_type": "stream",
     "text": [
      "2016-09-09 23:59:24,663 INFO sqlalchemy.engine.base.Engine {}\n"
     ]
    },
    {
     "name": "stderr",
     "output_type": "stream",
     "text": [
      "INFO:sqlalchemy.engine.base.Engine:{}\n"
     ]
    },
    {
     "name": "stdout",
     "output_type": "stream",
     "text": [
      "2016-09-09 23:59:24,666 INFO sqlalchemy.engine.base.Engine COMMIT\n"
     ]
    },
    {
     "name": "stderr",
     "output_type": "stream",
     "text": [
      "INFO:sqlalchemy.engine.base.Engine:COMMIT\n"
     ]
    },
    {
     "name": "stdout",
     "output_type": "stream",
     "text": [
      "2016-09-09 23:59:24,667 INFO sqlalchemy.engine.base.Engine \n",
      "CREATE TABLE users_to_reviews (\n",
      "\tuser_id INTEGER, \n",
      "\treview_id INTEGER, \n",
      "\tFOREIGN KEY(user_id) REFERENCES users (id), \n",
      "\tFOREIGN KEY(review_id) REFERENCES reviews (id)\n",
      ")\n",
      "\n",
      "\n"
     ]
    },
    {
     "name": "stderr",
     "output_type": "stream",
     "text": [
      "INFO:sqlalchemy.engine.base.Engine:\n",
      "CREATE TABLE users_to_reviews (\n",
      "\tuser_id INTEGER, \n",
      "\treview_id INTEGER, \n",
      "\tFOREIGN KEY(user_id) REFERENCES users (id), \n",
      "\tFOREIGN KEY(review_id) REFERENCES reviews (id)\n",
      ")\n",
      "\n",
      "\n"
     ]
    },
    {
     "name": "stdout",
     "output_type": "stream",
     "text": [
      "2016-09-09 23:59:24,668 INFO sqlalchemy.engine.base.Engine {}\n"
     ]
    },
    {
     "name": "stderr",
     "output_type": "stream",
     "text": [
      "INFO:sqlalchemy.engine.base.Engine:{}\n"
     ]
    },
    {
     "name": "stdout",
     "output_type": "stream",
     "text": [
      "2016-09-09 23:59:24,671 INFO sqlalchemy.engine.base.Engine COMMIT\n"
     ]
    },
    {
     "name": "stderr",
     "output_type": "stream",
     "text": [
      "INFO:sqlalchemy.engine.base.Engine:COMMIT\n"
     ]
    },
    {
     "name": "stdout",
     "output_type": "stream",
     "text": [
      "2016-09-09 23:59:24,672 INFO sqlalchemy.engine.base.Engine CREATE INDEX ix_users_to_reviews_user_id ON users_to_reviews (user_id)\n"
     ]
    },
    {
     "name": "stderr",
     "output_type": "stream",
     "text": [
      "INFO:sqlalchemy.engine.base.Engine:CREATE INDEX ix_users_to_reviews_user_id ON users_to_reviews (user_id)\n"
     ]
    },
    {
     "name": "stdout",
     "output_type": "stream",
     "text": [
      "2016-09-09 23:59:24,673 INFO sqlalchemy.engine.base.Engine {}\n"
     ]
    },
    {
     "name": "stderr",
     "output_type": "stream",
     "text": [
      "INFO:sqlalchemy.engine.base.Engine:{}\n"
     ]
    },
    {
     "name": "stdout",
     "output_type": "stream",
     "text": [
      "2016-09-09 23:59:24,675 INFO sqlalchemy.engine.base.Engine COMMIT\n"
     ]
    },
    {
     "name": "stderr",
     "output_type": "stream",
     "text": [
      "INFO:sqlalchemy.engine.base.Engine:COMMIT\n"
     ]
    },
    {
     "name": "stdout",
     "output_type": "stream",
     "text": [
      "2016-09-09 23:59:24,676 INFO sqlalchemy.engine.base.Engine CREATE INDEX ix_users_to_reviews_review_id ON users_to_reviews (review_id)\n"
     ]
    },
    {
     "name": "stderr",
     "output_type": "stream",
     "text": [
      "INFO:sqlalchemy.engine.base.Engine:CREATE INDEX ix_users_to_reviews_review_id ON users_to_reviews (review_id)\n"
     ]
    },
    {
     "name": "stdout",
     "output_type": "stream",
     "text": [
      "2016-09-09 23:59:24,677 INFO sqlalchemy.engine.base.Engine {}\n"
     ]
    },
    {
     "name": "stderr",
     "output_type": "stream",
     "text": [
      "INFO:sqlalchemy.engine.base.Engine:{}\n"
     ]
    },
    {
     "name": "stdout",
     "output_type": "stream",
     "text": [
      "2016-09-09 23:59:24,679 INFO sqlalchemy.engine.base.Engine COMMIT\n"
     ]
    },
    {
     "name": "stderr",
     "output_type": "stream",
     "text": [
      "INFO:sqlalchemy.engine.base.Engine:COMMIT\n"
     ]
    },
    {
     "name": "stdout",
     "output_type": "stream",
     "text": [
      "2016-09-09 23:59:24,680 INFO sqlalchemy.engine.base.Engine \n",
      "CREATE TABLE studies (\n",
      "\tid BIGSERIAL NOT NULL, \n",
      "\tcreated_at TIMESTAMP WITHOUT TIME ZONE DEFAULT (CURRENT_TIMESTAMP AT TIME ZONE 'UTC'), \n",
      "\treview_id INTEGER, \n",
      "\ttitle VARCHAR(250) DEFAULT 'untitled' NOT NULL, \n",
      "\ttags VARCHAR(25)[] DEFAULT '{}', \n",
      "\tstatus VARCHAR(20) DEFAULT 'pending' NOT NULL, \n",
      "\tdeduplication JSONB, \n",
      "\tcitation_screening JSONB, \n",
      "\tfulltext_screening JSONB, \n",
      "\tPRIMARY KEY (id), \n",
      "\tFOREIGN KEY(review_id) REFERENCES reviews (id) ON DELETE CASCADE\n",
      ")\n",
      "\n",
      "\n"
     ]
    },
    {
     "name": "stderr",
     "output_type": "stream",
     "text": [
      "INFO:sqlalchemy.engine.base.Engine:\n",
      "CREATE TABLE studies (\n",
      "\tid BIGSERIAL NOT NULL, \n",
      "\tcreated_at TIMESTAMP WITHOUT TIME ZONE DEFAULT (CURRENT_TIMESTAMP AT TIME ZONE 'UTC'), \n",
      "\treview_id INTEGER, \n",
      "\ttitle VARCHAR(250) DEFAULT 'untitled' NOT NULL, \n",
      "\ttags VARCHAR(25)[] DEFAULT '{}', \n",
      "\tstatus VARCHAR(20) DEFAULT 'pending' NOT NULL, \n",
      "\tdeduplication JSONB, \n",
      "\tcitation_screening JSONB, \n",
      "\tfulltext_screening JSONB, \n",
      "\tPRIMARY KEY (id), \n",
      "\tFOREIGN KEY(review_id) REFERENCES reviews (id) ON DELETE CASCADE\n",
      ")\n",
      "\n",
      "\n"
     ]
    },
    {
     "name": "stdout",
     "output_type": "stream",
     "text": [
      "2016-09-09 23:59:24,681 INFO sqlalchemy.engine.base.Engine {}\n"
     ]
    },
    {
     "name": "stderr",
     "output_type": "stream",
     "text": [
      "INFO:sqlalchemy.engine.base.Engine:{}\n"
     ]
    },
    {
     "name": "stdout",
     "output_type": "stream",
     "text": [
      "2016-09-09 23:59:24,686 INFO sqlalchemy.engine.base.Engine COMMIT\n"
     ]
    },
    {
     "name": "stderr",
     "output_type": "stream",
     "text": [
      "INFO:sqlalchemy.engine.base.Engine:COMMIT\n"
     ]
    },
    {
     "name": "stdout",
     "output_type": "stream",
     "text": [
      "2016-09-09 23:59:24,687 INFO sqlalchemy.engine.base.Engine CREATE INDEX ix_studies_tags ON studies (tags)\n"
     ]
    },
    {
     "name": "stderr",
     "output_type": "stream",
     "text": [
      "INFO:sqlalchemy.engine.base.Engine:CREATE INDEX ix_studies_tags ON studies (tags)\n"
     ]
    },
    {
     "name": "stdout",
     "output_type": "stream",
     "text": [
      "2016-09-09 23:59:24,688 INFO sqlalchemy.engine.base.Engine {}\n"
     ]
    },
    {
     "name": "stderr",
     "output_type": "stream",
     "text": [
      "INFO:sqlalchemy.engine.base.Engine:{}\n"
     ]
    },
    {
     "name": "stdout",
     "output_type": "stream",
     "text": [
      "2016-09-09 23:59:24,691 INFO sqlalchemy.engine.base.Engine COMMIT\n"
     ]
    },
    {
     "name": "stderr",
     "output_type": "stream",
     "text": [
      "INFO:sqlalchemy.engine.base.Engine:COMMIT\n"
     ]
    },
    {
     "name": "stdout",
     "output_type": "stream",
     "text": [
      "2016-09-09 23:59:24,692 INFO sqlalchemy.engine.base.Engine CREATE INDEX ix_studies_status ON studies (status)\n"
     ]
    },
    {
     "name": "stderr",
     "output_type": "stream",
     "text": [
      "INFO:sqlalchemy.engine.base.Engine:CREATE INDEX ix_studies_status ON studies (status)\n"
     ]
    },
    {
     "name": "stdout",
     "output_type": "stream",
     "text": [
      "2016-09-09 23:59:24,693 INFO sqlalchemy.engine.base.Engine {}\n"
     ]
    },
    {
     "name": "stderr",
     "output_type": "stream",
     "text": [
      "INFO:sqlalchemy.engine.base.Engine:{}\n"
     ]
    },
    {
     "name": "stdout",
     "output_type": "stream",
     "text": [
      "2016-09-09 23:59:24,695 INFO sqlalchemy.engine.base.Engine COMMIT\n"
     ]
    },
    {
     "name": "stderr",
     "output_type": "stream",
     "text": [
      "INFO:sqlalchemy.engine.base.Engine:COMMIT\n"
     ]
    },
    {
     "name": "stdout",
     "output_type": "stream",
     "text": [
      "2016-09-09 23:59:24,696 INFO sqlalchemy.engine.base.Engine CREATE INDEX ix_studies_review_id ON studies (review_id)\n"
     ]
    },
    {
     "name": "stderr",
     "output_type": "stream",
     "text": [
      "INFO:sqlalchemy.engine.base.Engine:CREATE INDEX ix_studies_review_id ON studies (review_id)\n"
     ]
    },
    {
     "name": "stdout",
     "output_type": "stream",
     "text": [
      "2016-09-09 23:59:24,697 INFO sqlalchemy.engine.base.Engine {}\n"
     ]
    },
    {
     "name": "stderr",
     "output_type": "stream",
     "text": [
      "INFO:sqlalchemy.engine.base.Engine:{}\n"
     ]
    },
    {
     "name": "stdout",
     "output_type": "stream",
     "text": [
      "2016-09-09 23:59:24,699 INFO sqlalchemy.engine.base.Engine COMMIT\n"
     ]
    },
    {
     "name": "stderr",
     "output_type": "stream",
     "text": [
      "INFO:sqlalchemy.engine.base.Engine:COMMIT\n"
     ]
    },
    {
     "name": "stdout",
     "output_type": "stream",
     "text": [
      "2016-09-09 23:59:24,701 INFO sqlalchemy.engine.base.Engine \n",
      "CREATE TABLE review_plans (\n",
      "\tid SERIAL NOT NULL, \n",
      "\treview_id INTEGER, \n",
      "\tobjective TEXT, \n",
      "\tresearch_questions JSONB, \n",
      "\tpico JSONB, \n",
      "\tkeyterms JSONB, \n",
      "\tselection_criteria JSONB, \n",
      "\tdata_extraction_form JSONB, \n",
      "\tPRIMARY KEY (id), \n",
      "\tFOREIGN KEY(review_id) REFERENCES reviews (id) ON DELETE CASCADE\n",
      ")\n",
      "\n",
      "\n"
     ]
    },
    {
     "name": "stderr",
     "output_type": "stream",
     "text": [
      "INFO:sqlalchemy.engine.base.Engine:\n",
      "CREATE TABLE review_plans (\n",
      "\tid SERIAL NOT NULL, \n",
      "\treview_id INTEGER, \n",
      "\tobjective TEXT, \n",
      "\tresearch_questions JSONB, \n",
      "\tpico JSONB, \n",
      "\tkeyterms JSONB, \n",
      "\tselection_criteria JSONB, \n",
      "\tdata_extraction_form JSONB, \n",
      "\tPRIMARY KEY (id), \n",
      "\tFOREIGN KEY(review_id) REFERENCES reviews (id) ON DELETE CASCADE\n",
      ")\n",
      "\n",
      "\n"
     ]
    },
    {
     "name": "stdout",
     "output_type": "stream",
     "text": [
      "2016-09-09 23:59:24,702 INFO sqlalchemy.engine.base.Engine {}\n"
     ]
    },
    {
     "name": "stderr",
     "output_type": "stream",
     "text": [
      "INFO:sqlalchemy.engine.base.Engine:{}\n"
     ]
    },
    {
     "name": "stdout",
     "output_type": "stream",
     "text": [
      "2016-09-09 23:59:24,707 INFO sqlalchemy.engine.base.Engine COMMIT\n"
     ]
    },
    {
     "name": "stderr",
     "output_type": "stream",
     "text": [
      "INFO:sqlalchemy.engine.base.Engine:COMMIT\n"
     ]
    },
    {
     "name": "stdout",
     "output_type": "stream",
     "text": [
      "2016-09-09 23:59:24,708 INFO sqlalchemy.engine.base.Engine CREATE INDEX ix_review_plans_review_id ON review_plans (review_id)\n"
     ]
    },
    {
     "name": "stderr",
     "output_type": "stream",
     "text": [
      "INFO:sqlalchemy.engine.base.Engine:CREATE INDEX ix_review_plans_review_id ON review_plans (review_id)\n"
     ]
    },
    {
     "name": "stdout",
     "output_type": "stream",
     "text": [
      "2016-09-09 23:59:24,709 INFO sqlalchemy.engine.base.Engine {}\n"
     ]
    },
    {
     "name": "stderr",
     "output_type": "stream",
     "text": [
      "INFO:sqlalchemy.engine.base.Engine:{}\n"
     ]
    },
    {
     "name": "stdout",
     "output_type": "stream",
     "text": [
      "2016-09-09 23:59:24,712 INFO sqlalchemy.engine.base.Engine COMMIT\n"
     ]
    },
    {
     "name": "stderr",
     "output_type": "stream",
     "text": [
      "INFO:sqlalchemy.engine.base.Engine:COMMIT\n"
     ]
    },
    {
     "name": "stdout",
     "output_type": "stream",
     "text": [
      "2016-09-09 23:59:24,713 INFO sqlalchemy.engine.base.Engine \n",
      "CREATE TABLE citations (\n",
      "\tid BIGSERIAL NOT NULL, \n",
      "\tcreated_at TIMESTAMP WITHOUT TIME ZONE DEFAULT (CURRENT_TIMESTAMP AT TIME ZONE 'UTC'), \n",
      "\tstudy_id BIGINT, \n",
      "\ttype_of_work VARCHAR(25), \n",
      "\ttitle VARCHAR(250), \n",
      "\tsecondary_title VARCHAR(250), \n",
      "\tabstract TEXT, \n",
      "\tpub_year SMALLINT, \n",
      "\tpub_month SMALLINT, \n",
      "\tauthors VARCHAR(100)[], \n",
      "\tkeywords VARCHAR(100)[], \n",
      "\ttype_of_reference VARCHAR(50), \n",
      "\tjournal_name VARCHAR(100), \n",
      "\tvolume VARCHAR(20), \n",
      "\tissue_number VARCHAR(20), \n",
      "\tdoi VARCHAR(100), \n",
      "\tissn VARCHAR(20), \n",
      "\tpublisher VARCHAR(100), \n",
      "\tlanguage VARCHAR(50), \n",
      "\tother_fields JSONB, \n",
      "\tPRIMARY KEY (id), \n",
      "\tFOREIGN KEY(study_id) REFERENCES studies (id) ON DELETE CASCADE\n",
      ")\n",
      "\n",
      "\n"
     ]
    },
    {
     "name": "stderr",
     "output_type": "stream",
     "text": [
      "INFO:sqlalchemy.engine.base.Engine:\n",
      "CREATE TABLE citations (\n",
      "\tid BIGSERIAL NOT NULL, \n",
      "\tcreated_at TIMESTAMP WITHOUT TIME ZONE DEFAULT (CURRENT_TIMESTAMP AT TIME ZONE 'UTC'), \n",
      "\tstudy_id BIGINT, \n",
      "\ttype_of_work VARCHAR(25), \n",
      "\ttitle VARCHAR(250), \n",
      "\tsecondary_title VARCHAR(250), \n",
      "\tabstract TEXT, \n",
      "\tpub_year SMALLINT, \n",
      "\tpub_month SMALLINT, \n",
      "\tauthors VARCHAR(100)[], \n",
      "\tkeywords VARCHAR(100)[], \n",
      "\ttype_of_reference VARCHAR(50), \n",
      "\tjournal_name VARCHAR(100), \n",
      "\tvolume VARCHAR(20), \n",
      "\tissue_number VARCHAR(20), \n",
      "\tdoi VARCHAR(100), \n",
      "\tissn VARCHAR(20), \n",
      "\tpublisher VARCHAR(100), \n",
      "\tlanguage VARCHAR(50), \n",
      "\tother_fields JSONB, \n",
      "\tPRIMARY KEY (id), \n",
      "\tFOREIGN KEY(study_id) REFERENCES studies (id) ON DELETE CASCADE\n",
      ")\n",
      "\n",
      "\n"
     ]
    },
    {
     "name": "stdout",
     "output_type": "stream",
     "text": [
      "2016-09-09 23:59:24,714 INFO sqlalchemy.engine.base.Engine {}\n"
     ]
    },
    {
     "name": "stderr",
     "output_type": "stream",
     "text": [
      "INFO:sqlalchemy.engine.base.Engine:{}\n"
     ]
    },
    {
     "name": "stdout",
     "output_type": "stream",
     "text": [
      "2016-09-09 23:59:24,719 INFO sqlalchemy.engine.base.Engine COMMIT\n"
     ]
    },
    {
     "name": "stderr",
     "output_type": "stream",
     "text": [
      "INFO:sqlalchemy.engine.base.Engine:COMMIT\n"
     ]
    },
    {
     "name": "stdout",
     "output_type": "stream",
     "text": [
      "2016-09-09 23:59:24,720 INFO sqlalchemy.engine.base.Engine CREATE INDEX ix_citations_study_id ON citations (study_id)\n"
     ]
    },
    {
     "name": "stderr",
     "output_type": "stream",
     "text": [
      "INFO:sqlalchemy.engine.base.Engine:CREATE INDEX ix_citations_study_id ON citations (study_id)\n"
     ]
    },
    {
     "name": "stdout",
     "output_type": "stream",
     "text": [
      "2016-09-09 23:59:24,721 INFO sqlalchemy.engine.base.Engine {}\n"
     ]
    },
    {
     "name": "stderr",
     "output_type": "stream",
     "text": [
      "INFO:sqlalchemy.engine.base.Engine:{}\n"
     ]
    },
    {
     "name": "stdout",
     "output_type": "stream",
     "text": [
      "2016-09-09 23:59:24,724 INFO sqlalchemy.engine.base.Engine COMMIT\n"
     ]
    },
    {
     "name": "stderr",
     "output_type": "stream",
     "text": [
      "INFO:sqlalchemy.engine.base.Engine:COMMIT\n"
     ]
    },
    {
     "name": "stdout",
     "output_type": "stream",
     "text": [
      "2016-09-09 23:59:24,725 INFO sqlalchemy.engine.base.Engine \n",
      "CREATE TABLE fulltexts (\n",
      "\tid BIGSERIAL NOT NULL, \n",
      "\tcreated_at TIMESTAMP WITHOUT TIME ZONE DEFAULT (CURRENT_TIMESTAMP AT TIME ZONE 'UTC'), \n",
      "\tstudy_id BIGINT, \n",
      "\tcontent TEXT NOT NULL, \n",
      "\tfilename TEXT, \n",
      "\textracted_info JSONB, \n",
      "\tPRIMARY KEY (id), \n",
      "\tFOREIGN KEY(study_id) REFERENCES studies (id) ON DELETE CASCADE\n",
      ")\n",
      "\n",
      "\n"
     ]
    },
    {
     "name": "stderr",
     "output_type": "stream",
     "text": [
      "INFO:sqlalchemy.engine.base.Engine:\n",
      "CREATE TABLE fulltexts (\n",
      "\tid BIGSERIAL NOT NULL, \n",
      "\tcreated_at TIMESTAMP WITHOUT TIME ZONE DEFAULT (CURRENT_TIMESTAMP AT TIME ZONE 'UTC'), \n",
      "\tstudy_id BIGINT, \n",
      "\tcontent TEXT NOT NULL, \n",
      "\tfilename TEXT, \n",
      "\textracted_info JSONB, \n",
      "\tPRIMARY KEY (id), \n",
      "\tFOREIGN KEY(study_id) REFERENCES studies (id) ON DELETE CASCADE\n",
      ")\n",
      "\n",
      "\n"
     ]
    },
    {
     "name": "stdout",
     "output_type": "stream",
     "text": [
      "2016-09-09 23:59:24,726 INFO sqlalchemy.engine.base.Engine {}\n"
     ]
    },
    {
     "name": "stderr",
     "output_type": "stream",
     "text": [
      "INFO:sqlalchemy.engine.base.Engine:{}\n"
     ]
    },
    {
     "name": "stdout",
     "output_type": "stream",
     "text": [
      "2016-09-09 23:59:24,731 INFO sqlalchemy.engine.base.Engine COMMIT\n"
     ]
    },
    {
     "name": "stderr",
     "output_type": "stream",
     "text": [
      "INFO:sqlalchemy.engine.base.Engine:COMMIT\n"
     ]
    },
    {
     "name": "stdout",
     "output_type": "stream",
     "text": [
      "2016-09-09 23:59:24,732 INFO sqlalchemy.engine.base.Engine CREATE INDEX ix_fulltexts_study_id ON fulltexts (study_id)\n"
     ]
    },
    {
     "name": "stderr",
     "output_type": "stream",
     "text": [
      "INFO:sqlalchemy.engine.base.Engine:CREATE INDEX ix_fulltexts_study_id ON fulltexts (study_id)\n"
     ]
    },
    {
     "name": "stdout",
     "output_type": "stream",
     "text": [
      "2016-09-09 23:59:24,733 INFO sqlalchemy.engine.base.Engine {}\n"
     ]
    },
    {
     "name": "stderr",
     "output_type": "stream",
     "text": [
      "INFO:sqlalchemy.engine.base.Engine:{}\n"
     ]
    },
    {
     "name": "stdout",
     "output_type": "stream",
     "text": [
      "2016-09-09 23:59:24,735 INFO sqlalchemy.engine.base.Engine COMMIT\n"
     ]
    },
    {
     "name": "stderr",
     "output_type": "stream",
     "text": [
      "INFO:sqlalchemy.engine.base.Engine:COMMIT\n"
     ]
    }
   ],
   "source": [
    "%run ../ciapi/reset_db.py"
   ]
  },
  {
   "cell_type": "markdown",
   "metadata": {},
   "source": [
    "---\n",
    "\n",
    "## Add Rows to Database"
   ]
  },
  {
   "cell_type": "markdown",
   "metadata": {},
   "source": [
    "Create new users via `POST` to the `users/` endpoint:"
   ]
  },
  {
   "cell_type": "code",
   "execution_count": 109,
   "metadata": {
    "collapsed": true
   },
   "outputs": [],
   "source": [
    "test = False\n",
    "users_to_post = [\n",
    "    {'name': 'Burton DeWilde', 'email': 'burtdewilde@gmail.com', 'password': 'password', 'test': test},\n",
    "    {'name': 'Ray Shah', 'email': 'rayshah@thinkdesign.com', 'password': 'password', 'test': test},\n",
    "    {'name': 'Caitlin Augustin', 'email': 'caugustin@rsmas.miami.edu', 'password': 'password', 'test': test},\n",
    "    {'name': 'Bob Minnich', 'email': 'rcm2164@columbia.edu', 'password': 'password', 'test': test},\n",
    "    {'name': 'Sam Anzaroot', 'email': 'samanzaroot@gmail.com', 'password': 'password', 'test': test}]"
   ]
  },
  {
   "cell_type": "code",
   "execution_count": 110,
   "metadata": {
    "collapsed": false,
    "scrolled": false
   },
   "outputs": [
    {
     "name": "stdout",
     "output_type": "stream",
     "text": [
      "http://localhost:5000/users\n",
      "{'created_at': '2016-09-10T03:59:26.298284+00:00',\n",
      " 'email': 'burtdewilde@gmail.com',\n",
      " 'id': 1,\n",
      " 'name': 'Burton DeWilde'}\n",
      "http://localhost:5000/users\n",
      "{'created_at': '2016-09-10T03:59:26.572932+00:00',\n",
      " 'email': 'rayshah@thinkdesign.com',\n",
      " 'id': 2,\n",
      " 'name': 'Ray Shah'}\n",
      "http://localhost:5000/users\n",
      "{'created_at': '2016-09-10T03:59:26.854332+00:00',\n",
      " 'email': 'caugustin@rsmas.miami.edu',\n",
      " 'id': 3,\n",
      " 'name': 'Caitlin Augustin'}\n",
      "http://localhost:5000/users\n",
      "{'created_at': '2016-09-10T03:59:27.125658+00:00',\n",
      " 'email': 'rcm2164@columbia.edu',\n",
      " 'id': 4,\n",
      " 'name': 'Bob Minnich'}\n",
      "http://localhost:5000/users\n",
      "{'created_at': '2016-09-10T03:59:27.392752+00:00',\n",
      " 'email': 'samanzaroot@gmail.com',\n",
      " 'id': 5,\n",
      " 'name': 'Sam Anzaroot'}\n"
     ]
    }
   ],
   "source": [
    "for user_to_post in users_to_post:\n",
    "    user = call_endpoint('users', 'post', data=user_to_post)\n",
    "    pprint(user)"
   ]
  },
  {
   "cell_type": "markdown",
   "metadata": {},
   "source": [
    "#### now we can authenticate the current user against existing users"
   ]
  },
  {
   "cell_type": "code",
   "execution_count": 111,
   "metadata": {
    "collapsed": false
   },
   "outputs": [
    {
     "name": "stdout",
     "output_type": "stream",
     "text": [
      "http://localhost:5000/authtoken\n"
     ]
    },
    {
     "data": {
      "text/plain": [
       "('eyJleHAiOjE0NzM0ODE3NjgsImlhdCI6MTQ3MzQ3OTk2OCwiYWxnIjoiSFMyNTYifQ.eyJpZCI6MX0.pBkRlGz9rT-WpaTWbJmBrfpenNgNvOOGt0WGgPRa5I0',\n",
       " None)"
      ]
     },
     "execution_count": 111,
     "metadata": {},
     "output_type": "execute_result"
    }
   ],
   "source": [
    "auth = ('burtdewilde@gmail.com', 'password')\n",
    "# auth = ('rcm2164@columbia.edu', 'password')\n",
    "auth_token = (call_endpoint('authtoken', auth=auth)['token'], None)\n",
    "auth_token"
   ]
  },
  {
   "cell_type": "markdown",
   "metadata": {},
   "source": [
    "Get one or more existing users:"
   ]
  },
  {
   "cell_type": "code",
   "execution_count": 113,
   "metadata": {
    "collapsed": false
   },
   "outputs": [
    {
     "name": "stdout",
     "output_type": "stream",
     "text": [
      "http://localhost:5000/users?email=burtdewilde%40gmail.com\n"
     ]
    },
    {
     "data": {
      "text/plain": [
       "{'created_at': '2016-09-10T03:59:26.298284+00:00',\n",
       " 'email': 'burtdewilde@gmail.com',\n",
       " 'id': 1,\n",
       " 'name': 'Burton DeWilde'}"
      ]
     },
     "execution_count": 113,
     "metadata": {},
     "output_type": "execute_result"
    }
   ],
   "source": [
    "call_endpoint('users', 'get', params={'email': 'burtdewilde@gmail.com'}, auth=auth_token)"
   ]
  },
  {
   "cell_type": "markdown",
   "metadata": {},
   "source": [
    "Update an existing user:"
   ]
  },
  {
   "cell_type": "code",
   "execution_count": 114,
   "metadata": {
    "collapsed": false
   },
   "outputs": [
    {
     "name": "stdout",
     "output_type": "stream",
     "text": [
      "http://localhost:5000/users/1\n"
     ]
    },
    {
     "data": {
      "text/plain": [
       "{'created_at': '2016-09-10T03:59:26.298284+00:00',\n",
       " 'email': 'burtondewilde@gmail.com',\n",
       " 'id': 1,\n",
       " 'name': 'Burton DeWilde'}"
      ]
     },
     "execution_count": 114,
     "metadata": {},
     "output_type": "execute_result"
    }
   ],
   "source": [
    "call_endpoint('users/1', 'put',\n",
    "              data={'email': 'burtondewilde@gmail.com', 'test': False},\n",
    "              auth=auth_token)"
   ]
  },
  {
   "cell_type": "markdown",
   "metadata": {},
   "source": [
    "Create a new review via `POST` to the `reviews/` endpoint:"
   ]
  },
  {
   "cell_type": "code",
   "execution_count": 115,
   "metadata": {
    "collapsed": false
   },
   "outputs": [],
   "source": [
    "test = False\n",
    "reviews_to_post = [\n",
    "    {'name': 'Conservation International Demo',\n",
    "     'description': 'International policy has sought to emphasize and strengthen the link between the conservation of natural ecosystems and human development. Furthermore, international conservation organizations have broadened their objectives beyond nature-based goals to recognize the contribution of conservation interventions in sustaining ecosystem services upon which human populations are dependent. While many indices have been developed to measure various human well-being domains, the strength of evidence to support the effects, both positive and negative, of conservation interventions on human well-being, is still unclear.\\n\\nThis protocol describes the methodology for examining the research question: What are the impacts of nature conservation interventions on different domains of human well-being in developing countries? Using systematic mapping, this study will scope and identify studies that measure the impacts of nature conservation interventions on human well-being at local to regional scales. The primary objective of this study is to synthesize the state and distribution of the existing evidence base linking conservation and human well-being. In addition, a theory of change approach will be used to identify and characterize the causal linkages between conservation and human well-being, with attention on those studies that examine the role of ecosystem services. Key trends among the resulting studies will be synthesized and the range of studies organized and presented in a graphical matrix illustrating the relationships between types of interventions and types of outcomes. Results of the study are intended to help conservation and development practitioners and the academic community to improve research studies and conservation practices in developing countries in order to achieve both conservation and human well-being outcomes.',\n",
    "     'test': test},\n",
    "    {'name': \"Burton's Great Systematic Review\",\n",
    "     'description': 'I do great systematic reviews. Really, really great.',\n",
    "     'test': test}]"
   ]
  },
  {
   "cell_type": "code",
   "execution_count": 116,
   "metadata": {
    "collapsed": false,
    "scrolled": true
   },
   "outputs": [
    {
     "name": "stdout",
     "output_type": "stream",
     "text": [
      "http://localhost:5000/reviews\n",
      "{'created_at': '2016-09-10T03:59:51.300381+00:00',\n",
      " 'description': 'International policy has sought to emphasize and strengthen '\n",
      "                'the link between the conservation of natural ecosystems and '\n",
      "                'human development. Furthermore, international conservation '\n",
      "                'organizations have broadened their objectives beyond '\n",
      "                'nature-based goals to recognize the contribution of '\n",
      "                'conservation interventions in sustaining ecosystem services '\n",
      "                'upon which human populations are dependent. While many '\n",
      "                'indices have been developed to measure various human '\n",
      "                'well-being domains, the strength of evidence to support the '\n",
      "                'effects, both positive and negative, of conservation '\n",
      "                'interventions on human well-being, is still unclear.\\n'\n",
      "                '\\n'\n",
      "                'This protocol describes the methodology for examining the '\n",
      "                'research question: What are the impacts of nature '\n",
      "                'conservation interventions on different domains of human '\n",
      "                'well-being in developing countries? Using systematic mapping, '\n",
      "                'this study will scope and identify studies that measure the '\n",
      "                'impacts of nature conservation interventions on human '\n",
      "                'well-being at local to regional scales. The primary objective '\n",
      "                'of this study is to synthesize the state and distribution of '\n",
      "                'the existing evidence base linking conservation and human '\n",
      "                'well-being. In addition, a theory of change approach will be '\n",
      "                'used to identify and characterize the causal linkages between '\n",
      "                'conservation and human well-being, with attention on those '\n",
      "                'studies that examine the role of ecosystem services. Key '\n",
      "                'trends among the resulting studies will be synthesized and '\n",
      "                'the range of studies organized and presented in a graphical '\n",
      "                'matrix illustrating the relationships between types of '\n",
      "                'interventions and types of outcomes. Results of the study are '\n",
      "                'intended to help conservation and development practitioners '\n",
      "                'and the academic community to improve research studies and '\n",
      "                'conservation practices in developing countries in order to '\n",
      "                'achieve both conservation and human well-being outcomes.',\n",
      " 'id': 1,\n",
      " 'name': 'Conservation International Demo',\n",
      " 'num_citation_screening_reviewers': 1,\n",
      " 'num_fulltext_screening_reviewers': 1,\n",
      " 'owner_user_id': 1,\n",
      " 'status': 'active'}\n",
      "http://localhost:5000/reviews\n",
      "{'created_at': '2016-09-10T03:59:51.318202+00:00',\n",
      " 'description': 'I do great systematic reviews. Really, really great.',\n",
      " 'id': 2,\n",
      " 'name': \"Burton's Great Systematic Review\",\n",
      " 'num_citation_screening_reviewers': 1,\n",
      " 'num_fulltext_screening_reviewers': 1,\n",
      " 'owner_user_id': 1,\n",
      " 'status': 'active'}\n"
     ]
    }
   ],
   "source": [
    "for review_to_post in reviews_to_post:\n",
    "    review = call_endpoint('reviews', 'post', data=review_to_post, auth=auth_token)\n",
    "    pprint(review)"
   ]
  },
  {
   "cell_type": "code",
   "execution_count": 117,
   "metadata": {
    "collapsed": false
   },
   "outputs": [
    {
     "name": "stdout",
     "output_type": "stream",
     "text": [
      "http://localhost:5000/reviews?fields=name\n"
     ]
    },
    {
     "data": {
      "text/plain": [
       "[{'name': 'Conservation International Demo'},\n",
       " {'name': \"Burton's Great Systematic Review\"}]"
      ]
     },
     "execution_count": 117,
     "metadata": {},
     "output_type": "execute_result"
    }
   ],
   "source": [
    "call_endpoint('reviews', 'get', params={'fields': 'name'}, auth=auth_token)"
   ]
  },
  {
   "cell_type": "code",
   "execution_count": 118,
   "metadata": {
    "collapsed": false
   },
   "outputs": [
    {
     "name": "stdout",
     "output_type": "stream",
     "text": [
      "http://localhost:5000/reviews/2\n"
     ]
    },
    {
     "data": {
      "text/plain": [
       "{'created_at': '2016-09-10T03:59:51.318202+00:00',\n",
       " 'description': 'I do great systematic reviews. Really, really great.',\n",
       " 'id': 2,\n",
       " 'name': \"Burton's Greatest Systematic Review\",\n",
       " 'num_citation_screening_reviewers': 1,\n",
       " 'num_fulltext_screening_reviewers': 1,\n",
       " 'owner_user_id': 1,\n",
       " 'status': 'active'}"
      ]
     },
     "execution_count": 118,
     "metadata": {},
     "output_type": "execute_result"
    }
   ],
   "source": [
    "call_endpoint('reviews/2', 'put',\n",
    "              data={'name': \"Burton's Greatest Systematic Review\"}, auth=auth_token)"
   ]
  },
  {
   "cell_type": "code",
   "execution_count": null,
   "metadata": {
    "collapsed": true
   },
   "outputs": [],
   "source": []
  },
  {
   "cell_type": "code",
   "execution_count": null,
   "metadata": {
    "collapsed": true
   },
   "outputs": [],
   "source": []
  },
  {
   "cell_type": "code",
   "execution_count": 135,
   "metadata": {
    "collapsed": false
   },
   "outputs": [],
   "source": [
    "# call_endpoint('reviews', 'get', params={'fields': 'name,created_at'}, auth=auth_token)"
   ]
  },
  {
   "cell_type": "code",
   "execution_count": 134,
   "metadata": {
    "collapsed": false,
    "scrolled": true
   },
   "outputs": [],
   "source": [
    "# call_endpoint('reviews/2', 'delete', data={'test': True}, auth=auth_token)"
   ]
  },
  {
   "cell_type": "code",
   "execution_count": null,
   "metadata": {
    "collapsed": true
   },
   "outputs": [],
   "source": []
  },
  {
   "cell_type": "code",
   "execution_count": null,
   "metadata": {
    "collapsed": false
   },
   "outputs": [],
   "source": []
  },
  {
   "cell_type": "code",
   "execution_count": null,
   "metadata": {
    "collapsed": true
   },
   "outputs": [],
   "source": []
  },
  {
   "cell_type": "code",
   "execution_count": 36,
   "metadata": {
    "collapsed": false
   },
   "outputs": [
    {
     "name": "stdout",
     "output_type": "stream",
     "text": [
      "http://localhost:5000/users?email=burtdewilde%40gmail.com\n"
     ]
    },
    {
     "data": {
      "text/plain": [
       "{'created_at': '2016-09-05T22:38:44.633619+00:00',\n",
       " 'email': 'burtdewilde@gmail.com',\n",
       " 'id': 1,\n",
       " 'name': 'Burton DeWilde'}"
      ]
     },
     "execution_count": 36,
     "metadata": {},
     "output_type": "execute_result"
    }
   ],
   "source": [
    "call_endpoint('users', 'get', params={'email': 'burtdewilde@gmail.com'}, auth=auth_token)"
   ]
  },
  {
   "cell_type": "code",
   "execution_count": 77,
   "metadata": {
    "collapsed": false
   },
   "outputs": [],
   "source": [
    "# call_endpoint('users', 'get', params={'review_id': 1})  # TODO"
   ]
  },
  {
   "cell_type": "code",
   "execution_count": 10,
   "metadata": {
    "collapsed": false
   },
   "outputs": [
    {
     "name": "stderr",
     "output_type": "stream",
     "text": [
      "INFO:requests.packages.urllib3.connectionpool:Resetting dropped connection: localhost\n"
     ]
    },
    {
     "name": "stdout",
     "output_type": "stream",
     "text": [
      "http://localhost:5000/users/1?fields=name\n"
     ]
    },
    {
     "data": {
      "text/plain": [
       "{'name': 'Burton DeWilde'}"
      ]
     },
     "execution_count": 10,
     "metadata": {},
     "output_type": "execute_result"
    }
   ],
   "source": [
    "call_endpoint('users/1', 'get', params={'fields': 'name'}, auth=auth)"
   ]
  },
  {
   "cell_type": "code",
   "execution_count": 11,
   "metadata": {
    "collapsed": false
   },
   "outputs": [
    {
     "name": "stderr",
     "output_type": "stream",
     "text": [
      "INFO:requests.packages.urllib3.connectionpool:Resetting dropped connection: localhost\n"
     ]
    },
    {
     "name": "stdout",
     "output_type": "stream",
     "text": [
      "http://localhost:5000/users/1?test=False\n"
     ]
    },
    {
     "ename": "HTTPError",
     "evalue": "500 Server Error: INTERNAL SERVER ERROR for url: http://localhost:5000/users/1?test=False",
     "output_type": "error",
     "traceback": [
      "\u001b[0;31m---------------------------------------------------------------------------\u001b[0m",
      "\u001b[0;31mHTTPError\u001b[0m                                 Traceback (most recent call last)",
      "\u001b[0;32m<ipython-input-11-06c7d16a711a>\u001b[0m in \u001b[0;36m<module>\u001b[0;34m()\u001b[0m\n\u001b[0;32m----> 1\u001b[0;31m \u001b[0mcall_endpoint\u001b[0m\u001b[0;34m(\u001b[0m\u001b[0;34m'users/1'\u001b[0m\u001b[0;34m,\u001b[0m \u001b[0;34m'delete'\u001b[0m\u001b[0;34m,\u001b[0m \u001b[0mparams\u001b[0m\u001b[0;34m=\u001b[0m\u001b[0;34m{\u001b[0m\u001b[0;34m'test'\u001b[0m\u001b[0;34m:\u001b[0m \u001b[0;32mFalse\u001b[0m\u001b[0;34m}\u001b[0m\u001b[0;34m)\u001b[0m\u001b[0;34m\u001b[0m\u001b[0m\n\u001b[0m",
      "\u001b[0;32m<ipython-input-2-0af9c0062198>\u001b[0m in \u001b[0;36mcall_endpoint\u001b[0;34m(endpoint, method, headers, params, data, auth)\u001b[0m\n\u001b[1;32m      5\u001b[0m                             headers=headers, params=params, data=data, auth=auth)\n\u001b[1;32m      6\u001b[0m     \u001b[0mprint\u001b[0m\u001b[0;34m(\u001b[0m\u001b[0mresponse\u001b[0m\u001b[0;34m.\u001b[0m\u001b[0murl\u001b[0m\u001b[0;34m)\u001b[0m\u001b[0;34m\u001b[0m\u001b[0m\n\u001b[0;32m----> 7\u001b[0;31m     \u001b[0mresponse\u001b[0m\u001b[0;34m.\u001b[0m\u001b[0mraise_for_status\u001b[0m\u001b[0;34m(\u001b[0m\u001b[0;34m)\u001b[0m\u001b[0;34m\u001b[0m\u001b[0m\n\u001b[0m\u001b[1;32m      8\u001b[0m     \u001b[0;32mreturn\u001b[0m \u001b[0mresponse\u001b[0m\u001b[0;34m.\u001b[0m\u001b[0mjson\u001b[0m\u001b[0;34m(\u001b[0m\u001b[0;34m)\u001b[0m\u001b[0;34m\u001b[0m\u001b[0m\n",
      "\u001b[0;32m/Users/burtondewilde/.pyenv/versions/3.5.2/lib/python3.5/site-packages/requests/models.py\u001b[0m in \u001b[0;36mraise_for_status\u001b[0;34m(self)\u001b[0m\n\u001b[1;32m    860\u001b[0m \u001b[0;34m\u001b[0m\u001b[0m\n\u001b[1;32m    861\u001b[0m         \u001b[0;32mif\u001b[0m \u001b[0mhttp_error_msg\u001b[0m\u001b[0;34m:\u001b[0m\u001b[0;34m\u001b[0m\u001b[0m\n\u001b[0;32m--> 862\u001b[0;31m             \u001b[0;32mraise\u001b[0m \u001b[0mHTTPError\u001b[0m\u001b[0;34m(\u001b[0m\u001b[0mhttp_error_msg\u001b[0m\u001b[0;34m,\u001b[0m \u001b[0mresponse\u001b[0m\u001b[0;34m=\u001b[0m\u001b[0mself\u001b[0m\u001b[0;34m)\u001b[0m\u001b[0;34m\u001b[0m\u001b[0m\n\u001b[0m\u001b[1;32m    863\u001b[0m \u001b[0;34m\u001b[0m\u001b[0m\n\u001b[1;32m    864\u001b[0m     \u001b[0;32mdef\u001b[0m \u001b[0mclose\u001b[0m\u001b[0;34m(\u001b[0m\u001b[0mself\u001b[0m\u001b[0;34m)\u001b[0m\u001b[0;34m:\u001b[0m\u001b[0;34m\u001b[0m\u001b[0m\n",
      "\u001b[0;31mHTTPError\u001b[0m: 500 Server Error: INTERNAL SERVER ERROR for url: http://localhost:5000/users/1?test=False"
     ]
    }
   ],
   "source": [
    "call_endpoint('users/1', 'delete', params={'test': False})"
   ]
  },
  {
   "cell_type": "markdown",
   "metadata": {},
   "source": [
    "---\n",
    "\n",
    "## Reviews"
   ]
  },
  {
   "cell_type": "code",
   "execution_count": 89,
   "metadata": {
    "collapsed": true
   },
   "outputs": [],
   "source": []
  },
  {
   "cell_type": "code",
   "execution_count": null,
   "metadata": {
    "collapsed": true
   },
   "outputs": [],
   "source": []
  },
  {
   "cell_type": "code",
   "execution_count": null,
   "metadata": {
    "collapsed": true
   },
   "outputs": [],
   "source": []
  },
  {
   "cell_type": "code",
   "execution_count": null,
   "metadata": {
    "collapsed": true
   },
   "outputs": [],
   "source": []
  },
  {
   "cell_type": "code",
   "execution_count": null,
   "metadata": {
    "collapsed": true
   },
   "outputs": [],
   "source": []
  },
  {
   "cell_type": "markdown",
   "metadata": {},
   "source": [
    "#### LOGIN"
   ]
  },
  {
   "cell_type": "code",
   "execution_count": 5,
   "metadata": {
    "collapsed": false,
    "scrolled": false
   },
   "outputs": [
    {
     "name": "stdout",
     "output_type": "stream",
     "text": [
      "http://localhost:5000/login\n"
     ]
    },
    {
     "data": {
      "text/plain": [
       "{'email': 'burtdewilde@gmail.com',\n",
       " 'name': 'Burton DeWilde',\n",
       " 'owned_review_ids': [1],\n",
       " 'review_ids': [1],\n",
       " 'user_id': 1}"
      ]
     },
     "execution_count": 5,
     "metadata": {},
     "output_type": "execute_result"
    }
   ],
   "source": [
    "call_endpoint('login', auth=('burtdewilde@gmail.com', 'test'))"
   ]
  },
  {
   "cell_type": "code",
   "execution_count": 6,
   "metadata": {
    "collapsed": false
   },
   "outputs": [
    {
     "name": "stdout",
     "output_type": "stream",
     "text": [
      "http://localhost:5000/users/1\n"
     ]
    },
    {
     "data": {
      "text/plain": [
       "{'created_ts': '2016-07-07T17:56:07+00:00',\n",
       " 'email': 'burtdewilde@gmail.com',\n",
       " 'name': 'Burton DeWilde',\n",
       " 'owned_review_ids': [1],\n",
       " 'review_ids': [1],\n",
       " 'user_id': 1}"
      ]
     },
     "execution_count": 6,
     "metadata": {},
     "output_type": "execute_result"
    }
   ],
   "source": [
    "call_endpoint('users/1', 'get')"
   ]
  },
  {
   "cell_type": "code",
   "execution_count": 7,
   "metadata": {
    "collapsed": false
   },
   "outputs": [
    {
     "name": "stdout",
     "output_type": "stream",
     "text": [
      "http://localhost:5000/users/2\n"
     ]
    },
    {
     "ename": "HTTPError",
     "evalue": "500 Server Error: INTERNAL SERVER ERROR for url: http://localhost:5000/users/2",
     "output_type": "error",
     "traceback": [
      "\u001b[0;31m---------------------------------------------------------------------------\u001b[0m",
      "\u001b[0;31mHTTPError\u001b[0m                                 Traceback (most recent call last)",
      "\u001b[0;32m<ipython-input-7-b85813d52be9>\u001b[0m in \u001b[0;36m<module>\u001b[0;34m()\u001b[0m\n\u001b[0;32m----> 1\u001b[0;31m \u001b[0mcall_endpoint\u001b[0m\u001b[0;34m(\u001b[0m\u001b[0;34m'users/2'\u001b[0m\u001b[0;34m,\u001b[0m \u001b[0;34m'get'\u001b[0m\u001b[0;34m)\u001b[0m\u001b[0;34m\u001b[0m\u001b[0m\n\u001b[0m",
      "\u001b[0;32m<ipython-input-2-0af9c0062198>\u001b[0m in \u001b[0;36mcall_endpoint\u001b[0;34m(endpoint, method, headers, params, data, auth)\u001b[0m\n\u001b[1;32m      5\u001b[0m                             headers=headers, params=params, data=data, auth=auth)\n\u001b[1;32m      6\u001b[0m     \u001b[0mprint\u001b[0m\u001b[0;34m(\u001b[0m\u001b[0mresponse\u001b[0m\u001b[0;34m.\u001b[0m\u001b[0murl\u001b[0m\u001b[0;34m)\u001b[0m\u001b[0;34m\u001b[0m\u001b[0m\n\u001b[0;32m----> 7\u001b[0;31m     \u001b[0mresponse\u001b[0m\u001b[0;34m.\u001b[0m\u001b[0mraise_for_status\u001b[0m\u001b[0;34m(\u001b[0m\u001b[0;34m)\u001b[0m\u001b[0;34m\u001b[0m\u001b[0m\n\u001b[0m\u001b[1;32m      8\u001b[0m     \u001b[0;32mreturn\u001b[0m \u001b[0mresponse\u001b[0m\u001b[0;34m.\u001b[0m\u001b[0mjson\u001b[0m\u001b[0;34m(\u001b[0m\u001b[0;34m)\u001b[0m\u001b[0;34m\u001b[0m\u001b[0m\n",
      "\u001b[0;32m/Users/burtondewilde/.pyenv/versions/3.5.2/lib/python3.5/site-packages/requests/models.py\u001b[0m in \u001b[0;36mraise_for_status\u001b[0;34m(self)\u001b[0m\n\u001b[1;32m    860\u001b[0m \u001b[0;34m\u001b[0m\u001b[0m\n\u001b[1;32m    861\u001b[0m         \u001b[0;32mif\u001b[0m \u001b[0mhttp_error_msg\u001b[0m\u001b[0;34m:\u001b[0m\u001b[0;34m\u001b[0m\u001b[0m\n\u001b[0;32m--> 862\u001b[0;31m             \u001b[0;32mraise\u001b[0m \u001b[0mHTTPError\u001b[0m\u001b[0;34m(\u001b[0m\u001b[0mhttp_error_msg\u001b[0m\u001b[0;34m,\u001b[0m \u001b[0mresponse\u001b[0m\u001b[0;34m=\u001b[0m\u001b[0mself\u001b[0m\u001b[0;34m)\u001b[0m\u001b[0;34m\u001b[0m\u001b[0m\n\u001b[0m\u001b[1;32m    863\u001b[0m \u001b[0;34m\u001b[0m\u001b[0m\n\u001b[1;32m    864\u001b[0m     \u001b[0;32mdef\u001b[0m \u001b[0mclose\u001b[0m\u001b[0;34m(\u001b[0m\u001b[0mself\u001b[0m\u001b[0;34m)\u001b[0m\u001b[0;34m:\u001b[0m\u001b[0;34m\u001b[0m\u001b[0m\n",
      "\u001b[0;31mHTTPError\u001b[0m: 500 Server Error: INTERNAL SERVER ERROR for url: http://localhost:5000/users/2"
     ]
    }
   ],
   "source": [
    "call_endpoint('users/2', 'get')"
   ]
  },
  {
   "cell_type": "code",
   "execution_count": 27,
   "metadata": {
    "collapsed": false,
    "scrolled": true
   },
   "outputs": [
    {
     "name": "stdout",
     "output_type": "stream",
     "text": [
      "http://localhost:5000/users\n"
     ]
    },
    {
     "data": {
      "text/plain": [
       "{'email': 'rayshah@thinkdesign.com',\n",
       " 'name': 'Ray Shah',\n",
       " 'owned_review_ids': None,\n",
       " 'password': 'test',\n",
       " 'review_ids': None}"
      ]
     },
     "execution_count": 27,
     "metadata": {},
     "output_type": "execute_result"
    }
   ],
   "source": [
    "call_endpoint('users', 'post',\n",
    "              data={'name': 'Ray Shah',\n",
    "                    'email': 'rayshah@thinkdesign.com',\n",
    "                    'password': 'test',\n",
    "                    'review_ids': None,\n",
    "                    'owned_review_ids': None,\n",
    "                    'test': True})"
   ]
  },
  {
   "cell_type": "code",
   "execution_count": 10,
   "metadata": {
    "collapsed": false
   },
   "outputs": [
    {
     "name": "stdout",
     "output_type": "stream",
     "text": [
      "http://localhost:5000/users/1\n"
     ]
    }
   ],
   "source": [
    "call_endpoint('users/1', 'delete',\n",
    "              data={'test': True})"
   ]
  },
  {
   "cell_type": "code",
   "execution_count": 51,
   "metadata": {
    "collapsed": false,
    "scrolled": false
   },
   "outputs": [
    {
     "name": "stdout",
     "output_type": "stream",
     "text": [
      "http://localhost:5000/reviews\n"
     ]
    },
    {
     "data": {
      "text/plain": [
       "{'description': 'foo bar bat baz',\n",
       " 'name': 'My Great Review',\n",
       " 'owner_user_id': 1,\n",
       " 'settings': '{\"num_citation_screening_reviewers\": 2, \"required_citation_screener_id\": null, \"num_fulltext_screening_reviewers\": 2, \"required_fulltext_screener_id\": null}',\n",
       " 'user_ids': [1]}"
      ]
     },
     "execution_count": 51,
     "metadata": {},
     "output_type": "execute_result"
    }
   ],
   "source": [
    "call_endpoint('reviews', 'post',\n",
    "              data={'name': 'My Great Review',\n",
    "                    'description': 'foo bar bat baz',\n",
    "                    'test': True})"
   ]
  },
  {
   "cell_type": "code",
   "execution_count": 58,
   "metadata": {
    "collapsed": false
   },
   "outputs": [
    {
     "name": "stdout",
     "output_type": "stream",
     "text": [
      "http://localhost:5000/reviews/1?test=True\n"
     ]
    }
   ],
   "source": [
    "call_endpoint('reviews/1', 'delete',\n",
    "              params={'test': True})"
   ]
  },
  {
   "cell_type": "code",
   "execution_count": 60,
   "metadata": {
    "collapsed": false
   },
   "outputs": [
    {
     "name": "stdout",
     "output_type": "stream",
     "text": [
      "http://localhost:5000/users/6\n"
     ]
    },
    {
     "data": {
      "text/plain": [
       "6"
      ]
     },
     "execution_count": 60,
     "metadata": {},
     "output_type": "execute_result"
    }
   ],
   "source": [
    "call_endpoint('users/6', 'delete')"
   ]
  },
  {
   "cell_type": "code",
   "execution_count": 12,
   "metadata": {
    "collapsed": false
   },
   "outputs": [
    {
     "name": "stdout",
     "output_type": "stream",
     "text": [
      "http://localhost:5000/reviews/1\n"
     ]
    },
    {
     "data": {
      "text/plain": [
       "{'created_ts': 'Wed, 13 Jul 2016 01:40:27 GMT',\n",
       " 'description': 'International policy has sought to emphasize and strengthen the link between the conservation of natural ecosystems and human development. Furthermore, international conservation organizations have broadened their objectives beyond nature-based goals to recognize the contribution of conservation interventions in sustaining ecosystem services upon which human populations are dependent. While many indices have been developed to measure various human well-being domains, the strength of evidence to support the effects, both positive and negative, of conservation interventions on human well-being, is still unclear.\\\\n\\\\nThis protocol describes the methodology for examining the research question: What are the impacts of nature conservation interventions on different domains of human well-being in developing countries? Using systematic mapping, this study will scope and identify studies that measure the impacts of nature conservation interventions on human well-being at local to regional scales. The primary objective of this study is to synthesize the state and distribution of the existing evidence base linking conservation and human well-being. In addition, a theory of change approach will be used to identify and characterize the causal linkages between conservation and human well-being, with attention on those studies that examine the role of ecosystem services. Key trends among the resulting studies will be synthesized and the range of studies organized and presented in a graphical matrix illustrating the relationships between types of interventions and types of outcomes. Results of the study are intended to help conservation and development practitioners and the academic community to improve research studies and conservation practices in developing countries in order to achieve both conservation and human well-being outcomes.',\n",
       " 'name': 'Conservation International demo',\n",
       " 'owner_user_id': 1,\n",
       " 'review_id': 1,\n",
       " 'user_ids': [1]}"
      ]
     },
     "execution_count": 12,
     "metadata": {},
     "output_type": "execute_result"
    }
   ],
   "source": [
    "call_endpoint('reviews/1')"
   ]
  },
  {
   "cell_type": "code",
   "execution_count": null,
   "metadata": {
    "collapsed": true
   },
   "outputs": [],
   "source": []
  }
 ],
 "metadata": {
  "kernelspec": {
   "display_name": "Python 3",
   "language": "python",
   "name": "python3"
  },
  "language_info": {
   "codemirror_mode": {
    "name": "ipython",
    "version": 3
   },
   "file_extension": ".py",
   "mimetype": "text/x-python",
   "name": "python",
   "nbconvert_exporter": "python",
   "pygments_lexer": "ipython3",
   "version": "3.5.2"
  }
 },
 "nbformat": 4,
 "nbformat_minor": 1
}
