{
 "cells": [
  {
   "cell_type": "code",
   "execution_count": 4,
   "metadata": {
    "collapsed": false
   },
   "outputs": [],
   "source": [
    "import json\n",
    "import logging\n",
    "import math\n",
    "import re\n",
    "\n",
    "import numpy as np\n",
    "import pandas as pd\n",
    "from toolz import itertoolz\n",
    "\n",
    "import cipy\n",
    "import textacy"
   ]
  },
  {
   "cell_type": "code",
   "execution_count": 5,
   "metadata": {
    "collapsed": true
   },
   "outputs": [],
   "source": [
    "logger = logging.getLogger('cipy')\n",
    "logger.setLevel(logging.DEBUG)"
   ]
  },
  {
   "cell_type": "code",
   "execution_count": 6,
   "metadata": {
    "collapsed": false
   },
   "outputs": [],
   "source": [
    "conn_creds = cipy.db.get_conn_creds('DATABASE_URL')\n",
    "citations_db = cipy.db.PostgresDB(conn_creds, ddl='citations')"
   ]
  },
  {
   "cell_type": "code",
   "execution_count": 7,
   "metadata": {
    "collapsed": false
   },
   "outputs": [
    {
     "data": {
      "text/plain": [
       "0"
      ]
     },
     "execution_count": 7,
     "metadata": {},
     "output_type": "execute_result"
    }
   ],
   "source": [
    "project_id = cipy.hack.get_project_id()\n",
    "project_id"
   ]
  },
  {
   "cell_type": "code",
   "execution_count": 83,
   "metadata": {
    "collapsed": false
   },
   "outputs": [],
   "source": [
    "query = \"\"\"\n",
    "SELECT\n",
    "    citation_id,\n",
    "    TRIM('\\n' FROM concat_ws('\\n\\n', COALESCE(title, ''),\n",
    "                   COALESCE(abstract, ''),\n",
    "                   COALESCE(array_to_string(keywords, ', '), ''))) AS citation_text\n",
    "FROM citations\n",
    "WHERE\n",
    "    project_id = %(project_id)s\n",
    "    AND (citation_id NOT IN (SELECT citation_id FROM duplicates)\n",
    "         OR citation_id IN (SELECT canonical_citation_id FROM duplicates))\n",
    "ORDER BY random()\n",
    "LIMIT 1000\n",
    "\"\"\"\n",
    "\n",
    "df = pd.DataFrame(citations_db.run_query(query, {'project_id': project_id}))"
   ]
  },
  {
   "cell_type": "code",
   "execution_count": 84,
   "metadata": {
    "collapsed": false
   },
   "outputs": [
    {
     "name": "stdout",
     "output_type": "stream",
     "text": [
      "(1000, 2)\n"
     ]
    },
    {
     "data": {
      "text/html": [
       "<div>\n",
       "<table border=\"1\" class=\"dataframe\">\n",
       "  <thead>\n",
       "    <tr style=\"text-align: right;\">\n",
       "      <th></th>\n",
       "      <th>citation_id</th>\n",
       "      <th>citation_text</th>\n",
       "    </tr>\n",
       "  </thead>\n",
       "  <tbody>\n",
       "    <tr>\n",
       "      <th>0</th>\n",
       "      <td>25677</td>\n",
       "      <td>Adaptation opportunities to climate variabilit...</td>\n",
       "    </tr>\n",
       "    <tr>\n",
       "      <th>1</th>\n",
       "      <td>16609</td>\n",
       "      <td>An ecological economics framework for assessin...</td>\n",
       "    </tr>\n",
       "    <tr>\n",
       "      <th>2</th>\n",
       "      <td>11203</td>\n",
       "      <td>Consuming fuel and fuelling consumption: Model...</td>\n",
       "    </tr>\n",
       "    <tr>\n",
       "      <th>3</th>\n",
       "      <td>16249</td>\n",
       "      <td>An assessment of the recreational fishery in t...</td>\n",
       "    </tr>\n",
       "    <tr>\n",
       "      <th>4</th>\n",
       "      <td>9489</td>\n",
       "      <td>A model of underlying socioeconomic vulnerabil...</td>\n",
       "    </tr>\n",
       "  </tbody>\n",
       "</table>\n",
       "</div>"
      ],
      "text/plain": [
       "   citation_id                                      citation_text\n",
       "0        25677  Adaptation opportunities to climate variabilit...\n",
       "1        16609  An ecological economics framework for assessin...\n",
       "2        11203  Consuming fuel and fuelling consumption: Model...\n",
       "3        16249  An assessment of the recreational fishery in t...\n",
       "4         9489  A model of underlying socioeconomic vulnerabil..."
      ]
     },
     "execution_count": 84,
     "metadata": {},
     "output_type": "execute_result"
    }
   ],
   "source": [
    "print(df.shape)\n",
    "df.head()"
   ]
  },
  {
   "cell_type": "code",
   "execution_count": 86,
   "metadata": {
    "collapsed": false
   },
   "outputs": [
    {
     "name": "stdout",
     "output_type": "stream",
     "text": [
      "A model of underlying socioeconomic vulnerability in human populations: Evidence from variability in population health and implications for public health\n",
      "\n",
      "Drawing from insights into the variability of complex biologic systems we propose that the health of human populations reflects the interrelationship between underlying vulnerabilities (determined by population-level social and economic factors; e.g., income distribution) and capacities (determined by population-level salutary resources, e.g., social capital) and how populations, shaped by these vulnerabilities and capacities, respond to intermittent stressors (e.g., economic downturns) and protective events (e.g., introduction of a school). Monitoring this dynamic at the population-level can be accomplished by examining not only rates of illness and mortality, but variability in rates, either between populations or within populations over time. We used mortality data from New York City neighborhoods between 1990 and 2001 to test two related hypotheses consistent with this model of population health: (a) There is greater variability in mortality rates at a point in time between neighborhoods that are characterized by socioeconomic vulnerability; and (b) there is greater variability in mortality rates over time within neighborhoods that are characterized by socioeconomic vulnerability. We found that neighborhoods characterized by social and economic vulnerability displayed substantial variability in particular mortality rates. Mortality rates displaying the greatest variability were from causes that may be sensitive to social conditions (e.g., homicide or HIV/AIDS rates). Variability in population health existed both between neighborhoods with underlying vulnerability at one point in time and within vulnerable neighborhoods over time. The results of this analysis are consistent with a theory of underlying socioeconomic vulnerabilities of human populations and suggest that variability in population health may be an important consideration in population health assessment. © 2004 Elsevier Ltd. All rights reserved.\n",
      "\n",
      "Ecology, Neighborhood, Population health, USA, Variability, Vulnerability\n"
     ]
    }
   ],
   "source": [
    "print(df.ix[4, 'citation_text'])"
   ]
  },
  {
   "cell_type": "code",
   "execution_count": 9,
   "metadata": {
    "collapsed": false
   },
   "outputs": [
    {
     "name": "stdout",
     "output_type": "stream",
     "text": [
      "(1000, 2)\n"
     ]
    },
    {
     "data": {
      "text/html": [
       "<div>\n",
       "<table border=\"1\" class=\"dataframe\">\n",
       "  <thead>\n",
       "    <tr style=\"text-align: right;\">\n",
       "      <th></th>\n",
       "      <th>citation_id</th>\n",
       "      <th>citation_text</th>\n",
       "    </tr>\n",
       "  </thead>\n",
       "  <tbody>\n",
       "    <tr>\n",
       "      <th>0</th>\n",
       "      <td>9005</td>\n",
       "      <td>Emerging fungal threats to animal, plant and e...</td>\n",
       "    </tr>\n",
       "    <tr>\n",
       "      <th>1</th>\n",
       "      <td>24206</td>\n",
       "      <td>The relation of lipid peroxidation processes w...</td>\n",
       "    </tr>\n",
       "    <tr>\n",
       "      <th>2</th>\n",
       "      <td>12076</td>\n",
       "      <td>Geochemical barriers and element retention in ...</td>\n",
       "    </tr>\n",
       "    <tr>\n",
       "      <th>3</th>\n",
       "      <td>3625</td>\n",
       "      <td>Assessing sustainable forest management under ...</td>\n",
       "    </tr>\n",
       "    <tr>\n",
       "      <th>4</th>\n",
       "      <td>7694</td>\n",
       "      <td>The role of the education system and on-the-jo...</td>\n",
       "    </tr>\n",
       "  </tbody>\n",
       "</table>\n",
       "</div>"
      ],
      "text/plain": [
       "   citation_id                                      citation_text\n",
       "0         9005  Emerging fungal threats to animal, plant and e...\n",
       "1        24206  The relation of lipid peroxidation processes w...\n",
       "2        12076  Geochemical barriers and element retention in ...\n",
       "3         3625  Assessing sustainable forest management under ...\n",
       "4         7694  The role of the education system and on-the-jo..."
      ]
     },
     "execution_count": 9,
     "metadata": {},
     "output_type": "execute_result"
    }
   ],
   "source": [
    "results = citations_db.run_query(\n",
    "    cipy.db.queries.GET_CITATION_TEXTS_SAMPLE, {'project_id': project_id})\n",
    "df = pd.DataFrame(results)\n",
    "print(df.shape)\n",
    "df.head()"
   ]
  },
  {
   "cell_type": "code",
   "execution_count": 87,
   "metadata": {
    "collapsed": false
   },
   "outputs": [
    {
     "data": {
      "text/plain": [
       "re.compile(r'(?<=^|\\b)(perception*?|vulnerability|clean water|well\\-being|resilience*?|skill*?|ecosystem service*?|empower*?|well being|(human )?health*?|food security|(traditional)? knowledge|attitude*?|nutrition|human capital|wellbeing|livelihood*?|social capital|management|awareness|conserve|protect*?|conservation|law*?|train*?|capacity\\-build*?|reserve*?|regulation|govern*?|policy*?|sustainable use|ecotourism|conservancy|PES|payment for ecosystem services|people|collaborative|household*?|human*?|fisher*?|communit*?|person*?|forest*?|freshwater|ecolog*?|marine|ecosystem*?|natural resource*?|integrated|landscape|seascape|biodiversity|coastal|sustainab*?|species|coral reef*?|habitat*?)(?=$|\\b)',\n",
       "re.IGNORECASE|re.UNICODE)"
      ]
     },
     "execution_count": 87,
     "metadata": {},
     "output_type": "execute_result"
    }
   ],
   "source": [
    "keyterms = {'intervention': {'conservation', 'conserve', 'conservancy',\n",
    "                             'protect*', 'management', 'awareness', 'law*',\n",
    "                             'policy*', 'reserve*', 'govern*', 'capacity\\-build*',\n",
    "                             'train*', 'regulation', 'payment for ecosystem services', 'PES',\n",
    "                             'ecotourism', 'sustainable use'},\n",
    "            'outcome': {'wellbeing', 'well\\-being', 'well being', 'ecosystem service*',\n",
    "                        'nutrition', 'skill*', 'empower*', 'clean water', 'livelihood*',\n",
    "                        'food security', 'resilience*', 'vulnerability', 'social capital',\n",
    "                        'attitude*', 'perception*', '(human )?health*', 'human capital',\n",
    "                        '(traditional )?knowledge'},\n",
    "            'intervention_qualifiers': {'marine', 'freshwater', 'coastal', 'forest*',\n",
    "                                        'ecosystem*', 'species', 'habitat*', 'biodiversity',\n",
    "                                        'sustainab*', 'ecolog*', 'integrated', 'landscape',\n",
    "                                        'seascape', 'coral reef*', 'natural resource*'},\n",
    "            'outcome_qualifiers': {'human*', 'people', 'person*', 'communit*',\n",
    "                                   'household*', 'fisher*', 'collaborative'}\n",
    "            }\n",
    "\n",
    "keyterms_joined = '|'.join(val.replace('*', '*?')\n",
    "                           for vals in keyterms.values()\n",
    "                           for val in vals)\n",
    "keyterms_re = re.compile(r'(?<=^|\\b)(' + keyterms_joined + r')(?=$|\\b)', flags=re.IGNORECASE)\n",
    "keyterms_re"
   ]
  },
  {
   "cell_type": "code",
   "execution_count": 126,
   "metadata": {
    "collapsed": false
   },
   "outputs": [],
   "source": [
    "def get_regex_match_score(citation_text, len_pow_scaling=0.33):\n",
    "    try:\n",
    "        return (math.pow(len(citation_text), len_pow_scaling)\n",
    "                * sum(len(match.group()) for match in keyterms_re.finditer(citation_text))\n",
    "                / len(citation_text))\n",
    "    except ZeroDivisionError:\n",
    "        return 0.0\n",
    "\n",
    "df['regex_match_score'] = df['citation_text'].map(lambda x: get_regex_match_score(x))\n",
    "df['regex_match_pctrank'] = df['regex_match_score'].rank(pct=True, ascending=True)\n",
    "df.sort_values('regex_match_pctrank', inplace=True, ascending=False)"
   ]
  },
  {
   "cell_type": "code",
   "execution_count": 127,
   "metadata": {
    "collapsed": false
   },
   "outputs": [
    {
     "data": {
      "text/html": [
       "<div>\n",
       "<table border=\"1\" class=\"dataframe\">\n",
       "  <thead>\n",
       "    <tr style=\"text-align: right;\">\n",
       "      <th></th>\n",
       "      <th>citation_id</th>\n",
       "      <th>citation_text</th>\n",
       "      <th>match_fraction</th>\n",
       "      <th>match_fraction_pctrank</th>\n",
       "      <th>regex_match_score</th>\n",
       "      <th>regex_match_pctrank</th>\n",
       "    </tr>\n",
       "  </thead>\n",
       "  <tbody>\n",
       "    <tr>\n",
       "      <th>192</th>\n",
       "      <td>15153</td>\n",
       "      <td>Ecological protection and well-being\\n\\nBased ...</td>\n",
       "      <td>0.238359</td>\n",
       "      <td>0.999</td>\n",
       "      <td>2.251387</td>\n",
       "      <td>1.000</td>\n",
       "    </tr>\n",
       "    <tr>\n",
       "      <th>739</th>\n",
       "      <td>12152</td>\n",
       "      <td>The potential impact of labor choices on the e...</td>\n",
       "      <td>0.193053</td>\n",
       "      <td>0.997</td>\n",
       "      <td>2.155258</td>\n",
       "      <td>0.999</td>\n",
       "    </tr>\n",
       "    <tr>\n",
       "      <th>575</th>\n",
       "      <td>7511</td>\n",
       "      <td>Biodiversity loss threatens human well-being</td>\n",
       "      <td>0.613636</td>\n",
       "      <td>1.000</td>\n",
       "      <td>2.139195</td>\n",
       "      <td>0.998</td>\n",
       "    </tr>\n",
       "    <tr>\n",
       "      <th>194</th>\n",
       "      <td>23493</td>\n",
       "      <td>Integrating Vulnerability Into Estuarine Conse...</td>\n",
       "      <td>0.180851</td>\n",
       "      <td>0.995</td>\n",
       "      <td>2.102293</td>\n",
       "      <td>0.997</td>\n",
       "    </tr>\n",
       "    <tr>\n",
       "      <th>261</th>\n",
       "      <td>25340</td>\n",
       "      <td>Role of social capital in determining conserva...</td>\n",
       "      <td>0.191740</td>\n",
       "      <td>0.996</td>\n",
       "      <td>2.071855</td>\n",
       "      <td>0.996</td>\n",
       "    </tr>\n",
       "  </tbody>\n",
       "</table>\n",
       "</div>"
      ],
      "text/plain": [
       "     citation_id                                      citation_text  \\\n",
       "192        15153  Ecological protection and well-being\\n\\nBased ...   \n",
       "739        12152  The potential impact of labor choices on the e...   \n",
       "575         7511       Biodiversity loss threatens human well-being   \n",
       "194        23493  Integrating Vulnerability Into Estuarine Conse...   \n",
       "261        25340  Role of social capital in determining conserva...   \n",
       "\n",
       "     match_fraction  match_fraction_pctrank  regex_match_score  \\\n",
       "192        0.238359                   0.999           2.251387   \n",
       "739        0.193053                   0.997           2.155258   \n",
       "575        0.613636                   1.000           2.139195   \n",
       "194        0.180851                   0.995           2.102293   \n",
       "261        0.191740                   0.996           2.071855   \n",
       "\n",
       "     regex_match_pctrank  \n",
       "192                1.000  \n",
       "739                0.999  \n",
       "575                0.998  \n",
       "194                0.997  \n",
       "261                0.996  "
      ]
     },
     "execution_count": 127,
     "metadata": {},
     "output_type": "execute_result"
    }
   ],
   "source": [
    "df.head()"
   ]
  },
  {
   "cell_type": "code",
   "execution_count": 131,
   "metadata": {
    "collapsed": false,
    "scrolled": true
   },
   "outputs": [
    {
     "name": "stdout",
     "output_type": "stream",
     "text": [
      "[15153\n",
      " \"Ecological protection and well-being\\n\\nBased on Sen's function approach, this paper stated the connotation of the well-being, and defined that the freedom choice and capability of the human is the connotation of the human well-being on ecosystem services, while the poverty is the limited for capability and development of the human. Ecosystem degradation and destruction will seriously threat to human well-being, especially the well-being of the poor. Conservation of biodiversity can contribute to the protection of ecosystem services, which as the core of the ecosystem, and then improve the well-being of human. Focused on the well-being of the poor whom strongly dependent on ecosystem services and effective implemented ecological compensation, that can achieve a win-win between ecological protection and human well-being improvement.\\n\\nBiodiversity, Ecosystem services, Human well-being, Poverty\"]\n",
      "[19973\n",
      " \"The economic value of forest ecosystems\\n\\nForest ecosystems are being degraded and lost because of rapid population change and economic incentives that make forest conversion appear more profitable than forest conservation. All ecological functions of forests are also economic functions. Many important forest functions have no markets, and hence, no apparent economic value, justifying the use of forest land for other purposes. Imputing economic values to nonmarketed benefits has the potential to change radically the way we look at all forests and to make the pendulum swing back from a presumption in favor of forest conversion to more conservation and sustainable use. This paper surveys what we know about forest economic values and draws policy conclusions from the now substantial literature that values nonmarket benefits of forests. Estimating economic values is not enough. The subsequent stage of policy is to design markets that capture the values-'market creation'-ideally for the benefit of the many vulnerable communities that rely on the forests for their well-being. These conclusions support the wider argument for using effective economic instruments to promote conservation of the remaining forests. Forest loss involves: risks to human health; accelerated climate change; increased watershed disruption, adding to eutrophication in inland and coastal waters; loss of water quality; and loss of biodiversity.\"]\n",
      "[27892\n",
      " \"Contribution of tourism development to protected area management: Local stakeholder perspectives\\n\\nEcotourism in protected areas plays an important role in establishing mutually beneficial relationships among local people, the protected area, and tourism that are essential in protected area management. However, to properly manage protected areas, local people should be major stakeholders in order to maximize local economic benefits and obtain support for conservation efforts. This study assesses the current status of local people's economic participation in tourism in the Wolong Nature Reserve using a questionnaire survey. Through evaluation of geographic origin, income, and occupational distribution of operators engaged in tourism-related business, we identified and discussed constraints and opportunities for economic participation of local people. Economic inequity was found among local people, as well as between locals and non-locals, due to limited startup capital and operational skills. At present, only a small percentage of local people receive revenue directly from tourism. In addition, economic leakage and local dependence on natural resources still exist in the study area. To promote ecotourism and sustainable development, the relationships among tourism, local people, and biodiversity conservation in the study area must be strengthened. According to the findings, some suggestions are offered to protected area managers to foster better relationships. © 2009 Taylor & Francis.\\n\\nEconomic participation, Protected area management, Stakeholder analysis, Tourism development, Wolong Nature Reserve\"]\n",
      "[4500\n",
      " 'Food composition is fundamental to the cross-cutting initiative on biodiversity for food and nutrition\\n\\nThe usefulness of food composition data at the level of the genetic resource (i.e. taxonomic level below species) is becoming increasingly acknowledged. Recent research has provided data to confirm the micronutrient superiority of some lesser-known cultivars and wild varieties over other, more extensively utilized cultivars. Sweet potato cultivars have been shown to differ in their carotenoid content by two orders of magnitude or more; protein content of rice varieties can range from 5 to 13%; provitamin-A carotenoid content of bananas can be less than 1 mcg/100 g for some cultivars to as high as 8500 mcg/100 g for other cultivars. Intake of one variety rather than another can be the difference between micronutrient deficiency and micronutrient adequacy. These data are important for the sectors of health, agriculture, trade and the environment. The importance of nutrition is now recognized by the Convention on Biological Diversity (CBD) and the Commission on Genetic Resources for Food and Agriculture. At the request of the CBD, FAO is leading the \"Cross-cutting initiative on biodiversity for food and nutrition,\" in collaboration with Bioversity International, and developing or improving compositional databases will form a significant part of the initiative. Once the data are prepared and compiled, they can be used in practically every domain of nutrition: nutrition education, community nutrition, nutrition interventions, food emergencies, nutritional labelling, food consumption surveys, to name but a few. These data should be \"mainstreamed\" into national and regional food composition databases giving recognition and importance to cultivars, varieties and breeds as foods in their own right. © 2009 Elsevier Inc. All rights reserved.\\n\\nAgriculture, Biodiversity, Bioversity International, Convention on Biological Diversity (CBD), Cross-cutting initiative on biodiversity for food and nutrition, Cultivar influence on nutrient intake, Data compilation, FAO, Food composition, Food composition databases, Food database management, Nutrition, Varieties, cultivars, landraces']\n",
      "[10640\n",
      " \"Community-based ecotourism in nature reserve of China\\n\\nThis paper introduces a new concept of community-based ecotourism (CBET) that originated in foreign countries. Then it analyzes the significance of CBET development in nature reserve (NR). The authors think that community participation is the evitable choice of nature reserve's conservation and development. CBET, as the self-improved model of ecotourism, can promote tourism community sustainable development. Based on the stakeholder analysis of CBET in NRs, this paper addresses the reality, especially the problem of CBET development in NRs of China. In order to develop CBET in NRs of China, this paper takes some suggestions to promote the community participation: 1)gradual political empowerment, 2) deep level economic incentive, 3) widespread educational support, 4) impartial distribution of community benefits, and 5) stakeholders cooperation.\\n\\nCommunity participation, Community-based ecotourism, Nature reserve, Tourism development\"]\n",
      "[3769\n",
      " 'Global evidence that deforestation amplifies flood risk and severity in the developing world\\n\\nWith the wide acceptance of forest-protection policies in the developing world comes a requirement for clear demonstrations of how deforestation may erode human well-being and economies. For centuries, it has been believed that forests provide protection against flooding. However, such claims have given rise to a heated polemic, and broad-scale quantitative evidence of the possible role of forests in flood protection has not been forthcoming. Using data collected from 1990 to 2000 from 56 developing countries, we show using generalized linear and mixed-effects models contrasted with information-theoretic measures of parsimony that flood frequency is negatively correlated with the amount of remaining natural forest and positively correlated with natural forest area loss (after controlling for rainfall, slope and degraded landscape area). The most parsimonious models accounted for over 65% of the variation in flood frequency, of which nearly 14% was due to forest cover variables alone. During the decade investigated, nearly 100 000 people were killed and 320 million people were displaced by floods, with total reported economic damages exceeding US$1151 billion. Extracted measures of flood severity (flood duration, people killed and displaced, and total damage) showed some weaker, albeit detectable correlations to natural forest cover and loss. Based on an arbitrary decrease in natural forest area of 10%, the model-averaged prediction of flood frequency increased between 4% and 28% among the countries modeled. Using the same hypothetical decline in natural forest area resulted in a 4-8% increase in total flood duration. These correlations suggest that global-scale patterns in mean forest trends across countries are meaningful with respect to flood dynamics. Unabated loss of forests may increase or exacerbate the number of flood-related disasters, negatively impact millions of poor people, and inflict trillions of dollars in damage in disadvantaged economies over the coming decades. This first global-scale empirical demonstration that forests are correlated with flood risk and severity in developing countries reinforces the imperative for large-scale forest protection to protect human welfare, and suggests that reforestation may help to reduce the frequency and severity of flood-related catastrophes. © 2007 Blackwell Publishing Ltd.\\n\\nConservation, Damage, Flooding events, Forest loss, Generalized linear mixed-effects models, Generalized linear models, Human displacement, Projected costs, Rain fall']\n",
      "[21820\n",
      " 'A watershed approach to upgrade rainfed agriculture in water scarce regions through Water System Innovations: An integrated research initiative on water for food and rural livelihoods in balance with ecosystem functions\\n\\nThe challenge of producing food for a rapidly increasing population in semi-arid agro-ecosystems in Southern Africa is daunting. More food necessarily means more consumptive use of so-called green water flow (vapour flow sustaining crop growth). Every increase in food production upstream in a watershed will impact on water user and using systems downstream. Intensifying agriculture has in the past often been carried out with negative side effects in terms of land and water degradation. Water legislation is increasingly incorporating the requirement to safeguard a water reserve to sustain instream ecology. To address the challenges of increasing food production, improving rural livelihoods, while safeguarding critical ecological functions, a research programme has recently been launched on \"Smallholder System Innovations in Integrated Watershed Management\" (SSI). The programme takes an integrated approach to agricultural water management, analysing the interactions between the adoption and participatory adaptation of water system innovations (such as water harvesting, drip irrigation, conservation farming, etc.), increased water use in agriculture and water flows to sustain ecological functions that deliver critical ecosystem services to humans. The research is carried out in the Pangani Basin in Tanzania and the Thukela Basin in South Africa. A nested scale approach is adopted, which will enable the analysis of scale interactions between water management at the farm level, and cascading hydrological impacts at watershed and basin scale. This paper describes the integrated research approach of the SSI programme, and indicates areas of potential to upgrade rainfed agriculture in water scarcity-prone agro-ecosystems while securing water for downstream use. © 2004 Published by Elsevier Ltd.\\n\\nCatchment hydrology, Rainfed agriculture, Semi-arid, Water productivity, Watershed']\n",
      "[27836\n",
      " 'Best practices for tourism concessions in protected areas: A review of the field\\n\\nDespite the importance of protected areas (PAs) worldwide to protect biodiversity, reduce poverty and promote sustainable development, throughout the world governments struggle to adequately fund PAs to meet conservation goals. Tourism is seen as a viable financial option for PAs, with tourism concessions through private sector partnerships gaining momentum that allows the overarching goal of preservation and conservation to remain with the state. However, without appropriate planning or best practices in place, tourism concessions can lead to such problems as waste, habitat destruction and the displacement of local people and wildlife. We analyzed tourism concession agreements in government documents from 22 countries to provide an overview of what best practices for tourism concessions are being established and what practices might need to be better incorporated into agreements. The greatest weaknesses of best practices appear to be with concession qualifications, legal, and financial responsibilities, while the strengths included environmental and empowerment/social responsibilities. This initial assessment of contract components will provide a baseline to further develop best practices and assist protected area managers, local communities, and conservation practitioners working with tourism in PAs to ensure that tourism has a positive impact on protected area management. © 2011 by the authors.\\n\\nBest practices, Protected areas, Tourism concessions']\n",
      "[14293\n",
      " \"Collective action for small-scale producers of agricultural biodiversity products\\n\\nThe role of well-functioning markets for development is now widely recognized. However the challenge remains to make these markets benefit the poor and the environment. Increasing attention is being given to the potential role markets can play for agrobiodiversity conservation through product diversification and increasing competitiveness in niche and novelty markets. Several case studies were undertaken that explore the use of market-based approaches to on-farm agrobiodiversity management and livelihood improvement. This paper explores how the theory of collective action can provide a more synthetic understanding of how market chains operate, and the changes that could permit a more equitable distribution of benefits. The case studies illustrate the need for improved trust, mutual understanding of each actor's involvement, and an agreed process of collective action with a high level of community participation. The cases differ in their degree of collective action, the level of market organization and the ways in which handling, processing, and innovative marketing add value to the agrobiodiversity products. Comparative analysis identified a range of situations in which market development can support agrobiodiversity conservation and livelihoods. © 2008 Elsevier Ltd. All rights reserved.\\n\\nAgricultural biodiversity, Collective action, Livelihoods, Market access, Market chain\"]\n",
      "[7892\n",
      " 'Influence of arsenate and arsenite on signal transduction pathways: An update\\n\\nArsenic has been a recognized contaminant and toxicant, as well as a medicinal compound throughout human history. Populations throughout the world are exposed to arsenic and these exposures have been associated with a number of human cancers. Not much is known about the role of arsenic as a human carcinogen and more recently its role in non-cancerous diseases, such as cardiovascular disease, hypertension and diabetes mellitus have been uncovered. The health effects associated with arsenic are numerous and the association between arsenic exposure and human disease has intensified the search for molecular mechanisms that describe the biological activity of arsenic in humans and leads to the aforementioned disease states. Arsenic poses a human health risk due in part to the regulation of cellular signal transduction pathways and over the last few decades, some cellular mechanisms that account for arsenic toxicity, as well as, signal transduction pathways have been discovered. However, given the ubiquitous nature of arsenic in the environment, making sense of all the data remains a challenge. This review will focus on our knowledge of signal transduction pathways that are regulated by arsenic. © 2010 Springer-Verlag.\\n\\nArsenate, Arsenic, Arsenite, Signal transduction']\n",
      "[11319\n",
      " 'Disposal of obsolete pesticides, the case of Ethiopia\\n\\nEthiopia has accumulated obsolete pesticide stocks since pesticides were first imported in the 1960s due to prolonged storage of pesticides, inappropriate storage conditions because of poor storage facilities, the lack of trained staff and lack of national legislation for pesticide registration and monitoring system of pesticide use in the country. The first pesticide inventory conducted in 1995 led by FAO in collaboration with the government of Ethiopia had identified about 426\\xa0tonnes of obsolete pesticides mainly on state-owned agricultural farms and held by the Ministry of Health. However, these stocks have increased to over 1500\\xa0tonnes (including 200 active ingredients) as found in a detailed inventory conducted in 1999. The stocks included organochlorines (258.3\\xa0tonnes), organophosphates (155.4\\xa0tonnes), carbamates (58.5\\xa0tonnes), coumarines (14.9\\xa0tonnes), inorganics (30.2\\xa0tonnes), others (257.2\\xa0tonnes), mixed pesticides (70.4\\xa0tonnes) and unknown pesticides (307.1\\xa0tonnes) including both liquid and solid state formulations. The obsolete organochlorine pesticides stocks were mostly pesticides such as chlordane, DDT, dieldrin and lindane that are banned or restricted in most countries. The highest amount of a single active ingredient found was the organophosphate insecticide pirimiphos methyl (172.1\\xa0tonnes). All these stocks were disposed of in the first phase of disposal in Finland (during 2000-2003) by the hazardous waste management company Ekokem at a cost of about US$ 4.44\\xa0million. Another 1000\\xa0tonnes of obsolete pesticides have been identified and are currently being eliminated in a second disposal phase at a total cost of US$ 8 135 500. Along with the disposal process, a number of activities are being implemented to prevent future pesticides accumulation. These activities include the development and enforcement of pesticide policy, the implementation of Integrated Pest Management (IPM) and Integrated Vector Management (IVM), capacity building in terms of providing professional trainings, creating awareness among stakeholders on the environmental and human health hazard posed by obsolete pesticides as well as other actions to prevent their accumulation and enforcement of national legislations and policies related to pesticides use. However, pesticide use in the country is increasing. For instance, 12\\xa0years of pesticides import data (1996-2007) by the Ministry of Agriculture shows that 2973\\xa0tonnes of pesticides were imported between 1996-1998, 3670\\xa0tonnes between 1999-2001, 5079\\xa0tonnes between 2002-2004 and 8302\\xa0tonnes between 2005-2007. Moreover, 6\\xa0years of insecticide import data (1996/97-2001/02) by the Ministry of Health shows that around 919\\xa0tonnes of insecticides were imported between 1996/97-1997/98, 812\\xa0tonnes between 1998/99-1999/00 and 970\\xa0tonnes between 2000/01-2001/02 for malaria and other vector borne diseases control. © 2008 Elsevier Ltd. All rights reserved.\\n\\nDisposal, Obsolete pesticides, Organochlorines, Pesticide inventory']\n",
      "[16354\n",
      " 'Trends, dynamics and resilience of an Ethiopian wolf population\\n\\nFifteen years of monitoring in the Bale Mountains provide a valuable time series to better understand the dynamics of populations of the endangered Ethiopian wolf Canis simensis in the face of epizootics and increasing human pressure. Linetransect counts in four study areas were used to identify trends in the local abundances of wolves, people, livestock and domestic dogs (a putative rabies reservoir). Estimates of wolf abundance were validated against total counts in prime wolf habitats, where two local populations decimated by rabies in the early 1990s had recovered fully by 2000. Growth appeared to be regulated by negative density dependence, but the rate of growth was unexpectedly low at reduced densities. Limitations to rapid growth, including an initial gap for which data were sparse, are discussed. In a poorer habitat, wolf abundance estimates were less reliable but indicated slight fluctuations without an overall trend. A local extinction was recorded in an area of marginal habitat. With this exception, trends in wolf abundances were unrelated to trends in the abundance of people, livestock or dogs. Rabies emerged as the main cause of decline for high-density populations. The rapidly increasing livestock grazing pressure in Bale gives cause for concern, calling for further research on its impacts upon long-term wolf survival. © 2005 The Zoological Society of London.\\n\\nDensity dependence, Disease, Long-term trends, Monitoring, Population regulation, Rabies']\n",
      "[26808\n",
      " \"Catch-and-release fishing: A comparison of intended and actual behavior of marine anglers\\n\\nResearch on catch-and-release fishing has typically relied on stated or observed preferences, with few applications that incorporate both data types. Further, most models ignore the effects of species on the release decision. We present a discrete-choice model estimated from stated preference data in which conservation release is a function of the species caught and angler characteristics that include fishing avidity, demographic variables, and three angler orientation measures that assess an angler's catch-and-release ethic, attitude toward fisheries regulations, and need for self-caught fish for food. We then compare our stated preference model predictions for an individual angler with field data on catch-and-release fishing for the same angler. The results provide some important messages for managers. First, all angler characteristics were significant in the discrete-choice model, suggesting that an understanding of angler populations may help predict future catch-and-release behavior. Second, our results suggest that behavioral intent (e.g., stated preference data) is a good indicator of actual behavior, as the model correctly predicts the release decision in 74% of the cases. Finally, species type had a significant effect in the stated preference model as well as on model prediction success when compared with actual behavior. These results should be of interest to managers as they address both the understanding of angler catch-and-release behavior and validity issues concerning behavioral data that is collected from an off-site survey.\"]\n",
      "[15877\n",
      " \"Urban labour-force experience as a determinant of rural occupation change: Evidence from recent urban-rural return migration in China\\n\\nAn integrated approach to temporary migration in develoing countries is proposed by linking past urban labour-force experience to postreturn entrepreneurial activities. The central argument is that labour migration is a family strategy to acquire both physical and human capital for a future technological transformation. On the basis of an in-depth survey of returned migrants that was conducted in rural China, 1 focus on the explanation of return rural occupation change in a multivariate framework. I find that it is the improvement of the migrant's skills and entrepreneurial ability rather than their savings and remittances that strongly facilitates a return rural occupational change. The policy implication of the finding is to shift efforts from narrowing intersectoral wage differentials to improving rural learning and training opportunities.\"]\n",
      "[20125\n",
      " \"MSC certification in Argentina: Stakeholders' perceptions and lessons learned\\n\\nMarine Stewardship Council (MSC) certification is a market-based incentive program recognizing well-managed fisheries. Currently, four Argentine fisheries are involved in the MSC program. Using in-depth, semi-structured interviews with fishery stakeholders, the study surveys their perceptions regarding MSC certification. MSC certification is positively perceived because stakeholders focus on knowledge of the process. Most respondents consider certification as encouraging effective fishery stakeholders' participation: access to information, increased communication, and reaching consensus. Market/political/social realities will prove whether a more intense participation of Argentine fisheries in the certification initiative is useful. Because some markets in the EU and USA are demanding MSC certified products, there is a need to work towards a governance structure that helps link certification with policy market outcomes to ensure exportation of Argentine fish. MSC certification may suggest improved management of participatory bottom-up planning. This bottom-up approach provides an opportunity to establish feedback mechanisms and organizational changes. © 2012 Elsevier Ltd.\\n\\nArgentina, Bottom-up participation, Fisheries, MSC certification, Stakeholders\"]\n",
      "[7595\n",
      " \"Sustainable community mental health: Psychological first aid in humanitarian emergencies\\n\\nHumanitarian response workers typically possess evolved skills, and deliver highly competent service in their chosen specialty. Although comparatively few responders are trained mental health professionals, many have noted that the overwhelming mental and emotional distress among survivors often limits survivors' ability to respond to aid. This article provides an overview of practical interventions for use by non-mental health trained responders to effectively mitigate psychic distress among survivors. The principles offered highlight the 8 Core Actions described in the Psychological First Aid Field Operations Guide (NCTSN, 2005) which was developed by the Terrorism Disaster Branch of the National Child Traumatic Stress Network and the National Center for PTSD (US). The techniques represent the consensus of disaster mental health practitioners from a number of professional backgrounds. The authors propose that making PFA training available to aid workers will enhance their efficacy in helping survivors and provide a natural platform for the creation of a cadre of trained local providers to provide self-sustaining mental health assets for future disaster response. © RMIT Publishing.\\n\\nAid workers, Complex emergency, Disaster response, First responders, Humanitarian aid, Natural disaster, PTSD, Psychic trauma, Psychological first aid, Survivors, Terrorism\"]\n",
      "[9251\n",
      " \"Towards sustainability through collaboration between industrial sectors and government: The Mexican case\\n\\nThis chapter discusses the extent to which Dutch experiences with negotiated agreements between firms and public authorities could be used as a tool to improve environmental policies and foster collaboration and innovation for sustainability in Mexico. The Mexican context is analysed both in terms of perceived effectiveness of environmental regulation/existing voluntary agreements and in terms of attitudes and opinions of key players in the Mexican Industry regarding feasibility of negotiated agreements. Our findings show that there is good receptivity to the use of negotiated agreements both from the point of view of policy makers and industry leaders. The comparison with Dutch experiences shows no important gap between Mexican business leaders' expectations regarding results in terms of efficiency gains and positive side effects and the results obtained by negotiated agreements in the Netherlands. Mexico benefits from a history of trust and fair play between the industrial sector and the government; homogeneity or clear leadership in polluting industrial sectors. Polluting firms are also concerned with their public Image and there is a widespread belief that the government will resort to other measures if negotiation fails. All the latter factors, which were determinant of success in The Netherlands, support the feasibility of using negotiated agreements as a collaborative strategy towards sustainability in Mexico. © 2010 Springer Science+Business Media B.V.\\n\\nBusiness-government collaboration, Corporate voluntary initiatives, Mexico, Negotiated agreements, Polluting firms\"]\n",
      "[58\n",
      " 'LEVELS AND TOXICITIES OF SELECTED INORGANIC AND ORGANIC CONTAMINANTS IN A SWAMP ENVIRONMENT\\n\\nField and laboratory studies were conducted to determine the levels of cadmium, lead and hexachlorobutadiene, HCBD, in various samples collected from a swamp environment in Louisiana, and to assess the toxicities of arsenic, cadmium and mercury to two species of aquatic organisms (bluegills and crawfish) indigenous to this swamp. Cadmium and lead were present in almost all collected samples. Their concentrations in fish were below the action levels set by EPA for the protection of human health. However, hazardous levels of these two metals were found in samples of crawfish, vegetation, soil, sediment and water to some extend. Low levels of HCBD were recorded in water and sediment samples. In bioassay studies, mercury was found to be the most toxic metal, while arsenic was the least toxic. Between the two test organisms, bluegills appeared to be more sensitive than crawfish. Mixtures of cadmium with arsenic or mercury resulted in a combined toxic effect which was simply additive. However, a synergistic effect was recorded with the mixture of arsenic and mercury.\\n\\nBLUEGILL, CADMIUM, CRAWFISH, HCBD, HEAVY METALS, LEVELS, MIXTURE, TOXICITY']\n",
      "[1261\n",
      " 'Connecting hand, mind, and community: Vocational education for social and environmental renewal\\n\\nBackground/Context: The main goal for vocational education at the secondary level has historically been the preparation of youth for the world of work. As a result, research, policy, and practice in this area have mostly focused on how to smooth this transition, address high costs, and ensure that there are positive economic returns to the individual and society. The focus on these goals, although important, has meant that other vital areas have not been addressed: namely, how to ensure that vocational education promotes a sense of empowerment, fosters a stronger sense of community, and seeks to protect the natural environment. Purpose and Focus of the Study: This article stresses the importance of imbuing the theory and practice of vocational education with social justice and concern for environmental degradation at the local level. The approach to vocational education presented here proposes the use of productive learning as a foundation for a well-rounded education that breaks down the nefarious dualisms of contemporary education (i.e., the separation of mind from body, theory from practice, individuals from collectivity, and school from community) while exposing students to a critical pedagogy of work and to its potential for social and environmental renewal. Setting: To illustrate the theoretical insights provided in the first two sections of this article, the author explores a public secondary school in northern Colombia that, under difficult social and material conditions, has developed a noteworthy vocational program. Research Design: This analytic essay illustrates its main points with examples derived from a case study in which field observations, extensive in-person interviews, document analysis, and telephone conversations were conducted between 1997 and 2000. Findings and Conclusions: The school helps to illustrate what a long series of writers from the late 18th century onward have stated: that productive work ought to be an intrinsic component of any responsible form of education. Moreover, it makes clear the importance of contextualizing learning in authentic settings. Although some important inroads have been made in connecting vocational education to critical pedagogy, the connections with environmental sustainability are still in their infancy. Despite calls from international organizations such as the International Centre for Technical and Vocational Education and Training, a branch of the United Nations Educational, Scientific and Cultural Organization (UNESCO-UNEVOC) to link vocational education and training to sustainable development, much work still needs to be done in the areas of theory, policy, and practice. Copyright © by Teachers College, Columbia University.']\n",
      "[1271\n",
      " \"WOMEN EMPOWERMENT THROUGH MICRO-FINANCE: PERSPECTIVE BANGLADESH\\n\\nWomen as a weaker sex suffer from frustrating environment and powerlessness. This state of conditions can be changed by empowerments. Empowerment is a process that provides greater autonomy to employees in an organization, minority groups in the social sector and women in the family through sharing of relevant information and the provision of control over factors affecting their performance and role play. Empowerment helps remove the conditions that cause powerlessness. Women's powerlessness and dependencies can be changed by involving them in socio-economic activities, motivating them to participate through action plans and suggestions, and encouraging them to accept responsibilities in their group activities. In Bangladesh, the process of women empowerment has started since the independence of the country. The social attitude in Bangladesh has also changed in favor of the women involvement in the business, profession and vocation by the help of micro-finance. Micro-finance is a process of credit facilities available to the poor without any. collateral. which range from Tk. 1,000 to Tk. 10,000. It originated in the 1970s as quite distinct and different from general credit system. The credit is relatively small, repayment schedule is short-term, transaction costs are low and primarily aimed at poverty-reduction and empowering women-folks. Although financial services are important in protecting against the unforeseen consequences of illness, incapacity, death of a bread earning family-head, war, natural disasters or similar calamities like flood and famine, only 5 p. c. of low income households around the world have access to financial service. The USAIDS provides annually over $ 100 million for projects of sustainable micro-finances services for the poor in developing countries. Landless poor women and men who plan to establish micro enterprises generally get the patronage of this credit. Since 1.3 billion people throughout the world live in abject poverty currently, a micro credit summit was held in Bangladesh in 2004 for poverty reduction in the light of UN Millennium Development goal. Access to micro-finance is now at the forefront of a global anti-poverty strategy. If barriers are addressed properly, micro-finance will usher a new era in the context of women empowerment not only in Bangladesh, but also in the world at large.\\n\\nWomen empowerment, micro-finance, poverty reduction\"]\n"
     ]
    }
   ],
   "source": [
    "for citation in itertoolz.take_nth(50, df[['citation_id', 'citation_text']].values):\n",
    "    print(citation)"
   ]
  },
  {
   "cell_type": "code",
   "execution_count": 118,
   "metadata": {
    "collapsed": false
   },
   "outputs": [
    {
     "name": "stdout",
     "output_type": "stream",
     "text": [
      "192\n",
      "citation_id                                                           15153\n",
      "citation_text             Ecological protection and well-being\\n\\nBased ...\n",
      "match_fraction                                                     0.238359\n",
      "match_fraction_pctrank                                                0.999\n",
      "regex_match_score                                                   2.25139\n",
      "regex_match_pctrank                                                       1\n",
      "Name: 192, dtype: object\n"
     ]
    }
   ],
   "source": [
    "for foo, bar in df.iterrows():\n",
    "    print(foo)\n",
    "    print(bar)\n",
    "    break"
   ]
  },
  {
   "cell_type": "code",
   "execution_count": 114,
   "metadata": {
    "collapsed": false,
    "scrolled": true
   },
   "outputs": [
    {
     "data": {
      "text/plain": [
       "[{'citation_id': 15153,\n",
       "  'citation_text': \"Ecological protection and well-being\\n\\nBased on Sen's function approach, this paper stated the connotation of the well-being, and defined that the freedom choice and capability of the human is the connotation of the human well-being on ecosystem services, while the poverty is the limited for capability and development of the human. Ecosystem degradation and destruction will seriously threat to human well-being, especially the well-being of the poor. Conservation of biodiversity can contribute to the protection of ecosystem services, which as the core of the ecosystem, and then improve the well-being of human. Focused on the well-being of the poor whom strongly dependent on ecosystem services and effective implemented ecological compensation, that can achieve a win-win between ecological protection and human well-being improvement.\\n\\nBiodiversity, Ecosystem services, Human well-being, Poverty\"},\n",
       " {'citation_id': 12152,\n",
       "  'citation_text': 'The potential impact of labor choices on the efficacy of marine conservation strategies\\n\\nConservation of marine resources is critical to the wellbeing of human communities. Coastal artisanal fishing communities are particularly reliant on marine resources for food and for their livelihoods. Management actions aimed at marine conservation may lead to unanticipated changes in human behavior that influence the ability of conservation programs to achieve their goals. We examine how marine conservation strategies may impact labor decisions that influence both the ecosystem and human livelihoods using simulation modeling. We consider two conservation strategies in the model: direct action through fisheries regulation enforcement, and indirect action through land conservation. Our results indicate that both strategies can increase the abundance of fish, and thus contribute to the maintenance of marine resources. However, our results also show that marine fisheries enforcement may negatively impact the livelihoods of human communities. Land conservation, on the other hand, potentially enhances the livelihood of the human populations. Thus, depending on management objectives, indirect or a combination of direct and indirect conservation strategies may be effective at achieving conservation and sustainability goals. These results highlight the importance of accounting for changes in human behavior resulting from management actions in conservation and management. © 2011 Hughes et al.'},\n",
       " {'citation_id': 7511,\n",
       "  'citation_text': 'Biodiversity loss threatens human well-being'},\n",
       " {'citation_id': 23493,\n",
       "  'citation_text': 'Integrating Vulnerability Into Estuarine Conservation Planning: Does the Data Treatment Method Matter?\\n\\nProtected areas will more efficiently protect biodiversity if threats to the persistence of populations are addressed. Seagrass meadows are globally regarded as critical habitats because of their ecosystem services, human use values, and their diminishing extent. While selecting priority areas for conservation of seagrass meadows is largely aimed at maximizing the protection of their biodiversity, little attention is paid to consider simultaneously the representation of biodiversity and the minimization of threats. This study developed and tested an approach for integrating vulnerability of seagrass meadows to anthropogenic disturbance with the selection of estuarine-protected areas. Vulnerability was measured by data on different land use types in subcatchments. Conservation value was measured by irreplaceability, diversity indices, and rarity of macroinvertebrate species in seagrass meadows. Vulnerability was incorporated into conservation planning by plotting grid cell scores for conservation value versus their scores for vulnerability. The results showed that the performance of the model for the integration of vulnerability into estuarine conservation planning was sensitive to the data treatment. The vulnerability of seagrass meadows and accordingly the arrangement of priority areas for conservation and management attention may change if more information is incorporated into the measurement of vulnerability. © 2012 Coastal and Estuarine Research Federation.\\n\\nConservation measure, Human use, Irreplaceability, Reserve selection, Seagrass, Vulnerability measure'},\n",
       " {'citation_id': 25340,\n",
       "  'citation_text': 'Role of social capital in determining conservation attitude: A case study from Cat Tien National Park, Vietnam\\n\\nThe Cat Tien National Park (CTNP) is located in South Vietnam. This park is home to many rare and endemic species. However, Park resources face heavy anthropogenic pressure and some species are vulnerable to extinction. In this context, this study assesses the efficacy of social capital and other socio-economic variables in influencing conservation attitude of local people towards CTNP resources. Using suitable survey tools and regression analysis, we find social capital to be a significant determinant of the overall conservation attitude of locals. All components of social capital, except trust, are significant in explaining one or more indicators of conservation attitude. Among socio-economic variables, education, income and ethnic groups were significant in explaining the overall conservation attitude. We suggest that participatory conservation programmes should incorporate suitable actions for promoting social capital among local people as a part of their institution-building efforts. This may improve institutional stability leading to better resource conservation and improved welfare of local people. © 2011 Taylor & Francis.\\n\\nConservation attitude, Protected areas, Social capital, Socio-economic variables, South Vietnam'},\n",
       " {'citation_id': 28135,\n",
       "  'citation_text': \"The emergence of biodiversity conflicts from biodiversity impacts: Characteristics and management strategies\\n\\nConflicts between the conservation of biodiversity and other human activities occur in all habitats and can impact severely upon socio-economic and biological parameters. In a changing environment, with increasing pressure on ecosystem goods and services and increasing urgency for biodiversity conservation, these conflicts are likely to increase in importance and magnitude and negatively affect biodiversity and human well-being. It is essential, however, to better understand what is meant by 'biodiversity conflicts' in order to develop ways to manage these effectively. In view of the complexity of the social and ecological contexts of conflicts, this paper explores 'biodiversity impacts' linked to agricultural, forestry and other sectoral activities in the UK. The paper then describes the transition from 'biodiversity impacts' to 'biodiversity conflicts', illustrating this concept with specific examples. While generalisations relating to conflict management are made difficult by their unique contextual settings, this paper suggests approaches for their management, based on the experiences of scientists who have been involved in managing conflicts. We consider the role of science and scientists; trust and dialogue; and temporal and spatial scales in biodiversity conflicts and highlight the combined role they play in successful biodiversity conflict management. Recommendations are also made for future research on biodiversity conflicts in a changing environment. © 2010 Springer Science+Business Media B.V.\\n\\nAgriculture, Biodiversity conflicts, Biodiversity impacts, Conflict management, Conservation policy, Forestry, Livelihoods, Participation, Predator management, Sustainability\"},\n",
       " {'citation_id': 5174,\n",
       "  'citation_text': 'Tools for a better integrated coastal zone management\\n\\nOver the last decades, increasing human densities and environmental degradations led to severe coastal problems. Resulting from numerous natural and human factors, they require global and integrated methods. The aim of this paper is to propose two management tools which were tested on the main-island of Seychelles (Mahe): a method of beach rating and a coastal vulnerability index.\\n\\nBeach rating, Integrated coastal zone management, Seychelles, Vulnerability index'},\n",
       " {'citation_id': 21156,\n",
       "  'citation_text': \"Indigenous ecological knowledge, biodiversity and sustainable development in the central Himalayas\\n\\nThe paper has looked at traditional systems of forestry and agricultural system management in the central himalayan region. Based on a detailed analysis of traditional ecological knowledge that is linked with biodiversity, natural and human-managed, various possibilities for sustainable management of natural resources, with concerns for sustainable livelihood of local communities have been explored for the Garhwal region in the central Himalayas It is concluded that if the development interests of local people are marginalized for a long period of time, they might adopt actions detrimental to the goal of conservation. Capitalizing on the positive dimensions of traditional knowledge and overcoming its negative dimensions through conventional science-based inputs could ease the difficult process of securing people's participation in environmental conservation together with the socio-economic development of local communities.\\n\\nBiodiversity, Natural resource management, Rehabilitation ecology, Sustainable livelihood, Traditional knowledge and technology\"},\n",
       " {'citation_id': 20413,\n",
       "  'citation_text': \"Linking biodiversity indicators, ecosystem functioning, provision of services and human well-being in estuarine systems: Application of a conceptual framework\\n\\nAssuming that human well-being strongly relies on the services provided by well-functioning ecosystems, changes in the ecological functioning of any system can have direct and indirect effects on human welfare. Intensive land use and tourism have expanded in recent decades along coastal ecosystems, together with increasing demands for water, food and energy; all of these factors intensify the exploitation of natural resources. Many of the interrelations between ecosystem functioning and the provision of ecosystem services (ES) still require quantification in estuarine systems. A conceptual framework to assess such links in a spatially and temporally explicit manner is proposed and applied to the Mondego estuary (Portugal). This framework relies on three consecutive steps and discriminates among biodiversity structural components, ecosystem functioning and stability and the services provided by the ecosystem. Disturbances in abiotic factors were found to have a direct effect on biodiversity, ecosystem functioning and the provision of ES. The observed changes in the species composition of communities had a positive effect on the ecosystem's productivity and stability. Moreover, the observed changes in the estuarine ES provision are likely to arise from changing structural and abiotic factors and in the present case from the loss or decline of locally abundant species. This study also indicates that linear relationships between biodiversity, ecosystem functioning and services provision are unlikely to occur in estuarine systems. Instead, cumulative and complex relations are observed between factors on both temporal and spatial scales. In this context, the results suggest several additional conclusions: (1) biodiversity and ecosystem functioning interaction with human well-being need to be incorporated into decision-making processes aimed at the conservative management of systems; (2) the institutional use of research results must be part of the design and implementation of sustainable management activities; and (3) more integrative tools/studies are required to account for the interactions of estuarine ecosystems with surrounding socio-economic activities. Therefore, when performing integrated assessments of ecosystem dynamics, it becomes essential to consider not only the effects of biodiversity and ecosystem functioning on services provision but also the effects that human well-being and ES provision may have on estuarine biodiversity and ecosystem functioning. The proposed framework implies taking into account both the functional and the commodities points of view upon natural ecosystems and by this representing a line of thought which will deserve further research to explore more in detail the conceptual links between biodiversity-ecosystem functioning-services provided. © 2013 Elsevier B.V. All rights reserved.\\n\\nBiodiversity-Ecosystem functioning, Ecosystem approach, Ecosystem services, Estuaries, Holistic approach\"},\n",
       " {'citation_id': 18485,\n",
       "  'citation_text': 'Forest Villagers in Northeastern Hill Forests of Bangladesh: Examining Their Livelihoods, Livelihood Strategies and Forest Conservation Linkages\\n\\nEven though many forest villagers have been living on forest department land and serving the department in the northeastern hill forests region of Bangladesh since the early 1950s, their livelihood has not yet been fully explored. This paper examines the livelihoods of forest villagers (Khasia ethnic people) and their contribution to forest conservation, using data from the Sylhet forest division. The forest villagers are well-endowed with all the elements of a sustainable livelihoods framework, though human capital in terms of education is not satisfactory. Strong social capital, stable natural capital and a productive market-oriented agroforestry system facilitate the generation of financial and physical capital that make the livelihoods of Khasia people sustainable. At the same time, their reciprocal contributions in terms of forest protection and plantation development support forest conservation. However, some institutional issues such as insecure land tenure with regular agreement renewal problems need to be resolved for the sake of their livelihoods and forest conservation. Lessons learned from the study can be utilized in formulating future participatory forest management schemes in the country. © 2013 Steve Harrison, John Herbohn.\\n\\nAgroforestry, Betel leaf, Forest conservation, Khasia, Livelihood capital'}]"
      ]
     },
     "execution_count": 114,
     "metadata": {},
     "output_type": "execute_result"
    }
   ],
   "source": [
    "json.loads(df[['citation_id', 'citation_text']].head(10).to_json(orient='records'))"
   ]
  },
  {
   "cell_type": "code",
   "execution_count": 74,
   "metadata": {
    "collapsed": false
   },
   "outputs": [
    {
     "data": {
      "text/html": [
       "<div>\n",
       "<table border=\"1\" class=\"dataframe\">\n",
       "  <thead>\n",
       "    <tr style=\"text-align: right;\">\n",
       "      <th></th>\n",
       "      <th>authors</th>\n",
       "      <th>citation_id</th>\n",
       "      <th>citation_text</th>\n",
       "      <th>publication_year</th>\n",
       "      <th>match_fraction</th>\n",
       "    </tr>\n",
       "  </thead>\n",
       "  <tbody>\n",
       "    <tr>\n",
       "      <th>375</th>\n",
       "      <td>[Materka, E]</td>\n",
       "      <td>16607</td>\n",
       "      <td>Poland's quiet revolution: Of Shale Ga s explo...</td>\n",
       "      <td>2012.0</td>\n",
       "      <td>0.0</td>\n",
       "    </tr>\n",
       "    <tr>\n",
       "      <th>469</th>\n",
       "      <td>[Cairns Jr, J]</td>\n",
       "      <td>4672</td>\n",
       "      <td>Ecosocietal restoration: Reestablishing humani...</td>\n",
       "      <td>1995.0</td>\n",
       "      <td>0.0</td>\n",
       "    </tr>\n",
       "    <tr>\n",
       "      <th>902</th>\n",
       "      <td>[Rabino, I]</td>\n",
       "      <td>20948</td>\n",
       "      <td>The impact of activist pressures on recombinan...</td>\n",
       "      <td>1991.0</td>\n",
       "      <td>0.0</td>\n",
       "    </tr>\n",
       "    <tr>\n",
       "      <th>417</th>\n",
       "      <td>[Kathirgamanathan, P, McKibbin, R, McLachlan, ...</td>\n",
       "      <td>13423</td>\n",
       "      <td>Inverse Modelling for Identifying the Origin a...</td>\n",
       "      <td>2003.0</td>\n",
       "      <td>0.0</td>\n",
       "    </tr>\n",
       "    <tr>\n",
       "      <th>433</th>\n",
       "      <td>[Kuuskraa, Vello A]</td>\n",
       "      <td>14442</td>\n",
       "      <td>A program to accelerate the deployment of CO2 ...</td>\n",
       "      <td>2007.0</td>\n",
       "      <td>0.0</td>\n",
       "    </tr>\n",
       "  </tbody>\n",
       "</table>\n",
       "</div>"
      ],
      "text/plain": [
       "                                               authors  citation_id  \\\n",
       "375                                       [Materka, E]        16607   \n",
       "469                                     [Cairns Jr, J]         4672   \n",
       "902                                        [Rabino, I]        20948   \n",
       "417  [Kathirgamanathan, P, McKibbin, R, McLachlan, ...        13423   \n",
       "433                                [Kuuskraa, Vello A]        14442   \n",
       "\n",
       "                                         citation_text  publication_year  \\\n",
       "375  Poland's quiet revolution: Of Shale Ga s explo...            2012.0   \n",
       "469  Ecosocietal restoration: Reestablishing humani...            1995.0   \n",
       "902  The impact of activist pressures on recombinan...            1991.0   \n",
       "417  Inverse Modelling for Identifying the Origin a...            2003.0   \n",
       "433  A program to accelerate the deployment of CO2 ...            2007.0   \n",
       "\n",
       "     match_fraction  \n",
       "375             0.0  \n",
       "469             0.0  \n",
       "902             0.0  \n",
       "417             0.0  \n",
       "433             0.0  "
      ]
     },
     "execution_count": 74,
     "metadata": {},
     "output_type": "execute_result"
    }
   ],
   "source": [
    "df.tail()"
   ]
  },
  {
   "cell_type": "code",
   "execution_count": 70,
   "metadata": {
    "collapsed": false
   },
   "outputs": [
    {
     "data": {
      "text/plain": [
       "'{\"authors\":[\"Moorthy, A L\",\"Pant, A\"],\"citation_id\":19718,\"citation_text\":\"Knowledge management and safeguarding Indian traditional knowledge\\\\n\\\\nTraditional knowledge (TK) is the knowledge base of a particular society or community which has been generated over a period of time through the process of learning and sharing by its members. TK is time tested and has been playing a vital role in sustainable development of the indigenous communities. Commercialization of biodiversity and traditional knowledge has increased the threat of misappropriation. Indian cultural and scientific heritage is discussed in this paper. Proper KM practices are required to tap that knowledge. This paper highlights the need to develop an Indigenous Knowledge Management System (IKMS) for indigenous communities which should document the knowledge heritage (without jeopardizing local culture, societal practices, IPRs, etc.) and it should also improve the process of adaptation, adoption and experimentation of the traditional knowledge. To develop an IKMS, various types of knowledge management tools and platforms are discussed. This paper also highlights the major issues\\\\/challenges in management of traditional knowledge.\\\\n\\\\nIndian scientific heritage, Indigenous knowledge management system (IKMS), Knowledge management, Traditional knowledge\",\"publication_year\":2013.0}'"
      ]
     },
     "execution_count": 70,
     "metadata": {},
     "output_type": "execute_result"
    }
   ],
   "source": [
    "df.ix[318, :].to_json()"
   ]
  },
  {
   "cell_type": "code",
   "execution_count": 10,
   "metadata": {
    "collapsed": false
   },
   "outputs": [
    {
     "name": "stdout",
     "output_type": "stream",
     "text": [
      "CPU times: user 8min 18s, sys: 2.96 s, total: 8min 21s\n",
      "Wall time: 8min 21s\n"
     ]
    }
   ],
   "source": [
    "%%time\n",
    "records = pgdb.run_query(query, {'project_id': project_id})\n",
    "text_stream, metadata_stream = textacy.fileio.split_content_and_metadata(records, 'text', itemwise=False)\n",
    "\n",
    "# corpus = textacy.TextCorpus.from_texts('en', text_stream, metadata=metadata_stream)\n",
    "\n",
    "spacy_pipeline = textacy.data.load_spacy('en')#, parser=False)\n",
    "corpus = textacy.TextCorpus(spacy_pipeline)\n",
    "for text, metadata in zip(text_stream, metadata_stream):\n",
    "    corpus.add_text(text, lang='en', metadata=metadata)\n",
    "corpus"
   ]
  },
  {
   "cell_type": "code",
   "execution_count": null,
   "metadata": {
    "collapsed": true
   },
   "outputs": [],
   "source": []
  },
  {
   "cell_type": "code",
   "execution_count": 7,
   "metadata": {
    "collapsed": false
   },
   "outputs": [
    {
     "name": "stdout",
     "output_type": "stream",
     "text": [
      "CPU times: user 1min 58s, sys: 1.83 s, total: 2min\n",
      "Wall time: 2min\n"
     ]
    }
   ],
   "source": [
    "%%time\n",
    "records = pgdb.run_query(query, {'project_id': project_id})\n",
    "text_stream, metadata_stream = textacy.fileio.split_content_and_metadata(records, 'text', itemwise=False)\n",
    "\n",
    "# corpus = textacy.TextCorpus.from_texts('en', text_stream, metadata=metadata_stream)\n",
    "\n",
    "spacy_pipeline = textacy.data.load_spacy('en', parser=False)\n",
    "corpus = textacy.TextCorpus(spacy_pipeline)\n",
    "for text, metadata in zip(text_stream, metadata_stream):\n",
    "    corpus.add_text(text, lang='en', metadata=metadata)\n",
    "corpus"
   ]
  },
  {
   "cell_type": "code",
   "execution_count": 8,
   "metadata": {
    "collapsed": false
   },
   "outputs": [
    {
     "data": {
      "text/plain": [
       "TextCorpus(28343 docs; 7806511 tokens)"
      ]
     },
     "execution_count": 8,
     "metadata": {},
     "output_type": "execute_result"
    }
   ],
   "source": [
    "corpus"
   ]
  },
  {
   "cell_type": "code",
   "execution_count": 37,
   "metadata": {
    "collapsed": false
   },
   "outputs": [],
   "source": [
    "match_fractions = []\n",
    "\n",
    "for doc in corpus:\n",
    "    if not doc.text:\n",
    "        match_fractions.append(0.0)\n",
    "        continue\n",
    "    match_fractions.append(\n",
    "        sum(len(match.group()) for match in keyterms_re.finditer(doc.text)) / len(doc.text))"
   ]
  },
  {
   "cell_type": "code",
   "execution_count": 46,
   "metadata": {
    "collapsed": false
   },
   "outputs": [
    {
     "data": {
      "text/plain": [
       "array([ 3931, 23503, 14842, ..., 10493, 10513,     0])"
      ]
     },
     "execution_count": 46,
     "metadata": {},
     "output_type": "execute_result"
    }
   ],
   "source": [
    "match_fraction_idxs = np.argsort(match_fractions)[::-1]\n",
    "match_fraction_idxs"
   ]
  },
  {
   "cell_type": "code",
   "execution_count": 49,
   "metadata": {
    "collapsed": false,
    "scrolled": true
   },
   "outputs": [
    {
     "name": "stdout",
     "output_type": "stream",
     "text": [
      "\n",
      "\n",
      "Cultural erosion and biodiversity: Canoe-making knowledge in Pohnpei, Micronesia\n",
      "\n",
      "Erosion of traditional knowledge and practice is a serious and accelerating problem, but quantitative work on traditional knowledge loss and its importance to biodiversity conservation is lacking. We investigated traditional knowledge of canoe making, a skill heavily dependent on plant biodiversity, on Pohnpei, Federated States of Micronesia, through a survey of 180 island residents. Our results showed that there has been an intergenerational erosion of canoe-making skills. Given current trends, the present generation of Pohnpeians may be the last to retain any knowledge of this traditional craft. We also identified several correlates of knowledge loss - including Western educational level and occupation - that highlight potential avenues for skill conservation via governments, traditional leadership, and schools. These institutions could intervene to emphasize traditional knowledge, which would reinforce institutional contexts in which traditional knowledge and practice is valued. The heightened awareness of the value of biodiversity that is linked to traditional knowledge is key to biological conservation on Pohnpei and can help support local conservation programs. © 2007 Society for Conservation Biology.\n",
      "\n",
      "\n",
      "Historic marine invertebrate species inventory: Case study of a science baseline towards establishing a marine conservation area\n",
      "\n",
      "(1) Assessing species diversity is a basic requirement for conservation, and protecting biodiversity is a major goal of marine area conservation. (2) A case study is presented on the development of a literature-based (1870s to 2000), museum collection-based, georeferenced inventory of marine invertebrate species of the Haida Gwaii (Queen Charlotte Islands) region, Canada. (3) Database structure and quality assurance are described, along with including indigenous people's words for species towards using traditional knowledge within cooperative marine conservation area management. (4) The utility of this type of inventory is proposed as a starting point for gathering regional biodiversity knowledge, and facilitating addition of other knowledge types, towards marine area conservation. © 2009 John Wiley & Sons, Ltd.\n",
      "\n",
      "\n",
      "Ecological protection and well-being\n",
      "\n",
      "Based on Sen's function approach, this paper stated the connotation of the well-being, and defined that the freedom choice and capability of the human is the connotation of the human well-being on ecosystem services, while the poverty is the limited for capability and development of the human. Ecosystem degradation and destruction will seriously threat to human well-being, especially the well-being of the poor. Conservation of biodiversity can contribute to the protection of ecosystem services, which as the core of the ecosystem, and then improve the well-being of human. Focused on the well-being of the poor whom strongly dependent on ecosystem services and effective implemented ecological compensation, that can achieve a win-win between ecological protection and human well-being improvement.\n",
      "\n",
      "\n",
      "Ecosystem services, biodiversity, and the millennium development goals\n",
      "\n",
      "Ecosystem services are essential for human well-being. The chapter explores the linkages between ecosystems and ecosystem services, biodiversity, and the Millennium Development Goals. Specifically, it focuses on the discussions in the Millennium Ecosystem Assessment, the ecosystem approach within the framework of the Convention on Biological Diversity, and ecosystems' role in the achievement of specific targets of the Millennium Development Goals. It highlights the need for ecosystem-based approaches to ecosystem management, biodiversity conservation, and attainment of human well-being. Copyright © 2012 by Emerald Group Publishing Limited.\n",
      "\n",
      "\n",
      "Economic valuation for the conservation of marine biodiversity\n",
      "\n",
      "Policy makers are increasingly recognising the role of environmental valuation to guide and support the management and conservation of biodiversity. This paper presents a goods and services approach to determine the economic value of marine biodiversity in the UK, with the aim of clarifying the role of valuation in the management of marine biodiversity. The goods and services resulting from UK marine biodiversity are detailed, and 8 of the 13 services are valued in monetary terms. It is found that a decline in UK marine biodiversity could result in a varying, and at present unpredictable, change in the provision of goods and services, including reduced resilience and resistance to change, declining marine environmental health, reduced fisheries potential, and loss of recreational opportunities. The results suggest that this approach can facilitate biodiversity management by enabling the optimal allocation of limited management resources and through raising awareness of the importance of marine biodiversity. © 2007 Elsevier Ltd. All rights reserved.\n"
     ]
    }
   ],
   "source": [
    "for idx in match_fraction_idxs[:5]:\n",
    "    print('\\n')\n",
    "    print(corpus[idx].text)"
   ]
  },
  {
   "cell_type": "code",
   "execution_count": 51,
   "metadata": {
    "collapsed": false,
    "scrolled": true
   },
   "outputs": [
    {
     "name": "stdout",
     "output_type": "stream",
     "text": [
      "\n",
      "\n",
      "\n",
      "\n",
      "\n",
      "Using land-time-budgets to analyse farming systems and poverty alleviation policies in the Lao PDR\n",
      "\n",
      "This paper applies the method of 'Land-time-budget analysis' to a rural subsistence community and to the national economy of the Lao PDR. The analysis is conducted to meet two ends: • To identify the community's/the nation's resource use profile in terms of land and time use. The analysis identifies biophysical constraints of socio-economic development and trade-offs in resource use patterns. • To contrast the results of the analysis with national poverty alleviation policies and visualise their effects on local communities. Results show that shifting cultivation, a traditional socio-economic strategy in Laos, is doomed for extinction as a practice for securing subsistence. Little, if any, provisions are made by the planners to persuade shifting cultivators to leave their trade and moving to the lowlands and urban areas. Policies are shown to actually decrease the rate of subsistence, which is risk-averse, and increase market participation, which is unstable. Copyright © 2005 Inderscience Enterprises Ltd.\n",
      "\n",
      "\n",
      "\n",
      "\n",
      "\n",
      "\n",
      "\n",
      "\n",
      "Solidarity economy and recycling co-ops in São Paulo: Micro-credit to alleviate poverty\n",
      "\n",
      "Lack of working capital hinders collective commercialisation of recyclables. Social exclusion and bureaucratic constraints prevent recyclers from obtaining official bank loans. As they continue to depend on intermediaries, the cycle of poverty, dependency, and exclusion is perpetuated. The article discusses collective commercialisation and the micro-credit fund created among 30 recycling groups in the Brazilian city of São Paulo. A committee of eight women recyclers manages this fund. The article contextualises reflections on empowerment and community-based development, applying the theoretical framework of social and solidarity economy. The author finally suggests that inclusive governance structures have the potential to generate greater justice and sustainability. © 2009 Oxfam GB.\n",
      "\n",
      "\n",
      "\n",
      "\n",
      "\n",
      "Perceptions of Family Environment and Wraparound Processes: Associations with Age and Implications for Serving Transitioning Youth in Systems of Care\n",
      "\n",
      "Addressing the unique needs of youth transitioning to adulthood has long been viewed as a priority in implementation of systems of care (SOCs) and wraparound. Developmental research and \"practice-based evidence\" suggest that there are differences between transitioning youth and their younger peers in family environment and wraparound team processes. Although these differences are thought to have significant implications for wraparound practice, few studies have examined them empirically. The present research involves two studies examining differences across several age cohorts (i. e., 10-12, 13, 14, 15, 16-17 year-olds) ranging from early adolescent to transitioning youth in: (1) caregiver perceptions of role-related strain and family environment quality, and (2) facilitator, caregiver, and youth perceptions of wraparound processes. In Study #1, older age was associated with higher levels of caregiver strain. In Study #2, age was associated with differences between youth and other team members' perceptions of wraparound processes, such that older youth perceived teams as less cohesive than others on their teams. These findings suggest that transitioning youth and their families merit special consideration in wraparound implementation and underscore the importance of considering the perceptions of transitioning youth in system change and practice improvement efforts (192 words). © 2012 Society for Community Research and Action.\n",
      "\n",
      "\n",
      "\n"
     ]
    }
   ],
   "source": [
    "for idx in match_fraction_idxs[-8:]:\n",
    "    print('\\n')\n",
    "    print(corpus[idx].text)"
   ]
  },
  {
   "cell_type": "code",
   "execution_count": 13,
   "metadata": {
    "collapsed": false
   },
   "outputs": [
    {
     "data": {
      "text/plain": [
       "False"
      ]
     },
     "execution_count": 13,
     "metadata": {},
     "output_type": "execute_result"
    }
   ],
   "source": [
    "EMAIL_REGEX = re.compile(r\"(?:^|(?<=[^\\w@.)]))([\\w+-](\\.(?!\\.))?)*?[\\w+-]@(?:\\w-?)*?\\w+(\\.([a-z]{2,})){1,3}(?:$|(?=\\b))\", flags=re.IGNORECASE | re.UNICODE)\n",
    "\n",
    "EMAIL_REGEX.search('burtondewilde') is not None"
   ]
  },
  {
   "cell_type": "code",
   "execution_count": 52,
   "metadata": {
    "collapsed": true
   },
   "outputs": [],
   "source": [
    "keyterms = {'intervention': {'conservation', 'conserve', 'conservancy',\n",
    "                             'protect*', 'management', 'awareness', 'law*',\n",
    "                             'policy*', 'reserve*', 'govern*', 'capacity-build*',\n",
    "                             'train*', 'regulation', 'payment for ecosystem services', 'PES',\n",
    "                             'ecotourism', 'sustainable use'},\n",
    "            'outcome': {'wellbeing', 'well-being', 'well being', 'ecosystem service*',\n",
    "                        'nutrition', 'skill*', 'empower*', 'clean water', 'livelihood*',\n",
    "                        'food security', 'resilience*', 'vulnerability', 'social capital',\n",
    "                        'attitude*', 'perception*', '(human)? health*', 'human capital',\n",
    "                        '(traditional)? knowledge'},\n",
    "            'intervention_qualifiers': {'marine', 'freshwater', 'coastal', 'forest*',\n",
    "                                        'ecosystem*', 'species', 'habitat*', 'biodiversity',\n",
    "                                        'sustainab*', 'ecolog*', 'integrated', 'landscape',\n",
    "                                        'seascape', 'coral reef*', 'natural resource*'},\n",
    "            'outcome_qualifiers': {'human*', 'people', 'person*', 'communit*',\n",
    "                                   'household*', 'fisher*', 'collaborative'}\n",
    "            }\n",
    "\n",
    "keyterms_joined = '|'.join(val.replace('*', '*?')\n",
    "                           for vals in keyterms.values()\n",
    "                           for val in vals)\n",
    "keyterms_re = re.compile(r'(?<=^|\\b)(' + keyterms_joined + r')(?=$|\\b)', flags=re.IGNORECASE)\n",
    "\n",
    "records = pgdb.run_query(query, {'project_id': project_id})\n",
    "\n",
    "match_fractions = []\n",
    "for record in records:\n",
    "    if not record['text']:\n",
    "        match_fractions.append(0.0)\n",
    "        continue\n",
    "    match_fractions.append(\n",
    "        sum(len(match.group()) for match in keyterms_re.finditer(record['text'])) / len(record['text']))\n",
    "\n",
    "match_fraction_idxs = np.argsort(match_fractions)[::-1]"
   ]
  },
  {
   "cell_type": "code",
   "execution_count": 53,
   "metadata": {
    "collapsed": false
   },
   "outputs": [
    {
     "data": {
      "text/plain": [
       "array([ 3931, 23503, 14842, ..., 10493, 10513,     0])"
      ]
     },
     "execution_count": 53,
     "metadata": {},
     "output_type": "execute_result"
    }
   ],
   "source": [
    "match_fraction_idxs"
   ]
  }
 ],
 "metadata": {
  "kernelspec": {
   "display_name": "Python 3",
   "language": "python",
   "name": "python3"
  },
  "language_info": {
   "codemirror_mode": {
    "name": "ipython",
    "version": 3
   },
   "file_extension": ".py",
   "mimetype": "text/x-python",
   "name": "python",
   "nbconvert_exporter": "python",
   "pygments_lexer": "ipython3",
   "version": "3.5.1"
  }
 },
 "nbformat": 4,
 "nbformat_minor": 0
}
