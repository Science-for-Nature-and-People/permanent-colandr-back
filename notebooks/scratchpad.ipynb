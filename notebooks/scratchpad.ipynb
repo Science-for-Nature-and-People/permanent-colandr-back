{
 "cells": [
  {
   "cell_type": "code",
   "execution_count": 1,
   "metadata": {
    "collapsed": false
   },
   "outputs": [],
   "source": [
    "import json\n",
    "import logging\n",
    "import math\n",
    "import re\n",
    "\n",
    "import numpy as np\n",
    "import pandas as pd\n",
    "from toolz import itertoolz\n",
    "\n",
    "import cipy\n",
    "import textacy"
   ]
  },
  {
   "cell_type": "code",
   "execution_count": 2,
   "metadata": {
    "collapsed": true
   },
   "outputs": [],
   "source": [
    "logger = logging.getLogger('cipy')\n",
    "logger.setLevel(logging.DEBUG)"
   ]
  },
  {
   "cell_type": "code",
   "execution_count": 3,
   "metadata": {
    "collapsed": false
   },
   "outputs": [],
   "source": [
    "conn_creds = cipy.db.get_conn_creds('DATABASE_URL')\n",
    "citations_db = cipy.db.PostgresDB(conn_creds, ddl='citations')"
   ]
  },
  {
   "cell_type": "code",
   "execution_count": 4,
   "metadata": {
    "collapsed": true
   },
   "outputs": [],
   "source": [
    "project_id = 1"
   ]
  },
  {
   "cell_type": "code",
   "execution_count": 5,
   "metadata": {
    "collapsed": false
   },
   "outputs": [],
   "source": [
    "query = \"\"\"\n",
    "SELECT\n",
    "    citation_id,\n",
    "    TRIM('\\n' FROM concat_ws('\\n\\n', COALESCE(title, ''),\n",
    "                   COALESCE(abstract, ''),\n",
    "                   COALESCE(array_to_string(keywords, ', '), ''))) AS citation_text\n",
    "FROM citations\n",
    "WHERE\n",
    "    project_id = %(project_id)s\n",
    "    AND (citation_id NOT IN (SELECT citation_id FROM duplicates)\n",
    "         OR citation_id IN (SELECT canonical_citation_id FROM duplicates))\n",
    "ORDER BY random()\n",
    "LIMIT 1000\n",
    "\"\"\"\n",
    "\n",
    "df = pd.DataFrame(citations_db.run_query(query, {'project_id': project_id}))"
   ]
  },
  {
   "cell_type": "code",
   "execution_count": 6,
   "metadata": {
    "collapsed": false
   },
   "outputs": [
    {
     "name": "stdout",
     "output_type": "stream",
     "text": [
      "(1000, 2)\n"
     ]
    },
    {
     "data": {
      "text/html": [
       "<div>\n",
       "<table border=\"1\" class=\"dataframe\">\n",
       "  <thead>\n",
       "    <tr style=\"text-align: right;\">\n",
       "      <th></th>\n",
       "      <th>citation_id</th>\n",
       "      <th>citation_text</th>\n",
       "    </tr>\n",
       "  </thead>\n",
       "  <tbody>\n",
       "    <tr>\n",
       "      <th>0</th>\n",
       "      <td>19677</td>\n",
       "      <td>Assessing and improving health in the workplac...</td>\n",
       "    </tr>\n",
       "    <tr>\n",
       "      <th>1</th>\n",
       "      <td>2785</td>\n",
       "      <td>Understanding uncertainty and reducing vulnera...</td>\n",
       "    </tr>\n",
       "    <tr>\n",
       "      <th>2</th>\n",
       "      <td>17228</td>\n",
       "      <td>Comparative study of forest under participator...</td>\n",
       "    </tr>\n",
       "    <tr>\n",
       "      <th>3</th>\n",
       "      <td>27673</td>\n",
       "      <td>Biomonitoring of trace element air pollution: ...</td>\n",
       "    </tr>\n",
       "    <tr>\n",
       "      <th>4</th>\n",
       "      <td>4240</td>\n",
       "      <td>Thinking down or acting up? governmental and g...</td>\n",
       "    </tr>\n",
       "  </tbody>\n",
       "</table>\n",
       "</div>"
      ],
      "text/plain": [
       "   citation_id                                      citation_text\n",
       "0        19677  Assessing and improving health in the workplac...\n",
       "1         2785  Understanding uncertainty and reducing vulnera...\n",
       "2        17228  Comparative study of forest under participator...\n",
       "3        27673  Biomonitoring of trace element air pollution: ...\n",
       "4         4240  Thinking down or acting up? governmental and g..."
      ]
     },
     "execution_count": 6,
     "metadata": {},
     "output_type": "execute_result"
    }
   ],
   "source": [
    "print(df.shape)\n",
    "df.head()"
   ]
  },
  {
   "cell_type": "code",
   "execution_count": 7,
   "metadata": {
    "collapsed": false
   },
   "outputs": [
    {
     "name": "stdout",
     "output_type": "stream",
     "text": [
      "Thinking down or acting up? governmental and grassroots environmental thought and action in the transboundary northern plains\n",
      "\n",
      "It is widely recognized that the 49th parallel is an arbitrary construction. A political ecology of the Frenchman River-Bitter Creek Area, straddling the Saskatchewan-Montana border, shows that despite parallel socioeconomic and ecological conditions and threats on either side of this border, very different political and managerial regimes apply. Differences are especially pronounced with respect to grasslands conservation and management, and how these impact agricultural livelihoods. More troubling is the dearth of knowledge within each country with respect to the management activities undertaken in the other.\n",
      "\n",
      "Community-based approaches, Conservation, Northern Great Plains, Political ecology, Transboundary environmental management\n"
     ]
    }
   ],
   "source": [
    "print(df.ix[4, 'citation_text'])"
   ]
  },
  {
   "cell_type": "code",
   "execution_count": 8,
   "metadata": {
    "collapsed": false
   },
   "outputs": [
    {
     "name": "stdout",
     "output_type": "stream",
     "text": [
      "(1000, 2)\n"
     ]
    },
    {
     "data": {
      "text/html": [
       "<div>\n",
       "<table border=\"1\" class=\"dataframe\">\n",
       "  <thead>\n",
       "    <tr style=\"text-align: right;\">\n",
       "      <th></th>\n",
       "      <th>citation_id</th>\n",
       "      <th>citation_text</th>\n",
       "    </tr>\n",
       "  </thead>\n",
       "  <tbody>\n",
       "    <tr>\n",
       "      <th>0</th>\n",
       "      <td>6379</td>\n",
       "      <td>Seed dispersal distances and plant migration p...</td>\n",
       "    </tr>\n",
       "    <tr>\n",
       "      <th>1</th>\n",
       "      <td>10392</td>\n",
       "      <td>Genotoxicity and metabolism of the source-wate...</td>\n",
       "    </tr>\n",
       "    <tr>\n",
       "      <th>2</th>\n",
       "      <td>9146</td>\n",
       "      <td>Risk management: A proposal for communication ...</td>\n",
       "    </tr>\n",
       "    <tr>\n",
       "      <th>3</th>\n",
       "      <td>23062</td>\n",
       "      <td>Significance of toponyms, with emphasis on fie...</td>\n",
       "    </tr>\n",
       "    <tr>\n",
       "      <th>4</th>\n",
       "      <td>8604</td>\n",
       "      <td>Effects of element separation on perceptual gr...</td>\n",
       "    </tr>\n",
       "  </tbody>\n",
       "</table>\n",
       "</div>"
      ],
      "text/plain": [
       "   citation_id                                      citation_text\n",
       "0         6379  Seed dispersal distances and plant migration p...\n",
       "1        10392  Genotoxicity and metabolism of the source-wate...\n",
       "2         9146  Risk management: A proposal for communication ...\n",
       "3        23062  Significance of toponyms, with emphasis on fie...\n",
       "4         8604  Effects of element separation on perceptual gr..."
      ]
     },
     "execution_count": 8,
     "metadata": {},
     "output_type": "execute_result"
    }
   ],
   "source": [
    "results = citations_db.run_query(\n",
    "    cipy.db.queries.GET_CITATION_TEXTS_SAMPLE, {'project_id': project_id})\n",
    "df = pd.DataFrame(results)\n",
    "print(df.shape)\n",
    "df.head()"
   ]
  },
  {
   "cell_type": "code",
   "execution_count": 9,
   "metadata": {
    "collapsed": false
   },
   "outputs": [
    {
     "data": {
      "text/plain": [
       "re.compile(r'(?<=^|\\b)(person*?|household*?|fisher*?|communit*?|human*?|collaborative|people|human capital|(human )?health*?|(traditional )?knowledge|ecosystem service*?|resilience*?|well\\-being|wellbeing|livelihood*?|well being|nutrition|social capital|perception*?|clean water|empower*?|vulnerability|food security|attitude*?|skill*?|PES|reserve*?|protect*?|conserve|conservation|train*?|govern*?|sustainable use|policy*?|awareness|capacity\\-build*?|management|regulation|ecotourism|payment for ecosystem services|law*?|conservancy|marine|biodiversity|ecosystem*?|natural resource*?|coral reef*?|sustainab*?|habitat*?|species|coastal|freshwater|seascape|integrated|landscape|forest*?|ecolog*?)(?=$|\\b)',\n",
       "re.IGNORECASE|re.UNICODE)"
      ]
     },
     "execution_count": 9,
     "metadata": {},
     "output_type": "execute_result"
    }
   ],
   "source": [
    "keyterms = {'intervention': {'conservation', 'conserve', 'conservancy',\n",
    "                             'protect*', 'management', 'awareness', 'law*',\n",
    "                             'policy*', 'reserve*', 'govern*', 'capacity\\-build*',\n",
    "                             'train*', 'regulation', 'payment for ecosystem services', 'PES',\n",
    "                             'ecotourism', 'sustainable use'},\n",
    "            'outcome': {'wellbeing', 'well\\-being', 'well being', 'ecosystem service*',\n",
    "                        'nutrition', 'skill*', 'empower*', 'clean water', 'livelihood*',\n",
    "                        'food security', 'resilience*', 'vulnerability', 'social capital',\n",
    "                        'attitude*', 'perception*', '(human )?health*', 'human capital',\n",
    "                        '(traditional )?knowledge'},\n",
    "            'intervention_qualifiers': {'marine', 'freshwater', 'coastal', 'forest*',\n",
    "                                        'ecosystem*', 'species', 'habitat*', 'biodiversity',\n",
    "                                        'sustainab*', 'ecolog*', 'integrated', 'landscape',\n",
    "                                        'seascape', 'coral reef*', 'natural resource*'},\n",
    "            'outcome_qualifiers': {'human*', 'people', 'person*', 'communit*',\n",
    "                                   'household*', 'fisher*', 'collaborative'}\n",
    "            }\n",
    "\n",
    "keyterms_joined = '|'.join(val.replace('*', '*?')\n",
    "                           for vals in keyterms.values()\n",
    "                           for val in vals)\n",
    "keyterms_re = re.compile(r'(?<=^|\\b)(' + keyterms_joined + r')(?=$|\\b)', flags=re.IGNORECASE)\n",
    "keyterms_re"
   ]
  },
  {
   "cell_type": "code",
   "execution_count": 20,
   "metadata": {
    "collapsed": false
   },
   "outputs": [],
   "source": [
    "# def get_regex_match_score(citation_text, len_pow_scaling=0.33):\n",
    "#     try:\n",
    "#         return (math.pow(len(citation_text), len_pow_scaling)\n",
    "#                 * sum(len(match.group()) for match in keyterms_re.finditer(citation_text))\n",
    "#                 / len(citation_text))\n",
    "#     except ZeroDivisionError:\n",
    "#         return 0.0\n",
    "\n",
    "def get_regex_match_score(citation_text):\n",
    "    full_len = len(citation_text)\n",
    "    if full_len == 0:\n",
    "        return 0.0\n",
    "    match_len = sum(len(match.group()) for match in keyterms_re.finditer(citation_text))\n",
    "    nonmatch_len = full_len - match_len\n",
    "    try:\n",
    "        return match_len/nonmatch_len\n",
    "    except ValueError:\n",
    "        print(match_len, nonmatch_len, full_len)\n",
    "\n",
    "df['regex_match_score'] = df['citation_text'].map(lambda x: get_regex_match_score(x))\n",
    "df['regex_match_pctrank'] = df['regex_match_score'].rank(pct=True, ascending=True)\n",
    "df.sort_values('regex_match_pctrank', inplace=True, ascending=False)"
   ]
  },
  {
   "cell_type": "code",
   "execution_count": 23,
   "metadata": {
    "collapsed": false
   },
   "outputs": [
    {
     "data": {
      "text/html": [
       "<div>\n",
       "<table border=\"1\" class=\"dataframe\">\n",
       "  <thead>\n",
       "    <tr style=\"text-align: right;\">\n",
       "      <th></th>\n",
       "      <th>citation_id</th>\n",
       "      <th>citation_text</th>\n",
       "      <th>regex_match_score</th>\n",
       "      <th>regex_match_pctrank</th>\n",
       "    </tr>\n",
       "  </thead>\n",
       "  <tbody>\n",
       "    <tr>\n",
       "      <th>184</th>\n",
       "      <td>14653</td>\n",
       "      <td>The Spaces of Social Capital: Livelihood Geogr...</td>\n",
       "      <td>0.239224</td>\n",
       "      <td>1.000</td>\n",
       "    </tr>\n",
       "    <tr>\n",
       "      <th>367</th>\n",
       "      <td>28688</td>\n",
       "      <td>Forests and trees outside forests are essentia...</td>\n",
       "      <td>0.215592</td>\n",
       "      <td>0.999</td>\n",
       "    </tr>\n",
       "    <tr>\n",
       "      <th>69</th>\n",
       "      <td>23756</td>\n",
       "      <td>Values and people's participation in community...</td>\n",
       "      <td>0.200828</td>\n",
       "      <td>0.998</td>\n",
       "    </tr>\n",
       "    <tr>\n",
       "      <th>327</th>\n",
       "      <td>17189</td>\n",
       "      <td>On the hope for biodiversity-friendly tropical...</td>\n",
       "      <td>0.198492</td>\n",
       "      <td>0.997</td>\n",
       "    </tr>\n",
       "    <tr>\n",
       "      <th>473</th>\n",
       "      <td>12997</td>\n",
       "      <td>The influence of social capital on environment...</td>\n",
       "      <td>0.194245</td>\n",
       "      <td>0.996</td>\n",
       "    </tr>\n",
       "    <tr>\n",
       "      <th>717</th>\n",
       "      <td>952</td>\n",
       "      <td>CROP BIODIVERSITY CONSERVATION: HOPES FOR FUTU...</td>\n",
       "      <td>0.186825</td>\n",
       "      <td>0.995</td>\n",
       "    </tr>\n",
       "    <tr>\n",
       "      <th>969</th>\n",
       "      <td>26700</td>\n",
       "      <td>Effects of community-based collaborative group...</td>\n",
       "      <td>0.184160</td>\n",
       "      <td>0.994</td>\n",
       "    </tr>\n",
       "    <tr>\n",
       "      <th>428</th>\n",
       "      <td>12100</td>\n",
       "      <td>Agroforestry for biodiversity conservation of ...</td>\n",
       "      <td>0.166078</td>\n",
       "      <td>0.993</td>\n",
       "    </tr>\n",
       "    <tr>\n",
       "      <th>554</th>\n",
       "      <td>23715</td>\n",
       "      <td>People's participation in management of protec...</td>\n",
       "      <td>0.164223</td>\n",
       "      <td>0.992</td>\n",
       "    </tr>\n",
       "    <tr>\n",
       "      <th>604</th>\n",
       "      <td>7235</td>\n",
       "      <td>Motivations for conserving urban biodiversity\\...</td>\n",
       "      <td>0.162476</td>\n",
       "      <td>0.991</td>\n",
       "    </tr>\n",
       "  </tbody>\n",
       "</table>\n",
       "</div>"
      ],
      "text/plain": [
       "     citation_id                                      citation_text  \\\n",
       "184        14653  The Spaces of Social Capital: Livelihood Geogr...   \n",
       "367        28688  Forests and trees outside forests are essentia...   \n",
       "69         23756  Values and people's participation in community...   \n",
       "327        17189  On the hope for biodiversity-friendly tropical...   \n",
       "473        12997  The influence of social capital on environment...   \n",
       "717          952  CROP BIODIVERSITY CONSERVATION: HOPES FOR FUTU...   \n",
       "969        26700  Effects of community-based collaborative group...   \n",
       "428        12100  Agroforestry for biodiversity conservation of ...   \n",
       "554        23715  People's participation in management of protec...   \n",
       "604         7235  Motivations for conserving urban biodiversity\\...   \n",
       "\n",
       "     regex_match_score  regex_match_pctrank  \n",
       "184           0.239224                1.000  \n",
       "367           0.215592                0.999  \n",
       "69            0.200828                0.998  \n",
       "327           0.198492                0.997  \n",
       "473           0.194245                0.996  \n",
       "717           0.186825                0.995  \n",
       "969           0.184160                0.994  \n",
       "428           0.166078                0.993  \n",
       "554           0.164223                0.992  \n",
       "604           0.162476                0.991  "
      ]
     },
     "execution_count": 23,
     "metadata": {},
     "output_type": "execute_result"
    }
   ],
   "source": [
    "df.head(10)"
   ]
  },
  {
   "cell_type": "code",
   "execution_count": 22,
   "metadata": {
    "collapsed": false,
    "scrolled": false
   },
   "outputs": [
    {
     "name": "stdout",
     "output_type": "stream",
     "text": [
      "[14653\n",
      " \"The Spaces of Social Capital: Livelihood Geographies and Marine Conservation in the Cayos Cochinos Marine Protected Area, Honduras\\\\n\\\\nThis article explores the relation between, a household's social capital, and its use of marine resources in the Cayos Cochinos Marine Reserve. Recent writings on social capital's role in facilitating community conservation efforts have highlighted the ways in which strong levels of this asset can produce positive conservation outcomes. In contrast, this paper argues that social capital formation and use at the household level can produce a geography of resource use that runs counter to the zoning-based resource restrictions that often typify co-managed conservation, areas. Drawing on ethnographic and survey work from the Cayos Cochinos Marine Protected. Area, this paper shows how marine resources help Garifuna fishing families build networks of trust and reciprocity, which in turn allows them to access marine resources and mobilize them across space in ways that are at odds with the geography of the reserve's stated management plan.\\\\n\\\\nConservation co-management, Honduras, Livelihoods, Social capital\"]\n",
      "[18905\n",
      " 'Extinction processes in hot spots of avian biodiversity and the targeting of pre-emptive conservation action\\\\n\\\\nHot spots of endemism are regarded as important global sites for conservation as they are rich in threatened endemic species and currently experiencing extensive habitat loss. Targeting pre-emptive conservation action to sites that are currently relatively intact but which would be vulnerable to particular human activities if they occurred in the future is, however, also valuable but has received less attention. Here, we address this issue by using data on Endemic Bird Areas (EBAs). First, we identify the ecological factors that affect extinction risk in the face of particular human activities, and then use these insights to identify EBAs that should be priorities for pre-emptive conservation action. Threatened endemic species in EBAs are significantly more likely to be habitat specialists or relatively large-bodied than non-threatened species, when compared across avian families. Increasing habitat loss causes a significant increase in extinction risk among habitat specialists, but we found no evidence to suggest that the presence of alien species/human exploitation causes a significant increase in extinction risk among large-bodied species. This suggests that these particular human activities are contributing to high extinction risk among habitat specialists, but not among large-bodied species. Based on these analyses, we identify 39 EBAs containing 570 species (24% of the total in EBAs) that are not currently threatened with severe habitat loss, but would be ecologically vulnerable to future habitat loss should it occur. We show that these sites tend to be poorly represented in existing priority setting exercises involving hot spots, suggesting that vulnerability must be explicitly included within these exercises if such sites are to be adequately protected.\\\\n\\\\nAlien species, Endemic bird areas, Extinction risk, Habitat loss, Human exploitatio']\n",
      "[10325\n",
      " \"Introduction of non-native freshwater fish: Is it all bad?\\\\n\\\\nRisk perceptions are important to the policy process, but there is often a well-established pattern of small risks being over assessed. This is also true with the issue of non-native freshwater fish introductions, where a great majority of research focuses on the few negative cases. The attitude towards 'non-natives' is a continually evolving process and varies according to current societal values. Here I show that on the global scale, the majority of freshwater fish introductions are not identified as having an ecological impact while having great societal benefits. Case studies from the African lakes are discussed in order to illustrate contrasting outcomes following fish introductions. Looking into the future, the environmental changes that freshwater ecosystems may encounter will have inevitable implications on the distribution of our native freshwater fish species and the need to rely on non-native introductions may become a growing reality. Aquaculture production is regularly increasing and our dependence on it is likely to become greater as it provides an important substitute for the declining production of capture fisheries. With it the number of freshwater fish introductions will increase and a more realistic attitude, albeit controversial, will need to be debated. This would mean protecting some introductions that present beneficial outcomes for biodiversity alongside a more systematic ban of species or families of fish presenting a higher historical ecological risk. The public perception of risk is something which cannot be ignored by any government or ruling body, but in order to gain public support in the fight for conservation of freshwater fish biodiversity, the message needs to be clear, detailed and educational. © 2008 The Author.\\\\n\\\\nAlien fish, Aquaculture, Biodiversity, Ecological impact, Economic value\"]\n",
      "[1501\n",
      " 'Slope aspect modifies community responses to clear-cutting in boreal forests\\\\n\\\\nSlope aspect modifies microclimate and influences ecological processes and spatial distribution of species across forest landscapes, but the impact of slope aspect on community responses to disturbance is poorly understood. Such insight is necessary to understand landscape community dynamics and resilience. We compared bryophyte (liverworts and mosses) communities in matched 0.02-ha plots of four boreal stand types in central Sweden: recently clear-felled and mature stands dominated by Norway spruce in southfacing and north-facing slopes. Differences between forests and clear-cuts were interpreted as effects of clear-cutting, and differences between south- and north-facing slopes as effects of aspect. In response to clear-cutting, bryophyte cover and composition changed more in south-facing slopes. Only one out of ten significantly declining species in south-facing slopes also declined significantly in north-facing slopes. North-facing slopes lost fewer bryophyte species, and among those, fewer forest species and fewer species associated with wood and bark. In north-facing slopes, the average proportions of mosses and liverworts shared between the forest and the clear-cut plot were 88% and 74%, respectively. Corresponding numbers for south-facing slopes were 79% and 33%. In addition, more bryophyte species were added in north- than south-facing slopes after clear-cutting, somewhat reducing the difference in compositional change between aspects. South- and north-facing mature forests differed in species composition, mostly due to higher richness of mosses in south-facing slopes. The smaller changes in bryophyte communities on north-facing slopes in response to clear-cutting have implications for ecosystem dynamics and management as high local survival may enhance landscape-level resilience. © 2007 by the Ecological Society of America.\\\\n\\\\nClear-cutting, Disturbance, Forest, Habitat quality, Liverworts, Mosses, Resilience, Slope, Species composition, Stability']\n",
      "[27707\n",
      " 'A framework for the study of zoonotic disease emergence and its drivers: Spillover of bat pathogens as a case study\\\\n\\\\nMany serious emerging zoonotic infections have recently arisen from bats, including Ebola, Marburg, SARS-coronavirus, Hendra, Nipah, and a number of rabies and rabies-related viruses, consistent with the overall observation that wildlife are an important source of emerging zoonoses for the human population. Mechanisms underlying the recognized association between ecosystem health and human health remain poorly understood and responding appropriately to the ecological, social and economic conditions that facilitate disease emergence and transmission represents a substantial societal challenge. In the context of disease emergence from wildlife, wildlife and habitat should be conserved, which in turn will preserve vital ecosystem structure and function, which has broader implications for human wellbeing and environmental sustainability, while simultaneously minimizing the spillover of pathogens from wild animals into human beings. In this review, we propose a novel framework for the holistic and interdisciplinary investigation of zoonotic disease emergence and its drivers, using the spillover of bat pathogens as a case study. This study has been developed to gain a detailed interdisciplinary understanding, and it combines cutting-edge perspectives from both natural and social sciences, linked to policy impacts on public health, land use and conservation. © 2012 The Royal Society.\\\\n\\\\nBat, Collaborative framework, Emergence, Zoonosis']\n",
      "[13060\n",
      " 'Gujjar community resettlement from Rajaji National Park, Uttarakhand, India\\\\n\\\\nThe Gujjar Rehabilitation Programme (Uttarakhand, India) is an integrated approach focusing on environmental conservation and providing better livelihood opportunities for pastoral Gujjar communities. The primary objective of this present study is to assess the response of rehabilitated Gujjar families to the resettlement Programme. Socio-economic assessments (e.g. livelihood status) of affected people at the two resettlement sites (Pathri and Gaindikhatta) were conducted. Resettled Gujjars reported enhancement of their livelihoods and many more children receiving schooling. Additionally, state government departments and several NGOs are making efforts to strengthen the prospects of Gujjar women through training and education programmes.']\n",
      "[17721\n",
      " \"Parks-people conflicts: The case of Gonarezhou National Park and the Chitsa community in south-east zimbabwe\\\\n\\\\nNational parks have been the centre piece of international conservation strategies in developing countries. The expansion in the network of national parks has enabled the conservation of biodiversity and habitats but the acquisition of vast areas into the park system has often been achieved through the displacement of resident local communities. Displaced people are exposed to a variety of impoverishment risks and this stokes up animosity towards parks. The research reported here seeks to understand the key issues involved in the occupation of a section of Gonarezhou National Park by Headman Chitsa's people. The paper examines how the interplay between the history of displacement and dispossession, demographic pressures, limited economic opportunities, the 'fast track' land reform programme and dynastic politics are fomenting the land conflict between Gonarezhou and Chitsa community. Secondary actors with diverse interests have also come into the fold. Official efforts to resolve the conflict using a top-down approach have yielded little success. This culminated in a shift towards the use of traditional mechanisms of resolving a chieftaincy dispute as a step towards addressing the broader parks-people land conflict. Lessons from the case study are, inter alia, that interventions aimed at resolving parks-people conflicts should be alive to local culture, livelihood needs and power dynamics and, to the extent possible, eschew forcible relocations. Finally, we draw attention to the need to address the wider contradiction between policies promoting wildlife conservation and those promoting agriculture. The article is written to share lessons with readers interested in parks-people conflicts. © Springer Science+Business Media B.V. 2009.\\\\n\\\\nChitsa community, Conflict, Conflict resolution mechanisms, Conservation, Displacement, Gonarezhou National Park, Impoverishment risks, Lessons learnt\"]\n",
      "[19017\n",
      " 'Gendered impacts of conservation agriculture and paradox of herbicide use among smallholder farmers\\\\n\\\\nConservation Agriculture (CA) is increasingly taking a central stage in agricultural policies and rural development among developing countries like Zambia. The challenge of gender gaps in agriculture has persisted despite efforts of gender mainstreaming. This paper assesses gender based impacts of conservation agriculture (CA) basins among smallholder farmers under the Conservation Agriculture Programme (CAP) in Zambia. Qualitative and quantitative approaches were used to collect data. Quantitative data was analysed mainly by descriptive statistics and qualitative data by thematic and content analysis. Results indicated that women and children experienced reduction in labour with respect to clearing of fields before tillage and during weeding where herbicides were used correctly. Improvement in household food security was also reported. Digging of CA basins was labour intensive and the chaka hoe was heavy for women. Labour requirement for women and children was more than for men during hand weeding. Herbicides have increased labour requirements for men because they are predominantly involved in spraying. Women needed to reduce their labour during weeding but feared that the use of herbicides would increase food insecurity during hunger peak period. This was because the use of herbicides is inconsistent with the practice of mixed cropping and selection of valuable wild vegetables that were important for food security. Results suggest that usage of herbicide such as atrazine could have health concerns that may affect women more than men. Use of herbicides raises questions as to what extent CA is environmentally sustainable. Interventions in CA need to be both gender sensitive and minimise tradeoffs between health concerns, socio-economic benefits and environmental sustainability. © Some rights reserved / Creative Commons license.\\\\n\\\\nAgricultural labour use, Food security, Gender, Herbicides, Innovation adoption, Zambia']\n",
      "[2856\n",
      " \"Historical patterns of resource exploitation and the status of papua New Guinea Coral reefs\\\\n\\\\nUnderstanding human drivers of exploitation within the context of historical baselines can assist in better management of natural resources. Retrospective studies provide insight into the scale, nature, and timing of human influence on reef ecosystems. Using Papua New Guinea as a model, we assessed human influences on the historical status of reef resources through time. Reef resources were divided into seven ecological guilds, assessed over seven cultural periods and in reference to seven types of human influences. Ranking of ecological status and human influence was performed based on extensive bibliographical research. Evidence for periods of sustainability and depletion were found throughout historical and modern periods. More recently, acceleration in the rate of resource depletion has occurred as a result of increasing pressure at unprecedented scales. Subsistence lifestyles are becoming unviable or unattractive since the introduction of the cash economy during colonial times. Current challenges such as providing livelihood options and sustaining replenishment rates of reef resources have arisen from a long history of overexploitation that preconditioned the current status of reef resources under an economic climate of increasing demand for these resources. Studies of past human exploitation of reef resources can help to overcome the shifting baseline syndrome for fisheries management in marine ecosystems and help characterize the scale and intensity of human drivers influencing resource exploitation. © 2013 by University of Hawai'i Press.\"]\n",
      "[13117\n",
      " \"Biological diversity, ecology, and global climate change\\\\n\\\\nWorldwide climate change and loss of biodiversity are issues of global scope and importance that have recently become subjects of considerable public concern. Unlike classical public health issues and many environmental issues, their perceived threat lies in their potential to disrupt ecological functioning and stability rather than from any direct threat they may pose to human health. Over the last 5 years, the international scientific community and the general public have become aware of the implications that atmospheric warming might have for world climate patterns and the resulting changes in the persistence, location, and composition of ecosystems worldwide. At the same time, awareness of the magnitude of current and impending losses of the world's biological diversity has increased. Human activities are currently responsible for a species loss rate that is the most extreme in millions of years, and an alarmingly increasing rate of transformation and fragmentation of natural landscapes. We are just beginning to grasp the meaning of this loss in terms of opportunity costs to human society and the less quantifiable losses associated with simplification of natural ecosystems. In the case of both global warming and reduction of biological diversity, man is affecting nature in an unprecedented fashion, on a global scale, and with unpredictable and frequently irreversible results.\"]\n",
      "[2204\n",
      " \"Valuing the chances of survival of two distinct Eurasian lynx populations in Poland - Do people want to keep the doors open?\\\\n\\\\nThis study investigates individuals' preferences toward protection programs aimed at increasing the chances of survival of the two distinct Eurasian lynx populations in Poland. Those two groups, the Lowland and the Carpathian population, are exposed to different risks of extinction as they have different numbers, different-sized areas of occupation and different migration possibilities. Using a discrete choice experiment we examine the influence of the initial degree of endangerment on the allocation of respondents' funds. The results show that people prefer to invest in the conservation of the lynx population, which has initially lower chances of survival. The main driver of respondents' choices seems to be loss aversion rather than the urge to invest in an option with an expected higher outcome. This observation can be interpreted as people trying to keep all the options - doors - open by devoting more funds to the more vulnerable population than to the more stable one. Employing a scale-extended latent class model allowed us to detect segments among individuals showing different types of response behavior, including a form of serial non-participation. © 2013 Elsevier Ltd.\\\\n\\\\nDiscrete choice models, Loss aversion, Lynx conservation, Scale-extended latent class model, Serial non-participation, Threatened species\"]\n",
      "[18483\n",
      " 'Why did the project fail to achieve its objectives in some villages? The experience of the Upland Settlement Project (USP) in Bangladesh\\\\n\\\\nBy sampling an upland settlement project (USP) village, this study examined why the project failed to achieve the planned objectives in some villages, and what livelihood strategies villagers (planters) have adopted to sustain their livelihoods. The paper uses data obtained by qualitative and quantitative methods. The USP was formulated with the objectives of settling 50 landless and marginal tribal families in a project village and introducing agroforestry and rubber plantations for short- and long-term socioeconomic development of planters, in a participatory manner. There are now only 15 planters in the project village and, although agroforestry has progressed well, only 30 to 40% of poor quality rubber trees remain. Planter participation in project activities was limited to wage labour, indicating that the USP failed to adequately achieve all its proposed objectives. In the face of project failure, planters have adopted diversified strategies to maintain their livelihoods. Several shortcomings caused failure of the project, such as the inability of project staff members to organize planters, failure to create awareness among planters about project benefits, lack of regular project money disbursement, sociocultural ignorance, and lack of social capital among planters. Recommendations are made for securing effective participation of local people to assure successful and sustainable project outcomes. Lessons learned will be helpful in formulating future development programmes in this country and elsewhere.\\\\n\\\\nChittagong Hill tract, Livelihoods, NGOs, Planters, Social capital, Upland settlement project']\n",
      "[4400\n",
      " \"Consistency among methods of assessing concerns about the Los Alamos National Laboratory\\\\n\\\\nIn making environmental remediation and restoration decisions, risk assessors and managers need to take into account the environmental concerns of people living around an industrial facility, as well as those residing in the general region. Yet such information is usually anecdotal rather than quantitative, and rarely compares perceptions among different alternatives methods. The concerns of individuals living in Santa Fe, NM, near the Department of Energy's Los Alamos National Laboratory (LANL) were characterized. On an open-ended question, the public's greatest concerns were for contamination (35%), ecological health (16%), and human health (14%). When asked to rate their level of concern from a list of possible concerns, people rated accidents/ spills and storage of additional nuclear material the highest, and changes in property values the lowest. Unexpectedly, ethnicity, education, and income did not explain variations in ratings for most concerns about LANL. There was generally agreement between the concerns expressed on the ratings and on the open-ended question, although on the latter individuals expressed concern for larger issues, rather than specific issues. Preferences for future land use reflected their concerns for maintaining a safety buffer of an ecosystem around the site.\"]\n",
      "[11099\n",
      " \"From hominoid to hominid mind: What changed and why?\\\\n\\\\nThe living great apes, and in particular members of the genus Pan, help test hypotheses regarding the cognitive skills of our extinct common ancestor. Research with chimpanzees suggests that we share some but not all of our abilities to model another's perspective in social interactions. Large-scale comparisons among human infants, bonobos, chimpanzees, and orangutans on both social and physical problem-solving tasks demonstrate that human infants are unique for their early emerging social cognitive skills, which facilitate participation in cultural interactions. Comparisons between bonobos and chimpanzees also reveal cognitive differences that are likely due to developmental shifts. These comparative studies suggest that our species' capabilities to assess the psychological states of others are built on those abilities that were present in our last common ape ancestor and were derived, in part, owing to shifts in cognitive ontogeny that likely account for species differences among other apes as well. © 2011 by Annual Reviews. All rights reserved.\\\\n\\\\nBonobo, Chimpanzee, Human cognitive evolution, Social cognition, Theory of mind\"]\n",
      "[18634\n",
      " 'Global discourses and the local impacts in Amazonia. Inclusion and exclusion processes in the Rio Negro region\\\\n\\\\nIn the course of the climate change discussions, Amazonia, as the worlds largest continuous rain forest area, has achieved international attention. The significant role of the Amazon rain forest as the \"green lung of the world\\'s climate\" and its importance as an almost inexhaustible archive of biogenetic resources for the future development of the planet earth, are constantly accented. The conservation of rain forests is often spoken of in the same breath as the protection of indigenous peoples, and partially even put on the same level. The example of the Rio Negro region demonstrates clearly, how global discourses on climate change, the protection of forests and indigenous people are reflected on the local level via transmission tapes of unbalanced power relations. Forced by the powerful international discourses on these items, national discourses and regional policies concerning Amazonia have been shifted. Social groups, who are not dearly regarded as indigenous peoples or who do not match to the image of traditional, ecologically adapted ways of life, are largely ignored by the great variety of promotion instruments, as well as by national and international actors. In this way, international discourses define local life courses and decide what is \"good\" and \"bad\" or \"right\" and \"wrong\". But, they do not embrace the complex reality of Amazonia and threaten the livelihoods of excluded social groups in peripheral regions.\\\\n\\\\nAmazonia, Comunidades caboclas, Environmental discourses, Inclusion and exclusion processes, Indigenous people, Latin America']\n",
      "[23292\n",
      " 'Science and technology for water purification in the coming decades\\\\n\\\\nOne of the most pervasive problems afflicting people throughout the world is inadequate access to clean water and sanitation. Problems with water are expected to grow worse in the coming decades, with water scarcity occurring globally, even in regions currently considered water-rich. Addressing these problems calls out for a tremendous amount of research to be conducted to identify robust new methods of purifying water at lower cost and with less energy, while at the same time minimizing the use of chemicals and impact on the environment. Here we highlight some of the science and technology being developed to improve the disinfection and decontamination of water, as well as efforts to increase water supplies through the safe re-use of wastewater and efficient desalination of sea and brackish water. ©2008 Nature Publishing Group.']\n",
      "[17980\n",
      " 'Identification, assessment and management of food-related microbiological hazards: historical, fundamental and psycho-social essentials\\\\n\\\\nMicrobiological risk assessment aimed at devising measures of hazard management, should take into account all perceived hazards, including those not empirically identified. It should also recognise that safety cannot be \"inspected into\" a food. Rather hazard management should be the product of intervention strategies in accordance with the approach made mandatory in the EU Directive 93/43 and the USDA FSIS Pathogen Reduction HACCP system; Final Rule. It is essential too that the inherent variability of the biological attributes affecting food safety is recognised in any risk assessment. The above strategic principles may be conceptualised as a four-step sequence, involving (i) identification and quantification of hazards; (ii) design and codification of longitudinally integrated (\"holistic\") technological processes and procedures to eliminate, or control growth and metabolism of, pathogenic and toxinogenic organisms; (iii) elaboration of microbiological analytical standard operating procedures, permitting validation of \"due diligence\" or responsible care, i.e. adherence to adopted intervention strategies. This should be supported by empirically assessed reference ranges, particularly for marker organisms, while the term \"zero tolerance\" is refined throughout to tolerable safety limit; (iv) when called for, the need to address concerns arising from lay perceptions of risk which may lack scientific foundation. In relation to infectious and toxic hazards in the practical context the following general models for quantitative holistic risk assessment are presented: (i) the first order, basic lethality model; (ii) a second approximation taking into account the amount of food ingested in a given period of time; (iii) a further adjustment accounting for changes in colonization levels during storage and distribution of food commodities and the effects of these on proliferation of pathogens and toxin production by bacteria and moulds. Guidelines are provided to address: (i) unsubstantiated consumer concern over the wholesomeness of foods processed by an innovative procedure; and (ii) reluctance of small food businesses to adopt novel strategies in food safety. Progress here calls for close cooperation with behavioural scientists to ensure that investment in developing measures to contain risk deliver real benefit.']\n",
      "[14161\n",
      " \"Linking two opposites of pregnancy loss: Induced abortion and infertility in Yoruba society, Nigeria\\\\n\\\\nInvoluntary infertility and induced abortion exist on opposite sides of the spectrum: the first being the unwanted loss of childbearing potential while the second is the intentional termination of pregnancy. However, this paper proposes that these two poles of pregnancy loss are in fact related in Yoruba society, Nigeria. This argument is supported by qualitative and quantitative data drawn from an applied research project in communities and health institutions of Lagos State, from 1996 to 1999, where a total of 693 women recounted 1114 personal abortion experiences, and 233 women shared their experiences of fertility problems. Study statistics show that 37% of secondary infertility was most probably the result of induced abortion and that half of women with abortion complications interviewed in a referral hospital will have fertility problems. This paper provides insight into the reasons why single and married women decide to abort, and use unsafe methods, despite awareness of the serious health risks, including infertility. This is paradoxical given that fear of infertility is a major reason why women do not use modern contraceptives when trying to prevent unwanted pregnancy. By analysing the relations between infertility and abortion within the socio-cultural, economic, and services-related structures that influence women's decisions, this paper suggests ways of addressing the problems related to both types of pregnancy loss. © 2010 Elsevier Ltd.\"]\n",
      "[11453\n",
      " 'Comprehensive design of cyber physical systems\\\\n\\\\nIn recent years there has been a confluence between different fields addressing the broad field of embedded computer systems (cyber-physical systems). Traditional 8-bit microcontroller-based systems have become more capable and frequently feature 32-bit processors with networking capabilities, thus overlapping larger OS-based systems. Single-board OS-based computers have shrunk to credit-card size and prices on the low end have dropped substantially to overlap the application domain of microcontroller systems and, thirdly, mobile platforms (smartphones, tablets, ereaders etc.) also share many characteristics of these systems and overlap their design and application domains. These systems each have their own design communities, tools and standard approaches. However their commonality and overlapping application domains indicate that they share common design problems. The evolution into newer application areas also brings new problems. The situation becomes more complex when these systems are integrated into larger diverse systems. Design approaches and design problems for these different types of embedded system are reviewed. Overlapping and nonoverlapping characteristics and design issues are analyzed. A comprehensive design approach tailored to these cyber-physical systems is proposed. The comprehensive approach addresses design issues for all three of the overlapping fields. It also includes factors sometimes neglected when systems are developed within their own narrower design domains. One of the findings of this investigation is that design in this domain requires a diverse set of skills, usually only found in multi-disciplinary teams. One discipline that is needed but has not traditionally contributed much in this domain is Information Technology. Another finding is that designers trained in the IT discipline with a systems-oriented approach have design skills that are necessary for successful design of these diverse systems. Copyright 2012 ACM.\\\\n\\\\nCyber-physical systems, Design, Embedded systems, Information technology, Project management']\n",
      "[13856\n",
      " 'Enhancing fish stocks with wave-powered artificial upwelling\\\\n\\\\nOcean fisheries are declining worldwide due to overexploitation. Productivity could be enhanced and the problem alleviated by pumping nutrient-rich deep ocean water (DOW) to the surface to feed phytoplankton, the bottom end of a marine food chain, mimicking natural upwelling which sustains the most productive ocean fishing grounds in the world. Various pump types and power sources have been proposed for this purpose. The present article proposes a simple wave-powered pump to demonstrate the concept cost-effectively at prototype scale. Possible solutions to the problems of dilution and plunging of dense, nutrient-rich DOW are discussed. Two further possible benefits of this proposal are discussed: by extracting wave energy, relatively calm fishing grounds may be created close to markets, and by pumping up very large quantities of cold DOW, the surface temperature could be lowered enough to reduce coral bleaching on parts of the Great Barrier Reef. © 2003 Elsevier Ltd. All rights reserved.']\n"
     ]
    }
   ],
   "source": [
    "for citation in itertoolz.take_nth(50, df[['citation_id', 'citation_text']].values):\n",
    "    print(citation)"
   ]
  },
  {
   "cell_type": "code",
   "execution_count": 118,
   "metadata": {
    "collapsed": false
   },
   "outputs": [
    {
     "name": "stdout",
     "output_type": "stream",
     "text": [
      "192\n",
      "citation_id                                                           15153\n",
      "citation_text             Ecological protection and well-being\\n\\nBased ...\n",
      "match_fraction                                                     0.238359\n",
      "match_fraction_pctrank                                                0.999\n",
      "regex_match_score                                                   2.25139\n",
      "regex_match_pctrank                                                       1\n",
      "Name: 192, dtype: object\n"
     ]
    }
   ],
   "source": [
    "for foo, bar in df.iterrows():\n",
    "    print(foo)\n",
    "    print(bar)\n",
    "    break"
   ]
  },
  {
   "cell_type": "code",
   "execution_count": 114,
   "metadata": {
    "collapsed": false,
    "scrolled": true
   },
   "outputs": [
    {
     "data": {
      "text/plain": [
       "[{'citation_id': 15153,\n",
       "  'citation_text': \"Ecological protection and well-being\\n\\nBased on Sen's function approach, this paper stated the connotation of the well-being, and defined that the freedom choice and capability of the human is the connotation of the human well-being on ecosystem services, while the poverty is the limited for capability and development of the human. Ecosystem degradation and destruction will seriously threat to human well-being, especially the well-being of the poor. Conservation of biodiversity can contribute to the protection of ecosystem services, which as the core of the ecosystem, and then improve the well-being of human. Focused on the well-being of the poor whom strongly dependent on ecosystem services and effective implemented ecological compensation, that can achieve a win-win between ecological protection and human well-being improvement.\\n\\nBiodiversity, Ecosystem services, Human well-being, Poverty\"},\n",
       " {'citation_id': 12152,\n",
       "  'citation_text': 'The potential impact of labor choices on the efficacy of marine conservation strategies\\n\\nConservation of marine resources is critical to the wellbeing of human communities. Coastal artisanal fishing communities are particularly reliant on marine resources for food and for their livelihoods. Management actions aimed at marine conservation may lead to unanticipated changes in human behavior that influence the ability of conservation programs to achieve their goals. We examine how marine conservation strategies may impact labor decisions that influence both the ecosystem and human livelihoods using simulation modeling. We consider two conservation strategies in the model: direct action through fisheries regulation enforcement, and indirect action through land conservation. Our results indicate that both strategies can increase the abundance of fish, and thus contribute to the maintenance of marine resources. However, our results also show that marine fisheries enforcement may negatively impact the livelihoods of human communities. Land conservation, on the other hand, potentially enhances the livelihood of the human populations. Thus, depending on management objectives, indirect or a combination of direct and indirect conservation strategies may be effective at achieving conservation and sustainability goals. These results highlight the importance of accounting for changes in human behavior resulting from management actions in conservation and management. © 2011 Hughes et al.'},\n",
       " {'citation_id': 7511,\n",
       "  'citation_text': 'Biodiversity loss threatens human well-being'},\n",
       " {'citation_id': 23493,\n",
       "  'citation_text': 'Integrating Vulnerability Into Estuarine Conservation Planning: Does the Data Treatment Method Matter?\\n\\nProtected areas will more efficiently protect biodiversity if threats to the persistence of populations are addressed. Seagrass meadows are globally regarded as critical habitats because of their ecosystem services, human use values, and their diminishing extent. While selecting priority areas for conservation of seagrass meadows is largely aimed at maximizing the protection of their biodiversity, little attention is paid to consider simultaneously the representation of biodiversity and the minimization of threats. This study developed and tested an approach for integrating vulnerability of seagrass meadows to anthropogenic disturbance with the selection of estuarine-protected areas. Vulnerability was measured by data on different land use types in subcatchments. Conservation value was measured by irreplaceability, diversity indices, and rarity of macroinvertebrate species in seagrass meadows. Vulnerability was incorporated into conservation planning by plotting grid cell scores for conservation value versus their scores for vulnerability. The results showed that the performance of the model for the integration of vulnerability into estuarine conservation planning was sensitive to the data treatment. The vulnerability of seagrass meadows and accordingly the arrangement of priority areas for conservation and management attention may change if more information is incorporated into the measurement of vulnerability. © 2012 Coastal and Estuarine Research Federation.\\n\\nConservation measure, Human use, Irreplaceability, Reserve selection, Seagrass, Vulnerability measure'},\n",
       " {'citation_id': 25340,\n",
       "  'citation_text': 'Role of social capital in determining conservation attitude: A case study from Cat Tien National Park, Vietnam\\n\\nThe Cat Tien National Park (CTNP) is located in South Vietnam. This park is home to many rare and endemic species. However, Park resources face heavy anthropogenic pressure and some species are vulnerable to extinction. In this context, this study assesses the efficacy of social capital and other socio-economic variables in influencing conservation attitude of local people towards CTNP resources. Using suitable survey tools and regression analysis, we find social capital to be a significant determinant of the overall conservation attitude of locals. All components of social capital, except trust, are significant in explaining one or more indicators of conservation attitude. Among socio-economic variables, education, income and ethnic groups were significant in explaining the overall conservation attitude. We suggest that participatory conservation programmes should incorporate suitable actions for promoting social capital among local people as a part of their institution-building efforts. This may improve institutional stability leading to better resource conservation and improved welfare of local people. © 2011 Taylor & Francis.\\n\\nConservation attitude, Protected areas, Social capital, Socio-economic variables, South Vietnam'},\n",
       " {'citation_id': 28135,\n",
       "  'citation_text': \"The emergence of biodiversity conflicts from biodiversity impacts: Characteristics and management strategies\\n\\nConflicts between the conservation of biodiversity and other human activities occur in all habitats and can impact severely upon socio-economic and biological parameters. In a changing environment, with increasing pressure on ecosystem goods and services and increasing urgency for biodiversity conservation, these conflicts are likely to increase in importance and magnitude and negatively affect biodiversity and human well-being. It is essential, however, to better understand what is meant by 'biodiversity conflicts' in order to develop ways to manage these effectively. In view of the complexity of the social and ecological contexts of conflicts, this paper explores 'biodiversity impacts' linked to agricultural, forestry and other sectoral activities in the UK. The paper then describes the transition from 'biodiversity impacts' to 'biodiversity conflicts', illustrating this concept with specific examples. While generalisations relating to conflict management are made difficult by their unique contextual settings, this paper suggests approaches for their management, based on the experiences of scientists who have been involved in managing conflicts. We consider the role of science and scientists; trust and dialogue; and temporal and spatial scales in biodiversity conflicts and highlight the combined role they play in successful biodiversity conflict management. Recommendations are also made for future research on biodiversity conflicts in a changing environment. © 2010 Springer Science+Business Media B.V.\\n\\nAgriculture, Biodiversity conflicts, Biodiversity impacts, Conflict management, Conservation policy, Forestry, Livelihoods, Participation, Predator management, Sustainability\"},\n",
       " {'citation_id': 5174,\n",
       "  'citation_text': 'Tools for a better integrated coastal zone management\\n\\nOver the last decades, increasing human densities and environmental degradations led to severe coastal problems. Resulting from numerous natural and human factors, they require global and integrated methods. The aim of this paper is to propose two management tools which were tested on the main-island of Seychelles (Mahe): a method of beach rating and a coastal vulnerability index.\\n\\nBeach rating, Integrated coastal zone management, Seychelles, Vulnerability index'},\n",
       " {'citation_id': 21156,\n",
       "  'citation_text': \"Indigenous ecological knowledge, biodiversity and sustainable development in the central Himalayas\\n\\nThe paper has looked at traditional systems of forestry and agricultural system management in the central himalayan region. Based on a detailed analysis of traditional ecological knowledge that is linked with biodiversity, natural and human-managed, various possibilities for sustainable management of natural resources, with concerns for sustainable livelihood of local communities have been explored for the Garhwal region in the central Himalayas It is concluded that if the development interests of local people are marginalized for a long period of time, they might adopt actions detrimental to the goal of conservation. Capitalizing on the positive dimensions of traditional knowledge and overcoming its negative dimensions through conventional science-based inputs could ease the difficult process of securing people's participation in environmental conservation together with the socio-economic development of local communities.\\n\\nBiodiversity, Natural resource management, Rehabilitation ecology, Sustainable livelihood, Traditional knowledge and technology\"},\n",
       " {'citation_id': 20413,\n",
       "  'citation_text': \"Linking biodiversity indicators, ecosystem functioning, provision of services and human well-being in estuarine systems: Application of a conceptual framework\\n\\nAssuming that human well-being strongly relies on the services provided by well-functioning ecosystems, changes in the ecological functioning of any system can have direct and indirect effects on human welfare. Intensive land use and tourism have expanded in recent decades along coastal ecosystems, together with increasing demands for water, food and energy; all of these factors intensify the exploitation of natural resources. Many of the interrelations between ecosystem functioning and the provision of ecosystem services (ES) still require quantification in estuarine systems. A conceptual framework to assess such links in a spatially and temporally explicit manner is proposed and applied to the Mondego estuary (Portugal). This framework relies on three consecutive steps and discriminates among biodiversity structural components, ecosystem functioning and stability and the services provided by the ecosystem. Disturbances in abiotic factors were found to have a direct effect on biodiversity, ecosystem functioning and the provision of ES. The observed changes in the species composition of communities had a positive effect on the ecosystem's productivity and stability. Moreover, the observed changes in the estuarine ES provision are likely to arise from changing structural and abiotic factors and in the present case from the loss or decline of locally abundant species. This study also indicates that linear relationships between biodiversity, ecosystem functioning and services provision are unlikely to occur in estuarine systems. Instead, cumulative and complex relations are observed between factors on both temporal and spatial scales. In this context, the results suggest several additional conclusions: (1) biodiversity and ecosystem functioning interaction with human well-being need to be incorporated into decision-making processes aimed at the conservative management of systems; (2) the institutional use of research results must be part of the design and implementation of sustainable management activities; and (3) more integrative tools/studies are required to account for the interactions of estuarine ecosystems with surrounding socio-economic activities. Therefore, when performing integrated assessments of ecosystem dynamics, it becomes essential to consider not only the effects of biodiversity and ecosystem functioning on services provision but also the effects that human well-being and ES provision may have on estuarine biodiversity and ecosystem functioning. The proposed framework implies taking into account both the functional and the commodities points of view upon natural ecosystems and by this representing a line of thought which will deserve further research to explore more in detail the conceptual links between biodiversity-ecosystem functioning-services provided. © 2013 Elsevier B.V. All rights reserved.\\n\\nBiodiversity-Ecosystem functioning, Ecosystem approach, Ecosystem services, Estuaries, Holistic approach\"},\n",
       " {'citation_id': 18485,\n",
       "  'citation_text': 'Forest Villagers in Northeastern Hill Forests of Bangladesh: Examining Their Livelihoods, Livelihood Strategies and Forest Conservation Linkages\\n\\nEven though many forest villagers have been living on forest department land and serving the department in the northeastern hill forests region of Bangladesh since the early 1950s, their livelihood has not yet been fully explored. This paper examines the livelihoods of forest villagers (Khasia ethnic people) and their contribution to forest conservation, using data from the Sylhet forest division. The forest villagers are well-endowed with all the elements of a sustainable livelihoods framework, though human capital in terms of education is not satisfactory. Strong social capital, stable natural capital and a productive market-oriented agroforestry system facilitate the generation of financial and physical capital that make the livelihoods of Khasia people sustainable. At the same time, their reciprocal contributions in terms of forest protection and plantation development support forest conservation. However, some institutional issues such as insecure land tenure with regular agreement renewal problems need to be resolved for the sake of their livelihoods and forest conservation. Lessons learned from the study can be utilized in formulating future participatory forest management schemes in the country. © 2013 Steve Harrison, John Herbohn.\\n\\nAgroforestry, Betel leaf, Forest conservation, Khasia, Livelihood capital'}]"
      ]
     },
     "execution_count": 114,
     "metadata": {},
     "output_type": "execute_result"
    }
   ],
   "source": [
    "json.loads(df[['citation_id', 'citation_text']].head(10).to_json(orient='records'))"
   ]
  },
  {
   "cell_type": "code",
   "execution_count": 74,
   "metadata": {
    "collapsed": false
   },
   "outputs": [
    {
     "data": {
      "text/html": [
       "<div>\n",
       "<table border=\"1\" class=\"dataframe\">\n",
       "  <thead>\n",
       "    <tr style=\"text-align: right;\">\n",
       "      <th></th>\n",
       "      <th>authors</th>\n",
       "      <th>citation_id</th>\n",
       "      <th>citation_text</th>\n",
       "      <th>publication_year</th>\n",
       "      <th>match_fraction</th>\n",
       "    </tr>\n",
       "  </thead>\n",
       "  <tbody>\n",
       "    <tr>\n",
       "      <th>375</th>\n",
       "      <td>[Materka, E]</td>\n",
       "      <td>16607</td>\n",
       "      <td>Poland's quiet revolution: Of Shale Ga s explo...</td>\n",
       "      <td>2012.0</td>\n",
       "      <td>0.0</td>\n",
       "    </tr>\n",
       "    <tr>\n",
       "      <th>469</th>\n",
       "      <td>[Cairns Jr, J]</td>\n",
       "      <td>4672</td>\n",
       "      <td>Ecosocietal restoration: Reestablishing humani...</td>\n",
       "      <td>1995.0</td>\n",
       "      <td>0.0</td>\n",
       "    </tr>\n",
       "    <tr>\n",
       "      <th>902</th>\n",
       "      <td>[Rabino, I]</td>\n",
       "      <td>20948</td>\n",
       "      <td>The impact of activist pressures on recombinan...</td>\n",
       "      <td>1991.0</td>\n",
       "      <td>0.0</td>\n",
       "    </tr>\n",
       "    <tr>\n",
       "      <th>417</th>\n",
       "      <td>[Kathirgamanathan, P, McKibbin, R, McLachlan, ...</td>\n",
       "      <td>13423</td>\n",
       "      <td>Inverse Modelling for Identifying the Origin a...</td>\n",
       "      <td>2003.0</td>\n",
       "      <td>0.0</td>\n",
       "    </tr>\n",
       "    <tr>\n",
       "      <th>433</th>\n",
       "      <td>[Kuuskraa, Vello A]</td>\n",
       "      <td>14442</td>\n",
       "      <td>A program to accelerate the deployment of CO2 ...</td>\n",
       "      <td>2007.0</td>\n",
       "      <td>0.0</td>\n",
       "    </tr>\n",
       "  </tbody>\n",
       "</table>\n",
       "</div>"
      ],
      "text/plain": [
       "                                               authors  citation_id  \\\n",
       "375                                       [Materka, E]        16607   \n",
       "469                                     [Cairns Jr, J]         4672   \n",
       "902                                        [Rabino, I]        20948   \n",
       "417  [Kathirgamanathan, P, McKibbin, R, McLachlan, ...        13423   \n",
       "433                                [Kuuskraa, Vello A]        14442   \n",
       "\n",
       "                                         citation_text  publication_year  \\\n",
       "375  Poland's quiet revolution: Of Shale Ga s explo...            2012.0   \n",
       "469  Ecosocietal restoration: Reestablishing humani...            1995.0   \n",
       "902  The impact of activist pressures on recombinan...            1991.0   \n",
       "417  Inverse Modelling for Identifying the Origin a...            2003.0   \n",
       "433  A program to accelerate the deployment of CO2 ...            2007.0   \n",
       "\n",
       "     match_fraction  \n",
       "375             0.0  \n",
       "469             0.0  \n",
       "902             0.0  \n",
       "417             0.0  \n",
       "433             0.0  "
      ]
     },
     "execution_count": 74,
     "metadata": {},
     "output_type": "execute_result"
    }
   ],
   "source": [
    "df.tail()"
   ]
  },
  {
   "cell_type": "code",
   "execution_count": 70,
   "metadata": {
    "collapsed": false
   },
   "outputs": [
    {
     "data": {
      "text/plain": [
       "'{\"authors\":[\"Moorthy, A L\",\"Pant, A\"],\"citation_id\":19718,\"citation_text\":\"Knowledge management and safeguarding Indian traditional knowledge\\\\n\\\\nTraditional knowledge (TK) is the knowledge base of a particular society or community which has been generated over a period of time through the process of learning and sharing by its members. TK is time tested and has been playing a vital role in sustainable development of the indigenous communities. Commercialization of biodiversity and traditional knowledge has increased the threat of misappropriation. Indian cultural and scientific heritage is discussed in this paper. Proper KM practices are required to tap that knowledge. This paper highlights the need to develop an Indigenous Knowledge Management System (IKMS) for indigenous communities which should document the knowledge heritage (without jeopardizing local culture, societal practices, IPRs, etc.) and it should also improve the process of adaptation, adoption and experimentation of the traditional knowledge. To develop an IKMS, various types of knowledge management tools and platforms are discussed. This paper also highlights the major issues\\\\/challenges in management of traditional knowledge.\\\\n\\\\nIndian scientific heritage, Indigenous knowledge management system (IKMS), Knowledge management, Traditional knowledge\",\"publication_year\":2013.0}'"
      ]
     },
     "execution_count": 70,
     "metadata": {},
     "output_type": "execute_result"
    }
   ],
   "source": [
    "df.ix[318, :].to_json()"
   ]
  },
  {
   "cell_type": "code",
   "execution_count": 10,
   "metadata": {
    "collapsed": false
   },
   "outputs": [
    {
     "name": "stdout",
     "output_type": "stream",
     "text": [
      "CPU times: user 8min 18s, sys: 2.96 s, total: 8min 21s\n",
      "Wall time: 8min 21s\n"
     ]
    }
   ],
   "source": [
    "%%time\n",
    "records = pgdb.run_query(query, {'project_id': project_id})\n",
    "text_stream, metadata_stream = textacy.fileio.split_content_and_metadata(records, 'text', itemwise=False)\n",
    "\n",
    "# corpus = textacy.TextCorpus.from_texts('en', text_stream, metadata=metadata_stream)\n",
    "\n",
    "spacy_pipeline = textacy.data.load_spacy('en')#, parser=False)\n",
    "corpus = textacy.TextCorpus(spacy_pipeline)\n",
    "for text, metadata in zip(text_stream, metadata_stream):\n",
    "    corpus.add_text(text, lang='en', metadata=metadata)\n",
    "corpus"
   ]
  },
  {
   "cell_type": "code",
   "execution_count": null,
   "metadata": {
    "collapsed": true
   },
   "outputs": [],
   "source": []
  },
  {
   "cell_type": "code",
   "execution_count": 7,
   "metadata": {
    "collapsed": false
   },
   "outputs": [
    {
     "name": "stdout",
     "output_type": "stream",
     "text": [
      "CPU times: user 1min 58s, sys: 1.83 s, total: 2min\n",
      "Wall time: 2min\n"
     ]
    }
   ],
   "source": [
    "%%time\n",
    "records = pgdb.run_query(query, {'project_id': project_id})\n",
    "text_stream, metadata_stream = textacy.fileio.split_content_and_metadata(records, 'text', itemwise=False)\n",
    "\n",
    "# corpus = textacy.TextCorpus.from_texts('en', text_stream, metadata=metadata_stream)\n",
    "\n",
    "spacy_pipeline = textacy.data.load_spacy('en', parser=False)\n",
    "corpus = textacy.TextCorpus(spacy_pipeline)\n",
    "for text, metadata in zip(text_stream, metadata_stream):\n",
    "    corpus.add_text(text, lang='en', metadata=metadata)\n",
    "corpus"
   ]
  },
  {
   "cell_type": "code",
   "execution_count": 8,
   "metadata": {
    "collapsed": false
   },
   "outputs": [
    {
     "data": {
      "text/plain": [
       "TextCorpus(28343 docs; 7806511 tokens)"
      ]
     },
     "execution_count": 8,
     "metadata": {},
     "output_type": "execute_result"
    }
   ],
   "source": [
    "corpus"
   ]
  },
  {
   "cell_type": "code",
   "execution_count": 37,
   "metadata": {
    "collapsed": false
   },
   "outputs": [],
   "source": [
    "match_fractions = []\n",
    "\n",
    "for doc in corpus:\n",
    "    if not doc.text:\n",
    "        match_fractions.append(0.0)\n",
    "        continue\n",
    "    match_fractions.append(\n",
    "        sum(len(match.group()) for match in keyterms_re.finditer(doc.text)) / len(doc.text))"
   ]
  },
  {
   "cell_type": "code",
   "execution_count": 46,
   "metadata": {
    "collapsed": false
   },
   "outputs": [
    {
     "data": {
      "text/plain": [
       "array([ 3931, 23503, 14842, ..., 10493, 10513,     0])"
      ]
     },
     "execution_count": 46,
     "metadata": {},
     "output_type": "execute_result"
    }
   ],
   "source": [
    "match_fraction_idxs = np.argsort(match_fractions)[::-1]\n",
    "match_fraction_idxs"
   ]
  },
  {
   "cell_type": "code",
   "execution_count": 49,
   "metadata": {
    "collapsed": false,
    "scrolled": true
   },
   "outputs": [
    {
     "name": "stdout",
     "output_type": "stream",
     "text": [
      "\n",
      "\n",
      "Cultural erosion and biodiversity: Canoe-making knowledge in Pohnpei, Micronesia\n",
      "\n",
      "Erosion of traditional knowledge and practice is a serious and accelerating problem, but quantitative work on traditional knowledge loss and its importance to biodiversity conservation is lacking. We investigated traditional knowledge of canoe making, a skill heavily dependent on plant biodiversity, on Pohnpei, Federated States of Micronesia, through a survey of 180 island residents. Our results showed that there has been an intergenerational erosion of canoe-making skills. Given current trends, the present generation of Pohnpeians may be the last to retain any knowledge of this traditional craft. We also identified several correlates of knowledge loss - including Western educational level and occupation - that highlight potential avenues for skill conservation via governments, traditional leadership, and schools. These institutions could intervene to emphasize traditional knowledge, which would reinforce institutional contexts in which traditional knowledge and practice is valued. The heightened awareness of the value of biodiversity that is linked to traditional knowledge is key to biological conservation on Pohnpei and can help support local conservation programs. © 2007 Society for Conservation Biology.\n",
      "\n",
      "\n",
      "Historic marine invertebrate species inventory: Case study of a science baseline towards establishing a marine conservation area\n",
      "\n",
      "(1) Assessing species diversity is a basic requirement for conservation, and protecting biodiversity is a major goal of marine area conservation. (2) A case study is presented on the development of a literature-based (1870s to 2000), museum collection-based, georeferenced inventory of marine invertebrate species of the Haida Gwaii (Queen Charlotte Islands) region, Canada. (3) Database structure and quality assurance are described, along with including indigenous people's words for species towards using traditional knowledge within cooperative marine conservation area management. (4) The utility of this type of inventory is proposed as a starting point for gathering regional biodiversity knowledge, and facilitating addition of other knowledge types, towards marine area conservation. © 2009 John Wiley & Sons, Ltd.\n",
      "\n",
      "\n",
      "Ecological protection and well-being\n",
      "\n",
      "Based on Sen's function approach, this paper stated the connotation of the well-being, and defined that the freedom choice and capability of the human is the connotation of the human well-being on ecosystem services, while the poverty is the limited for capability and development of the human. Ecosystem degradation and destruction will seriously threat to human well-being, especially the well-being of the poor. Conservation of biodiversity can contribute to the protection of ecosystem services, which as the core of the ecosystem, and then improve the well-being of human. Focused on the well-being of the poor whom strongly dependent on ecosystem services and effective implemented ecological compensation, that can achieve a win-win between ecological protection and human well-being improvement.\n",
      "\n",
      "\n",
      "Ecosystem services, biodiversity, and the millennium development goals\n",
      "\n",
      "Ecosystem services are essential for human well-being. The chapter explores the linkages between ecosystems and ecosystem services, biodiversity, and the Millennium Development Goals. Specifically, it focuses on the discussions in the Millennium Ecosystem Assessment, the ecosystem approach within the framework of the Convention on Biological Diversity, and ecosystems' role in the achievement of specific targets of the Millennium Development Goals. It highlights the need for ecosystem-based approaches to ecosystem management, biodiversity conservation, and attainment of human well-being. Copyright © 2012 by Emerald Group Publishing Limited.\n",
      "\n",
      "\n",
      "Economic valuation for the conservation of marine biodiversity\n",
      "\n",
      "Policy makers are increasingly recognising the role of environmental valuation to guide and support the management and conservation of biodiversity. This paper presents a goods and services approach to determine the economic value of marine biodiversity in the UK, with the aim of clarifying the role of valuation in the management of marine biodiversity. The goods and services resulting from UK marine biodiversity are detailed, and 8 of the 13 services are valued in monetary terms. It is found that a decline in UK marine biodiversity could result in a varying, and at present unpredictable, change in the provision of goods and services, including reduced resilience and resistance to change, declining marine environmental health, reduced fisheries potential, and loss of recreational opportunities. The results suggest that this approach can facilitate biodiversity management by enabling the optimal allocation of limited management resources and through raising awareness of the importance of marine biodiversity. © 2007 Elsevier Ltd. All rights reserved.\n"
     ]
    }
   ],
   "source": [
    "for idx in match_fraction_idxs[:5]:\n",
    "    print('\\n')\n",
    "    print(corpus[idx].text)"
   ]
  },
  {
   "cell_type": "code",
   "execution_count": 51,
   "metadata": {
    "collapsed": false,
    "scrolled": true
   },
   "outputs": [
    {
     "name": "stdout",
     "output_type": "stream",
     "text": [
      "\n",
      "\n",
      "\n",
      "\n",
      "\n",
      "Using land-time-budgets to analyse farming systems and poverty alleviation policies in the Lao PDR\n",
      "\n",
      "This paper applies the method of 'Land-time-budget analysis' to a rural subsistence community and to the national economy of the Lao PDR. The analysis is conducted to meet two ends: • To identify the community's/the nation's resource use profile in terms of land and time use. The analysis identifies biophysical constraints of socio-economic development and trade-offs in resource use patterns. • To contrast the results of the analysis with national poverty alleviation policies and visualise their effects on local communities. Results show that shifting cultivation, a traditional socio-economic strategy in Laos, is doomed for extinction as a practice for securing subsistence. Little, if any, provisions are made by the planners to persuade shifting cultivators to leave their trade and moving to the lowlands and urban areas. Policies are shown to actually decrease the rate of subsistence, which is risk-averse, and increase market participation, which is unstable. Copyright © 2005 Inderscience Enterprises Ltd.\n",
      "\n",
      "\n",
      "\n",
      "\n",
      "\n",
      "\n",
      "\n",
      "\n",
      "Solidarity economy and recycling co-ops in São Paulo: Micro-credit to alleviate poverty\n",
      "\n",
      "Lack of working capital hinders collective commercialisation of recyclables. Social exclusion and bureaucratic constraints prevent recyclers from obtaining official bank loans. As they continue to depend on intermediaries, the cycle of poverty, dependency, and exclusion is perpetuated. The article discusses collective commercialisation and the micro-credit fund created among 30 recycling groups in the Brazilian city of São Paulo. A committee of eight women recyclers manages this fund. The article contextualises reflections on empowerment and community-based development, applying the theoretical framework of social and solidarity economy. The author finally suggests that inclusive governance structures have the potential to generate greater justice and sustainability. © 2009 Oxfam GB.\n",
      "\n",
      "\n",
      "\n",
      "\n",
      "\n",
      "Perceptions of Family Environment and Wraparound Processes: Associations with Age and Implications for Serving Transitioning Youth in Systems of Care\n",
      "\n",
      "Addressing the unique needs of youth transitioning to adulthood has long been viewed as a priority in implementation of systems of care (SOCs) and wraparound. Developmental research and \"practice-based evidence\" suggest that there are differences between transitioning youth and their younger peers in family environment and wraparound team processes. Although these differences are thought to have significant implications for wraparound practice, few studies have examined them empirically. The present research involves two studies examining differences across several age cohorts (i. e., 10-12, 13, 14, 15, 16-17 year-olds) ranging from early adolescent to transitioning youth in: (1) caregiver perceptions of role-related strain and family environment quality, and (2) facilitator, caregiver, and youth perceptions of wraparound processes. In Study #1, older age was associated with higher levels of caregiver strain. In Study #2, age was associated with differences between youth and other team members' perceptions of wraparound processes, such that older youth perceived teams as less cohesive than others on their teams. These findings suggest that transitioning youth and their families merit special consideration in wraparound implementation and underscore the importance of considering the perceptions of transitioning youth in system change and practice improvement efforts (192 words). © 2012 Society for Community Research and Action.\n",
      "\n",
      "\n",
      "\n"
     ]
    }
   ],
   "source": [
    "for idx in match_fraction_idxs[-8:]:\n",
    "    print('\\n')\n",
    "    print(corpus[idx].text)"
   ]
  },
  {
   "cell_type": "code",
   "execution_count": 52,
   "metadata": {
    "collapsed": true
   },
   "outputs": [],
   "source": [
    "keyterms = {'intervention': {'conservation', 'conserve', 'conservancy',\n",
    "                             'protect*', 'management', 'awareness', 'law*',\n",
    "                             'policy*', 'reserve*', 'govern*', 'capacity-build*',\n",
    "                             'train*', 'regulation', 'payment for ecosystem services', 'PES',\n",
    "                             'ecotourism', 'sustainable use'},\n",
    "            'outcome': {'wellbeing', 'well-being', 'well being', 'ecosystem service*',\n",
    "                        'nutrition', 'skill*', 'empower*', 'clean water', 'livelihood*',\n",
    "                        'food security', 'resilience*', 'vulnerability', 'social capital',\n",
    "                        'attitude*', 'perception*', '(human)? health*', 'human capital',\n",
    "                        '(traditional)? knowledge'},\n",
    "            'intervention_qualifiers': {'marine', 'freshwater', 'coastal', 'forest*',\n",
    "                                        'ecosystem*', 'species', 'habitat*', 'biodiversity',\n",
    "                                        'sustainab*', 'ecolog*', 'integrated', 'landscape',\n",
    "                                        'seascape', 'coral reef*', 'natural resource*'},\n",
    "            'outcome_qualifiers': {'human*', 'people', 'person*', 'communit*',\n",
    "                                   'household*', 'fisher*', 'collaborative'}\n",
    "            }\n",
    "\n",
    "keyterms_joined = '|'.join(val.replace('*', '*?')\n",
    "                           for vals in keyterms.values()\n",
    "                           for val in vals)\n",
    "keyterms_re = re.compile(r'(?<=^|\\b)(' + keyterms_joined + r')(?=$|\\b)', flags=re.IGNORECASE)\n",
    "\n",
    "records = pgdb.run_query(query, {'project_id': project_id})\n",
    "\n",
    "match_fractions = []\n",
    "for record in records:\n",
    "    if not record['text']:\n",
    "        match_fractions.append(0.0)\n",
    "        continue\n",
    "    match_fractions.append(\n",
    "        sum(len(match.group()) for match in keyterms_re.finditer(record['text'])) / len(record['text']))\n",
    "\n",
    "match_fraction_idxs = np.argsort(match_fractions)[::-1]"
   ]
  },
  {
   "cell_type": "code",
   "execution_count": 53,
   "metadata": {
    "collapsed": false
   },
   "outputs": [
    {
     "data": {
      "text/plain": [
       "array([ 3931, 23503, 14842, ..., 10493, 10513,     0])"
      ]
     },
     "execution_count": 53,
     "metadata": {},
     "output_type": "execute_result"
    }
   ],
   "source": [
    "match_fraction_idxs"
   ]
  }
 ],
 "metadata": {
  "kernelspec": {
   "display_name": "Python 3",
   "language": "python",
   "name": "python3"
  },
  "language_info": {
   "codemirror_mode": {
    "name": "ipython",
    "version": 3
   },
   "file_extension": ".py",
   "mimetype": "text/x-python",
   "name": "python",
   "nbconvert_exporter": "python",
   "pygments_lexer": "ipython3",
   "version": "3.5.1"
  }
 },
 "nbformat": 4,
 "nbformat_minor": 0
}
