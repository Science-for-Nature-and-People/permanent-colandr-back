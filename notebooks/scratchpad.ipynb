{
 "cells": [
  {
   "cell_type": "code",
   "execution_count": 38,
   "metadata": {
    "collapsed": true
   },
   "outputs": [],
   "source": [
    "import re\n",
    "\n",
    "import numpy as np\n",
    "import pandas as pd\n",
    "\n",
    "import cipy\n",
    "import textacy"
   ]
  },
  {
   "cell_type": "code",
   "execution_count": 2,
   "metadata": {
    "collapsed": true
   },
   "outputs": [],
   "source": [
    "conn_creds = cipy.db.get_conn_creds('DATABASE_URL')\n",
    "pgdb = cipy.db.PostgresDB(conn_creds)"
   ]
  },
  {
   "cell_type": "code",
   "execution_count": 3,
   "metadata": {
    "collapsed": true
   },
   "outputs": [],
   "source": [
    "project_id = 0"
   ]
  },
  {
   "cell_type": "code",
   "execution_count": 4,
   "metadata": {
    "collapsed": false
   },
   "outputs": [],
   "source": [
    "query = \"\"\"\n",
    "SELECT\n",
    "    citation_id, title, abstract, keywords, publication_year, authors\n",
    "FROM citations\n",
    "WHERE\n",
    "    project_id = %(project_id)s\n",
    "    AND (citation_id NOT IN (SELECT citation_id FROM duplicates)\n",
    "         OR citation_id IN (SELECT canonical_citation_id FROM duplicates))\n",
    "\"\"\"\n",
    "\n",
    "query = \"\"\"\n",
    "SELECT\n",
    "    citation_id,\n",
    "    (CASE WHEN abstract IS NOT NULL THEN title || '\\n\\n' || abstract ELSE '' END) AS text,\n",
    "    keywords, publication_year, authors\n",
    "FROM citations\n",
    "WHERE\n",
    "    project_id = %(project_id)s\n",
    "    AND (citation_id NOT IN (SELECT citation_id FROM duplicates)\n",
    "         OR citation_id IN (SELECT canonical_citation_id FROM duplicates))\n",
    "\"\"\"\n",
    "\n",
    "# df = pd.DataFrame(pgdb.run_query(query, {'project_id': project_id}))"
   ]
  },
  {
   "cell_type": "code",
   "execution_count": 5,
   "metadata": {
    "collapsed": false
   },
   "outputs": [],
   "source": [
    "# print(df.shape)\n",
    "# df.head()"
   ]
  },
  {
   "cell_type": "code",
   "execution_count": 6,
   "metadata": {
    "collapsed": false
   },
   "outputs": [],
   "source": [
    "# print(df.ix[3, 'text'])"
   ]
  },
  {
   "cell_type": "code",
   "execution_count": 10,
   "metadata": {
    "collapsed": false
   },
   "outputs": [
    {
     "name": "stdout",
     "output_type": "stream",
     "text": [
      "CPU times: user 8min 18s, sys: 2.96 s, total: 8min 21s\n",
      "Wall time: 8min 21s\n"
     ]
    }
   ],
   "source": [
    "%%time\n",
    "records = pgdb.run_query(query, {'project_id': project_id})\n",
    "text_stream, metadata_stream = textacy.fileio.split_content_and_metadata(records, 'text', itemwise=False)\n",
    "\n",
    "# corpus = textacy.TextCorpus.from_texts('en', text_stream, metadata=metadata_stream)\n",
    "\n",
    "spacy_pipeline = textacy.data.load_spacy('en')#, parser=False)\n",
    "corpus = textacy.TextCorpus(spacy_pipeline)\n",
    "for text, metadata in zip(text_stream, metadata_stream):\n",
    "    corpus.add_text(text, lang='en', metadata=metadata)\n",
    "corpus"
   ]
  },
  {
   "cell_type": "code",
   "execution_count": null,
   "metadata": {
    "collapsed": true
   },
   "outputs": [],
   "source": []
  },
  {
   "cell_type": "code",
   "execution_count": 7,
   "metadata": {
    "collapsed": false
   },
   "outputs": [
    {
     "name": "stdout",
     "output_type": "stream",
     "text": [
      "CPU times: user 1min 58s, sys: 1.83 s, total: 2min\n",
      "Wall time: 2min\n"
     ]
    }
   ],
   "source": [
    "%%time\n",
    "records = pgdb.run_query(query, {'project_id': project_id})\n",
    "text_stream, metadata_stream = textacy.fileio.split_content_and_metadata(records, 'text', itemwise=False)\n",
    "\n",
    "# corpus = textacy.TextCorpus.from_texts('en', text_stream, metadata=metadata_stream)\n",
    "\n",
    "spacy_pipeline = textacy.data.load_spacy('en', parser=False)\n",
    "corpus = textacy.TextCorpus(spacy_pipeline)\n",
    "for text, metadata in zip(text_stream, metadata_stream):\n",
    "    corpus.add_text(text, lang='en', metadata=metadata)\n",
    "corpus"
   ]
  },
  {
   "cell_type": "code",
   "execution_count": 8,
   "metadata": {
    "collapsed": false
   },
   "outputs": [
    {
     "data": {
      "text/plain": [
       "TextCorpus(28343 docs; 7806511 tokens)"
      ]
     },
     "execution_count": 8,
     "metadata": {},
     "output_type": "execute_result"
    }
   ],
   "source": [
    "corpus"
   ]
  },
  {
   "cell_type": "code",
   "execution_count": 26,
   "metadata": {
    "collapsed": false
   },
   "outputs": [],
   "source": [
    "keyterms = {'intervention': {'conservation', 'conserve', 'conservancy',\n",
    "                             'protect*', 'management', 'awareness', 'law*',\n",
    "                             'policy*', 'reserve*', 'govern*', 'capacity-build*',\n",
    "                             'train*', 'regulation', 'payment for ecosystem services', 'PES',\n",
    "                             'ecotourism', 'sustainable use'},\n",
    "            'outcome': {'wellbeing', 'well-being', 'well being', 'ecosystem service*',\n",
    "                        'nutrition', 'skill*', 'empower*', 'clean water', 'livelihood*',\n",
    "                        'food security', 'resilience*', 'vulnerability', 'social capital',\n",
    "                        'attitude*', 'perception*', '(human)? health*', 'human capital',\n",
    "                        '(traditional)? knowledge'},\n",
    "            'intervention_qualifiers': {'marine', 'freshwater', 'coastal', 'forest*',\n",
    "                                        'ecosystem*', 'species', 'habitat*', 'biodiversity',\n",
    "                                        'sustainab*', 'ecolog*', 'integrated', 'landscape',\n",
    "                                        'seascape', 'coral reef*', 'natural resource*'},\n",
    "            'outcome_qualifiers': {'human*', 'people', 'person*', 'communit*',\n",
    "                                   'household*', 'fisher*', 'collaborative'}\n",
    "            }\n",
    "\n",
    "keyterms_joined = '|'.join(val.replace('*', '*?')\n",
    "                           for vals in keyterms.values()\n",
    "                           for val in vals)\n",
    "keyterms_re = re.compile(r'(?<=^|\\b)(' + keyterms_joined + r')(?=$|\\b)', flags=re.IGNORECASE)"
   ]
  },
  {
   "cell_type": "code",
   "execution_count": 37,
   "metadata": {
    "collapsed": false
   },
   "outputs": [],
   "source": [
    "match_fractions = []\n",
    "\n",
    "for doc in corpus:\n",
    "    if not doc.text:\n",
    "        match_fractions.append(0.0)\n",
    "        continue\n",
    "    match_fractions.append(\n",
    "        sum(len(match.group()) for match in keyterms_re.finditer(doc.text)) / len(doc.text))"
   ]
  },
  {
   "cell_type": "code",
   "execution_count": 46,
   "metadata": {
    "collapsed": false
   },
   "outputs": [
    {
     "data": {
      "text/plain": [
       "array([ 3931, 23503, 14842, ..., 10493, 10513,     0])"
      ]
     },
     "execution_count": 46,
     "metadata": {},
     "output_type": "execute_result"
    }
   ],
   "source": [
    "match_fraction_idxs = np.argsort(match_fractions)[::-1]\n",
    "match_fraction_idxs"
   ]
  },
  {
   "cell_type": "code",
   "execution_count": 49,
   "metadata": {
    "collapsed": false,
    "scrolled": true
   },
   "outputs": [
    {
     "name": "stdout",
     "output_type": "stream",
     "text": [
      "\n",
      "\n",
      "Cultural erosion and biodiversity: Canoe-making knowledge in Pohnpei, Micronesia\n",
      "\n",
      "Erosion of traditional knowledge and practice is a serious and accelerating problem, but quantitative work on traditional knowledge loss and its importance to biodiversity conservation is lacking. We investigated traditional knowledge of canoe making, a skill heavily dependent on plant biodiversity, on Pohnpei, Federated States of Micronesia, through a survey of 180 island residents. Our results showed that there has been an intergenerational erosion of canoe-making skills. Given current trends, the present generation of Pohnpeians may be the last to retain any knowledge of this traditional craft. We also identified several correlates of knowledge loss - including Western educational level and occupation - that highlight potential avenues for skill conservation via governments, traditional leadership, and schools. These institutions could intervene to emphasize traditional knowledge, which would reinforce institutional contexts in which traditional knowledge and practice is valued. The heightened awareness of the value of biodiversity that is linked to traditional knowledge is key to biological conservation on Pohnpei and can help support local conservation programs. © 2007 Society for Conservation Biology.\n",
      "\n",
      "\n",
      "Historic marine invertebrate species inventory: Case study of a science baseline towards establishing a marine conservation area\n",
      "\n",
      "(1) Assessing species diversity is a basic requirement for conservation, and protecting biodiversity is a major goal of marine area conservation. (2) A case study is presented on the development of a literature-based (1870s to 2000), museum collection-based, georeferenced inventory of marine invertebrate species of the Haida Gwaii (Queen Charlotte Islands) region, Canada. (3) Database structure and quality assurance are described, along with including indigenous people's words for species towards using traditional knowledge within cooperative marine conservation area management. (4) The utility of this type of inventory is proposed as a starting point for gathering regional biodiversity knowledge, and facilitating addition of other knowledge types, towards marine area conservation. © 2009 John Wiley & Sons, Ltd.\n",
      "\n",
      "\n",
      "Ecological protection and well-being\n",
      "\n",
      "Based on Sen's function approach, this paper stated the connotation of the well-being, and defined that the freedom choice and capability of the human is the connotation of the human well-being on ecosystem services, while the poverty is the limited for capability and development of the human. Ecosystem degradation and destruction will seriously threat to human well-being, especially the well-being of the poor. Conservation of biodiversity can contribute to the protection of ecosystem services, which as the core of the ecosystem, and then improve the well-being of human. Focused on the well-being of the poor whom strongly dependent on ecosystem services and effective implemented ecological compensation, that can achieve a win-win between ecological protection and human well-being improvement.\n",
      "\n",
      "\n",
      "Ecosystem services, biodiversity, and the millennium development goals\n",
      "\n",
      "Ecosystem services are essential for human well-being. The chapter explores the linkages between ecosystems and ecosystem services, biodiversity, and the Millennium Development Goals. Specifically, it focuses on the discussions in the Millennium Ecosystem Assessment, the ecosystem approach within the framework of the Convention on Biological Diversity, and ecosystems' role in the achievement of specific targets of the Millennium Development Goals. It highlights the need for ecosystem-based approaches to ecosystem management, biodiversity conservation, and attainment of human well-being. Copyright © 2012 by Emerald Group Publishing Limited.\n",
      "\n",
      "\n",
      "Economic valuation for the conservation of marine biodiversity\n",
      "\n",
      "Policy makers are increasingly recognising the role of environmental valuation to guide and support the management and conservation of biodiversity. This paper presents a goods and services approach to determine the economic value of marine biodiversity in the UK, with the aim of clarifying the role of valuation in the management of marine biodiversity. The goods and services resulting from UK marine biodiversity are detailed, and 8 of the 13 services are valued in monetary terms. It is found that a decline in UK marine biodiversity could result in a varying, and at present unpredictable, change in the provision of goods and services, including reduced resilience and resistance to change, declining marine environmental health, reduced fisheries potential, and loss of recreational opportunities. The results suggest that this approach can facilitate biodiversity management by enabling the optimal allocation of limited management resources and through raising awareness of the importance of marine biodiversity. © 2007 Elsevier Ltd. All rights reserved.\n"
     ]
    }
   ],
   "source": [
    "for idx in match_fraction_idxs[:5]:\n",
    "    print('\\n')\n",
    "    print(corpus[idx].text)"
   ]
  },
  {
   "cell_type": "code",
   "execution_count": 51,
   "metadata": {
    "collapsed": false,
    "scrolled": true
   },
   "outputs": [
    {
     "name": "stdout",
     "output_type": "stream",
     "text": [
      "\n",
      "\n",
      "\n",
      "\n",
      "\n",
      "Using land-time-budgets to analyse farming systems and poverty alleviation policies in the Lao PDR\n",
      "\n",
      "This paper applies the method of 'Land-time-budget analysis' to a rural subsistence community and to the national economy of the Lao PDR. The analysis is conducted to meet two ends: • To identify the community's/the nation's resource use profile in terms of land and time use. The analysis identifies biophysical constraints of socio-economic development and trade-offs in resource use patterns. • To contrast the results of the analysis with national poverty alleviation policies and visualise their effects on local communities. Results show that shifting cultivation, a traditional socio-economic strategy in Laos, is doomed for extinction as a practice for securing subsistence. Little, if any, provisions are made by the planners to persuade shifting cultivators to leave their trade and moving to the lowlands and urban areas. Policies are shown to actually decrease the rate of subsistence, which is risk-averse, and increase market participation, which is unstable. Copyright © 2005 Inderscience Enterprises Ltd.\n",
      "\n",
      "\n",
      "\n",
      "\n",
      "\n",
      "\n",
      "\n",
      "\n",
      "Solidarity economy and recycling co-ops in São Paulo: Micro-credit to alleviate poverty\n",
      "\n",
      "Lack of working capital hinders collective commercialisation of recyclables. Social exclusion and bureaucratic constraints prevent recyclers from obtaining official bank loans. As they continue to depend on intermediaries, the cycle of poverty, dependency, and exclusion is perpetuated. The article discusses collective commercialisation and the micro-credit fund created among 30 recycling groups in the Brazilian city of São Paulo. A committee of eight women recyclers manages this fund. The article contextualises reflections on empowerment and community-based development, applying the theoretical framework of social and solidarity economy. The author finally suggests that inclusive governance structures have the potential to generate greater justice and sustainability. © 2009 Oxfam GB.\n",
      "\n",
      "\n",
      "\n",
      "\n",
      "\n",
      "Perceptions of Family Environment and Wraparound Processes: Associations with Age and Implications for Serving Transitioning Youth in Systems of Care\n",
      "\n",
      "Addressing the unique needs of youth transitioning to adulthood has long been viewed as a priority in implementation of systems of care (SOCs) and wraparound. Developmental research and \"practice-based evidence\" suggest that there are differences between transitioning youth and their younger peers in family environment and wraparound team processes. Although these differences are thought to have significant implications for wraparound practice, few studies have examined them empirically. The present research involves two studies examining differences across several age cohorts (i. e., 10-12, 13, 14, 15, 16-17 year-olds) ranging from early adolescent to transitioning youth in: (1) caregiver perceptions of role-related strain and family environment quality, and (2) facilitator, caregiver, and youth perceptions of wraparound processes. In Study #1, older age was associated with higher levels of caregiver strain. In Study #2, age was associated with differences between youth and other team members' perceptions of wraparound processes, such that older youth perceived teams as less cohesive than others on their teams. These findings suggest that transitioning youth and their families merit special consideration in wraparound implementation and underscore the importance of considering the perceptions of transitioning youth in system change and practice improvement efforts (192 words). © 2012 Society for Community Research and Action.\n",
      "\n",
      "\n",
      "\n"
     ]
    }
   ],
   "source": [
    "for idx in match_fraction_idxs[-8:]:\n",
    "    print('\\n')\n",
    "    print(corpus[idx].text)"
   ]
  },
  {
   "cell_type": "code",
   "execution_count": 52,
   "metadata": {
    "collapsed": true
   },
   "outputs": [],
   "source": [
    "keyterms = {'intervention': {'conservation', 'conserve', 'conservancy',\n",
    "                             'protect*', 'management', 'awareness', 'law*',\n",
    "                             'policy*', 'reserve*', 'govern*', 'capacity-build*',\n",
    "                             'train*', 'regulation', 'payment for ecosystem services', 'PES',\n",
    "                             'ecotourism', 'sustainable use'},\n",
    "            'outcome': {'wellbeing', 'well-being', 'well being', 'ecosystem service*',\n",
    "                        'nutrition', 'skill*', 'empower*', 'clean water', 'livelihood*',\n",
    "                        'food security', 'resilience*', 'vulnerability', 'social capital',\n",
    "                        'attitude*', 'perception*', '(human)? health*', 'human capital',\n",
    "                        '(traditional)? knowledge'},\n",
    "            'intervention_qualifiers': {'marine', 'freshwater', 'coastal', 'forest*',\n",
    "                                        'ecosystem*', 'species', 'habitat*', 'biodiversity',\n",
    "                                        'sustainab*', 'ecolog*', 'integrated', 'landscape',\n",
    "                                        'seascape', 'coral reef*', 'natural resource*'},\n",
    "            'outcome_qualifiers': {'human*', 'people', 'person*', 'communit*',\n",
    "                                   'household*', 'fisher*', 'collaborative'}\n",
    "            }\n",
    "\n",
    "keyterms_joined = '|'.join(val.replace('*', '*?')\n",
    "                           for vals in keyterms.values()\n",
    "                           for val in vals)\n",
    "keyterms_re = re.compile(r'(?<=^|\\b)(' + keyterms_joined + r')(?=$|\\b)', flags=re.IGNORECASE)\n",
    "\n",
    "records = pgdb.run_query(query, {'project_id': project_id})\n",
    "\n",
    "match_fractions = []\n",
    "for record in records:\n",
    "    if not record['text']:\n",
    "        match_fractions.append(0.0)\n",
    "        continue\n",
    "    match_fractions.append(\n",
    "        sum(len(match.group()) for match in keyterms_re.finditer(record['text'])) / len(record['text']))\n",
    "\n",
    "match_fraction_idxs = np.argsort(match_fractions)[::-1]"
   ]
  },
  {
   "cell_type": "code",
   "execution_count": 53,
   "metadata": {
    "collapsed": false
   },
   "outputs": [
    {
     "data": {
      "text/plain": [
       "array([ 3931, 23503, 14842, ..., 10493, 10513,     0])"
      ]
     },
     "execution_count": 53,
     "metadata": {},
     "output_type": "execute_result"
    }
   ],
   "source": [
    "match_fraction_idxs"
   ]
  }
 ],
 "metadata": {
  "kernelspec": {
   "display_name": "Python 3",
   "language": "python",
   "name": "python3"
  },
  "language_info": {
   "codemirror_mode": {
    "name": "ipython",
    "version": 3
   },
   "file_extension": ".py",
   "mimetype": "text/x-python",
   "name": "python",
   "nbconvert_exporter": "python",
   "pygments_lexer": "ipython3",
   "version": "3.5.1"
  }
 },
 "nbformat": 4,
 "nbformat_minor": 0
}
