{
 "cells": [
  {
   "cell_type": "markdown",
   "metadata": {},
   "source": [
    "---\n",
    "\n",
    "## Set Up PostgreSQL (on a Mac)\n",
    "\n",
    "Install with Homebrew:\n",
    "\n",
    "```\n",
    "$ brew update && brew install postgres\n",
    "```\n",
    "\n",
    "Or, if already installed,\n",
    "\n",
    "```\n",
    "$ brew update && brew upgrade postgres\n",
    "```\n",
    "\n",
    "Run `initdb` just once, basically to create the directory structure and such on disk that's needed for creating new databases. Note: The specified path should match the version of Postgres just installed!\n",
    "\n",
    "```\n",
    "$ initdb /usr/local/var/postgres9.5 -E utf8\n",
    "```\n",
    "\n",
    "To _manually_ start and stop a local Postgres server from running, use\n",
    "\n",
    "```\n",
    "$ pg_ctl -D /usr/local/var/postgres -l /usr/local/var/postgres/server.log start\n",
    "$ pg_ctl -D /usr/local/var/postgres stop -s -m fast\n",
    "```\n",
    "        \n",
    "Or to _automatically_ start a Postgres server (now and) at launch:\n",
    "\n",
    "```\n",
    "$ mkdir -p ~/Library/LaunchAgents\n",
    "$ ln -sfv /usr/local/opt/postgresql/*.plist ~/Library/LaunchAgents\n",
    "$ launchctl load ~/Library/LaunchAgents/homebrew.mxcl.postgresql.plist\n",
    "```\n",
    "\n",
    "Open the system paths file, `/etc/paths`, in a text editor, and move the line `/usr/local/bin` from the bottom of the file to the top (if it wasn't like this already). If you had to make a change to the file, reboot the computer. After rebooting, the command `which psql` command should return `/usr/local/bin/psql`.\n",
    "\n",
    "Homebrew automatically created a database superuser account with the same login as your current Mac OS account. Let's create a dedicated user named `app` for connecting to and owning the app's database:\n",
    "\n",
    "```\n",
    "$ createuser --echo --pwprompt --superuser --createdb app\n",
    "```\n",
    "\n",
    "You'll be prompted to create a password — be sure to remember it or save it somewhere!\n",
    "\n",
    "Homebrew also automatically created a database named `postgres` that may be used to log info for administrative tasks such as creating a user. Let's create a new database for this project:\n",
    "\n",
    "```\n",
    "$ createdb --echo --encoding=utf8 --host=<HOST> --port=<PORT> --username=app --owner=app <DBNAME>\n",
    "```\n",
    "\n",
    "We're using our `app` user to create the database, and assign it as the db's owner. **TODO:** Choose a `<DBNAME>` for this project!\n",
    "\n",
    "To access the database through an interactive shell:\n",
    "\n",
    "```\n",
    "$ psql --host=<HOST> --port=<PORT> --username=app --dbname=<DBNAME>\n",
    "```\n",
    "\n",
    "Lastly, define a `DATABASE_URL` environment variable containing this same information so that programs such as those in `cipy` can access it:\n",
    "\n",
    "```\n",
    "$ export DATABASE_URL=postgres://app<PASSWORD>@<HOST>/<DBNAME>\n",
    "```"
   ]
  },
  {
   "cell_type": "markdown",
   "metadata": {},
   "source": [
    "---\n",
    "\n",
    "## Create Citations Table from Templates and DDL"
   ]
  },
  {
   "cell_type": "code",
   "execution_count": 1,
   "metadata": {
    "collapsed": false
   },
   "outputs": [],
   "source": [
    "import cipy"
   ]
  },
  {
   "cell_type": "code",
   "execution_count": 2,
   "metadata": {
    "collapsed": true
   },
   "outputs": [],
   "source": [
    "citations_ddl = cipy.db.get_ddl('citations')\n",
    "conn_creds = cipy.db.get_conn_creds(env_var='DATABASE_URL')\n",
    "pgdb = cipy.db.PostgresDB(conn_creds, citations_ddl)"
   ]
  },
  {
   "cell_type": "code",
   "execution_count": 3,
   "metadata": {
    "collapsed": false
   },
   "outputs": [],
   "source": [
    "pgdb.create_table()"
   ]
  },
  {
   "cell_type": "code",
   "execution_count": 6,
   "metadata": {
    "collapsed": false
   },
   "outputs": [
    {
     "name": "stdout",
     "output_type": "stream",
     "text": [
      "(act=False)\n",
      "b'DROP TABLE IF EXISTS citations'\n"
     ]
    }
   ],
   "source": [
    "pgdb.drop_table(act=False)"
   ]
  },
  {
   "cell_type": "code",
   "execution_count": 5,
   "metadata": {
    "collapsed": false
   },
   "outputs": [
    {
     "name": "stdout",
     "output_type": "stream",
     "text": [
      "name                           pos type                           nullable max_length\n",
      "-------------------------------------------------------------------------------------\n",
      "citation_id                      1 bigint                         NO                 \n",
      "project_id                       2 integer                        NO                 \n",
      "user_id                          3 integer                        NO                 \n",
      "insert_ts                        4 timestamp without time zone    NO                 \n",
      "type_of_work                     5 character varying              YES      25        \n",
      "title                            6 character varying              YES      250       \n",
      "secondary_title                  7 character varying              YES      250       \n",
      "publication_year                 8 smallint                       YES                \n",
      "publication_month                9 smallint                       YES                \n",
      "authors                         10 ARRAY                          YES                \n",
      "abstract                        11 text                           YES                \n",
      "keywords                        12 ARRAY                          YES                \n",
      "type_of_reference               13 character varying              YES      50        \n",
      "journal_name                    14 character varying              YES      100       \n",
      "volume                          15 character varying              YES      20        \n",
      "issue_number                    16 character varying              YES      20        \n",
      "doi                             17 character varying              YES      100       \n",
      "issn                            18 character varying              YES      20        \n",
      "publisher                       19 character varying              YES      100       \n",
      "language                        20 character varying              YES      50        \n",
      "other_fields                    21 jsonb                          YES                \n",
      "is_duplicate                    22 boolean                        YES                \n",
      "duplicate_status_confirmed      23 boolean                        YES                \n"
     ]
    }
   ],
   "source": [
    "pgdb.print_table_spec('citations')"
   ]
  },
  {
   "cell_type": "code",
   "execution_count": 4,
   "metadata": {
    "collapsed": false
   },
   "outputs": [
    {
     "data": {
      "text/plain": [
       "[{'count': 24020}]"
      ]
     },
     "execution_count": 4,
     "metadata": {},
     "output_type": "execute_result"
    }
   ],
   "source": [
    "list(pgdb.run_query('SELECT COUNT(1) FROM citations'))"
   ]
  },
  {
   "cell_type": "code",
   "execution_count": null,
   "metadata": {
    "collapsed": true
   },
   "outputs": [],
   "source": []
  }
 ],
 "metadata": {
  "kernelspec": {
   "display_name": "Python 3",
   "language": "python",
   "name": "python3"
  },
  "language_info": {
   "codemirror_mode": {
    "name": "ipython",
    "version": 3
   },
   "file_extension": ".py",
   "mimetype": "text/x-python",
   "name": "python",
   "nbconvert_exporter": "python",
   "pygments_lexer": "ipython3",
   "version": "3.5.1"
  }
 },
 "nbformat": 4,
 "nbformat_minor": 0
}
