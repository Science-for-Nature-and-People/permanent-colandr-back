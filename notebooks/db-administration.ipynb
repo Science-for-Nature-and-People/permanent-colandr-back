{
 "cells": [
  {
   "cell_type": "markdown",
   "metadata": {},
   "source": [
    "---\n",
    "\n",
    "## Set Up PostgreSQL (on a Mac)\n",
    "\n",
    "Install with Homebrew:\n",
    "\n",
    "```\n",
    "$ brew update && brew install postgres\n",
    "```\n",
    "\n",
    "Or, if already installed,\n",
    "\n",
    "```\n",
    "$ brew update && brew upgrade postgres\n",
    "```\n",
    "\n",
    "Run `initdb` just once, basically to create the directory structure and such on disk that's needed for creating new databases. Note: The specified path should match the version of Postgres just installed!\n",
    "\n",
    "```\n",
    "$ initdb /usr/local/var/postgres9.5 -E utf8\n",
    "```\n",
    "\n",
    "To _manually_ start and stop a local Postgres server from running, use\n",
    "\n",
    "```\n",
    "$ pg_ctl -D /usr/local/var/postgres -l /usr/local/var/postgres/server.log start\n",
    "$ pg_ctl -D /usr/local/var/postgres stop -s -m fast\n",
    "```\n",
    "        \n",
    "Or to _automatically_ start a Postgres server (now and) at launch:\n",
    "\n",
    "```\n",
    "$ mkdir -p ~/Library/LaunchAgents\n",
    "$ ln -sfv /usr/local/opt/postgresql/*.plist ~/Library/LaunchAgents\n",
    "$ launchctl load ~/Library/LaunchAgents/homebrew.mxcl.postgresql.plist\n",
    "```\n",
    "\n",
    "Open the system paths file, `/etc/paths`, in a text editor, and move the line `/usr/local/bin` from the bottom of the file to the top (if it wasn't like this already). If you had to make a change to the file, reboot the computer. After rebooting, the command `which psql` command should return `/usr/local/bin/psql`.\n",
    "\n",
    "Homebrew automatically created a database superuser account with the same login as your current Mac OS account. Let's create a dedicated user named `app` for connecting to and owning the app's database:\n",
    "\n",
    "```\n",
    "$ createuser --echo --pwprompt --superuser --createdb app\n",
    "```\n",
    "\n",
    "You'll be prompted to create a password — be sure to remember it or save it somewhere!\n",
    "\n",
    "Homebrew also automatically created a database named `postgres` that may be used to log info for administrative tasks such as creating a user. Let's create a new database for this project:\n",
    "\n",
    "```\n",
    "$ createdb --echo --encoding=utf8 --host=<HOST> --port=<PORT> --username=app --owner=app <DBNAME>\n",
    "```\n",
    "\n",
    "We're using our `app` user to create the database, and assign it as the db's owner. **TODO:** Choose a `<DBNAME>` for this project!\n",
    "\n",
    "To access the database through an interactive shell:\n",
    "\n",
    "```\n",
    "$ psql --host=<HOST> --port=<PORT> --username=app --dbname=<DBNAME>\n",
    "```\n",
    "\n",
    "While we're in the interactive shell, let's create the `pgcrypto` extension for secure password storage:\n",
    "\n",
    "```\n",
    "=# CREATE EXTENSION \"pgcrypto\";\n",
    "```\n",
    "\n",
    "Lastly, after exiting the postgres shell, define a `DATABASE_URL` environment variable containing this same information so that programs such as those in `cipy` can access it:\n",
    "\n",
    "```\n",
    "$ export DATABASE_URL=postgres://app<PASSWORD>@<HOST>/<DBNAME>\n",
    "```"
   ]
  },
  {
   "cell_type": "markdown",
   "metadata": {},
   "source": [
    "---\n",
    "\n",
    "## Create Tables and Indexes from DDLs"
   ]
  },
  {
   "cell_type": "code",
   "execution_count": 1,
   "metadata": {
    "collapsed": false
   },
   "outputs": [],
   "source": [
    "import logging\n",
    "\n",
    "import cipy"
   ]
  },
  {
   "cell_type": "code",
   "execution_count": 2,
   "metadata": {
    "collapsed": true
   },
   "outputs": [],
   "source": [
    "logger = logging.getLogger('cipy')\n",
    "logger.setLevel(logging.DEBUG)"
   ]
  },
  {
   "cell_type": "code",
   "execution_count": 7,
   "metadata": {
    "collapsed": false
   },
   "outputs": [
    {
     "name": "stderr",
     "output_type": "stream",
     "text": [
      "WARNING:cipy.db.postgres:no indexes found\n",
      "WARNING:cipy.db.postgres:no indexes found\n"
     ]
    },
    {
     "name": "stdout",
     "output_type": "stream",
     "text": [
      "\n",
      "DDL(path='/Users/burtondewilde/Desktop/datakind/ci/conservation-intl/cipy/ddls/duplicates.yaml')\n",
      "table created:\n",
      "\tCREATE TABLE IF NOT EXISTS duplicates (citation_id BIGINT, project_id INTEGER, canonical_citation_id INTEGER, duplicate_score REAL, is_confirmed BOOLEAN, confirming_user_id INTEGER) \n",
      "index created:\n",
      "\tCREATE INDEX IF NOT EXISTS duplicates_project_id_idx ON duplicates USING btree (project_id)\n",
      "\n",
      "DDL(path='/Users/burtondewilde/Desktop/datakind/ci/conservation-intl/cipy/ddls/citations.yaml')\n",
      "table created:\n",
      "\tCREATE TABLE IF NOT EXISTS citations (citation_id BIGSERIAL, project_id INTEGER, user_id INTEGER, inserted_ts TIMESTAMP(0) WITHOUT TIME ZONE, type_of_work VARCHAR(25), title VARCHAR(250), secondary_title VARCHAR(250), publication_year SMALLINT, publication_month SMALLINT, authors VARCHAR(100) ARRAY, abstract TEXT, keywords VARCHAR(100) ARRAY, type_of_reference VARCHAR(50), journal_column_name VARCHAR(100), volume VARCHAR(20), issue_number VARCHAR(20), doi VARCHAR(100), issn VARCHAR(20), publisher VARCHAR(100), language VARCHAR(50), other_fields JSONB) \n",
      "index created:\n",
      "\tCREATE INDEX IF NOT EXISTS citations_project_id_idx ON citations USING btree (project_id)\n",
      "\n",
      "DDL(path='/Users/burtondewilde/Desktop/datakind/ci/conservation-intl/cipy/ddls/users.yaml')\n",
      "table created:\n",
      "\tCREATE TABLE IF NOT EXISTS users (user_id SERIAL, joined_ts TIMESTAMP(0) WITHOUT TIME ZONE, name VARCHAR(100), email VARCHAR(100), password VARCHAR, project_ids INTEGER ARRAY, created_project_ids INTEGER ARRAY) \n",
      "\n",
      "DDL(path='/Users/burtondewilde/Desktop/datakind/ci/conservation-intl/cipy/ddls/projects.yaml')\n",
      "table created:\n",
      "\tCREATE TABLE IF NOT EXISTS projects (project_id SERIAL, created_ts TIMESTAMP(0) WITHOUT TIME ZONE, name VARCHAR(500), description TEXT, user_ids INTEGER ARRAY, creator_user_id INTEGER) \n",
      "\n",
      "DDL(path='/Users/burtondewilde/Desktop/datakind/ci/conservation-intl/cipy/ddls/prescreening.yaml')\n",
      "table created:\n",
      "\tCREATE TABLE IF NOT EXISTS prescreening (citation_id BIGINT, project_id INTEGER, status CHAR(8), prescreener_user_id_1 INTEGER, prescreener_user_id_2 INTEGER, prescreener_user_id_3 INTEGER, status_1 CHAR(8), status_2 CHAR(8), status_3 CHAR(8)) \n",
      "index created:\n",
      "\tCREATE INDEX IF NOT EXISTS prescreening_project_id_idx ON prescreening USING btree (project_id)\n"
     ]
    }
   ],
   "source": [
    "conn_creds = cipy.db.get_conn_creds(env_var='DATABASE_URL')\n",
    "\n",
    "for ddl_name in cipy.DEFAULT_DDL_PATHS:\n",
    "    ddl = cipy.db.get_ddl(ddl_name)\n",
    "    print('\\n{}'.format(ddl))\n",
    "    \n",
    "    pgdb = cipy.db.PostgresDB(conn_creds, ddl=ddl)\n",
    "    pgdb.create_table(act=True)\n",
    "    print('table created:\\n\\t{}'.format(ddl.create_table_statement()))\n",
    "    \n",
    "    pgdb.create_indexes(act=True)\n",
    "    for index_statement in ddl.create_index_statements():\n",
    "        print('index created:\\n\\t{}'.format(index_statement))"
   ]
  },
  {
   "cell_type": "code",
   "execution_count": null,
   "metadata": {
    "collapsed": true
   },
   "outputs": [],
   "source": []
  }
 ],
 "metadata": {
  "kernelspec": {
   "display_name": "Python 3",
   "language": "python",
   "name": "python3"
  },
  "language_info": {
   "codemirror_mode": {
    "name": "ipython",
    "version": 3
   },
   "file_extension": ".py",
   "mimetype": "text/x-python",
   "name": "python",
   "nbconvert_exporter": "python",
   "pygments_lexer": "ipython3",
   "version": "3.5.1"
  }
 },
 "nbformat": 4,
 "nbformat_minor": 0
}
