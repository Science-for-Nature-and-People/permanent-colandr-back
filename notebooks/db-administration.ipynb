{
 "cells": [
  {
   "cell_type": "markdown",
   "metadata": {},
   "source": [
    "---\n",
    "\n",
    "## Set Up PostgreSQL (on a Mac)\n",
    "\n",
    "Install with Homebrew:\n",
    "\n",
    "```\n",
    "$ brew update && brew install postgres\n",
    "```\n",
    "\n",
    "Or, if already installed,\n",
    "\n",
    "```\n",
    "$ brew update && brew upgrade postgres\n",
    "```\n",
    "\n",
    "Run `initdb` just once, basically to create the directory structure and such on disk that's needed for creating new databases. Note: The specified path should match the version of Postgres just installed!\n",
    "\n",
    "```\n",
    "$ initdb /usr/local/var/postgres9.5 -E utf8\n",
    "```\n",
    "\n",
    "To _manually_ start and stop a local Postgres server from running, use\n",
    "\n",
    "```\n",
    "$ pg_ctl -D /usr/local/var/postgres -l /usr/local/var/postgres/server.log start\n",
    "$ pg_ctl -D /usr/local/var/postgres stop -s -m fast\n",
    "```\n",
    "        \n",
    "Or to _automatically_ start a Postgres server (now and) at launch:\n",
    "\n",
    "```\n",
    "$ mkdir -p ~/Library/LaunchAgents\n",
    "$ ln -sfv /usr/local/opt/postgresql/*.plist ~/Library/LaunchAgents\n",
    "$ launchctl load ~/Library/LaunchAgents/homebrew.mxcl.postgresql.plist\n",
    "```\n",
    "\n",
    "Open the system paths file, `/etc/paths`, in a text editor, and move the line `/usr/local/bin` from the bottom of the file to the top (if it wasn't like this already). If you had to make a change to the file, reboot the computer. After rebooting, the command `which psql` command should return `/usr/local/bin/psql`.\n",
    "\n",
    "Homebrew automatically created a database superuser account with the same login as your current Mac OS account. Let's create a dedicated user named `app` for connecting to and owning the app's database:\n",
    "\n",
    "```\n",
    "$ createuser --echo --pwprompt --superuser --createdb app\n",
    "```\n",
    "\n",
    "You'll be prompted to create a password — be sure to remember it or save it somewhere!\n",
    "\n",
    "Homebrew also automatically created a database named `postgres` that may be used to log info for administrative tasks such as creating a user. Let's create a new database for this project:\n",
    "\n",
    "```\n",
    "$ createdb --echo --encoding=utf8 --host=<HOST> --port=<PORT> --username=app --owner=app <DBNAME>\n",
    "```\n",
    "\n",
    "We're using our `app` user to create the database, and assign it as the db's owner. **TODO:** Choose a `<DBNAME>` for this project!\n",
    "\n",
    "To access the database through an interactive shell:\n",
    "\n",
    "```\n",
    "$ psql --host=<HOST> --port=<PORT> --username=app --dbname=<DBNAME>\n",
    "```\n",
    "\n",
    "Lastly, define a `DATABASE_URL` environment variable containing this same information so that programs such as those in `cipy` can access it:\n",
    "\n",
    "```\n",
    "$ export DATABASE_URL=postgres://app<PASSWORD>@<HOST>/<DBNAME>\n",
    "```"
   ]
  },
  {
   "cell_type": "markdown",
   "metadata": {},
   "source": [
    "---\n",
    "\n",
    "## Create Citations Table from Templates and DDL"
   ]
  },
  {
   "cell_type": "code",
   "execution_count": 6,
   "metadata": {
    "collapsed": true
   },
   "outputs": [],
   "source": [
    "from __future__ import unicode_literals\n",
    "\n",
    "from getpass import getpass\n",
    "import io\n",
    "\n",
    "import psycopg2\n",
    "import yaml"
   ]
  },
  {
   "cell_type": "code",
   "execution_count": 7,
   "metadata": {
    "collapsed": false
   },
   "outputs": [
    {
     "data": {
      "text/plain": [
       "{'create_table': 'CREATE TABLE IF NOT EXISTS {table_name} ({columns})',\n",
       " 'drop_table': 'DROP TABLE IF EXISTS {table_name}',\n",
       " 'insert': 'INSERT INTO {table_name}({columns}) VALUES ({values})'}"
      ]
     },
     "execution_count": 7,
     "metadata": {},
     "output_type": "execute_result"
    }
   ],
   "source": [
    "with io.open('../cipy/db/statement_templates.yaml', mode='rt') as f:\n",
    "    templates = yaml.load(f)\n",
    "    \n",
    "templates"
   ]
  },
  {
   "cell_type": "code",
   "execution_count": 12,
   "metadata": {
    "collapsed": false
   },
   "outputs": [
    {
     "data": {
      "text/plain": [
       "{'columns': [{'name': 'record_id', 'type': 'BIGSERIAL NOT NULL'},\n",
       "  {'name': 'project_id', 'type': 'INTEGER NOT NULL'},\n",
       "  {'name': 'user_id', 'type': 'INTEGER NOT NULL'},\n",
       "  {'name': 'insert_ts', 'type': 'TIMESTAMP(0) WITHOUT TIME ZONE NOT NULL'},\n",
       "  {'name': 'type_of_work', 'type': 'VARCHAR(25)'},\n",
       "  {'name': 'title', 'type': 'VARCHAR(250)'},\n",
       "  {'name': 'secondary_title', 'type': 'VARCHAR(250)'},\n",
       "  {'name': 'publication_year', 'type': 'SMALLINT'},\n",
       "  {'name': 'publication_month', 'type': 'SMALLINT'},\n",
       "  {'name': 'authors', 'type': 'VARCHAR(100) ARRAY'},\n",
       "  {'name': 'abstract', 'type': 'TEXT'},\n",
       "  {'name': 'keywords', 'type': 'VARCHAR(100) ARRAY'},\n",
       "  {'name': 'type_of_reference', 'type': 'VARCHAR(50)'},\n",
       "  {'name': 'journal_name', 'type': 'VARCHAR(100)'},\n",
       "  {'name': 'volume', 'type': 'VARCHAR(20)'},\n",
       "  {'name': 'issue_number', 'type': 'VARCHAR(20)'},\n",
       "  {'name': 'doi', 'type': 'VARCHAR(100)'},\n",
       "  {'name': 'issn', 'type': 'VARCHAR(20)'},\n",
       "  {'name': 'publisher', 'type': 'VARCHAR(100)'},\n",
       "  {'name': 'language', 'type': 'VARCHAR(50)'},\n",
       "  {'name': 'other_fields', 'type': 'JSONB'},\n",
       "  {'name': 'is_duplicate', 'type': 'BOOLEAN'}],\n",
       " 'table_name': 'citations'}"
      ]
     },
     "execution_count": 12,
     "metadata": {},
     "output_type": "execute_result"
    }
   ],
   "source": [
    "with io.open('../cipy/db/ddls/citations.yaml', mode='rt') as f:\n",
    "    ddl = yaml.load(f)\n",
    "\n",
    "ddl"
   ]
  },
  {
   "cell_type": "code",
   "execution_count": 21,
   "metadata": {
    "collapsed": false
   },
   "outputs": [
    {
     "data": {
      "text/plain": [
       "'CREATE TABLE IF NOT EXISTS citations (record_id BIGSERIAL NOT NULL, project_id INTEGER NOT NULL, user_id INTEGER NOT NULL, insert_ts TIMESTAMP(0) WITHOUT TIME ZONE NOT NULL, type_of_work VARCHAR(25), title VARCHAR(250), secondary_title VARCHAR(250), publication_year SMALLINT, publication_month SMALLINT, authors VARCHAR(100) ARRAY, abstract TEXT, keywords VARCHAR(100) ARRAY, type_of_reference VARCHAR(50), journal_name VARCHAR(100), volume VARCHAR(20), issue_number VARCHAR(20), doi VARCHAR(100), issn VARCHAR(20), publisher VARCHAR(100), language VARCHAR(50), other_fields JSONB, is_duplicate BOOLEAN)'"
      ]
     },
     "execution_count": 21,
     "metadata": {},
     "output_type": "execute_result"
    }
   ],
   "source": [
    "create_table_stmt = templates['create_table'].format(\n",
    "    table_name=citations_ddl['table_name'],\n",
    "    columns=', '.join(column['name'] + ' ' + column['type']\n",
    "                      for column in citations_ddl['columns']))\n",
    "create_table_stmt"
   ]
  },
  {
   "cell_type": "code",
   "execution_count": 22,
   "metadata": {
    "collapsed": false
   },
   "outputs": [],
   "source": [
    "conn = psycopg2.connect(database='appname', user='app', host='localhost', port=5432)#, password=getpass())"
   ]
  },
  {
   "cell_type": "code",
   "execution_count": 23,
   "metadata": {
    "collapsed": false
   },
   "outputs": [],
   "source": [
    "with conn.cursor() as cur:\n",
    "    cur.execute(create_table_stmt)\n",
    "    conn.commit()"
   ]
  },
  {
   "cell_type": "code",
   "execution_count": 32,
   "metadata": {
    "collapsed": false
   },
   "outputs": [
    {
     "ename": "KeyError",
     "evalue": "'columns'",
     "output_type": "error",
     "traceback": [
      "\u001b[0;31m---------------------------------------------------------------------------\u001b[0m",
      "\u001b[0;31mKeyError\u001b[0m                                  Traceback (most recent call last)",
      "\u001b[0;32m<ipython-input-32-fcc5ca66a8ca>\u001b[0m in \u001b[0;36m<module>\u001b[0;34m()\u001b[0m\n\u001b[0;32m----> 1\u001b[0;31m \u001b[0mtemplates\u001b[0m\u001b[0;34m[\u001b[0m\u001b[0;34m'insert'\u001b[0m\u001b[0;34m]\u001b[0m\u001b[0;34m.\u001b[0m\u001b[0mformat\u001b[0m\u001b[0;34m(\u001b[0m\u001b[0mtable_name\u001b[0m\u001b[0;34m=\u001b[0m\u001b[0mcitations_ddl\u001b[0m\u001b[0;34m[\u001b[0m\u001b[0;34m'table_name'\u001b[0m\u001b[0;34m]\u001b[0m\u001b[0;34m)\u001b[0m\u001b[0;34m\u001b[0m\u001b[0m\n\u001b[0m",
      "\u001b[0;31mKeyError\u001b[0m: 'columns'"
     ]
    }
   ],
   "source": [
    "templates['insert'].format(\n",
    "    table_name=citations_ddl['table_name'],\n",
    "    columns=,\n",
    "    values=)"
   ]
  },
  {
   "cell_type": "code",
   "execution_count": null,
   "metadata": {
    "collapsed": false,
    "scrolled": true
   },
   "outputs": [],
   "source": []
  },
  {
   "cell_type": "code",
   "execution_count": null,
   "metadata": {
    "collapsed": true
   },
   "outputs": [],
   "source": []
  },
  {
   "cell_type": "code",
   "execution_count": null,
   "metadata": {
    "collapsed": true
   },
   "outputs": [],
   "source": []
  },
  {
   "cell_type": "code",
   "execution_count": null,
   "metadata": {
    "collapsed": true
   },
   "outputs": [],
   "source": []
  }
 ],
 "metadata": {
  "kernelspec": {
   "display_name": "Python 3",
   "language": "python",
   "name": "python3"
  },
  "language_info": {
   "codemirror_mode": {
    "name": "ipython",
    "version": 3
   },
   "file_extension": ".py",
   "mimetype": "text/x-python",
   "name": "python",
   "nbconvert_exporter": "python",
   "pygments_lexer": "ipython3",
   "version": "3.5.1"
  }
 },
 "nbformat": 4,
 "nbformat_minor": 0
}
