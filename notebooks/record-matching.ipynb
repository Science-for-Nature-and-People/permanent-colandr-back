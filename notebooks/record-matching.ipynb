{
 "cells": [
  {
   "cell_type": "code",
   "execution_count": 1,
   "metadata": {
    "collapsed": true
   },
   "outputs": [],
   "source": [
    "import io\n",
    "import json\n",
    "import logging\n",
    "from pprint import pprint\n",
    "import re\n",
    "\n",
    "import pandas as pd\n",
    "import numpy as np\n",
    "import textacy\n",
    "\n",
    "import cipy"
   ]
  },
  {
   "cell_type": "code",
   "execution_count": 2,
   "metadata": {
    "collapsed": false
   },
   "outputs": [],
   "source": [
    "logger = logging.getLogger('cipy')\n",
    "logger.setLevel(logging.DEBUG)"
   ]
  },
  {
   "cell_type": "code",
   "execution_count": 3,
   "metadata": {
    "collapsed": false
   },
   "outputs": [],
   "source": [
    "conn_creds = cipy.db.get_conn_creds('DATABASE_URL')\n",
    "pgdb = cipy.db.PostgresDB(conn_creds, ddl='citations')"
   ]
  },
  {
   "cell_type": "code",
   "execution_count": 4,
   "metadata": {
    "collapsed": false
   },
   "outputs": [
    {
     "name": "stdout",
     "output_type": "stream",
     "text": [
      "28343\n"
     ]
    },
    {
     "data": {
      "text/plain": [
       "[{'abstract': None,\n",
       "  'authors': ('113 Congress, Rep. McDermott',),\n",
       "  'citation_id': 1,\n",
       "  'doi': None,\n",
       "  'publication_year': None,\n",
       "  'title': 'Managed Carbon Price Act of 2014, H.R. 4754'}]"
      ]
     },
     "execution_count": 4,
     "metadata": {},
     "output_type": "execute_result"
    }
   ],
   "source": [
    "query = \"\"\"\n",
    "SELECT citation_id, authors, title, abstract, publication_year, doi\n",
    "FROM citations\n",
    "WHERE\n",
    "    (citation_id NOT IN (SELECT citation_id FROM duplicates)\n",
    "    OR citation_id IN (SELECT canonical_citation_id FROM duplicates))\n",
    "ORDER BY citation_id\n",
    "\"\"\"\n",
    "records = [cipy.db.make_immutable(row) for row in pgdb.run_query(query)]\n",
    "print(len(records))\n",
    "records[:1]"
   ]
  },
  {
   "cell_type": "code",
   "execution_count": 10,
   "metadata": {
    "collapsed": false,
    "scrolled": true
   },
   "outputs": [
    {
     "data": {
      "text/html": [
       "<div>\n",
       "<table border=\"1\" class=\"dataframe\">\n",
       "  <thead>\n",
       "    <tr style=\"text-align: right;\">\n",
       "      <th></th>\n",
       "      <th>authors</th>\n",
       "      <th>publication_year</th>\n",
       "      <th>title</th>\n",
       "      <th>abstract</th>\n",
       "      <th>Included</th>\n",
       "      <th>Abstract review needed</th>\n",
       "      <th>Unresolved</th>\n",
       "      <th>Excluded non-conservation</th>\n",
       "      <th>Excluded non nature-based intervention</th>\n",
       "      <th>Excluded - no conservation intervention</th>\n",
       "      <th>Excluded - other</th>\n",
       "      <th>Excluded - no outcome</th>\n",
       "      <th>Excluded - biophysical outcome</th>\n",
       "      <th>Excluded - other.1</th>\n",
       "      <th>Excluded - study design</th>\n",
       "      <th>Excluded Subject</th>\n",
       "      <th>Comments</th>\n",
       "      <th>Journal</th>\n",
       "    </tr>\n",
       "  </thead>\n",
       "  <tbody>\n",
       "    <tr>\n",
       "      <th>0</th>\n",
       "      <td>NaN</td>\n",
       "      <td>1977.0</td>\n",
       "      <td>The dietitian in primary health care</td>\n",
       "      <td>This statement was prepared by The American Di...</td>\n",
       "      <td>NaN</td>\n",
       "      <td>NaN</td>\n",
       "      <td>NaN</td>\n",
       "      <td>NaN</td>\n",
       "      <td>NaN</td>\n",
       "      <td>NaN</td>\n",
       "      <td>NaN</td>\n",
       "      <td>NaN</td>\n",
       "      <td>NaN</td>\n",
       "      <td>NaN</td>\n",
       "      <td>NaN</td>\n",
       "      <td>NaN</td>\n",
       "      <td>NaN</td>\n",
       "      <td>Journal of the American Dietetic Association</td>\n",
       "    </tr>\n",
       "    <tr>\n",
       "      <th>1</th>\n",
       "      <td>NaN</td>\n",
       "      <td>1986.0</td>\n",
       "      <td>Life-styles and health</td>\n",
       "      <td>A new perspective is needed on lifestyles and ...</td>\n",
       "      <td>NaN</td>\n",
       "      <td>NaN</td>\n",
       "      <td>NaN</td>\n",
       "      <td>NaN</td>\n",
       "      <td>NaN</td>\n",
       "      <td>NaN</td>\n",
       "      <td>NaN</td>\n",
       "      <td>NaN</td>\n",
       "      <td>NaN</td>\n",
       "      <td>NaN</td>\n",
       "      <td>NaN</td>\n",
       "      <td>NaN</td>\n",
       "      <td>NaN</td>\n",
       "      <td>Social Science and Medicine</td>\n",
       "    </tr>\n",
       "    <tr>\n",
       "      <th>2</th>\n",
       "      <td>NaN</td>\n",
       "      <td>1991.0</td>\n",
       "      <td>Supportive environments for health: The Sundsv...</td>\n",
       "      <td>The Sundsvall Conference on supportive environ...</td>\n",
       "      <td>NaN</td>\n",
       "      <td>NaN</td>\n",
       "      <td>NaN</td>\n",
       "      <td>NaN</td>\n",
       "      <td>NaN</td>\n",
       "      <td>NaN</td>\n",
       "      <td>NaN</td>\n",
       "      <td>NaN</td>\n",
       "      <td>NaN</td>\n",
       "      <td>NaN</td>\n",
       "      <td>NaN</td>\n",
       "      <td>NaN</td>\n",
       "      <td>NaN</td>\n",
       "      <td>Health Promotion International</td>\n",
       "    </tr>\n",
       "  </tbody>\n",
       "</table>\n",
       "</div>"
      ],
      "text/plain": [
       "  authors  publication_year  \\\n",
       "0     NaN            1977.0   \n",
       "1     NaN            1986.0   \n",
       "2     NaN            1991.0   \n",
       "\n",
       "                                               title  \\\n",
       "0               The dietitian in primary health care   \n",
       "1                             Life-styles and health   \n",
       "2  Supportive environments for health: The Sundsv...   \n",
       "\n",
       "                                            abstract Included  \\\n",
       "0  This statement was prepared by The American Di...      NaN   \n",
       "1  A new perspective is needed on lifestyles and ...      NaN   \n",
       "2  The Sundsvall Conference on supportive environ...      NaN   \n",
       "\n",
       "  Abstract review needed Unresolved Excluded non-conservation  \\\n",
       "0                    NaN        NaN                       NaN   \n",
       "1                    NaN        NaN                       NaN   \n",
       "2                    NaN        NaN                       NaN   \n",
       "\n",
       "  Excluded non nature-based intervention  \\\n",
       "0                                    NaN   \n",
       "1                                    NaN   \n",
       "2                                    NaN   \n",
       "\n",
       "  Excluded - no conservation intervention Excluded - other  \\\n",
       "0                                     NaN              NaN   \n",
       "1                                     NaN              NaN   \n",
       "2                                     NaN              NaN   \n",
       "\n",
       "  Excluded - no outcome Excluded - biophysical outcome Excluded - other.1  \\\n",
       "0                   NaN                            NaN                NaN   \n",
       "1                   NaN                            NaN                NaN   \n",
       "2                   NaN                            NaN                NaN   \n",
       "\n",
       "  Excluded - study design Excluded Subject Comments  \\\n",
       "0                     NaN              NaN      NaN   \n",
       "1                     NaN              NaN      NaN   \n",
       "2                     NaN              NaN      NaN   \n",
       "\n",
       "                                        Journal  \n",
       "0  Journal of the American Dietetic Association  \n",
       "1                   Social Science and Medicine  \n",
       "2                Health Promotion International  "
      ]
     },
     "execution_count": 10,
     "metadata": {},
     "output_type": "execute_result"
    }
   ],
   "source": [
    "filepath = '/Users/burtondewilde/Desktop/datakind/ci/conservation-intl/data/raw/Combined Search_Results_Top_3.xls'\n",
    "df = pd.read_excel(filepath)\n",
    "\n",
    "df.rename(columns={'Author': 'authors', 'Year': 'publication_year',\n",
    "                   'Abstract': 'abstract', 'Title': 'title'},\n",
    "          inplace=True)\n",
    "\n",
    "df.head(3)"
   ]
  },
  {
   "cell_type": "code",
   "execution_count": 11,
   "metadata": {
    "collapsed": false
   },
   "outputs": [
    {
     "data": {
      "text/plain": [
       "28710"
      ]
     },
     "execution_count": 11,
     "metadata": {},
     "output_type": "execute_result"
    }
   ],
   "source": [
    "min_new_citation_id = max(record['citation_id'] for record in records) + 1\n",
    "min_new_citation_id"
   ]
  },
  {
   "cell_type": "code",
   "execution_count": 12,
   "metadata": {
    "collapsed": false
   },
   "outputs": [
    {
     "data": {
      "text/plain": [
       "Index(['authors', 'publication_year', 'title', 'abstract', 'Included',\n",
       "       'Abstract review needed', 'Unresolved', 'Excluded non-conservation',\n",
       "       'Excluded non nature-based intervention',\n",
       "       'Excluded - no conservation intervention', 'Excluded - other',\n",
       "       'Excluded - no outcome', 'Excluded - biophysical outcome',\n",
       "       'Excluded - other.1', 'Excluded - study design', 'Excluded Subject',\n",
       "       'Comments', 'Journal'],\n",
       "      dtype='object')"
      ]
     },
     "execution_count": 12,
     "metadata": {},
     "output_type": "execute_result"
    }
   ],
   "source": [
    "df.columns"
   ]
  },
  {
   "cell_type": "code",
   "execution_count": 13,
   "metadata": {
    "collapsed": false,
    "scrolled": true
   },
   "outputs": [
    {
     "name": "stdout",
     "output_type": "stream",
     "text": [
      "797\n"
     ]
    },
    {
     "data": {
      "text/plain": [
       "[{'abstract': \"This article examines the recent convergence of community-based and transboundary natural resource management in Africa. We suggest that both approaches have potential application to common-pool resources such as floodplain fisheries. However, a merging of transboundary and community-based management may reinforce oversimplifications about heterogeneity in resources, users, and institutions. A scalar mismatch between the ecosystem of concern in transboundary management and local resources of concern in community-based management, as well as different colonial and post-colonial histories contribute to this heterogeneity. We describe a fishery shared by Namibia and Zambia in terms of hybrid fisheries management. We examine settlement patterns, fishermen characteristics, sources of conflict, and perceptions regarding present and potential forms of fisheries management in the area. We also consider the implications that initiatives to manage resources on the local and ecosystem scale have for these fishing livelihoods. Our findings indicate that important social factors, such as the unequal distribution of population and fishing effort, as well as mixed opinions regarding present and future responsibility for fisheries management will complicate attempts to implement a hybrid community-transboundary management initiative. © 2007 Canadian Association of Geographers / L'Association canadienne des géographes.\",\n",
       "  'authors': ('Abbott, J',\n",
       "   'Campbell, L M',\n",
       "   'Hay, C J',\n",
       "   'Ndumba, A',\n",
       "   'NÆsje, T F',\n",
       "   'Purvis, J'),\n",
       "  'citation_id': 28710,\n",
       "  'doi': None,\n",
       "  'publication_year': 2007,\n",
       "  'title': 'Rivers as resources, rivers as borders: Community and transboundary management of fisheries in the Upper Zambezi River floodplains'}]"
      ]
     },
     "execution_count": 13,
     "metadata": {},
     "output_type": "execute_result"
    }
   ],
   "source": [
    "included_records = df[df['Included'].notnull()][['authors', 'title', 'abstract', 'publication_year']]\n",
    "included_records = json.loads(included_records.to_json(orient='records'))\n",
    "print(len(included_records))\n",
    "\n",
    "# clean em up\n",
    "tmp = []\n",
    "for i, record in enumerate(included_records):\n",
    "    \n",
    "    publication_year = record['publication_year']\n",
    "    authors = record['authors'] if record.get('authors') else ''\n",
    "    abstract = record['abstract'] if record.get('abstract') else ''\n",
    "    title = record['title'] if record.get('title') else ''\n",
    "    doi = record['doi'] if record.get('doi') else None\n",
    "    \n",
    "    record = {'citation_id': i + min_new_citation_id}\n",
    "    \n",
    "    record['publication_year'] = int(publication_year) if publication_year else None\n",
    "    if authors:\n",
    "        record['authors'] = sorted(re.sub(r'(?<=\\w)\\.(?=( |$))', '', textacy.preprocess_text(author, fix_unicode=True))\n",
    "                                   for author in re.split(r'\\s*;\\s*', authors))\n",
    "    else:\n",
    "        record['authors'] = None\n",
    "    if abstract:\n",
    "        record['abstract'] = textacy.preprocess_text(abstract, fix_unicode=True)\n",
    "    else:\n",
    "        record['abstract'] = None\n",
    "    if title:\n",
    "        record['title'] = textacy.preprocess_text(title, fix_unicode=True)\n",
    "    else:\n",
    "        record['title'] = None\n",
    "    record['doi'] = doi\n",
    "        \n",
    "    tmp.append(record)\n",
    "    \n",
    "included_records = [cipy.db.make_immutable(record) for record in tmp]\n",
    "    \n",
    "included_records[:1]"
   ]
  },
  {
   "cell_type": "code",
   "execution_count": 35,
   "metadata": {
    "collapsed": true
   },
   "outputs": [],
   "source": [
    "all_records = {r['citation_id']: r for r in records + included_records}"
   ]
  },
  {
   "cell_type": "code",
   "execution_count": 36,
   "metadata": {
    "collapsed": false
   },
   "outputs": [
    {
     "data": {
      "text/plain": [
       "29140"
      ]
     },
     "execution_count": 36,
     "metadata": {},
     "output_type": "execute_result"
    }
   ],
   "source": [
    "len(all_records)"
   ]
  },
  {
   "cell_type": "code",
   "execution_count": 37,
   "metadata": {
    "collapsed": true
   },
   "outputs": [],
   "source": [
    "# load deduper\n",
    "deduper_path = '/Users/burtondewilde/Desktop/datakind/ci/conservation-intl/models/dedupe_citations_settings'\n",
    "threshold = 0.8\n",
    "\n",
    "deduper = cipy.db.get_deduper(deduper_path, num_cores=1)"
   ]
  },
  {
   "cell_type": "code",
   "execution_count": 38,
   "metadata": {
    "collapsed": false
   },
   "outputs": [],
   "source": [
    "clustered_dupes = deduper.match(\n",
    "    all_records,\n",
    "    threshold)"
   ]
  },
  {
   "cell_type": "code",
   "execution_count": 39,
   "metadata": {
    "collapsed": false
   },
   "outputs": [
    {
     "name": "stdout",
     "output_type": "stream",
     "text": [
      "# included records = 797\n",
      "# matched included records = 718\n"
     ]
    }
   ],
   "source": [
    "all_included_cids = {r['citation_id'] for r in included_records}\n",
    "matched_included_cids = set()\n",
    "matched_cids = set()\n",
    "for cluster_ids, cluster_scores in clustered_dupes:\n",
    "    cids = tuple(cid for cid in cluster_ids if cid < min_new_citation_id)\n",
    "    included_cids = tuple(cid for cid in cluster_ids if cid >= min_new_citation_id)\n",
    "    if cids and included_cids:\n",
    "        matched_included_cids.update(included_cids)\n",
    "        matched_cids.update(cids)\n",
    "        \n",
    "print('# included records =', len(all_included_cids))\n",
    "print('# matched included records =', len(matched_included_cids))"
   ]
  },
  {
   "cell_type": "code",
   "execution_count": 41,
   "metadata": {
    "collapsed": false
   },
   "outputs": [
    {
     "data": {
      "text/plain": [
       "[{'citation_id': 1, 'included': False},\n",
       " {'citation_id': 2, 'included': False},\n",
       " {'citation_id': 3, 'included': False},\n",
       " {'citation_id': 4, 'included': False},\n",
       " {'citation_id': 5, 'included': False},\n",
       " {'citation_id': 6, 'included': False},\n",
       " {'citation_id': 7, 'included': False},\n",
       " {'citation_id': 8, 'included': False},\n",
       " {'citation_id': 9, 'included': False},\n",
       " {'citation_id': 10, 'included': False}]"
      ]
     },
     "execution_count": 41,
     "metadata": {},
     "output_type": "execute_result"
    }
   ],
   "source": [
    "included_or_not = [{'citation_id': record['citation_id'],\n",
    "                    'included': record['citation_id'] in matched_cids}\n",
    "                   for record in records]\n",
    "included_or_not[:10]"
   ]
  },
  {
   "cell_type": "code",
   "execution_count": 44,
   "metadata": {
    "collapsed": true
   },
   "outputs": [],
   "source": [
    "filepath = '/Users/burtondewilde/Desktop/datakind/ci/conservation-intl/data/processed/citation_selection.json'\n",
    "with io.open(filepath, mode='wt') as f:\n",
    "    json.dump(included_or_not, f, ensure_ascii=False, indent=4)"
   ]
  },
  {
   "cell_type": "code",
   "execution_count": 42,
   "metadata": {
    "collapsed": false,
    "scrolled": true
   },
   "outputs": [
    {
     "name": "stdout",
     "output_type": "stream",
     "text": [
      "\n",
      "\n",
      "----------------------------------------------------\n",
      "ids: (12288, 29299) scores: (0.99998337, 0.99998337)\n",
      "{'abstract': 'A progressive part of protected area management program in Lao '\n",
      "             'PDR is a land and forest allocation program which contains '\n",
      "             'critical elements that delegate right of land and forest use to '\n",
      "             'local people. This study analyzes the gap between the original '\n",
      "             'intent of the program and its actual implementation by local '\n",
      "             'officials in Phou Xang He protected area, and discusses policy '\n",
      "             'issues that need to be addressed. It appears that several types '\n",
      "             'of non-compliance with regulations by local people have '\n",
      "             'occurred, with local officials tacitly ignoring infractions. By '\n",
      "             'switching viewpoints, however, it appears that the local '\n",
      "             'officials permit these infractions as a way of allowing local '\n",
      "             'people to secure their livelihoods. As constraints on the '\n",
      "             'realities of land and forest use vary widely in and around '\n",
      "             'villages in different locales, there is a need for government to '\n",
      "             'allow local officials flexibility in implementing policies. © '\n",
      "             '2010 Steve Harrison, John Herbohn.',\n",
      " 'authors': ('Hyakumura, K',),\n",
      " 'citation_id': 12288,\n",
      " 'doi': None,\n",
      " 'publication_year': 2010,\n",
      " 'title': \"'Slippage' in the implementation of forest policy by local \"\n",
      "          'officials: A case study of a protected area management in Lao PDR'}\n",
      "\n",
      "{'abstract': 'A progressive part of protected area management program in Lao '\n",
      "             'PDR is a land and forest allocation program which contains '\n",
      "             'critical elements that delegate right of land and forest use to '\n",
      "             'local people. This study analyzes the gap between the original '\n",
      "             'intent of the program and its actual implementation by local '\n",
      "             'officials in Phou Xang He protected area, and discusses policy '\n",
      "             'issues that need to be addressed. It appears that several types '\n",
      "             'of non-compliance with regulations by local people have '\n",
      "             'occurred, with local officials tacitly ignoring infractions. By '\n",
      "             'switching viewpoints, however, it appears that the local '\n",
      "             'officials permit these infractions as a way of allowing local '\n",
      "             'people to secure their livelihoods. As constraints on the '\n",
      "             'realities of land and forest use vary widely in and around '\n",
      "             'villages in different locales, there is a need for government to '\n",
      "             'allow local officials flexibility in implementing policies. © '\n",
      "             '2010 Steve Harrison, John Herbohn.',\n",
      " 'authors': ('Hyakumura, K',),\n",
      " 'citation_id': 29299,\n",
      " 'doi': None,\n",
      " 'publication_year': 2010,\n",
      " 'title': \"'Slippage' in the implementation of forest policy by local \"\n",
      "          'officials: A case study of a protected area management in Lao PDR'}\n",
      "\n",
      "\n",
      "----------------------------------------------------\n",
      "ids: (12289, 29300) scores: (0.99998337, 0.99998337)\n",
      "{'abstract': 'Forest policies that devolve forest-use rights to local people '\n",
      "             'have undergone development over the past few years in Laos. As '\n",
      "             'collaboration between local people and forestry officials is '\n",
      "             'seen as indispensable to effective and sustainable local forest '\n",
      "             'management, the objective of this study is to clarify the issues '\n",
      "             'pertinent to the resolution of latent conflict between these two '\n",
      "             'stakeholders. The issues are examined by presenting two case '\n",
      "             'studies in terms of forest management as perceived by local '\n",
      "             'people and forestry officials; the first in a rich forest area '\n",
      "             'and the second in a degraded forest. Issues relating to land and '\n",
      "             'borders and social capital are identified as the most important '\n",
      "             'in the degraded forest area, while social capital is a very '\n",
      "             'important issue in the rich forest area. Our studies show that '\n",
      "             'the problems of land and border issues in the degraded forest '\n",
      "             'area were caused by an inappropriate resettlement policy. This '\n",
      "             'can be interpreted as the mismanagement of social capital, and '\n",
      "             'for effective local forest management it is very important to '\n",
      "             'overcome problems of this nature. The effective use of social '\n",
      "             'capital has so far been overlooked, however, in the '\n",
      "             'establishment of collaborative forest governance at the local '\n",
      "             'level.',\n",
      " 'authors': ('Hyakumura, K', 'Inoue, M'),\n",
      " 'citation_id': 12289,\n",
      " 'doi': None,\n",
      " 'publication_year': 2006,\n",
      " 'title': 'The significance of social capital in local forest management in '\n",
      "          'Laos: Overcoming latent conflict between local people and local '\n",
      "          'forestry officials'}\n",
      "\n",
      "{'abstract': 'Forest policies that devolve forest-use rights to local people '\n",
      "             'have undergone development over the past few years in Laos. As '\n",
      "             'collaboration between local people and forestry officials is '\n",
      "             'seen as indispensable to effective and sustainable local forest '\n",
      "             'management, the objective of this study is to clarify the issues '\n",
      "             'pertinent to the resolution of latent conflict between these two '\n",
      "             'stakeholders. The issues are examined by presenting two case '\n",
      "             'studies in terms of forest management as perceived by local '\n",
      "             'people and forestry officials; the first in a rich forest area '\n",
      "             'and the second in a degraded forest. Issues relating to land and '\n",
      "             'borders and social capital are identified as the most important '\n",
      "             'in the degraded forest area, while social capital is a very '\n",
      "             'important issue in the rich forest area. Our studies show that '\n",
      "             'the problems of land and border issues in the degraded forest '\n",
      "             'area were caused by an inappropriate resettlement policy. This '\n",
      "             'can be interpreted as the mismanagement of social capital, and '\n",
      "             'for effective local forest management it is very important to '\n",
      "             'overcome problems of this nature. The effective use of social '\n",
      "             'capital has so far been overlooked, however, in the '\n",
      "             'establishment of collaborative forest governance at the local '\n",
      "             'level.',\n",
      " 'authors': ('Hyakumura, K', 'Inoue, M'),\n",
      " 'citation_id': 29300,\n",
      " 'doi': None,\n",
      " 'publication_year': 2006,\n",
      " 'title': 'The significance of social capital in local forest management in '\n",
      "          'Laos: Overcoming latent conflict between local people and local '\n",
      "          'forestry officials'}\n",
      "\n",
      "\n",
      "----------------------------------------------------\n",
      "ids: (4099, 28821) scores: (0.99998337, 0.99998337)\n",
      "{'abstract': 'Poverty, hunger and demand for agricultural land have driven '\n",
      "             'local communities to overexploit forest resources throughout '\n",
      "             'Ethiopia. Forests surrounding the township of Humbo were largely '\n",
      "             'destroyed by the late 1960s. In 2004, World Vision Australia and '\n",
      "             'World Vision Ethiopia identified forestry-based carbon '\n",
      "             'sequestration as a potential means to stimulate community '\n",
      "             'development while engaging in environmental restoration. After '\n",
      "             'two years of consultation, planning and negotiations, the Humbo '\n",
      "             'Community-based Natural Regeneration Project began '\n",
      "             \"implementation-the Ethiopian organization's first carbon \"\n",
      "             'sequestration initiative. The Humbo Project assists communities '\n",
      "             'affected by environmental degradation including loss of '\n",
      "             'biodiversity, soil erosion and flooding with an opportunity to '\n",
      "             'benefit from carbon markets while reducing poverty and restoring '\n",
      "             'the local agroecosystem. Involving the regeneration of 2,728 ha '\n",
      "             'of degraded native forests, it brings social, economic and '\n",
      "             'ecological benefits-facilitating adaptation to a changing '\n",
      "             'climate and generating temporary certified emissions reductions '\n",
      "             '(tCERs) under the Clean Development Mechanism. A key feature of '\n",
      "             'the project has been facilitating communities to embrace new '\n",
      "             'techniques and take responsibility for large-scale environmental '\n",
      "             'change, most importantly involving Farmer Managed Natural '\n",
      "             'Regeneration (FMNR). This technique is low-cost, replicable, and '\n",
      "             'provides direct benefits within a short time. Communities were '\n",
      "             'able to harvest fodder and firewood within a year of project '\n",
      "             'initiation and wild fruits and other non-timber forest products '\n",
      "             'within three years. Farmers are using agroforestry for both '\n",
      "             'environmental restoration and income generation. Establishment '\n",
      "             'of user rights and local cooperatives has generated community '\n",
      "             'ownership and enthusiasm for this project-empowering the '\n",
      "             'community to more sustainably manage their communal lands. © '\n",
      "             '2010 Springer Science+Business Media, LLC.',\n",
      " 'authors': ('Brown, D R', 'Dettmann, P', 'Rinaudo, T', 'Tefera, H', 'Tofu, A'),\n",
      " 'citation_id': 4099,\n",
      " 'doi': None,\n",
      " 'publication_year': 2011,\n",
      " 'title': 'Poverty alleviation and environmental restoration using the clean '\n",
      "          'development mechanism: A case study from Humbo, Ethiopia'}\n",
      "\n",
      "{'abstract': 'Poverty, hunger and demand for agricultural land have driven '\n",
      "             'local communities to overexploit forest resources throughout '\n",
      "             'Ethiopia. Forests surrounding the township of Humbo were largely '\n",
      "             'destroyed by the late 1960s. In 2004, World Vision Australia and '\n",
      "             'World Vision Ethiopia identified forestry-based carbon '\n",
      "             'sequestration as a potential means to stimulate community '\n",
      "             'development while engaging in environmental restoration. After '\n",
      "             'two years of consultation, planning and negotiations, the Humbo '\n",
      "             'Community-based Natural Regeneration Project began '\n",
      "             \"implementation-the Ethiopian organization's first carbon \"\n",
      "             'sequestration initiative. The Humbo Project assists communities '\n",
      "             'affected by environmental degradation including loss of '\n",
      "             'biodiversity, soil erosion and flooding with an opportunity to '\n",
      "             'benefit from carbon markets while reducing poverty and restoring '\n",
      "             'the local agroecosystem. Involving the regeneration of 2,728 ha '\n",
      "             'of degraded native forests, it brings social, economic and '\n",
      "             'ecological benefits-facilitating adaptation to a changing '\n",
      "             'climate and generating temporary certified emissions reductions '\n",
      "             '(tCERs) under the Clean Development Mechanism. A key feature of '\n",
      "             'the project has been facilitating communities to embrace new '\n",
      "             'techniques and take responsibility for large-scale environmental '\n",
      "             'change, most importantly involving Farmer Managed Natural '\n",
      "             'Regeneration (FMNR). This technique is low-cost, replicable, and '\n",
      "             'provides direct benefits within a short time. Communities were '\n",
      "             'able to harvest fodder and firewood within a year of project '\n",
      "             'initiation and wild fruits and other non-timber forest products '\n",
      "             'within three years. Farmers are using agroforestry for both '\n",
      "             'environmental restoration and income generation. Establishment '\n",
      "             'of user rights and local cooperatives has generated community '\n",
      "             'ownership and enthusiasm for this project-empowering the '\n",
      "             'community to more sustainably manage their communal lands. © '\n",
      "             '2010 Springer Science+Business Media, LLC.',\n",
      " 'authors': ('Brown, D R', 'Dettmann, P', 'Rinaudo, T', 'Tefera, H', 'Tofu, A'),\n",
      " 'citation_id': 28821,\n",
      " 'doi': None,\n",
      " 'publication_year': 2011,\n",
      " 'title': 'Poverty alleviation and environmental restoration using the clean '\n",
      "          'development mechanism: A case study from Humbo, Ethiopia'}\n",
      "\n",
      "\n",
      "----------------------------------------------------\n",
      "ids: (8202, 29002) scores: (0.99997282, 0.99997282)\n",
      "{'abstract': 'Historically, the Han Chinese forcibly displaced Kam people from '\n",
      "             'the best agricultural land. Today, the Kam cultural landscape '\n",
      "             'largely encompasses the border regions of Guizhou, Hunan and '\n",
      "             'Guangxi Provinces, in which lie verdant riverine mountains and '\n",
      "             'valleys. Sufficient water resources support Kam rice cultivation '\n",
      "             'and the broadleaf and evergreen forests of the humid subtropical '\n",
      "             'montane ecosystem. The Kam have dwelled in this diverse '\n",
      "             'environment for approximately 2, 000 years developing unique '\n",
      "             'livelihood strategies of harvesting fish and grain from paddy '\n",
      "             'fields, integrating agroforestry and agriculture on mountain '\n",
      "             'slopes and applying specialized knowledge and skills in '\n",
      "             'utilizing local natural resources. Kam people believe that '\n",
      "             'spirits inhabit elements in nature and the world around them, '\n",
      "             'thus great respect should be given to these supernatural beings. '\n",
      "             'Kam resource management practices support regional vegetation '\n",
      "             'where hillside pastureland and forage for domestic animals are '\n",
      "             'ample. Kam rice paddies and fishponds have been judiciously '\n",
      "             'maintained, contributing to Kam cultural survival and '\n",
      "             'development.',\n",
      " 'authors': ('Amato, J', 'Dengtao', 'Eisenberg, A'),\n",
      " 'citation_id': 8202,\n",
      " 'doi': None,\n",
      " 'publication_year': 2009,\n",
      " 'title': 'Kam local indigenous knowledge and sustainable resource management '\n",
      "          'in Guizhou and Guangxi Provinces'}\n",
      "\n",
      "{'abstract': 'Historically, the Han Chinese forcibly displaced Kam people from '\n",
      "             'the best agricultural land. Today, the Kam cultural landscape '\n",
      "             'largely encompasses the border regions of Guizhou, Hunan and '\n",
      "             'Guangxi Provinces, in which lie verdant riverine mountains and '\n",
      "             'valleys. Sufficient water resources support Kam rice cultivation '\n",
      "             'and the broadleaf and evergreen forests of the humid subtropical '\n",
      "             'montane ecosystem. The Kam have dwelled in this diverse '\n",
      "             'environment for approximately 2, 000 years developing unique '\n",
      "             'livelihood strategies of harvesting fish and grain from paddy '\n",
      "             'fields, integrating agroforestry and agriculture on mountain '\n",
      "             'slopes and applying specialized knowledge and skills in '\n",
      "             'utilizing local natural resources. Kam people believe that '\n",
      "             'spirits inhabit elements in nature and the world around them, '\n",
      "             'thus great respect should be given to these supernatural beings. '\n",
      "             'Kam resource management practices support regional vegetation '\n",
      "             'where hillside pastureland and forage for domestic animals are '\n",
      "             'ample. Kam rice paddies and fishponds have been judiciously '\n",
      "             'maintained, contributing to Kam cultural survival and '\n",
      "             'development.',\n",
      " 'authors': ('Amato, J', 'Dengtao,', 'Eisenberg, A'),\n",
      " 'citation_id': 29002,\n",
      " 'doi': None,\n",
      " 'publication_year': 2009,\n",
      " 'title': 'Kam local indigenous knowledge and sustainable resource management '\n",
      "          'in Guizhou and Guangxi Provinces'}\n",
      "\n",
      "\n",
      "----------------------------------------------------\n",
      "ids: (4112, 28822) scores: (0.99998337, 0.99998337)\n",
      "{'abstract': 'The Congo Basin region of Central Africa contains the second '\n",
      "             'largest contiguous tropical rainforest in the world, which is an '\n",
      "             'important source of livelihood for millions of people. It is '\n",
      "             'also important for climate change adaptation, as well as '\n",
      "             'mitigation policies on Reducing Emissions from Deforestation and '\n",
      "             'Forest Degradation (REDD+). Men and women relate to and use the '\n",
      "             'forest differently and so may experience the effects of climate '\n",
      "             'change and REDD+ policies differently. Investigations through '\n",
      "             'semi-structured interviews and document reviews in three '\n",
      "             'countries of the region revealed that women have had limited '\n",
      "             'participation in discussions on issues of climate change or '\n",
      "             'REDD+. There is some evidence that gender consideration will '\n",
      "             'become part of future national REDD+ strategies. Strategies to '\n",
      "             'foster the effective participation of all stakeholders are '\n",
      "             'essential to ensure that gender dimensions are addressed in '\n",
      "             'issues of climate change, forest access, forest management and '\n",
      "             'distribution of carbon benefits.',\n",
      " 'authors': ('Brown, H C P',),\n",
      " 'citation_id': 4112,\n",
      " 'doi': None,\n",
      " 'publication_year': 2011,\n",
      " 'title': 'Gender, climate change and REDD plus in the Congo Basin forests of '\n",
      "          'Central Africa'}\n",
      "\n",
      "{'abstract': 'The Congo Basin region of Central Africa contains the second '\n",
      "             'largest contiguous tropical rainforest in the world, which is an '\n",
      "             'important source of livelihood for millions of people. It is '\n",
      "             'also important for climate change adaptation, as well as '\n",
      "             'mitigation policies on Reducing Emissions from Deforestation and '\n",
      "             'Forest Degradation (REDD+). Men and women relate to and use the '\n",
      "             'forest differently and so may experience the effects of climate '\n",
      "             'change and REDD+ policies differently. Investigations through '\n",
      "             'semi-structured interviews and document reviews in three '\n",
      "             'countries of the region revealed that women have had limited '\n",
      "             'participation in discussions on issues of climate change or '\n",
      "             'REDD+. There is some evidence that gender consideration will '\n",
      "             'become part of future national REDD+ strategies. Strategies to '\n",
      "             'foster the effective participation of all stakeholders are '\n",
      "             'essential to ensure that gender dimensions are addressed in '\n",
      "             'issues of climate change, forest access, forest management and '\n",
      "             'distribution of carbon benefits.',\n",
      " 'authors': ('Brown, H C P',),\n",
      " 'citation_id': 28822,\n",
      " 'doi': None,\n",
      " 'publication_year': 2011,\n",
      " 'title': 'Gender, climate change and REDD plus in the Congo Basin forests of '\n",
      "          'Central Africa'}\n"
     ]
    }
   ],
   "source": [
    "for i, (cluster_ids, cluster_scores) in enumerate(clustered_dupes):\n",
    "    if (len(cluster_ids) == 2 and\n",
    "        any(cid < min_new_citation_id for cid in cluster_ids) and\n",
    "        any(cid >= min_new_citation_id for cid in cluster_ids)):\n",
    "        \n",
    "        print('\\n')\n",
    "        print('-' * 52)\n",
    "        print('ids:', cluster_ids, 'scores:', cluster_scores)\n",
    "        pprint(all_records[cluster_ids[0]])\n",
    "        print()\n",
    "        pprint(all_records[cluster_ids[1]])\n",
    "\n",
    "    if i > 3:\n",
    "        break"
   ]
  },
  {
   "cell_type": "code",
   "execution_count": null,
   "metadata": {
    "collapsed": true
   },
   "outputs": [],
   "source": []
  }
 ],
 "metadata": {
  "kernelspec": {
   "display_name": "Python 3",
   "language": "python",
   "name": "python3"
  },
  "language_info": {
   "codemirror_mode": {
    "name": "ipython",
    "version": 3
   },
   "file_extension": ".py",
   "mimetype": "text/x-python",
   "name": "python",
   "nbconvert_exporter": "python",
   "pygments_lexer": "ipython3",
   "version": "3.5.1"
  }
 },
 "nbformat": 4,
 "nbformat_minor": 0
}
