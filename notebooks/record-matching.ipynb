{
 "cells": [
  {
   "cell_type": "code",
   "execution_count": 22,
   "metadata": {
    "collapsed": true
   },
   "outputs": [],
   "source": [
    "import json\n",
    "import logging\n",
    "import re\n",
    "\n",
    "import pandas as pd\n",
    "import numpy as np\n",
    "import textacy\n",
    "\n",
    "import cipy"
   ]
  },
  {
   "cell_type": "code",
   "execution_count": 2,
   "metadata": {
    "collapsed": false
   },
   "outputs": [],
   "source": [
    "logger = logging.getLogger('cipy')\n",
    "logger.setLevel(logging.DEBUG)"
   ]
  },
  {
   "cell_type": "code",
   "execution_count": 3,
   "metadata": {
    "collapsed": false
   },
   "outputs": [],
   "source": [
    "conn_creds = cipy.db.get_conn_creds('DATABASE_URL')\n",
    "pgdb = cipy.db.PostgresDB(conn_creds, ddl='citations')"
   ]
  },
  {
   "cell_type": "code",
   "execution_count": 113,
   "metadata": {
    "collapsed": false
   },
   "outputs": [
    {
     "name": "stdout",
     "output_type": "stream",
     "text": [
      "28343\n"
     ]
    },
    {
     "data": {
      "text/plain": [
       "{'abstract': \"Broomrapes (Orobanche spp.) are aggressive and damaging parasitic weeds which have a tremendous impact on agriculture in East Africa, the Mediterranean region and the Middle East. Despite the availability of technologies to control broomrapes in economically important crops, Orobanche infestation continues to increase, threatening the livelihoods of millions of farmers. Many of the technologies developed have not been effectively disseminated and there has been little or zero adoption by farmers-who continue to use ineffective management practices that exacerbate the problem. The adaptation and dissemination of appropriate management practices are major priorities in broomrape control. However, such work must take into consideration the specific socio-economic characteristics of individual farming systems. Orobanche is a community threat and effective management requires a community-based integrated management approach. Recognizing the central role of farmers in parasitic weed management, a technical cooperation project (TCP) involving FAO, ICARDA and seven countries in the Near East and North Africa (NENA) region was implemented to improve the dissemination of knowledge and skills by using a farmer field school approach: a form of education that uses experiential learning methods to build farmers' expertise. This paper reviews conventional Orobanche research and development approaches, and highlights weaknesses in the management of the parasitic weed using these approaches as opposed to participatory approaches. The benefits and challenges of participatory farming system approaches in relation to integrated broomrape management (IBM) are also discussed. Lessons learned from achieving community ownership of, and institutional support for, IBM could be applied to other sectors (e.g. public health) in which there is a need for institutional learning and reform. Recommendations are made that include regional collaboration within the framework of a proposed Near East and North Africa Orobanche Management Network (NENAOMAN). © 2007 Elsevier Ltd. All rights reserved.\",\n",
       " 'authors': ('Abang, M M', 'Abu-Irmaileh, B', 'Bayaa, B', 'Yahyaoui, A'),\n",
       " 'citation_id': 18,\n",
       " 'doi': None,\n",
       " 'publication_year': 2007,\n",
       " 'title': 'A participatory farming system approach for sustainable broomrape (Orobanche spp.) management in the Near East and North Africa'}"
      ]
     },
     "execution_count": 113,
     "metadata": {},
     "output_type": "execute_result"
    }
   ],
   "source": [
    "query = \"\"\"\n",
    "SELECT citation_id, authors, title, abstract, publication_year, doi\n",
    "FROM citations\n",
    "WHERE\n",
    "    (citation_id NOT IN (SELECT citation_id FROM duplicates)\n",
    "    OR citation_id IN (SELECT canonical_citation_id FROM duplicates))\n",
    "\"\"\"\n",
    "records = [cipy.db.make_immutable(row) for row in pgdb.run_query(query)]\n",
    "print(len(records))\n",
    "records[0]"
   ]
  },
  {
   "cell_type": "code",
   "execution_count": 64,
   "metadata": {
    "collapsed": false,
    "scrolled": true
   },
   "outputs": [
    {
     "data": {
      "text/html": [
       "<div>\n",
       "<table border=\"1\" class=\"dataframe\">\n",
       "  <thead>\n",
       "    <tr style=\"text-align: right;\">\n",
       "      <th></th>\n",
       "      <th>Author</th>\n",
       "      <th>Year</th>\n",
       "      <th>Title</th>\n",
       "      <th>Abstract</th>\n",
       "      <th>Included</th>\n",
       "      <th>Abstract review needed</th>\n",
       "      <th>Unresolved</th>\n",
       "      <th>Excluded non-conservation</th>\n",
       "      <th>Excluded non nature-based intervention</th>\n",
       "      <th>Excluded - no conservation intervention</th>\n",
       "      <th>Excluded - other</th>\n",
       "      <th>Excluded - no outcome</th>\n",
       "      <th>Excluded - biophysical outcome</th>\n",
       "      <th>Excluded - other.1</th>\n",
       "      <th>Excluded - study design</th>\n",
       "      <th>Excluded Subject</th>\n",
       "      <th>Comments</th>\n",
       "      <th>Journal</th>\n",
       "    </tr>\n",
       "  </thead>\n",
       "  <tbody>\n",
       "    <tr>\n",
       "      <th>0</th>\n",
       "      <td>NaN</td>\n",
       "      <td>1977.0</td>\n",
       "      <td>The dietitian in primary health care</td>\n",
       "      <td>This statement was prepared by The American Di...</td>\n",
       "      <td>NaN</td>\n",
       "      <td>NaN</td>\n",
       "      <td>NaN</td>\n",
       "      <td>NaN</td>\n",
       "      <td>NaN</td>\n",
       "      <td>NaN</td>\n",
       "      <td>NaN</td>\n",
       "      <td>NaN</td>\n",
       "      <td>NaN</td>\n",
       "      <td>NaN</td>\n",
       "      <td>NaN</td>\n",
       "      <td>NaN</td>\n",
       "      <td>NaN</td>\n",
       "      <td>Journal of the American Dietetic Association</td>\n",
       "    </tr>\n",
       "    <tr>\n",
       "      <th>1</th>\n",
       "      <td>NaN</td>\n",
       "      <td>1986.0</td>\n",
       "      <td>Life-styles and health</td>\n",
       "      <td>A new perspective is needed on lifestyles and ...</td>\n",
       "      <td>NaN</td>\n",
       "      <td>NaN</td>\n",
       "      <td>NaN</td>\n",
       "      <td>NaN</td>\n",
       "      <td>NaN</td>\n",
       "      <td>NaN</td>\n",
       "      <td>NaN</td>\n",
       "      <td>NaN</td>\n",
       "      <td>NaN</td>\n",
       "      <td>NaN</td>\n",
       "      <td>NaN</td>\n",
       "      <td>NaN</td>\n",
       "      <td>NaN</td>\n",
       "      <td>Social Science and Medicine</td>\n",
       "    </tr>\n",
       "    <tr>\n",
       "      <th>2</th>\n",
       "      <td>NaN</td>\n",
       "      <td>1991.0</td>\n",
       "      <td>Supportive environments for health: The Sundsv...</td>\n",
       "      <td>The Sundsvall Conference on supportive environ...</td>\n",
       "      <td>NaN</td>\n",
       "      <td>NaN</td>\n",
       "      <td>NaN</td>\n",
       "      <td>NaN</td>\n",
       "      <td>NaN</td>\n",
       "      <td>NaN</td>\n",
       "      <td>NaN</td>\n",
       "      <td>NaN</td>\n",
       "      <td>NaN</td>\n",
       "      <td>NaN</td>\n",
       "      <td>NaN</td>\n",
       "      <td>NaN</td>\n",
       "      <td>NaN</td>\n",
       "      <td>Health Promotion International</td>\n",
       "    </tr>\n",
       "  </tbody>\n",
       "</table>\n",
       "</div>"
      ],
      "text/plain": [
       "  Author    Year                                              Title  \\\n",
       "0    NaN  1977.0               The dietitian in primary health care   \n",
       "1    NaN  1986.0                             Life-styles and health   \n",
       "2    NaN  1991.0  Supportive environments for health: The Sundsv...   \n",
       "\n",
       "                                            Abstract Included  \\\n",
       "0  This statement was prepared by The American Di...      NaN   \n",
       "1  A new perspective is needed on lifestyles and ...      NaN   \n",
       "2  The Sundsvall Conference on supportive environ...      NaN   \n",
       "\n",
       "  Abstract review needed Unresolved Excluded non-conservation  \\\n",
       "0                    NaN        NaN                       NaN   \n",
       "1                    NaN        NaN                       NaN   \n",
       "2                    NaN        NaN                       NaN   \n",
       "\n",
       "  Excluded non nature-based intervention  \\\n",
       "0                                    NaN   \n",
       "1                                    NaN   \n",
       "2                                    NaN   \n",
       "\n",
       "  Excluded - no conservation intervention Excluded - other  \\\n",
       "0                                     NaN              NaN   \n",
       "1                                     NaN              NaN   \n",
       "2                                     NaN              NaN   \n",
       "\n",
       "  Excluded - no outcome Excluded - biophysical outcome Excluded - other.1  \\\n",
       "0                   NaN                            NaN                NaN   \n",
       "1                   NaN                            NaN                NaN   \n",
       "2                   NaN                            NaN                NaN   \n",
       "\n",
       "  Excluded - study design Excluded Subject Comments  \\\n",
       "0                     NaN              NaN      NaN   \n",
       "1                     NaN              NaN      NaN   \n",
       "2                     NaN              NaN      NaN   \n",
       "\n",
       "                                        Journal  \n",
       "0  Journal of the American Dietetic Association  \n",
       "1                   Social Science and Medicine  \n",
       "2                Health Promotion International  "
      ]
     },
     "execution_count": 64,
     "metadata": {},
     "output_type": "execute_result"
    }
   ],
   "source": [
    "filepath = '/Users/burtondewilde/Desktop/datakind/ci/conservation-intl/data/raw/Combined Search_Results_Top_3.xls'\n",
    "df = pd.read_excel(filepath)\n",
    "df.head(3)"
   ]
  },
  {
   "cell_type": "code",
   "execution_count": 65,
   "metadata": {
    "collapsed": false
   },
   "outputs": [
    {
     "data": {
      "text/html": [
       "<div>\n",
       "<table border=\"1\" class=\"dataframe\">\n",
       "  <thead>\n",
       "    <tr style=\"text-align: right;\">\n",
       "      <th></th>\n",
       "      <th>authors</th>\n",
       "      <th>publication_year</th>\n",
       "      <th>title</th>\n",
       "      <th>abstract</th>\n",
       "      <th>Included</th>\n",
       "      <th>Abstract review needed</th>\n",
       "      <th>Unresolved</th>\n",
       "      <th>Excluded non-conservation</th>\n",
       "      <th>Excluded non nature-based intervention</th>\n",
       "      <th>Excluded - no conservation intervention</th>\n",
       "      <th>Excluded - other</th>\n",
       "      <th>Excluded - no outcome</th>\n",
       "      <th>Excluded - biophysical outcome</th>\n",
       "      <th>Excluded - other.1</th>\n",
       "      <th>Excluded - study design</th>\n",
       "      <th>Excluded Subject</th>\n",
       "      <th>Comments</th>\n",
       "      <th>Journal</th>\n",
       "    </tr>\n",
       "  </thead>\n",
       "  <tbody>\n",
       "    <tr>\n",
       "      <th>0</th>\n",
       "      <td>NaN</td>\n",
       "      <td>1977.0</td>\n",
       "      <td>The dietitian in primary health care</td>\n",
       "      <td>This statement was prepared by The American Di...</td>\n",
       "      <td>NaN</td>\n",
       "      <td>NaN</td>\n",
       "      <td>NaN</td>\n",
       "      <td>NaN</td>\n",
       "      <td>NaN</td>\n",
       "      <td>NaN</td>\n",
       "      <td>NaN</td>\n",
       "      <td>NaN</td>\n",
       "      <td>NaN</td>\n",
       "      <td>NaN</td>\n",
       "      <td>NaN</td>\n",
       "      <td>NaN</td>\n",
       "      <td>NaN</td>\n",
       "      <td>Journal of the American Dietetic Association</td>\n",
       "    </tr>\n",
       "    <tr>\n",
       "      <th>1</th>\n",
       "      <td>NaN</td>\n",
       "      <td>1986.0</td>\n",
       "      <td>Life-styles and health</td>\n",
       "      <td>A new perspective is needed on lifestyles and ...</td>\n",
       "      <td>NaN</td>\n",
       "      <td>NaN</td>\n",
       "      <td>NaN</td>\n",
       "      <td>NaN</td>\n",
       "      <td>NaN</td>\n",
       "      <td>NaN</td>\n",
       "      <td>NaN</td>\n",
       "      <td>NaN</td>\n",
       "      <td>NaN</td>\n",
       "      <td>NaN</td>\n",
       "      <td>NaN</td>\n",
       "      <td>NaN</td>\n",
       "      <td>NaN</td>\n",
       "      <td>Social Science and Medicine</td>\n",
       "    </tr>\n",
       "    <tr>\n",
       "      <th>2</th>\n",
       "      <td>NaN</td>\n",
       "      <td>1991.0</td>\n",
       "      <td>Supportive environments for health: The Sundsv...</td>\n",
       "      <td>The Sundsvall Conference on supportive environ...</td>\n",
       "      <td>NaN</td>\n",
       "      <td>NaN</td>\n",
       "      <td>NaN</td>\n",
       "      <td>NaN</td>\n",
       "      <td>NaN</td>\n",
       "      <td>NaN</td>\n",
       "      <td>NaN</td>\n",
       "      <td>NaN</td>\n",
       "      <td>NaN</td>\n",
       "      <td>NaN</td>\n",
       "      <td>NaN</td>\n",
       "      <td>NaN</td>\n",
       "      <td>NaN</td>\n",
       "      <td>Health Promotion International</td>\n",
       "    </tr>\n",
       "  </tbody>\n",
       "</table>\n",
       "</div>"
      ],
      "text/plain": [
       "  authors  publication_year  \\\n",
       "0     NaN            1977.0   \n",
       "1     NaN            1986.0   \n",
       "2     NaN            1991.0   \n",
       "\n",
       "                                               title  \\\n",
       "0               The dietitian in primary health care   \n",
       "1                             Life-styles and health   \n",
       "2  Supportive environments for health: The Sundsv...   \n",
       "\n",
       "                                            abstract Included  \\\n",
       "0  This statement was prepared by The American Di...      NaN   \n",
       "1  A new perspective is needed on lifestyles and ...      NaN   \n",
       "2  The Sundsvall Conference on supportive environ...      NaN   \n",
       "\n",
       "  Abstract review needed Unresolved Excluded non-conservation  \\\n",
       "0                    NaN        NaN                       NaN   \n",
       "1                    NaN        NaN                       NaN   \n",
       "2                    NaN        NaN                       NaN   \n",
       "\n",
       "  Excluded non nature-based intervention  \\\n",
       "0                                    NaN   \n",
       "1                                    NaN   \n",
       "2                                    NaN   \n",
       "\n",
       "  Excluded - no conservation intervention Excluded - other  \\\n",
       "0                                     NaN              NaN   \n",
       "1                                     NaN              NaN   \n",
       "2                                     NaN              NaN   \n",
       "\n",
       "  Excluded - no outcome Excluded - biophysical outcome Excluded - other.1  \\\n",
       "0                   NaN                            NaN                NaN   \n",
       "1                   NaN                            NaN                NaN   \n",
       "2                   NaN                            NaN                NaN   \n",
       "\n",
       "  Excluded - study design Excluded Subject Comments  \\\n",
       "0                     NaN              NaN      NaN   \n",
       "1                     NaN              NaN      NaN   \n",
       "2                     NaN              NaN      NaN   \n",
       "\n",
       "                                        Journal  \n",
       "0  Journal of the American Dietetic Association  \n",
       "1                   Social Science and Medicine  \n",
       "2                Health Promotion International  "
      ]
     },
     "execution_count": 65,
     "metadata": {},
     "output_type": "execute_result"
    }
   ],
   "source": [
    "df = df.rename(columns={'Author': 'authors', 'Year': 'publication_year',\n",
    "                   'Abstract': 'abstract', 'Title': 'title'})\n",
    "df.head(3)"
   ]
  },
  {
   "cell_type": "code",
   "execution_count": 67,
   "metadata": {
    "collapsed": false
   },
   "outputs": [
    {
     "data": {
      "text/plain": [
       "28710"
      ]
     },
     "execution_count": 67,
     "metadata": {},
     "output_type": "execute_result"
    }
   ],
   "source": [
    "min_new_citation_id = max(record['citation_id'] for record in records) + 1\n",
    "min_new_citation_id"
   ]
  },
  {
   "cell_type": "code",
   "execution_count": 103,
   "metadata": {
    "collapsed": false,
    "scrolled": true
   },
   "outputs": [
    {
     "data": {
      "text/plain": [
       "[{'abstract': \"This article examines the recent convergence of community-based and transboundary natural resource management in Africa. We suggest that both approaches have potential application to common-pool resources such as floodplain fisheries. However, a merging of transboundary and community-based management may reinforce oversimplifications about heterogeneity in resources, users, and institutions. A scalar mismatch between the ecosystem of concern in transboundary management and local resources of concern in community-based management, as well as different colonial and post-colonial histories contribute to this heterogeneity. We describe a fishery shared by Namibia and Zambia in terms of hybrid fisheries management. We examine settlement patterns, fishermen characteristics, sources of conflict, and perceptions regarding present and potential forms of fisheries management in the area. We also consider the implications that initiatives to manage resources on the local and ecosystem scale have for these fishing livelihoods. Our findings indicate that important social factors, such as the unequal distribution of population and fishing effort, as well as mixed opinions regarding present and future responsibility for fisheries management will complicate attempts to implement a hybrid community-transboundary management initiative. © 2007 Canadian Association of Geographers / L'Association canadienne des géographes.\",\n",
       "  'authors': ('Abbott, J',\n",
       "   'Campbell, L M',\n",
       "   'Hay, C J',\n",
       "   'Ndumba, A',\n",
       "   'NÆsje, T F',\n",
       "   'Purvis, J'),\n",
       "  'citation_id': 28710,\n",
       "  'doi': None,\n",
       "  'publication_year': 2007,\n",
       "  'title': 'Rivers as resources, rivers as borders: Community and transboundary management of fisheries in the Upper Zambezi River floodplains'}]"
      ]
     },
     "execution_count": 103,
     "metadata": {},
     "output_type": "execute_result"
    }
   ],
   "source": [
    "included_records = df[df['Included'].notnull()][['authors', 'title', 'abstract', 'publication_year']]\n",
    "included_records = json.loads(included_records.to_json(orient='records'))\n",
    "\n",
    "# clean em up\n",
    "tmp = []\n",
    "for i, record in enumerate(included_records):\n",
    "    \n",
    "    publication_year = record['publication_year']\n",
    "    authors = record['authors'] if record.get('authors') else ''\n",
    "    abstract = record['abstract'] if record.get('abstract') else ''\n",
    "    title = record['title'] if record.get('title') else ''\n",
    "    doi = record['doi'] if record.get('doi') else None\n",
    "    \n",
    "    record = {'citation_id': i + min_new_citation_id}\n",
    "    \n",
    "    record['publication_year'] = int(publication_year) if publication_year else None\n",
    "    if authors:\n",
    "        record['authors'] = sorted(re.sub(r'(?<=\\w)\\.(?=( |$))', '', textacy.preprocess_text(author, fix_unicode=True))\n",
    "                                   for author in re.split(r'\\s*;\\s*', authors))\n",
    "    else:\n",
    "        record['authors'] = None\n",
    "    if abstract:\n",
    "        record['abstract'] = textacy.preprocess_text(abstract, fix_unicode=True)\n",
    "    else:\n",
    "        record['abstract'] = None\n",
    "    if title:\n",
    "        record['title'] = textacy.preprocess_text(title, fix_unicode=True)\n",
    "    else:\n",
    "        record['title'] = None\n",
    "    record['doi'] = doi\n",
    "        \n",
    "    tmp.append(record)\n",
    "    \n",
    "included_records = [cipy.db.make_immutable(record) for record in tmp]\n",
    "    \n",
    "included_records[:1]"
   ]
  },
  {
   "cell_type": "code",
   "execution_count": 114,
   "metadata": {
    "collapsed": true
   },
   "outputs": [],
   "source": [
    "all_records = records + included_records"
   ]
  },
  {
   "cell_type": "code",
   "execution_count": 126,
   "metadata": {
    "collapsed": true
   },
   "outputs": [],
   "source": [
    "# load deduper\n",
    "deduper_path = '/Users/burtondewilde/Desktop/datakind/ci/conservation-intl/models/dedupe_citations_settings'\n",
    "threshold = 0.5\n",
    "\n",
    "deduper = cipy.db.get_deduper(deduper_path, num_cores=1)"
   ]
  },
  {
   "cell_type": "code",
   "execution_count": null,
   "metadata": {
    "collapsed": false
   },
   "outputs": [],
   "source": [
    "clustered_dupes = deduper.match(\n",
    "    {r['citation_id']: r for r in all_records},\n",
    "    threshold)"
   ]
  },
  {
   "cell_type": "code",
   "execution_count": null,
   "metadata": {
    "collapsed": false
   },
   "outputs": [],
   "source": [
    "len(included_records)"
   ]
  },
  {
   "cell_type": "code",
   "execution_count": null,
   "metadata": {
    "collapsed": false
   },
   "outputs": [],
   "source": [
    "len(clustered_dupes)"
   ]
  },
  {
   "cell_type": "code",
   "execution_count": null,
   "metadata": {
    "collapsed": false
   },
   "outputs": [],
   "source": [
    "for cluster in clustered_dupes:\n",
    "    print(cluster)\n",
    "    break"
   ]
  },
  {
   "cell_type": "code",
   "execution_count": null,
   "metadata": {
    "collapsed": true
   },
   "outputs": [],
   "source": []
  }
 ],
 "metadata": {
  "kernelspec": {
   "display_name": "Python 3",
   "language": "python",
   "name": "python3"
  },
  "language_info": {
   "codemirror_mode": {
    "name": "ipython",
    "version": 3
   },
   "file_extension": ".py",
   "mimetype": "text/x-python",
   "name": "python",
   "nbconvert_exporter": "python",
   "pygments_lexer": "ipython3",
   "version": "3.5.1"
  }
 },
 "nbformat": 4,
 "nbformat_minor": 0
}
