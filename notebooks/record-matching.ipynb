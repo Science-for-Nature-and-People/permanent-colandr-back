{
 "cells": [
  {
   "cell_type": "code",
   "execution_count": 4,
   "metadata": {
    "collapsed": false
   },
   "outputs": [
    {
     "name": "stderr",
     "output_type": "stream",
     "text": [
      "/Users/burtondewilde/.pyenv/versions/3.5.2/lib/python3.5/site-packages/flask/exthook.py:71: ExtDeprecationWarning: Importing flask.ext.restful is deprecated, use flask_restful instead.\n",
      "  .format(x=modname), ExtDeprecationWarning\n"
     ]
    }
   ],
   "source": [
    "import io\n",
    "import json\n",
    "import logging\n",
    "from pprint import pprint\n",
    "import re\n",
    "\n",
    "import pandas as pd\n",
    "import numpy as np\n",
    "import textacy\n",
    "\n",
    "import colandr"
   ]
  },
  {
   "cell_type": "code",
   "execution_count": 6,
   "metadata": {
    "collapsed": false
   },
   "outputs": [
    {
     "name": "stdout",
     "output_type": "stream",
     "text": [
      "28343\n"
     ]
    },
    {
     "data": {
      "text/plain": [
       "[{'abstract': None,\n",
       "  'authors': ('113 Congress, Rep. McDermott',),\n",
       "  'doi': None,\n",
       "  'id': 1,\n",
       "  'publication_year': None,\n",
       "  'title': 'Managed Carbon Price Act of 2014, H.R. 4754'}]"
      ]
     },
     "execution_count": 6,
     "metadata": {},
     "output_type": "execute_result"
    }
   ],
   "source": [
    "query = \"\"\"\n",
    "SELECT id, title, abstract, authors, pub_year AS publication_year, doi\n",
    "FROM citations\n",
    "WHERE (deduplication->>'is_duplicate')::bool is false\n",
    "ORDER BY id ASC\n",
    "\"\"\"\n",
    "records = [colandr.lib.utils.make_record_immutable(dict(row))\n",
    "           for row in colandr.lib.utils.execute_raw_sql_query(query)]\n",
    "print(len(records))\n",
    "records[:1]"
   ]
  },
  {
   "cell_type": "code",
   "execution_count": 3,
   "metadata": {
    "collapsed": false
   },
   "outputs": [
    {
     "data": {
      "text/html": [
       "<div>\n",
       "<table border=\"1\" class=\"dataframe\">\n",
       "  <thead>\n",
       "    <tr style=\"text-align: right;\">\n",
       "      <th></th>\n",
       "      <th>authors</th>\n",
       "      <th>publication_year</th>\n",
       "      <th>title</th>\n",
       "      <th>abstract</th>\n",
       "      <th>Included</th>\n",
       "      <th>Abstract review needed</th>\n",
       "      <th>Unresolved</th>\n",
       "      <th>Excluded non-conservation</th>\n",
       "      <th>Excluded non nature-based intervention</th>\n",
       "      <th>Excluded - no conservation intervention</th>\n",
       "      <th>Excluded - other</th>\n",
       "      <th>Excluded - no outcome</th>\n",
       "      <th>Excluded - biophysical outcome</th>\n",
       "      <th>Excluded - other.1</th>\n",
       "      <th>Excluded - study design</th>\n",
       "      <th>Excluded Subject</th>\n",
       "      <th>Comments</th>\n",
       "      <th>Journal</th>\n",
       "    </tr>\n",
       "  </thead>\n",
       "  <tbody>\n",
       "    <tr>\n",
       "      <th>0</th>\n",
       "      <td>NaN</td>\n",
       "      <td>1977.0</td>\n",
       "      <td>The dietitian in primary health care</td>\n",
       "      <td>This statement was prepared by The American Di...</td>\n",
       "      <td>NaN</td>\n",
       "      <td>NaN</td>\n",
       "      <td>NaN</td>\n",
       "      <td>NaN</td>\n",
       "      <td>NaN</td>\n",
       "      <td>NaN</td>\n",
       "      <td>NaN</td>\n",
       "      <td>NaN</td>\n",
       "      <td>NaN</td>\n",
       "      <td>NaN</td>\n",
       "      <td>NaN</td>\n",
       "      <td>NaN</td>\n",
       "      <td>NaN</td>\n",
       "      <td>Journal of the American Dietetic Association</td>\n",
       "    </tr>\n",
       "    <tr>\n",
       "      <th>1</th>\n",
       "      <td>NaN</td>\n",
       "      <td>1986.0</td>\n",
       "      <td>Life-styles and health</td>\n",
       "      <td>A new perspective is needed on lifestyles and ...</td>\n",
       "      <td>NaN</td>\n",
       "      <td>NaN</td>\n",
       "      <td>NaN</td>\n",
       "      <td>NaN</td>\n",
       "      <td>NaN</td>\n",
       "      <td>NaN</td>\n",
       "      <td>NaN</td>\n",
       "      <td>NaN</td>\n",
       "      <td>NaN</td>\n",
       "      <td>NaN</td>\n",
       "      <td>NaN</td>\n",
       "      <td>NaN</td>\n",
       "      <td>NaN</td>\n",
       "      <td>Social Science and Medicine</td>\n",
       "    </tr>\n",
       "  </tbody>\n",
       "</table>\n",
       "</div>"
      ],
      "text/plain": [
       "  authors  publication_year                                 title  \\\n",
       "0     NaN            1977.0  The dietitian in primary health care   \n",
       "1     NaN            1986.0                Life-styles and health   \n",
       "\n",
       "                                            abstract Included  \\\n",
       "0  This statement was prepared by The American Di...      NaN   \n",
       "1  A new perspective is needed on lifestyles and ...      NaN   \n",
       "\n",
       "  Abstract review needed Unresolved Excluded non-conservation  \\\n",
       "0                    NaN        NaN                       NaN   \n",
       "1                    NaN        NaN                       NaN   \n",
       "\n",
       "  Excluded non nature-based intervention  \\\n",
       "0                                    NaN   \n",
       "1                                    NaN   \n",
       "\n",
       "  Excluded - no conservation intervention Excluded - other  \\\n",
       "0                                     NaN              NaN   \n",
       "1                                     NaN              NaN   \n",
       "\n",
       "  Excluded - no outcome Excluded - biophysical outcome Excluded - other.1  \\\n",
       "0                   NaN                            NaN                NaN   \n",
       "1                   NaN                            NaN                NaN   \n",
       "\n",
       "  Excluded - study design Excluded Subject Comments  \\\n",
       "0                     NaN              NaN      NaN   \n",
       "1                     NaN              NaN      NaN   \n",
       "\n",
       "                                        Journal  \n",
       "0  Journal of the American Dietetic Association  \n",
       "1                   Social Science and Medicine  "
      ]
     },
     "execution_count": 3,
     "metadata": {},
     "output_type": "execute_result"
    }
   ],
   "source": [
    "filepath = '../data/raw/Combined Search_Results_Top_3.xls'\n",
    "df = pd.read_excel(filepath)\n",
    "df.rename(columns={'Author': 'authors', 'Year': 'publication_year',\n",
    "                   'Abstract': 'abstract', 'Title': 'title'},\n",
    "          inplace=True)\n",
    "\n",
    "df.head(2)"
   ]
  },
  {
   "cell_type": "code",
   "execution_count": 13,
   "metadata": {
    "collapsed": false
   },
   "outputs": [
    {
     "name": "stdout",
     "output_type": "stream",
     "text": [
      "797 \"included\" records\n"
     ]
    },
    {
     "data": {
      "text/plain": [
       "[{'abstract': \"This article examines the recent convergence of community-based and transboundary natural resource management in Africa. We suggest that both approaches have potential application to common-pool resources such as floodplain fisheries. However, a merging of transboundary and community-based management may reinforce oversimplifications about heterogeneity in resources, users, and institutions. A scalar mismatch between the ecosystem of concern in transboundary management and local resources of concern in community-based management, as well as different colonial and post-colonial histories contribute to this heterogeneity. We describe a fishery shared by Namibia and Zambia in terms of hybrid fisheries management. We examine settlement patterns, fishermen characteristics, sources of conflict, and perceptions regarding present and potential forms of fisheries management in the area. We also consider the implications that initiatives to manage resources on the local and ecosystem scale have for these fishing livelihoods. Our findings indicate that important social factors, such as the unequal distribution of population and fishing effort, as well as mixed opinions regarding present and future responsibility for fisheries management will complicate attempts to implement a hybrid community-transboundary management initiative. © 2007 Canadian Association of Geographers / L'Association canadienne des géographes.\",\n",
       "  'authors': ('Abbott, J',\n",
       "   'Campbell, L M',\n",
       "   'Hay, C J',\n",
       "   'Ndumba, A',\n",
       "   'NÆsje, T F',\n",
       "   'Purvis, J'),\n",
       "  'doi': None,\n",
       "  'id': 28709,\n",
       "  'publication_year': 2007,\n",
       "  'title': 'Rivers as resources, rivers as borders: Community and transboundary management of fisheries in the Upper Zambezi River floodplains'}]"
      ]
     },
     "execution_count": 13,
     "metadata": {},
     "output_type": "execute_result"
    }
   ],
   "source": [
    "min_new_citation_id = max(record['id'] for record in records) + 1\n",
    "\n",
    "included_records = df[df['Included'].notnull()][['authors', 'title', 'abstract', 'publication_year']]\n",
    "included_records = json.loads(included_records.to_json(orient='records'))\n",
    "\n",
    "# clean em up\n",
    "tmp = []\n",
    "for i, record in enumerate(included_records):\n",
    "    \n",
    "    publication_year = record['publication_year']\n",
    "    authors = record['authors'] if record.get('authors') else ''\n",
    "    abstract = record['abstract'] if record.get('abstract') else ''\n",
    "    title = record['title'] if record.get('title') else ''\n",
    "    doi = record['doi'] if record.get('doi') else None\n",
    "    \n",
    "    record = {'id': i + min_new_citation_id}\n",
    "    \n",
    "    record['publication_year'] = int(publication_year) if publication_year else None\n",
    "    if authors:\n",
    "        record['authors'] = sorted(re.sub(r'(?<=\\w)\\.(?=( |$))', '', textacy.preprocess_text(author, fix_unicode=True))\n",
    "                                   for author in re.split(r'\\s*;\\s*', authors))\n",
    "    else:\n",
    "        record['authors'] = None\n",
    "    if abstract:\n",
    "        record['abstract'] = textacy.preprocess_text(abstract, fix_unicode=True)\n",
    "    else:\n",
    "        record['abstract'] = None\n",
    "    if title:\n",
    "        record['title'] = textacy.preprocess_text(title, fix_unicode=True)\n",
    "    else:\n",
    "        record['title'] = None\n",
    "    record['doi'] = doi\n",
    "        \n",
    "    tmp.append(record)\n",
    "    \n",
    "included_records = [colandr.lib.utils.make_record_immutable(record) for record in tmp]\n",
    "    \n",
    "included_records[:1]"
   ]
  },
  {
   "cell_type": "code",
   "execution_count": 18,
   "metadata": {
    "collapsed": false
   },
   "outputs": [
    {
     "name": "stdout",
     "output_type": "stream",
     "text": [
      "# all records = 29140\n"
     ]
    }
   ],
   "source": [
    "all_records = {r['id']: r for r in records + included_records}\n",
    "print('# all records = {}'.format(len(all_records)))"
   ]
  },
  {
   "cell_type": "code",
   "execution_count": 15,
   "metadata": {
    "collapsed": false
   },
   "outputs": [
    {
     "name": "stderr",
     "output_type": "stream",
     "text": [
      "INFO:dedupe.api:((SimplePredicate: (commonIntegerPredicate, title), TfidfNGramCanopyPredicate: (0.8, title)), (SimplePredicate: (metaphoneToken, doi), SimplePredicate: (twoGramFingerprint, doi)), (SimplePredicate: (firstTokenPredicate, title), TfidfNGramCanopyPredicate: (0.6, title)), (SimplePredicate: (firstTokenPredicate, abstract), SimplePredicate: (lastSetElementPredicate, authors)))\n"
     ]
    }
   ],
   "source": [
    "# load deduper\n",
    "settings_path = '../colandr_data/dedupe/dedupe_citations_settings'\n",
    "threshold = 0.8\n",
    "deduper = colandr.lib.utils.load_dedupe_model(settings_path, num_cores=1)"
   ]
  },
  {
   "cell_type": "code",
   "execution_count": 16,
   "metadata": {
    "collapsed": false
   },
   "outputs": [
    {
     "name": "stderr",
     "output_type": "stream",
     "text": [
      "INFO:dedupe.index:Removing stop word In\n",
      "INFO:dedupe.index:Removing stop word fl\n",
      "INFO:dedupe.index:Removing stop word ue\n",
      "INFO:dedupe.index:Removing stop word nc\n",
      "INFO:dedupe.index:Removing stop word eo\n",
      "INFO:dedupe.index:Removing stop word ff\n",
      "INFO:dedupe.index:Removing stop word ar\n",
      "INFO:dedupe.index:Removing stop word mm\n",
      "INFO:dedupe.index:Removing stop word an\n",
      "INFO:dedupe.index:Removing stop word ag\n",
      "INFO:dedupe.index:Removing stop word em\n",
      "INFO:dedupe.index:Removing stop word nt\n",
      "INFO:dedupe.index:Removing stop word st\n",
      "INFO:dedupe.index:Removing stop word le\n",
      "INFO:dedupe.index:Removing stop word ad\n",
      "INFO:dedupe.index:Removing stop word op\n",
      "INFO:dedupe.index:Removing stop word ti\n",
      "INFO:dedupe.index:Removing stop word no\n",
      "INFO:dedupe.index:Removing stop word bi\n",
      "INFO:dedupe.index:Removing stop word lo\n",
      "INFO:dedupe.index:Removing stop word gi\n",
      "INFO:dedupe.index:Removing stop word ca\n",
      "INFO:dedupe.index:Removing stop word ll\n",
      "INFO:dedupe.index:Removing stop word yi\n",
      "INFO:dedupe.index:Removing stop word te\n",
      "INFO:dedupe.index:Removing stop word gr\n",
      "INFO:dedupe.index:Removing stop word at\n",
      "INFO:dedupe.index:Removing stop word df\n",
      "INFO:dedupe.index:Removing stop word ng\n",
      "INFO:dedupe.index:Removing stop word pr\n",
      "INFO:dedupe.index:Removing stop word ct\n",
      "INFO:dedupe.index:Removing stop word si\n",
      "INFO:dedupe.index:Removing stop word Ca\n",
      "INFO:dedupe.index:Removing stop word if\n",
      "INFO:dedupe.index:Removing stop word or\n",
      "INFO:dedupe.index:Removing stop word ni\n",
      "INFO:dedupe.index:Removing stop word ow\n",
      "INFO:dedupe.index:Removing stop word sf\n",
      "INFO:dedupe.index:Removing stop word ir\n",
      "INFO:dedupe.index:Removing stop word ei\n",
      "INFO:dedupe.index:Removing stop word it\n",
      "INFO:dedupe.index:Removing stop word nd\n",
      "INFO:dedupe.index:Removing stop word qu\n",
      "INFO:dedupe.index:Removing stop word fe\n",
      "INFO:dedupe.index:Removing stop word om\n",
      "INFO:dedupe.index:Removing stop word bo\n",
      "INFO:dedupe.index:Removing stop word oo\n",
      "INFO:dedupe.index:Removing stop word dl\n",
      "INFO:dedupe.index:Removing stop word dt\n",
      "INFO:dedupe.index:Removing stop word ee\n",
      "INFO:dedupe.index:Removing stop word po\n",
      "INFO:dedupe.index:Removing stop word ul\n",
      "INFO:dedupe.index:Removing stop word as\n",
      "INFO:dedupe.index:Removing stop word Th\n",
      "INFO:dedupe.index:Removing stop word de\n",
      "INFO:dedupe.index:Removing stop word er\n",
      "INFO:dedupe.index:Removing stop word nu\n",
      "INFO:dedupe.index:Removing stop word tu\n",
      "INFO:dedupe.index:Removing stop word ri\n",
      "INFO:dedupe.index:Removing stop word ev\n",
      "INFO:dedupe.index:Removing stop word el\n",
      "INFO:dedupe.index:Removing stop word co\n",
      "INFO:dedupe.index:Removing stop word un\n",
      "INFO:dedupe.index:Removing stop word rp\n",
      "INFO:dedupe.index:Removing stop word rt\n",
      "INFO:dedupe.index:Removing stop word :T\n",
      "INFO:dedupe.index:Removing stop word wa\n",
      "INFO:dedupe.index:Removing stop word ds\n",
      "INFO:dedupe.index:Removing stop word ea\n",
      "INFO:dedupe.index:Removing stop word di\n",
      "INFO:dedupe.index:Removing stop word ne\n",
      "INFO:dedupe.index:Removing stop word ha\n",
      "INFO:dedupe.index:Removing stop word ch\n",
      "INFO:dedupe.index:Removing stop word ga\n",
      "INFO:dedupe.index:Removing stop word pe\n",
      "INFO:dedupe.index:Removing stop word is\n",
      "INFO:dedupe.index:Removing stop word oi\n",
      "INFO:dedupe.index:Removing stop word ls\n",
      "INFO:dedupe.index:Removing stop word ta\n",
      "INFO:dedupe.index:Removing stop word :A\n",
      "INFO:dedupe.index:Removing stop word mu\n",
      "INFO:dedupe.index:Removing stop word im\n",
      "INFO:dedupe.index:Removing stop word ob\n",
      "INFO:dedupe.index:Removing stop word vi\n",
      "INFO:dedupe.index:Removing stop word ig\n",
      "INFO:dedupe.index:Removing stop word pa\n",
      "INFO:dedupe.index:Removing stop word ip\n",
      "INFO:dedupe.index:Removing stop word rv\n",
      "INFO:dedupe.index:Removing stop word np\n",
      "INFO:dedupe.index:Removing stop word sh\n",
      "INFO:dedupe.index:Removing stop word wi\n",
      "INFO:dedupe.index:Removing stop word sk\n",
      "INFO:dedupe.index:Removing stop word nn\n",
      "INFO:dedupe.index:Removing stop word sy\n",
      "INFO:dedupe.index:Removing stop word oc\n",
      "INFO:dedupe.index:Removing stop word mo\n",
      "INFO:dedupe.index:Removing stop word ft\n",
      "INFO:dedupe.index:Removing stop word nv\n",
      "INFO:dedupe.index:Removing stop word lc\n",
      "INFO:dedupe.index:Removing stop word uc\n",
      "INFO:dedupe.index:Removing stop word cr\n",
      "INFO:dedupe.index:Removing stop word go\n",
      "INFO:dedupe.index:Removing stop word pp\n",
      "INFO:dedupe.index:Removing stop word os\n",
      "INFO:dedupe.index:Removing stop word cu\n",
      "INFO:dedupe.index:Removing stop word cl\n",
      "INFO:dedupe.index:Removing stop word ef\n",
      "INFO:dedupe.index:Removing stop word dy\n",
      "INFO:dedupe.index:Removing stop word s,\n",
      "INFO:dedupe.index:Removing stop word rk\n",
      "INFO:dedupe.index:Removing stop word ry\n",
      "INFO:dedupe.index:Removing stop word be\n",
      "INFO:dedupe.index:Removing stop word we\n",
      "INFO:dedupe.index:Removing stop word dc\n",
      "INFO:dedupe.index:Removing stop word mp\n",
      "INFO:dedupe.index:Removing stop word An\n",
      "INFO:dedupe.index:Removing stop word da\n",
      "INFO:dedupe.index:Removing stop word gt\n",
      "INFO:dedupe.index:Removing stop word us\n",
      "INFO:dedupe.index:Removing stop word id\n",
      "INFO:dedupe.index:Removing stop word rb\n",
      "INFO:dedupe.index:Removing stop word su\n",
      "INFO:dedupe.index:Removing stop word ex\n",
      "INFO:dedupe.index:Removing stop word ot\n",
      "INFO:dedupe.index:Removing stop word yo\n",
      "INFO:dedupe.index:Removing stop word tt\n",
      "INFO:dedupe.index:Removing stop word ab\n",
      "INFO:dedupe.index:Removing stop word lr\n",
      "INFO:dedupe.index:Removing stop word sm\n",
      "INFO:dedupe.index:Removing stop word ba\n",
      "INFO:dedupe.index:Removing stop word ru\n",
      "INFO:dedupe.index:Removing stop word ua\n",
      "INFO:dedupe.index:Removing stop word rr\n",
      "INFO:dedupe.index:Removing stop word pm\n",
      "INFO:dedupe.index:Removing stop word Ch\n",
      "INFO:dedupe.index:Removing stop word fs\n",
      "INFO:dedupe.index:Removing stop word dr\n",
      "INFO:dedupe.index:Removing stop word ak\n",
      "INFO:dedupe.index:Removing stop word fc\n",
      "INFO:dedupe.index:Removing stop word So\n",
      "INFO:dedupe.index:Removing stop word ph\n",
      "INFO:dedupe.index:Removing stop word um\n",
      "INFO:dedupe.index:Removing stop word ib\n",
      "INFO:dedupe.index:Removing stop word eh\n",
      "INFO:dedupe.index:Removing stop word rc\n",
      "INFO:dedupe.index:Removing stop word sp\n",
      "INFO:dedupe.index:Removing stop word Re\n",
      "INFO:dedupe.index:Removing stop word Pr\n",
      "INFO:dedupe.index:Removing stop word hr\n",
      "INFO:dedupe.index:Removing stop word gy\n",
      "INFO:dedupe.blocking:Canopy: TfidfNGramCanopyPredicate: (0.8, title)\n",
      "INFO:dedupe.blocking:Canopy: TfidfNGramCanopyPredicate: (0.6, title)\n",
      "INFO:dedupe.blocking:10000, 9.9574002 seconds\n",
      "INFO:dedupe.blocking:20000, 19.3628292 seconds\n",
      "INFO:dedupe.api:0 blocks\n"
     ]
    }
   ],
   "source": [
    "clustered_dupes = deduper.match(all_records, threshold)"
   ]
  },
  {
   "cell_type": "code",
   "execution_count": 17,
   "metadata": {
    "collapsed": false
   },
   "outputs": [
    {
     "name": "stdout",
     "output_type": "stream",
     "text": [
      "# included records = 797\n",
      "# matched included records = 717\n"
     ]
    }
   ],
   "source": [
    "all_included_cids = {r['id'] for r in included_records}\n",
    "matched_included_cids = set()\n",
    "matched_cids = set()\n",
    "for cluster_ids, cluster_scores in clustered_dupes:\n",
    "    cids = tuple(cid for cid in cluster_ids if cid < min_new_citation_id)\n",
    "    included_cids = tuple(cid for cid in cluster_ids if cid >= min_new_citation_id)\n",
    "    if cids and included_cids:\n",
    "        matched_included_cids.update(included_cids)\n",
    "        matched_cids.update(cids)\n",
    "        \n",
    "print('# included records =', len(all_included_cids))\n",
    "print('# matched included records =', len(matched_included_cids))"
   ]
  },
  {
   "cell_type": "code",
   "execution_count": 26,
   "metadata": {
    "collapsed": false,
    "scrolled": true
   },
   "outputs": [
    {
     "name": "stdout",
     "output_type": "stream",
     "text": [
      "\n",
      "\n",
      "----------------------------------------------------\n",
      "ids: (12288, 29299) scores: (0.99998337, 0.99998337)\n",
      "{'abstract': 'Forest policies that devolve forest-use rights to local people '\n",
      "             'have undergone development over the past few years in Laos. As '\n",
      "             'collaboration between local people and forestry officials is '\n",
      "             'seen as indispensable to effective and sustainable local forest '\n",
      "             'management, the objective of this study is to clarify the issues '\n",
      "             'pertinent to the resolution of latent conflict between these two '\n",
      "             'stakeholders. The issues are examined by presenting two case '\n",
      "             'studies in terms of forest management as perceived by local '\n",
      "             'people and forestry officials; the first in a rich forest area '\n",
      "             'and the second in a degraded forest. Issues relating to land and '\n",
      "             'borders and social capital are identified as the most important '\n",
      "             'in the degraded forest area, while social capital is a very '\n",
      "             'important issue in the rich forest area. Our studies show that '\n",
      "             'the problems of land and border issues in the degraded forest '\n",
      "             'area were caused by an inappropriate resettlement policy. This '\n",
      "             'can be interpreted as the mismanagement of social capital, and '\n",
      "             'for effective local forest management it is very important to '\n",
      "             'overcome problems of this nature. The effective use of social '\n",
      "             'capital has so far been overlooked, however, in the '\n",
      "             'establishment of collaborative forest governance at the local '\n",
      "             'level.',\n",
      " 'authors': ('Hyakumura, K', 'Inoue, M'),\n",
      " 'doi': None,\n",
      " 'id': 12288,\n",
      " 'publication_year': 2006,\n",
      " 'title': 'The significance of social capital in local forest management in '\n",
      "          'Laos: Overcoming latent conflict between local people and local '\n",
      "          'forestry officials'}\n",
      "\n",
      "{'abstract': 'Forest policies that devolve forest-use rights to local people '\n",
      "             'have undergone development over the past few years in Laos. As '\n",
      "             'collaboration between local people and forestry officials is '\n",
      "             'seen as indispensable to effective and sustainable local forest '\n",
      "             'management, the objective of this study is to clarify the issues '\n",
      "             'pertinent to the resolution of latent conflict between these two '\n",
      "             'stakeholders. The issues are examined by presenting two case '\n",
      "             'studies in terms of forest management as perceived by local '\n",
      "             'people and forestry officials; the first in a rich forest area '\n",
      "             'and the second in a degraded forest. Issues relating to land and '\n",
      "             'borders and social capital are identified as the most important '\n",
      "             'in the degraded forest area, while social capital is a very '\n",
      "             'important issue in the rich forest area. Our studies show that '\n",
      "             'the problems of land and border issues in the degraded forest '\n",
      "             'area were caused by an inappropriate resettlement policy. This '\n",
      "             'can be interpreted as the mismanagement of social capital, and '\n",
      "             'for effective local forest management it is very important to '\n",
      "             'overcome problems of this nature. The effective use of social '\n",
      "             'capital has so far been overlooked, however, in the '\n",
      "             'establishment of collaborative forest governance at the local '\n",
      "             'level.',\n",
      " 'authors': ('Hyakumura, K', 'Inoue, M'),\n",
      " 'doi': None,\n",
      " 'id': 29299,\n",
      " 'publication_year': 2006,\n",
      " 'title': 'The significance of social capital in local forest management in '\n",
      "          'Laos: Overcoming latent conflict between local people and local '\n",
      "          'forestry officials'}\n"
     ]
    }
   ],
   "source": [
    "for i, (cluster_ids, cluster_scores) in enumerate(clustered_dupes):\n",
    "    if (len(cluster_ids) == 2 and\n",
    "        any(cid < min_new_citation_id for cid in cluster_ids) and\n",
    "        any(cid >= min_new_citation_id for cid in cluster_ids)):\n",
    "        \n",
    "        print('\\n')\n",
    "        print('-' * 52)\n",
    "        print('ids:', cluster_ids, 'scores:', cluster_scores)\n",
    "        pprint(all_records[cluster_ids[0]])\n",
    "        print()\n",
    "        pprint(all_records[cluster_ids[1]])\n",
    "\n",
    "    if i == 0:\n",
    "        break"
   ]
  },
  {
   "cell_type": "code",
   "execution_count": 31,
   "metadata": {
    "collapsed": false
   },
   "outputs": [
    {
     "data": {
      "text/plain": [
       "[{'id': 1, 'status': 'excluded'},\n",
       " {'id': 2, 'status': 'excluded'},\n",
       " {'id': 3, 'status': 'excluded'},\n",
       " {'id': 4, 'status': 'excluded'},\n",
       " {'id': 5, 'status': 'excluded'},\n",
       " {'id': 6, 'status': 'excluded'},\n",
       " {'id': 7, 'status': 'excluded'},\n",
       " {'id': 8, 'status': 'excluded'},\n",
       " {'id': 9, 'status': 'excluded'},\n",
       " {'id': 10, 'status': 'excluded'}]"
      ]
     },
     "execution_count": 31,
     "metadata": {},
     "output_type": "execute_result"
    }
   ],
   "source": [
    "known_statuses = [{'id': record['id'],\n",
    "                   'status': 'included' if record['id'] in matched_cids else 'excluded'}\n",
    "                  for record in records]\n",
    "known_statuses[:10]"
   ]
  },
  {
   "cell_type": "code",
   "execution_count": 32,
   "metadata": {
    "collapsed": true
   },
   "outputs": [],
   "source": [
    "filepath = '../colandr_data/citations/known_statuses.json'\n",
    "with io.open(filepath, mode='wt') as f:\n",
    "    json.dump(known_statuses, f, ensure_ascii=False, indent=2)"
   ]
  },
  {
   "cell_type": "code",
   "execution_count": null,
   "metadata": {
    "collapsed": true
   },
   "outputs": [],
   "source": []
  }
 ],
 "metadata": {
  "kernelspec": {
   "display_name": "Python 3",
   "language": "python",
   "name": "python3"
  },
  "language_info": {
   "codemirror_mode": {
    "name": "ipython",
    "version": 3
   },
   "file_extension": ".py",
   "mimetype": "text/x-python",
   "name": "python",
   "nbconvert_exporter": "python",
   "pygments_lexer": "ipython3",
   "version": "3.5.2"
  }
 },
 "nbformat": 4,
 "nbformat_minor": 0
}
