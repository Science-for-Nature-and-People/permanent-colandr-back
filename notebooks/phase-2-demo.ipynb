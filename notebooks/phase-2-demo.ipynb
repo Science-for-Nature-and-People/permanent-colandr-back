{
 "cells": [
  {
   "cell_type": "code",
   "execution_count": 1,
   "metadata": {
    "collapsed": false
   },
   "outputs": [],
   "source": [
    "from __future__ import absolute_import, division, print_function, unicode_literals\n",
    "\n",
    "import logging\n",
    "\n",
    "import cipy\n",
    "\n",
    "logger = logging.getLogger()\n",
    "handler = logger.handlers[0]\n",
    "handler.setLevel(logging.CRITICAL)\n",
    "\n",
    "conn_creds = cipy.db.get_conn_creds('DATABASE_URL')\n",
    "pgdb = cipy.db.PostgresDB(conn_creds)"
   ]
  },
  {
   "cell_type": "markdown",
   "metadata": {},
   "source": [
    "---\n",
    "\n",
    "## User Management\n",
    "\n",
    "- create new user accounts and store passwords in a secure format\n",
    "- delete existing user accounts (along with any owned reviews)\n",
    "- user login"
   ]
  },
  {
   "cell_type": "code",
   "execution_count": 4,
   "metadata": {
    "collapsed": false,
    "scrolled": false
   },
   "outputs": [
    {
     "name": "stdout",
     "output_type": "stream",
     "text": [
      "Enter user name: Sam C\n",
      "Enter user email: samc@gmail.com\n",
      "Confirm user email: samc@gmail.com\n",
      "Enter password: ········\n",
      "Confirm password: ········\n"
     ]
    },
    {
     "name": "stderr",
     "output_type": "stream",
     "text": [
      "2016-07-12 22:27:25,784 - create_user - INFO - created user id=3: {'owned_review_ids': None, 'name': 'Sam C', 'email': 'samc@gmail.com', 'created_ts': '2016-07-13T01:48:11.754032Z', 'review_ids': None}\n"
     ]
    }
   ],
   "source": [
    "%run ../scripts/create_user.py --test"
   ]
  },
  {
   "cell_type": "code",
   "execution_count": 5,
   "metadata": {
    "collapsed": false
   },
   "outputs": [
    {
     "data": {
      "text/plain": [
       "[{'created_ts': datetime.datetime(2016, 7, 7, 17, 56, 7),\n",
       "  'email': 'burtdewilde@gmail.com',\n",
       "  'name': 'Burton DeWilde',\n",
       "  'owned_review_ids': [1],\n",
       "  'password': '$2a$06$5qfLF4y/sfXkc8XhZ360i.48V5GaQfxF5Uy8zVJcO6dLmUqX9JGie',\n",
       "  'review_ids': [1],\n",
       "  'user_id': 1},\n",
       " {'created_ts': datetime.datetime(2016, 7, 13, 1, 48, 12),\n",
       "  'email': 'samc@gmail.com',\n",
       "  'name': 'Sam C',\n",
       "  'owned_review_ids': None,\n",
       "  'password': '$2a$06$MHhP.XjRGfSO7eiDiNLFieJEGoOXxQruc6.Sd3nb.vImvoAuO09x.',\n",
       "  'review_ids': None,\n",
       "  'user_id': 3}]"
      ]
     },
     "execution_count": 5,
     "metadata": {},
     "output_type": "execute_result"
    }
   ],
   "source": [
    "list(pgdb.run_query('SELECT * from users'))"
   ]
  },
  {
   "cell_type": "code",
   "execution_count": 2,
   "metadata": {
    "collapsed": false
   },
   "outputs": [
    {
     "name": "stdout",
     "output_type": "stream",
     "text": [
      "Enter email: burtdewilde@gmail.com\n",
      "Enter password: ········\n"
     ]
    },
    {
     "name": "stderr",
     "output_type": "stream",
     "text": [
      "2016-07-23 10:18:00,069 - login_user - INFO - Welcome, Burton DeWilde id=1\n"
     ]
    }
   ],
   "source": [
    "%run ../scripts/login_user.py"
   ]
  },
  {
   "cell_type": "code",
   "execution_count": 2,
   "metadata": {
    "collapsed": false
   },
   "outputs": [
    {
     "name": "stderr",
     "output_type": "stream",
     "text": [
      "2016-07-12 21:39:29,460 - delete_user - INFO - deleted user id=1 from reviews (TEST)\n",
      "2016-07-12 21:39:29,460 - delete_user - INFO - deleted user id=1 (TEST)\n"
     ]
    }
   ],
   "source": [
    "%run ../scripts/delete_user.py --user_id=3 --test"
   ]
  },
  {
   "cell_type": "markdown",
   "metadata": {},
   "source": [
    "---\n",
    "\n",
    "## Review Management\n",
    "\n",
    "- create new reviews (with user as owner)\n",
    "- delete existing owned reviews\n",
    "- invite/uninvite other users to collaborate on existing reviews\n",
    "- assign other user as owned review's new owner"
   ]
  },
  {
   "cell_type": "code",
   "execution_count": 3,
   "metadata": {
    "collapsed": false
   },
   "outputs": [
    {
     "name": "stdout",
     "output_type": "stream",
     "text": [
      "Review name: My Great Review\n",
      "Review description (optional):\n",
      "Live long and prosper.\n"
     ]
    },
    {
     "name": "stderr",
     "output_type": "stream",
     "text": [
      "2016-07-24 16:51:58,634 - create_review - INFO - created review (TEST): {'name': 'My Great Review', 'settings': {'num_citation_screening_reviewers': 2, 'required_fulltext_screener_id': None, 'num_fulltext_screening_reviewers': 2, 'required_citation_screener_id': None}, 'user_ids': [1], 'owner_user_id': 1, 'created_ts': '2016-07-24T20:50:39.039925Z', 'description': 'Live long and prosper.'}\n"
     ]
    }
   ],
   "source": [
    "%run ../scripts/create_review.py --user_id=1 --test"
   ]
  },
  {
   "cell_type": "code",
   "execution_count": 4,
   "metadata": {
    "collapsed": false
   },
   "outputs": [
    {
     "data": {
      "text/plain": [
       "{'created_ts': datetime.datetime(2016, 7, 13, 1, 40, 27),\n",
       " 'description': 'International policy has sought to emphasize and strengthen the link between the conservation of natural ecosystems and human development. Furthermore, international conservation organizations have broadened their objectives beyond nature-based goals to recognize the contribution of conservation interventions in sustaining ecosystem services upon which human populations are dependent. While many indices have been developed to measure various human well-being domains, the strength of evidence to support the effects, both positive and negative, of conservation interventions on human well-being, is still unclear.\\\\n\\\\nThis protocol describes the methodology for examining the research question: What are the impacts of nature conservation interventions on different domains of human well-being in developing countries? Using systematic mapping, this study will scope and identify studies that measure the impacts of nature conservation interventions on human well-being at local to regional scales. The primary objective of this study is to synthesize the state and distribution of the existing evidence base linking conservation and human well-being. In addition, a theory of change approach will be used to identify and characterize the causal linkages between conservation and human well-being, with attention on those studies that examine the role of ecosystem services. Key trends among the resulting studies will be synthesized and the range of studies organized and presented in a graphical matrix illustrating the relationships between types of interventions and types of outcomes. Results of the study are intended to help conservation and development practitioners and the academic community to improve research studies and conservation practices in developing countries in order to achieve both conservation and human well-being outcomes.',\n",
       " 'name': 'Conservation International demo',\n",
       " 'owner_user_id': 1,\n",
       " 'review_id': 1,\n",
       " 'settings': {'num_citation_screening_reviewers': 2,\n",
       "  'num_fulltext_screening_reviewers': 2},\n",
       " 'user_ids': [1]}"
      ]
     },
     "execution_count": 4,
     "metadata": {},
     "output_type": "execute_result"
    }
   ],
   "source": [
    "list(pgdb.run_query(\"SELECT * FROM reviews where review_id=1\"))[0]"
   ]
  },
  {
   "cell_type": "code",
   "execution_count": 3,
   "metadata": {
    "collapsed": false
   },
   "outputs": [
    {
     "name": "stderr",
     "output_type": "stream",
     "text": [
      "2016-07-12 21:59:45,881 - delete_review - INFO - deleted review id=1 (TEST)\n"
     ]
    }
   ],
   "source": [
    "%run ../scripts/delete_review.py --user_id=1 --review_id=1 --test"
   ]
  },
  {
   "cell_type": "code",
   "execution_count": 37,
   "metadata": {
    "collapsed": false
   },
   "outputs": [
    {
     "name": "stderr",
     "output_type": "stream",
     "text": [
      "2016-07-12 22:40:52,400 - manage_collaborators - INFO - user id=3 added as collaborator to review id=1 \n"
     ]
    }
   ],
   "source": [
    "%run ../scripts/manage_collaborators.py --owner_user_id=1 --review_id=1 --add_user_emails \"samc@gmail.com\""
   ]
  },
  {
   "cell_type": "code",
   "execution_count": 38,
   "metadata": {
    "collapsed": false
   },
   "outputs": [
    {
     "name": "stdout",
     "output_type": "stream",
     "text": [
      "review: [{'review_id': 1, 'user_ids': [1, 3]}]\n",
      "user: [{'user_id': 3, 'review_ids': [1]}]\n"
     ]
    }
   ],
   "source": [
    "print('review:', list(pgdb.run_query('SELECT review_id, user_ids FROM reviews WHERE review_id=1')))\n",
    "print('user:', list(pgdb.run_query('SELECT user_id, review_ids FROM users WHERE user_id=3')))"
   ]
  },
  {
   "cell_type": "code",
   "execution_count": 39,
   "metadata": {
    "collapsed": false
   },
   "outputs": [
    {
     "name": "stderr",
     "output_type": "stream",
     "text": [
      "2016-07-12 22:40:55,110 - manage_collaborators - INFO - user id=3 removed as collaborator to review id=1 \n"
     ]
    }
   ],
   "source": [
    "%run ../scripts/manage_collaborators.py --owner_user_id=1 --review_id=1 --remove_user_emails \"samc@gmail.com\""
   ]
  },
  {
   "cell_type": "code",
   "execution_count": 40,
   "metadata": {
    "collapsed": false
   },
   "outputs": [
    {
     "name": "stdout",
     "output_type": "stream",
     "text": [
      "review: [{'review_id': 1, 'user_ids': [1]}]\n",
      "user: [{'user_id': 3, 'review_ids': []}]\n"
     ]
    }
   ],
   "source": [
    "print('review:', list(pgdb.run_query('SELECT review_id, user_ids FROM reviews WHERE review_id=1')))\n",
    "print('user:', list(pgdb.run_query('SELECT user_id, review_ids FROM users WHERE user_id=3')))"
   ]
  },
  {
   "cell_type": "markdown",
   "metadata": {},
   "source": [
    "---\n",
    "\n",
    "## Review Planning\n",
    "\n",
    "- facilitate systematic review planning while also gathering structured data that informs and is informed by the citation pre-screening process; user entry of the following fields:\n",
    "    - objective\n",
    "    - research questions, ranked\n",
    "    - PICO statements\n",
    "    - grouped keyterms (with automatic boolean search query generation)\n",
    "    - selection criteria, with shorthand labels\n",
    "- automatically generate boolean search queries from given keyterms\n",
    "- after enough citations have been screened, suggest good/bad keyterms for search query"
   ]
  },
  {
   "cell_type": "code",
   "execution_count": 3,
   "metadata": {
    "collapsed": false,
    "scrolled": true
   },
   "outputs": [
    {
     "name": "stdout",
     "output_type": "stream",
     "text": [
      "\n",
      "PROJECT PLAN\n",
      "\n",
      "Objective:\n",
      "To assess and characterize the current state and distribution of the existing evidence base around the causal linkages between both positive and negative effects of nature conservation and human well-being.\n",
      "\n",
      "Research Questions:\n",
      " 0 What are the impacts of nature conservation interventions on different domains of human well-being in developing countries?\n",
      " 1 What is the current state and distribution of evidence?\n",
      " 2 What types of impacts from conservation interventions on human well-being are measured?\n",
      " 3 What types of ecosystem services are explicitly associated with the impacts of conservation interventions on human well-being?\n",
      " 4 What populations are affected by conservation and/ or focus of studies?\n",
      " 5 How does the evidence base align with major priorities and investments of implementing agencies?\n",
      "\n",
      "PICO:\n",
      "- Population    : Human populations, including individuals, households, communities or nation states in non-OECD countries\n",
      "- Intervention  : Adoption or implementation of nature conservation interventions\n",
      "- Comparator    : No use of nature conservation interventions either between sites or groups, or over time series (before/after)\n",
      "- Outcome       : Positive or negative effects on the multi-dimensional well-being status of human populations\n",
      "\n",
      "Keyterms:\n",
      "- Group: intervention qualifiers\n",
      "    - marine (synonyms: ['freshwater'])\n",
      "    - coastal \n",
      "    - forest (synonyms: ['forests', 'forestry'])\n",
      "    - ecosystem (synonyms: ['ecosystems'])\n",
      "    - species \n",
      "    - habitat (synonyms: ['habitats'])\n",
      "    - biodiversity \n",
      "    - sustainable (synonyms: ['sustainability'])\n",
      "    - ecology (synonyms: ['ecological'])\n",
      "    - integrated \n",
      "    - landscape \n",
      "    - seascape \n",
      "    - coral reef (synonyms: ['coral reefs'])\n",
      "    - natural resources (synonyms: ['natural resource'])\n",
      "- Group: outcome\n",
      "    - wellbeing (synonyms: ['well-being', 'well being'])\n",
      "    - ecosystem service (synonyms: ['ecosystem services'])\n",
      "    - nutrition \n",
      "    - skill (synonyms: ['skills'])\n",
      "    - empower (synonyms: ['empowering'])\n",
      "    - clean water (synonyms: ['livelihood'])\n",
      "    - livelihoods (synonyms: ['food security'])\n",
      "    - resilience (synonyms: ['vulnerability'])\n",
      "    - capital (synonyms: ['social capital'])\n",
      "    - attitude (synonyms: ['attitudes'])\n",
      "    - perception (synonyms: ['perceptions'])\n",
      "    - health (synonyms: ['human health'])\n",
      "    - human capital (synonyms: ['knowledge'])\n",
      "    - traditional knowledge \n",
      "- Group: outcome qualifiers\n",
      "    - human (synonyms: ['humans', 'humanity'])\n",
      "    - people \n",
      "    - person (synonyms: ['persons'])\n",
      "    - community (synonyms: ['communities'])\n",
      "    - household (synonyms: ['households'])\n",
      "    - fishermen (synonyms: ['fisherman'])\n",
      "    - collaborative \n",
      "- Group: intervention\n",
      "    - conservation \n",
      "    - conserve \n",
      "    - conservancy \n",
      "    - protect (synonyms: ['protects', 'protection'])\n",
      "    - management \n",
      "    - awareness \n",
      "    - law (synonyms: ['laws'])\n",
      "    - policy (synonyms: ['policy-making'])\n",
      "    - reserve \n",
      "    - govern (synonyms: ['governs', 'government'])\n",
      "    - capacity-build (synonyms: ['capacity-building', 'capacity building'])\n",
      "    - train (synonyms: ['tarins', 'training'])\n",
      "    - PES \n",
      "    - ecotourism (synonyms: ['eco-tourism'])\n",
      "    - sustainable use \n",
      "\n",
      "Selection Criteria:\n",
      "- location: individuals, households, or communities must be in non-OECD countries\n",
      "- undefined pop.: studies must include discrete populations and not undefined groups or populations\n",
      "- intervention type: study must document or measure people's specific and discrete external interventions, not daily use\n",
      "- in-situ: study must focus on establishment, adoption, or implementation of regulation, protection, or management of natural ecosystems through in-situ activities\n",
      "- outcome: studies must measure or describe human well-being outcomes, and can't only focus on biophysical outcomes of conservation\n",
      "\n",
      "\n",
      "UPDATES:\n",
      "Objective:\n",
      "\n",
      "\n",
      "Research Questions\n",
      "\n",
      "Question:\n",
      "\n",
      "\n",
      "PICO\n",
      "Population:\n",
      "\n",
      "Intervention:\n",
      "\n",
      "Comparator:\n",
      "\n",
      "Outcome:\n",
      "\n",
      "\n",
      "Keyterms\n",
      "\n",
      "Group name: \n",
      "\n",
      "Selection Criteria\n",
      "\n",
      "Criterion label: \n"
     ]
    },
    {
     "name": "stderr",
     "output_type": "stream",
     "text": [
      "2016-07-23 11:10:41,502 - plan_review - INFO - valid record: review_id=1 with {'pico', 'selection_criteria', 'objective', 'research_questions', 'keyterms'}, (TEST)\n"
     ]
    },
    {
     "name": "stdout",
     "output_type": "stream",
     "text": [
      "\n",
      "PROJECT PLAN\n",
      "\n",
      "Objective:\n",
      "To assess and characterize the current state and distribution of the existing evidence base around the causal linkages between both positive and negative effects of nature conservation and human well-being.\n",
      "\n",
      "Research Questions:\n",
      " 0 What are the impacts of nature conservation interventions on different domains of human well-being in developing countries?\n",
      " 1 What is the current state and distribution of evidence?\n",
      " 2 What types of impacts from conservation interventions on human well-being are measured?\n",
      " 3 What types of ecosystem services are explicitly associated with the impacts of conservation interventions on human well-being?\n",
      " 4 What populations are affected by conservation and/ or focus of studies?\n",
      " 5 How does the evidence base align with major priorities and investments of implementing agencies?\n",
      "\n",
      "PICO:\n",
      "- Population    : Human populations, including individuals, households, communities or nation states in non-OECD countries\n",
      "- Intervention  : Adoption or implementation of nature conservation interventions\n",
      "- Comparator    : No use of nature conservation interventions either between sites or groups, or over time series (before/after)\n",
      "- Outcome       : Positive or negative effects on the multi-dimensional well-being status of human populations\n",
      "\n",
      "Keyterms:\n",
      "- Group: intervention qualifiers\n",
      "    - marine (synonyms: ['freshwater'])\n",
      "    - coastal \n",
      "    - forest (synonyms: ['forests', 'forestry'])\n",
      "    - ecosystem (synonyms: ['ecosystems'])\n",
      "    - species \n",
      "    - habitat (synonyms: ['habitats'])\n",
      "    - biodiversity \n",
      "    - sustainable (synonyms: ['sustainability'])\n",
      "    - ecology (synonyms: ['ecological'])\n",
      "    - integrated \n",
      "    - landscape \n",
      "    - seascape \n",
      "    - coral reef (synonyms: ['coral reefs'])\n",
      "    - natural resources (synonyms: ['natural resource'])\n",
      "- Group: outcome\n",
      "    - wellbeing (synonyms: ['well-being', 'well being'])\n",
      "    - ecosystem service (synonyms: ['ecosystem services'])\n",
      "    - nutrition \n",
      "    - skill (synonyms: ['skills'])\n",
      "    - empower (synonyms: ['empowering'])\n",
      "    - clean water (synonyms: ['livelihood'])\n",
      "    - livelihoods (synonyms: ['food security'])\n",
      "    - resilience (synonyms: ['vulnerability'])\n",
      "    - capital (synonyms: ['social capital'])\n",
      "    - attitude (synonyms: ['attitudes'])\n",
      "    - perception (synonyms: ['perceptions'])\n",
      "    - health (synonyms: ['human health'])\n",
      "    - human capital (synonyms: ['knowledge'])\n",
      "    - traditional knowledge \n",
      "- Group: outcome qualifiers\n",
      "    - human (synonyms: ['humans', 'humanity'])\n",
      "    - people \n",
      "    - person (synonyms: ['persons'])\n",
      "    - community (synonyms: ['communities'])\n",
      "    - household (synonyms: ['households'])\n",
      "    - fishermen (synonyms: ['fisherman'])\n",
      "    - collaborative \n",
      "- Group: intervention\n",
      "    - conservation \n",
      "    - conserve \n",
      "    - conservancy \n",
      "    - protect (synonyms: ['protects', 'protection'])\n",
      "    - management \n",
      "    - awareness \n",
      "    - law (synonyms: ['laws'])\n",
      "    - policy (synonyms: ['policy-making'])\n",
      "    - reserve \n",
      "    - govern (synonyms: ['governs', 'government'])\n",
      "    - capacity-build (synonyms: ['capacity-building', 'capacity building'])\n",
      "    - train (synonyms: ['tarins', 'training'])\n",
      "    - PES \n",
      "    - ecotourism (synonyms: ['eco-tourism'])\n",
      "    - sustainable use \n",
      "\n",
      "Selection Criteria:\n",
      "- location: individuals, households, or communities must be in non-OECD countries\n",
      "- undefined pop.: studies must include discrete populations and not undefined groups or populations\n",
      "- intervention type: study must document or measure people's specific and discrete external interventions, not daily use\n",
      "- in-situ: study must focus on establishment, adoption, or implementation of regulation, protection, or management of natural ecosystems through in-situ activities\n",
      "- outcome: studies must measure or describe human well-being outcomes, and can't only focus on biophysical outcomes of conservation\n",
      "\n"
     ]
    }
   ],
   "source": [
    "%run ../scripts/plan_review.py --user_id=1 --review_id=1 --test"
   ]
  },
  {
   "cell_type": "code",
   "execution_count": 5,
   "metadata": {
    "collapsed": false
   },
   "outputs": [
    {
     "name": "stdout",
     "output_type": "stream",
     "text": [
      "((\"wellbeing\" OR \"well-being\" OR \"well being\") OR (\"ecosystem service\" OR \"ecosystem services\") OR \"nutrition\" OR (\"skill\" OR \"skills\") OR (\"empower\" OR \"empowering\") OR (\"clean water\" OR \"livelihood\") OR (\"livelihoods\" OR \"food security\") OR (\"resilience\" OR \"vulnerability\") OR (\"capital\" OR \"social capital\") OR (\"attitude\" OR \"attitudes\") OR (\"perception\" OR \"perceptions\") OR (\"health\" OR \"human health\") OR (\"human capital\" OR \"knowledge\") OR \"traditional knowledge\")\n",
      "AND\n",
      "((\"marine\" OR \"freshwater\") OR \"coastal\" OR (\"forest\" OR \"forests\" OR \"forestry\") OR (\"ecosystem\" OR \"ecosystems\") OR \"species\" OR (\"habitat\" OR \"habitats\") OR \"biodiversity\" OR (\"sustainable\" OR \"sustainability\") OR (\"ecology\" OR \"ecological\") OR \"integrated\" OR \"landscape\" OR \"seascape\" OR (\"coral reef\" OR \"coral reefs\") OR (\"natural resources\" OR \"natural resource\"))\n",
      "AND\n",
      "((\"human\" OR \"humans\" OR \"humanity\") OR \"people\" OR (\"person\" OR \"persons\") OR (\"community\" OR \"communities\") OR (\"household\" OR \"households\") OR (\"fishermen\" OR \"fisherman\") OR \"collaborative\")\n",
      "AND\n",
      "(\"conservation\" OR \"conserve\" OR \"conservancy\" OR (\"protect\" OR \"protects\" OR \"protection\") OR \"management\" OR \"awareness\" OR (\"law\" OR \"laws\") OR (\"policy\" OR \"policy-making\") OR \"reserve\" OR (\"govern\" OR \"governs\" OR \"government\") OR (\"capacity-build\" OR \"capacity-building\" OR \"capacity building\") OR (\"train\" OR \"tarins\" OR \"training\") OR \"PES\" OR (\"ecotourism\" OR \"eco-tourism\") OR \"sustainable use\")\n"
     ]
    }
   ],
   "source": [
    "query = \"SELECT keyterms FROM review_plans WHERE review_id = 1\"\n",
    "keyterms = list(pgdb.run_query(query))[0]['keyterms']\n",
    "print(cipy.utils.get_boolean_search_query(keyterms))"
   ]
  },
  {
   "cell_type": "markdown",
   "metadata": {
    "collapsed": true
   },
   "source": [
    "---\n",
    "\n",
    "## Citation Ingestion and De-duplication\n",
    "\n",
    "- load citations from RIS or BibTex files then parse, standardize, sanitize, validate, and store the data\n",
    "- identify duplicate citations using a sophisticated model and assign the most complete record in a set of duplicates as the \"canonical\" record"
   ]
  },
  {
   "cell_type": "code",
   "execution_count": 13,
   "metadata": {
    "collapsed": false
   },
   "outputs": [
    {
     "name": "stderr",
     "output_type": "stream",
     "text": [
      "2016-07-11 22:24:20,813 - ingest_citations - INFO - parsing records in ../data/raw/citation_files/phase_2_demo_citations.ris\n",
      "2016-07-11 22:24:20,814 - ingest_citations - INFO - valid record: Ecological protection and well-being, 2013\n",
      "2016-07-11 22:24:20,815 - ingest_citations - INFO - valid record: The economic value of forest ecosystems, 2001\n",
      "2016-07-11 22:24:20,816 - ingest_citations - INFO - valid record: Contribution of tourism development to protected area management: Local stakeholder perspectives, 2009\n",
      "2016-07-11 22:24:20,817 - ingest_citations - INFO - 3 valid records inserted into appname db (TEST)\n"
     ]
    }
   ],
   "source": [
    "%run ../scripts/ingest_citations.py --citations ../data/raw/citation_files/phase_2_demo_citations.ris --user_id=1 --review_id=1 --test"
   ]
  },
  {
   "cell_type": "code",
   "execution_count": 17,
   "metadata": {
    "collapsed": false
   },
   "outputs": [
    {
     "name": "stdout",
     "output_type": "stream",
     "text": [
      "total # citations = 28709\n"
     ]
    }
   ],
   "source": [
    "num_citations = list(pgdb.run_query('SELECT COUNT(1) FROM citations WHERE review_id = 1'))[0]['count']\n",
    "print('total # citations =', num_citations)"
   ]
  },
  {
   "cell_type": "code",
   "execution_count": 7,
   "metadata": {
    "collapsed": false
   },
   "outputs": [
    {
     "name": "stderr",
     "output_type": "stream",
     "text": [
      "2016-07-11 22:19:58,881 - dedupe_records - INFO - reading dedupe settings from ../models/dedupe_citations_settings\n",
      "2016-07-11 22:20:19,236 - dedupe_records - INFO - duplicate threshold = 0.827943\n",
      "2016-07-11 22:20:19,879 - dedupe_records - INFO - found 361 duplicate clusters\n",
      "2016-07-11 22:20:20,020 - dedupe_records - INFO - inserted 726 records into duplicates db (TEST)\n"
     ]
    }
   ],
   "source": [
    "%run ../scripts/dedupe_records.py --review_id=1 --threshold=auto --settings=../models/dedupe_citations_settings --test"
   ]
  },
  {
   "cell_type": "code",
   "execution_count": 2,
   "metadata": {
    "collapsed": false,
    "scrolled": false
   },
   "outputs": [
    {
     "name": "stdout",
     "output_type": "stream",
     "text": [
      "citations [15, 14] are duplicates with avg. duplicate score = 0.999982\n",
      "\n",
      "TITLE:    Managing the Brisbane River and Moreton Bay: an integrated research/management program to reduce impacts on an Australian estuary\n",
      "YEAR:     2001\n",
      "AUTHORS:  Abal, E G; Dennison, W C; Greenfield, P F\n",
      "ABSTRACT: The Brisbane River and Moreton Bay Study, an interdisciplinary study of Moreton Bay and its major tributaries, was initiated to address water quality issues which link sewage and diffuse loading with environmental degradation. Runoff and deposition of fine-grained sediments into Moreton Bay, followed by resuspension, have been linked with increased turbidity and significant loss of seagrass habitat. Sewage-derived nutrient enrichment, particularly nitrogen (N), has been linked to algal blooms by sewage plume maps. Blooms of a marine cyanobacterium, Lyngbya majuscula, in Moreton Bay have resulted in significant impacts on human health (e.g., contact dermatitis) and ecological health (e.g., seagrass loss), and the availability of dissolved iron from acid sulfate soil runoff has been hypothesised. The impacts of catchment activities resulting in runoff of sediments, nutrients and dissolved iron on the health of the Moreton Bay waterways are addressed. The Study, established by 6 local councils in association with two state departments in 1994, forms a regional component of a national and state program to achieve ecologically sustainable use of the waterways by protecting and enhancing their health, while maintaining economic and social development. The Study framework illustrates a unique integrated approach to water quality management whereby scientific research, community participation and the strategy development were done in parallel with each other. This collaborative effort resulted in a water quality management strategy which focuses on the integration of socioeconomic and ecological values of the waterways. This work has led to significant cost savings in infrastructure by providing a clear focus on initiatives towards achieving healthy waterways. The Study's Stage 2 initiatives form the basis for this paper.\n",
      "KEYWORDS: Brisbane River; Moreton Bay; catchment impacts; estuary management; healthy waterways; integrated management; participation; stakeholder; water quality model\n",
      "\n",
      "TITLE:    Managing the Brisbane River and Moreton Bay: An integrated research/management program to reduce impacts on an Australian estuary\n",
      "YEAR:     2001\n",
      "AUTHORS:  Abal, E G; Dennison, W C; Greenfield, P F\n",
      "ABSTRACT: The Brisbane River and Moreton Bay Study, an interdisciplinary study of Moreton Bay and its major tributaries, was initiated to address water quality issues which link sewage and diffuse loading with environmental degradation. Runoff and deposition of fine-grained sediments into Moreton Bay, followed by resuspension, have been linked with increased turbidity and significant loss of seagrass habitat. Sewage-derived nutrient enrichment, particularly nitrogen (N), has been linked to algal blooms by sewage plume maps. Blooms of a marine cyanobacterium, Lyngbya majuscula, in Moreton Bay have resulted in significant impacts on human health (e.g., contact dermatitis) and ecological health (e.g., seagrass loss), and the availability of dissolved iron from acid sulfate soil runoff has been hypothesised. The impacts of catchment activities resulting in runoff of sediments, nutrients and dissolved iron on the health of the Moreton Bay waterway are addressed. The Study, established by 6 local councils in association with two state departments in 1994, forms a regional component of a national and state program to achieve ecologically sustainable use of the waterways by protecting and enhancing their health, while maintaining economic and social development. The Study framework illustrates a unique integrated approach to water quality management whereby scientific research, community participation and the strategy development were done in parallel with each other. This collaborative effort resulted in a water quality management strategy which focuses on the integration of socioeconomic and ecological values of the waterways. This work has led to significant cost savings in infrastructure by providing a clear focus on initiatives towards achieving healthy waterways. The Study's Stage 2 initiatives form the basis for this paper.\n",
      "KEYWORDS: Brisbane River; Catchment impacts; Estuary management; Healthy waterways; Integrated management; Moreton Bay; Stakeholder participation; Water quality model\n"
     ]
    }
   ],
   "source": [
    "query = \"\"\"\n",
    "SELECT canonical_citation_id, array_agg(citation_id) AS citation_ids, AVG(duplicate_score) AS avg_score\n",
    "FROM duplicates\n",
    "GROUP BY 1 HAVING AVG(duplicate_score) > 0.9 ORDER BY 1 ASC\n",
    "LIMIT 1\n",
    "\"\"\"\n",
    "dupes = list(pgdb.run_query(query))[0]\n",
    "print('citations {} are duplicates with avg. duplicate score = {}'.format(\n",
    "        dupes['citation_ids'], round(dupes['avg_score'], 6)))\n",
    "\n",
    "query = \"\"\"\n",
    "SELECT citation_id, authors, title, abstract, publication_year, keywords\n",
    "FROM citations\n",
    "WHERE citation_id = ANY(%(citation_ids)s)\n",
    "\"\"\"\n",
    "for record in pgdb.run_query(query, {'citation_ids': dupes['citation_ids']}):\n",
    "    cipy.utils.present_citation(record)"
   ]
  },
  {
   "cell_type": "markdown",
   "metadata": {},
   "source": [
    "---\n",
    "\n",
    "## Initial Ranking of Citations\n",
    "\n",
    "- sample citations ranked by overlap with keyterms; user pre-screens citations until 10 have been included and 10 have been excluded\n",
    "- based on included/excluded citations, rank citations by ratio of relevant to irrelevant keyterms and present those most likely to be relevant to the user for pre-screening"
   ]
  },
  {
   "cell_type": "code",
   "execution_count": 4,
   "metadata": {
    "collapsed": false,
    "scrolled": true
   },
   "outputs": [
    {
     "name": "stderr",
     "output_type": "stream",
     "text": [
      "2016-07-27 16:29:44,728 - screen_citations - INFO - 0 citations included, 0 citations excluded\n"
     ]
    },
    {
     "name": "stdout",
     "output_type": "stream",
     "text": [
      "\n",
      "TITLE:    Building sustainability through collaborative planning\n",
      "YEAR:     2012.0\n",
      "AUTHORS:  Ghomashchi, V\n",
      "ABSTRACT: Collaborative planning can influence efforts to build social capital and make consensus towards sustainability and sustainable development. The present study attempts to demonstrate the crucial role of social capital and capacity building as 'tools' and 'targets' of the sustainability journey. This paper briefly reviews the sustainability literature related to planning. Considering the collaborative approach to planning and the associated concepts, the present study aims to make a link between collaborative planning and sustainability. Finally, this paper suggests two conceptual models to explore and explain the interaction and implications of social capital and sustainability. The first model considers sustainability through an integrated dynamic system and explores how collaborative planning can generate sustainability through capacity building. The second model will present a framework of thinking and acting for collaborative sustainability. © 2012 WIT Press.\n",
      "KEYWORDS: Capacity building; Collaborative planning; Social capital; Sustainability; Sustainable development\n"
     ]
    },
    {
     "name": "stderr",
     "output_type": "stream",
     "text": [
      "2016-07-27 16:29:53,621 - screen_citations - INFO - 0/10 included, 1/10 excluded\n"
     ]
    },
    {
     "name": "stdout",
     "output_type": "stream",
     "text": [
      "\n",
      "INCLUDE (y/n/u)? n\n",
      "LABELS (separate labels with commas)? \n",
      "\n",
      "TITLE:    Challenges for biodiversity research in Europe\n",
      "YEAR:     2011.0\n",
      "AUTHORS:  Aguilar, A; Bauhus, J; Courchamp, F; De Meester, L; Gandini, G; Godfray, C; Hector, A; Keustermans, L; Koch, M; Le Maho, Y; Manuel, M; Niemelä, J; Owens, I; Pawlowski, J; Quéinnec, E; Smets, E; Sutherland, W; Van Tienderen, P; Werger, M; Wörheide, G\n",
      "ABSTRACT: In 2010, the international year of biodiversity, new policies for preserving biodiversity in Europe and worldwide will be developed as targets set by older policies, such as to halt biodiversity loss in the EU by 2010, were not met. This paper aims at sharing the expertise LERU's members harbour to set the right priorities for new biodiversity policies. Three key observations point to the urgency of an effective biodiversity conservation policy: 1) the alarming global decline in biodiversity; 2) the associated diminishing return in ecosystem services that are key to human well-being; 3) the dangerous mix of climate change and biodiversity loss. There are important gaps in our knowledge of the regulating mechanisms of biodiversity and the relationship of biodiversity to ecosystem services. We therefore list 18 research challenges, which we consider to be the 'need-to-know' building blocks for a future research agenda. Filling the knowledge gaps is crucial to develop an efficient and sustainable policy towards biodiversity conservation. The research challenges are broadly grouped in five areas. A first set focuses on different challenges posed by documenting and monitoring biodiversity. A second group describes six research challenges on drivers of biodiversity that need more attention. These challenges relate to 1) insight into the processes of community assembly; 2) large and complex ecosystems; 3) landscape metapopulation structure; 4) ecoevolutionary dynamics; 5) species networks and identifying its key players; and 6) issues associated with complex dynamics and alternative stable states. The challenges of linking biodiversity, functional diversity, and ecosystem functioning and services are set out in a third group of research challenges, which also highlights the need to analyse ecosystem services at landscape level and to investigate the economics of biodiversity and ecosystem services. A fourth set of research challenges focuses on understanding how species respond to anthropogenic impact (global change), and a fifth group emphasizes the need to understand how species respond to nature conservation measures. Besides describing important research challenges, LERU also provides recommendations for effective biodiversity conservation strategies, which are not only aimed at policy makers, but also at researchers, other stakeholders and the general public: It is necessary to invest in a European infrastructure for biodiversity data and research. LERU emphasizes the importance for Europe to invest in adequate infrastructures which support biodiversity research to increase our knowledge on biodiversity and its impact on the functioning of ecosystems, and hence help decision makers in devising cost-effective management plans to reach the stated goals. There is a need for a powerful research agenda enhancing fundamental knowledge on biodiversity drivers and threats. This vigorous biodiversity-targeted research programme should be initiated at the European level, but also with strong national support. There is a great need for an effective translation of scientific knowledge into biodiversity practice to guarantee that scientific evidence is available to inform both policy development and practical implementation of conservation management. There is a need for a consistent and global biodiversity conservation policy, which also aims at changing the way people live and work in Europe to ensure biodiversity conservation within and outside Europe's borders. Given that biodiversity and ecosystem services are of paramount importance to the development of human societies in the long run, a \"biodiversity check\" in all policies should be implemented. When future biodiversity conservation strategies are developed, it should be verified if the measures taken are climate change-proof. The economic consequences of biodiversity loss and gain need to be quantified to enable a system in which the agent causing the loss will need to pay for the costs linked to the loss and the restoration of ecosystems, instead of society as a whole. revention is by far the most efficient strategy to reduce the number of invasive exotic species and their negative impact on biodiversity. To realise efficient prevention, a European strategy to deal with invasive exotic species is mandatory. LERU emphasizes the importance of collaboration across scientific disciplines for modern biodiversity research and therefore emphasizes the need for support for multidisciplinary collaborative networks. LERU calls for an improved science-policy interface in biodiversity protection, which could be realised by reinforcing the existing Intergovernmental platform on Biodiversity and Ecosystem Services (IPBES). Increased efforts for raising biodiversity education and awareness are necessary to get the neededsupport from society as a whole for a successful biodiversity policy. Research-intensive universities can play a leading role in this. Research-intensive universities can contribute to fighting biodiversity loss by implementing an ambitious biodiversity research agenda, by developing inter-university networks sharing research infrastructures, and by investing in biodiversity education. LERU considers the study of biodiversity and the ecological responses to environmental change a top priority with an enormous added value to society © 2010 Published by LERU.\n",
      "KEYWORDS: environment; environmental; global; policy; sustainable; vision\n"
     ]
    },
    {
     "name": "stderr",
     "output_type": "stream",
     "text": [
      "2016-07-27 16:29:53,880 - screen_citations - INFO - 0/10 included, 2/10 excluded\n"
     ]
    },
    {
     "name": "stdout",
     "output_type": "stream",
     "text": [
      "\n",
      "INCLUDE (y/n/u)? n\n",
      "LABELS (separate labels with commas)? \n",
      "\n",
      "TITLE:    Crisis Within Social Capital? The Negative Impact on Natural Resources of Tension Between Household and Community Social Capital in a Migrant Ladino Enclave on Utila\n",
      "YEAR:     2012.0\n",
      "AUTHORS:  Bown, N; Gray, T; Hogg, K\n",
      "ABSTRACT: This article explores two kinds of social capital in the ladino community of Camponado on the Honduran island of Utila: household social capital (HSC) and community social capital (CSC), demonstrating how the one pulls in the opposite direction to the other, thereby weakening the capacity of the community to achieve common ends such as natural resource conservation. The article adds to the growing recognition that social capital is not a seamless web, but contains elements such as household social capital that may undermine community conservation goals, even when the community is ethnically homogeneous. © 2012 Copyright Taylor and Francis Group, LLC.\n",
      "KEYWORDS: Camponado; Honduras; Utila; community and household social capital; migration; natural resource conservation\n"
     ]
    },
    {
     "name": "stderr",
     "output_type": "stream",
     "text": [
      "2016-07-27 16:29:54,140 - screen_citations - INFO - 0/10 included, 3/10 excluded\n"
     ]
    },
    {
     "name": "stdout",
     "output_type": "stream",
     "text": [
      "\n",
      "INCLUDE (y/n/u)? n\n",
      "LABELS (separate labels with commas)? \n",
      "\n",
      "TITLE:    The production of i-san folk songs to promote the natural resources and environmental conservation\n",
      "YEAR:     2012.0\n",
      "AUTHORS:  Chandapan, D; Sali, B; Wongchantra, P\n",
      "ABSTRACT: The environmental problems have currently been important issues that need to be solved through involvements of all parts. Educational institutes and communities are considered to be important for mechanisms to solve the problems. The production of I-san (Northeastern) folk songs to promote the conservation of natural resources and environment is an approach used to promote awareness toward the natural resources and environmental conservation of students and people in general. The purposes of this research were: to produce I-san folk songs and a training handbook; study the results of knowledge transfer about the environment of students through training classified by genders and years of study and investigate the satisfaction of villagers toward the knowledge transfer about the environment to promote knowledge, attitude and awareness about natural resources and environmental conservation through Pong Lang musical performance of students. The sample used in this research was 30 Mathayomsuksa 4-6 students of Srikaewprachasan School under the jurisdiction of Secondary Educational Service Area Office 28, Loengnoktha district, Yasothon province and 329 villagers in communities close to location of the school. The instruments used for data collection were: 13 I-san folk songs; a training handbook; a test of knowledge about natural resources and environmental conservation with 40 items, the difficulty between 0.20 and 0.80, the discrimination between 0.27 and 0.62 and the reliability for whole research of 0.87, a test of attitude toward the conservation of natural resources and environment with 20 items; a test of awareness concerning natural resources and environmental conservation with 70; 5-rating scale items, the discrimination between 0.20 and 0.91 and the reliability for whole paper of 0.98 and a questionnaire about the satisfaction of villagers toward the use I-san folk songs through Pong Lang performance of students to promote knowledge, attitude and awareness about the natural resources and environmental conservation. The statistics used for data analysis were mean, percentage, standard deviation, paired t-test and F-test (two-way MANCOVA). The research results revealed that the appropriateness of 13 I-san folk songs for the promotion of natural resources and environmental conservation of the people in Loengnoktha district, Yasothon province, evaluated by the experts was at the highest level. They were all consistent with the 4 years provincial development plan (2010-2013) of Yasothon province. The levels of knowledge, attitude and awareness about natural resources and environmental conservation of the students both in general and classified by genders and years of study were higher than those of before the training with statistical significance at the level of 0.05. However, there was no relationship between genders and years of study with knowledge, attitude and awareness about natural resources and environmental conservation. The satisfaction of the villagers toward I-san folk songs through I-san Pong Lang musical performance to promote knowledge, attitude and awareness about natural resources and environmental conservation of the students was generally at the highest level. © Medwell Journals, 2012.\n",
      "KEYWORDS: Knowledge; Musical performance; Natural resources; Natural resources and environmental conservation; The production of i-san folk songs; Training\n"
     ]
    },
    {
     "name": "stderr",
     "output_type": "stream",
     "text": [
      "2016-07-27 16:29:54,401 - screen_citations - INFO - 1/10 included, 3/10 excluded\n"
     ]
    },
    {
     "name": "stdout",
     "output_type": "stream",
     "text": [
      "\n",
      "INCLUDE (y/n/u)? y\n",
      "LABELS (separate labels with commas)? \n",
      "\n",
      "TITLE:    Business, Ecosystems, and Biodiversity: New Horizons for Management Research\n",
      "YEAR:     2013.0\n",
      "AUTHORS:  Pogutz, S; Winn, M I\n",
      "ABSTRACT: Whether to secure critical resource inputs or responding to demands ranging from local communities to international stakeholders, leading multinational companies increasingly engage in ecosystem management by developing operations models with biodiversity, ecosystem conservation, and ecosystem restoration in mind-often in partnership with international conservation organizations. While promising to infuse business strategy with knowledge from natural science, specifically ecology, the emerging practice appears well ahead of research in this area. This article aims to encourage research into how organizations can manage their relationship with the natural environment so as not to destroy the very life-supporting foundations provided by nature. Bridging knowledge domains, the article introduces key concepts from ecology and social ecology to organization and management studies-ecosystems, biodiversity, ecosystem services, and ecological resilience. We illustrate these concepts with advances in ecosystems management and conclude with suggestions for future research in sustainability management, organization theory, and strategic management. © 2013 SAGE Publications.\n",
      "KEYWORDS: biodiversity; corporate environmental management; corporate sustainability; ecological resilience; ecosystem services; ecosystems; interconnectedness; nature conservation; organization theory; strategic management\n"
     ]
    },
    {
     "name": "stderr",
     "output_type": "stream",
     "text": [
      "2016-07-27 16:29:54,659 - screen_citations - INFO - 1/10 included, 4/10 excluded\n"
     ]
    },
    {
     "name": "stdout",
     "output_type": "stream",
     "text": [
      "\n",
      "INCLUDE (y/n/u)? n\n",
      "LABELS (separate labels with commas)? \n",
      "\n",
      "TITLE:    Ecosystem services and biodiversity in developing countries\n",
      "YEAR:     2007.0\n",
      "AUTHORS:  Konijnendijk, C C; Lövei, G L; Mertz, O; Nielsen, I; Ravnborg, H M\n",
      "ABSTRACT: The concept of ecosystem services has become important for our understanding of the role of nature for maintaining human livelihoods. But is biodiversity essential to maintain ecosystem services? Many studies suggest that higher biodiversity allows a higher level of ecosystem services, but others argue that there is little hard evidence, especially from tropical environments, to document the necessity of high biodiversity for provision of most ecosystem services. Thus, effective valuation of biodiversity for ecosystem services and long-term studies and monitoring are needed to fully understand the complex biodiversity-ecosystem service interface. This introduction briefly reviews some of the main arguments in this debate and provides an overview of the other five special issue papers. Exploring biodiversity and ecosystem interactions in the context of the provision of ecosystem services, these papers address population and biodiversity coexistence, the importance of dung beetles in agricultural landscapes, the knowledge and use of palms by local communities, bioprospecting for drugs and how biodiversity conservation may have added benefits in terms of improved watershed functions and health. © 2007 Springer Science+Business Media B.V.\n",
      "KEYWORDS: Biodiversity; Bioprospecting; Conservation; Ecological economics; Ecosystem services; Environment; Local knowledge; Monitoring; Population; Sustainable financing; Valuation\n"
     ]
    },
    {
     "name": "stderr",
     "output_type": "stream",
     "text": [
      "2016-07-27 16:29:54,917 - screen_citations - INFO - 1/10 included, 5/10 excluded\n"
     ]
    },
    {
     "name": "stdout",
     "output_type": "stream",
     "text": [
      "\n",
      "INCLUDE (y/n/u)? n\n",
      "LABELS (separate labels with commas)? \n",
      "\n",
      "TITLE:    Assessment of coastal protection as an ecosystem service in Europe\n",
      "YEAR:     2013.0\n",
      "AUTHORS:  Delgado, I; Liquete, C; Maes, J; Stips, A; Zulian, G\n",
      "ABSTRACT: Mapping and assessment of ecosystem services is essential to provide scientific support to global and EU biodiversity policy. Coastal protection has been mostly analysed in the frame of coastal vulnerability studies or in local, habitat-specific assessments. This paper provides a conceptual and methodological approach to assess coastal protection as an ecosystem service at different spatial-temporal scales, and applies it to the entire EU coastal zone. The assessment of coastal protection incorporates 14 biophysical and socio-economic variables from both terrestrial and marine datasets. Those variables define three indicators: coastal protection capacity, coastal exposure and human demand for protection. A questionnaire filled by coastal researchers helped assign ranks to categorical parameters and weights to the individual variables. The three indicators are then framed into the ecosystem services cascade model to estimate how coastal ecosystems provide protection, in particular describing the service function, flow and benefit. The results are comparative and aim to support integrated land and marine spatial planning. The main drivers of change for the provision of coastal protection come from the widespread anthropogenic pressures in the European coastal zone, for which a short quantitative analysis is provided. © 2013 Elsevier Ltd.\n",
      "KEYWORDS: Biodiversity; Coastal erosion; Coastal inundation; Coastal protection; Ecosystem service; Exposure; Vulnerability\n"
     ]
    },
    {
     "name": "stderr",
     "output_type": "stream",
     "text": [
      "2016-07-27 16:29:55,173 - screen_citations - INFO - 1/10 included, 6/10 excluded\n"
     ]
    },
    {
     "name": "stdout",
     "output_type": "stream",
     "text": [
      "\n",
      "INCLUDE (y/n/u)? n\n",
      "LABELS (separate labels with commas)? \n",
      "\n",
      "TITLE:    Linking future ecosystem services and future human well-being\n",
      "YEAR:     2006.0\n",
      "AUTHORS:  Butler, C D; Oluoch-Kosura, W\n",
      "ABSTRACT: Ecosystem services are necessary, yet not sufficient for human well-being (however defined). Insufficient access to the ecosystem provisioning service of food is a particularly important factor in the loss of human well-being, but all ecosystem services contribute in some way to well-being. Although perhaps long obvious to ecologists, the links between ecosystems and aspects of human well-being, including health, have been less well understood among the social science community. This situation may now be starting to change, thanks in part to the Millennium Ecosystem Assessment (MA). Causality between ecosystem services and well-being is bidirectional; it is increasingly clear that functioning societies can protect or enhance ecosystem services, and accordingly, that societies with impaired well-being (best documented in the case of chronic diseases such as malaria and HIV/AIDS) can also experience a related decline in ecosystem services. The future state of human well-being and of ecosystem services is more than the co-evolution of these two fundamental elements. Human well-being also depends, critically, upon the human institutions that govern relationships between human individuals and groups, and also between humans and ecosystem services. The scenarios working group of the MA found that human well-being is highest in the Global Orchestration scenario, which assumes the fastest evolution of beneficial institutions, and is lowest in the Order from Strength scenario. Human well-being was found to be intermediate in the other two scenarios (Adapting Mosaic and Techno-Garden) even though these scenarios share a much greater recognition of the importance of ecosystem services to human well-being. Copyright © 2006 by the author(s).\n",
      "KEYWORDS: Cognitive potential; Conflict; Ecosystems; Health; Human well-being; Hunger; Nutrition; Scenarios; Surprise\n"
     ]
    },
    {
     "name": "stderr",
     "output_type": "stream",
     "text": [
      "2016-07-27 16:29:55,430 - screen_citations - INFO - 1/10 included, 7/10 excluded\n"
     ]
    },
    {
     "name": "stdout",
     "output_type": "stream",
     "text": [
      "\n",
      "INCLUDE (y/n/u)? n\n",
      "LABELS (separate labels with commas)? \n",
      "\n",
      "TITLE:    Assessment indicators system of forest ecosystem health based on the harmful disturbance\n",
      "YEAR:     2012.0\n",
      "AUTHORS:  Liang, J; Yuan, F; Zhang, X\n",
      "ABSTRACT: Healthy forests are closely related to global ecological stability and sustainable development of human society. It is important to study forest ecosystem health including developing theories related to forest health and exploring various assessment methods. Reasonable methods lead to accurate assessments of forest ecosystem health. The definition of forest health is controversial. The concept of health is well understood as applied to humans but the human concept of health may not be appropriate for ecosystems. The difficulties of defining the optimal conditions for ecosystem health have led to a lack of universally accepted indicators to measure ecosystem health. In this paper, a healthy forest ecosystem is defined as a system having good mechanisms for self-regulation, such as beneficial mechanisms that allow an ecosystem to react to external harmful disturbances. Positive ecosystem responses to negative changes keep forest ecosystems intact, stable and sustainable. With this concept of forest ecosystem health in mind, we can discuss assessment methods which can be used to monitor forest ecosystem health. Several forest ecosystem health assessment systems already exist. For example, ecosystem health can be assessed using measures of resilience, vigor and organization. Today, most assessment systems are based on this concept. Based on the concept of forest ecosystem health presented above, a new approach is proposed, which considers four external harmful disturbances: forest fire, forest pest species, air pollution and human-caused disturbances. This method is designed to build assessment indicator systems which can be used to monitor and evaluate forest ecosystem health. It also considers beneficial disturbances in this assessment indicator system. This method includes an analysis of forest fire disturbance, which causes severe damage to forest ecosystems, followed by eight other indicators of forest health including average precipitation, average temperature, proportion of flammable species, crown density, altitude, slope gradient, slope direction and distance between the forest and the nearest road. Disturbance caused by forest pests can also be measured. These include disturbances caused by forest animals, such as rat and rabbit damage, as well as indicators like forest diseases and forest pests, the degree of damage and rate of infection in host trees. Air pollution disturbance can be measure by studying leaf damage as well as soil and contamination analysis. The study of harmful human-caused disturbances includes measurement of forest management techniques such as timber harvest and management of undergrowth vegetation. Measurements of forest ecosystem stability include measurements of biological diversity, forest community structure and measurements documenting how closely a forest is to natural conditions, with natural conditions defined as being free of human-caused disturbances. These types of measurements have been used frequently to measure ecosystem complexity and health. Next, the content and significance of key indicators were also well-analyzed. This forest ecosystem health assessment indicator system abandons traditional assessment ideas and combines the most important factors which have been determined to be closely related to forest ecosystem health in recent years. This assessment indicator system focuses at the ecosystem level and has mostly been applied to forests both in South and North China. Information is presented for use by forest and district resource managers as well as academic experts. This assessment indicator system establishes a scientific basis for conducting forest health projects, provides a context for planning ecosystem restoration, and contributes to the understanding of the physical, biological, and human dimensions of these ecosystems. This research may enrich the theories and methods used in assessing the health of ecological systems.\n",
      "KEYWORDS: Assessment indicators system; Benificial disturbance; Forest ecosystem health; Harmful disturbance\n"
     ]
    },
    {
     "name": "stderr",
     "output_type": "stream",
     "text": [
      "2016-07-27 16:29:55,685 - screen_citations - INFO - 1/10 included, 8/10 excluded\n"
     ]
    },
    {
     "name": "stdout",
     "output_type": "stream",
     "text": [
      "\n",
      "INCLUDE (y/n/u)? n\n",
      "LABELS (separate labels with commas)? \n",
      "\n",
      "TITLE:    Community forestry in theory and practice: Where are we now?\n",
      "YEAR:     2007.0\n",
      "AUTHORS:  Charnley, S; Poe, M R\n",
      "ABSTRACT: Community forestry refers to forest management that has ecological sustainability and local community benefits as central goals, with some degree of responsibility and authority for forest management formally vested in the community. This review provides an overview of where the field of community forestry is today. We describe four case examples from the Americas: Canada, the United States, Mexico, and Bolivia. We also identify five hypotheses embedded in the concept of community forestry and examine the evidence supporting them. We conclude that community forestry holds promise as a viable approach to forest conservation and community development. Major gaps remain, however, between community forestry in theory and in practice. For example, devolution of forest management authority from states to communities has been partial and disappointing, and local control over forest management appears to have more ecological than socioeconomic benefits. We suggest ways that anthropologists can contribute to the field. Copyright © 2007 by Annual Reviews. All rights reserved.\n",
      "KEYWORDS: Community-based forest management; Forest communities; Forests; Governance; Livelihoods; Sustainability\n"
     ]
    },
    {
     "name": "stderr",
     "output_type": "stream",
     "text": [
      "2016-07-27 16:29:55,940 - screen_citations - INFO - 2/10 included, 8/10 excluded\n"
     ]
    },
    {
     "name": "stdout",
     "output_type": "stream",
     "text": [
      "\n",
      "INCLUDE (y/n/u)? y\n",
      "LABELS (separate labels with commas)? \n",
      "\n",
      "TITLE:    Actualizing sustainability: Environmental policy for resilience in ecological systems\n",
      "YEAR:     2012.0\n",
      "AUTHORS:  Garmestani, A S; Heberling, M T; Hopton, M E\n",
      "ABSTRACT: The loss of biodiversity has the capacity to decrease the resilience of ecological systems, which can result in the loss of ecosystem services essential for human survival. Thus, the protection of biodiversity is a critical component to actualizing sustainability. In this paper, we suggest several possible policy instruments for dealing with the apparent intractability of economics, ecology, and the law. In order to actualize sustainability for future generations, we must develop new, or adapt established, policy to protect biological diversity and ecosystem services. © 2012 Bentham Science Publishers. All rights reserved.\n",
      "KEYWORDS: Biodiversity.; Economics; Environmental management; Law; Panarchy; Policy; Resilience; Sustainability; Trusts\n"
     ]
    },
    {
     "name": "stderr",
     "output_type": "stream",
     "text": [
      "2016-07-27 16:29:56,199 - screen_citations - INFO - 2/10 included, 9/10 excluded\n"
     ]
    },
    {
     "name": "stdout",
     "output_type": "stream",
     "text": [
      "\n",
      "INCLUDE (y/n/u)? n\n",
      "LABELS (separate labels with commas)? \n",
      "\n",
      "TITLE:    Linking livelihoods and conservation: An examination of local residents' perceived linkages between conservation and livelihood benefits around Nepal's Chitwan National Park\n",
      "YEAR:     2011.0\n",
      "AUTHORS:  Nepal, S; Spiteri, A\n",
      "ABSTRACT: This paper investigates local recognition of the link between incentive-based program (IBP) benefits and conservation, and how perceptions of benefits and linkage influence attitudes in communities surrounding Chitwan National Park, Nepal. A survey of 189 households conducted between October and December 2004 examined local residents' perceived benefits, their attitudes toward park management, and perception of linkages between conservation and livelihoods. Linkage perceptions were measured by a scale compared with a respondent's recognition of benefits to determine whether IBPs establish a connection between benefits and livelihoods. An attitude scale was also created to compare attitudes toward park management with perceptions of benefits and linkage to determine if IBPs led to positive attitudes, and if the recognition of a direct tie between livelihoods and natural resources made attitudes more favorable. Research results indicate that as acknowledgement of benefit increases, so does the perception of linkage between the resource and livelihoods. Similarly, when perceived benefit increases, so too does attitude towards management. Positive attitude towards park management is influenced more by perception of livelihood dependence on resources than on benefits received from the park. However, overwhelming positive support voiced for conservation did not coincide with conduct. In spite of the positive attitudes and high perception of linkage, people did not necessarily behave in a way compatible with conservation. This suggests that while benefits alone can lead to positive attitudes, without clear linkages to conservation, the IBP may lose persuasion when alternative options-conflicting with conservation objectives-arise promising to provide greater economic benefit. © 2011 Springer Science+Business Media, LLC.\n",
      "KEYWORDS: Attitudes; Chitwan National Park; Conservation; Incentive-based programs; Linkage perceptions; Nepal; Protected areas\n"
     ]
    },
    {
     "name": "stderr",
     "output_type": "stream",
     "text": [
      "2016-07-27 16:29:56,454 - screen_citations - INFO - 2/10 included, 10/10 excluded\n"
     ]
    },
    {
     "name": "stdout",
     "output_type": "stream",
     "text": [
      "\n",
      "INCLUDE (y/n/u)? n\n",
      "LABELS (separate labels with commas)? \n",
      "\n",
      "TITLE:    Integration of local ecological knowledge and conventional science: A study of seven community-based forestry organizations in the USA\n",
      "YEAR:     2008.0\n",
      "AUTHORS:  Ballard, H L; Fernandez-Gimenez, M E; Sturtevant, V E\n",
      "ABSTRACT: Natural resource management decisions can be based on incomplete knowledge when they lack scientific research, monitoring, and assessment and/or simultaneously fail to draw on local ecological knowledge. Many community-based forestry organizations in the United States attempt to address these knowledge gaps with an integrated ecological stewardship approach that balances ecological, social, and economic goals. This paper examines the use and integration of local knowledge and conventional science in ecological stewardship and monitoring by seven community-based forestry demonstration projects. Through document reviews and interviews with both participants and partners of all of these communitybased organizations, we found that all the community-based forestry groups incorporated local ecological knowledge into many aspects of their management or monitoring activities, such as collaboratively designing monitoring programs with local ranchers, forest workers, and residents; involving local people in collecting data and interpreting results; and documenting the local ecological knowledge of private forest landowners, long-time residents, and harvesters of nontimber forest products. We found that all the groups also used conventional science to design or conduct ecological assessments, monitoring, or research. We also found evidence, in the form of changes in attitudes on the part of local people and conventional scientists and jointly produced reports, that the two types of knowledge were integrated by all groups. These findings imply that community-based forestry groups are redistributing the power of conventional science through the use of diverse knowledge sources. Still, several obstacles prevented some local, traditionally under-represented groups from being significantly involved in monitoring and management decisions, and their knowledge has not yet been consistently incorporated.\n",
      "KEYWORDS: Civic science; Community-based forestry; Community-based natural resource management; Conventional science; Ecological assessment; Ecological monitoring; Local ecological knowledge; Scientific knowledge\n"
     ]
    },
    {
     "name": "stderr",
     "output_type": "stream",
     "text": [
      "2016-07-27 16:29:56,710 - screen_citations - INFO - 2/10 included, 11/10 excluded\n"
     ]
    },
    {
     "name": "stdout",
     "output_type": "stream",
     "text": [
      "\n",
      "INCLUDE (y/n/u)? n\n",
      "LABELS (separate labels with commas)? \n",
      "\n",
      "TITLE:    Use of forest resources, traditional forest-related knowledge and livelihood of forest dependent communities: Cases in South Korea\n",
      "YEAR:     2009.0\n",
      "AUTHORS:  Youn, Y C\n",
      "ABSTRACT: The patterns of forest resource use in South Korea have been overviewed along with the forest resource availability to the forest users and in relation to the socio-economic conditions of local people. In South Korea, forest income arises more from non-timber forest products (NTFPs) and forest ecosystems services than from timber. The relationship between availability of forest resources and income of residents in mountainous villages was addressed with statistical analysis of results of household surveys conducted in Gangwon-do Province. The result indicates that the mere existence of forest resources and related cultural heritages is not enough for local communities to obtain income from forest land. Proper arrangements for local communities in accessing the forest resources and knowledge of making use of the resources is required to make the relationship constructive for people's livelihood. Joint management agreement between forest communities and the forest owner serves both parties for sustainable forest management in Korea as seen in the case of maple sap collection within Seoul National University Forests. The traditional knowledge held by local residents is of value for income generation for forest dependent communities and is considered as an integral part of sustainable forest management as seen in the case of native honey bee keeping near protected forest areas managed by the national forest authority. However, traditional cultural values may be positive or negative for ecologically sound forest management as seen in the pest management policy of the Korean government formulated based on cultural value rather than considerations of ecosystem health. © 2009 Elsevier B.V. All rights reserved.\n",
      "KEYWORDS: Accessibility; Forest resource use; Livelihood; Mountain villagers; Traditional knowledge\n"
     ]
    },
    {
     "name": "stderr",
     "output_type": "stream",
     "text": [
      "2016-07-27 16:29:56,970 - screen_citations - INFO - 2/10 included, 12/10 excluded\n"
     ]
    },
    {
     "name": "stdout",
     "output_type": "stream",
     "text": [
      "\n",
      "INCLUDE (y/n/u)? n\n",
      "LABELS (separate labels with commas)? \n",
      "\n",
      "TITLE:    Ecotourism positively affects awareness and attitudes but not conservation behaviours: A case study at Grande Riviere, Trinidad\n",
      "YEAR:     2009.0\n",
      "AUTHORS:  McGowan, P J K; Milner-Gulland, E J; Waylen, K A\n",
      "ABSTRACT: Ecotourism is often suggested as a tool for promoting conservation but evidence for its usefulness is mixed. The success of conservation projects is widely recognized to depend upon the positive attitudes of local communities and thus it is important to know if ecotourism affects local perceptions of natural resources and conservation, as these can be important determinants of conservation behaviour. Rapid Rural Appraisal and questionnaire-based interviews were used to investigate this issue in the village of Grande Riviere, Trinidad. This has a community-based ecotourism programme for leatherback turtles Dermochelys coriacea, and is also one of the few sites where the Critically Endangered endemic Trinidad piping-guan Pipile pipile may be sighted. Topics addressed were knowledge and awareness of local conservation issues, focusing on attitudes to the environment in general, turtles and the Trinidad piping-guan. Ecotourism significantly affected perceptions. Villagers showed more awareness and support for turtle conservation than for the piping-guan or any other wildlife. Moreover, those households directly benefiting from the ecotourism industry had better knowledge of local natural resources and greater general awareness of conservation issues (not limited to turtles). Other socio-economic factors such as education and income also affected attitudes and knowledge but the ecotourism effect was still present after accounting for these. Hunting was seen as the main threat to wildlife but was also a popular pastime, illustrating the potential for mismatch between attitudes and conservation behaviours. © 2009 Fauna & Flora International.\n",
      "KEYWORDS: Attitudes; Behaviour; Community conservation; Dermochelys coriacea; Ecotourism; Galliformes; Pipile pipile; Trinidad\n"
     ]
    },
    {
     "name": "stderr",
     "output_type": "stream",
     "text": [
      "2016-07-27 16:29:57,228 - screen_citations - INFO - 2/10 included, 13/10 excluded\n"
     ]
    },
    {
     "name": "stdout",
     "output_type": "stream",
     "text": [
      "\n",
      "INCLUDE (y/n/u)? n\n",
      "LABELS (separate labels with commas)? \n",
      "\n",
      "TITLE:    Enhancing ecosystem management through social-ecological inventories: Lessons from Kristianstads Vattenrike, Sweden\n",
      "YEAR:     2007.0\n",
      "AUTHORS:  Folke, C; Olsson, P; Schultz, L\n",
      "ABSTRACT: Environmental policy increasingly emphasizes involvement of local users and land owners in ecosystem management, but conservation planning is still largely a bureaucratic-scientific endeavour of identifying biological values for protection. Neither biological inventories nor stakeholder analyses, that tend to focus on conflicting interests, capture human resources in the landscape or the social structures and processes underlying biological conservation values. Social-ecological inventories are therefore proposed during the preparation phase of conservation projects as a means to identify people with ecosystem knowledge that practise ecosystem management. The method presented here focuses on local steward groups acting outside official management plans. In a social-ecological inventory of a river basin of southern Sweden, local steward groups, their ecosystem management activities, motives and links to other actors involved in ecosystem management were identified through interviews, participatory observations and a review of documents and other written material. Several hundred active local stewards were organized in 10 local steward groups that managed and monitored a range of ecosystem services at different spatial scales. Contributions of local stewards included on-site ecosystem management, long-term and detailed monitoring of species and ecosystem dynamics, local ecological knowledge, public support for ecosystem management and specialized networks. Two conservation projects are used to illustrate how local steward groups came together in multi-level networks and collaborated around specific conservation issues. The projects have been linked to ecosystem management at the landscape level through a flexible municipality organization, the Ecomuseum Kristianstads Vattenrike (EKV). EKV has acted as a 'bridging organization', coordinating and connecting many of the local steward groups to organizations and institutions at other levels. The process has been guided by social capital and shared visions for the whole landscape. The study shows that ecosystem management likely relies on multi-level collaboration and social-ecological inventories may help identify actors that are fundamental in such management systems. Social-ecological inventories should be employed in any attempt to develop and implement ecosystem management. © 2007 Foundation for Environmental Conservation.\n",
      "KEYWORDS: Ecosystem management; Kristianstads Vattenrike; Local stewards; Multi-level networks; Participation; Social-ecological inventory\n"
     ]
    },
    {
     "name": "stderr",
     "output_type": "stream",
     "text": [
      "2016-07-27 16:29:57,484 - screen_citations - INFO - 2/10 included, 14/10 excluded\n"
     ]
    },
    {
     "name": "stdout",
     "output_type": "stream",
     "text": [
      "\n",
      "INCLUDE (y/n/u)? n\n",
      "LABELS (separate labels with commas)? \n",
      "\n",
      "TITLE:    User perceptions of conservation and participatory management of iGxalingenwa forest, South Africa\n",
      "YEAR:     2005.0\n",
      "AUTHORS:  Lawes, M J; Robertson, J\n",
      "ABSTRACT: New forest policies in South Africa seek to reconcile conservation and development objectives by devolving some responsibility for forest management from the state to local communities. Community participation in forest management aims to protect forest-based subsistence livelihoods by incorporating the interests of resource users, while simultaneously diffusing threats to biodiversity by managing resource use. To date, participatory forest management (PFM) has had mixed success in South Africa because the transfer of rights to users has not accompanied changes in policy. A questionnaire survey of 60 households (43%) revealed the attitudes of users toward current management and conservation options for iGxalingenwa forest. Users chose participatory forest management (52%) over community (25%) or state-dominated forest management (2%) structures. User choice was motivated by the desire to secure rights of access to, and ensure equitable benefit from, a dwindling resource base, rather than the conservation of these resources to sustain future yields. Users were unwilling to reduce resource use and compromise usufruct rights to achieve conservation goals, even to improve the availability of the resource stock. Current user needs compromise biodiversity conservation goals, and users regard state conservation practices as protectionist and obstructing their rights of access to resources. While the National Forests Act of 1998 seeks to conserve resources by limiting access to them and is based on principles of sustainable use, it is nevertheless perceived to offer few incentives to users to participate in forest management and conservation. Ideally, an institutional and legal framework that allocates user rights and managerial responsibilities to households is required, but clearly suitable alternatives to forest products are also vital for successful management. Greater trust between the provincial parks authority and users is needed, but is complicated by weak traditional leadership and poor community representation. Ultimately, users preferred PFM because, while recognizing that harvest rates are unsustainable, user dependence upon forest resources and weak traditional leadership means they can protect usufruct rights only by participation. Changes to any of these factors may create demands for a new management system. PFM allows the greatest flexibility for responding to changes in demands as well as the environment. © 2005 Foundation for Environmental Conservation.\n",
      "KEYWORDS: Access rights; Biodiversity conservation; Community forestry; Participatory forest management; Subsistence livelihoods; Traditional authority\n"
     ]
    },
    {
     "name": "stderr",
     "output_type": "stream",
     "text": [
      "2016-07-27 16:29:57,744 - screen_citations - INFO - 2/10 included, 15/10 excluded\n"
     ]
    },
    {
     "name": "stdout",
     "output_type": "stream",
     "text": [
      "\n",
      "INCLUDE (y/n/u)? n\n",
      "LABELS (separate labels with commas)? \n",
      "\n",
      "TITLE:    Natural resource use, income and dependence among San and Mier communities bordering Kgalagadi Transfrontier Park, southern Kalahari, South Africa\n",
      "YEAR:     2012.0\n",
      "AUTHORS:  Shackleton, S; Thondhlana, G; Vedeld, P\n",
      "ABSTRACT: Contemporary strategies for natural resource management espouse the need to integrate local people and their livelihood needs into biodiversity conservation projects to achieve sustainable development and ecological integrity. Valuation of natural resource use provides empirical evidence and conceptual arguments of local people's dependence on these resources, which could be factored into biodiversity conservation planning. Based on household surveys and key informant interviews, this study looked at the contribution of dryland natural resources to the livelihoods of two culturally different but neighbouring communities, the San and Mier, bordering Kgalagadi Transfrontier Park, South Africa. Overall, natural resources represented an important livelihood source for the San, contributing on an average 32% of total annual income, compared to 9% for the Mier. Fuelwood was the predominant contributor to natural resource incomes in both cases. Income quintile analysis showed that dependence on natural resources decreased moving to higher income groups for Mier households, but increased with income for San households. Well-off households still derived higher total income from natural resources; often from the more lucrative sources of such income, notably from fuelwood sales. Contextual factors such as culture and social institutions, among others, influenced access to, and consequently the use of, particular resources and the value of these to households. Sustainable natural resource management interventions should consider these disparities in patterns of natural resource dependence among different income groups. © 2012 Taylor & Francis.\n",
      "KEYWORDS: Kalahari; Mier; San; culture; dependence; institutions; livelihoods; natural resource income\n"
     ]
    },
    {
     "name": "stderr",
     "output_type": "stream",
     "text": [
      "2016-07-27 16:29:58,002 - screen_citations - INFO - 2/10 included, 16/10 excluded\n"
     ]
    },
    {
     "name": "stdout",
     "output_type": "stream",
     "text": [
      "\n",
      "INCLUDE (y/n/u)? n\n",
      "LABELS (separate labels with commas)? \n",
      "\n",
      "TITLE:    Knowledge management and safeguarding Indian traditional knowledge\n",
      "YEAR:     2013.0\n",
      "AUTHORS:  Moorthy, A L; Pant, A\n",
      "ABSTRACT: Traditional knowledge (TK) is the knowledge base of a particular society or community which has been generated over a period of time through the process of learning and sharing by its members. TK is time tested and has been playing a vital role in sustainable development of the indigenous communities. Commercialization of biodiversity and traditional knowledge has increased the threat of misappropriation. Indian cultural and scientific heritage is discussed in this paper. Proper KM practices are required to tap that knowledge. This paper highlights the need to develop an Indigenous Knowledge Management System (IKMS) for indigenous communities which should document the knowledge heritage (without jeopardizing local culture, societal practices, IPRs, etc.) and it should also improve the process of adaptation, adoption and experimentation of the traditional knowledge. To develop an IKMS, various types of knowledge management tools and platforms are discussed. This paper also highlights the major issues/challenges in management of traditional knowledge.\n",
      "KEYWORDS: Indian scientific heritage; Indigenous knowledge management system (IKMS); Knowledge management; Traditional knowledge\n"
     ]
    },
    {
     "name": "stderr",
     "output_type": "stream",
     "text": [
      "2016-07-27 16:29:58,263 - screen_citations - INFO - 2/10 included, 17/10 excluded\n"
     ]
    },
    {
     "name": "stdout",
     "output_type": "stream",
     "text": [
      "\n",
      "INCLUDE (y/n/u)? n\n",
      "LABELS (separate labels with commas)? \n",
      "\n",
      "TITLE:    Evaluating the importance of human-modified lands for neotropical bird conservation\n",
      "YEAR:     2003.0\n",
      "AUTHORS:  Petit, D R; Petit, L J\n",
      "ABSTRACT: Development of effective conservation plans for terrestrial animals will require some assessment of which human-modified and natural habitats can support populations of priority species. We examined bird communities associated with 11 natural and human-modified habitats in Panama and assessed the importance of those habitats for species of different vulnerability to disturbance. We calculated habitat importance scores using both relative habitat preferences and vulnerability scores for all species present. Species of moderate and high vulnerability were primarily those categorized as forest specialists or forest generalists. As expected, even species-rich nonforest habitats provided little conservation value for the most vulnerable species. However, shaded coffee plantations and gallery forest corridors were modified habitats with relatively high conservation value. Sugar cane fields and Caribbean pine plantations offered virtually no conservation value for birds. Our method of assessing the conservation importance of different habitats is useful because it considers the types of species present and the potential role of the habitat in the conservation of those species (i.e., habitat preference). This method of habitat evaluation could be tailored to other conservation contexts with any measure of species vulnerability desired.\n",
      "KEYWORDS: \n"
     ]
    },
    {
     "name": "stderr",
     "output_type": "stream",
     "text": [
      "2016-07-27 16:29:58,520 - screen_citations - INFO - 2/10 included, 18/10 excluded\n"
     ]
    },
    {
     "name": "stdout",
     "output_type": "stream",
     "text": [
      "\n",
      "INCLUDE (y/n/u)? n\n",
      "LABELS (separate labels with commas)? \n",
      "\n",
      "TITLE:    Research progress on trade-offs and synergies of ecosystem services: An overview\n",
      "YEAR:     2012.0\n",
      "AUTHORS:  Feng, Z; Jiang, L; Li, P; Yu, X\n",
      "ABSTRACT: Being the core of ecosystem assessment, studies on ecosystem services have been becoming a focus in the field of ecology. The formation and provisioning capacity of ecosystem services are tremendously affected by human activities. Conversely, the magnitudes of ecosystem service changes also influence the preferences of human being's daily decision- making. Investigation into the dynamics of the trade-offs and synergistic relationships of regional ecosystem services will shed light on interactions and feedbacks between ecosystem services and the stakeholders at different spatial and temporal scales, and avoid double-counting issue in ecosystem services assessment. In addition, information and progress on trade- offs and synergies in the delivery of ecosystem services will provide scientific basis for designing and implementing eco- compensation schemes and optimize the management behavior of ecosystem services, and finally improve human well-being associated with trade-offs and synergies among different ecosystem services. It is revealed from this review that in the last decades, the valuation of ecosystem services has been received lots of attentions in the decision-making and scientific research communities. However, the double-counting issue during the valuation process usually leads to insufficient or biased guidance in the management of ecosystem services. Since ecosystem service is benefit that human receives from the natural ecosystems, the stakeholders' demand for ecosystem services from different spatial and temporal scales often causes competitions and conflicts among ecosystem's various goods and services. The interactions between human being and ecosystem services often give rise to trade-offs and synergies which in turn directly affect human welfare. With regard to the terminologies, trade-offs between ecosystem services refers to the enhancement of one ecosystem service locally in a short term is at the cost of other ecosystem services locally or at a large spatial scale (e. g., globally) in the future. It can be simplified as the \"win-lose\" mode. The term synergies means the synchronous changes between two or among many different ecosystem services, including the \"win-win\" mode and the \"lose-lose\" mode. The trade-offs and synergistic relationships exist not only within different categories of provisioning services, but also among different ecosystem services and like provision services, regulation services, cultural services, and supporting services. Findings from about 12 literatures has shown specific examples of such kind of trade-offs and synergistic relations, for instance, among provisioning services, between regulating services and cultural services, between provisioning services and supporting services, among regulating services, and between provisioning services and regulating services. The spatial scale of trade-offs and synergies contain various scales, for instance, from ecological scale to institutional scale. The temporal scale could be short-term to long-term based. This paper indicates that so far, trade-offs and synergies analysis of ecosystem services is still at its early stage. However, we identified and summarized two research approaches which have already been commonly used for the analysis of ecosystem services' trade-offs: (1) the Integrated Ecological-Economic Model: it is a traditional approach which is often used to quantify trade-offs. The Model consists of several ecological and economic models. The ecological models are mostly used to analyze the magnitudes of the changes of ecosystem services, while the economic models to evaluate the impacts of the change on human welfare. Since land use and land cover change serves as a direct driving factor of the ecosystem services' trade-offs and synergies, it will become even more extensive due to intensification of interactions between the two in the future. (2) Scenarios Analysis based on Landuse is attracting more and more attention in scientific literature. Remote sensing data and management policies of ecosystem services provd strong data basis for the scenarios formulation and analysis. It could provide more objective and spatially-explicit information on the trade-offs and synergies for optimizing ecosystem services management.\n",
      "KEYWORDS: Ecosystem services; Spatial scale; Stakeholders; Synergies; Temporal scale; Trade-offs\n"
     ]
    },
    {
     "name": "stderr",
     "output_type": "stream",
     "text": [
      "2016-07-27 16:29:58,777 - screen_citations - INFO - 2/10 included, 19/10 excluded\n"
     ]
    },
    {
     "name": "stdout",
     "output_type": "stream",
     "text": [
      "\n",
      "INCLUDE (y/n/u)? n\n",
      "LABELS (separate labels with commas)? \n",
      "\n",
      "TITLE:    Livelihood change and livelihood sustainability in the uplands of Lembang subwatershed, West Sumatra, Indonesia, in a changing natural resource management context\n",
      "YEAR:     2009.0\n",
      "AUTHORS:  Mahdi; Schmidt-Vogt, D; Shivakoti, G P\n",
      "ABSTRACT: This paper analyzes livelihood change and livelihood sustainability of households in the upland part of the Lembang subwatershed, West Sumatra, in response to changes in the natural resource management context during the last decade. Using the sustainable livelihood framework (SLF), we measured livelihood changes at two separate points in time, 1996 and 2006, and assessed their environmental, economic, social, and institutional sustainability. We found that people with a low income had less access to capital assets than people from middle- and high-income groups. Our analysis revealed, however, that access to capital assets increased over time, and that poor households experienced economic improvement, indicating an overall increase in economic sustainability. Environmental sustainability, however, is threatened by intensive agricultural practices such as high agrochemical input and intensive soil tillage on steep slopes, leading to pollution and soil erosion. Social sustainability is also a matter of concern: while social exclusion has been reduced, income inequity has increased. Institutional sustainability is likely to remain uncertain, as local institutions for natural resource management are still weak, despite the fact that decentralization has been implemented during the last 8 years. External facilitation is needed to improve the livelihood of upland people while, at the same time, enhancing the sustainability of watershed management. Strengthening local institutions, conserving natural resources, and promoting environmentally sound agricultural practices are the three most important policies to be promoted within the watershed. © 2008 Springer Science+Business Media, LLC.\n",
      "KEYWORDS: Access to capital asset; Integrated watershed management; Livelihood change; Livelihood sustainability; West Sumatra\n"
     ]
    },
    {
     "name": "stderr",
     "output_type": "stream",
     "text": [
      "2016-07-27 16:29:59,035 - screen_citations - INFO - 2/10 included, 20/10 excluded\n"
     ]
    },
    {
     "name": "stdout",
     "output_type": "stream",
     "text": [
      "\n",
      "INCLUDE (y/n/u)? n\n",
      "LABELS (separate labels with commas)? \n",
      "\n",
      "TITLE:    Linking biodiversity conservation and livelihoods in India\n",
      "YEAR:     2005.0\n",
      "AUTHORS:  Bawa, K; Hiremath, A; Shanker, K\n",
      "ABSTRACT: None\n",
      "KEYWORDS: \n"
     ]
    },
    {
     "name": "stderr",
     "output_type": "stream",
     "text": [
      "2016-07-27 16:29:59,291 - screen_citations - INFO - 2/10 included, 21/10 excluded\n"
     ]
    },
    {
     "name": "stdout",
     "output_type": "stream",
     "text": [
      "\n",
      "INCLUDE (y/n/u)? n\n",
      "LABELS (separate labels with commas)? \n",
      "\n",
      "TITLE:    Why local people do not support conservation: Community perceptions of marine protected area livelihood impacts, governance and management in Thailand\n",
      "YEAR:     2014.0\n",
      "AUTHORS:  Bennett, N J; Dearden, P\n",
      "ABSTRACT: Conservation success is often predicated on local support for conservation which is strongly influenced by perceptions of the impacts that are experienced by local communities and opinions of management and governance. Marine protected areas (MPAs) are effective conservation and fisheries management tools that can also have a broad array of positive and negative social, economic, cultural, and political impacts on local communities. Drawing on results from a mixed-methods study of communities on the Andaman Coast of Thailand, this paper explores perceptions of MPA impacts on community livelihood resources (assets) and outcomes as well as MPA governance and management. The area includes 17 National Marine Parks (NMPs) that are situated near rural communities that are highly dependent on coastal resources. Interview participants perceived NMPs to have limited to negative impacts on fisheries and agricultural livelihoods and negligible benefits for tourism livelihoods. Perceived impacts on livelihoods were felt to result from NMPs undermining access to or lacking support for development of cultural, social, political, financial, natural, human, physical, and political capital assets. Conflicting views emerged on whether NMPs resulted in negative or positive marine or terrestrial conservation outcomes. Perceptions of NMP governance and management processes were generally negative. These results point to some necessary policy improvements and actions to ameliorate: the relationship between the NMP and communities, NMP management and governance processes, and socio-economic and conservation outcomes. © 2013 The Authors.\n",
      "KEYWORDS: Conservation impacts; Governance; Livelihoods; Management; Marine protected areas\n"
     ]
    },
    {
     "name": "stderr",
     "output_type": "stream",
     "text": [
      "2016-07-27 16:29:59,551 - screen_citations - INFO - 3/10 included, 21/10 excluded\n"
     ]
    },
    {
     "name": "stdout",
     "output_type": "stream",
     "text": [
      "\n",
      "INCLUDE (y/n/u)? y\n",
      "LABELS (separate labels with commas)? \n",
      "\n",
      "TITLE:    Sustainable management on pests by agro-biodiversity\n",
      "YEAR:     2011.0\n",
      "AUTHORS:  Gao, D; He, X; Zhu, S\n",
      "ABSTRACT: Agro-biodiversity is essential for global food production, livelihood security and sustainable agricultural development. Human communities worldwide have played a central role in shaping nature's diversity and its associated functions. Both natural processes and human activities have generated and sustained rich genetic, species and ecosystem diversity. Within agro-systems this agro-biodiversity performs many closely inter-related social, economical and environmental functions. 1) Promoting food and livelihood security. Dynamic and complex rural livelihoods usually rely on diverse plant and animal both in wild and in different stages of domestication. Different types of agro-biodiversity are used by different people at different times and in different places, hence contribute to livelihood strategies in a complex fashion. 2) Maintaining productive and environmental sustainability. In addition to contributing to environmental sustainability, agro-biodiversity helps sustain many production functions both in low input and high input agriculture. Available evidence is summarized for the following functions: soil organic matter decomposition, nutrient cycling, pollination, pest control, yield formation, soil and water conservation, impact on climate and water cycling, biodiversity conservation and influence on landscape structure. 3) Contribution on the resilience of rural economies. But this agro-biodiversity has been losing at an alarming rate. This paper identifies the dominating reasons for this loss and outlines the basic methods and mechanisms for the construction and restoration of field biodiversity. After the review of the negative effect of simplified agriculture in the fossil oil driven agriculture and the positive effect of \"integrating human activity with nature\" in traditional agriculture, the necessity and possibility of sustainable management of pests by biodiversity in agriculture is discussed, and the general methods used in construction and restoration of field biodiversity was summarized in ecosystem diversity, species diversity and genetic diversity levels. Based on the knowledge of plant pathology, agricultural ecology, plant nutrition science, plant physiology and other related disciplines, the basic principles for sustainable management on pests by agro-biodiversity was summarized into seven aspects, that is groups heterogeneity effect, dilution effect, field micro-environment effect, induced resistance effect, physical obstacle effect, physiological effect and allelopathic effect. It is well-known that fossil oil driven agriculture meets the needs of present generation by paying heavy cost from our future generations. Traditional agriculture has rich ecological philosophy behind, however it is hard to meet the ever-increasing needs of the society. More and more scientists, decision makers and producers are seeking for sustainable agricultural production systems with low input, high efficiency, and high diversity. Agro-biodiversity can improve important ecological functions. It is a golden key for the stable, healthy, productive and sustainable field ecosystem, and for the sustainable management of pests. For this purpose, we should pay our attention to four aspects: (1) the increase of interrelationship among different crop species; (2) the research on dominant pests and their natural enemies with their biological and ecological characteristics and their favorable environmental factors; (3) the discovery of production systems with comprehensive and sustainable management methods to control pests by using agro-biodiversity; (4) the development of integrated agronomic technology and agricultural machinery to match these agro-biodiversity models.\n",
      "KEYWORDS: Agroecosystem; Biodiversity; Integrated management; Pests; Sustainable agriculture\n"
     ]
    },
    {
     "name": "stderr",
     "output_type": "stream",
     "text": [
      "2016-07-27 16:29:59,805 - screen_citations - INFO - 3/10 included, 22/10 excluded\n"
     ]
    },
    {
     "name": "stdout",
     "output_type": "stream",
     "text": [
      "\n",
      "INCLUDE (y/n/u)? n\n",
      "LABELS (separate labels with commas)? \n",
      "\n",
      "TITLE:    Caring for our natural assets: An ecosystem services perspective\n",
      "YEAR:     2008.0\n",
      "AUTHORS:  Collins, S; Larry, E\n",
      "ABSTRACT: Global attention to climate change has advanced an awareness of human impacts on the environment, Progressing more slowly is recognition of the critical link between forest ecosystems and human welfare, Forests provide a number of societal benefits or ecosystem services, such as water purification, climate and flood regulation, recreational opportunities, and spiritual fulfillment, This paper examines an emerging perspective that describes ecosystems as natural assets that support human health and well-being, The perspective serves as both a conservation approach and an extension of ecosystem management, involving the connection of ecosystem services to the people who benefit, in some cases with an assigned market value, We argue that the emergence of an ecosystem services perspective is timely as public interest in the state of the environment increases and natural resource managers face the reality of rapid forest ecosystem change, Forest conservation that considers the supply and delivery of ecosystem services will enhance the health and resiliency of ecosystems, engage and serve a broader public, and attract private investment and leadership in a common effort to safeguard natural systems.\n",
      "KEYWORDS: Climate change; Ecosystem management; Ecosystem services; Human well-being; Natural capital\n"
     ]
    },
    {
     "name": "stderr",
     "output_type": "stream",
     "text": [
      "2016-07-27 16:30:00,064 - screen_citations - INFO - 3/10 included, 23/10 excluded\n"
     ]
    },
    {
     "name": "stdout",
     "output_type": "stream",
     "text": [
      "\n",
      "INCLUDE (y/n/u)? n\n",
      "LABELS (separate labels with commas)? \n",
      "\n",
      "TITLE:    A critical analysis of forest policies of Pakistan: Implications for sustainable livelihoods\n",
      "YEAR:     2007.0\n",
      "AUTHORS:  Ali, T; Shahbaz, B; Suleri, A Q\n",
      "ABSTRACT: Pakistan has very low forest cover, but these forests are very diverse in nature and of significant importance for the livelihood security of millions of rural people who live in and around these forests. Policies, institutions and processes form the context within which individuals and households construct and adapt livelihood strategies, on the other hand these institutionally shaped livelihood strategies may have an impact on the sustainability of natural resource use. The present paper aims to critically analyse the forest policies of Pakistan. Implications for sustainable forest management and livelihood security of forest dependent people are also given. The first forest policy of Pakistan was announced in 1955 followed by the forest policies of 1962, 1975, 1980, 1988 as part of the National Agricultural Policy, 1991, and the latest in 2001. Most of the forest policies were associated with the change of government. There was much rhetoric in some recent policies regarding the concept of \"participation\" and \"sustainable livelihoods\" but in practice these policies are also replica of the previously top-down, autocratic and non-participatory forest policies. Pakistan needs to develop a sustainable, workable, research-based, and people-friendly forest policy enable to catering to the changing needs of stakeholders including government. © 2006 Springer Science+Business Media, Inc.\n",
      "KEYWORDS: Forest communities; Forest management; Forest policy; Sustainable livelihoods\n"
     ]
    },
    {
     "name": "stderr",
     "output_type": "stream",
     "text": [
      "2016-07-27 16:30:00,323 - screen_citations - INFO - 3/10 included, 24/10 excluded\n"
     ]
    },
    {
     "name": "stdout",
     "output_type": "stream",
     "text": [
      "\n",
      "INCLUDE (y/n/u)? n\n",
      "LABELS (separate labels with commas)? \n",
      "\n",
      "TITLE:    Cultural erosion and biodiversity: Canoe-making knowledge in Pohnpei, Micronesia\n",
      "YEAR:     2007.0\n",
      "AUTHORS:  Balick, M J; Brosi, B J; Gallen, R; Kostka, M; Lee Ling, D; Lee, R; Raynor, A; Raynor, P; Raynor, W; Wolkow, R\n",
      "ABSTRACT: Erosion of traditional knowledge and practice is a serious and accelerating problem, but quantitative work on traditional knowledge loss and its importance to biodiversity conservation is lacking. We investigated traditional knowledge of canoe making, a skill heavily dependent on plant biodiversity, on Pohnpei, Federated States of Micronesia, through a survey of 180 island residents. Our results showed that there has been an intergenerational erosion of canoe-making skills. Given current trends, the present generation of Pohnpeians may be the last to retain any knowledge of this traditional craft. We also identified several correlates of knowledge loss - including Western educational level and occupation - that highlight potential avenues for skill conservation via governments, traditional leadership, and schools. These institutions could intervene to emphasize traditional knowledge, which would reinforce institutional contexts in which traditional knowledge and practice is valued. The heightened awareness of the value of biodiversity that is linked to traditional knowledge is key to biological conservation on Pohnpei and can help support local conservation programs. © 2007 Society for Conservation Biology.\n",
      "KEYWORDS: Conservation; Quantitative survey; Traditional knowledge; Traditional skills\n"
     ]
    },
    {
     "name": "stderr",
     "output_type": "stream",
     "text": [
      "2016-07-27 16:30:00,580 - screen_citations - INFO - 3/10 included, 25/10 excluded\n"
     ]
    },
    {
     "name": "stdout",
     "output_type": "stream",
     "text": [
      "\n",
      "INCLUDE (y/n/u)? n\n",
      "LABELS (separate labels with commas)? \n",
      "\n",
      "TITLE:    Beyond reserves: A research agenda for conserving biodiversity in human-modified tropical landscapes\n",
      "YEAR:     2009.0\n",
      "AUTHORS:  Chazdon, R L; Ferguson, B G; Griffith, D M; Harvey, C A; Komar, O; Martínez-Ramos, M; Morales, H; Nigh, R; Philpott, S M; Soto-Pinto, L; Van Breugel, M\n",
      "ABSTRACT: To truly understand the current status of tropical diversity and to forecast future trends, we need to increase emphasis on the study of biodiversity in rural landscapes that are actively managed or modified by people. We present an integrated landscape approach to promote research in human-modified landscapes that includes the effects of landscape structure and dynamics on conservation of biodiversity, provision of ecosystem services, and sustainability of rural livelihoods. We propose research priorities encompassing three major areas: biodiversity, human-environment interactions, and restoration ecology. We highlight key areas where we lack knowledge and where additional understanding is most urgent for promoting conservation and sustaining rural livelihoods. Finally, we recommend participatory and multidisciplinary approaches in research and management. Lasting conservation efforts demand new alliances among conservation biologists, agroecologists, agronomists, farmers, indigenous peoples, rural social movements, foresters, social scientists, and land managers to collaborate in research, co-design conservation programs and policies, and manage human-modified landscapes in ways that enhance biodiversity conservation and promote sustainable livelihoods. © 2009 by The Association for Tropical Biology and Conservation.\n",
      "KEYWORDS: Agricultural matrix; Agroecology; Conservation value; Ecosystem services; Remnant vegetation; Restoration; Traditional knowledge\n"
     ]
    },
    {
     "name": "stderr",
     "output_type": "stream",
     "text": [
      "2016-07-27 16:30:00,835 - screen_citations - INFO - 3/10 included, 26/10 excluded\n"
     ]
    },
    {
     "name": "stdout",
     "output_type": "stream",
     "text": [
      "\n",
      "INCLUDE (y/n/u)? n\n",
      "LABELS (separate labels with commas)? \n",
      "\n",
      "TITLE:    A study and development on knowledge, attitude and practice in forest conservation and reforestration of youth in Ban Khao Phra community Nakhon Nayok Province\n",
      "YEAR:     2010.0\n",
      "AUTHORS:  Pinyoanuntapong, B; Singseewo, A; Suparat, B; Thamaseananupap, P\n",
      "ABSTRACT: This research aims at developing the knowledge, the attitude and the practice in the forest conservation and revival of the youths in Baan Khao Phra community, Nakhon Nayok Province employing the mixed method (qualitative and quantitative). The subjects in this research consisted of the leaders of the community who are both officials and villagers knowledgeable and having real practices in the forest area. The 30 officials involved from the Office of Natural Resource and Environment in Nakhon Nayok province are obtained by means of snow ball sampling and the sample group for the training course is 30 youths who are students studying in a secondary school level. The package of the training course was evaluated by means of enquiry, interview and group talk. The data derived are analyzed by means of descriptive statistic; percentage, mean, standard deviation and inferential statistic; testing the hypotheses using ANNOVA with repeated measure: one between two within. The results were found accordingly. The problems happened to the forest in Baan Khao Phra community are mostly caused by the actions of the villagers: forested items collecting, animals hunting, forest area pioneering and deforestation. These yield both the indirect and indirect effects on the forest itself but the most important cause for deforestation is attributed to human beings' lack of knowledge, understanding, mutual participation and responsibility to conserve the forest. Despite the accumulated and passed over wisdom of the community to sustain lives on the benefits from the forest, the mutual participation of the villagers who tie to the forest is necessary to be enhanced to strengthen community for self-reliance. The package of the training course for forest conservation and revival of the youths in Baan Khao Phra community, Nakhon Nayok province, comprises the knowledge, the attitude and behavioral practice to conserve and revive the forest undergone the development based on the studies on thinking, a related theory, a local wisdom for forest resource management and a participatory action research with a try-out to assure a high reliability. The youths' knowledge in the forest conservation and revival before the training is rated moderate and after the training is rated high. By a comparison, the knowledge in the forest conservation and revival of the youth after the training is rated higher than before the training at a significantly statistical level of 0.01. The youth with different genders show no difference in terms of knowledge in overall. The youths' attitude towards the forest conservation and revival is rated at a moderate level and after the training is rated at the same level. By a comparison, the attitude towards the forest conversation and revival after the training is rated higher than before the training at a significantly statistical level of 0.05. The youth with different genders show no difference in terms of knowledge in overall. The youths' behavioral practice in the forest conservation and revival before the training is rated at a moderate level and after the training is rated at the same level. By a comparison, the behavioral practice in the forest conversation and revival after the training is rated higher than before the training at a significantly statistical level of 0.01. The youths with different genders show no differences in terms of knowledge in overall. To sum, the developed package of the training course yielded efficiency, making the youths increase the knowledge, the attitude and leading them to the behavioral practice to conserve and revive the forest. This could be used as a guidance to develop the youths in the terrain of environment studies. Therefore, it should be enhanced and adopted and be applied to another group of youth in other areas. © Medwell Journals, 2010.\n",
      "KEYWORDS: Attitude; Behavior; Community; Conservation; Forest and revival; Knowledge; Practice\n"
     ]
    },
    {
     "name": "stderr",
     "output_type": "stream",
     "text": [
      "2016-07-27 16:30:01,093 - screen_citations - INFO - 3/10 included, 27/10 excluded\n"
     ]
    },
    {
     "name": "stdout",
     "output_type": "stream",
     "text": [
      "\n",
      "INCLUDE (y/n/u)? n\n",
      "LABELS (separate labels with commas)? \n",
      "\n",
      "TITLE:    The scientific basis for the design of landscape sustainability: A conceptual framework for translational landscape research and practice of designed landscapes and the six Es of landscape sustainability\n",
      "YEAR:     2009.0\n",
      "AUTHORS:  Musacchio, L R\n",
      "ABSTRACT: Landscape researchers and practitioners, using the lens of sustainability science, are breaking new ground about how people's behaviors and actions influence the structure, function, and change of designed landscapes in an urbanizing world. The phrase-the scientific basis of the design for landscape sustainability-is used to describe how sustainability science can contribute to translational landscape research and practice about the systemic relationships among landscape sustainability, people's contact with nature, and complex place-based problems. In the first section of this article, important definitions about the scientific basis of the design for landscape sustainability are reviewed including the six Es of landscape sustainability environment, economic, equity, aesthetics, experience, and ethics. A conceptual framework about the six Es of landscape sustainability for designed landscapes is introduced. The interrelatedness, opportunities, contradictions, and limitations of the conceptual framework are discussed in relation to human health/security, ecosystem services, biodiversity, and resource management. The conceptual framework about the six Es of landscape sustainability for designed landscapes follows the tradition in which landscape researchers and practitioners synthesize emerging trends into conceptual frameworks for advancing basic and applied activities. © Springer Science+Business Media B.V. 2009.\n",
      "KEYWORDS: Biodiversity conservation; Complex place-based problems; Coupled human and natural systems; Designed landscapes; Globalization; Human-nature interactions; Landscape sustainability; Sustainability science; Translational landscape research and practice; Urbanization\n"
     ]
    },
    {
     "name": "stderr",
     "output_type": "stream",
     "text": [
      "2016-07-27 16:30:01,349 - screen_citations - INFO - 3/10 included, 28/10 excluded\n"
     ]
    },
    {
     "name": "stdout",
     "output_type": "stream",
     "text": [
      "\n",
      "INCLUDE (y/n/u)? n\n",
      "LABELS (separate labels with commas)? \n",
      "\n",
      "TITLE:    Nature's care: Diarrhea, watershed protection, and biodiversity conservation in Flores, Indonesia\n",
      "YEAR:     2007.0\n",
      "AUTHORS:  Pattanayak, S K; Wendland, K J\n",
      "ABSTRACT: Part of the puzzle surrounding biodiversity loss lies in an incomplete understanding of how humans value the functions and services that flow from biodiversity conservation projects. This paper takes a closer look at the links between the conservation of biodiversity and the livelihoods of rural people who live on the fringes of the parks and protected areas. We revisit some of the key aspects of ecosystem valuation-purpose, methodology, and policy design and implementation-because the links between biodiversity conservation, ecosystem services, and human welfare are obscured by considerable smoke and mirrors. Using a biodiversity conservation project (Ruteng Park) on Flores Island in Indonesia as a case study, we build a concrete empirical example of ecosystem valuation. This conservation project has resulted in spatially patchy watershed protection that allows us to identify and estimate the impacts of watershed services on human health (diarrhea prevalence) in the buffer zone of the park. We conclude by offering a plan of research to improve the design of conservation interventions for protecting biodiversity and providing ecosystem services. These recommendations include developing more conceptual knowledge on the linkages between biodiversity and ecosystem services; scaling up valuation efforts of underappreciated services such as health; shifting focus from valuing services individually to valuing multiple benefits from the same area; and conducting conservation policy experiments to identify causal outcomes (including defensible estimates of ecosystem values). © 2007 Springer Science+Business Media B.V.\n",
      "KEYWORDS: Conservation evaluation; Diarrhea; Eco-epidemiology; Indonesian parks; Watershed protection\n"
     ]
    },
    {
     "name": "stderr",
     "output_type": "stream",
     "text": [
      "2016-07-27 16:30:01,604 - screen_citations - INFO - 3/10 included, 29/10 excluded\n"
     ]
    },
    {
     "name": "stdout",
     "output_type": "stream",
     "text": [
      "\n",
      "INCLUDE (y/n/u)? n\n",
      "LABELS (separate labels with commas)? \n",
      "\n",
      "TITLE:    Conflicts in natural resource management - Examples from community forestry\n",
      "YEAR:     2006.0\n",
      "AUTHORS:  Uprety, D R\n",
      "ABSTRACT: People everywhere compete for natural resources they need or want to ensure their livelihoods. Such competition for use and access over natural resources result in conflicts. Conflicts also emerge from differing cultural values, social norms and sanctions connected to access over natural resources. Community Forestry is the collective action of local communities in sustainable forest management and utilization. Since the late 1970s, many countries have been practicing such forest management system and Nepal is a pioneer example where such system has passed three decades. The Master Plan for Forestry Sector of 1988, Forest Act 1993, and Forest Regulation 1995 are the legal instruments to hand over state owned forest to Community Forest Users' Groups (CFUGs) in Nepal. The CFUGs and their national and international networks are the institutional basis for the development of Community Forestry in Nepal. Institutional development of Community Forestry, growing group funding and its utilisation, forest boundaries, group leaders, inclusion and exclusion of users in a CFUG are some of the recent issues for conflicts in Community Forestry. The paper mainly focuses on these conflicts and discusses the relationship among different actors who are involved in Community Forestry. The paper also discusses the impact of Maoist on Community Forestry and the CFUGs' development intervention.\n",
      "KEYWORDS: Community Forestry; Conflicts; Livelihoods; The Maoist Guerillas\n"
     ]
    },
    {
     "name": "stderr",
     "output_type": "stream",
     "text": [
      "2016-07-27 16:30:01,860 - screen_citations - INFO - 3/10 included, 30/10 excluded\n"
     ]
    },
    {
     "name": "stdout",
     "output_type": "stream",
     "text": [
      "\n",
      "INCLUDE (y/n/u)? n\n",
      "LABELS (separate labels with commas)? \n",
      "\n",
      "TITLE:    Ecological structure and functions of biodiversity as elements of its total economic value\n",
      "YEAR:     2000.0\n",
      "AUTHORS:  Fromm, O\n",
      "ABSTRACT: Rational economic decisions regarding the conservation of biodiversity require the consideration of all the benefits generated by this natural resource. Recently a number of categories of values (inherent value, contributory value, indirect value, infrastructure value, primary value) have been developed, especially in the literature of Ecological Economics, which, besides the individual and productive benefits of biodiversity, also include the utilitarian relevance of the ecological structure and functions of biodiversity in the, so-called, total economic value. For the question of including the ecological structure and functions of biodiversity in the total economic value it is of crucial importance to note, that these categories of values are not only terminologically different, but also relate to different ecological levels of biodiversity and - most importantly - to specific complementary relationships - between species, between elements of ecological structures and between ecological functions and their contribution to human well-being. This paper analyses these complementary relationships, discusses their implications for the total economic value of biodiversity and draws conclusions for decision making in environmental policy. Rational economic decisions regarding the conservation of biodiversity require the consideration of all the benefits generated by this natural resource. Recently a number of categories of values (inherent value, contributory value, indirect value, infrastructure value, primary value) have been developed, especially in the literature of Ecological Economics, which, besides the individual and productive benefits of biodiversity, also include the utilitarian relevance of the ecological structure and functions of biodiversity in the, so-called, total economic value. For the question of including the ecological structure and functions of biodiversity in the total economic value it is of crucial importance to note, that these categories of values are not only terminologically different, but also relate to different ecological levels of biodiversity and - most importantly - to specific complementary relationships - between species, between elements of ecological structures and between ecological functions and their contribution to human well-being. This paper analyses these complementary relationships, discusses their implications for the total economic value of biodiversity and draws conclusions for decision making in environmental policy. The economic relevance of the ecological structure and functions of biodiversity is examined. The components of the total economic value of biodiversity are elucidated, including production values, individual values, and the ecological importance of biodiversity as a component of the total economic value. The structure and functions of ecosystems as an element of total economic value are then considered, looking at the complementary relationships of species within the interdependencies of species diversity, the complementary relationships of ecological structure components of ecosystems, and the complementary relationship of ecological functions of ecosystems and economic services.\n",
      "KEYWORDS: Biodiversity; Cost-benefit-analysis; Ecological functions; Ecological structure; Ignorance; Nonsubstitutability; Safe minimum standard; Total economic value\n"
     ]
    },
    {
     "name": "stderr",
     "output_type": "stream",
     "text": [
      "2016-07-27 16:30:02,117 - screen_citations - INFO - 3/10 included, 31/10 excluded\n"
     ]
    },
    {
     "name": "stdout",
     "output_type": "stream",
     "text": [
      "\n",
      "INCLUDE (y/n/u)? n\n",
      "LABELS (separate labels with commas)? \n",
      "\n",
      "TITLE:    Tourism and biodiversity conservation: The case of community-based natural resource management in Southern Africa\n",
      "YEAR:     2013.0\n",
      "AUTHORS:  Kolawole, O D; Mbaiwa, J E\n",
      "ABSTRACT: This review analyses the potential of tourism to contribute to biodiversity conservation with particular reference to developing countries. In the last quarter of a century, there has been a global concern about the extent of biodiversity decline. Biodiversity decline is partly a result of the overutilization of resources by local communities who live in resource-rich areas. This review makes use of published and unpublished articles and reports on community-based approaches to biodiversity conservation. Focus was paid to the role that community-based or integrated approaches play in the promotion of biodiversity conservation. The review indicates that where community-based tourism projects are being undertaken, they have mixed results. That is, some projects have collapsed, while others are succeeding in generating the expected economic benefits such as income, employment and funds used for community projects. The Southern African countries of Botswana, Namibia and Zimbabwe have been implementing community-based tourism projects for almost two decades. Economic benefits from tourism contribute to poverty alleviation and improved livelihoods. In the process, local communities have developed positive attitudes towards biodiversity, and hence are more inclined to use such resources sustainably. The paper concludes that tourism could serve as a potential tool for stimulating biodiversity conservation and rural development not only in developing countries but also in other similar social-ecological contexts. © CAB International 2013.\n",
      "KEYWORDS: Biodiversity; Community-based natural resource management; Conservation; Integrated approaches; Rural development\n"
     ]
    },
    {
     "name": "stderr",
     "output_type": "stream",
     "text": [
      "2016-07-27 16:30:02,374 - screen_citations - INFO - 3/10 included, 32/10 excluded\n"
     ]
    },
    {
     "name": "stdout",
     "output_type": "stream",
     "text": [
      "\n",
      "INCLUDE (y/n/u)? n\n",
      "LABELS (separate labels with commas)? \n",
      "\n",
      "TITLE:    Ten years of adaptive community-governed conservation: Evaluating biodiversity protection and poverty alleviation in a West African hippopotamus reserve\n",
      "YEAR:     2010.0\n",
      "AUTHORS:  Mason, J J; McPherson, J M; Moehrenschlager, A; Sheppard, D J\n",
      "ABSTRACT: Community-based natural resource management has been accused of failing on social, economic or ecological grounds. Balanced assessments are rare, however, particularly in West Africa. This paper examines the first 10 years of Ghana's Wechiau Community Hippo Sanctuary using an evaluation framework that considers socioeconomic and ecological outcomes, as well as resilience mechanisms. Building upon traditional taboos against the killing of hippopotami, this initiative has attempted to conserve an imperilled large mammal, protect biodiversity and alleviate abject poverty amidst a bush meat crisis and complex ethnic diversity. Findings show that the Sanctuary has improved local livelihoods by spurring economic diversification and infrastructure development rates 2-8 times higher than in surrounding communities. Simultaneously, threats to biodiversity have subsided, hippopotamus numbers have remained stable and the Sanctuary's riparian habitats now harbour more bird species than comparable areas nearby. Improved social capital, true empowerment, an equitable distribution of benefits, ecological awareness among children and support for the Sanctuary, even amongst community members who were disadvantaged by its creation, speak to good long-term prospects. Risks remain, some of which are beyond the community's control, but evidence of socioecological resilience suggests that capacity exists to buffer risks and foster sustainability. Lessons learnt at Wechiau translate into recommendations for the planning, implementation and evaluation of future community-based conservation initiatives, including greater interdisciplinary integration and the use of adaptive co-management approaches. © Foundation for Environmental Conservation 2010.\n",
      "KEYWORDS: Ghana; Hippopotamus amphibius; community-based natural resource management; displacement; ecosystem services; ecotourism; local empowerment; socioecological resilience; socioeconomic outcomes; sustainability\n"
     ]
    },
    {
     "name": "stderr",
     "output_type": "stream",
     "text": [
      "2016-07-27 16:30:02,629 - screen_citations - INFO - 3/10 included, 33/10 excluded\n"
     ]
    },
    {
     "name": "stdout",
     "output_type": "stream",
     "text": [
      "\n",
      "INCLUDE (y/n/u)? n\n",
      "LABELS (separate labels with commas)? \n",
      "\n",
      "TITLE:    Synergy between traditional ecological knowledge and conservation science supports forest preservation in Ecuador\n",
      "YEAR:     2003.0\n",
      "AUTHORS:  Becker, C D; Ghimire, K\n",
      "ABSTRACT: Meeting the desires of individuals while sustaining ecological \"public goods\" is a central challenge in natural resources conservation. Indigenous communities routinely make common property decisions balancing benefits to individuals with benefits to their communities. Such traditional knowledge offers insight for conservation. Using surveys and field observations, this case study examines aspects of indigenous institutions and ecological knowledge used by rural Ecuadorians to manage a forest commons before and after interacting with two U.S.-based conservation NGOs: Earthwatch Institute and People Allied for Nature. The rural farming community of Loma Alta has legal property rights to a 6842-ha watershed in western Ecuador. This self-governing community curtailed destruction of their moist forest commons, but not without the influence of modern scientific ecological knowledge. When Earthwatch Institute scientists provided evidence that forest clearing would reduce water supply to the community, villagers quickly modified land allocation patterns and set rules of use in the forest establishing the first community-owned forest reserve in western Ecuador. This case demonstrates that synergy between traditional knowledge and western knowledge can result in sustaining both ecosystem services and biodiversity in a forest commons. Copyright © 2003 by the author(s). Published here under licence by The Resilience Alliance.\n",
      "KEYWORDS: \n"
     ]
    },
    {
     "name": "stderr",
     "output_type": "stream",
     "text": [
      "2016-07-27 16:30:02,887 - screen_citations - INFO - 4/10 included, 33/10 excluded\n"
     ]
    },
    {
     "name": "stdout",
     "output_type": "stream",
     "text": [
      "\n",
      "INCLUDE (y/n/u)? y\n",
      "LABELS (separate labels with commas)? \n",
      "\n",
      "TITLE:    A species approach to marine ecosystem conservation\n",
      "YEAR:     2007.0\n",
      "AUTHORS:  Campagna, C; Coppolillo, P B; Croxall, J P; Falabella, V; Piola, A R; Sanderson, E W; Strindberg, S\n",
      "ABSTRACT: 1. The concept of integrated ecosystem conservation is widely supported as a framework to achieve sustainable management of biodiversity. However, paucity of data and limited methodological tools reduce its application in approaches that integrate scientific knowledge, enhance international cooperation, and promote a rationale that appeals to stakeholders. 2. The landscape species concept (LS), a species-based conservation planning tool developed for patterns and processes of terrestrial conservation, is applied to the Extended Patagonian Marine Ecosystem (E-PME) in the SW Atlantic. The E-PME encompasses the Patagonian continental shelf, shelf break front and part of the Argentine Basin (ca. 3 000 000 km 2). 3. This ecosystem is influenced by oceanographic patterns of currents and bathymetry as well as by the overlapping geographies of national and international conventions, including those that govern use of the High Seas. The interactions of these oceanographic and jurisdictional structures, and the distribution and seasonal movements of biological species, drive present conservation opportunities and threats. 4. Here, an analysis of 33 candidate species in terms of their area requirements, heterogeneity of their habitat use, vulnerability to threats, ecological functions, and socioeconomic importance is reported, and a suite of 'seascape species' is developed around which to build conservation efforts. Preliminary geographic representations of the human and biological aspects of the seascape are provided, and how their spatial intersection affects conservation approaches is discussed. 5. The application of a focal species approach in an ecosystem framework complements space-habitat perspectives (e.g. the Large Marine Ecosystem concept) and may lead to more efficient planning of marine protected areas. Copyright © 2008 John Wiley &amp; Sons, Ltd.\n",
      "KEYWORDS: Ecosystem-based management; Large marine ecosystems; Marine conservation planning; Marine protected areas\n"
     ]
    },
    {
     "name": "stderr",
     "output_type": "stream",
     "text": [
      "2016-07-27 16:30:03,144 - screen_citations - INFO - 4/10 included, 34/10 excluded\n"
     ]
    },
    {
     "name": "stdout",
     "output_type": "stream",
     "text": [
      "\n",
      "INCLUDE (y/n/u)? n\n",
      "LABELS (separate labels with commas)? \n",
      "\n",
      "TITLE:    Incorporating indirect ecosystem services into marine protected area planning and management\n",
      "YEAR:     2012.0\n",
      "AUTHORS:  Attrill, M J; Austen, M C; Rees, S E; Rodwell, L D\n",
      "ABSTRACT: Marine Protected Areas (MPAs) are recognised as being the mechanism through which marine ecosystem services may be conserved to benefit human well-being. Planning and decision-making can be supported by the quantification and valuation of ecosystem services. To inform the development and management of MPAs a service-orientated framework has been developed to use available data to spatially map and explore the pathways between ecosystem services, processes and the ecological functioning of benthic species for indirect ecosystem service provision within a case study area. The framework demonstrates that ecosystem service delivery is functionally interlinked and ecological function cannot be clearly mapped onto individual ecosystem services. The methodology developed here enables decision-makers to understand the links between benthic species, ecological function and indirect ecosystem services. There is currently no measure to quantify how much function is required to maintain human well-being. This lack of a measure, coupled with a large amount of uncertainty surrounding the links between ecosystem function and ecosystem service provision in marine systems, demonstrates that the inclusion of percentage targets for the conservation of broad-scale habitats in MPA planning and management should be considered within a precautionary approach to maintain the delivery of indirect ecosystem services. © 2012 Copyright Taylor and Francis Group, LLC.\n",
      "KEYWORDS: MPA; biological traits analysis; ecosystem function; marine spatial planning; service-orientated framework\n"
     ]
    },
    {
     "name": "stderr",
     "output_type": "stream",
     "text": [
      "2016-07-27 16:30:03,400 - screen_citations - INFO - 4/10 included, 35/10 excluded\n"
     ]
    },
    {
     "name": "stdout",
     "output_type": "stream",
     "text": [
      "\n",
      "INCLUDE (y/n/u)? n\n",
      "LABELS (separate labels with commas)? \n",
      "\n",
      "TITLE:    Impact of participatory forestry program on sustainable rural livelihoods: Lessons from an Indian province\n",
      "YEAR:     2012.0\n",
      "AUTHORS:  Das, N\n",
      "ABSTRACT: This paper examines how rural livelihoods are improved owing to the impact of policy interventions through community-driven forest management in West Bengal, India. As an instance of comparative analysis of a gender-sensitive forestry program, this study employs the \"sustainable rural livelihoods\" framework to assess any enhancement of livelihood opportunities across various socioeconomic groups in forest fringe areas. In general, robust livelihoods sustainability is found for a pro-poor section of rural households that participated in the forestry program. Amongst participants, however, especially the feminine units attain more favorable livelihoods outcome. Conversely, the program's eschewed households are behind sustainable livelihoods. It is therefore early need to expand the participatory forestry program for sustaining poor households' livelihood security in forest fringe areas of rural India. © The Author(s) 2012. Published by Oxford University Press, on behalf of Agricultural and Applied Economics Association. All rights reserved.\n",
      "KEYWORDS: Bengal forest resource; Gender-sensitive community groups; Joint forest management; Rural livelihood capitals; Sustainable livelihoods framework\n"
     ]
    },
    {
     "name": "stderr",
     "output_type": "stream",
     "text": [
      "2016-07-27 16:30:03,656 - screen_citations - INFO - 5/10 included, 35/10 excluded\n"
     ]
    },
    {
     "name": "stdout",
     "output_type": "stream",
     "text": [
      "\n",
      "INCLUDE (y/n/u)? y\n",
      "LABELS (separate labels with commas)? \n",
      "\n",
      "TITLE:    Meeting ecological and societal needs for freshwater\n",
      "YEAR:     2002.0\n",
      "AUTHORS:  Angermeier, P L; Baron, J S; Dahm, C N; Gleick, P H; Hairston, N G; Jackson, R B; Johnston, C A; Poff, N L; Richter, B D; Steinman, A D\n",
      "ABSTRACT: Human society has used freshwater from rivers, lakes, groundwater,, and wetlands for many different urban, agricultural, and industrial activities, but in doing so has overlooked its value in supporting ecosystems. Freshwater is vital to human life and societal well-being, and thus its utilization for consumption, irrigation, and transport has long taken precedence over other commodities and services provided by freshwater ecosystems. However, there is growing recognition that functionally intact and biologically complex aquatic ecosystems provide many economically valuable services and long-term benefits to society. The short-term benefits include ecosystem goods and services, such as food supply, flood control, purification of human and industrial wastes, and habitat for plant and animal life-and these are costly, if, not impossible, to replace. Long-term benefits include the sustained provision of those goods and services, as well as the adaptive capacity of aquatic ecosystems to respond to future environmental alterations, such as climate change. Thus, maintenance of the processes and properties that support freshwater ecosystem integrity should be included in debates over sustainable water resource allocation. The purpose of this report is to explain how the integrity of freshwater ecosystems depends upon adequate quantity, quality, timing, and temporal variability of water flow. Defining these requirements in a comprehensive but general manner provides a better foundation for their inclusion in current and future debates about allocation of water resources. In this way the needs of freshwater ecosystems can be legitimately recognized and addressed. We also recommend ways in which freshwater ecosystems can be protected, maintained, and restored. Freshwater ecosystem structure and function are tightly linked to the watershed or catchment of which they are a part. Because riverine networks, lakes, wetlands, and their connecting groundwaters, are literally the \"sinks\" into 'Which landscapes drain, they are greatly influenced by terrestrial processes, including many human uses or modifications of land and water. Freshwater ecosystems, whether lakes, wetlands, or rivers, have specific requirements in terms of quantity, quality, and seasonality of their water supplies. Sustainability normally requires these systems to fluctuate within a natural range of variation. Flow regime, sediment and organic matter inputs, thermal and light characteristics, chemical and nutrient characteristics, and biotic assemblages are fundamental defining attributes of freshwater ecosystems. These attributes impart relatively unique characteristics of productivity and biodiversity to each ecosystem. The natural range of variation in each of these attributes is critical to maintaining the integrity and dynamic potential of aquatic ecosystems; therefore, management should allow for dynamic change. Piecemeal approaches cannot solve the problems confronting freshwater ecosystems. Scientific definitions of the requirements to protect and maintain aquatic ecosystems are necessary but insufficient for establishing the appropriate distribution between societal and ecosystem water needs. For scientific knowledge to be implemented science must be connected to a political agenda for sustainable development. We offer these recommendations as. a beginning to redress how water is viewed and managed in the United States: (1) Frame national and regional water management policies to explicitly incorporate freshwater ecosystem needs, particularly those related to naturally variable flow regimes and to the linking of water quality with water quantity; (2) Define water resources to include watersheds, so that freshwaters are viewed within a landscape, or systems context; (3) Increase communication and education across disciplines, especially among engineers, hydrologists, economists, and ecologists to facilitate an integrated view of freshwater resources; (4) Increase restoration efforts, using well-grounded ecological principles as guidelines; (5) Maintain and protect the remaining freshwater ecosystems that have high integrity; and (6) Recognize the dependence of human society on naturally functioning ecosystems.\n",
      "KEYWORDS: COLORADO-RIVER DELTA; ECOSYSTEM MANAGEMENT; FISH; FOOD WEBS; LAKE; PERSPECTIVE; RESTORATION; UNITED-STATES; WATER; WETLANDS; ecological education; ecological integrity; ecosystem protection; ecosystem services, freshwater; freshwater ecosystems; lakes; restoration; rivers; water management policy; waterflow : quantity, quality, timing, seasonality; watersheds; wetlands\n"
     ]
    },
    {
     "name": "stderr",
     "output_type": "stream",
     "text": [
      "2016-07-27 16:30:03,914 - screen_citations - INFO - 5/10 included, 36/10 excluded\n"
     ]
    },
    {
     "name": "stdout",
     "output_type": "stream",
     "text": [
      "\n",
      "INCLUDE (y/n/u)? n\n",
      "LABELS (separate labels with commas)? \n",
      "\n",
      "TITLE:    Role of women in the household economy, food production and food security: Policy guidelines\n",
      "YEAR:     2003.0\n",
      "AUTHORS:  Kotzé, D A\n",
      "ABSTRACT: How to assist the rural poor to enhance their livelihoods and food security in a sustainable way is one of the greatest challenges we face. Food security strategies should be based on the premise that food insecurity and famine derive from failure of access to food rather than global food shortage. Food security is mainly about the access of poor households to food and about how political, economic and social factors affect households' food security. In this article, the relationship between hunger and poverty, the meaning of food security and sustainable livelihood security are explored. The article focuses on food security as one of the important elements of sustainable livelihood approaches, analysing the role of women in the household economy, food production and ultimately food security. Finally it assesses policy guidelines for promoting these approaches.\n",
      "KEYWORDS: Food security; HIV/AIDS; Household economy; Policy guidelines; Role of gender; Sustainable livelihood security\n"
     ]
    },
    {
     "name": "stderr",
     "output_type": "stream",
     "text": [
      "2016-07-27 16:30:04,172 - screen_citations - INFO - 5/10 included, 37/10 excluded\n"
     ]
    },
    {
     "name": "stdout",
     "output_type": "stream",
     "text": [
      "\n",
      "INCLUDE (y/n/u)? n\n",
      "LABELS (separate labels with commas)? \n",
      "\n",
      "TITLE:    Ecosystem services and food security: Economic perspectives on environmental sustainability\n",
      "YEAR:     2010.0\n",
      "AUTHORS:  Richardson, R B\n",
      "ABSTRACT: Food security in developing countries depends in part on the sustainable use of natural resources. Food security is usually examined through three dimensions, namely the availability, access, and utilization of food. Ecosystems directly and indirectly support each of these dimensions through the provision of critical ecosystem services that facilitate agricultural production, create income-generating opportunities, and provide energy for cooking. However, in some cases, household uses of natural resources undermine particular elements of food security, hindering national poverty reduction strategies and threatening the sustainability of critical ecosystem functions. I examine the role of ecosystem services in rural food security through the lens of its three dimensions, and highlight the tensions that stem from household-level interactions and uses. In some cases, uses of resources and services that support the access and utilization dimensions may undermine the ecosystem functions that support food availability. The conclusions underscore the importance for the integration of ecosystem services into food security plans and poverty reduction strategies in developing countries. © 2010 by the authors.\n",
      "KEYWORDS: Ecosystem services; Environmental sustainability; Food security; International development\n"
     ]
    },
    {
     "name": "stderr",
     "output_type": "stream",
     "text": [
      "2016-07-27 16:30:04,430 - screen_citations - INFO - 5/10 included, 38/10 excluded\n"
     ]
    },
    {
     "name": "stdout",
     "output_type": "stream",
     "text": [
      "\n",
      "INCLUDE (y/n/u)? n\n",
      "LABELS (separate labels with commas)? \n",
      "\n",
      "TITLE:    Ecosystems, Ecosystem Processes and Global Change: Implications for Landscape Design\n",
      "YEAR:     2008.0\n",
      "AUTHORS:  Manning, A D\n",
      "ABSTRACT: Ecosystems are dynamic in time and space and are complex and adaptive. Human-induced global change has caused, and is causing, major changes to ecosystem structure, function and species composition. Ecosystem processes include energy flows, nutrient and hydrological cycles, and biotic interactions and they are structured by ecosystem components such as internal and external disturbances, trophic cascades and interactions, functional groups and keystone species. Humans depend on vital ecosystem services derived from ecosystem processes and functions. Global change can reduce resilience and cause regime shifts in ecosystems and is having a profound effect on organisms, processes and ecosystems. To meet the challenges of global change and its effects on ecosystems and ecosystem processes, eight principles are suggested for landscape design: (i) consider the human - Earth relationship; (ii) protect what is already there; (iii) build and enhance resilience; (iv) restore ecosystems; (v) enhance 'landscape fluidity'; (vi) use stretch-goals to achieve ambitious conservation targets; (vii) implement long-term research and monitoring; and (viii) use predictive modelling to anticipate species' responses and plan conservation and ecological restoration. © 2007 Blackwell Publishing Ltd.\n",
      "KEYWORDS: Biotic interactions; Ecosystem management; Ecosystem processes; Ecosystem services; Ecosystem structure; Ecosystems; Global change; Landscape design\n"
     ]
    },
    {
     "name": "stderr",
     "output_type": "stream",
     "text": [
      "2016-07-27 16:30:04,685 - screen_citations - INFO - 5/10 included, 39/10 excluded\n"
     ]
    },
    {
     "name": "stdout",
     "output_type": "stream",
     "text": [
      "\n",
      "INCLUDE (y/n/u)? n\n",
      "LABELS (separate labels with commas)? \n",
      "\n",
      "TITLE:    Attitudes and local ecological knowledge of experts fishermen in relation to conservation and bycatch of sea turtles (reptilia: Testudines), Southern Bahia, Brazil\n",
      "YEAR:     2013.0\n",
      "AUTHORS:  Braga, H D O; Schiavetti, A\n",
      "ABSTRACT: Background: The use of ethnoecological tools to evaluate possible damage and loss of biodiversity related to the populations of species under some degree of threat may represent a first step towards integrating the political management of natural resources and conservation strategies. From this perspective, this study investigates fishermen's ecological knowledge about sea turtles and attitudes towards the conservation and bycatch in Ilhéus, Southern Bahia, Brazil.Methods: Fishermen experts semi-structured interviews were performed using snowball sampling method. The interviews consisted of a series of questions relating to the fishermen's profile, structure and work equipment, the local ecological knowledge of fishermen about sea turtles and bycatch, a projective test, attitudes towards turtle conservation and beliefs and taboos regarding turtles. Indicators for quantitative comparisons of respondents in terms of their broad knowledge and attitudes towards turtle conservation were created. Correlation analyses were made between indicators of knowledge and attitude as well as the relationship between education level and knowledge and attitudes.Results: Thirty experts were interviewed for the study. The local ecological knowledge and attitudes of fishermen towards the conservation of sea turtles were respectively medium (0.43) and moderate (0.69) according to experts (based on Likert scale and Cronbach's Alpha). Potential areas of spawning were reported from Barra Grande to Una covering the entire coast of Ilhéus. Methods for identifying the animal, behavior, and popular names were described by fishermen. The most recent captures of turtles were attributed to fishing line, but according to the respondents, lobster nets and shrimp traps are more likely to capture turtles. Knowledge and attitudes were weakly inversely correlated (r = -0.38, p = 0.04), and the education level of the respondent showed a positive correlation with positive attitudes towards turtle conservation (H = 8.33; p = 0.04). Life history, habitat, specific and exogenous taboos, beliefs and the use of hawksbill turtle to make glasses and other handcrafts are also reported in the study.Conclusions: Monitoring of spawning areas, preservation of traditional practices, strategies to moderate the use of fishery resources and the local ecological knowledge/attitudes can provide data to improve the conservation practices and management of sea turtles. © 2013 Braga and Schiavetti; licensee BioMed Central Ltd.\n",
      "KEYWORDS: Marine conservation; Marine turtle; Taboos\n"
     ]
    },
    {
     "name": "stderr",
     "output_type": "stream",
     "text": [
      "2016-07-27 16:30:04,942 - screen_citations - INFO - 5/10 included, 40/10 excluded\n"
     ]
    },
    {
     "name": "stdout",
     "output_type": "stream",
     "text": [
      "\n",
      "INCLUDE (y/n/u)? n\n",
      "LABELS (separate labels with commas)? \n",
      "\n",
      "TITLE:    Coastal community resilience: Analysis of resilient elements in 3 districts of Tamil Nadu State, India\n",
      "YEAR:     2012.0\n",
      "AUTHORS:  Edward, J K P; Guleria, S\n",
      "ABSTRACT: India has a long coastline of about 7,517 km. with 20% occupying the coastal area. Due to increase in population; people have been exploring the possibility of developmental opportunities in the coastal areas. Tsunami in 2004 was another unexpected natural catastrophe which badly affected many South Indian coastal states especially the state of Tamil Nadu. Coastal communities here are increasingly at risk from many chronic and episodic coastal hazards which threaten the health and stability of coastal ecosystems and communities. The degradation of the coastal environment from chronic human-induced actions threaten food security, livelihoods, the overall economic development and well being of coastal communities. Disasters big or small affecting the coastal communities are reminders that, coastal communities are not resilient to normally recurring hazards. This fact has raised the question of developing community resilience since the most effective approach to reducing the long-term impact of coastal hazards would be to enhance capacities of coastal communities through initiatives which are aimed at ensuring a sustainable recovery in the aftermath of a disaster as well as reducing people's vulnerability to these disasters. Eight elements of resilience i. e., Governance, Coastal Resource Management, Land Use and Structural Design, Society and Economy, Risk Knowledge, Warning and Evacuation, Emergency Response and Disaster Recovery have been identified which are considered essential to reduce risk from coastal hazards, accelerate recovery from disaster events, and adapt to changing conditions by the affected community. In this paper, all the eight resilience elements have been examined with respect to vulnerability and capacity assessment in selected Tsunami (2004) affected districts in the state of Tamil Nadu, India in order to identify the extent of resilience. © 2011 Springer Science+Business Media B.V.\n",
      "KEYWORDS: Coastal risks; Resilience elements; Vulnerability and capacity assessment\n"
     ]
    },
    {
     "name": "stderr",
     "output_type": "stream",
     "text": [
      "2016-07-27 16:30:05,199 - screen_citations - INFO - 5/10 included, 41/10 excluded\n"
     ]
    },
    {
     "name": "stdout",
     "output_type": "stream",
     "text": [
      "\n",
      "INCLUDE (y/n/u)? n\n",
      "LABELS (separate labels with commas)? \n",
      "\n",
      "TITLE:    Changes in resident attitudes towards tourism development and conservation in the Okavango Delta, Botswana\n",
      "YEAR:     2011.0\n",
      "AUTHORS:  Mbaiwa, J E; Stronza, A L\n",
      "ABSTRACT: Negative attitudes of resident communities towards conservation are associated with resource decline in developing countries. In Botswana, Community-Based Natural Resource Management (CBNRM) was adopted to address this challenge. CBNRM links rural development and conservation. However, the impact of CBNRM on changes of resident attitudes towards conservation and tourism is not adequately researched. This paper, therefore, assesses the impacts of CBNRM on resident attitudes towards tourism development and conservation in the Okavango Delta, Botswana. The study purposively sampled villages of Khwai, Mababe and Sankoyo. Household data using variables like: economic benefits from CBNRM; level of satisfaction with CBNRM; co-management of natural resources between resident communities and government agencies; and collective action was collected. This data was supplemented by secondary and ethnographic data. Using qualitative and quantitative analysis, results indicate changes in resident attitudes from being negative to positive towards tourism and conservation. These changes are triggered by economic benefits residents derived from CBNRM, co-management in resource management; and, collective action of communities in CBNRM development. Positive attitudes towards conservation and tourism are the first building blocks towards achieving conservation in nature-based tourism destinations. As a result, decision-makers should give priority to CBNRM and use it as a tool to achieve conservation and improved livelihoods in nature-based tourism destinations of developing countries. © 2011 Elsevier Ltd.\n",
      "KEYWORDS: Attitudes; Community-based natural resource management; Conservation; Tourism development\n"
     ]
    },
    {
     "name": "stderr",
     "output_type": "stream",
     "text": [
      "2016-07-27 16:30:05,457 - screen_citations - INFO - 5/10 included, 42/10 excluded\n"
     ]
    },
    {
     "name": "stdout",
     "output_type": "stream",
     "text": [
      "\n",
      "INCLUDE (y/n/u)? n\n",
      "LABELS (separate labels with commas)? \n",
      "\n",
      "TITLE:    The role of community participation in the effectiveness of UNESCO Biosphere Reserve management: Evidence and reflections from two parallel global surveys\n",
      "YEAR:     2010.0\n",
      "AUTHORS:  De La Vega-Leinert, A C; Schultz, L; Stoll-Kleemann, S\n",
      "ABSTRACT: Biodiversity management has traditionally followed two contradictory approaches. One champions ecosystem protection through rigorous law enforcement and exclusion of humans. The other promotes community-based sustainable use of natural resources. Participatory conservation, a major paradigm shift, nowadays strongly guides the concept of UNESCO Biosphere Reserves (BRs). In this paper, the rationale for community participation, and the perception of its effectiveness among BR managers are analysed. Within the World Network of BRs (553 sites in 107 countries) diverse participatory approaches are being tried to advance community-based natural resource management (CBNRM). Data from two parallel surveys, involving managers from 276 BRs worldwide, reveal how far this participation paradigm shift has really occurred, and its influence on managers' self-evaluated effectiveness. There is substantial regional disparity, although in general BR managers endorse inclusive conservation, despite critical implementation hurdles. The process of participatory conservation carries new dangers for effective biosphere reserve management, when the aspirations of communities and other stakeholders do not 'fit' with a predetermined interpretation of sustainable development. © Foundation for Environmental Conservation 2010.\n",
      "KEYWORDS: CBNRM; UNESCO Biosphere Reserves; community participation; community-based natural resource management; protected area management effectiveness; sustainable development of natural resources and communities\n"
     ]
    },
    {
     "name": "stderr",
     "output_type": "stream",
     "text": [
      "2016-07-27 16:30:05,716 - screen_citations - INFO - 5/10 included, 43/10 excluded\n"
     ]
    },
    {
     "name": "stdout",
     "output_type": "stream",
     "text": [
      "\n",
      "INCLUDE (y/n/u)? n\n",
      "LABELS (separate labels with commas)? \n",
      "\n",
      "TITLE:    Local Knowledge and Conservation of Seagrasses in the Tamil Nadu State of India\n",
      "YEAR:     2011.0\n",
      "AUTHORS:  Berg, K J; Newmaster, A F; Newmaster, S G; Palanisamy, M; Ragupathy, S; Sambandan, K\n",
      "ABSTRACT: Local knowledge systems are not considered in the conservation of fragile seagrass marine ecosystems. In fact, little is known about the utility of seagrasses in local coastal communities. This is intriguing given that some local communities rely on seagrasses to sustain their livelihoods and have relocated their villages to areas with a rich diversity and abundance of seagrasses. The purpose of this study is to assist in conservation efforts regarding seagrasses through identifying Traditional Ecological Knowledge (TEK) from local knowledge systems of seagrasses from 40 coastal communities along the eastern coast of India. We explore the assemblage of scientific and local traditional knowledge concerning the 1. classification of seagrasses (comparing scientific and traditional classification systems), 2. utility of seagrasses, 3. Traditional Ecological Knowledge (TEK) of seagrasses, and 4. current conservation efforts for seagrass ecosystems. Our results indicate that local knowledge systems consist of a complex classification of seagrass diversity that considers the role of seagrasses in the marine ecosystem. This fine-scaled ethno-classification gives rise to five times the number of taxa (10 species = 50 local ethnotaxa), each with a unique role in the ecosystem and utility within coastal communities, including the use of seagrasses for medicine (e.g., treatment of heart conditions, seasickness, etc.), food (nutritious seeds), fertilizer (nutrient rich biomass) and livestock feed (goats and sheep). Local communities are concerned about the loss of seagrass diversity and have considerable local knowledge that is valuable for conservation and restoration plans. This study serves as a case study example of the depth and breadth of local knowledge systems for a particular ecosystem that is in peril.Key words: local health and nutrition, traditional ecological knowledge (TEK), conservation and natural resources management, consensus, ethnomedicine, ethnotaxa, cultural heritage. © 2011 Newmaster et al; licensee BioMed Central Ltd.\n",
      "KEYWORDS: \n"
     ]
    },
    {
     "name": "stderr",
     "output_type": "stream",
     "text": [
      "2016-07-27 16:30:05,975 - screen_citations - INFO - 5/10 included, 44/10 excluded\n"
     ]
    },
    {
     "name": "stdout",
     "output_type": "stream",
     "text": [
      "\n",
      "INCLUDE (y/n/u)? n\n",
      "LABELS (separate labels with commas)? \n",
      "\n",
      "TITLE:    Food security and the Coral Triangle Initiative\n",
      "YEAR:     2012.0\n",
      "AUTHORS:  Adhuri, D; Aliño, P; Allison, E H; Andrew, N; Cohen, P; Evans, L; Fabinyi, M; Fidelman, P; Foale, S; Gregory, C; Stacey, N; Tanzer, J; Weeratunge, N\n",
      "ABSTRACT: The Asia-Pacific's Coral Triangle is defined by its extremely high marine biodiversity. Over one hundred million people living in its coastal zones use this biodiversity to support their livelihoods. Hundreds of millions more derive nutritious food directly from the region′s marine resources and through local, regional and global trade. Biodiversity and its values to society are threatened by demographic and habitat change, rising demand, intensive harvesting and climate change. In partnership with international conservation organisations and development funders, the governments of the region′s six countries have come together to develop the Coral Triangle Initiative (CTI) on Coral Reefs, Fisheries and Food Security. The CTI has explicit goals and defined targets for marine biodiversity conservation, but not for the food security of the region′s marine-resource dependent people, despite this being the wider aim used to justify conservation action. This article suggests how the food security aim of the CTI could be made more explicit. It outlines the complex pathways linking marine biodiversity with food security and argues that improved social science analysis, inter-sectoral policy and management interactions are necessary if conserving marine biodiversity is to contribute towards meeting food security challenges in the region. © 2012 Elsevier Ltd. All rights reserved.\n",
      "KEYWORDS: Coral reef; Economic development; Ecosystem approach to fisheries management; Fishery management; Marine protected area; Poverty\n"
     ]
    },
    {
     "name": "stderr",
     "output_type": "stream",
     "text": [
      "2016-07-27 16:30:06,234 - screen_citations - INFO - 6/10 included, 44/10 excluded\n"
     ]
    },
    {
     "name": "stdout",
     "output_type": "stream",
     "text": [
      "\n",
      "INCLUDE (y/n/u)? y\n",
      "LABELS (separate labels with commas)? \n",
      "\n",
      "TITLE:    Conserving the Himalayan forests: Approaches and implications of different conservation regimes\n",
      "YEAR:     2007.0\n",
      "AUTHORS:  Kaechele, H; Nautiyal, S\n",
      "ABSTRACT: The conservation of Himalayan forests is big concern in view of global agenda. Many studies in this endeavor reported that the rate of forests degradation is posing a severe threat to the landscape and existing biodiversity in the Himalayas. Currently there many conservation approaches exists and of them four are widely recognized (1) Conservation through traditional religious beliefs \"traditional conserved forests\" (TCF); (2) Conservation through governmental planning and schemes \"government conserved forests\" (GCF); (3) Conservation through creation of protected areas (PAF); and (4) Conservation through community efforts \"community conserved forests\" (CCF). Our hypothesis in this direction says that all the conservation approaches lead to same results concerning to forest conservation. To testify our hypothesis we have studied the forests of each conservation regimes and evaluated them based on the identified indicators. We have done empirical studies and following the cloud-free satellite data were used for last three decades (such as Multi-Spectral Scanner, Linear Imaging and Self Scanning, and Enhanced Thematic Mapper ) to study a change in vegetation dynamics of the mountain forests in multi-temporal dimension. Our research concluded that community conservation approach have greater significance for biodiversity conservation and management in the Himalayan region. Here we support the model of CCF for forest ecosystem conservation, alongside the sustainable livelihood of the mountain societies. But every conservation regimes has its own importance in viewpoint of the particular objectives. Therefore, we suggests advancement and revision of PAF and GCF however, some elements of CCF can be introduced in TCF for making up it more sound in view of rapid socio-economic and cultural changes taking place in the communities. © 2007 Springer Science+Business Media, Inc.\n",
      "KEYWORDS: Conservation regimes; Diversity; Empirical study; Forests; Himalaya; Land cover; Management; Remote sensing; Sustainable development\n"
     ]
    },
    {
     "name": "stderr",
     "output_type": "stream",
     "text": [
      "2016-07-27 16:30:06,491 - screen_citations - INFO - 6/10 included, 45/10 excluded\n"
     ]
    },
    {
     "name": "stdout",
     "output_type": "stream",
     "text": [
      "\n",
      "INCLUDE (y/n/u)? n\n",
      "LABELS (separate labels with commas)? \n",
      "\n",
      "TITLE:    Ecosystem stability and resilience: A review of their relevance for the conservation management of lowland heaths\n",
      "YEAR:     2000.0\n",
      "AUTHORS:  Auld, M H D; Le Duc, M G; Mitchell, R J; Robert, M H\n",
      "ABSTRACT: Ecosystem stability and the response of ecosystems to disturbance are of crucial importance for conservation management, especially when the object is to maintain and/or to restore early-successional communities. This paper provides a selective review of ecosystem stability from a conservation perspective. Existing models of ecosystem resilience are discussed in relation to the management of successional habitats. A multivariate model for measuring stability and resilience based on Canonical Correspondence Analysis (CCA) is outlined. The criteria for the model to work are explained and the model is tested on vegetation and soil data from the Dorset Heaths. The model provides a mechanism for bringing together measurements of both structure (species composition) and function (ecosystem properties, both biotic and abiotic), to measure stability and resilience of ecosystems. The model can also be used to measure the success of management in restoring communities and to provide information to conservation policy makers and land managers.\n",
      "KEYWORDS: CANOCO; Conservation management; Ecosystem stability; Heathland conservation; Resilience; Resistance\n"
     ]
    },
    {
     "name": "stderr",
     "output_type": "stream",
     "text": [
      "2016-07-27 16:30:06,749 - screen_citations - INFO - 6/10 included, 46/10 excluded\n"
     ]
    },
    {
     "name": "stdout",
     "output_type": "stream",
     "text": [
      "\n",
      "INCLUDE (y/n/u)? n\n",
      "LABELS (separate labels with commas)? \n",
      "\n",
      "TITLE:    Contribution of non-timber forest products to poverty alleviation and forest conservation in Rufiji District - Tanzania\n",
      "YEAR:     2013.0\n",
      "AUTHORS:  Kimaro, J; Lulandala, L\n",
      "ABSTRACT: The study was carried out to determine contribution of Non-timber Forest Products (NTFPs) towards poverty alleviation and sustainable forest management in local communities surrounding Ngumburuni Forest Reserve in Rufiji District, Coastal Region, Tanzania. Data were collected from three villages closest to forest namely Mkupuka, Mangwi and Umwe North using participatory rural appraisal, structured interviews, focused group discussion and participant observation. A total of one hundred and sixty species distributed both in forest reserve and general land were recorded. Local end-uses of NTFPs including fuel wood, food, construction materials, medicine and traditional rites items were identified. This indicated significant contribution of NTFPs to local community income and livelihood resilience and thus, incentive for sustainable forest management. While access to NTFP is important to guarantee the socio-economic well being of the forest adjacent communities, their sustainable management has not been taken seriously by local government officials and policy makers thereby contributing to reduction of biodiversity resources and irretrievable loss of most species. To ensure the sustainable utilization of NTFPs from Ngumburuni Forest Reserve and similar tropical forest environments, a number of conservation approaches are proposed.\n",
      "KEYWORDS: Community; Disturbances; Policy; Resources; Sustainability\n"
     ]
    },
    {
     "name": "stderr",
     "output_type": "stream",
     "text": [
      "2016-07-27 16:30:07,003 - screen_citations - INFO - 7/10 included, 46/10 excluded\n"
     ]
    },
    {
     "name": "stdout",
     "output_type": "stream",
     "text": [
      "\n",
      "INCLUDE (y/n/u)? y\n",
      "LABELS (separate labels with commas)? \n",
      "\n",
      "TITLE:    Ecosystem health and ecological engineering\n",
      "YEAR:     2012.0\n",
      "AUTHORS:  Costanza, R\n",
      "ABSTRACT: Ecosystem health is a desired endpoint of environmental management and should be a primary design goal for ecological engineering. This paper describes ecosystem health as a comprehensive, multiscale, measure of system vigor, organization and resilience. Ecosystem health is thus closely linked to the idea of sustainability, which implies the ability of the system to maintain its structure (organization) and function (vigor) over time in the face of external stress (resilience). To be truly successful, ecological engineering should pursue the broader goal of designing healthy ecosystems, which may be novel assemblages of species that perform desired functions and produce a range of valuable ecosystem services. In this way ecological engineering can achieve its goals, embedded in its definition as the \" design of sustainable ecosystems that integrate human society with its natural environment for the benefit of both.\" It allows the benefits of ecological engineering practices 'to both humans and the rest of nature' to be assessed in an integrated and consistent way that will allow us to build a sustainable and desirable future. © 2012 Elsevier B.V..\n",
      "KEYWORDS: Cultural evolution; Ecosystem health; Ecosystem services; Sustainability\n"
     ]
    },
    {
     "name": "stderr",
     "output_type": "stream",
     "text": [
      "2016-07-27 16:30:07,258 - screen_citations - INFO - 7/10 included, 47/10 excluded\n"
     ]
    },
    {
     "name": "stdout",
     "output_type": "stream",
     "text": [
      "\n",
      "INCLUDE (y/n/u)? n\n",
      "LABELS (separate labels with commas)? \n",
      "\n",
      "TITLE:    Social and ecological resilience: Are they related?\n",
      "YEAR:     2000.0\n",
      "AUTHORS:  Adger, W N\n",
      "ABSTRACT: This article defines social resilience as the ability of groups or communities to cope with external stresses and disturbances as a result of social, political and environmental change. This definition highlights social resilience in relation to the concept of ecological resilience which is a characteristic of ecosystems to maintain themselves in the face of disturbance. There is a clear link between social and ecological resilience, particularly for social groups or communities that are dependent on ecological and environmental resources for their livelihoods. But it is not clear whether resilient ecosystems enable resilient communities in such situations. This article examines whether resilience is a useful characteristic for describing the social and economic situation of social groups and explores potential links between social resilience and ecological resilience. The origins of this interdisciplinary study in human ecology, ecological economics and rural sociology are reviewed, and a study of the impacts of ecological change on a resource-dependent community in contemporary coastal Vietnam in terms of the resilience of its institutions is outlined.\n",
      "KEYWORDS: Cultural geography; Ecological resilience; Human ecology; Resource dependency; Sustainable development\n"
     ]
    },
    {
     "name": "stderr",
     "output_type": "stream",
     "text": [
      "2016-07-27 16:30:07,517 - screen_citations - INFO - 7/10 included, 48/10 excluded\n"
     ]
    },
    {
     "name": "stdout",
     "output_type": "stream",
     "text": [
      "\n",
      "INCLUDE (y/n/u)? n\n",
      "LABELS (separate labels with commas)? \n",
      "\n",
      "TITLE:    Grand challenges for resilience-based management of rangelands\n",
      "YEAR:     2012.0\n",
      "AUTHORS:  Bestelmeyer, B T; Briske, D D\n",
      "ABSTRACT: The social and ecological contexts for rangeland management are changing rapidly, prompting a reevaluation of science, management, and their relationship. We argue that progression from steady-state management to ecosystem management has served the rangeland profession well, but that further development toward resilience-based management is required to ensure that ecosystem services are sustained in an era of rapid change. Resilience-based management embraces the inevitability of change and emphasizes that management should seek to guide change to benefit society. The objectives of this forum are to: 1) justify the need for adopting resilience-based management, 2) identify the challenges that will be encountered in its development and implementation, and 3) highlight approaches to overcoming these challenges. Five grand challenges confronting the adoption of resilience-based management, based upon the insights of 56 rangeland researchers who have contributed to this special issue, were identified as: 1) development of knowledge systems to support resilience-based management, 2) improvement of ecological models supporting science and management, 3) protocols to assess and manage tradeoffs among ecosystem services, 4) use of social-ecological system models to integrate diverse knowledge sources, and 5) reorganization of institutions to support resilience-based management. Resolving the challenges presented here will require the creation of stronger partnerships between ecosystem managers, science organizations, management agencies, and policymakers at local, regional, and national scales. A realistic near-term goal for achieving such partnerships is to initiate and support collaborative landscape projects. The creation of multiscaled social learning institutions linked to evolving knowledge systems may be the best approach to guide adaptation and transformation in rangelands in the coming century.\n",
      "KEYWORDS: Adaptive management; ecosystem services; knowledge systems; postmodern science; social-ecological systems; transformation\n"
     ]
    },
    {
     "name": "stderr",
     "output_type": "stream",
     "text": [
      "2016-07-27 16:30:07,776 - screen_citations - INFO - 7/10 included, 49/10 excluded\n"
     ]
    },
    {
     "name": "stdout",
     "output_type": "stream",
     "text": [
      "\n",
      "INCLUDE (y/n/u)? n\n",
      "LABELS (separate labels with commas)? \n",
      "\n",
      "TITLE:    Livelihood Sustainability and Community Based Co-Management of Forest Resources in China: Changes and Improvement\n",
      "YEAR:     2012.0\n",
      "AUTHORS:  Chen, H Y; Maddox, D; Shivakoti, G; Zhu, T\n",
      "ABSTRACT: Community-based co-management (CBCM) has been applied in some communities near natural reserves in China. This paper uses Gansu Baishuijiang National Natural Reserve in China as a case study for livelihood improvements under CBCM projects. We demonstrate change from 2006 to 2010 in five classes of livelihood capital (social, human, natural, physical and financial capitals), illustrating the effectiveness of CBCM projects. Specifically, there are increases in mean family income and improvements in forest conservation. However, some problems in the design and implementation of CBCM projects remain, including the complicated social and political relationship between government and community, social exclusion and uneven application of benefits within communities, and the lack of integration of indigenous cultures and traditional beliefs. Attention for special groups in community and improving the design of CBCM Projects. Study shows that under the cooperation of government, CBCM projects and local community residents, the harmonious development of sustainable livelihood improvement and forest resources conservation will be an important trend in the future.\n",
      "KEYWORDS: CBCM; Community based co-management; Institutional arrangement; Livelihood assets; MANAGEMENT; Natural reserve; POLICY; PROTECTION; SYSTEMS; Sustainability\n"
     ]
    },
    {
     "name": "stderr",
     "output_type": "stream",
     "text": [
      "2016-07-27 16:30:08,034 - screen_citations - INFO - 8/10 included, 49/10 excluded\n"
     ]
    },
    {
     "name": "stdout",
     "output_type": "stream",
     "text": [
      "\n",
      "INCLUDE (y/n/u)? y\n",
      "LABELS (separate labels with commas)? \n",
      "\n",
      "TITLE:    Natural resources management and food security in the context of sustainable development\n",
      "YEAR:     2011.0\n",
      "AUTHORS:  Hill, J; Mustafa, S\n",
      "ABSTRACT: This paper elaborates on the inseparable link between sustainability of natural resources and food security. A strategic framework that envisages conservation, improvement and sustainable uses of natural resources is proposed which meets the essential requirements for food security. Sustainability has traditionally been accepted as encompassing three dimensions, namely environment, economics and society but it is necessary to widen this approach for a more complete understanding of this term. Environmental degradation curtails ecosystem services, leading to impoverishment of vulnerable communities and insecurity. Food, whether derived from land or sea, is a product of complex environmental linkages, and biodiversity has a pivotal role to play in producing it. Technology, production methods and management requirements are different for food derived from land and sea, but essentially all foodstuffs utilize environmental resources whose sustainability is crucial for food security. This analysis necessitates consideration of the basic concepts of sustainable development and food security, the strength of the link between these and differences in the patterns of sustainable management of agriculture, fisheries and aquaculture. The growing role of genetically engineered organisms has been included because of the immense possibilities these offer for maximizing food production despite the environmental and ethical concerns raised.\n",
      "KEYWORDS: Environment; Food security; Natural resources; Sustainability\n"
     ]
    },
    {
     "name": "stderr",
     "output_type": "stream",
     "text": [
      "2016-07-27 16:30:08,293 - screen_citations - INFO - 8/10 included, 50/10 excluded\n"
     ]
    },
    {
     "name": "stdout",
     "output_type": "stream",
     "text": [
      "\n",
      "INCLUDE (y/n/u)? n\n",
      "LABELS (separate labels with commas)? \n",
      "\n",
      "TITLE:    Promoting health and Well-Being by managing for Social-Ecological resilience: The potential of integrating ecohealth and water resources management approaches\n",
      "YEAR:     2011.0\n",
      "AUTHORS:  Bunch, M J; Morrison, K E; Parkes, M W; Venema, H D\n",
      "ABSTRACT: In coupled social-ecological systems, the same driving forces can result in combined social and environmental health inequities, hazards, and impacts. Policies that decrease social inequities and improve social cohesion, however, also have the potential to improve health outcomes and to minimize and offset the drivers of ecosystem change. Actions that address both biophysical and social environments have the potential to create a \"double dividend\" that improves human health, while also promoting sustainable development. One promising approach to managing the complex, reciprocal interactions among ecosystems, society, and health is the integration of the ecohealth approach (which holds that human health and well-being are both dependent on ecosystems and are important outcomes of ecosystem management) with watershed-based water resources management. Using key management concepts such as resilience, such approaches can help reduce vulnerability to natural hazards, maintain ecological flows of water and the provision of other ecological services, and promote long-term sustainability of coupled human and natural systems. Priorities for understanding and realizing health benefits of watershed management include (i) addressing poverty and reducing inequities, (ii) promoting resilience (for health) in watersheds, and (iii) applying watersheds as a context for intersectoral management tools and policy integration. Examples of work linking health and watershed management demonstrate that not only is appreciation of complex systems important, but an effective approach is participatory and transdisciplinary and gives attention to equity and historical context. © 2011 by the author(s).\n",
      "KEYWORDS: Ecohealth; Ecosystem approach; Environment and health; Environmental determinants of health; Health promotion; Integrated water resources management; Resilience; Social determinants of health; Watershed governance; Watershed management\n"
     ]
    },
    {
     "name": "stderr",
     "output_type": "stream",
     "text": [
      "2016-07-27 16:30:08,550 - screen_citations - INFO - 8/10 included, 51/10 excluded\n"
     ]
    },
    {
     "name": "stdout",
     "output_type": "stream",
     "text": [
      "\n",
      "INCLUDE (y/n/u)? n\n",
      "LABELS (separate labels with commas)? \n",
      "\n",
      "TITLE:    Response diversity determines the resilience of ecosystems to environmental change\n",
      "YEAR:     2013.0\n",
      "AUTHORS:  Furukawa, T; Mori, A S; Sasaki, T\n",
      "ABSTRACT: A growing body of evidence highlights the importance of biodiversity for ecosystem stability and the maintenance of optimal ecosystem functionality. Conservation measures are thus essential to safeguard the ecosystem services that biodiversity provides and human society needs. Current anthropogenic threats may lead to detrimental (and perhaps irreversible) ecosystem degradation, providing strong motivation to evaluate the response of ecological communities to various anthropogenic pressures. In particular, ecosystem functions that sustain key ecosystem services should be identified and prioritized for conservation action. Traditional diversity measures (e.g. 'species richness') may not adequately capture the aspects of biodiversity most relevant to ecosystem stability and functionality, but several new concepts may be more appropriate. These include 'response diversity', describing the variation of responses to environmental change among species of a particular community. Response diversity may also be a key determinant of ecosystem resilience in the face of anthropogenic pressures and environmental uncertainty. However, current understanding of response diversity is poor, and we see an urgent need to disentangle the conceptual strands that pervade studies of the relationship between biodiversity and ecosystem functioning. Our review clarifies the links between response diversity and the maintenance of ecosystem functionality by focusing on the insurance hypothesis of biodiversity and the concept of functional redundancy. We provide a conceptual model to describe how loss of response diversity may cause ecosystem degradation through decreased ecosystem resilience. We explicitly explain how response diversity contributes to functional compensation and to spatio-temporal complementarity among species, leading to long-term maintenance of ecosystem multifunctionality. Recent quantitative studies suggest that traditional diversity measures may often be uncoupled from measures (such as response diversity) that may be more effective proxies for ecosystem stability and resilience. Certain conclusions and recommendations of earlier studies using these traditional measures as indicators of ecosystem resilience thus may be suspect. We believe that functional ecology perspectives incorporating the effects and responses of diversity are essential for development of management strategies to safeguard (and restore) optimal ecosystem functionality (especially multifunctionality). Our review highlights these issues and we envision our work generating debate around the relationship between biodiversity and ecosystem functionality, and leading to improved conservation priorities and biodiversity management practices that maximize ecosystem resilience in the face of uncertain environmental change. © 2012 Cambridge Philosophical Society.\n",
      "KEYWORDS: Biodiversity-ecosystem functioning; Complementarity; Ecosystem services; Effect and response traits; Functional compensation; Functional diversity; Functional redundancy; Low multifunctional redundancy; Regime shift; Trait-based redundancy\n"
     ]
    },
    {
     "name": "stderr",
     "output_type": "stream",
     "text": [
      "2016-07-27 16:30:08,805 - screen_citations - INFO - 8/10 included, 52/10 excluded\n"
     ]
    },
    {
     "name": "stdout",
     "output_type": "stream",
     "text": [
      "\n",
      "INCLUDE (y/n/u)? n\n",
      "LABELS (separate labels with commas)? \n",
      "\n",
      "TITLE:    Social preferences regarding the delivery of ecosystem services in a semiarid Mediterranean region\n",
      "YEAR:     2011.0\n",
      "AUTHORS:  Aguilera, P A; Cabello, J; Castro, A J; Garcia-Llorente, M; Lopez, E; Martin-Lopez, B\n",
      "ABSTRACT: The valuation of ecosystem services has primarily been conducted within the context of the economic value of these services to society. Ecosystem services research has since advanced to identify conflicts of interest between different sectors of society while prioritizing conservation actions. This approach can be important in semiarid ecosystems, where biodiversity conservation can be hindered by a lack of community awareness. In the south-eastern Iberian Peninsula, conservation is perceived by society as a barrier to the economic development provided by agricultural or tourism activities. We use the contingent valuation method to identify community perception and economic values of different ecosystem services provided by semiarid ecosystems in the south-eastern Iberian Peninsula. This method identifies the perceptions of individuals benefiting from ecosystem services and examines their willingness to pay for the maintaining of these ecosystem services. Results showed that most respondents recognized the importance of services to human well-being and were willing to conserve these services. Preferences for maintaining water and air quality showed that respondents understood the relationship between the conservation of ecosystem services and local well-being. However, responses varied greatly across categories of beneficiaries: this finding highlights a potential conflict of interest that should be considered in any decision-making processes. (C) 2011 Elsevier Ltd. All rights reserved.\n",
      "KEYWORDS: BIODIVERSITY CONSERVATION; Beneficiaries; CONTINGENT VALUATION; Conflicts; Contingent valuation; LANDSCAPES; MANAGEMENT; MOTIVES; PERCEPTIONS; Perception; SPAIN; Social-ecological systems; VALUES\n"
     ]
    },
    {
     "name": "stderr",
     "output_type": "stream",
     "text": [
      "2016-07-27 16:30:09,063 - screen_citations - INFO - 8/10 included, 53/10 excluded\n"
     ]
    },
    {
     "name": "stdout",
     "output_type": "stream",
     "text": [
      "\n",
      "INCLUDE (y/n/u)? n\n",
      "LABELS (separate labels with commas)? \n",
      "\n",
      "TITLE:    Moving beyond rhetoric: The need for participatory forest management with the Jakun of South-East Pahang, Malaysia\n",
      "YEAR:     2009.0\n",
      "AUTHORS:  Gill, S K; Panya, O; Ross, W H\n",
      "ABSTRACT: GILL SK, ROSS WH & PANYA O. 2009. Moving beyond rhetoric: the need for participatory forest management with the Jakun of South-East Pahang, Malaysia. Centralized forest management is widely regarded as the catalyst for large-scale forest degradation and the loss of access, use and management rights of forest dependent communities. Forest dependent communities are often regarded as impediments to conservation and left out in sustainable forest management initiatives. This paper is a critique of the effects of centralization and alternative livelihood projects under the guise of conservation in a Jakun community of South-East Pahang, Malaysia. This case study revealed that economic pragmatism takes precedence over conservation in light of decreased autonomy over their traditional resources and rapid socio-economic changes which not only severely impedes their means to secure basic needs, but also their ability and desire to utilize forest resources in a sustainable manner. Therefore, there is an increasing need for local peoples to be involved in the management of their resources to maintain ecological integrity and to meet their subsistence needs. The findings justify the need for forest management units in South-East Pahang to develop a framework that addresses the rights of the Jakun to access, use and manage natural resources, which is a vital precondition for social justice to seek a common ground for sustainable forest management.\n",
      "KEYWORDS: Alternative livelihood; Centralization; Co-management; Conservation; Orang Asli; Sustainable forest management\n"
     ]
    },
    {
     "name": "stderr",
     "output_type": "stream",
     "text": [
      "2016-07-27 16:30:09,318 - screen_citations - INFO - 9/10 included, 53/10 excluded\n"
     ]
    },
    {
     "name": "stdout",
     "output_type": "stream",
     "text": [
      "\n",
      "INCLUDE (y/n/u)? y\n",
      "LABELS (separate labels with commas)? \n",
      "\n",
      "TITLE:    Ecosystem health, ecological latrogenesis, and sustainable human development\n",
      "YEAR:     1996.0\n",
      "AUTHORS:  Hancock, T\n",
      "ABSTRACT: None\n",
      "KEYWORDS: \n"
     ]
    },
    {
     "name": "stderr",
     "output_type": "stream",
     "text": [
      "2016-07-27 16:30:09,574 - screen_citations - INFO - 9/10 included, 54/10 excluded\n"
     ]
    },
    {
     "name": "stdout",
     "output_type": "stream",
     "text": [
      "\n",
      "INCLUDE (y/n/u)? n\n",
      "LABELS (separate labels with commas)? \n",
      "\n",
      "TITLE:    Management of tree diversity in agricultural landscapes around Mabira Forest Reserve, Uganda\n",
      "YEAR:     2008.0\n",
      "AUTHORS:  Boffa, J M; Jourget, J G; Katumba, B; Kindt, R; Turyomurugyendo, L\n",
      "ABSTRACT: As natural forests contract, farming systems become increasingly important to landscape biodiversity conservation, yet assets and limits of their contribution are insufficiently documented. A sound understanding of farmer strategies in the management of on-farm tree biodiversity is also critical to landscape approaches for biodiversity conservation and livelihood improvement. Diversity and management of woody species were surveyed in 105 farms around Mabira Forest in South-Central Uganda. Farms were selected according to distance to forest, landscape axis, gender, wealth, and specialized forest use of household heads. Farmer management has a strong influence on tree diversity in the coffee-banana systems around Mabira Forest. This is reflected in the relatively high number of planted and exotic species at the levels of farm niche, farm and landscape. Both the number of years under cultivation and farmer involvement in specialized forest use were conducive to higher species diversity. Gender, wealth and tenure status did not influence tree diversity. Variation in on-farm species richness was noted between landscape axes radiating out of the forest rather than concentric distance categories. Farming systems around Mabira Forest Reserve provide a key complementary rather than substitute tree diversity refuge and can be managed to enhance overall landscape biodiversity. © 2008 The Authors.\n",
      "KEYWORDS: Agroforestry; Forest dependence; Landscape biodiversity conservation\n"
     ]
    },
    {
     "name": "stderr",
     "output_type": "stream",
     "text": [
      "2016-07-27 16:30:09,828 - screen_citations - INFO - 9/10 included, 55/10 excluded\n"
     ]
    },
    {
     "name": "stdout",
     "output_type": "stream",
     "text": [
      "\n",
      "INCLUDE (y/n/u)? n\n",
      "LABELS (separate labels with commas)? \n",
      "\n",
      "TITLE:    Poverty, biodiversity and institutions in forest-agriculture ecotones in the Western Ghats and Eastern Himalaya ranges of India\n",
      "YEAR:     2007.0\n",
      "AUTHORS:  Bawa, K S; Joseph, G; Setty, S\n",
      "ABSTRACT: Forest-agricultural ecotones are defined as areas that adjoin forests and other natural habitats and that lie between forests and zones of intensive agriculture. These ecotones are critical for conservation of biodiversity and for the maintenance of livelihoods of people that inhabit these areas. Here we focus on three questions: (1) How can we make land use sustainable in forest-agriculture ecotones? (2) How can forest-agriculture ecotones contribute to conservation of biodiversity? (3) How can we improve the institutions that foster sustainability and conservation of biodiversity in forest-agriculture ecotones? We address these questions in the context of interventions to foster biodiversity and rural livelihoods made by the Ashoka Trust for Research in Ecology and the Environment (ATREE), Bangalore, in the Western Ghats and the Eastern Himalayas, 2 of the 34 global hotspots of biodiversity in India. At several sites, ATREE's interventions have improved the livelihoods of several rural communities by providing increased income from non-timber forest products (NTFPs), diversification of livelihoods and enhanced agricultural production. These interventions have improved the prospects for sustainable land use in the forest-agriculture ecotones. Simultaneously, ATREE's interventions have strengthened a range of village level and regional institutions that play a critical role in the rural economy and in conservation of biodiversity. We believe that the path to sustainability in agriculture as well as maintenance of biodiversity passes through adaptive, strong and relevant institutions. The development of institutions however is severely constrained by low social and human capital and the neglect of forest-agriculture ecotones by the governmental agencies and international organizations. We argue that forest-agriculture ecotones offer a means to conserve biodiversity through alleviation of poverty and development of community-based institutions. © 2006 Elsevier B.V. All rights reserved.\n",
      "KEYWORDS: Amla; Ashoka Trust for Research in Ecology and the Environment (ATREE); Biodiversity hot-spot; Lantana; Nested governance systems; Non-timber forest products (NTFPs); Self-help groups\n"
     ]
    },
    {
     "name": "stderr",
     "output_type": "stream",
     "text": [
      "2016-07-27 16:30:10,083 - screen_citations - INFO - 10/10 included, 55/10 excluded\n"
     ]
    },
    {
     "name": "stdout",
     "output_type": "stream",
     "text": [
      "\n",
      "INCLUDE (y/n/u)? y\n",
      "LABELS (separate labels with commas)? \n"
     ]
    }
   ],
   "source": [
    "%run ../scripts/screen_citations.py --user_id=1 --review_id=1 --auto"
   ]
  },
  {
   "cell_type": "markdown",
   "metadata": {},
   "source": [
    "---\n",
    "\n",
    "## Refinement of Search Keyterms\n",
    "\n",
    "- based on included/excluded citations, create lists of strongly relevant and irrelevant keyterms that can be used to refine initial set of keyterms"
   ]
  },
  {
   "cell_type": "code",
   "execution_count": null,
   "metadata": {
    "collapsed": true
   },
   "outputs": [],
   "source": []
  }
 ],
 "metadata": {
  "kernelspec": {
   "display_name": "Python 3",
   "language": "python",
   "name": "python3"
  },
  "language_info": {
   "codemirror_mode": {
    "name": "ipython",
    "version": 3
   },
   "file_extension": ".py",
   "mimetype": "text/x-python",
   "name": "python",
   "nbconvert_exporter": "python",
   "pygments_lexer": "ipython3",
   "version": "3.5.1"
  }
 },
 "nbformat": 4,
 "nbformat_minor": 0
}
