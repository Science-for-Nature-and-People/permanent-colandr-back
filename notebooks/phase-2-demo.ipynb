{
 "cells": [
  {
   "cell_type": "code",
   "execution_count": 1,
   "metadata": {
    "collapsed": true
   },
   "outputs": [],
   "source": [
    "from __future__ import absolute_import, division, print_function, unicode_literals\n",
    "\n",
    "import logging\n",
    "\n",
    "import cipy\n",
    "\n",
    "logger = logging.getLogger()\n",
    "handler = logger.handlers[0]\n",
    "handler.setLevel(logging.CRITICAL)\n",
    "\n",
    "conn_creds = cipy.db.get_conn_creds('DATABASE_URL')\n",
    "pgdb = cipy.db.PostgresDB(conn_creds)"
   ]
  },
  {
   "cell_type": "markdown",
   "metadata": {},
   "source": [
    "---\n",
    "\n",
    "## User Management\n",
    "\n",
    "- create new user accounts and store passwords in a secure format\n",
    "- delete existing user accounts (along with any owned reviews)\n",
    "- user login"
   ]
  },
  {
   "cell_type": "code",
   "execution_count": 7,
   "metadata": {
    "collapsed": false,
    "scrolled": false
   },
   "outputs": [
    {
     "name": "stdout",
     "output_type": "stream",
     "text": [
      "Enter user name: Burton DeWilde\n",
      "Enter user email: burtdewilde@gmail.com\n",
      "Confirm user email: burtdewilde@gmail.com\n",
      "Enter password: ········\n",
      "Confirm password: ········\n"
     ]
    },
    {
     "name": "stderr",
     "output_type": "stream",
     "text": [
      "2016-07-12 21:37:29,160 - create_user - INFO - created user (TEST): {'name': 'Burton DeWilde', 'project_ids': None, 'created_ts': '2016-07-12T03:21:03.724807Z', 'email': 'burtdewilde@gmail.com', 'owned_project_ids': None}\n"
     ]
    }
   ],
   "source": [
    "%run ../scripts/create_user.py --test"
   ]
  },
  {
   "cell_type": "code",
   "execution_count": 8,
   "metadata": {
    "collapsed": false
   },
   "outputs": [
    {
     "data": {
      "text/plain": [
       "[{'created_ts': datetime.datetime(2016, 7, 7, 17, 56, 7),\n",
       "  'email': 'burtdewilde@gmail.com',\n",
       "  'name': 'Burton DeWilde',\n",
       "  'owned_review_ids': [1],\n",
       "  'password': '$2a$06$5qfLF4y/sfXkc8XhZ360i.48V5GaQfxF5Uy8zVJcO6dLmUqX9JGie',\n",
       "  'review_ids': [1],\n",
       "  'user_id': 1}]"
      ]
     },
     "execution_count": 8,
     "metadata": {},
     "output_type": "execute_result"
    }
   ],
   "source": [
    "list(pgdb.run_query('SELECT * from users'))"
   ]
  },
  {
   "cell_type": "code",
   "execution_count": 9,
   "metadata": {
    "collapsed": false
   },
   "outputs": [
    {
     "name": "stdout",
     "output_type": "stream",
     "text": [
      "Enter email: burtdewilde@gmail.com\n",
      "Enter password: ········\n"
     ]
    },
    {
     "name": "stderr",
     "output_type": "stream",
     "text": [
      "2016-07-12 21:37:51,681 - login_user - INFO - Welcome, Burton DeWilde id=1\n"
     ]
    }
   ],
   "source": [
    "%run ../scripts/login_user.py"
   ]
  },
  {
   "cell_type": "code",
   "execution_count": 2,
   "metadata": {
    "collapsed": false
   },
   "outputs": [
    {
     "name": "stderr",
     "output_type": "stream",
     "text": [
      "2016-07-12 21:39:29,460 - delete_user - INFO - deleted user id=1 from reviews (TEST)\n",
      "2016-07-12 21:39:29,460 - delete_user - INFO - deleted user id=1 (TEST)\n"
     ]
    }
   ],
   "source": [
    "%run ../scripts/delete_user.py --user_id=1 --test"
   ]
  },
  {
   "cell_type": "markdown",
   "metadata": {},
   "source": [
    "---\n",
    "\n",
    "## Review Management\n",
    "\n",
    "- create new reviews (with user as owner)\n",
    "- delete existing owned reviews\n",
    "- invite/uninvite other users to collaborate on existing reviews\n",
    "- assign other user as owned review's new owner"
   ]
  },
  {
   "cell_type": "code",
   "execution_count": 3,
   "metadata": {
    "collapsed": false
   },
   "outputs": [
    {
     "name": "stdout",
     "output_type": "stream",
     "text": [
      "Review name: Conservation International demo\n",
      "Review description (optional):\n",
      "International policy has sought to emphasize and strengthen the link between the conservation of natural ecosystems and human development. Furthermore, international conservation organizations have broadened their objectives beyond nature-based goals to recognize the contribution of conservation interventions in sustaining ecosystem services upon which human populations are dependent. While many indices have been developed to measure various human well-being domains, the strength of evidence to support the effects, both positive and negative, of conservation interventions on human well-being, is still unclear.\\n\\nThis protocol describes the methodology for examining the research question: What are the impacts of nature conservation interventions on different domains of human well-being in developing countries? Using systematic mapping, this study will scope and identify studies that measure the impacts of nature conservation interventions on human well-being at local to regional scales. The primary objective of this study is to synthesize the state and distribution of the existing evidence base linking conservation and human well-being. In addition, a theory of change approach will be used to identify and characterize the causal linkages between conservation and human well-being, with attention on those studies that examine the role of ecosystem services. Key trends among the resulting studies will be synthesized and the range of studies organized and presented in a graphical matrix illustrating the relationships between types of interventions and types of outcomes. Results of the study are intended to help conservation and development practitioners and the academic community to improve research studies and conservation practices in developing countries in order to achieve both conservation and human well-being outcomes.\n"
     ]
    },
    {
     "name": "stderr",
     "output_type": "stream",
     "text": [
      "2016-07-12 21:42:26,928 - create_review - INFO - created review id=1: {'description': 'International policy has sought to emphasize and strengthen the link between the conservation of natural ecosystems and human development. Furthermore, international conservation organizations have broadened their objectives beyond nature-based goals to recognize the contribution of conservation interventions in sustaining ecosystem services upon which human populations are dependent. While many indices have been developed to measure various human well-being domains, the strength of evidence to support the effects, both positive and negative, of conservation interventions on human well-being, is still unclear.\\\\n\\\\nThis protocol describes the methodology for examining the research question: What are the impacts of nature conservation interventions on different domains of human well-being in developing countries? Using systematic mapping, this study will scope and identify studies that measure the impacts of nature conservation interventions on human well-being at local to regional scales. The primary objective of this study is to synthesize the state and distribution of the existing evidence base linking conservation and human well-being. In addition, a theory of change approach will be used to identify and characterize the causal linkages between conservation and human well-being, with attention on those studies that examine the role of ecosystem services. Key trends among the resulting studies will be synthesized and the range of studies organized and presented in a graphical matrix illustrating the relationships between types of interventions and types of outcomes. Results of the study are intended to help conservation and development practitioners and the academic community to improve research studies and conservation practices in developing countries in order to achieve both conservation and human well-being outcomes.', 'name': 'Conservation International demo', 'user_ids': [1], 'owner_user_id': 1, 'created_ts': '2016-07-13T01:40:26.922337Z'}\n"
     ]
    }
   ],
   "source": [
    "%run ../scripts/create_review.py --user_id=1"
   ]
  },
  {
   "cell_type": "code",
   "execution_count": 4,
   "metadata": {
    "collapsed": false
   },
   "outputs": [
    {
     "name": "stderr",
     "output_type": "stream",
     "text": [
      "2016-07-12 21:43:30,522 - delete_review - INFO - deleted review id=1 (TEST)\n"
     ]
    }
   ],
   "source": [
    "%run ../scripts/delete_review.py --user_id=1 --review_id=1 --test"
   ]
  },
  {
   "cell_type": "markdown",
   "metadata": {},
   "source": [
    "---\n",
    "\n",
    "## Review Planning\n",
    "\n",
    "- facilitate systematic review planning while also gathering structured data that informs and is informed by the citation pre-screening process; user entry of the following fields:\n",
    "    - objective\n",
    "    - research questions, ranked\n",
    "    - PICO statements\n",
    "    - grouped keyterms (with automatic boolean search query generation)\n",
    "    - data sources\n",
    "    - inclusion/exclusion criteria, with shorthand labels"
   ]
  },
  {
   "cell_type": "code",
   "execution_count": 4,
   "metadata": {
    "collapsed": false
   },
   "outputs": [
    {
     "name": "stdout",
     "output_type": "stream",
     "text": [
      "Enter review objective:\n",
      "Scope and identify studies that document and/or measure the impacts of nature conservation interventions on human well-being at local to regional scales.\n",
      "Enter research question:\n",
      "What are the impacts of nature conservation interventions on different domains of human well-being in developing countries?\n",
      "Add another question (y/n)? y\n",
      "Enter research question:\n",
      "What is the current state and distribution of evidence?\n",
      "Add another question (y/n)? y\n",
      "Enter research question:\n",
      "What types of impacts from conservation interventions on human well-being are measured?\n",
      "Add another question (y/n)? n\n"
     ]
    }
   ],
   "source": [
    "%run ../scripts/plan_review.py --user_id=1 --review_id=1 --test"
   ]
  },
  {
   "cell_type": "markdown",
   "metadata": {},
   "source": [
    "... etc. This is very much work-in-progress."
   ]
  },
  {
   "cell_type": "markdown",
   "metadata": {
    "collapsed": true
   },
   "source": [
    "---\n",
    "\n",
    "## Citation Ingestion and De-duplication\n",
    "\n",
    "- load citations from RIS or BibTex files then parse, standardize, sanitize, validate, and store the data\n",
    "- identify duplicate citations using a sophisticated model and assign the most complete record in a set of duplicates as the \"canonical\" record"
   ]
  },
  {
   "cell_type": "code",
   "execution_count": 13,
   "metadata": {
    "collapsed": false
   },
   "outputs": [
    {
     "name": "stderr",
     "output_type": "stream",
     "text": [
      "2016-07-11 22:24:20,813 - ingest_citations - INFO - parsing records in ../data/raw/citation_files/phase_2_demo_citations.ris\n",
      "2016-07-11 22:24:20,814 - ingest_citations - INFO - valid record: Ecological protection and well-being, 2013\n",
      "2016-07-11 22:24:20,815 - ingest_citations - INFO - valid record: The economic value of forest ecosystems, 2001\n",
      "2016-07-11 22:24:20,816 - ingest_citations - INFO - valid record: Contribution of tourism development to protected area management: Local stakeholder perspectives, 2009\n",
      "2016-07-11 22:24:20,817 - ingest_citations - INFO - 3 valid records inserted into appname db (TEST)\n"
     ]
    }
   ],
   "source": [
    "%run ../scripts/ingest_citations.py --citations ../data/raw/citation_files/phase_2_demo_citations.ris --user_id=1 --review_id=1 --test"
   ]
  },
  {
   "cell_type": "code",
   "execution_count": 17,
   "metadata": {
    "collapsed": false
   },
   "outputs": [
    {
     "name": "stdout",
     "output_type": "stream",
     "text": [
      "total # citations = 28709\n"
     ]
    }
   ],
   "source": [
    "num_citations = list(pgdb.run_query('SELECT COUNT(1) FROM citations WHERE review_id = 1'))[0]['count']\n",
    "print('total # citations =', num_citations)"
   ]
  },
  {
   "cell_type": "code",
   "execution_count": 7,
   "metadata": {
    "collapsed": false
   },
   "outputs": [
    {
     "name": "stderr",
     "output_type": "stream",
     "text": [
      "2016-07-11 22:19:58,881 - dedupe_records - INFO - reading dedupe settings from ../models/dedupe_citations_settings\n",
      "2016-07-11 22:20:19,236 - dedupe_records - INFO - duplicate threshold = 0.827943\n",
      "2016-07-11 22:20:19,879 - dedupe_records - INFO - found 361 duplicate clusters\n",
      "2016-07-11 22:20:20,020 - dedupe_records - INFO - inserted 726 records into duplicates db (TEST)\n"
     ]
    }
   ],
   "source": [
    "%run ../scripts/dedupe_records.py --review_id=1 --threshold=auto --settings=../models/dedupe_citations_settings --test"
   ]
  },
  {
   "cell_type": "code",
   "execution_count": 2,
   "metadata": {
    "collapsed": false,
    "scrolled": false
   },
   "outputs": [
    {
     "name": "stdout",
     "output_type": "stream",
     "text": [
      "citations [497, 496] are duplicates with avg. duplicate score = 0.827182\n",
      "\n",
      "TITLE:    INTEGRATIVE SOCIAL WORK APPROACH AS A CONTEXT FOR UNDERSTANDING THE INDIVIDUAL SOCIAL CARE PLAN\n",
      "YEAR:     2009\n",
      "AUTHORS:  Ajdukovic, M; Urbanc, K\n",
      "ABSTRACT: The article deals with the issue of introducing the individual social core plan as one of the initiatives pertaining to the long-awaited social core system reform. The ideas of the individual social care plan are placed within a theoretical framework of the integrative social work approach and in the context of numerous changes which have occurred in the lost twenty years at the conceptual and practical level of offering integrated and coordinated services to service users, ie case management, care management, person-centred planning, etc. Based on the experience that, in order to change the organisation of the Centres for Social Care and develop efficient social care services, the changes to the legal framework are not sufficient but it is necessary to change the social services paradigm underlined by the user perspective and empowerment of individuals, groups and communities, the authors draw attention to challenges and necessary prerequisites which should be taken into account for the changes to be applied in practice\n",
      "DOI:      None\n",
      "\n",
      "TITLE:    Integrative social work approach as a context for understanding the individual social care plan\n",
      "YEAR:     2010\n",
      "AUTHORS:  Ajduković, M; Urbanc, K\n",
      "ABSTRACT: The article deals with the issue of introducing the individual social care plan as one of the initiatives pertaining to the long-awaited social care system reform. The ideas of the individual social care plan are placed within a theoretical framework of the integrative social work approach and in the context of numerous changes which have occurred in the last twenty years at the conceptual and practical level of offering integrated and coordinated services to service users, i.e. case management, care management, person-centred planning, etc. Based on the experience that, in order to change the organisation of the Centres for Social Care and develop efficient social care services, the changes to the legal framework are not sufficient but it is necessary to change the social services paradigm underlined by the user perspective and empowerment of individuals, groups and communities, the authors draw attention to challenges and necessary prerequisites which should be taken into account for the changes to be applied in practice.\n",
      "DOI:      None\n"
     ]
    }
   ],
   "source": [
    "query = \"\"\"\n",
    "SELECT canonical_citation_id, array_agg(citation_id) AS citation_ids, AVG(duplicate_score) AS avg_score\n",
    "FROM duplicates\n",
    "GROUP BY 1 HAVING AVG(duplicate_score) < 0.9 ORDER BY 1 ASC\n",
    "LIMIT 1\n",
    "\"\"\"\n",
    "dupes = list(pgdb.run_query(query))[0]\n",
    "print('citations {} are duplicates with avg. duplicate score = {}'.format(\n",
    "        dupes['citation_ids'], round(dupes['avg_score'], 6)))\n",
    "\n",
    "query = \"\"\"\n",
    "SELECT citation_id, authors, title, abstract, publication_year, doi\n",
    "FROM citations\n",
    "WHERE citation_id = ANY(%(citation_ids)s)\n",
    "\"\"\"\n",
    "for record in pgdb.run_query(query, {'citation_ids': dupes['citation_ids']}):\n",
    "    cipy.db.db_utils.present_citation(record)"
   ]
  },
  {
   "cell_type": "markdown",
   "metadata": {},
   "source": [
    "---\n",
    "\n",
    "## Initial Ranking of Citations\n",
    "\n",
    "- sample citations ranked by overlap with keyterms; user pre-screens citations until 10 have been included and 10 have been excluded\n",
    "- based on included/excluded citations, rank citations by ratio of relevant to irrelevant keyterms and present those most likely to be relevant to the user for pre-screening"
   ]
  },
  {
   "cell_type": "code",
   "execution_count": null,
   "metadata": {
    "collapsed": true
   },
   "outputs": [],
   "source": []
  },
  {
   "cell_type": "markdown",
   "metadata": {},
   "source": [
    "---\n",
    "\n",
    "## Refinement of Search Keyterms\n",
    "\n",
    "- based on included/excluded citations, create lists of strongly relevant and irrelevant keyterms that can be used to refine initial set of keyterms"
   ]
  },
  {
   "cell_type": "code",
   "execution_count": null,
   "metadata": {
    "collapsed": true
   },
   "outputs": [],
   "source": []
  }
 ],
 "metadata": {
  "kernelspec": {
   "display_name": "Python 3",
   "language": "python",
   "name": "python3"
  },
  "language_info": {
   "codemirror_mode": {
    "name": "ipython",
    "version": 3
   },
   "file_extension": ".py",
   "mimetype": "text/x-python",
   "name": "python",
   "nbconvert_exporter": "python",
   "pygments_lexer": "ipython3",
   "version": "3.5.1"
  }
 },
 "nbformat": 4,
 "nbformat_minor": 0
}
