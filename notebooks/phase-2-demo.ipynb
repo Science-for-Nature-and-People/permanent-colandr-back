{
 "cells": [
  {
   "cell_type": "code",
   "execution_count": 1,
   "metadata": {
    "collapsed": false
   },
   "outputs": [],
   "source": [
    "from __future__ import absolute_import, division, print_function, unicode_literals\n",
    "\n",
    "import logging\n",
    "\n",
    "import cipy\n",
    "\n",
    "logger = logging.getLogger()\n",
    "handler = logger.handlers[0]\n",
    "handler.setLevel(logging.CRITICAL)\n",
    "\n",
    "conn_creds = cipy.db.get_conn_creds('DATABASE_URL')\n",
    "pgdb = cipy.db.PostgresDB(conn_creds)"
   ]
  },
  {
   "cell_type": "markdown",
   "metadata": {},
   "source": [
    "---\n",
    "\n",
    "## User Management\n",
    "\n",
    "- create new user accounts and store passwords in a secure format\n",
    "- delete existing user accounts (along with any owned reviews)\n",
    "- user login"
   ]
  },
  {
   "cell_type": "code",
   "execution_count": 4,
   "metadata": {
    "collapsed": false,
    "scrolled": false
   },
   "outputs": [
    {
     "name": "stdout",
     "output_type": "stream",
     "text": [
      "Enter user name: Sam C\n",
      "Enter user email: samc@gmail.com\n",
      "Confirm user email: samc@gmail.com\n",
      "Enter password: ········\n",
      "Confirm password: ········\n"
     ]
    },
    {
     "name": "stderr",
     "output_type": "stream",
     "text": [
      "2016-07-12 22:27:25,784 - create_user - INFO - created user id=3: {'owned_review_ids': None, 'name': 'Sam C', 'email': 'samc@gmail.com', 'created_ts': '2016-07-13T01:48:11.754032Z', 'review_ids': None}\n"
     ]
    }
   ],
   "source": [
    "%run ../scripts/create_user.py --test"
   ]
  },
  {
   "cell_type": "code",
   "execution_count": 5,
   "metadata": {
    "collapsed": false
   },
   "outputs": [
    {
     "data": {
      "text/plain": [
       "[{'created_ts': datetime.datetime(2016, 7, 7, 17, 56, 7),\n",
       "  'email': 'burtdewilde@gmail.com',\n",
       "  'name': 'Burton DeWilde',\n",
       "  'owned_review_ids': [1],\n",
       "  'password': '$2a$06$5qfLF4y/sfXkc8XhZ360i.48V5GaQfxF5Uy8zVJcO6dLmUqX9JGie',\n",
       "  'review_ids': [1],\n",
       "  'user_id': 1},\n",
       " {'created_ts': datetime.datetime(2016, 7, 13, 1, 48, 12),\n",
       "  'email': 'samc@gmail.com',\n",
       "  'name': 'Sam C',\n",
       "  'owned_review_ids': None,\n",
       "  'password': '$2a$06$MHhP.XjRGfSO7eiDiNLFieJEGoOXxQruc6.Sd3nb.vImvoAuO09x.',\n",
       "  'review_ids': None,\n",
       "  'user_id': 3}]"
      ]
     },
     "execution_count": 5,
     "metadata": {},
     "output_type": "execute_result"
    }
   ],
   "source": [
    "list(pgdb.run_query('SELECT * from users'))"
   ]
  },
  {
   "cell_type": "code",
   "execution_count": 2,
   "metadata": {
    "collapsed": false
   },
   "outputs": [
    {
     "name": "stdout",
     "output_type": "stream",
     "text": [
      "Enter email: burtdewilde@gmail.com\n",
      "Enter password: ········\n"
     ]
    },
    {
     "name": "stderr",
     "output_type": "stream",
     "text": [
      "2016-07-23 10:18:00,069 - login_user - INFO - Welcome, Burton DeWilde id=1\n"
     ]
    }
   ],
   "source": [
    "%run ../scripts/login_user.py"
   ]
  },
  {
   "cell_type": "code",
   "execution_count": 2,
   "metadata": {
    "collapsed": false
   },
   "outputs": [
    {
     "name": "stderr",
     "output_type": "stream",
     "text": [
      "2016-07-12 21:39:29,460 - delete_user - INFO - deleted user id=1 from reviews (TEST)\n",
      "2016-07-12 21:39:29,460 - delete_user - INFO - deleted user id=1 (TEST)\n"
     ]
    }
   ],
   "source": [
    "%run ../scripts/delete_user.py --user_id=3 --test"
   ]
  },
  {
   "cell_type": "markdown",
   "metadata": {},
   "source": [
    "---\n",
    "\n",
    "## Review Management\n",
    "\n",
    "- create new reviews (with user as owner)\n",
    "- delete existing owned reviews\n",
    "- invite/uninvite other users to collaborate on existing reviews\n",
    "- assign other user as owned review's new owner"
   ]
  },
  {
   "cell_type": "code",
   "execution_count": 3,
   "metadata": {
    "collapsed": false
   },
   "outputs": [
    {
     "name": "stdout",
     "output_type": "stream",
     "text": [
      "Review name: My Great Review\n",
      "Review description (optional):\n",
      "Live long and prosper.\n"
     ]
    },
    {
     "name": "stderr",
     "output_type": "stream",
     "text": [
      "2016-07-24 16:51:58,634 - create_review - INFO - created review (TEST): {'name': 'My Great Review', 'settings': {'num_citation_screening_reviewers': 2, 'required_fulltext_screener_id': None, 'num_fulltext_screening_reviewers': 2, 'required_citation_screener_id': None}, 'user_ids': [1], 'owner_user_id': 1, 'created_ts': '2016-07-24T20:50:39.039925Z', 'description': 'Live long and prosper.'}\n"
     ]
    }
   ],
   "source": [
    "%run ../scripts/create_review.py --user_id=1 --test"
   ]
  },
  {
   "cell_type": "code",
   "execution_count": 4,
   "metadata": {
    "collapsed": false
   },
   "outputs": [
    {
     "data": {
      "text/plain": [
       "{'created_ts': datetime.datetime(2016, 7, 13, 1, 40, 27),\n",
       " 'description': 'International policy has sought to emphasize and strengthen the link between the conservation of natural ecosystems and human development. Furthermore, international conservation organizations have broadened their objectives beyond nature-based goals to recognize the contribution of conservation interventions in sustaining ecosystem services upon which human populations are dependent. While many indices have been developed to measure various human well-being domains, the strength of evidence to support the effects, both positive and negative, of conservation interventions on human well-being, is still unclear.\\\\n\\\\nThis protocol describes the methodology for examining the research question: What are the impacts of nature conservation interventions on different domains of human well-being in developing countries? Using systematic mapping, this study will scope and identify studies that measure the impacts of nature conservation interventions on human well-being at local to regional scales. The primary objective of this study is to synthesize the state and distribution of the existing evidence base linking conservation and human well-being. In addition, a theory of change approach will be used to identify and characterize the causal linkages between conservation and human well-being, with attention on those studies that examine the role of ecosystem services. Key trends among the resulting studies will be synthesized and the range of studies organized and presented in a graphical matrix illustrating the relationships between types of interventions and types of outcomes. Results of the study are intended to help conservation and development practitioners and the academic community to improve research studies and conservation practices in developing countries in order to achieve both conservation and human well-being outcomes.',\n",
       " 'name': 'Conservation International demo',\n",
       " 'owner_user_id': 1,\n",
       " 'review_id': 1,\n",
       " 'settings': {'num_citation_screening_reviewers': 2,\n",
       "  'num_fulltext_screening_reviewers': 2},\n",
       " 'user_ids': [1]}"
      ]
     },
     "execution_count": 4,
     "metadata": {},
     "output_type": "execute_result"
    }
   ],
   "source": [
    "list(pgdb.run_query(\"SELECT * FROM reviews where review_id=1\"))[0]"
   ]
  },
  {
   "cell_type": "code",
   "execution_count": 3,
   "metadata": {
    "collapsed": false
   },
   "outputs": [
    {
     "name": "stderr",
     "output_type": "stream",
     "text": [
      "2016-07-12 21:59:45,881 - delete_review - INFO - deleted review id=1 (TEST)\n"
     ]
    }
   ],
   "source": [
    "%run ../scripts/delete_review.py --user_id=1 --review_id=1 --test"
   ]
  },
  {
   "cell_type": "code",
   "execution_count": 37,
   "metadata": {
    "collapsed": false
   },
   "outputs": [
    {
     "name": "stderr",
     "output_type": "stream",
     "text": [
      "2016-07-12 22:40:52,400 - manage_collaborators - INFO - user id=3 added as collaborator to review id=1 \n"
     ]
    }
   ],
   "source": [
    "%run ../scripts/manage_collaborators.py --owner_user_id=1 --review_id=1 --add_user_emails \"samc@gmail.com\""
   ]
  },
  {
   "cell_type": "code",
   "execution_count": 38,
   "metadata": {
    "collapsed": false
   },
   "outputs": [
    {
     "name": "stdout",
     "output_type": "stream",
     "text": [
      "review: [{'review_id': 1, 'user_ids': [1, 3]}]\n",
      "user: [{'user_id': 3, 'review_ids': [1]}]\n"
     ]
    }
   ],
   "source": [
    "print('review:', list(pgdb.run_query('SELECT review_id, user_ids FROM reviews WHERE review_id=1')))\n",
    "print('user:', list(pgdb.run_query('SELECT user_id, review_ids FROM users WHERE user_id=3')))"
   ]
  },
  {
   "cell_type": "code",
   "execution_count": 39,
   "metadata": {
    "collapsed": false
   },
   "outputs": [
    {
     "name": "stderr",
     "output_type": "stream",
     "text": [
      "2016-07-12 22:40:55,110 - manage_collaborators - INFO - user id=3 removed as collaborator to review id=1 \n"
     ]
    }
   ],
   "source": [
    "%run ../scripts/manage_collaborators.py --owner_user_id=1 --review_id=1 --remove_user_emails \"samc@gmail.com\""
   ]
  },
  {
   "cell_type": "code",
   "execution_count": 40,
   "metadata": {
    "collapsed": false
   },
   "outputs": [
    {
     "name": "stdout",
     "output_type": "stream",
     "text": [
      "review: [{'review_id': 1, 'user_ids': [1]}]\n",
      "user: [{'user_id': 3, 'review_ids': []}]\n"
     ]
    }
   ],
   "source": [
    "print('review:', list(pgdb.run_query('SELECT review_id, user_ids FROM reviews WHERE review_id=1')))\n",
    "print('user:', list(pgdb.run_query('SELECT user_id, review_ids FROM users WHERE user_id=3')))"
   ]
  },
  {
   "cell_type": "markdown",
   "metadata": {},
   "source": [
    "---\n",
    "\n",
    "## Review Planning\n",
    "\n",
    "- facilitate systematic review planning while also gathering structured data that informs and is informed by the citation pre-screening process; user entry of the following fields:\n",
    "    - objective\n",
    "    - research questions, ranked\n",
    "    - PICO statements\n",
    "    - grouped keyterms (with automatic boolean search query generation)\n",
    "    - selection criteria, with shorthand labels\n",
    "- automatically generate boolean search queries from given keyterms\n",
    "- after enough citations have been screened, suggest good/bad keyterms for search query"
   ]
  },
  {
   "cell_type": "code",
   "execution_count": 3,
   "metadata": {
    "collapsed": false,
    "scrolled": true
   },
   "outputs": [
    {
     "name": "stdout",
     "output_type": "stream",
     "text": [
      "\n",
      "PROJECT PLAN\n",
      "\n",
      "Objective:\n",
      "To assess and characterize the current state and distribution of the existing evidence base around the causal linkages between both positive and negative effects of nature conservation and human well-being.\n",
      "\n",
      "Research Questions:\n",
      " 0 What are the impacts of nature conservation interventions on different domains of human well-being in developing countries?\n",
      " 1 What is the current state and distribution of evidence?\n",
      " 2 What types of impacts from conservation interventions on human well-being are measured?\n",
      " 3 What types of ecosystem services are explicitly associated with the impacts of conservation interventions on human well-being?\n",
      " 4 What populations are affected by conservation and/ or focus of studies?\n",
      " 5 How does the evidence base align with major priorities and investments of implementing agencies?\n",
      "\n",
      "PICO:\n",
      "- Population    : Human populations, including individuals, households, communities or nation states in non-OECD countries\n",
      "- Intervention  : Adoption or implementation of nature conservation interventions\n",
      "- Comparator    : No use of nature conservation interventions either between sites or groups, or over time series (before/after)\n",
      "- Outcome       : Positive or negative effects on the multi-dimensional well-being status of human populations\n",
      "\n",
      "Keyterms:\n",
      "- Group: intervention qualifiers\n",
      "    - marine (synonyms: ['freshwater'])\n",
      "    - coastal \n",
      "    - forest (synonyms: ['forests', 'forestry'])\n",
      "    - ecosystem (synonyms: ['ecosystems'])\n",
      "    - species \n",
      "    - habitat (synonyms: ['habitats'])\n",
      "    - biodiversity \n",
      "    - sustainable (synonyms: ['sustainability'])\n",
      "    - ecology (synonyms: ['ecological'])\n",
      "    - integrated \n",
      "    - landscape \n",
      "    - seascape \n",
      "    - coral reef (synonyms: ['coral reefs'])\n",
      "    - natural resources (synonyms: ['natural resource'])\n",
      "- Group: outcome\n",
      "    - wellbeing (synonyms: ['well-being', 'well being'])\n",
      "    - ecosystem service (synonyms: ['ecosystem services'])\n",
      "    - nutrition \n",
      "    - skill (synonyms: ['skills'])\n",
      "    - empower (synonyms: ['empowering'])\n",
      "    - clean water (synonyms: ['livelihood'])\n",
      "    - livelihoods (synonyms: ['food security'])\n",
      "    - resilience (synonyms: ['vulnerability'])\n",
      "    - capital (synonyms: ['social capital'])\n",
      "    - attitude (synonyms: ['attitudes'])\n",
      "    - perception (synonyms: ['perceptions'])\n",
      "    - health (synonyms: ['human health'])\n",
      "    - human capital (synonyms: ['knowledge'])\n",
      "    - traditional knowledge \n",
      "- Group: outcome qualifiers\n",
      "    - human (synonyms: ['humans', 'humanity'])\n",
      "    - people \n",
      "    - person (synonyms: ['persons'])\n",
      "    - community (synonyms: ['communities'])\n",
      "    - household (synonyms: ['households'])\n",
      "    - fishermen (synonyms: ['fisherman'])\n",
      "    - collaborative \n",
      "- Group: intervention\n",
      "    - conservation \n",
      "    - conserve \n",
      "    - conservancy \n",
      "    - protect (synonyms: ['protects', 'protection'])\n",
      "    - management \n",
      "    - awareness \n",
      "    - law (synonyms: ['laws'])\n",
      "    - policy (synonyms: ['policy-making'])\n",
      "    - reserve \n",
      "    - govern (synonyms: ['governs', 'government'])\n",
      "    - capacity-build (synonyms: ['capacity-building', 'capacity building'])\n",
      "    - train (synonyms: ['tarins', 'training'])\n",
      "    - PES \n",
      "    - ecotourism (synonyms: ['eco-tourism'])\n",
      "    - sustainable use \n",
      "\n",
      "Selection Criteria:\n",
      "- location: individuals, households, or communities must be in non-OECD countries\n",
      "- undefined pop.: studies must include discrete populations and not undefined groups or populations\n",
      "- intervention type: study must document or measure people's specific and discrete external interventions, not daily use\n",
      "- in-situ: study must focus on establishment, adoption, or implementation of regulation, protection, or management of natural ecosystems through in-situ activities\n",
      "- outcome: studies must measure or describe human well-being outcomes, and can't only focus on biophysical outcomes of conservation\n",
      "\n",
      "\n",
      "UPDATES:\n",
      "Objective:\n",
      "\n",
      "\n",
      "Research Questions\n",
      "\n",
      "Question:\n",
      "\n",
      "\n",
      "PICO\n",
      "Population:\n",
      "\n",
      "Intervention:\n",
      "\n",
      "Comparator:\n",
      "\n",
      "Outcome:\n",
      "\n",
      "\n",
      "Keyterms\n",
      "\n",
      "Group name: \n",
      "\n",
      "Selection Criteria\n",
      "\n",
      "Criterion label: \n"
     ]
    },
    {
     "name": "stderr",
     "output_type": "stream",
     "text": [
      "2016-07-23 11:10:41,502 - plan_review - INFO - valid record: review_id=1 with {'pico', 'selection_criteria', 'objective', 'research_questions', 'keyterms'}, (TEST)\n"
     ]
    },
    {
     "name": "stdout",
     "output_type": "stream",
     "text": [
      "\n",
      "PROJECT PLAN\n",
      "\n",
      "Objective:\n",
      "To assess and characterize the current state and distribution of the existing evidence base around the causal linkages between both positive and negative effects of nature conservation and human well-being.\n",
      "\n",
      "Research Questions:\n",
      " 0 What are the impacts of nature conservation interventions on different domains of human well-being in developing countries?\n",
      " 1 What is the current state and distribution of evidence?\n",
      " 2 What types of impacts from conservation interventions on human well-being are measured?\n",
      " 3 What types of ecosystem services are explicitly associated with the impacts of conservation interventions on human well-being?\n",
      " 4 What populations are affected by conservation and/ or focus of studies?\n",
      " 5 How does the evidence base align with major priorities and investments of implementing agencies?\n",
      "\n",
      "PICO:\n",
      "- Population    : Human populations, including individuals, households, communities or nation states in non-OECD countries\n",
      "- Intervention  : Adoption or implementation of nature conservation interventions\n",
      "- Comparator    : No use of nature conservation interventions either between sites or groups, or over time series (before/after)\n",
      "- Outcome       : Positive or negative effects on the multi-dimensional well-being status of human populations\n",
      "\n",
      "Keyterms:\n",
      "- Group: intervention qualifiers\n",
      "    - marine (synonyms: ['freshwater'])\n",
      "    - coastal \n",
      "    - forest (synonyms: ['forests', 'forestry'])\n",
      "    - ecosystem (synonyms: ['ecosystems'])\n",
      "    - species \n",
      "    - habitat (synonyms: ['habitats'])\n",
      "    - biodiversity \n",
      "    - sustainable (synonyms: ['sustainability'])\n",
      "    - ecology (synonyms: ['ecological'])\n",
      "    - integrated \n",
      "    - landscape \n",
      "    - seascape \n",
      "    - coral reef (synonyms: ['coral reefs'])\n",
      "    - natural resources (synonyms: ['natural resource'])\n",
      "- Group: outcome\n",
      "    - wellbeing (synonyms: ['well-being', 'well being'])\n",
      "    - ecosystem service (synonyms: ['ecosystem services'])\n",
      "    - nutrition \n",
      "    - skill (synonyms: ['skills'])\n",
      "    - empower (synonyms: ['empowering'])\n",
      "    - clean water (synonyms: ['livelihood'])\n",
      "    - livelihoods (synonyms: ['food security'])\n",
      "    - resilience (synonyms: ['vulnerability'])\n",
      "    - capital (synonyms: ['social capital'])\n",
      "    - attitude (synonyms: ['attitudes'])\n",
      "    - perception (synonyms: ['perceptions'])\n",
      "    - health (synonyms: ['human health'])\n",
      "    - human capital (synonyms: ['knowledge'])\n",
      "    - traditional knowledge \n",
      "- Group: outcome qualifiers\n",
      "    - human (synonyms: ['humans', 'humanity'])\n",
      "    - people \n",
      "    - person (synonyms: ['persons'])\n",
      "    - community (synonyms: ['communities'])\n",
      "    - household (synonyms: ['households'])\n",
      "    - fishermen (synonyms: ['fisherman'])\n",
      "    - collaborative \n",
      "- Group: intervention\n",
      "    - conservation \n",
      "    - conserve \n",
      "    - conservancy \n",
      "    - protect (synonyms: ['protects', 'protection'])\n",
      "    - management \n",
      "    - awareness \n",
      "    - law (synonyms: ['laws'])\n",
      "    - policy (synonyms: ['policy-making'])\n",
      "    - reserve \n",
      "    - govern (synonyms: ['governs', 'government'])\n",
      "    - capacity-build (synonyms: ['capacity-building', 'capacity building'])\n",
      "    - train (synonyms: ['tarins', 'training'])\n",
      "    - PES \n",
      "    - ecotourism (synonyms: ['eco-tourism'])\n",
      "    - sustainable use \n",
      "\n",
      "Selection Criteria:\n",
      "- location: individuals, households, or communities must be in non-OECD countries\n",
      "- undefined pop.: studies must include discrete populations and not undefined groups or populations\n",
      "- intervention type: study must document or measure people's specific and discrete external interventions, not daily use\n",
      "- in-situ: study must focus on establishment, adoption, or implementation of regulation, protection, or management of natural ecosystems through in-situ activities\n",
      "- outcome: studies must measure or describe human well-being outcomes, and can't only focus on biophysical outcomes of conservation\n",
      "\n"
     ]
    }
   ],
   "source": [
    "%run ../scripts/plan_review.py --user_id=1 --review_id=1 --test"
   ]
  },
  {
   "cell_type": "code",
   "execution_count": 5,
   "metadata": {
    "collapsed": false
   },
   "outputs": [
    {
     "name": "stdout",
     "output_type": "stream",
     "text": [
      "((\"wellbeing\" OR \"well-being\" OR \"well being\") OR (\"ecosystem service\" OR \"ecosystem services\") OR \"nutrition\" OR (\"skill\" OR \"skills\") OR (\"empower\" OR \"empowering\") OR (\"clean water\" OR \"livelihood\") OR (\"livelihoods\" OR \"food security\") OR (\"resilience\" OR \"vulnerability\") OR (\"capital\" OR \"social capital\") OR (\"attitude\" OR \"attitudes\") OR (\"perception\" OR \"perceptions\") OR (\"health\" OR \"human health\") OR (\"human capital\" OR \"knowledge\") OR \"traditional knowledge\")\n",
      "AND\n",
      "((\"marine\" OR \"freshwater\") OR \"coastal\" OR (\"forest\" OR \"forests\" OR \"forestry\") OR (\"ecosystem\" OR \"ecosystems\") OR \"species\" OR (\"habitat\" OR \"habitats\") OR \"biodiversity\" OR (\"sustainable\" OR \"sustainability\") OR (\"ecology\" OR \"ecological\") OR \"integrated\" OR \"landscape\" OR \"seascape\" OR (\"coral reef\" OR \"coral reefs\") OR (\"natural resources\" OR \"natural resource\"))\n",
      "AND\n",
      "((\"human\" OR \"humans\" OR \"humanity\") OR \"people\" OR (\"person\" OR \"persons\") OR (\"community\" OR \"communities\") OR (\"household\" OR \"households\") OR (\"fishermen\" OR \"fisherman\") OR \"collaborative\")\n",
      "AND\n",
      "(\"conservation\" OR \"conserve\" OR \"conservancy\" OR (\"protect\" OR \"protects\" OR \"protection\") OR \"management\" OR \"awareness\" OR (\"law\" OR \"laws\") OR (\"policy\" OR \"policy-making\") OR \"reserve\" OR (\"govern\" OR \"governs\" OR \"government\") OR (\"capacity-build\" OR \"capacity-building\" OR \"capacity building\") OR (\"train\" OR \"tarins\" OR \"training\") OR \"PES\" OR (\"ecotourism\" OR \"eco-tourism\") OR \"sustainable use\")\n"
     ]
    }
   ],
   "source": [
    "query = \"SELECT keyterms FROM review_plans WHERE review_id = 1\"\n",
    "keyterms = list(pgdb.run_query(query))[0]['keyterms']\n",
    "print(cipy.utils.get_boolean_search_query(keyterms))"
   ]
  },
  {
   "cell_type": "markdown",
   "metadata": {
    "collapsed": true
   },
   "source": [
    "---\n",
    "\n",
    "## Citation Ingestion and De-duplication\n",
    "\n",
    "- load citations from RIS or BibTex files then parse, standardize, sanitize, validate, and store the data\n",
    "- identify duplicate citations using a sophisticated model and assign the most complete record in a set of duplicates as the \"canonical\" record"
   ]
  },
  {
   "cell_type": "code",
   "execution_count": 13,
   "metadata": {
    "collapsed": false
   },
   "outputs": [
    {
     "name": "stderr",
     "output_type": "stream",
     "text": [
      "2016-07-11 22:24:20,813 - ingest_citations - INFO - parsing records in ../data/raw/citation_files/phase_2_demo_citations.ris\n",
      "2016-07-11 22:24:20,814 - ingest_citations - INFO - valid record: Ecological protection and well-being, 2013\n",
      "2016-07-11 22:24:20,815 - ingest_citations - INFO - valid record: The economic value of forest ecosystems, 2001\n",
      "2016-07-11 22:24:20,816 - ingest_citations - INFO - valid record: Contribution of tourism development to protected area management: Local stakeholder perspectives, 2009\n",
      "2016-07-11 22:24:20,817 - ingest_citations - INFO - 3 valid records inserted into appname db (TEST)\n"
     ]
    }
   ],
   "source": [
    "%run ../scripts/ingest_citations.py --citations ../data/raw/citation_files/phase_2_demo_citations.ris --user_id=1 --review_id=1 --test"
   ]
  },
  {
   "cell_type": "code",
   "execution_count": 17,
   "metadata": {
    "collapsed": false
   },
   "outputs": [
    {
     "name": "stdout",
     "output_type": "stream",
     "text": [
      "total # citations = 28709\n"
     ]
    }
   ],
   "source": [
    "num_citations = list(pgdb.run_query('SELECT COUNT(1) FROM citations WHERE review_id = 1'))[0]['count']\n",
    "print('total # citations =', num_citations)"
   ]
  },
  {
   "cell_type": "code",
   "execution_count": 7,
   "metadata": {
    "collapsed": false
   },
   "outputs": [
    {
     "name": "stderr",
     "output_type": "stream",
     "text": [
      "2016-07-11 22:19:58,881 - dedupe_records - INFO - reading dedupe settings from ../models/dedupe_citations_settings\n",
      "2016-07-11 22:20:19,236 - dedupe_records - INFO - duplicate threshold = 0.827943\n",
      "2016-07-11 22:20:19,879 - dedupe_records - INFO - found 361 duplicate clusters\n",
      "2016-07-11 22:20:20,020 - dedupe_records - INFO - inserted 726 records into duplicates db (TEST)\n"
     ]
    }
   ],
   "source": [
    "%run ../scripts/dedupe_records.py --review_id=1 --threshold=auto --settings=../models/dedupe_citations_settings --test"
   ]
  },
  {
   "cell_type": "code",
   "execution_count": 2,
   "metadata": {
    "collapsed": false,
    "scrolled": false
   },
   "outputs": [
    {
     "name": "stdout",
     "output_type": "stream",
     "text": [
      "citations [15, 14] are duplicates with avg. duplicate score = 0.999982\n",
      "\n",
      "TITLE:    Managing the Brisbane River and Moreton Bay: an integrated research/management program to reduce impacts on an Australian estuary\n",
      "YEAR:     2001\n",
      "AUTHORS:  Abal, E G; Dennison, W C; Greenfield, P F\n",
      "ABSTRACT: The Brisbane River and Moreton Bay Study, an interdisciplinary study of Moreton Bay and its major tributaries, was initiated to address water quality issues which link sewage and diffuse loading with environmental degradation. Runoff and deposition of fine-grained sediments into Moreton Bay, followed by resuspension, have been linked with increased turbidity and significant loss of seagrass habitat. Sewage-derived nutrient enrichment, particularly nitrogen (N), has been linked to algal blooms by sewage plume maps. Blooms of a marine cyanobacterium, Lyngbya majuscula, in Moreton Bay have resulted in significant impacts on human health (e.g., contact dermatitis) and ecological health (e.g., seagrass loss), and the availability of dissolved iron from acid sulfate soil runoff has been hypothesised. The impacts of catchment activities resulting in runoff of sediments, nutrients and dissolved iron on the health of the Moreton Bay waterways are addressed. The Study, established by 6 local councils in association with two state departments in 1994, forms a regional component of a national and state program to achieve ecologically sustainable use of the waterways by protecting and enhancing their health, while maintaining economic and social development. The Study framework illustrates a unique integrated approach to water quality management whereby scientific research, community participation and the strategy development were done in parallel with each other. This collaborative effort resulted in a water quality management strategy which focuses on the integration of socioeconomic and ecological values of the waterways. This work has led to significant cost savings in infrastructure by providing a clear focus on initiatives towards achieving healthy waterways. The Study's Stage 2 initiatives form the basis for this paper.\n",
      "KEYWORDS: Brisbane River; Moreton Bay; catchment impacts; estuary management; healthy waterways; integrated management; participation; stakeholder; water quality model\n",
      "\n",
      "TITLE:    Managing the Brisbane River and Moreton Bay: An integrated research/management program to reduce impacts on an Australian estuary\n",
      "YEAR:     2001\n",
      "AUTHORS:  Abal, E G; Dennison, W C; Greenfield, P F\n",
      "ABSTRACT: The Brisbane River and Moreton Bay Study, an interdisciplinary study of Moreton Bay and its major tributaries, was initiated to address water quality issues which link sewage and diffuse loading with environmental degradation. Runoff and deposition of fine-grained sediments into Moreton Bay, followed by resuspension, have been linked with increased turbidity and significant loss of seagrass habitat. Sewage-derived nutrient enrichment, particularly nitrogen (N), has been linked to algal blooms by sewage plume maps. Blooms of a marine cyanobacterium, Lyngbya majuscula, in Moreton Bay have resulted in significant impacts on human health (e.g., contact dermatitis) and ecological health (e.g., seagrass loss), and the availability of dissolved iron from acid sulfate soil runoff has been hypothesised. The impacts of catchment activities resulting in runoff of sediments, nutrients and dissolved iron on the health of the Moreton Bay waterway are addressed. The Study, established by 6 local councils in association with two state departments in 1994, forms a regional component of a national and state program to achieve ecologically sustainable use of the waterways by protecting and enhancing their health, while maintaining economic and social development. The Study framework illustrates a unique integrated approach to water quality management whereby scientific research, community participation and the strategy development were done in parallel with each other. This collaborative effort resulted in a water quality management strategy which focuses on the integration of socioeconomic and ecological values of the waterways. This work has led to significant cost savings in infrastructure by providing a clear focus on initiatives towards achieving healthy waterways. The Study's Stage 2 initiatives form the basis for this paper.\n",
      "KEYWORDS: Brisbane River; Catchment impacts; Estuary management; Healthy waterways; Integrated management; Moreton Bay; Stakeholder participation; Water quality model\n"
     ]
    }
   ],
   "source": [
    "query = \"\"\"\n",
    "SELECT canonical_citation_id, array_agg(citation_id) AS citation_ids, AVG(duplicate_score) AS avg_score\n",
    "FROM duplicates\n",
    "GROUP BY 1 HAVING AVG(duplicate_score) > 0.9 ORDER BY 1 ASC\n",
    "LIMIT 1\n",
    "\"\"\"\n",
    "dupes = list(pgdb.run_query(query))[0]\n",
    "print('citations {} are duplicates with avg. duplicate score = {}'.format(\n",
    "        dupes['citation_ids'], round(dupes['avg_score'], 6)))\n",
    "\n",
    "query = \"\"\"\n",
    "SELECT citation_id, authors, title, abstract, publication_year, keywords\n",
    "FROM citations\n",
    "WHERE citation_id = ANY(%(citation_ids)s)\n",
    "\"\"\"\n",
    "for record in pgdb.run_query(query, {'citation_ids': dupes['citation_ids']}):\n",
    "    cipy.utils.present_citation(record)"
   ]
  },
  {
   "cell_type": "markdown",
   "metadata": {},
   "source": [
    "---\n",
    "\n",
    "## Initial Ranking of Citations\n",
    "\n",
    "- sample citations ranked by overlap with keyterms; user pre-screens citations until 10 have been included and 10 have been excluded\n",
    "- based on included/excluded citations, rank citations by ratio of relevant to irrelevant keyterms and present those most likely to be relevant to the user for pre-screening"
   ]
  },
  {
   "cell_type": "code",
   "execution_count": 2,
   "metadata": {
    "collapsed": false,
    "scrolled": true
   },
   "outputs": [
    {
     "name": "stderr",
     "output_type": "stream",
     "text": [
      "2016-07-24 23:16:38,917 - screen_citations - INFO - 0 citations included, 0 citations excluded\n"
     ]
    },
    {
     "name": "stdout",
     "output_type": "stream",
     "text": [
      "\n",
      "TITLE:    Marine ecological capital: Concept and attributes\n",
      "YEAR:     2010.0\n",
      "AUTHORS:  Chen, S; Du, G; Ke, S; Li, J; Ren, D; Wang, D; Wang, L; Wang, M; Wang, Q; Xia, T; Zhao, Z\n",
      "ABSTRACT: Marine ecological resources are the foundation of social and economic development. A nation's marine economic development mainly depends on the quantity and quality of marine ecological resources it possesses. Marine ecological resources, as the important input to marine industry, can be viewed as \"capital\". According to the World Bank's definition, capital consists of natural capital, man-made capital, human capital and social capital. Marine ecological resources are the important component of natural capital. Valuation and capitalized management of marine ecological resources are very important for human's sustainable development. This article proposed the concept of marine ecological capital based on the theories of both natural capital and ecosystem services. At the same time the authors consider the definitions of \"natural capital\" and \"ecological assets\" defined by national and international scholars and also the special characteristics of marine ecological resources. Marine ecological capital was defined as marine ecological resources which have direct or indirect contributions to humans' social and economic production and provide benefits for humans. The value of marine ecological capital is defined as the monetized benefits for humans from marine ecological capital, including marine ecological resource stock value and marine ecosystem service value. Marine ecological resources consist of marine living organisms and their habitats (i. e. seawater, surface seabed), as well as the marine ecosystem and they act as a whole. Marine ecological capital has the general attributes of capital as well as its own attributes. General attributes include the overall and long-term profitability, the nature of production input and scarcity. Marine ecological capital's attributes include threshold, holistic nature, mutual promotion and restraint, spatial-temporal complexity, mobility, across-region transfer, incomplete ownership, public goods and externality. The marine ecological capital concept is different from marine ecosystem services, marine ecological assets, marine natural capital, and marine resources. Marine ecological capital is the stock form of marine ecological resources. Two groups of marine ecological resources, including marine living organisms and habitat, compose the entirety of a marine ecosystem. The product flow and service flow provided by marine ecological resources, known as marine ecosystem services, are flow forms. The benefits of marine ecological capital are mainly realized through the way that marine ecosystem provides services for human. Therefore, the value of marine ecological capital consists of its stock value and marine ecosystem service value. However marine ecosystem services, as a revenue flow generated by the marine ecological capital, are different in content and form from marine ecological capital. Marine ecological capital and marine ecological assets is a pair of terminology easily confused and often misused. They both mean marine ecological resources stock forms that can product benefits. Capital is an economics term whose key attributes are the natures of profitability and production input. Asset is accounting terminology, whose basic attributes are the nature of profitability and the property right. Asset emphasizes on the property right rather than nature of input for production. However the term capital emphasizes on the nature of input for production rather than the property right. Marine natural capital refers to marine natural resources which generate benefits for humans, including marine living organisms, seawater, seabed, marine minerals, ocean energy, and the entire marine system which they integrate into. These natural resources are linked as an entirety together through long-term, global-scale seawater cycle, biogeochemical cycle, geological process and atmospheric circulation. However marine ecological capital refers to marine ecological resources which generate benefits for humans, including marine living organisms and their habitats and the entire marine ecosystem. hese ecological resources are linked together by short-term, local-scale biogeochemical processes and ecological processes. Marine ecological capital is an important part of marine natural capital. Marine ecological capital and marine resources are two obviously different concepts. The former includes marine living organisms and their habitat and the entire ecosystem they compose. The latter includes marine living organisms, seawater, minerals, ocean energy, ocean space and marine tourism resources, without focus on the biological coupling relations around marine organisms, sea water and surface seabed.\n",
      "DOI:      None\n"
     ]
    },
    {
     "name": "stderr",
     "output_type": "stream",
     "text": [
      "2016-07-24 23:16:47,613 - screen_citations - INFO - 0/10 included, 1/10 excluded\n"
     ]
    },
    {
     "name": "stdout",
     "output_type": "stream",
     "text": [
      "\n",
      "INCLUDE (y/n/u)? n\n",
      "\n",
      "TITLE:    Trends in development of coastal area management in tropical countries: From central to community orientation\n",
      "YEAR:     1997.0\n",
      "AUTHORS:  Christie, P; White, A T\n",
      "ABSTRACT: The development phases of coastal management in tropical countries are described. Precolonial, centralized, community based, and collaborative coastal management are identified as forms of management which have evolved to what today is called integrated coastal management. Centralized management began during colonial times when any attempt at management was orchestrated from the top of government. Community based coastal management, in response to the failures of more centralized approaches, began in the Philippines through several projects, the experience of which spread to other countries in Southeast Asia and to Ecuador in the 1980s. The concept of collaborative management is now accepted as a description of variations in joint management arrangements between government and community or with the private sector stakeholders. It is suggested that collaborative management and integrated coastal management are more or less synonymous. The trends identified within tropical coastal management include interdisciplinary research and management integration, valuing traditional knowledge and management systems, increasing reliance on local participation, and using participation oriented research approaches. It is seen that the capacity for improved coastal management is increasing dramatically with a strong emphasis on training through academe and field learning trials. The authors are positive about current developments in coastal management, while cautioning practitioners that global economics will increasingly impact the use and conservation of coastal resources. A theme is that local government and community accountability in coastal management will help make efforts effective and more sustainable.\n",
      "DOI:      None\n"
     ]
    },
    {
     "name": "stderr",
     "output_type": "stream",
     "text": [
      "2016-07-24 23:16:47,868 - screen_citations - INFO - 0/10 included, 2/10 excluded\n"
     ]
    },
    {
     "name": "stdout",
     "output_type": "stream",
     "text": [
      "\n",
      "INCLUDE (y/n/u)? n\n",
      "\n",
      "TITLE:    Building sustainability through collaborative planning\n",
      "YEAR:     2012.0\n",
      "AUTHORS:  Ghomashchi, V\n",
      "ABSTRACT: Collaborative planning can influence efforts to build social capital and make consensus towards sustainability and sustainable development. The present study attempts to demonstrate the crucial role of social capital and capacity building as 'tools' and 'targets' of the sustainability journey. This paper briefly reviews the sustainability literature related to planning. Considering the collaborative approach to planning and the associated concepts, the present study aims to make a link between collaborative planning and sustainability. Finally, this paper suggests two conceptual models to explore and explain the interaction and implications of social capital and sustainability. The first model considers sustainability through an integrated dynamic system and explores how collaborative planning can generate sustainability through capacity building. The second model will present a framework of thinking and acting for collaborative sustainability. © 2012 WIT Press.\n",
      "DOI:      None\n"
     ]
    },
    {
     "name": "stderr",
     "output_type": "stream",
     "text": [
      "2016-07-24 23:16:48,124 - screen_citations - INFO - 0/10 included, 3/10 excluded\n"
     ]
    },
    {
     "name": "stdout",
     "output_type": "stream",
     "text": [
      "\n",
      "INCLUDE (y/n/u)? n\n",
      "\n",
      "TITLE:    Ecological protection and well-being\n",
      "YEAR:     2013.0\n",
      "AUTHORS:  Li, H; Zhang, A\n",
      "ABSTRACT: Based on Sen's function approach, this paper stated the connotation of the well-being, and defined that the freedom choice and capability of the human is the connotation of the human well-being on ecosystem services, while the poverty is the limited for capability and development of the human. Ecosystem degradation and destruction will seriously threat to human well-being, especially the well-being of the poor. Conservation of biodiversity can contribute to the protection of ecosystem services, which as the core of the ecosystem, and then improve the well-being of human. Focused on the well-being of the poor whom strongly dependent on ecosystem services and effective implemented ecological compensation, that can achieve a win-win between ecological protection and human well-being improvement.\n",
      "DOI:      None\n"
     ]
    },
    {
     "name": "stderr",
     "output_type": "stream",
     "text": [
      "2016-07-24 23:16:48,380 - screen_citations - INFO - 0/10 included, 4/10 excluded\n"
     ]
    },
    {
     "name": "stdout",
     "output_type": "stream",
     "text": [
      "\n",
      "INCLUDE (y/n/u)? n\n",
      "\n",
      "TITLE:    Challenges for biodiversity research in Europe\n",
      "YEAR:     2011.0\n",
      "AUTHORS:  Aguilar, A; Bauhus, J; Courchamp, F; De Meester, L; Gandini, G; Godfray, C; Hector, A; Keustermans, L; Koch, M; Le Maho, Y; Manuel, M; Niemelä, J; Owens, I; Pawlowski, J; Quéinnec, E; Smets, E; Sutherland, W; Van Tienderen, P; Werger, M; Wörheide, G\n",
      "ABSTRACT: In 2010, the international year of biodiversity, new policies for preserving biodiversity in Europe and worldwide will be developed as targets set by older policies, such as to halt biodiversity loss in the EU by 2010, were not met. This paper aims at sharing the expertise LERU's members harbour to set the right priorities for new biodiversity policies. Three key observations point to the urgency of an effective biodiversity conservation policy: 1) the alarming global decline in biodiversity; 2) the associated diminishing return in ecosystem services that are key to human well-being; 3) the dangerous mix of climate change and biodiversity loss. There are important gaps in our knowledge of the regulating mechanisms of biodiversity and the relationship of biodiversity to ecosystem services. We therefore list 18 research challenges, which we consider to be the 'need-to-know' building blocks for a future research agenda. Filling the knowledge gaps is crucial to develop an efficient and sustainable policy towards biodiversity conservation. The research challenges are broadly grouped in five areas. A first set focuses on different challenges posed by documenting and monitoring biodiversity. A second group describes six research challenges on drivers of biodiversity that need more attention. These challenges relate to 1) insight into the processes of community assembly; 2) large and complex ecosystems; 3) landscape metapopulation structure; 4) ecoevolutionary dynamics; 5) species networks and identifying its key players; and 6) issues associated with complex dynamics and alternative stable states. The challenges of linking biodiversity, functional diversity, and ecosystem functioning and services are set out in a third group of research challenges, which also highlights the need to analyse ecosystem services at landscape level and to investigate the economics of biodiversity and ecosystem services. A fourth set of research challenges focuses on understanding how species respond to anthropogenic impact (global change), and a fifth group emphasizes the need to understand how species respond to nature conservation measures. Besides describing important research challenges, LERU also provides recommendations for effective biodiversity conservation strategies, which are not only aimed at policy makers, but also at researchers, other stakeholders and the general public: It is necessary to invest in a European infrastructure for biodiversity data and research. LERU emphasizes the importance for Europe to invest in adequate infrastructures which support biodiversity research to increase our knowledge on biodiversity and its impact on the functioning of ecosystems, and hence help decision makers in devising cost-effective management plans to reach the stated goals. There is a need for a powerful research agenda enhancing fundamental knowledge on biodiversity drivers and threats. This vigorous biodiversity-targeted research programme should be initiated at the European level, but also with strong national support. There is a great need for an effective translation of scientific knowledge into biodiversity practice to guarantee that scientific evidence is available to inform both policy development and practical implementation of conservation management. There is a need for a consistent and global biodiversity conservation policy, which also aims at changing the way people live and work in Europe to ensure biodiversity conservation within and outside Europe's borders. Given that biodiversity and ecosystem services are of paramount importance to the development of human societies in the long run, a \"biodiversity check\" in all policies should be implemented. When future biodiversity conservation strategies are developed, it should be verified if the measures taken are climate change-proof. The economic consequences of biodiversity loss and gain need to be quantified to enable a system in which the agent causing the loss will need to pay for the costs linked to the loss and the restoration of ecosystems, instead of society as a whole. revention is by far the most efficient strategy to reduce the number of invasive exotic species and their negative impact on biodiversity. To realise efficient prevention, a European strategy to deal with invasive exotic species is mandatory. LERU emphasizes the importance of collaboration across scientific disciplines for modern biodiversity research and therefore emphasizes the need for support for multidisciplinary collaborative networks. LERU calls for an improved science-policy interface in biodiversity protection, which could be realised by reinforcing the existing Intergovernmental platform on Biodiversity and Ecosystem Services (IPBES). Increased efforts for raising biodiversity education and awareness are necessary to get the neededsupport from society as a whole for a successful biodiversity policy. Research-intensive universities can play a leading role in this. Research-intensive universities can contribute to fighting biodiversity loss by implementing an ambitious biodiversity research agenda, by developing inter-university networks sharing research infrastructures, and by investing in biodiversity education. LERU considers the study of biodiversity and the ecological responses to environmental change a top priority with an enormous added value to society © 2010 Published by LERU.\n",
      "DOI:      None\n"
     ]
    },
    {
     "name": "stderr",
     "output_type": "stream",
     "text": [
      "2016-07-24 23:16:48,633 - screen_citations - INFO - 0/10 included, 5/10 excluded\n"
     ]
    },
    {
     "name": "stdout",
     "output_type": "stream",
     "text": [
      "\n",
      "INCLUDE (y/n/u)? n\n",
      "\n",
      "TITLE:    Personifying sustainable rural livelihoods in forest fringe communities in Ghana: A historic rhetoric?\n",
      "YEAR:     2009.0\n",
      "AUTHORS:  Appiah, D O\n",
      "ABSTRACT: This paper examines the concept of sustainable rural livelihood within the context of forest fringe communities in Ghana. The rhetoric of using forestry to sustain community livelihoods has been approached with ambivalence. In this wise, the focus is on the perceived relationships that exist between the forest as an independent resource and the forest fringe communities as dependents of the resource. Within forest-fringe districts like any other local and agrarian environments in Ghana, the livelihoods of the people are largely predicated on subsistent agriculture. Alternatively, it also entails the exploitation of the natural resources including forest resource supplies as integral part of the larger socio-economic sustainability of the these communities in the district. The issue of rural sustainable livelihoods in forest fringe communities has been perceived as a critical approach to meeting the conservation and management of forest resources and the communities that subsist on the resource. Hitherto, the interventions had almost invariably been presented in the well-recognized/ protected forest reserves, under formal institutional management. In recent years however, the need for a shift in this attention has engendered what could be termed as off-reserve forest resources management. In this connection, the off-reserve areas which are predominantly occupied by subsistent farmers in agro-forestry have been advocated as the desired areas for forest resource conservation and management. This is in view of the role played in supplying forest resources both tree and non-tree forest products (NTFPs) on sustainable basis. In this connection, the farmers and forest end-users within forest communities are perceived as agents of operation and change. Ultimately, the long-term goal is to create a strong synergy among various stakeholders of forestry, regarding use rights and responsibilities of conservation and management. This has the avowed aim to promote in the country, particularly in forest fringe communities, commitment to conservation and management of forest resources for sustainable rural livelihoods.\n",
      "DOI:      None\n"
     ]
    },
    {
     "name": "stderr",
     "output_type": "stream",
     "text": [
      "2016-07-24 23:16:48,889 - screen_citations - INFO - 0/10 included, 6/10 excluded\n"
     ]
    },
    {
     "name": "stdout",
     "output_type": "stream",
     "text": [
      "\n",
      "INCLUDE (y/n/u)? n\n",
      "\n",
      "TITLE:    Traditional and local ecological knowledge about forest biodiversity in the Pacific Northwest\n",
      "YEAR:     2008.0\n",
      "AUTHORS:  Chamley, S; Fischer, A P; Jones, E T\n",
      "ABSTRACT: This paper synthesizes the existing literature about traditional and local ecological knowledge relating to biodiversity in Pacific Northwest forests in order to assess what is needed to apply this knowledge to forest biodiversity conservation efforts. We address four topics: (1) views and values people have relating to biodiversity, (2) the resource use and management practices of local forest users and their effects on biodiversity, (3) methods and models for integrating traditional and local ecological knowledge into biodiversity conservation on public and private lands, and (4) challenges to applying traditional and local ecological knowledge for biodiversity conservation. We focus on the ecological knowledge of three groups who inhabit the region: American Indians, family forest owners, and commercial nontimber forest product (NTFP) harvesters. Integrating traditional and local ecological knowledge into forest biodiversity conservation is most likely to be successful if the knowledge holders are directly engaged with forest managers and western scientists in on-the-ground projects in which interaction and knowledge sharing occur. Three things important to the success of such efforts are understanding the communication styles of knowledge holders, establishing a foundation of trust to work from, and identifying mutual benefits from knowledge sharing that create an incentive to collaborate for biodiversity conservation. Although several promising models exist for how to integrate traditional and local ecological knowledge into forest management, a number of social, economic, and policy constraints have prevented this knowledge from flourishing and being applied. These constraints should be addressed alongside any strategy for knowledge integration.\n",
      "DOI:      None\n"
     ]
    },
    {
     "name": "stderr",
     "output_type": "stream",
     "text": [
      "2016-07-24 23:16:49,145 - screen_citations - INFO - 0/10 included, 7/10 excluded\n"
     ]
    },
    {
     "name": "stdout",
     "output_type": "stream",
     "text": [
      "\n",
      "INCLUDE (y/n/u)? n\n",
      "\n",
      "TITLE:    Biodiversity conservation: Officials' perceptions and discord with community forest management in Nepal\n",
      "YEAR:     2005.0\n",
      "AUTHORS:  Acharya, U; Petheram, R J; Reid, R\n",
      "ABSTRACT: Two topics receiving much attention in design of forest policy and management in Nepal are conservation of biodiversity and participation of forest-local people. Government officials, forest users and development workers are all involved in shaping policy for the management of forest for biodiversity and other values. It is therefore crucial to understand the different viewpoints about biodiversity among these stakeholders. This paper is derived from a broad case study on the views of various stakeholders in community forestry in Nepal, but is focused on understanding the views of policy-level government officials in regards to biodiversity conservation. Using a grounded theory approach, qualitative data were collected on two field visits in 2002-2003 to the study area. The results of interviews with officials indicate diverse perspectives in interpreting biodiversity conservation. These include perceptions of forest users' understanding about diversity, and strong beliefs about definition of biodiversity and about dependence of users on forest for their livelihood. Implications of the results include an obvious need for better understanding by staff at various levels of government and other agencies involved in community forestry, of the different concepts and views held about biodiversity conservation. A broader understanding among officials of biodiversity and deeper knowledge of other's views on biodiversity conservation could help in designing and implementing policies and programs in the context of community forest management.\n",
      "DOI:      None\n"
     ]
    },
    {
     "name": "stderr",
     "output_type": "stream",
     "text": [
      "2016-07-24 23:16:49,398 - screen_citations - INFO - 1/10 included, 7/10 excluded\n"
     ]
    },
    {
     "name": "stdout",
     "output_type": "stream",
     "text": [
      "\n",
      "INCLUDE (y/n/u)? y\n",
      "\n",
      "TITLE:    Progress and perspectives of ecosystem services management\n",
      "YEAR:     2013.0\n",
      "AUTHORS:  Li, Y; Luo, Y; Ouyang, Z; Zheng, H\n",
      "ABSTRACT: Ecosystems provide human multiple types of ecosystem services in the aspects of natural resources and living environment, and all these services are crucial foundation of sustainable social and economic development. However, between the understanding of ecosystem services and practice of management, there exist great challenges which contain: quantifying ecosystem services, relationships among multiple services, multi-scale correlation of services, combination of ecosystem services and policy design. In response to these challenges, researches of ecosystem services management in recent years have focused on fields as follow: quantitative estimate of ecosystem services, relationship between ecosystem services and human well-being, trade-offs among multiple ecosystem services, conservation planning of ecosystem services and mechanisms of payments for ecosystem services. With the goal to promote ecosystem services management practices, we should: further strengthen the theoretical research about provision of ecosystem services, develop more methods to display results of services research, carry out more interdisciplinary studies with sociology, economics, demography, search for practicable and reasonable approach to incorporating ecosystem services into decision-making.\n",
      "DOI:      None\n"
     ]
    },
    {
     "name": "stderr",
     "output_type": "stream",
     "text": [
      "2016-07-24 23:16:49,649 - screen_citations - INFO - 1/10 included, 8/10 excluded\n"
     ]
    },
    {
     "name": "stdout",
     "output_type": "stream",
     "text": [
      "\n",
      "INCLUDE (y/n/u)? n\n",
      "\n",
      "TITLE:    Linking natural resource management with sustainable development of traditional mountain societies\n",
      "YEAR:     2003.0\n",
      "AUTHORS:  Ramakrishnan, P S\n",
      "ABSTRACT: Both in a biophysical sense and in terms of the human dimensions of the problems, mountains form a highly heterogeneous landscape. Largely occupied by traditional societies, those living close to nature and natural resources, these mountain societies are linked to the natural forest ecosystem and the human-managed agroecosystems through biodiversity driven traditional ecological knowledge. This knowledge base operates at varied levels of ecosystem complexity - sub-specific/species levels going right up to the landscape level complexity. This paper analyses the special features of this socio-ecological system complexity and considers various possibilities for sustainable management of natural resources, with concerns for sustainable livelihood of mountain communities.\n",
      "DOI:      None\n"
     ]
    },
    {
     "name": "stderr",
     "output_type": "stream",
     "text": [
      "2016-07-24 23:16:49,904 - screen_citations - INFO - 1/10 included, 9/10 excluded\n"
     ]
    },
    {
     "name": "stdout",
     "output_type": "stream",
     "text": [
      "\n",
      "INCLUDE (y/n/u)? n\n",
      "\n",
      "TITLE:    Cultivating deep care: Integrating landscape ecological research into the cultural dimension of ecosystem services\n",
      "YEAR:     2013.0\n",
      "AUTHORS:  Musacchio, L R\n",
      "ABSTRACT: Landscape ecological research about the cultural dimension of ecosystem services remains less developed as compared to other aspects of ecosystem services about landscapes. In this article, the cultural dimension of ecosystem services is defined as the psychological, cultural, and social relationships that influence people's connections to biodiversity and landscapes as well as to what benefits they consider useful and relevant. Yet to meet the challenge of understanding sustainability in different landscapes, such as urban ones, research about ecosystem services in landscape ecology will need to shift its emphasis towards the scale of people's experience of landscapes. As a means to improve this situation, cultivating deep care is proposed as a key concept to better integrate the cultural dimension of ecosystem services into landscape ecological research about urban landscapes. Cultivating deep care is defined as the adaptive process for deepening people's affinity of urban nature including enhancing people's appreciation, awareness, and actions for biodiversity, landscapes, and their own well-being that will ultimately benefit ecosystem services. The heart of this article is a conceptual framework that begins to outline the scope and boundaries of cultivating deep care as a key concept and connects it to its intellectual context that includes research such as landscape sustainability, landscape perception, resilience science, and ecosystem services. An important assumption is that cultivating deep care is a \"work in progress,\" which will grow and evolve over time as new knowledge is contributed to it. In the conceptual framework, several principles explore and flesh important ideas and relationships about cultivating deep care as a key concept. Each principle is organized around three parts: (1) a brief description; (2) relevance to landscape ecological research; and (3) recommended research topics. Using these principles, I suggest potential avenues to advance landscape ecological research about biodiversity, ecosystem services, and human well-being. © 2013 Springer Science+Business Media Dordrecht.\n",
      "DOI:      None\n"
     ]
    },
    {
     "name": "stderr",
     "output_type": "stream",
     "text": [
      "2016-07-24 23:16:50,155 - screen_citations - INFO - 1/10 included, 10/10 excluded\n"
     ]
    },
    {
     "name": "stdout",
     "output_type": "stream",
     "text": [
      "\n",
      "INCLUDE (y/n/u)? n\n",
      "\n",
      "TITLE:    Flagships, umbrellas, and keystones: Is single-species management passe in the landscape era?\n",
      "YEAR:     1997.0\n",
      "AUTHORS:  Simberloff, D\n",
      "ABSTRACT: Because it is so difficult to monitor and manage every aspect of biodiversity, several shortcuts have been proposed whereby we monitor and/or protect single species. The indicator species concept is problematic because there is no consensus on what the indicator is supposed to indicate and because it is difficult to know which is the best indicator species even when we agree on what it should indicate. The umbrella species (a species that needs such large tracts of habitat that saving it will automatically save many other species) seems like a better approach, although often whether many other species will really fall under the umbrella is a matter of faith rather than research. Intensive management of an indicator or an umbrella species (for example, by transplant or supplemental feeding) is a contradiction in terms because the rest of the community to be indicated or protected does not receive such treatment. A flagship species, normally a charismatic large vertebrate, is one that can be used to anchor a conservation campaign because it arouses public interest and sympathy, but a flagship need not be a good indicator or umbrella. And conservation of flagship species is often very expensive. Further, management regimes of two flagship species can conflict. Ecosystem management, often on a landscape scale, is a proposed solution to problems of single-species management. Keep the ecosystem healthy, according to this view, and component species will all thrive. However, conservationists have concerns about ecosystem management. First, it is variously defined, and many definitions emphasize the commodities ecosystems provide for humans rather than how humans can protect ecosystems. Second, the term 'ecosystem health' is ill-defined and associated with an out-moded, superorganismic view of the ecosystem. Third, ecosystem management seems focused on processes and so would appear to permit losses of species so long as they did not greatly affect processes like nutrient-cycling. Fourth, ecosystem management is often implemented by adaptive management. This may make it difficult to study the underlying mechanisms driving an ecosystem and to know when an entirely new management approach is needed. Thus, some conservationists see ecosystem management as a Trojan horse that would allow continued environmental destruction in the name of modern resource management. The recognition that some ecosystems have keystone species whose activities govern the well-being of many other species suggests an approach that may unite the best features of single-species and ecosystem management. If we can identify keystone species and the mechanisms that cause them to have such wide-ranging impacts, we would almost certainly derive information on the functioning of the entire ecosystem that would be useful in its management. Some keystone species themselves may be appropriate targets for management, but, even when they are not, our understanding of the ecosystem will be greatly increased. Keystone species may not be a panacea, however. We do not yet know how many ecosystems have keystone species, and the experiments that lead to their identification are often very difficult.\n",
      "DOI:      None\n"
     ]
    },
    {
     "name": "stderr",
     "output_type": "stream",
     "text": [
      "2016-07-24 23:16:50,407 - screen_citations - INFO - 1/10 included, 11/10 excluded\n"
     ]
    },
    {
     "name": "stdout",
     "output_type": "stream",
     "text": [
      "\n",
      "INCLUDE (y/n/u)? n\n",
      "\n",
      "TITLE:    Sustainable village organizations, the successful route to sustainable livelihoods?: A case study in the north-west frontier province of Pakistan\n",
      "YEAR:     2008.0\n",
      "AUTHORS:  Ur-Rehman, M\n",
      "ABSTRACT: The study is based on the impact of development interventions on the rural households in the Abbottabad district of Pakistan. Methodological approaches used include a qualitative analysis of natural resource management and NGOs' impact on development activities and quantitative analysis of households' livelihood status and strategies. The key findings are that the role of social capital can ensure sustainable natural resource management and sustainable livelihood improvement activities. Formation of community-based organizations can lead to the formation of social capital that is much needed for other management and livelihood support activities. Also, natural resource management and livelihood improvement activities need to be interrelated with each other to involve the poor as they need incentives. Copyright © 2008 SAGE Publications.\n",
      "DOI:      None\n"
     ]
    },
    {
     "name": "stderr",
     "output_type": "stream",
     "text": [
      "2016-07-24 23:16:50,663 - screen_citations - INFO - 1/10 included, 12/10 excluded\n"
     ]
    },
    {
     "name": "stdout",
     "output_type": "stream",
     "text": [
      "\n",
      "INCLUDE (y/n/u)? n\n",
      "\n",
      "TITLE:    The Ambatovy Project forest management program: A landscape approach to maintain biodiversity\n",
      "YEAR:     2012.0\n",
      "AUTHORS:  Andrianaivomahefa, P; Mass, V; Rajaonarivony, M; Rakotomanga, B; Ramahavalisoa, B; Randrianirinarisoa, J J\n",
      "ABSTRACT: The Ambatovy Project is a nickel and cobalt exploitation operation that includes an open pit mine located near Moramanga, Madagascar, an area recognized for its high regional biodiversity. As a consequence, the Project has implemented a stringent biodiversity management plan for the conservation area surrounding the mine footprint which also overlaps with the neighboring Torotorofotsy Ramsar site. As part of its biodiversity policy and to adhere to \"IFC Performance Standard 6\" on biodiversity conservation and sustainable natural resource management, the Project is committed to 1) avoiding species extinction, 2) minimizing impacts to natural resources, 3) realizing an actual net increase in the conservation of rare habitats, 4) assuring the viability of priority habitats by maintaining or increasing habitat connectivity, and 5) link Project actions in support of biodiversity with other regional biodiversity initiatives. To obtain these objectives, the Project has adopted a landscape approach to forest management that considers both the high level of biodiversity and the local population's dependence on natural resources as a means to sustain their livelihoods. As part of this approach, the Project is engaged in several activities including obtaining legal protection for a corridor linking the conservation area to the National protected areas system, providing support in updating the Ramsar site's management plan and creating a mine area forest zoning system that includes involving the local communities in forest management for sustainable resource use. Preliminary results suggest that activities implemented based on the landscape approach can be an effective means to decrease human pressure on areas of high conservation importance. © 2012 WIT Press.\n",
      "DOI:      None\n"
     ]
    },
    {
     "name": "stderr",
     "output_type": "stream",
     "text": [
      "2016-07-24 23:16:50,917 - screen_citations - INFO - 1/10 included, 13/10 excluded\n"
     ]
    },
    {
     "name": "stdout",
     "output_type": "stream",
     "text": [
      "\n",
      "INCLUDE (y/n/u)? n\n",
      "\n",
      "TITLE:    Changing forest conservation and management paradigms: Traditional ecological knowledge systems and sustainable forestry: Perspectives from Chile and India\n",
      "YEAR:     2009.0\n",
      "AUTHORS:  Herrmann, T M; Torri, M C\n",
      "ABSTRACT: This paper first explores the shift now occurring in the science that provides the theoretical basis for forest conservation and management. The paper then presents the concepts of traditional ecological knowledge and traditional management systems and practise to provide background for two case studies that examine traditional knowledge and forest management practices of tribal communities in the Sariska region (Rajasthan, India) and of the indigenous Mapuche Pewenhce communities in the Andean mountains of southern Patagonia in Chile, underlining the special relationship these tribal and indigenous communities maintain with the forest and their usefulness in community-based native forest conservation. These examples of traditional ecological knowledge and traditional management systems suggest that it is important to focus on managing ecological processes, instead of products, and to use integrated ecosystem management. Recommendations to move forest management paradigms beyond the current view of 'timber' or 'reserves' and toward one of truly integrated use that adapt conservation approaches to local cultural representations of the environment are made. © 2009 Taylor & Francis.\n",
      "DOI:      None\n"
     ]
    },
    {
     "name": "stderr",
     "output_type": "stream",
     "text": [
      "2016-07-24 23:16:51,173 - screen_citations - INFO - 2/10 included, 13/10 excluded\n"
     ]
    },
    {
     "name": "stdout",
     "output_type": "stream",
     "text": [
      "\n",
      "INCLUDE (y/n/u)? y\n",
      "\n",
      "TITLE:    Framing local outcomes of biodiversity conservation through ecosystem services: A case study from Ranomafana, Madagascar\n",
      "YEAR:     2013.0\n",
      "AUTHORS:  Kari, S; Korhonen-Kurki, K\n",
      "ABSTRACT: Conservation can have both positive and negative effects on human well-being by causing changes in ecosystem service flows and reallocation of the distribution of benefits. This can lead to different, sometimes contradictory, outcomes of conservation. We studied local perceptions of ecosystem service flows in the Ranomafana National Park area of Madagascar to examine the local outcomes of conservation. The Ranomafana forest area provides a variety of benefits that contribute considerably to local inhabitants' livelihoods and well-being. Changes in ecosystem service flows alter the provision of many important ecosystem services at the local level, which is likely to affect local livelihoods negatively and increase local vulnerability and inequality. The findings indicate the presence of trade-offs between types of ecosystem services and between different societal goals, namely conservation and development. Benefit trade-offs also occur within and between beneficiary groups and across spatial and temporal scales. Although conservation might prove beneficial for local people in the long run, its immediate local costs are high. The findings reveal the importance of integrating local perceptions of ecosystem services into conservation planning. In addition, there is a need for further negotiations of the trade-offs between ecosystem services, conservation and development in Ranomafana. © 2013 Elsevier B.V.\n",
      "DOI:      None\n"
     ]
    },
    {
     "name": "stderr",
     "output_type": "stream",
     "text": [
      "2016-07-24 23:16:51,427 - screen_citations - INFO - 3/10 included, 13/10 excluded\n"
     ]
    },
    {
     "name": "stdout",
     "output_type": "stream",
     "text": [
      "\n",
      "INCLUDE (y/n/u)? y\n",
      "\n",
      "TITLE:    Indigenous ecological knowledge, biodiversity and sustainable development in the central Himalayas\n",
      "YEAR:     2003.0\n",
      "AUTHORS:  Chandrasekhar, K; Maikhuri, R K; Nautiyal, S; Rao, K S; Saxena, K G; Semwal, R L; Sen, K K; Singh, K\n",
      "ABSTRACT: The paper has looked at traditional systems of forestry and agricultural system management in the central himalayan region. Based on a detailed analysis of traditional ecological knowledge that is linked with biodiversity, natural and human-managed, various possibilities for sustainable management of natural resources, with concerns for sustainable livelihood of local communities have been explored for the Garhwal region in the central Himalayas It is concluded that if the development interests of local people are marginalized for a long period of time, they might adopt actions detrimental to the goal of conservation. Capitalizing on the positive dimensions of traditional knowledge and overcoming its negative dimensions through conventional science-based inputs could ease the difficult process of securing people's participation in environmental conservation together with the socio-economic development of local communities.\n",
      "DOI:      None\n"
     ]
    },
    {
     "name": "stderr",
     "output_type": "stream",
     "text": [
      "2016-07-24 23:16:51,682 - screen_citations - INFO - 3/10 included, 14/10 excluded\n"
     ]
    },
    {
     "name": "stdout",
     "output_type": "stream",
     "text": [
      "\n",
      "INCLUDE (y/n/u)? n\n",
      "\n",
      "TITLE:    Assessment of coastal protection as an ecosystem service in Europe\n",
      "YEAR:     2013.0\n",
      "AUTHORS:  Delgado, I; Liquete, C; Maes, J; Stips, A; Zulian, G\n",
      "ABSTRACT: Mapping and assessment of ecosystem services is essential to provide scientific support to global and EU biodiversity policy. Coastal protection has been mostly analysed in the frame of coastal vulnerability studies or in local, habitat-specific assessments. This paper provides a conceptual and methodological approach to assess coastal protection as an ecosystem service at different spatial-temporal scales, and applies it to the entire EU coastal zone. The assessment of coastal protection incorporates 14 biophysical and socio-economic variables from both terrestrial and marine datasets. Those variables define three indicators: coastal protection capacity, coastal exposure and human demand for protection. A questionnaire filled by coastal researchers helped assign ranks to categorical parameters and weights to the individual variables. The three indicators are then framed into the ecosystem services cascade model to estimate how coastal ecosystems provide protection, in particular describing the service function, flow and benefit. The results are comparative and aim to support integrated land and marine spatial planning. The main drivers of change for the provision of coastal protection come from the widespread anthropogenic pressures in the European coastal zone, for which a short quantitative analysis is provided. © 2013 Elsevier Ltd.\n",
      "DOI:      None\n"
     ]
    },
    {
     "name": "stderr",
     "output_type": "stream",
     "text": [
      "2016-07-24 23:16:51,933 - screen_citations - INFO - 3/10 included, 15/10 excluded\n"
     ]
    },
    {
     "name": "stdout",
     "output_type": "stream",
     "text": [
      "\n",
      "INCLUDE (y/n/u)? n\n",
      "\n",
      "TITLE:    Linking future ecosystem services and future human well-being\n",
      "YEAR:     2006.0\n",
      "AUTHORS:  Butler, C D; Oluoch-Kosura, W\n",
      "ABSTRACT: Ecosystem services are necessary, yet not sufficient for human well-being (however defined). Insufficient access to the ecosystem provisioning service of food is a particularly important factor in the loss of human well-being, but all ecosystem services contribute in some way to well-being. Although perhaps long obvious to ecologists, the links between ecosystems and aspects of human well-being, including health, have been less well understood among the social science community. This situation may now be starting to change, thanks in part to the Millennium Ecosystem Assessment (MA). Causality between ecosystem services and well-being is bidirectional; it is increasingly clear that functioning societies can protect or enhance ecosystem services, and accordingly, that societies with impaired well-being (best documented in the case of chronic diseases such as malaria and HIV/AIDS) can also experience a related decline in ecosystem services. The future state of human well-being and of ecosystem services is more than the co-evolution of these two fundamental elements. Human well-being also depends, critically, upon the human institutions that govern relationships between human individuals and groups, and also between humans and ecosystem services. The scenarios working group of the MA found that human well-being is highest in the Global Orchestration scenario, which assumes the fastest evolution of beneficial institutions, and is lowest in the Order from Strength scenario. Human well-being was found to be intermediate in the other two scenarios (Adapting Mosaic and Techno-Garden) even though these scenarios share a much greater recognition of the importance of ecosystem services to human well-being. Copyright © 2006 by the author(s).\n",
      "DOI:      None\n"
     ]
    },
    {
     "name": "stderr",
     "output_type": "stream",
     "text": [
      "2016-07-24 23:16:52,184 - screen_citations - INFO - 3/10 included, 16/10 excluded\n"
     ]
    },
    {
     "name": "stdout",
     "output_type": "stream",
     "text": [
      "\n",
      "INCLUDE (y/n/u)? n\n",
      "\n",
      "TITLE:    Assessment indicators system of forest ecosystem health based on the harmful disturbance\n",
      "YEAR:     2012.0\n",
      "AUTHORS:  Liang, J; Yuan, F; Zhang, X\n",
      "ABSTRACT: Healthy forests are closely related to global ecological stability and sustainable development of human society. It is important to study forest ecosystem health including developing theories related to forest health and exploring various assessment methods. Reasonable methods lead to accurate assessments of forest ecosystem health. The definition of forest health is controversial. The concept of health is well understood as applied to humans but the human concept of health may not be appropriate for ecosystems. The difficulties of defining the optimal conditions for ecosystem health have led to a lack of universally accepted indicators to measure ecosystem health. In this paper, a healthy forest ecosystem is defined as a system having good mechanisms for self-regulation, such as beneficial mechanisms that allow an ecosystem to react to external harmful disturbances. Positive ecosystem responses to negative changes keep forest ecosystems intact, stable and sustainable. With this concept of forest ecosystem health in mind, we can discuss assessment methods which can be used to monitor forest ecosystem health. Several forest ecosystem health assessment systems already exist. For example, ecosystem health can be assessed using measures of resilience, vigor and organization. Today, most assessment systems are based on this concept. Based on the concept of forest ecosystem health presented above, a new approach is proposed, which considers four external harmful disturbances: forest fire, forest pest species, air pollution and human-caused disturbances. This method is designed to build assessment indicator systems which can be used to monitor and evaluate forest ecosystem health. It also considers beneficial disturbances in this assessment indicator system. This method includes an analysis of forest fire disturbance, which causes severe damage to forest ecosystems, followed by eight other indicators of forest health including average precipitation, average temperature, proportion of flammable species, crown density, altitude, slope gradient, slope direction and distance between the forest and the nearest road. Disturbance caused by forest pests can also be measured. These include disturbances caused by forest animals, such as rat and rabbit damage, as well as indicators like forest diseases and forest pests, the degree of damage and rate of infection in host trees. Air pollution disturbance can be measure by studying leaf damage as well as soil and contamination analysis. The study of harmful human-caused disturbances includes measurement of forest management techniques such as timber harvest and management of undergrowth vegetation. Measurements of forest ecosystem stability include measurements of biological diversity, forest community structure and measurements documenting how closely a forest is to natural conditions, with natural conditions defined as being free of human-caused disturbances. These types of measurements have been used frequently to measure ecosystem complexity and health. Next, the content and significance of key indicators were also well-analyzed. This forest ecosystem health assessment indicator system abandons traditional assessment ideas and combines the most important factors which have been determined to be closely related to forest ecosystem health in recent years. This assessment indicator system focuses at the ecosystem level and has mostly been applied to forests both in South and North China. Information is presented for use by forest and district resource managers as well as academic experts. This assessment indicator system establishes a scientific basis for conducting forest health projects, provides a context for planning ecosystem restoration, and contributes to the understanding of the physical, biological, and human dimensions of these ecosystems. This research may enrich the theories and methods used in assessing the health of ecological systems.\n",
      "DOI:      None\n"
     ]
    },
    {
     "name": "stderr",
     "output_type": "stream",
     "text": [
      "2016-07-24 23:16:52,436 - screen_citations - INFO - 3/10 included, 17/10 excluded\n"
     ]
    },
    {
     "name": "stdout",
     "output_type": "stream",
     "text": [
      "\n",
      "INCLUDE (y/n/u)? n\n",
      "\n",
      "TITLE:    Coastal management, climate change adaptation and sustainability in small coastal communities: Leatherback turtles and beach loss\n",
      "YEAR:     2013.0\n",
      "AUTHORS:  Gobin, J F; Mycoo, M A\n",
      "ABSTRACT: Beaches are frequently subjected to erosion and accretion that are influenced by coastal development interventions and natural variations due to storms and changes in river flow. Climate change may also exacerbate beach erosion and accretion. Natural scientists are concerned with the sustainability of species dependent on the beach ecosystem. Policymakers are pre-occupied with the economic sustainability of coastal communities should species decline and prolonged beach loss occur. The aim of this paper is to explore the linkage between science and policy by reporting the findings of a study of coastal change impacts on leatherback turtle nesting and analysing the socio-economic and adaptation implications of these changes for coastal communities. Grande Riviere, Trinidad, was used as a case study. Primary fieldwork investigated unsustainable coastal management practices. A questionnaire was administered to examine livelihoods, including ecotourism based on leatherback turtle nesting, and knowledge and awareness of climate change. One key finding of the study was that the community's livelihoods were natural resources dependent, and that natural beach dynamics and unsustainable coastal management practices posed major threats to natural resource and economic sustainability. Another key finding was that, despite these impacts, community knowledge and awareness of climate change in general was low, and there was a perception of state responsibility for climate change adaptation. The research findings have global applicability for coastal communities at risk of exposure and that are highly vulnerable to natural resources damage arising from anthropogenic stress and potential climate change. These communities require policy reforms to strengthen current coastal management practices and adaptation responses aimed at ensuring long-term sustainability. © 2013 Springer Japan.\n",
      "DOI:      None\n"
     ]
    },
    {
     "name": "stderr",
     "output_type": "stream",
     "text": [
      "2016-07-24 23:16:52,690 - screen_citations - INFO - 3/10 included, 18/10 excluded\n"
     ]
    },
    {
     "name": "stdout",
     "output_type": "stream",
     "text": [
      "\n",
      "INCLUDE (y/n/u)? n\n",
      "\n",
      "TITLE:    Forests and trees outside forests are essential for global food security and nutrition\n",
      "YEAR:     2013.0\n",
      "AUTHORS:  \n",
      "ABSTRACT: The International Conference on Forests for Food Security and Nutrition was organized by FAO in partnership with Bioversity International, the Center for International Forestry Research, the World Agroforestry Center and the World Bank. Greater collaboration at the national and international levels is needed to improve data collection on, and the communication, reporting and monitoring of, the contributions of non-wood forest products, forest ecosystem services and other forest and tree-related aspects of food security and nutrition. Training in the management of sustainable forest enterprises can help forest-dependent communities, particularly women and youth, to gain access to equitable value chains, such as those applied in fair trade, thereby improving the food security and nutrition of such communities and helping them to capitalize on their traditional knowledge. Women often have specialized knowledge of forests and trees in terms of species diversity, uses for various purposes, and conservation and sustainable management practices, but the role of women in ensuring the food security and nutrition of forest-dependent communities is underappreciated.\n",
      "DOI:      None\n"
     ]
    },
    {
     "name": "stderr",
     "output_type": "stream",
     "text": [
      "2016-07-24 23:16:52,941 - screen_citations - INFO - 3/10 included, 19/10 excluded\n"
     ]
    },
    {
     "name": "stdout",
     "output_type": "stream",
     "text": [
      "\n",
      "INCLUDE (y/n/u)? n\n",
      "\n",
      "TITLE:    Ecological compensation boosted ecological protection and human well-being improvement\n",
      "YEAR:     2013.0\n",
      "AUTHORS:  Li, H; Zhang, A\n",
      "ABSTRACT: By Compensated for loss of well-being and internalization of externalities effects, in order to motivate the behavior of ecological protection and to increase human well-being. It conclude that, Ecological compensation is an important mechanism for poverty alleviation. We should institute the ecological compensation standards, which was basised on the willing of ecological protected and the loss of well-being for ecological protected. We must clearly define the responsibility among the stakeholders and divide the duty of the ecological protection in many regions, Construct a scientific ecological compensation mechanism to achieve the welfare balanced and maximized or impartial. It is very important that, focus on farmer household livelihood, achieve participated protection and formulate the natural resource management and conservation planning to achieve win-win between the ecological protected and human well-being improved.\n",
      "DOI:      None\n"
     ]
    },
    {
     "name": "stderr",
     "output_type": "stream",
     "text": [
      "2016-07-24 23:16:53,197 - screen_citations - INFO - 3/10 included, 20/10 excluded\n"
     ]
    },
    {
     "name": "stdout",
     "output_type": "stream",
     "text": [
      "\n",
      "INCLUDE (y/n/u)? n\n",
      "\n",
      "TITLE:    Identifying priority areas for ecosystem service management in South African grasslands\n",
      "YEAR:     2011.0\n",
      "AUTHORS:  Egoh, B N; Reyers, B; Richardson, D M; Rouget, M\n",
      "ABSTRACT: Grasslands provide many ecosystem services required to support human well-being and are home to a diverse fauna and flora. Degradation of grasslands due to agriculture and other forms of land use threaten biodiversity and ecosystem services. Various efforts are underway around the world to stem these declines. The Grassland Programme in South Africa is one such initiative and is aimed at safeguarding both biodiversity and ecosystem services. As part of this developing programme, we identified spatial priority areas for ecosystem services, tested the effect of different target levels of ecosystem services used to identify priority areas, and evaluated whether biodiversity priority areas can be aligned with those for ecosystem services. We mapped five ecosystem services (below ground carbon storage, surface water supply, water flow regulation, soil accumulation and soil retention) and identified priority areas for individual ecosystem services and for all five services at the scale of quaternary catchments. Planning for individual ecosystem services showed that, depending on the ecosystem service of interest, between 4% and 13% of the grassland biome was required to conserve at least 40% of the soil and water services. Thirty-four percent of the biome was needed to conserve 40% of the carbon service in the grassland. Priority areas identified for five ecosystem services under three target levels (20%, 40%, 60% of the total amount) showed that between 17% and 56% of the grassland biome was needed to conserve these ecosystem services. There was moderate to high overlap between priority areas selected for ecosystem services and already-identified terrestrial and freshwater biodiversity priority areas. This level of overlap coupled with low irreplaceability values obtained when planning for individual ecosystem services makes it possible to combine biodiversity and ecosystem services in one plan using systematic conservation planning. © 2011 Elsevier Ltd.\n",
      "DOI:      None\n"
     ]
    },
    {
     "name": "stderr",
     "output_type": "stream",
     "text": [
      "2016-07-24 23:16:53,449 - screen_citations - INFO - 3/10 included, 21/10 excluded\n"
     ]
    },
    {
     "name": "stdout",
     "output_type": "stream",
     "text": [
      "\n",
      "INCLUDE (y/n/u)? n\n",
      "\n",
      "TITLE:    Traditional ecological knowledge and community-based natural resource management: Lessons from a Botswana wildlife management area\n",
      "YEAR:     2004.0\n",
      "AUTHORS:  Chanda, R; Phuthego, T C\n",
      "ABSTRACT: The advent of community-based natural resource management (CBNRM) in Botswana in the late 1980s ushered in a new paradigm in natural resource management. The strategy marked a change from state-controlled to community-controlled wildlife management. The expectation is that under community control, local expertise on biodiversity, termed in this paper as traditional ecological knowledge (TEK), plays a significant role that is supposedly facilitated through local institutions and traditional practices. This paper examines the incorporation of TEK in the CBNRM projects in KD 1, which is a controlled-hunting area (CHA) in the north-western part of the Kgalagadi North sub-district, Botswana and illustrates that the projects acknowledge and demonstrate the utility value of TEK in sustainable natural resource management. It concludes that TEK systems and institutions could serve as entry points into sustainable natural resource utilisation and management. This could be achieved through the exploration of cultural practices of the local people and integrating useful aspects into the modern natural resource management expertise. © 2003 Elsevier Ltd. All rights reserved.\n",
      "DOI:      None\n"
     ]
    },
    {
     "name": "stderr",
     "output_type": "stream",
     "text": [
      "2016-07-24 23:16:53,705 - screen_citations - INFO - 3/10 included, 22/10 excluded\n"
     ]
    },
    {
     "name": "stdout",
     "output_type": "stream",
     "text": [
      "\n",
      "INCLUDE (y/n/u)? n\n",
      "\n",
      "TITLE:    Assessment of community-based initiatives in sustainable management of Indian dry deciduous forests\n",
      "YEAR:     2012.0\n",
      "AUTHORS:  Chatterjee, D; Datta, D\n",
      "ABSTRACT: The introduction of the Joint Forest Management (JFM) programme in India as a part of community forestry initiatives from the late 1980s was an internationally recognised successful effort in forest restoration. Its achievements were most pronounced in the Sal (Shorea robusta)-dominated tropical dry deciduous forests of eastern and south-eastern states of India. However, these forests, and consequently the marginal people dependent on them for their livelihood, have increasingly faced multidimensional challenges in the past 15 years in the context of sustainable forest management. An overall assessment of the management scenario for these community forests and formulation of some guidelines towards better management was carried out on the basis of intensive case studies in the Nayagram Forest Range of West Bengal, India. Socio-economic as well as ecological aspects of sustainable forestry were analysed on the basis of criteria and indicators of community-oriented forestry. Functioning of a forest protection community as a cohesive group was found to be the major determinant in achieving sustainability in forest management. Maintenance of such institutional sustainability is recommended for better conservation of these highly stressed forest lands. © 2012 Copyright Taylor and Francis Group, LLC.\n",
      "DOI:      None\n"
     ]
    },
    {
     "name": "stderr",
     "output_type": "stream",
     "text": [
      "2016-07-24 23:16:53,958 - screen_citations - INFO - 4/10 included, 22/10 excluded\n"
     ]
    },
    {
     "name": "stdout",
     "output_type": "stream",
     "text": [
      "\n",
      "INCLUDE (y/n/u)? y\n",
      "\n",
      "TITLE:    Review of international scientific programmes and frontiers of biodiversity research\n",
      "YEAR:     2009.0\n",
      "AUTHORS:  Dong, N; Jian-Sheng, Q; Yan-Mei, L; Zhi-Qiang, Z\n",
      "ABSTRACT: Biodiversity is closely related to human welfare. In recent years, human activities have caused massive loss of biodiversity. Lots of researches have showed that the species on Planet Earth have been reducing at an unprecedented speed. In order to prevent the loss of biodiversity, many countries and international organizations had carried out lots of researches, enacted laws and regulations, implemented plans and actions on biodiversity and its related issues. DIVERSITAS is one of the four programmes of international global environmental change ( GEC) , and is the largest international scientific programme on biodiversity. In 2001, DIVERSITAS began its second phase of and developed a new research framework of the core projects, established a number of cross-cutting networks. The World Conservation Union (IUCN) is the first and foremost conservation organization that cares deeply about the diversity of life and whose fundamental expertise is on species habitats and the management of ecosystems. In 2008 , IUCN launched IUCN Programme 2009 -2012 Shaping a Sustainable Future, five priority thematic areas of IUCN during 2009 -2012 were put forward in the Programme. In 2006, EU adopted a new strategy on conservation of biodiversity -Halting the loss of biodiversity by 2010 and beyond; Sustaining ecosystem services for human well-being. In addition, many foundations and organizations had also launched a number of global biodiversity plans, such as Census of Marine Life ( CoML) , Tree of Life ( TOL) , The International Barcode of Life Project (iBOL). These Strategic Plans of research and conservation on biodiversity was introduce in this paper. This paper also pointed out the key issues on biodiversity as below: biodiversity change and ecosystem services, biodiversity and evaluation of ecosystem services; biodiversity and climate change, long term dynamic monitoring for biodiversity, and biodiversity indicators. SR.\n",
      "DOI:      None\n"
     ]
    },
    {
     "name": "stderr",
     "output_type": "stream",
     "text": [
      "2016-07-24 23:16:54,210 - screen_citations - INFO - 4/10 included, 23/10 excluded\n"
     ]
    },
    {
     "name": "stdout",
     "output_type": "stream",
     "text": [
      "\n",
      "INCLUDE (y/n/u)? n\n",
      "\n",
      "TITLE:    The potential impact of labor choices on the efficacy of marine conservation strategies\n",
      "YEAR:     2011.0\n",
      "AUTHORS:  Fenichel, E P; Gerber, L R; Hughes, Z D\n",
      "ABSTRACT: Conservation of marine resources is critical to the wellbeing of human communities. Coastal artisanal fishing communities are particularly reliant on marine resources for food and for their livelihoods. Management actions aimed at marine conservation may lead to unanticipated changes in human behavior that influence the ability of conservation programs to achieve their goals. We examine how marine conservation strategies may impact labor decisions that influence both the ecosystem and human livelihoods using simulation modeling. We consider two conservation strategies in the model: direct action through fisheries regulation enforcement, and indirect action through land conservation. Our results indicate that both strategies can increase the abundance of fish, and thus contribute to the maintenance of marine resources. However, our results also show that marine fisheries enforcement may negatively impact the livelihoods of human communities. Land conservation, on the other hand, potentially enhances the livelihood of the human populations. Thus, depending on management objectives, indirect or a combination of direct and indirect conservation strategies may be effective at achieving conservation and sustainability goals. These results highlight the importance of accounting for changes in human behavior resulting from management actions in conservation and management. © 2011 Hughes et al.\n",
      "DOI:      None\n"
     ]
    },
    {
     "name": "stderr",
     "output_type": "stream",
     "text": [
      "2016-07-24 23:16:54,461 - screen_citations - INFO - 4/10 included, 24/10 excluded\n"
     ]
    },
    {
     "name": "stdout",
     "output_type": "stream",
     "text": [
      "\n",
      "INCLUDE (y/n/u)? n\n",
      "\n",
      "TITLE:    Integrity, stability and management of protection forests in the European Alps\n",
      "YEAR:     2004.0\n",
      "AUTHORS:  Berger, F; Dorren, L K A; Imeson, A C; Maier, B; Rey, F\n",
      "ABSTRACT: Ecosystem management of protection forests aims at maintaining forests near a state during which effective protection is secured. As the evolution of a dynamic forest ecosystem cannot be stopped, silvicultural measures are required which aim at maintaining both the ecosystem integrity and the protective function of mountain forests. Ecosystem integrity is defined as the system's capacity to maintain structure and ecosystem functions using processes and elements characteristic for its ecoregion. Here, ecosystem functions also reflect the capability of the ecosystem to provide functions of value to humans. Ecosystem integrity of a protection forest implies that the stability (mainly the property resilience is addressed) of the forest is high, because that is required to provide a high level of protection in the long term. The main conditions promoting natural evolutionary processes and ecological stability in protection forests are: (1) a diverse composition of species; (2) sufficient natural regeneration; (3) an optimal forest structure. The first example in this chapter explains how these conditions might be achieved by silvicultural interventions in a forest that mainly protects against rockfall in the Austrian Alps. The second example deals with socio-economic aspects of ecosystem integrity of a forest that also protects against rockfall, but then in the French Alps. Both examples show that forest authorities are aware of techniques to improve the stand stability of protection forests, but the problem is that current forest management is often a kind of trial and error, because the exact consequences of interventions for forest ecosystem dynamics are not known. Therefore, it is proposed that forest ecosystem research should shift focus from protection forest dynamics to the geo-ecosystem functioning of protection forests, including the effects of natural and human disturbances. For this, the concept of panarchy may be a promising way forward. © 2004 Elsevier B.V. All rights reserved.\n",
      "DOI:      None\n"
     ]
    },
    {
     "name": "stderr",
     "output_type": "stream",
     "text": [
      "2016-07-24 23:16:54,716 - screen_citations - INFO - 4/10 included, 25/10 excluded\n"
     ]
    },
    {
     "name": "stdout",
     "output_type": "stream",
     "text": [
      "\n",
      "INCLUDE (y/n/u)? n\n",
      "\n",
      "TITLE:    Using expert judgment to estimate marine ecosystem vulnerability in the California Current\n",
      "YEAR:     2010.0\n",
      "AUTHORS:  Arvai, J; Cooke, R; Crain, C M; Fischhoff, B; Halpern, B S; Kappel, C V; Martone, R; Micheli, F; Murray, G; Neslo, R; Selkoe, K A; Shearer, C; Teck, S J\n",
      "ABSTRACT: As resource management and conservation efforts move toward multi-sector, ecosystem-based approaches, we need methods for comparing the varying responses of ecosystems to the impacts of human activities in order to prioritize management efforts, allocate limited resources, and understand cumulative effects. Given the number and variety of human activities affecting ecosystems, relatively few empirical studies are adequately comprehensive to inform these decisions. Consequently, management often turns to expert judgment for information. Drawing on methods from decision science, we offer a method for eliciting expert judgment to (1) quantitatively estimate the relative vulnerability of ecosystems to stressors, (2) help prioritize the management of stressors across multiple ecosystems, (3) evaluate how experts give weight to different criteria to characterize vulnerability of ecosystems to anthropogenic stressors, and (4) identify key knowledge gaps. We applied this method to the California Current region in order to evaluate the relative vulnerability of 19 marine ecosystems to 53 stressors associated with human activities, based on surveys from 107 experts. When judging the relative vulnerability of ecosystems to stressors, we found that experts primarily considered two criteria: the ecosystem's resistance to the stressor and the number of species or trophic levels affected. Four intertidal ecosystems (mudflat, beach, salt marsh, and rocky intertidal) were judged most vulnerable to the suite of human activities evaluated here. The highest vulnerability rankings for coastal ecosystems were invasive species, ocean acidification, sea temperature change, sea level rise, and habitat alteration from coastal engineering, while offshore ecosystems were assessed to be most vulnerable to ocean acidification, demersal destructive fishing, and shipwrecks. These results provide a quantitative, transparent, and repeatable assessment of relative vulnerability across ecosystems to any ongoing or emerging human activity. Combining these results with data on the spatial distribution and intensity of human activities provides a systematic foundation for ecosystem-based management. © 2010 by the Ecological Society of America.\n",
      "DOI:      None\n"
     ]
    },
    {
     "name": "stderr",
     "output_type": "stream",
     "text": [
      "2016-07-24 23:16:54,968 - screen_citations - INFO - 4/10 included, 26/10 excluded\n"
     ]
    },
    {
     "name": "stdout",
     "output_type": "stream",
     "text": [
      "\n",
      "INCLUDE (y/n/u)? n\n",
      "\n",
      "TITLE:    Biodiversity conservation attitudes and policy tools for promoting biodiversity in tropical planted forests\n",
      "YEAR:     2013.0\n",
      "AUTHORS:  Nghiem, N\n",
      "ABSTRACT: Biodiversity loss poses a real threat to the livelihoods, food security and health of the poor. In Vietnam, nearly 700 species are threatened with national extinction and over 300 species are threatened with global extinction. Deforestation is the main contributor to these biodiversity losses. This study examines biodiversity conservation attitudes of foresters and proposes policy options to promote biodiversity in planted forests. A household survey of 291 foresters in Yen Bai Province, Vietnam, was conducted to examine attitudes to biodiversity conservation. A range of forest policy tools was investigated to find the most appropriate one to enhance biodiversity, given the specific social-economic conditions of foresters. A forest-level optimisation model was employed to design the optimal level of payment for biodiversity conservation. The results suggest that a large number of foresters would agree to the idea of enhancing biodiversity in planted forests if they were financially supported. It is concluded that policy options for the Government of Vietnam include refinements to the current payment scheme and considering increasing the payment level to foresters to enhance biodiversity. These findings may have some generalisability to the plantation forestry sector in other developing countries in tropical zones, and implications for implementing the REDD+ mechanism in developing countries. © 2012 Springer Science+Business Media Dordrecht.\n",
      "DOI:      None\n"
     ]
    },
    {
     "name": "stderr",
     "output_type": "stream",
     "text": [
      "2016-07-24 23:16:55,224 - screen_citations - INFO - 4/10 included, 27/10 excluded\n"
     ]
    },
    {
     "name": "stdout",
     "output_type": "stream",
     "text": [
      "\n",
      "INCLUDE (y/n/u)? n\n",
      "\n",
      "TITLE:    Are investments to promote biodiversity conservation and ecosystem services aligned?\n",
      "YEAR:     2012.0\n",
      "AUTHORS:  Johnson, K; Keeler, B; Kovacs, K; Nelson, E; Pennington, D; Plantinga, A J; Polasky, S; Withey, J\n",
      "ABSTRACT: The conservation community is divided over the proper objective for conservation, with one faction focused on ecosystem services that contribute to human well-being and another faction focused on the intrinsic value of biodiversity. Despite the underlying difference in philosophy, it is not clear that this divide matters in a practical sense of guiding what a conservation organization should do in terms of investing in conservation. In this paper we address the degree of alignment between ecosystem services and biodiversity conservation strategies, using data from the state of Minnesota, USA. Minnesota voters recently passed an initiative that provides approximately $171m annually in dedicated funding for conservation. We find a high degree of alignment between investing conservation funds to target the value of ecosystem services and investing them to target biodiversity conservation. Targeting one of these two objectives generates 47-70 per cent of the maximum score of the other objective. We also find that benefits of conservation far exceed the costs, with a return on investment of between 2 to 1 and 3 to 1 in our base-case analysis. In general, investing in conservation to increase the value of ecosystem services is also beneficial for biodiversity conservation, and vice-versa.. © The Authors 2012. Published by Oxford University Press.\n",
      "DOI:      None\n"
     ]
    },
    {
     "name": "stderr",
     "output_type": "stream",
     "text": [
      "2016-07-24 23:16:55,477 - screen_citations - INFO - 4/10 included, 28/10 excluded\n"
     ]
    },
    {
     "name": "stdout",
     "output_type": "stream",
     "text": [
      "\n",
      "INCLUDE (y/n/u)? n\n",
      "\n",
      "TITLE:    A Community Resilience Model for Understanding and Assessing the Sustainability of Forest-Dependent Communities\n",
      "YEAR:     2012.0\n",
      "AUTHORS:  Akamani, K\n",
      "ABSTRACT: Recent decades have seen an evolution in thinking on the sustainability of forest-dependent communities from community stability to community resilience, which seeks to enhance communities' ability to respond to drivers of change in ways that sustain the multiple dimensions of well-being. However, the process of community response to drivers of change is not well understood and methods for assessing community resilience are not fully developed. This paper proposes a theoretical model to understand the structures and processes influencing the adaptation of communities and households to drivers of change and which can serve as a guide to the development of indicators for assessing resilience across multiple scales. The model synthesizes the interactional community theory from rural sociology and the theory of resilience in social-ecological systems from the field of applied ecology. The implications of the model for theory and methods are discussed.\n",
      "DOI:      None\n"
     ]
    },
    {
     "name": "stderr",
     "output_type": "stream",
     "text": [
      "2016-07-24 23:16:55,730 - screen_citations - INFO - 4/10 included, 29/10 excluded\n"
     ]
    },
    {
     "name": "stdout",
     "output_type": "stream",
     "text": [
      "\n",
      "INCLUDE (y/n/u)? n\n",
      "\n",
      "TITLE:    Some issues and options for the conservation of native biodiversity in rural New Zealand\n",
      "YEAR:     2000.0\n",
      "AUTHORS:  Miller, C J; Norton, D A\n",
      "ABSTRACT: For the 70% of New Zealand under private ownership, native biodiversity conservation has to occur within a landscape that must also provide a productive return to land owners. Recent New Zealand legislation, especially the Resource Management Act 1991, promotes sustainable management on private land by allowing for the economic and cultural wellbeing of local communities while providing for the protection of natural resources including native biodiversity. We suggest that, to effectively conserve native biodiversity in rural landscapes, we need to consider four key issues: (i) what might be realistic goals for native biodiversity conservation; (ii) how might we better arrange different land uses to meet both native biodiversity and production goals; (iii) what is the optimum arrangement of native biodiversity; and (iv) how native biodiversity conservation can improve productive returns to land managers. Options to enhance native biodiversity conservation include a variety of incentives (e.g. management agreements, financial incentives and regulatory systems) and onsite management options (e.g. remnant management, restoration plantings, weed and pest control, use of native species for commercial and amenity purposes, use of exotic species to facilitate native biodiversity). The importance of taking a landscape-based rather than a paddock-based approach to management is emphasized.\n",
      "DOI:      None\n"
     ]
    },
    {
     "name": "stderr",
     "output_type": "stream",
     "text": [
      "2016-07-24 23:16:55,984 - screen_citations - INFO - 4/10 included, 30/10 excluded\n"
     ]
    },
    {
     "name": "stdout",
     "output_type": "stream",
     "text": [
      "\n",
      "INCLUDE (y/n/u)? n\n",
      "\n",
      "TITLE:    Research progress on trade-offs and synergies of ecosystem services: An overview\n",
      "YEAR:     2012.0\n",
      "AUTHORS:  Feng, Z; Jiang, L; Li, P; Yu, X\n",
      "ABSTRACT: Being the core of ecosystem assessment, studies on ecosystem services have been becoming a focus in the field of ecology. The formation and provisioning capacity of ecosystem services are tremendously affected by human activities. Conversely, the magnitudes of ecosystem service changes also influence the preferences of human being's daily decision- making. Investigation into the dynamics of the trade-offs and synergistic relationships of regional ecosystem services will shed light on interactions and feedbacks between ecosystem services and the stakeholders at different spatial and temporal scales, and avoid double-counting issue in ecosystem services assessment. In addition, information and progress on trade- offs and synergies in the delivery of ecosystem services will provide scientific basis for designing and implementing eco- compensation schemes and optimize the management behavior of ecosystem services, and finally improve human well-being associated with trade-offs and synergies among different ecosystem services. It is revealed from this review that in the last decades, the valuation of ecosystem services has been received lots of attentions in the decision-making and scientific research communities. However, the double-counting issue during the valuation process usually leads to insufficient or biased guidance in the management of ecosystem services. Since ecosystem service is benefit that human receives from the natural ecosystems, the stakeholders' demand for ecosystem services from different spatial and temporal scales often causes competitions and conflicts among ecosystem's various goods and services. The interactions between human being and ecosystem services often give rise to trade-offs and synergies which in turn directly affect human welfare. With regard to the terminologies, trade-offs between ecosystem services refers to the enhancement of one ecosystem service locally in a short term is at the cost of other ecosystem services locally or at a large spatial scale (e. g., globally) in the future. It can be simplified as the \"win-lose\" mode. The term synergies means the synchronous changes between two or among many different ecosystem services, including the \"win-win\" mode and the \"lose-lose\" mode. The trade-offs and synergistic relationships exist not only within different categories of provisioning services, but also among different ecosystem services and like provision services, regulation services, cultural services, and supporting services. Findings from about 12 literatures has shown specific examples of such kind of trade-offs and synergistic relations, for instance, among provisioning services, between regulating services and cultural services, between provisioning services and supporting services, among regulating services, and between provisioning services and regulating services. The spatial scale of trade-offs and synergies contain various scales, for instance, from ecological scale to institutional scale. The temporal scale could be short-term to long-term based. This paper indicates that so far, trade-offs and synergies analysis of ecosystem services is still at its early stage. However, we identified and summarized two research approaches which have already been commonly used for the analysis of ecosystem services' trade-offs: (1) the Integrated Ecological-Economic Model: it is a traditional approach which is often used to quantify trade-offs. The Model consists of several ecological and economic models. The ecological models are mostly used to analyze the magnitudes of the changes of ecosystem services, while the economic models to evaluate the impacts of the change on human welfare. Since land use and land cover change serves as a direct driving factor of the ecosystem services' trade-offs and synergies, it will become even more extensive due to intensification of interactions between the two in the future. (2) Scenarios Analysis based on Landuse is attracting more and more attention in scientific literature. Remote sensing data and management policies of ecosystem services provd strong data basis for the scenarios formulation and analysis. It could provide more objective and spatially-explicit information on the trade-offs and synergies for optimizing ecosystem services management.\n",
      "DOI:      None\n"
     ]
    },
    {
     "name": "stderr",
     "output_type": "stream",
     "text": [
      "2016-07-24 23:16:56,236 - screen_citations - INFO - 4/10 included, 31/10 excluded\n"
     ]
    },
    {
     "name": "stdout",
     "output_type": "stream",
     "text": [
      "\n",
      "INCLUDE (y/n/u)? n\n",
      "\n",
      "TITLE:    Land Use and Biodiversity in Unprotected Landscapes: The Case of Noncultivated Plant Use and Management by Rural Communities in Benin and Togo\n",
      "YEAR:     2012.0\n",
      "AUTHORS:  Both, J; Heitkönig, I M A; Kiepe, P; Rodenburg, J; Sinsin, B; van Koppen, C S A; van Mele, P\n",
      "ABSTRACT: To contribute to the development of strategies for sustainable agricultural land use and biodiversity conservation in landscapes without formal protection status, we investigated the local use and management of noncultivated plants as important ecosystem functions of inland valleys in south Benin and Togo, and local perceptions on changes in plant biodiversity and causes for these changes. Local users of noncultivated plants perceived agriculture and construction as major factors contributing to the reduction of (noncultivated) plant biodiversity. However, they also collect many useful species from agricultural fields and the village. A small community forest reserve and a 2-ha community garden were the only organized forms of conservation management. Observed ad hoc conservation initiatives were selective harvesting of plant parts, preserving trees during land clearing, and allowing useful weed species in the field. Future development and conservation efforts in unprotected landscapes with multiple ecosystem functions should acknowledge knowledge, interests, and needs of local communities. © 2012 Copyright AfricaRice.\n",
      "DOI:      None\n"
     ]
    },
    {
     "name": "stderr",
     "output_type": "stream",
     "text": [
      "2016-07-24 23:16:56,492 - screen_citations - INFO - 4/10 included, 32/10 excluded\n"
     ]
    },
    {
     "name": "stdout",
     "output_type": "stream",
     "text": [
      "\n",
      "INCLUDE (y/n/u)? n\n",
      "\n",
      "TITLE:    Diversity of community relationships in community-based natural resource management\n",
      "YEAR:     2008.0\n",
      "AUTHORS:  Lamug, C B\n",
      "ABSTRACT: Community-based natural resource management (CBNRM) has gradually developed as a management paradigm representing a shift from a bureaucratic top-down approach to one that empowers communities to co-manage the resources that they utilize. The objective of the paper is to meta-analyze four categories of community relationships from different reports of studies on CBNRM. Ninety-five studies were reviewed and coded for meta-analysis of community relationships in the following categories: (1) Relationships of community with specific natural resource. The studies reflect two sets of beliefs: one is the interrelatedness of humans, nature and the supernatural; the other is belief in mastery of nature and utility of natural resources. (2) Relationships among community members. The themes are categorized into community attachment and cohesion, formal organization of community members and empowerment. (3) Relationships between community and non-government organizations (NGOs). The issues addressed in this category are organizational development, dependency-autonomy and networks. (4) Relationships between community and government agency/local government unit (GA/LGU). The themes are on policy and power relations, incentives and co-management. The paper concludes with the conceptual and methodological contributions of the study together with some implications of community relationships on natural resource management.\n",
      "DOI:      None\n"
     ]
    },
    {
     "name": "stderr",
     "output_type": "stream",
     "text": [
      "2016-07-24 23:16:56,744 - screen_citations - INFO - 4/10 included, 33/10 excluded\n"
     ]
    },
    {
     "name": "stdout",
     "output_type": "stream",
     "text": [
      "\n",
      "INCLUDE (y/n/u)? n\n",
      "\n",
      "TITLE:    Sustainable management on pests by agro-biodiversity\n",
      "YEAR:     2011.0\n",
      "AUTHORS:  Gao, D; He, X; Zhu, S\n",
      "ABSTRACT: Agro-biodiversity is essential for global food production, livelihood security and sustainable agricultural development. Human communities worldwide have played a central role in shaping nature's diversity and its associated functions. Both natural processes and human activities have generated and sustained rich genetic, species and ecosystem diversity. Within agro-systems this agro-biodiversity performs many closely inter-related social, economical and environmental functions. 1) Promoting food and livelihood security. Dynamic and complex rural livelihoods usually rely on diverse plant and animal both in wild and in different stages of domestication. Different types of agro-biodiversity are used by different people at different times and in different places, hence contribute to livelihood strategies in a complex fashion. 2) Maintaining productive and environmental sustainability. In addition to contributing to environmental sustainability, agro-biodiversity helps sustain many production functions both in low input and high input agriculture. Available evidence is summarized for the following functions: soil organic matter decomposition, nutrient cycling, pollination, pest control, yield formation, soil and water conservation, impact on climate and water cycling, biodiversity conservation and influence on landscape structure. 3) Contribution on the resilience of rural economies. But this agro-biodiversity has been losing at an alarming rate. This paper identifies the dominating reasons for this loss and outlines the basic methods and mechanisms for the construction and restoration of field biodiversity. After the review of the negative effect of simplified agriculture in the fossil oil driven agriculture and the positive effect of \"integrating human activity with nature\" in traditional agriculture, the necessity and possibility of sustainable management of pests by biodiversity in agriculture is discussed, and the general methods used in construction and restoration of field biodiversity was summarized in ecosystem diversity, species diversity and genetic diversity levels. Based on the knowledge of plant pathology, agricultural ecology, plant nutrition science, plant physiology and other related disciplines, the basic principles for sustainable management on pests by agro-biodiversity was summarized into seven aspects, that is groups heterogeneity effect, dilution effect, field micro-environment effect, induced resistance effect, physical obstacle effect, physiological effect and allelopathic effect. It is well-known that fossil oil driven agriculture meets the needs of present generation by paying heavy cost from our future generations. Traditional agriculture has rich ecological philosophy behind, however it is hard to meet the ever-increasing needs of the society. More and more scientists, decision makers and producers are seeking for sustainable agricultural production systems with low input, high efficiency, and high diversity. Agro-biodiversity can improve important ecological functions. It is a golden key for the stable, healthy, productive and sustainable field ecosystem, and for the sustainable management of pests. For this purpose, we should pay our attention to four aspects: (1) the increase of interrelationship among different crop species; (2) the research on dominant pests and their natural enemies with their biological and ecological characteristics and their favorable environmental factors; (3) the discovery of production systems with comprehensive and sustainable management methods to control pests by using agro-biodiversity; (4) the development of integrated agronomic technology and agricultural machinery to match these agro-biodiversity models.\n",
      "DOI:      None\n"
     ]
    },
    {
     "name": "stderr",
     "output_type": "stream",
     "text": [
      "2016-07-24 23:16:56,996 - screen_citations - INFO - 4/10 included, 34/10 excluded\n"
     ]
    },
    {
     "name": "stdout",
     "output_type": "stream",
     "text": [
      "\n",
      "INCLUDE (y/n/u)? n\n",
      "\n",
      "TITLE:    Of biodiversity and boundaries: A case study of community-based natural resource management practice in the Cardamom Mountains, Cambodia\n",
      "YEAR:     2010.0\n",
      "AUTHORS:  Beilin, R; Lo Cascio, A\n",
      "ABSTRACT: In the Cardamom Ranges (Cambodia) community-based natural resource management (CBNRM) is proposed by the international non-governmental organizations (NGOs) community as a natural resource management strategy to achieve the targeted outcomes associated with the protected area (PA) management plan. Local people are expected to participate in CBNRM projects such as community forestry (CF) in order that the protected area management plan can be realized. The experiences of the local people are juxtaposed against the aims of these local biodiversity projects. Overall, it is accepted by the NGOs and government agencies that communities need to be involved in the design and management of the PA and that the protection of biodiversity resources can only occur with the provision of alternatives for local livelihood options to decrease land clearing for agriculture and harvesting of wild foods and animals. This case points to a basic misalignment between biodiversity conservation and CBNRM. Participants in this study contested the meaning and usefulness of the PA and the CF projects. Their concerns were cultural, social, economic and political, exposing uneven relations of power and uncertainty associated with the long term outcomes. Participation itself required scrutiny in this situation, as did the promotion of a global biodiversity good over local understandings of place and landscape. Lessons from more than 20 years of participatory CBNRM may be used to reconfigure the CBNRM ideal, to assist planners and implementers towards an integrated approach with biodiversity values reflected in both conservation and local production systems, acknowledging that these systems are culturally constituted. © Foundation for Environmental Conservation 2010.\n",
      "DOI:      None\n"
     ]
    },
    {
     "name": "stderr",
     "output_type": "stream",
     "text": [
      "2016-07-24 23:16:57,249 - screen_citations - INFO - 4/10 included, 35/10 excluded\n"
     ]
    },
    {
     "name": "stdout",
     "output_type": "stream",
     "text": [
      "\n",
      "INCLUDE (y/n/u)? n\n",
      "\n",
      "TITLE:    A study and development on knowledge, attitude and practice in forest conservation and reforestration of youth in Ban Khao Phra community Nakhon Nayok Province\n",
      "YEAR:     2010.0\n",
      "AUTHORS:  Pinyoanuntapong, B; Singseewo, A; Suparat, B; Thamaseananupap, P\n",
      "ABSTRACT: This research aims at developing the knowledge, the attitude and the practice in the forest conservation and revival of the youths in Baan Khao Phra community, Nakhon Nayok Province employing the mixed method (qualitative and quantitative). The subjects in this research consisted of the leaders of the community who are both officials and villagers knowledgeable and having real practices in the forest area. The 30 officials involved from the Office of Natural Resource and Environment in Nakhon Nayok province are obtained by means of snow ball sampling and the sample group for the training course is 30 youths who are students studying in a secondary school level. The package of the training course was evaluated by means of enquiry, interview and group talk. The data derived are analyzed by means of descriptive statistic; percentage, mean, standard deviation and inferential statistic; testing the hypotheses using ANNOVA with repeated measure: one between two within. The results were found accordingly. The problems happened to the forest in Baan Khao Phra community are mostly caused by the actions of the villagers: forested items collecting, animals hunting, forest area pioneering and deforestation. These yield both the indirect and indirect effects on the forest itself but the most important cause for deforestation is attributed to human beings' lack of knowledge, understanding, mutual participation and responsibility to conserve the forest. Despite the accumulated and passed over wisdom of the community to sustain lives on the benefits from the forest, the mutual participation of the villagers who tie to the forest is necessary to be enhanced to strengthen community for self-reliance. The package of the training course for forest conservation and revival of the youths in Baan Khao Phra community, Nakhon Nayok province, comprises the knowledge, the attitude and behavioral practice to conserve and revive the forest undergone the development based on the studies on thinking, a related theory, a local wisdom for forest resource management and a participatory action research with a try-out to assure a high reliability. The youths' knowledge in the forest conservation and revival before the training is rated moderate and after the training is rated high. By a comparison, the knowledge in the forest conservation and revival of the youth after the training is rated higher than before the training at a significantly statistical level of 0.01. The youth with different genders show no difference in terms of knowledge in overall. The youths' attitude towards the forest conservation and revival is rated at a moderate level and after the training is rated at the same level. By a comparison, the attitude towards the forest conversation and revival after the training is rated higher than before the training at a significantly statistical level of 0.05. The youth with different genders show no difference in terms of knowledge in overall. The youths' behavioral practice in the forest conservation and revival before the training is rated at a moderate level and after the training is rated at the same level. By a comparison, the behavioral practice in the forest conversation and revival after the training is rated higher than before the training at a significantly statistical level of 0.01. The youths with different genders show no differences in terms of knowledge in overall. To sum, the developed package of the training course yielded efficiency, making the youths increase the knowledge, the attitude and leading them to the behavioral practice to conserve and revive the forest. This could be used as a guidance to develop the youths in the terrain of environment studies. Therefore, it should be enhanced and adopted and be applied to another group of youth in other areas. © Medwell Journals, 2010.\n",
      "DOI:      None\n"
     ]
    },
    {
     "name": "stderr",
     "output_type": "stream",
     "text": [
      "2016-07-24 23:16:57,505 - screen_citations - INFO - 4/10 included, 36/10 excluded\n"
     ]
    },
    {
     "name": "stdout",
     "output_type": "stream",
     "text": [
      "\n",
      "INCLUDE (y/n/u)? n\n",
      "\n",
      "TITLE:    The scientific basis for the design of landscape sustainability: A conceptual framework for translational landscape research and practice of designed landscapes and the six Es of landscape sustainability\n",
      "YEAR:     2009.0\n",
      "AUTHORS:  Musacchio, L R\n",
      "ABSTRACT: Landscape researchers and practitioners, using the lens of sustainability science, are breaking new ground about how people's behaviors and actions influence the structure, function, and change of designed landscapes in an urbanizing world. The phrase-the scientific basis of the design for landscape sustainability-is used to describe how sustainability science can contribute to translational landscape research and practice about the systemic relationships among landscape sustainability, people's contact with nature, and complex place-based problems. In the first section of this article, important definitions about the scientific basis of the design for landscape sustainability are reviewed including the six Es of landscape sustainability environment, economic, equity, aesthetics, experience, and ethics. A conceptual framework about the six Es of landscape sustainability for designed landscapes is introduced. The interrelatedness, opportunities, contradictions, and limitations of the conceptual framework are discussed in relation to human health/security, ecosystem services, biodiversity, and resource management. The conceptual framework about the six Es of landscape sustainability for designed landscapes follows the tradition in which landscape researchers and practitioners synthesize emerging trends into conceptual frameworks for advancing basic and applied activities. © Springer Science+Business Media B.V. 2009.\n",
      "DOI:      None\n"
     ]
    },
    {
     "name": "stderr",
     "output_type": "stream",
     "text": [
      "2016-07-24 23:16:57,758 - screen_citations - INFO - 4/10 included, 37/10 excluded\n"
     ]
    },
    {
     "name": "stdout",
     "output_type": "stream",
     "text": [
      "\n",
      "INCLUDE (y/n/u)? n\n",
      "\n",
      "TITLE:    Ecosystem services, biodiversity, and the millennium development goals\n",
      "YEAR:     2012.0\n",
      "AUTHORS:  Shaw, R; Uy, N\n",
      "ABSTRACT: Ecosystem services are essential for human well-being. The chapter explores the linkages between ecosystems and ecosystem services, biodiversity, and the Millennium Development Goals. Specifically, it focuses on the discussions in the Millennium Ecosystem Assessment, the ecosystem approach within the framework of the Convention on Biological Diversity, and ecosystems' role in the achievement of specific targets of the Millennium Development Goals. It highlights the need for ecosystem-based approaches to ecosystem management, biodiversity conservation, and attainment of human well-being. Copyright © 2012 by Emerald Group Publishing Limited.\n",
      "DOI:      None\n"
     ]
    },
    {
     "name": "stderr",
     "output_type": "stream",
     "text": [
      "2016-07-24 23:16:58,014 - screen_citations - INFO - 4/10 included, 38/10 excluded\n"
     ]
    },
    {
     "name": "stdout",
     "output_type": "stream",
     "text": [
      "\n",
      "INCLUDE (y/n/u)? n\n",
      "\n",
      "TITLE:    Linking poverty, HIV/AIDS and climate change to human and ecosystem vulnerability in southern Africa: Consequences for livelihoods and sustainable ecosystem management\n",
      "YEAR:     2012.0\n",
      "AUTHORS:  Shackleton, C M; Shackleton, S E\n",
      "ABSTRACT: People in southern Africa are facing escalating levels of risk, uncertainty and consequently vulnerability as a result of multiple interacting stressors, including HIV/AIDS, poverty, food insecurity, weak governance, climate change and land degradation, to name but a few. Vulnerability or livelihood insecurity emerges when poor people as individuals or social units have to face harmful threats or shocks with inadequate capacity to respond effectively. In such situations, people often have no choice but to turn to their immediate environment for support. Evidence suggests that rising levels of human vulnerability are driving increased dependency on biodiversity and ecosystem services, which in turn, and along with other threats, is rendering ecosystems more vulnerable. This paper explores the dynamic and complex linkages and feedbacks between human vulnerability and ecosystem vulnerability, drawing on data from the southern African region. Human vulnerability is conceptualized as a threat to ecosystem health, as driven by the interplay between a number of current and emerging factors. We focus on poverty, HIV/AIDS and more intense climate extremes as examples of stressors on livelihoods and direct and indirect drivers of ecosystem change. We discuss how some of the responses to increased vulnerability may pose threats to biodiversity conservation, ecosystem management and sustainable development, whilst considering potential solutions that rely on a thorough understanding of coupled social-ecological systems and the interplay between multiple stressors and responses at different scales. © 2012 Copyright Taylor and Francis Group, LLC.\n",
      "DOI:      None\n"
     ]
    },
    {
     "name": "stderr",
     "output_type": "stream",
     "text": [
      "2016-07-24 23:16:58,268 - screen_citations - INFO - 4/10 included, 39/10 excluded\n"
     ]
    },
    {
     "name": "stdout",
     "output_type": "stream",
     "text": [
      "\n",
      "INCLUDE (y/n/u)? n\n",
      "\n",
      "TITLE:    Impact of participatory forest management on vulnerability and livelihood assets of forest-dependent communities in northern Pakistan\n",
      "YEAR:     2007.0\n",
      "AUTHORS:  Ahmad, M; Ali, T; Shahbaz, B; Suleri, A\n",
      "ABSTRACT: During the past two decades, several (donor-funded) participatory forest management projects were implemented in the forest-rich North-West Frontier Province (NWFP) of Pakistan, but these projects could not reduce the high rate of deforestation in the province. In 1996 the Asian Development Bank funded the Forestry Sector Project (FSP) in NWFP, which has institutionalized the participatory forest management system in the province. Forests are important natural capital and an essential part of the daily lives of the people who live in and around them. It was therefore considered imperative to analyze the impact of the participatory forest management model introduced by the FSP through a livelihoods lens, and to assess the contribution to livelihood sustainability made by the participatory approach. The findings of the study may be applied to similar situations in Third World settings. People of similar socio-economic and ecological zones may learn lessons for accelerating the process of sustainable natural resource management in their areas. The results showed that the participatory forest management system introduced by the FSP has had a definite impact on increasing the natural and social assets of forest dwellers and reducing vulnerability to their livelihoods. But the project did not address most of the factors of vulnerability and the elites that dominated the newly created institutions. It is suggested that the available livelihood assets, diverse factors of vulnerability and livelihood strategies of the local communities should be analyzed before the implementation of such mega-projects.\n",
      "DOI:      None\n"
     ]
    },
    {
     "name": "stderr",
     "output_type": "stream",
     "text": [
      "2016-07-24 23:16:58,524 - screen_citations - INFO - 5/10 included, 39/10 excluded\n"
     ]
    },
    {
     "name": "stdout",
     "output_type": "stream",
     "text": [
      "\n",
      "INCLUDE (y/n/u)? y\n",
      "\n",
      "TITLE:    Ecological structure and functions of biodiversity as elements of its total economic value\n",
      "YEAR:     2000.0\n",
      "AUTHORS:  Fromm, O\n",
      "ABSTRACT: Rational economic decisions regarding the conservation of biodiversity require the consideration of all the benefits generated by this natural resource. Recently a number of categories of values (inherent value, contributory value, indirect value, infrastructure value, primary value) have been developed, especially in the literature of Ecological Economics, which, besides the individual and productive benefits of biodiversity, also include the utilitarian relevance of the ecological structure and functions of biodiversity in the, so-called, total economic value. For the question of including the ecological structure and functions of biodiversity in the total economic value it is of crucial importance to note, that these categories of values are not only terminologically different, but also relate to different ecological levels of biodiversity and - most importantly - to specific complementary relationships - between species, between elements of ecological structures and between ecological functions and their contribution to human well-being. This paper analyses these complementary relationships, discusses their implications for the total economic value of biodiversity and draws conclusions for decision making in environmental policy. Rational economic decisions regarding the conservation of biodiversity require the consideration of all the benefits generated by this natural resource. Recently a number of categories of values (inherent value, contributory value, indirect value, infrastructure value, primary value) have been developed, especially in the literature of Ecological Economics, which, besides the individual and productive benefits of biodiversity, also include the utilitarian relevance of the ecological structure and functions of biodiversity in the, so-called, total economic value. For the question of including the ecological structure and functions of biodiversity in the total economic value it is of crucial importance to note, that these categories of values are not only terminologically different, but also relate to different ecological levels of biodiversity and - most importantly - to specific complementary relationships - between species, between elements of ecological structures and between ecological functions and their contribution to human well-being. This paper analyses these complementary relationships, discusses their implications for the total economic value of biodiversity and draws conclusions for decision making in environmental policy. The economic relevance of the ecological structure and functions of biodiversity is examined. The components of the total economic value of biodiversity are elucidated, including production values, individual values, and the ecological importance of biodiversity as a component of the total economic value. The structure and functions of ecosystems as an element of total economic value are then considered, looking at the complementary relationships of species within the interdependencies of species diversity, the complementary relationships of ecological structure components of ecosystems, and the complementary relationship of ecological functions of ecosystems and economic services.\n",
      "DOI:      None\n"
     ]
    },
    {
     "name": "stderr",
     "output_type": "stream",
     "text": [
      "2016-07-24 23:16:58,775 - screen_citations - INFO - 5/10 included, 40/10 excluded\n"
     ]
    },
    {
     "name": "stdout",
     "output_type": "stream",
     "text": [
      "\n",
      "INCLUDE (y/n/u)? n\n",
      "\n",
      "TITLE:    Community-Based Forest Management: What Scope for Conservation and Livelihood Co-Benefits? Experience from the East Usambara Mountains, Tanzania\n",
      "YEAR:     2012.0\n",
      "AUTHORS:  Bullock, R; German, L A; Mbegu, M A; Rantala, S\n",
      "ABSTRACT: The Tanzanian Community-Based Forest Management policy is based on the assumption that formalized forest tenure by village communities results in increased incentives for sustainable forest management. We compared the policy expectations to village forest management practices in northeastern Tanzania. Findings suggest that the practices follow policy in terms of increased security of rights, but exclusionary management of village forests precludes livelihood benefits while costs are unevenly distributed. Management appears effective at the village scale, but concerted efforts are likely to be needed to increase its long-term and landscape-level sustainability, and to create more significant incentives for the communities involved. © 2012 Copyright Taylor & Francis Group, LLC.\n",
      "DOI:      None\n"
     ]
    },
    {
     "name": "stderr",
     "output_type": "stream",
     "text": [
      "2016-07-24 23:16:59,027 - screen_citations - INFO - 5/10 included, 41/10 excluded\n"
     ]
    },
    {
     "name": "stdout",
     "output_type": "stream",
     "text": [
      "\n",
      "INCLUDE (y/n/u)? n\n",
      "\n",
      "TITLE:    Natural Resource Management by rural citizens in developing countries: Innovations still required\n",
      "YEAR:     2009.0\n",
      "AUTHORS:  Taylor, R D; Torquebiau, E\n",
      "ABSTRACT: We summarise the main issues related to Community-Based Natural Resource Management which were discussed at an International Workshop organized in Niamey, Niger, in March 2008. The objective of the workshop was to compare and contrast different development-oriented biodiversity conservation and natural resource management approaches as they exist across Africa. These approaches were explored following (1) the fundamentals of natural resource management in relation to local development and livelihoods and (2) the multi-functional nature of land use. The major topics subject to debate were the dichotomy between strictly protected areas and conservation areas including human activities; the importance of legitimate, people-centred conservation, as opposed to legal (drawn from the law) conservation; the key role of market instruments, participatory approaches, interdisciplinarity and local governance; and finally the strong relationships between agriculture and biodiversity conservation, especially at landscape level. We then provide a short summary of the 12 papers addressing the above topics and selected for the Special Issue of Biodiversity and Conservation on \"Natural Resource Management and Local Development\" (Vol xx, No xx, 2009). © Springer Science+Business Media B.V. 2009.\n",
      "DOI:      None\n"
     ]
    },
    {
     "name": "stderr",
     "output_type": "stream",
     "text": [
      "2016-07-24 23:16:59,281 - screen_citations - INFO - 5/10 included, 42/10 excluded\n"
     ]
    },
    {
     "name": "stdout",
     "output_type": "stream",
     "text": [
      "\n",
      "INCLUDE (y/n/u)? n\n",
      "\n",
      "TITLE:    A comparative study of local perceptions of ecotourism and conservation at Five Blues Lake National Park, Belize\n",
      "YEAR:     2011.0\n",
      "AUTHORS:  Holladay, P J; Ormsby, A A\n",
      "ABSTRACT: Understanding factors that strengthen community support for ecotourism and conservation is key to a successful ecotourism project. This study of Five Blues Lake National Park in central Belize explored attitudes towards ecotourism and conservation of local people living adjacent to and co-managing a national park. The authors conducted attitudinal surveys of residents of Saint Margarets village in 1995 and in 2003. The data suggested high levels of support for ecotourism development and continued protection of the land and conservation efforts. Despite this support, by 2003, most ecotourism activities and park management had been curtailed. Although the inception of co-managed ecotourism was received well and some level of interest existed, over time, there was a decline in community participation and ecotourism activities. This is attributable to factors including resident apathy, low community participation, diminished financial resources, insufficient local and national management capacity, and perceptions of few personal benefits by residents. Furthermore, the often claimed theoretical benefits of ecotourism in developing communities were not fully realised in this case. As demonstrated by this study, local involvement of residents in development and implementation of ecotourism initiatives, including necessary capacity-building, may help ensure sustainable management and success of long-term ecotourism and conservation efforts. © 2011 Taylor & Francis.\n",
      "DOI:      None\n"
     ]
    },
    {
     "name": "stderr",
     "output_type": "stream",
     "text": [
      "2016-07-24 23:16:59,537 - screen_citations - INFO - 6/10 included, 42/10 excluded\n"
     ]
    },
    {
     "name": "stdout",
     "output_type": "stream",
     "text": [
      "\n",
      "INCLUDE (y/n/u)? y\n",
      "\n",
      "TITLE:    Linking human and ecosystem health: The benefits of community involvement in conservation groups\n",
      "YEAR:     2006.0\n",
      "AUTHORS:  Moore, M; Oldroyd, J; Townsend, M\n",
      "ABSTRACT: This study explored the health, well-being, and social capital benefits gained by community members who are involved in the management of land for conservation in six rural communities across Victoria. A total of 102 people participated in the study (64 males; 38 females) comprising 51 members of a community-based land management group and 51 controls matched by age and gender. Mixed methods were employed, including the use of an adapted version of Buckner's (1988) Community Cohesion Scale. The results indicate that involvement in the management of land for conservation may contribute to both the health and well-being of members, and to the social capital of the local community. The members of the land management groups rated their general health higher, reported visiting the doctor less often, felt safer in the local community, and utilized the skills that they have acquired in their lifetime more frequently than the control participants. Male members reported the highest level of general health, and the greatest satisfaction with daily activities. Members also reported a greater sense of belonging to the local community and a greater willingness to work toward improving their community than their control counterparts. Of equal importance is evidence that involvement in voluntary conservation work constitutes a means of building social capital in rural communities which may help reduce some of the negative aspects of rural life. © 2006 Ecohealth Journal Consortium.\n",
      "DOI:      None\n"
     ]
    },
    {
     "name": "stderr",
     "output_type": "stream",
     "text": [
      "2016-07-24 23:16:59,792 - screen_citations - INFO - 6/10 included, 43/10 excluded\n"
     ]
    },
    {
     "name": "stdout",
     "output_type": "stream",
     "text": [
      "\n",
      "INCLUDE (y/n/u)? n\n",
      "\n",
      "TITLE:    Tourism and biodiversity conservation: The case of community-based natural resource management in Southern Africa\n",
      "YEAR:     2013.0\n",
      "AUTHORS:  Kolawole, O D; Mbaiwa, J E\n",
      "ABSTRACT: This review analyses the potential of tourism to contribute to biodiversity conservation with particular reference to developing countries. In the last quarter of a century, there has been a global concern about the extent of biodiversity decline. Biodiversity decline is partly a result of the overutilization of resources by local communities who live in resource-rich areas. This review makes use of published and unpublished articles and reports on community-based approaches to biodiversity conservation. Focus was paid to the role that community-based or integrated approaches play in the promotion of biodiversity conservation. The review indicates that where community-based tourism projects are being undertaken, they have mixed results. That is, some projects have collapsed, while others are succeeding in generating the expected economic benefits such as income, employment and funds used for community projects. The Southern African countries of Botswana, Namibia and Zimbabwe have been implementing community-based tourism projects for almost two decades. Economic benefits from tourism contribute to poverty alleviation and improved livelihoods. In the process, local communities have developed positive attitudes towards biodiversity, and hence are more inclined to use such resources sustainably. The paper concludes that tourism could serve as a potential tool for stimulating biodiversity conservation and rural development not only in developing countries but also in other similar social-ecological contexts. © CAB International 2013.\n",
      "DOI:      None\n"
     ]
    },
    {
     "name": "stderr",
     "output_type": "stream",
     "text": [
      "2016-07-24 23:17:00,048 - screen_citations - INFO - 6/10 included, 44/10 excluded\n"
     ]
    },
    {
     "name": "stdout",
     "output_type": "stream",
     "text": [
      "\n",
      "INCLUDE (y/n/u)? n\n",
      "\n",
      "TITLE:    Perception of local people towards conservation of forest resources in Nanda Devi Biosphere Reserve, north-western Himalaya, India\n",
      "YEAR:     2007.0\n",
      "AUTHORS:  Silori, C S\n",
      "ABSTRACT: This article examines the perception of the Bhotiya tribal community on the use and conservation of natural resources in Nanda Devi Biosphere Reserve (NDBR), north-western Himalaya in India with an objective of identifying the bottlenecks in the sustainable management of forest resources of NDBR through people's participation. Despite, 85% of the respondents supporting the concept of conservation of forest resources, management decisions such as ban on mountaineering activities by creation of the Nanda Devi National Park (NDNP) in 1982 and NDBR in 1988, developed negative attitude among local people towards NDBR management, mainly because of restricted access to the forest resources for their livelihood. Promotion of some alternative income generating activities to reduce the dependence on natural resources was responded positively by the local people. © 2006 Springer Science+Business Media B.V.\n",
      "DOI:      None\n"
     ]
    },
    {
     "name": "stderr",
     "output_type": "stream",
     "text": [
      "2016-07-24 23:17:00,304 - screen_citations - INFO - 6/10 included, 45/10 excluded\n"
     ]
    },
    {
     "name": "stdout",
     "output_type": "stream",
     "text": [
      "\n",
      "INCLUDE (y/n/u)? n\n",
      "\n",
      "TITLE:    Role of women in the household economy, food production and food security: Policy guidelines\n",
      "YEAR:     2003.0\n",
      "AUTHORS:  Kotzé, D A\n",
      "ABSTRACT: How to assist the rural poor to enhance their livelihoods and food security in a sustainable way is one of the greatest challenges we face. Food security strategies should be based on the premise that food insecurity and famine derive from failure of access to food rather than global food shortage. Food security is mainly about the access of poor households to food and about how political, economic and social factors affect households' food security. In this article, the relationship between hunger and poverty, the meaning of food security and sustainable livelihood security are explored. The article focuses on food security as one of the important elements of sustainable livelihood approaches, analysing the role of women in the household economy, food production and ultimately food security. Finally it assesses policy guidelines for promoting these approaches.\n",
      "DOI:      None\n"
     ]
    },
    {
     "name": "stderr",
     "output_type": "stream",
     "text": [
      "2016-07-24 23:17:00,558 - screen_citations - INFO - 6/10 included, 46/10 excluded\n"
     ]
    },
    {
     "name": "stdout",
     "output_type": "stream",
     "text": [
      "\n",
      "INCLUDE (y/n/u)? n\n",
      "\n",
      "TITLE:    Ecosystem services and food security: Economic perspectives on environmental sustainability\n",
      "YEAR:     2010.0\n",
      "AUTHORS:  Richardson, R B\n",
      "ABSTRACT: Food security in developing countries depends in part on the sustainable use of natural resources. Food security is usually examined through three dimensions, namely the availability, access, and utilization of food. Ecosystems directly and indirectly support each of these dimensions through the provision of critical ecosystem services that facilitate agricultural production, create income-generating opportunities, and provide energy for cooking. However, in some cases, household uses of natural resources undermine particular elements of food security, hindering national poverty reduction strategies and threatening the sustainability of critical ecosystem functions. I examine the role of ecosystem services in rural food security through the lens of its three dimensions, and highlight the tensions that stem from household-level interactions and uses. In some cases, uses of resources and services that support the access and utilization dimensions may undermine the ecosystem functions that support food availability. The conclusions underscore the importance for the integration of ecosystem services into food security plans and poverty reduction strategies in developing countries. © 2010 by the authors.\n",
      "DOI:      None\n"
     ]
    },
    {
     "name": "stderr",
     "output_type": "stream",
     "text": [
      "2016-07-24 23:17:00,814 - screen_citations - INFO - 6/10 included, 47/10 excluded\n"
     ]
    },
    {
     "name": "stdout",
     "output_type": "stream",
     "text": [
      "\n",
      "INCLUDE (y/n/u)? n\n",
      "\n",
      "TITLE:    Coastal community resilience: Analysis of resilient elements in 3 districts of Tamil Nadu State, India\n",
      "YEAR:     2012.0\n",
      "AUTHORS:  Edward, J K P; Guleria, S\n",
      "ABSTRACT: India has a long coastline of about 7,517 km. with 20% occupying the coastal area. Due to increase in population; people have been exploring the possibility of developmental opportunities in the coastal areas. Tsunami in 2004 was another unexpected natural catastrophe which badly affected many South Indian coastal states especially the state of Tamil Nadu. Coastal communities here are increasingly at risk from many chronic and episodic coastal hazards which threaten the health and stability of coastal ecosystems and communities. The degradation of the coastal environment from chronic human-induced actions threaten food security, livelihoods, the overall economic development and well being of coastal communities. Disasters big or small affecting the coastal communities are reminders that, coastal communities are not resilient to normally recurring hazards. This fact has raised the question of developing community resilience since the most effective approach to reducing the long-term impact of coastal hazards would be to enhance capacities of coastal communities through initiatives which are aimed at ensuring a sustainable recovery in the aftermath of a disaster as well as reducing people's vulnerability to these disasters. Eight elements of resilience i. e., Governance, Coastal Resource Management, Land Use and Structural Design, Society and Economy, Risk Knowledge, Warning and Evacuation, Emergency Response and Disaster Recovery have been identified which are considered essential to reduce risk from coastal hazards, accelerate recovery from disaster events, and adapt to changing conditions by the affected community. In this paper, all the eight resilience elements have been examined with respect to vulnerability and capacity assessment in selected Tsunami (2004) affected districts in the state of Tamil Nadu, India in order to identify the extent of resilience. © 2011 Springer Science+Business Media B.V.\n",
      "DOI:      None\n"
     ]
    },
    {
     "name": "stderr",
     "output_type": "stream",
     "text": [
      "2016-07-24 23:17:01,069 - screen_citations - INFO - 6/10 included, 48/10 excluded\n"
     ]
    },
    {
     "name": "stdout",
     "output_type": "stream",
     "text": [
      "\n",
      "INCLUDE (y/n/u)? n\n",
      "\n",
      "TITLE:    Outcomes of state- vs. community-based mangrove management in Southern Thailand\n",
      "YEAR:     2008.0\n",
      "AUTHORS:  Sudtongkong, C; Webb, E L\n",
      "ABSTRACT: In Thailand, mangrove forests are claimed for state management, although it is widely recognized that coastal communities access and manage those forests. Skepticism persists within Thai government circles about whether coastal villages can sustainably manage and protect mangroves. This research presents evidence of successful mangrove conservation and management by two coastal villages in Trang province, southern Thailand. Using interdisciplinary methods including interviews, discussions, quantitative forest surveys, and institutional analysis, we describe the history of how these two communities gained rights to manage the mangrove forests, and the subsequent positive biological outcomes associated with their management. Local villages have crafted and maintained well-defined governance management institutions over the forest, and as a result, stand structure was superior in community-managed mangrove forests than in the open-access state forest. We argue that the basis for the communities' success in managing these forests was that the resource was necessary to local livelihoods and was becoming scarce; the communities enjoyed autonomous decision making and had a high degree of social capital; the forest and user groups were well defined and monitored; effective leadership was present in the villages to apply sanctions and resolve conflicts; and there was substantial assistance from an external non-governmental organization, which served as a bridge between the villages and the government. For conservation, simply knowing whether communities can conserve mangroves is not sufficient. We must know why the communities are or are not successful. Conservation research must, therefore, consider not only the biological outcomes of community management, but the underlying reasons for those outcomes. This paper can serve as a guideline for future studies on the community-mangrove interface.\n",
      "DOI:      None\n"
     ]
    },
    {
     "name": "stderr",
     "output_type": "stream",
     "text": [
      "2016-07-24 23:17:01,323 - screen_citations - INFO - 6/10 included, 49/10 excluded\n"
     ]
    },
    {
     "name": "stdout",
     "output_type": "stream",
     "text": [
      "\n",
      "INCLUDE (y/n/u)? n\n",
      "\n",
      "TITLE:    Community forestry management and livelihood development in northwest China: integration of governance, project design, and community participation\n",
      "YEAR:     2013.0\n",
      "AUTHORS:  Chen, H Y; Krott, M; Maddox, D; Zhu, T\n",
      "ABSTRACT: In projects of community development and natural resource management, local residents collaborate with government and NGOs on decisions about forest management and participate in programs designed to improve livelihoods while sustaining natural resources. This paper uses case studies and survey data in Gansu province of northwest China to explore social, ecological, and economic outcomes of community-based co-management (CBCM). Findings show that CBCM appears to have significantly increased livelihoods for local community residents overall. Forest condition and attitudes about forest conservation were also improved. However, economic benefits were not enjoyed uniformly within the communities because, although CBCM projects are nominally available to all, certain subgroups within communities are less likely to participate. Greater education, being married, and access to information are all strongly correlated with participation and thus the economic benefits of CBCM projects. Women, although they frequently participate in household decisions, are infrequent participants in CBCM projects, perhaps because project design does not meet their needs. Future improvements to CBCM project design should include increased access to information, education, and equitable treatment of diverse stakeholders in the decision-making process. Such improvements would likely lead to improvements in livelihoods as well as more sustainable forest management and conservation.\n",
      "DOI:      10.1007/s10113-012-0316-3\n"
     ]
    },
    {
     "name": "stderr",
     "output_type": "stream",
     "text": [
      "2016-07-24 23:17:01,577 - screen_citations - INFO - 7/10 included, 49/10 excluded\n"
     ]
    },
    {
     "name": "stdout",
     "output_type": "stream",
     "text": [
      "\n",
      "INCLUDE (y/n/u)? y\n",
      "\n",
      "TITLE:    Capital formation and sustainable community forestry in Nepal\n",
      "YEAR:     2002.0\n",
      "AUTHORS:  Bigsby, H R; Dongol, C M; Hughey, K F D\n",
      "ABSTRACT: This article investigates the role of capital formation in contributing to the sustainability of community forestry in Nepal, using a case study approach based on 23 forest user groups (FUGs). FUGs were classified in 3 categories on the basis of cluster analysis: (1) successful, (2) moderately successful, and (3) unsuccessful clusters. The results show that the elements of capital accumulation in a successful FUG were manageable mature forest, high prices for forest products, a system of charging for all forest products, and sales of surplus forest products outside the FUG. The results also suggest that the benefits of funds, community development, and forest improvement changed people's vision and behavior, as well as their attitude toward and understanding of community forestry. This change in attitude has increased interest in and awareness of community forestry and has stimulated thinking about the sustainability of community forestry. Local initiative of this sort makes community forests more secure, protected, and wisely managed for sustainable development.\n",
      "DOI:      None\n"
     ]
    },
    {
     "name": "stderr",
     "output_type": "stream",
     "text": [
      "2016-07-24 23:17:01,833 - screen_citations - INFO - 8/10 included, 49/10 excluded\n"
     ]
    },
    {
     "name": "stdout",
     "output_type": "stream",
     "text": [
      "\n",
      "INCLUDE (y/n/u)? y\n",
      "\n",
      "TITLE:    The emergence of biodiversity conflicts from biodiversity impacts: Characteristics and management strategies\n",
      "YEAR:     2010.0\n",
      "AUTHORS:  Carss, D N; Marzano, M; McCracken, D I; Quine, C P; Redpath, S M; Watt, A D; White, R M; Young, J C\n",
      "ABSTRACT: Conflicts between the conservation of biodiversity and other human activities occur in all habitats and can impact severely upon socio-economic and biological parameters. In a changing environment, with increasing pressure on ecosystem goods and services and increasing urgency for biodiversity conservation, these conflicts are likely to increase in importance and magnitude and negatively affect biodiversity and human well-being. It is essential, however, to better understand what is meant by 'biodiversity conflicts' in order to develop ways to manage these effectively. In view of the complexity of the social and ecological contexts of conflicts, this paper explores 'biodiversity impacts' linked to agricultural, forestry and other sectoral activities in the UK. The paper then describes the transition from 'biodiversity impacts' to 'biodiversity conflicts', illustrating this concept with specific examples. While generalisations relating to conflict management are made difficult by their unique contextual settings, this paper suggests approaches for their management, based on the experiences of scientists who have been involved in managing conflicts. We consider the role of science and scientists; trust and dialogue; and temporal and spatial scales in biodiversity conflicts and highlight the combined role they play in successful biodiversity conflict management. Recommendations are also made for future research on biodiversity conflicts in a changing environment. © 2010 Springer Science+Business Media B.V.\n",
      "DOI:      None\n"
     ]
    },
    {
     "name": "stderr",
     "output_type": "stream",
     "text": [
      "2016-07-24 23:17:02,089 - screen_citations - INFO - 8/10 included, 50/10 excluded\n"
     ]
    },
    {
     "name": "stdout",
     "output_type": "stream",
     "text": [
      "\n",
      "INCLUDE (y/n/u)? n\n",
      "\n",
      "TITLE:    Where is \"Community\" in community-based forestry?\n",
      "YEAR:     2008.0\n",
      "AUTHORS:  Finley, J C; Flint, C G; Luloff, A E\n",
      "ABSTRACT: Community-based forestry and community-based natural resource management have become increasingly common terms in both the scientific and popular press. However, as with so many other concepts currently in vogue, rarely do studies invoking them incorporate either a grounded theoretical understanding or practical inclusion of the central term: community. Community emerges through communication and interaction among people who care about each other and the place they live. In its purest form, community is marked by its multiple and often conflicting perspectives. This article draws upon recent research experience with the Ford Foundation's community-based forestry initiative to illustrate the importance of solidly framing community in order to successfully link forest ecosystem management with community well-being.\n",
      "DOI:      None\n"
     ]
    },
    {
     "name": "stderr",
     "output_type": "stream",
     "text": [
      "2016-07-24 23:17:02,344 - screen_citations - INFO - 8/10 included, 51/10 excluded\n"
     ]
    },
    {
     "name": "stdout",
     "output_type": "stream",
     "text": [
      "\n",
      "INCLUDE (y/n/u)? n\n",
      "\n",
      "TITLE:    Mountain biodiversity conservation and management: A paradigm shift in policies and practices in the Hindu Kush-Himalayas\n",
      "YEAR:     2010.0\n",
      "AUTHORS:  Chettri, N; Oli, K P; Sharma, E\n",
      "ABSTRACT: Mountains occupy 24% of the global land surface area and are home to 12% of the world's population. They have ecological, aesthetic, and socioeconomic significance, not only for people living in mountain areas, but for those living beyond. Mountains need specific attention for their contribution to global goods and services, especially by developing and implementing mountain specific policies. Conservation policies have evolved from the protection of charismatic species, to habitat and ecosystem/landscape conservation, and, finally, to people-oriented conservation approaches. This paper, with particular reference to paradigm shifts in the Hindu Kush-Himalayan (HKH) region, discusses the evolution of conservation policies, developments in conservation practices, the status of protected area management, wetland conservation initiatives and the landscape approach, community-based conservation initiatives, and the convergence of policies and practices. In the HKH region, conservation efforts now adopt participatory approaches, implement policies of decentralised governance for biodiversity management, and empower local communities in biodiversity management. The paradigm shift in the policies and practices related to conservation has been gradual and has included the acceptance of communities as an integral part of national level conservation initiatives, together with the integration of many global conventions. There are many successful pilots in the HKH region that deserve upscaling by the countries from the region. Realising the importance of mountains as hotspots of biodiversity, and due to their role as providers of global goods and services, the Convention on Biological Diversity adopted the Programme of Work on Mountain Biodiversity. Such a decision specific to mountains provides enormous opportunities for both conservation and development. Recent challenges posed by climate change need to be integrated into overall biodiversity conservation and management agendas, especially in mountain areas. The HKH region has been identified as a blank spot for data by the Inter-Governmental Panel on Climate Change, indicating the need to develop regional database and sharing mechanisms. This is a tall task, but one that holds enormous opportunity for the HKH countries and institutions with regional mandates to address the emerging challenges of climate change on biodiversity conservation by reducing scientific uncertainty. © 2010 The Ecological Society of Japan.\n",
      "DOI:      None\n"
     ]
    },
    {
     "name": "stderr",
     "output_type": "stream",
     "text": [
      "2016-07-24 23:17:02,596 - screen_citations - INFO - 8/10 included, 52/10 excluded\n"
     ]
    },
    {
     "name": "stdout",
     "output_type": "stream",
     "text": [
      "\n",
      "INCLUDE (y/n/u)? n\n",
      "\n",
      "TITLE:    Participation to forest conservation in National Kabore Tambi Park in Southern Burkina Faso\n",
      "YEAR:     2009.0\n",
      "AUTHORS:  Brännlund, R; Gong, P; Sidibe, A\n",
      "ABSTRACT: The main objective with this study is to investigate how different household characteristics, households' perceptions about the security of land use rights, and the households' proximity to forests affect the individual household's willingness to engage in activities that are meant to promote sustainable forest management in Burkina Faso. To achieve this objective we use a multinomial choice model of engagement (or non-engagement) in forest management activities based on household data from 4 villages surrounding the National Kabore Tambi Park in Burkina Faso. The results show that the participation by household members in forest conservation activities is mainly determined by the three variables that are related to policy: membership in community based forest management associations, security of land use rights, and training. The current training programs focus only on forest conservation practices. To be more efficient it should focus on increasing people's knowledge about the benefits due to conservation and the threats resulting from the lack of forest management. Furthermore the results indicate that improving land use right security would increase farmer's willingness to participate in forest management activities such as community work and forest surveillance. Thus particular attention should be paid to the prevailing system of land rights and its incentives, or disincentives, for promoting sustainable management of the forest resource. © 2009 Elsevier B.V. All rights reserved.\n",
      "DOI:      None\n"
     ]
    },
    {
     "name": "stderr",
     "output_type": "stream",
     "text": [
      "2016-07-24 23:17:02,851 - screen_citations - INFO - 9/10 included, 52/10 excluded\n"
     ]
    },
    {
     "name": "stdout",
     "output_type": "stream",
     "text": [
      "\n",
      "INCLUDE (y/n/u)? y\n",
      "\n",
      "TITLE:    Social and ecological resilience: Are they related?\n",
      "YEAR:     2000.0\n",
      "AUTHORS:  Adger, W N\n",
      "ABSTRACT: This article defines social resilience as the ability of groups or communities to cope with external stresses and disturbances as a result of social, political and environmental change. This definition highlights social resilience in relation to the concept of ecological resilience which is a characteristic of ecosystems to maintain themselves in the face of disturbance. There is a clear link between social and ecological resilience, particularly for social groups or communities that are dependent on ecological and environmental resources for their livelihoods. But it is not clear whether resilient ecosystems enable resilient communities in such situations. This article examines whether resilience is a useful characteristic for describing the social and economic situation of social groups and explores potential links between social resilience and ecological resilience. The origins of this interdisciplinary study in human ecology, ecological economics and rural sociology are reviewed, and a study of the impacts of ecological change on a resource-dependent community in contemporary coastal Vietnam in terms of the resilience of its institutions is outlined.\n",
      "DOI:      None\n"
     ]
    },
    {
     "name": "stderr",
     "output_type": "stream",
     "text": [
      "2016-07-24 23:17:03,106 - screen_citations - INFO - 9/10 included, 53/10 excluded\n"
     ]
    },
    {
     "name": "stdout",
     "output_type": "stream",
     "text": [
      "\n",
      "INCLUDE (y/n/u)? n\n",
      "\n",
      "TITLE:    Grand challenges for resilience-based management of rangelands\n",
      "YEAR:     2012.0\n",
      "AUTHORS:  Bestelmeyer, B T; Briske, D D\n",
      "ABSTRACT: The social and ecological contexts for rangeland management are changing rapidly, prompting a reevaluation of science, management, and their relationship. We argue that progression from steady-state management to ecosystem management has served the rangeland profession well, but that further development toward resilience-based management is required to ensure that ecosystem services are sustained in an era of rapid change. Resilience-based management embraces the inevitability of change and emphasizes that management should seek to guide change to benefit society. The objectives of this forum are to: 1) justify the need for adopting resilience-based management, 2) identify the challenges that will be encountered in its development and implementation, and 3) highlight approaches to overcoming these challenges. Five grand challenges confronting the adoption of resilience-based management, based upon the insights of 56 rangeland researchers who have contributed to this special issue, were identified as: 1) development of knowledge systems to support resilience-based management, 2) improvement of ecological models supporting science and management, 3) protocols to assess and manage tradeoffs among ecosystem services, 4) use of social-ecological system models to integrate diverse knowledge sources, and 5) reorganization of institutions to support resilience-based management. Resolving the challenges presented here will require the creation of stronger partnerships between ecosystem managers, science organizations, management agencies, and policymakers at local, regional, and national scales. A realistic near-term goal for achieving such partnerships is to initiate and support collaborative landscape projects. The creation of multiscaled social learning institutions linked to evolving knowledge systems may be the best approach to guide adaptation and transformation in rangelands in the coming century.\n",
      "DOI:      None\n"
     ]
    },
    {
     "name": "stderr",
     "output_type": "stream",
     "text": [
      "2016-07-24 23:17:03,360 - screen_citations - INFO - 9/10 included, 54/10 excluded\n"
     ]
    },
    {
     "name": "stdout",
     "output_type": "stream",
     "text": [
      "\n",
      "INCLUDE (y/n/u)? n\n",
      "\n",
      "TITLE:    Ecotourism and biodiversity conservation in Jozani-Chwaka Bay National Park, Zanzibar\n",
      "YEAR:     2009.0\n",
      "AUTHORS:  Salum, L A\n",
      "ABSTRACT: This study is based on a study undertaken to assess how ecotourism has influenced biodiversity conservation in Jozani-Chwaka Bay National Park (JCBNP). It involved two communities surrounding the park, namely Pete and Kitogani. Field data were collected using structured questionnaires, key informant interviews and field observations. Questionnaires were administered to 76 households, whereas key informant interviews were conducted with foresters and JCBNP officials. Data analysis was undertaken using standard statistical methods. Findings from the study show that biodiversity management in the JCBNP has improved considerably after the introduction of ecotourism. The number of endemic colobus monkeys (Piliocolobus kirkii) and other rare species has increased. However, this achievement has been attained by restricting surrounding communities from using forest resources without providing alternative sources of livelihood. Findings also show that the benefits from ecotourism do not reach individual households, but the community as whole, in form of various social services. This has caused some resentment among the local people leading to their reluctance to reduce their direct use of ecosystem services available in the JCBNP, claiming that they cannot sustain their livelihood without such services. This has become a major source of conflict between the JCBNP and surrounding communities. Increased awareness and knowledge on biodiversity conservation would be needed for the communities surrounding the park to realize the potential and long-term benefits of ecotourism, and hence the need for their increased involvement in biodiversity management. © 2009 The Authors.\n",
      "DOI:      None\n"
     ]
    },
    {
     "name": "stderr",
     "output_type": "stream",
     "text": [
      "2016-07-24 23:17:03,612 - screen_citations - INFO - 9/10 included, 55/10 excluded\n"
     ]
    },
    {
     "name": "stdout",
     "output_type": "stream",
     "text": [
      "\n",
      "INCLUDE (y/n/u)? n\n",
      "\n",
      "TITLE:    Livelihood Sustainability and Community Based Co-Management of Forest Resources in China: Changes and Improvement\n",
      "YEAR:     2012.0\n",
      "AUTHORS:  Chen, H Y; Maddox, D; Shivakoti, G; Zhu, T\n",
      "ABSTRACT: Community-based co-management (CBCM) has been applied in some communities near natural reserves in China. This paper uses Gansu Baishuijiang National Natural Reserve in China as a case study for livelihood improvements under CBCM projects. We demonstrate change from 2006 to 2010 in five classes of livelihood capital (social, human, natural, physical and financial capitals), illustrating the effectiveness of CBCM projects. Specifically, there are increases in mean family income and improvements in forest conservation. However, some problems in the design and implementation of CBCM projects remain, including the complicated social and political relationship between government and community, social exclusion and uneven application of benefits within communities, and the lack of integration of indigenous cultures and traditional beliefs. Attention for special groups in community and improving the design of CBCM Projects. Study shows that under the cooperation of government, CBCM projects and local community residents, the harmonious development of sustainable livelihood improvement and forest resources conservation will be an important trend in the future.\n",
      "DOI:      10.1007/s00267-011-9775-4\n"
     ]
    },
    {
     "name": "stderr",
     "output_type": "stream",
     "text": [
      "2016-07-24 23:17:03,867 - screen_citations - INFO - 10/10 included, 55/10 excluded\n"
     ]
    },
    {
     "name": "stdout",
     "output_type": "stream",
     "text": [
      "\n",
      "INCLUDE (y/n/u)? y\n"
     ]
    }
   ],
   "source": [
    "%run ../scripts/screen_citations.py --user_id=1 --review_id=1 --auto"
   ]
  },
  {
   "cell_type": "markdown",
   "metadata": {},
   "source": [
    "---\n",
    "\n",
    "## Refinement of Search Keyterms\n",
    "\n",
    "- based on included/excluded citations, create lists of strongly relevant and irrelevant keyterms that can be used to refine initial set of keyterms"
   ]
  },
  {
   "cell_type": "code",
   "execution_count": null,
   "metadata": {
    "collapsed": true
   },
   "outputs": [],
   "source": []
  }
 ],
 "metadata": {
  "kernelspec": {
   "display_name": "Python 3",
   "language": "python",
   "name": "python3"
  },
  "language_info": {
   "codemirror_mode": {
    "name": "ipython",
    "version": 3
   },
   "file_extension": ".py",
   "mimetype": "text/x-python",
   "name": "python",
   "nbconvert_exporter": "python",
   "pygments_lexer": "ipython3",
   "version": "3.5.1"
  }
 },
 "nbformat": 4,
 "nbformat_minor": 0
}
