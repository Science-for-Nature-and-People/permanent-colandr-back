{
 "cells": [
  {
   "cell_type": "code",
   "execution_count": 1,
   "metadata": {
    "collapsed": false
   },
   "outputs": [],
   "source": [
    "from __future__ import absolute_import, division, print_function, unicode_literals\n",
    "\n",
    "import logging\n",
    "\n",
    "import cipy\n",
    "\n",
    "logger = logging.getLogger()\n",
    "handler = logger.handlers[0]\n",
    "handler.setLevel(logging.CRITICAL)\n",
    "\n",
    "conn_creds = cipy.db.get_conn_creds('DATABASE_URL')\n",
    "pgdb = cipy.db.PostgresDB(conn_creds)"
   ]
  },
  {
   "cell_type": "markdown",
   "metadata": {},
   "source": [
    "---\n",
    "\n",
    "## User Management\n",
    "\n",
    "- create new user accounts and store passwords in a secure format\n",
    "- delete existing user accounts (along with any owned reviews)\n",
    "- user login"
   ]
  },
  {
   "cell_type": "code",
   "execution_count": 2,
   "metadata": {
    "collapsed": false,
    "scrolled": false
   },
   "outputs": [
    {
     "name": "stdout",
     "output_type": "stream",
     "text": [
      "Enter user name: Bob Minnich\n",
      "Enter user email: bob@gmail.com\n",
      "Confirm user email: test\n"
     ]
    },
    {
     "name": "stderr",
     "output_type": "stream",
     "text": [
      "2016-07-27 18:13:42,003 - create_user - WARNING - email mismatch, please try again...\n"
     ]
    },
    {
     "name": "stdout",
     "output_type": "stream",
     "text": [
      "Enter user email: bob@gmail.com\n",
      "Confirm user email: bob@gmail.com\n",
      "Enter password: ········\n",
      "Confirm password: ········\n"
     ]
    },
    {
     "name": "stderr",
     "output_type": "stream",
     "text": [
      "2016-07-27 18:13:54,239 - create_user - INFO - created user (TEST): {'owned_review_ids': None, 'created_ts': '2016-07-27T22:12:07.355207Z', 'name': 'Bob Minnich', 'email': 'bob@gmail.com', 'review_ids': None}\n"
     ]
    }
   ],
   "source": [
    "%run ../scripts/create_user.py --test"
   ]
  },
  {
   "cell_type": "code",
   "execution_count": 3,
   "metadata": {
    "collapsed": false
   },
   "outputs": [
    {
     "data": {
      "text/plain": [
       "[{'created_ts': datetime.datetime(2016, 7, 7, 17, 56, 7),\n",
       "  'email': 'burtdewilde@gmail.com',\n",
       "  'name': 'Burton DeWilde',\n",
       "  'owned_review_ids': [1],\n",
       "  'password': '$2a$06$5qfLF4y/sfXkc8XhZ360i.48V5GaQfxF5Uy8zVJcO6dLmUqX9JGie',\n",
       "  'review_ids': [1],\n",
       "  'user_id': 1},\n",
       " {'created_ts': datetime.datetime(2016, 7, 13, 1, 48, 12),\n",
       "  'email': 'samc@gmail.com',\n",
       "  'name': 'Sam C',\n",
       "  'owned_review_ids': None,\n",
       "  'password': '$2a$06$MHhP.XjRGfSO7eiDiNLFieJEGoOXxQruc6.Sd3nb.vImvoAuO09x.',\n",
       "  'review_ids': [],\n",
       "  'user_id': 3}]"
      ]
     },
     "execution_count": 3,
     "metadata": {},
     "output_type": "execute_result"
    }
   ],
   "source": [
    "list(pgdb.run_query('SELECT * from users'))"
   ]
  },
  {
   "cell_type": "code",
   "execution_count": 4,
   "metadata": {
    "collapsed": false
   },
   "outputs": [
    {
     "name": "stdout",
     "output_type": "stream",
     "text": [
      "Enter email: burtdewilde@gmail.com\n",
      "Enter password: ········\n"
     ]
    },
    {
     "name": "stderr",
     "output_type": "stream",
     "text": [
      "2016-07-27 18:14:31,237 - login_user - INFO - Welcome, Burton DeWilde id=1\n"
     ]
    }
   ],
   "source": [
    "%run ../scripts/login_user.py"
   ]
  },
  {
   "cell_type": "code",
   "execution_count": 5,
   "metadata": {
    "collapsed": false
   },
   "outputs": [
    {
     "name": "stderr",
     "output_type": "stream",
     "text": [
      "2016-07-27 18:14:42,558 - delete_user - INFO - deleted user id=3 from reviews (TEST)\n",
      "2016-07-27 18:14:42,559 - delete_user - INFO - deleted user id=3 (TEST)\n"
     ]
    }
   ],
   "source": [
    "%run ../scripts/delete_user.py --user_id=3 --test"
   ]
  },
  {
   "cell_type": "markdown",
   "metadata": {},
   "source": [
    "---\n",
    "\n",
    "## Review Management\n",
    "\n",
    "- create new reviews (with user as owner)\n",
    "- delete existing owned reviews\n",
    "- invite/uninvite other users to collaborate on existing reviews\n",
    "- assign other user as owned review's new owner"
   ]
  },
  {
   "cell_type": "code",
   "execution_count": 6,
   "metadata": {
    "collapsed": false
   },
   "outputs": [
    {
     "name": "stdout",
     "output_type": "stream",
     "text": [
      "Review name: My Great Systematic Review\n",
      "Review description (optional):\n",
      "Find out everything about <stuff>.\n"
     ]
    },
    {
     "name": "stderr",
     "output_type": "stream",
     "text": [
      "2016-07-27 18:15:14,474 - create_review - INFO - created review (TEST): {'created_ts': '2016-07-27T22:12:07.351750Z', 'settings': {'num_fulltext_screening_reviewers': 2, 'num_citation_screening_reviewers': 2, 'required_fulltext_screener_id': None, 'required_citation_screener_id': None}, 'name': 'My Great Systematic Review', 'description': 'Find out everything about <stuff>.', 'user_ids': [1], 'owner_user_id': 1}\n"
     ]
    }
   ],
   "source": [
    "%run ../scripts/create_review.py --user_id=1 --test"
   ]
  },
  {
   "cell_type": "code",
   "execution_count": 7,
   "metadata": {
    "collapsed": false
   },
   "outputs": [
    {
     "data": {
      "text/plain": [
       "{'created_ts': datetime.datetime(2016, 7, 13, 1, 40, 27),\n",
       " 'description': 'International policy has sought to emphasize and strengthen the link between the conservation of natural ecosystems and human development. Furthermore, international conservation organizations have broadened their objectives beyond nature-based goals to recognize the contribution of conservation interventions in sustaining ecosystem services upon which human populations are dependent. While many indices have been developed to measure various human well-being domains, the strength of evidence to support the effects, both positive and negative, of conservation interventions on human well-being, is still unclear.\\\\n\\\\nThis protocol describes the methodology for examining the research question: What are the impacts of nature conservation interventions on different domains of human well-being in developing countries? Using systematic mapping, this study will scope and identify studies that measure the impacts of nature conservation interventions on human well-being at local to regional scales. The primary objective of this study is to synthesize the state and distribution of the existing evidence base linking conservation and human well-being. In addition, a theory of change approach will be used to identify and characterize the causal linkages between conservation and human well-being, with attention on those studies that examine the role of ecosystem services. Key trends among the resulting studies will be synthesized and the range of studies organized and presented in a graphical matrix illustrating the relationships between types of interventions and types of outcomes. Results of the study are intended to help conservation and development practitioners and the academic community to improve research studies and conservation practices in developing countries in order to achieve both conservation and human well-being outcomes.',\n",
       " 'name': 'Conservation International demo',\n",
       " 'owner_user_id': 1,\n",
       " 'review_id': 1,\n",
       " 'settings': {'num_citation_screening_reviewers': 2,\n",
       "  'num_fulltext_screening_reviewers': 2},\n",
       " 'user_ids': [1]}"
      ]
     },
     "execution_count": 7,
     "metadata": {},
     "output_type": "execute_result"
    }
   ],
   "source": [
    "list(pgdb.run_query(\"SELECT * FROM reviews where review_id=1\"))[0]"
   ]
  },
  {
   "cell_type": "code",
   "execution_count": 8,
   "metadata": {
    "collapsed": false
   },
   "outputs": [
    {
     "name": "stderr",
     "output_type": "stream",
     "text": [
      "2016-07-27 18:15:47,010 - delete_review - INFO - deleted review id=1 (TEST)\n"
     ]
    }
   ],
   "source": [
    "%run ../scripts/delete_review.py --user_id=1 --review_id=1 --test"
   ]
  },
  {
   "cell_type": "code",
   "execution_count": 9,
   "metadata": {
    "collapsed": false
   },
   "outputs": [
    {
     "name": "stderr",
     "output_type": "stream",
     "text": [
      "2016-07-27 18:15:54,321 - manage_collaborators - INFO - user id=3 added as collaborator to review id=1 \n"
     ]
    }
   ],
   "source": [
    "%run ../scripts/manage_collaborators.py --owner_user_id=1 --review_id=1 --add_user_emails \"samc@gmail.com\""
   ]
  },
  {
   "cell_type": "code",
   "execution_count": 10,
   "metadata": {
    "collapsed": false
   },
   "outputs": [
    {
     "name": "stdout",
     "output_type": "stream",
     "text": [
      "review: [{'user_ids': [1, 3], 'review_id': 1}]\n",
      "user: [{'user_id': 3, 'review_ids': [1]}]\n"
     ]
    }
   ],
   "source": [
    "print('review:', list(pgdb.run_query('SELECT review_id, user_ids FROM reviews WHERE review_id=1')))\n",
    "print('user:', list(pgdb.run_query('SELECT user_id, review_ids FROM users WHERE user_id=3')))"
   ]
  },
  {
   "cell_type": "code",
   "execution_count": 11,
   "metadata": {
    "collapsed": false
   },
   "outputs": [
    {
     "name": "stderr",
     "output_type": "stream",
     "text": [
      "2016-07-27 18:16:10,725 - manage_collaborators - INFO - user id=3 removed as collaborator to review id=1 \n"
     ]
    }
   ],
   "source": [
    "%run ../scripts/manage_collaborators.py --owner_user_id=1 --review_id=1 --remove_user_emails \"samc@gmail.com\""
   ]
  },
  {
   "cell_type": "code",
   "execution_count": 12,
   "metadata": {
    "collapsed": false
   },
   "outputs": [
    {
     "name": "stdout",
     "output_type": "stream",
     "text": [
      "review: [{'user_ids': [1], 'review_id': 1}]\n",
      "user: [{'user_id': 3, 'review_ids': []}]\n"
     ]
    }
   ],
   "source": [
    "print('review:', list(pgdb.run_query('SELECT review_id, user_ids FROM reviews WHERE review_id=1')))\n",
    "print('user:', list(pgdb.run_query('SELECT user_id, review_ids FROM users WHERE user_id=3')))"
   ]
  },
  {
   "cell_type": "markdown",
   "metadata": {},
   "source": [
    "---\n",
    "\n",
    "## Review Planning\n",
    "\n",
    "- facilitate systematic review planning while also gathering structured data that informs and is informed by the citation pre-screening process; user entry of the following fields:\n",
    "    - objective\n",
    "    - research questions, ranked\n",
    "    - PICO statements\n",
    "    - grouped keyterms (with automatic boolean search query generation)\n",
    "    - selection criteria, with shorthand labels\n",
    "- automatically generate boolean search queries from given keyterms\n",
    "- after enough citations have been screened, suggest good/bad keyterms for search query"
   ]
  },
  {
   "cell_type": "code",
   "execution_count": 13,
   "metadata": {
    "collapsed": false,
    "scrolled": true
   },
   "outputs": [
    {
     "name": "stdout",
     "output_type": "stream",
     "text": [
      "\n",
      "PROJECT PLAN\n",
      "\n",
      "Objective:\n",
      "To assess and characterize the current state and distribution of the existing evidence base around the causal linkages between both positive and negative effects of nature conservation and human well-being.\n",
      "\n",
      "Research Questions:\n",
      " 0 What are the impacts of nature conservation interventions on different domains of human well-being in developing countries?\n",
      " 1 What is the current state and distribution of evidence?\n",
      " 2 What types of impacts from conservation interventions on human well-being are measured?\n",
      " 3 What types of ecosystem services are explicitly associated with the impacts of conservation interventions on human well-being?\n",
      " 4 What populations are affected by conservation and/ or focus of studies?\n",
      " 5 How does the evidence base align with major priorities and investments of implementing agencies?\n",
      "\n",
      "PICO:\n",
      "- Population    : Human populations, including individuals, households, communities or nation states in non-OECD countries\n",
      "- Intervention  : Adoption or implementation of nature conservation interventions\n",
      "- Comparator    : No use of nature conservation interventions either between sites or groups, or over time series (before/after)\n",
      "- Outcome       : Positive or negative effects on the multi-dimensional well-being status of human populations\n",
      "\n",
      "Keyterms:\n",
      "- Group: intervention qualifiers\n",
      "    - marine (synonyms: ['freshwater'])\n",
      "    - coastal \n",
      "    - forest (synonyms: ['forests', 'forestry'])\n",
      "    - ecosystem (synonyms: ['ecosystems'])\n",
      "    - species \n",
      "    - habitat (synonyms: ['habitats'])\n",
      "    - biodiversity \n",
      "    - sustainable (synonyms: ['sustainability'])\n",
      "    - ecology (synonyms: ['ecological'])\n",
      "    - integrated \n",
      "    - landscape \n",
      "    - seascape \n",
      "    - coral reef (synonyms: ['coral reefs'])\n",
      "    - natural resources (synonyms: ['natural resource'])\n",
      "- Group: intervention\n",
      "    - conservation \n",
      "    - conserve \n",
      "    - conservancy \n",
      "    - protect (synonyms: ['protects', 'protection'])\n",
      "    - management \n",
      "    - awareness \n",
      "    - law (synonyms: ['laws'])\n",
      "    - policy (synonyms: ['policy-making'])\n",
      "    - reserve \n",
      "    - govern (synonyms: ['governs', 'government'])\n",
      "    - capacity-build (synonyms: ['capacity-building', 'capacity building'])\n",
      "    - train (synonyms: ['tarins', 'training'])\n",
      "    - PES \n",
      "    - ecotourism (synonyms: ['eco-tourism'])\n",
      "    - sustainable use \n",
      "- Group: outcome\n",
      "    - wellbeing (synonyms: ['well-being', 'well being'])\n",
      "    - ecosystem service (synonyms: ['ecosystem services'])\n",
      "    - nutrition \n",
      "    - skill (synonyms: ['skills'])\n",
      "    - empower (synonyms: ['empowering'])\n",
      "    - clean water (synonyms: ['livelihood'])\n",
      "    - livelihoods (synonyms: ['food security'])\n",
      "    - resilience (synonyms: ['vulnerability'])\n",
      "    - capital (synonyms: ['social capital'])\n",
      "    - attitude (synonyms: ['attitudes'])\n",
      "    - perception (synonyms: ['perceptions'])\n",
      "    - health (synonyms: ['human health'])\n",
      "    - human capital (synonyms: ['knowledge'])\n",
      "    - traditional knowledge \n",
      "- Group: outcome qualifiers\n",
      "    - human (synonyms: ['humans', 'humanity'])\n",
      "    - people \n",
      "    - person (synonyms: ['persons'])\n",
      "    - community (synonyms: ['communities'])\n",
      "    - household (synonyms: ['households'])\n",
      "    - fishermen (synonyms: ['fisherman'])\n",
      "    - collaborative \n",
      "\n",
      "Selection Criteria:\n",
      "- location: individuals, households, or communities must be in non-OECD countries\n",
      "- undefined pop.: studies must include discrete populations and not undefined groups or populations\n",
      "- intervention type: study must document or measure people's specific and discrete external interventions, not daily use\n",
      "- in-situ: study must focus on establishment, adoption, or implementation of regulation, protection, or management of natural ecosystems through in-situ activities\n",
      "- outcome: studies must measure or describe human well-being outcomes, and can't only focus on biophysical outcomes of conservation\n",
      "\n",
      "\n",
      "UPDATES:\n",
      "Objective:\n",
      "\n",
      "\n",
      "Research Questions\n",
      "\n",
      "Question:\n",
      "\n",
      "\n",
      "PICO\n",
      "Population:\n",
      "\n",
      "Intervention:\n",
      "\n",
      "Comparator:\n",
      "\n",
      "Outcome:\n",
      "\n",
      "\n",
      "Keyterms\n",
      "\n",
      "Group name: \n",
      "\n",
      "Selection Criteria\n",
      "\n",
      "Criterion label: \n"
     ]
    },
    {
     "name": "stderr",
     "output_type": "stream",
     "text": [
      "2016-07-27 18:18:17,292 - plan_review - INFO - valid record: review_id=1 with {'pico', 'research_questions', 'objective', 'keyterms', 'selection_criteria'}, (TEST)\n"
     ]
    },
    {
     "name": "stdout",
     "output_type": "stream",
     "text": [
      "\n",
      "PROJECT PLAN\n",
      "\n",
      "Objective:\n",
      "To assess and characterize the current state and distribution of the existing evidence base around the causal linkages between both positive and negative effects of nature conservation and human well-being.\n",
      "\n",
      "Research Questions:\n",
      " 0 What are the impacts of nature conservation interventions on different domains of human well-being in developing countries?\n",
      " 1 What is the current state and distribution of evidence?\n",
      " 2 What types of impacts from conservation interventions on human well-being are measured?\n",
      " 3 What types of ecosystem services are explicitly associated with the impacts of conservation interventions on human well-being?\n",
      " 4 What populations are affected by conservation and/ or focus of studies?\n",
      " 5 How does the evidence base align with major priorities and investments of implementing agencies?\n",
      "\n",
      "PICO:\n",
      "- Population    : Human populations, including individuals, households, communities or nation states in non-OECD countries\n",
      "- Intervention  : Adoption or implementation of nature conservation interventions\n",
      "- Comparator    : No use of nature conservation interventions either between sites or groups, or over time series (before/after)\n",
      "- Outcome       : Positive or negative effects on the multi-dimensional well-being status of human populations\n",
      "\n",
      "Keyterms:\n",
      "- Group: intervention qualifiers\n",
      "    - marine (synonyms: ['freshwater'])\n",
      "    - coastal \n",
      "    - forest (synonyms: ['forests', 'forestry'])\n",
      "    - ecosystem (synonyms: ['ecosystems'])\n",
      "    - species \n",
      "    - habitat (synonyms: ['habitats'])\n",
      "    - biodiversity \n",
      "    - sustainable (synonyms: ['sustainability'])\n",
      "    - ecology (synonyms: ['ecological'])\n",
      "    - integrated \n",
      "    - landscape \n",
      "    - seascape \n",
      "    - coral reef (synonyms: ['coral reefs'])\n",
      "    - natural resources (synonyms: ['natural resource'])\n",
      "- Group: intervention\n",
      "    - conservation \n",
      "    - conserve \n",
      "    - conservancy \n",
      "    - protect (synonyms: ['protects', 'protection'])\n",
      "    - management \n",
      "    - awareness \n",
      "    - law (synonyms: ['laws'])\n",
      "    - policy (synonyms: ['policy-making'])\n",
      "    - reserve \n",
      "    - govern (synonyms: ['governs', 'government'])\n",
      "    - capacity-build (synonyms: ['capacity-building', 'capacity building'])\n",
      "    - train (synonyms: ['tarins', 'training'])\n",
      "    - PES \n",
      "    - ecotourism (synonyms: ['eco-tourism'])\n",
      "    - sustainable use \n",
      "- Group: outcome\n",
      "    - wellbeing (synonyms: ['well-being', 'well being'])\n",
      "    - ecosystem service (synonyms: ['ecosystem services'])\n",
      "    - nutrition \n",
      "    - skill (synonyms: ['skills'])\n",
      "    - empower (synonyms: ['empowering'])\n",
      "    - clean water (synonyms: ['livelihood'])\n",
      "    - livelihoods (synonyms: ['food security'])\n",
      "    - resilience (synonyms: ['vulnerability'])\n",
      "    - capital (synonyms: ['social capital'])\n",
      "    - attitude (synonyms: ['attitudes'])\n",
      "    - perception (synonyms: ['perceptions'])\n",
      "    - health (synonyms: ['human health'])\n",
      "    - human capital (synonyms: ['knowledge'])\n",
      "    - traditional knowledge \n",
      "- Group: outcome qualifiers\n",
      "    - human (synonyms: ['humans', 'humanity'])\n",
      "    - people \n",
      "    - person (synonyms: ['persons'])\n",
      "    - community (synonyms: ['communities'])\n",
      "    - household (synonyms: ['households'])\n",
      "    - fishermen (synonyms: ['fisherman'])\n",
      "    - collaborative \n",
      "\n",
      "Selection Criteria:\n",
      "- location: individuals, households, or communities must be in non-OECD countries\n",
      "- undefined pop.: studies must include discrete populations and not undefined groups or populations\n",
      "- intervention type: study must document or measure people's specific and discrete external interventions, not daily use\n",
      "- in-situ: study must focus on establishment, adoption, or implementation of regulation, protection, or management of natural ecosystems through in-situ activities\n",
      "- outcome: studies must measure or describe human well-being outcomes, and can't only focus on biophysical outcomes of conservation\n",
      "\n"
     ]
    }
   ],
   "source": [
    "%run ../scripts/plan_review.py --user_id=1 --review_id=1 --test"
   ]
  },
  {
   "cell_type": "code",
   "execution_count": 14,
   "metadata": {
    "collapsed": false
   },
   "outputs": [
    {
     "name": "stdout",
     "output_type": "stream",
     "text": [
      "((\"wellbeing\" OR \"well-being\" OR \"well being\") OR (\"ecosystem service\" OR \"ecosystem services\") OR \"nutrition\" OR (\"skill\" OR \"skills\") OR (\"empower\" OR \"empowering\") OR (\"clean water\" OR \"livelihood\") OR (\"livelihoods\" OR \"food security\") OR (\"resilience\" OR \"vulnerability\") OR (\"capital\" OR \"social capital\") OR (\"attitude\" OR \"attitudes\") OR (\"perception\" OR \"perceptions\") OR (\"health\" OR \"human health\") OR (\"human capital\" OR \"knowledge\") OR \"traditional knowledge\")\n",
      "AND\n",
      "((\"marine\" OR \"freshwater\") OR \"coastal\" OR (\"forest\" OR \"forests\" OR \"forestry\") OR (\"ecosystem\" OR \"ecosystems\") OR \"species\" OR (\"habitat\" OR \"habitats\") OR \"biodiversity\" OR (\"sustainable\" OR \"sustainability\") OR (\"ecology\" OR \"ecological\") OR \"integrated\" OR \"landscape\" OR \"seascape\" OR (\"coral reef\" OR \"coral reefs\") OR (\"natural resources\" OR \"natural resource\"))\n",
      "AND\n",
      "((\"human\" OR \"humans\" OR \"humanity\") OR \"people\" OR (\"person\" OR \"persons\") OR (\"community\" OR \"communities\") OR (\"household\" OR \"households\") OR (\"fishermen\" OR \"fisherman\") OR \"collaborative\")\n",
      "AND\n",
      "(\"conservation\" OR \"conserve\" OR \"conservancy\" OR (\"protect\" OR \"protects\" OR \"protection\") OR \"management\" OR \"awareness\" OR (\"law\" OR \"laws\") OR (\"policy\" OR \"policy-making\") OR \"reserve\" OR (\"govern\" OR \"governs\" OR \"government\") OR (\"capacity-build\" OR \"capacity-building\" OR \"capacity building\") OR (\"train\" OR \"tarins\" OR \"training\") OR \"PES\" OR (\"ecotourism\" OR \"eco-tourism\") OR \"sustainable use\")\n"
     ]
    }
   ],
   "source": [
    "query = \"SELECT keyterms FROM review_plans WHERE review_id = 1\"\n",
    "keyterms = list(pgdb.run_query(query))[0]['keyterms']\n",
    "print(cipy.utils.get_boolean_search_query(keyterms))"
   ]
  },
  {
   "cell_type": "markdown",
   "metadata": {
    "collapsed": true
   },
   "source": [
    "---\n",
    "\n",
    "## Citation Ingestion and De-duplication\n",
    "\n",
    "- load citations from RIS or BibTex files then parse, standardize, sanitize, validate, and store the data\n",
    "- identify duplicate citations using a sophisticated model and assign the most complete record in a set of duplicates as the \"canonical\" record"
   ]
  },
  {
   "cell_type": "code",
   "execution_count": 15,
   "metadata": {
    "collapsed": false
   },
   "outputs": [
    {
     "name": "stderr",
     "output_type": "stream",
     "text": [
      "2016-07-27 18:23:44,353 - ingest_citations - INFO - parsing records in ../data/raw/citation_files/phase_2_demo_citations.ris\n",
      "2016-07-27 18:23:44,355 - ingest_citations - INFO - valid record: Ecological protection and well-being, 2013\n",
      "2016-07-27 18:23:44,356 - ingest_citations - INFO - valid record: The economic value of forest ecosystems, 2001\n",
      "2016-07-27 18:23:44,357 - ingest_citations - INFO - valid record: Contribution of tourism development to protected area management: Local stakeholder perspectives, 2009\n",
      "2016-07-27 18:23:44,357 - ingest_citations - INFO - 3 valid records inserted into appname db (TEST)\n"
     ]
    }
   ],
   "source": [
    "%run ../scripts/ingest_citations.py --citations ../data/raw/citation_files/phase_2_demo_citations.ris --user_id=1 --review_id=1 --test"
   ]
  },
  {
   "cell_type": "code",
   "execution_count": 16,
   "metadata": {
    "collapsed": false
   },
   "outputs": [
    {
     "name": "stdout",
     "output_type": "stream",
     "text": [
      "total # citations = 28709\n"
     ]
    }
   ],
   "source": [
    "num_citations = list(pgdb.run_query('SELECT COUNT(1) FROM citations WHERE review_id = 1'))[0]['count']\n",
    "print('total # citations =', num_citations)"
   ]
  },
  {
   "cell_type": "code",
   "execution_count": 17,
   "metadata": {
    "collapsed": false
   },
   "outputs": [
    {
     "name": "stderr",
     "output_type": "stream",
     "text": [
      "2016-07-27 18:24:07,802 - dedupe_records - INFO - reading dedupe settings from ../models/dedupe_citations_settings\n",
      "2016-07-27 18:24:07,804 - dedupe_records - INFO - creating dedupe_blocking_map table...\n",
      "2016-07-27 18:24:45,659 - dedupe_records - INFO - query: \"COPY dedupe_blocking_map FROM STDIN CSV /var/folders/w7/dfn6swb12cv8sfbshhqfwwb00000gn/T/blocks_brnw8s09\"\n",
      "2016-07-27 18:24:45,660 - dedupe_records - INFO - creating dedupe_plural_key and dedupe_plural_block tables...\n",
      "2016-07-27 18:24:45,661 - dedupe_records - INFO - creating dedupe_covered_blocks table...\n",
      "2016-07-27 18:24:45,662 - dedupe_records - INFO - creating dedupe_smaller_coverage table...\n",
      "2016-07-27 18:24:45,663 - dedupe_records - INFO - reading dedupe settings from ../models/dedupe_citations_settings\n",
      "2016-07-27 18:25:08,797 - dedupe_records - INFO - duplicate threshold = 0.827182\n",
      "2016-07-27 18:25:09,549 - dedupe_records - INFO - found 361 duplicate clusters\n",
      "2016-07-27 18:25:09,834 - dedupe_records - INFO - upserted status for 365 duplicate citations (TEST)\n",
      "2016-07-27 18:25:18,334 - dedupe_records - INFO - upserted status for 28344 non-duplicate citations (TEST)\n"
     ]
    }
   ],
   "source": [
    "%run ../scripts/dedupe_records.py --review_id=1 --threshold=auto --settings=../models/dedupe_citations_settings --test"
   ]
  },
  {
   "cell_type": "code",
   "execution_count": 19,
   "metadata": {
    "collapsed": false,
    "scrolled": false
   },
   "outputs": [
    {
     "name": "stdout",
     "output_type": "stream",
     "text": [
      "citations [497, 496] are duplicates with avg. duplicate score = 0.827182\n",
      "\n",
      "TITLE:    INTEGRATIVE SOCIAL WORK APPROACH AS A CONTEXT FOR UNDERSTANDING THE INDIVIDUAL SOCIAL CARE PLAN\n",
      "YEAR:     2009\n",
      "AUTHORS:  Ajdukovic, M; Urbanc, K\n",
      "ABSTRACT: The article deals with the issue of introducing the individual social core plan as one of the initiatives pertaining to the long-awaited social core system reform. The ideas of the individual social care plan are placed within a theoretical framework of the integrative social work approach and in the context of numerous changes which have occurred in the lost twenty years at the conceptual and practical level of offering integrated and coordinated services to service users, ie case management, care management, person-centred planning, etc. Based on the experience that, in order to change the organisation of the Centres for Social Care and develop efficient social care services, the changes to the legal framework are not sufficient but it is necessary to change the social services paradigm underlined by the user perspective and empowerment of individuals, groups and communities, the authors draw attention to challenges and necessary prerequisites which should be taken into account for the changes to be applied in practice\n",
      "KEYWORDS: CASE-MANAGEMENT; MODEL; PEOPLE; individual social care plan; integrative social work; management of the planned change process.; social care system reform; user perspective\n",
      "\n",
      "TITLE:    Integrative social work approach as a context for understanding the individual social care plan\n",
      "YEAR:     2010\n",
      "AUTHORS:  Ajduković, M; Urbanc, K\n",
      "ABSTRACT: The article deals with the issue of introducing the individual social care plan as one of the initiatives pertaining to the long-awaited social care system reform. The ideas of the individual social care plan are placed within a theoretical framework of the integrative social work approach and in the context of numerous changes which have occurred in the last twenty years at the conceptual and practical level of offering integrated and coordinated services to service users, i.e. case management, care management, person-centred planning, etc. Based on the experience that, in order to change the organisation of the Centres for Social Care and develop efficient social care services, the changes to the legal framework are not sufficient but it is necessary to change the social services paradigm underlined by the user perspective and empowerment of individuals, groups and communities, the authors draw attention to challenges and necessary prerequisites which should be taken into account for the changes to be applied in practice.\n",
      "KEYWORDS: Individual social care plan; Integrative social work; Management of the planned change process; Social care system reform; User perspective\n"
     ]
    }
   ],
   "source": [
    "query = \"\"\"\n",
    "SELECT canonical_citation_id, array_agg(citation_id) AS citation_ids, AVG(duplicate_score) AS avg_score\n",
    "FROM duplicates\n",
    "GROUP BY 1 HAVING AVG(duplicate_score) < 0.9 ORDER BY 1 ASC\n",
    "LIMIT 1\n",
    "\"\"\"\n",
    "dupes = list(pgdb.run_query(query))[0]\n",
    "print('citations {} are duplicates with avg. duplicate score = {}'.format(\n",
    "        dupes['citation_ids'], round(dupes['avg_score'], 6)))\n",
    "\n",
    "query = \"\"\"\n",
    "SELECT citation_id, authors, title, abstract, publication_year, keywords\n",
    "FROM citations\n",
    "WHERE citation_id = ANY(%(citation_ids)s)\n",
    "\"\"\"\n",
    "for record in pgdb.run_query(query, {'citation_ids': dupes['citation_ids']}):\n",
    "    cipy.utils.present_citation(record)"
   ]
  },
  {
   "cell_type": "markdown",
   "metadata": {},
   "source": [
    "---\n",
    "\n",
    "## Initial Ranking of Citations\n",
    "\n",
    "- sample citations ranked by overlap with keyterms; user pre-screens citations until 10 have been included and 10 have been excluded\n",
    "- based on included/excluded citations, rank citations by ratio of relevant to irrelevant keyterms and present those most likely to be relevant to the user for pre-screening"
   ]
  },
  {
   "cell_type": "code",
   "execution_count": 6,
   "metadata": {
    "collapsed": false,
    "scrolled": true
   },
   "outputs": [
    {
     "name": "stderr",
     "output_type": "stream",
     "text": [
      "2016-07-27 19:44:04,357 - screen_citations - INFO - 267 citations included, 9733 citations excluded\n"
     ]
    }
   ],
   "source": [
    "%run ../scripts/screen_citations.py --user_id=1 --review_id=1 --auto"
   ]
  },
  {
   "cell_type": "markdown",
   "metadata": {},
   "source": [
    "---\n",
    "\n",
    "## Refinement of Search Keyterms\n",
    "\n",
    "- based on included/excluded citations, create lists of strongly relevant and irrelevant keyterms that can be used to refine initial set of keyterms"
   ]
  },
  {
   "cell_type": "code",
   "execution_count": 7,
   "metadata": {
    "collapsed": false
   },
   "outputs": [
    {
     "name": "stdout",
     "output_type": "stream",
     "text": [
      "# records = 10000\n"
     ]
    }
   ],
   "source": [
    "import textacy\n",
    "\n",
    "def combine_citation_text(record):\n",
    "    title = record['title'] or ''\n",
    "    abstract = record['abstract'] or ''\n",
    "    keywords = '; '.join(record['keywords']) if record['keywords'] else ''\n",
    "    text = '\\n\\n'.join((title, abstract, keywords)).strip()\n",
    "    return text\n",
    "\n",
    "query = \"\"\"\n",
    "SELECT t1.title, t1.abstract, t1.keywords, t2.status\n",
    "FROM\n",
    "    citations AS t1,\n",
    "    citation_status AS t2\n",
    "WHERE\n",
    "    t1.review_id = %(review_id)s\n",
    "    AND t1.citation_id = t2.citation_id\n",
    "    AND t2.citation_screening IS NOT NULL\n",
    "\"\"\"\n",
    "\n",
    "records = list(pgdb.run_query(query, {'review_id': 1}))\n",
    "print('# records =',len(records))\n",
    "docs = (textacy.TextDoc(combine_citation_text(record), lang='en') for record in records)\n",
    "terms_lists = (doc.as_terms_list() for doc in docs)\n",
    "included = [record['status'] == 'included' for record in records]\n",
    "included_keyterms, excluded_keyterms = textacy.keyterms.most_discriminating_terms(\n",
    "    terms_lists, included, top_n_terms=25)"
   ]
  },
  {
   "cell_type": "code",
   "execution_count": 8,
   "metadata": {
    "collapsed": false
   },
   "outputs": [
    {
     "name": "stdout",
     "output_type": "stream",
     "text": [
      "top \"included\" terms           | top \"excluded\" terms          \n",
      "--------------------------------------------------------------\n",
      "conservation                   | health                        \n",
      "forest                         | human health                  \n",
      "protect area                   | human                         \n",
      "livelihood                     | risk                          \n",
      "local                          | water                         \n",
      "protect                        | range                         \n",
      "park                           | specie                        \n",
      "biodiversity                   | urban                         \n",
      "local people                   | exposure                      \n",
      "national park                  | time                          \n",
      "community                      | pollution                     \n",
      "participation                  | student                       \n",
      "forest management              | content                       \n",
      "benefit                        | predict                       \n",
      "local community                | nutrient                      \n",
      "resource                       | concentration                 \n",
      "people                         | risk assessment               \n",
      "conflict                       | right reserve                 \n",
      "area                           | composition                   \n",
      "tourism                        | care                          \n",
      "village                        | raise                         \n",
      "income                         | consequence                   \n",
      "forestry                       | vulnerability                 \n",
      "poverty                        | structure                     \n",
      "participatory                  | resilience                    \n"
     ]
    }
   ],
   "source": [
    "print('{0:<30} | {1:<30}'.format('top \"included\" terms', 'top \"excluded\" terms'))\n",
    "print('-' * 62)\n",
    "for i in range(25):\n",
    "    print('{0:<30} | {1:<30}'.format(included_keyterms[i], excluded_keyterms[i]))"
   ]
  },
  {
   "cell_type": "code",
   "execution_count": 9,
   "metadata": {
    "collapsed": true
   },
   "outputs": [],
   "source": [
    "query = \"\"\"\n",
    "UPDATE citation_status\n",
    "SET\n",
    "    status = CASE WHEN CAST(deduplication->>'is_duplicate' AS boolean) IS FALSE THEN 'included' ELSE 'excluded' END,\n",
    "    citation_screening = NULL\n",
    "WHERE\n",
    "    citation_screening IS NOT NULL\n",
    "\"\"\"\n",
    "pgdb.execute(query)"
   ]
  },
  {
   "cell_type": "code",
   "execution_count": null,
   "metadata": {
    "collapsed": true
   },
   "outputs": [],
   "source": []
  }
 ],
 "metadata": {
  "kernelspec": {
   "display_name": "Python 3",
   "language": "python",
   "name": "python3"
  },
  "language_info": {
   "codemirror_mode": {
    "name": "ipython",
    "version": 3
   },
   "file_extension": ".py",
   "mimetype": "text/x-python",
   "name": "python",
   "nbconvert_exporter": "python",
   "pygments_lexer": "ipython3",
   "version": "3.5.1"
  }
 },
 "nbformat": 4,
 "nbformat_minor": 0
}
