{
 "cells": [
  {
   "cell_type": "code",
   "execution_count": 1,
   "metadata": {
    "collapsed": false
   },
   "outputs": [],
   "source": [
    "from __future__ import absolute_import, division, print_function, unicode_literals\n",
    "\n",
    "import logging\n",
    "\n",
    "import cipy\n",
    "\n",
    "logger = logging.getLogger()\n",
    "handler = logger.handlers[0]\n",
    "handler.setLevel(logging.CRITICAL)\n",
    "\n",
    "conn_creds = cipy.db.get_conn_creds('DATABASE_URL')\n",
    "pgdb = cipy.db.PostgresDB(conn_creds)"
   ]
  },
  {
   "cell_type": "markdown",
   "metadata": {},
   "source": [
    "---\n",
    "\n",
    "## User Management\n",
    "\n",
    "- create new user accounts and store passwords in a secure format\n",
    "- delete existing user accounts (along with any owned reviews)\n",
    "- user login"
   ]
  },
  {
   "cell_type": "code",
   "execution_count": 4,
   "metadata": {
    "collapsed": false,
    "scrolled": false
   },
   "outputs": [
    {
     "name": "stdout",
     "output_type": "stream",
     "text": [
      "Enter user name: Sam C\n",
      "Enter user email: samc@gmail.com\n",
      "Confirm user email: samc@gmail.com\n",
      "Enter password: ········\n",
      "Confirm password: ········\n"
     ]
    },
    {
     "name": "stderr",
     "output_type": "stream",
     "text": [
      "2016-07-12 22:27:25,784 - create_user - INFO - created user id=3: {'owned_review_ids': None, 'name': 'Sam C', 'email': 'samc@gmail.com', 'created_ts': '2016-07-13T01:48:11.754032Z', 'review_ids': None}\n"
     ]
    }
   ],
   "source": [
    "%run ../scripts/create_user.py --test"
   ]
  },
  {
   "cell_type": "code",
   "execution_count": 5,
   "metadata": {
    "collapsed": false
   },
   "outputs": [
    {
     "data": {
      "text/plain": [
       "[{'created_ts': datetime.datetime(2016, 7, 7, 17, 56, 7),\n",
       "  'email': 'burtdewilde@gmail.com',\n",
       "  'name': 'Burton DeWilde',\n",
       "  'owned_review_ids': [1],\n",
       "  'password': '$2a$06$5qfLF4y/sfXkc8XhZ360i.48V5GaQfxF5Uy8zVJcO6dLmUqX9JGie',\n",
       "  'review_ids': [1],\n",
       "  'user_id': 1},\n",
       " {'created_ts': datetime.datetime(2016, 7, 13, 1, 48, 12),\n",
       "  'email': 'samc@gmail.com',\n",
       "  'name': 'Sam C',\n",
       "  'owned_review_ids': None,\n",
       "  'password': '$2a$06$MHhP.XjRGfSO7eiDiNLFieJEGoOXxQruc6.Sd3nb.vImvoAuO09x.',\n",
       "  'review_ids': None,\n",
       "  'user_id': 3}]"
      ]
     },
     "execution_count": 5,
     "metadata": {},
     "output_type": "execute_result"
    }
   ],
   "source": [
    "list(pgdb.run_query('SELECT * from users'))"
   ]
  },
  {
   "cell_type": "code",
   "execution_count": 9,
   "metadata": {
    "collapsed": false
   },
   "outputs": [
    {
     "name": "stdout",
     "output_type": "stream",
     "text": [
      "Enter email: burtdewilde@gmail.com\n",
      "Enter password: ········\n"
     ]
    },
    {
     "name": "stderr",
     "output_type": "stream",
     "text": [
      "2016-07-12 21:37:51,681 - login_user - INFO - Welcome, Burton DeWilde id=1\n"
     ]
    }
   ],
   "source": [
    "%run ../scripts/login_user.py"
   ]
  },
  {
   "cell_type": "code",
   "execution_count": 2,
   "metadata": {
    "collapsed": false
   },
   "outputs": [
    {
     "name": "stderr",
     "output_type": "stream",
     "text": [
      "2016-07-12 21:39:29,460 - delete_user - INFO - deleted user id=1 from reviews (TEST)\n",
      "2016-07-12 21:39:29,460 - delete_user - INFO - deleted user id=1 (TEST)\n"
     ]
    }
   ],
   "source": [
    "%run ../scripts/delete_user.py --user_id=3 --test"
   ]
  },
  {
   "cell_type": "markdown",
   "metadata": {},
   "source": [
    "---\n",
    "\n",
    "## Review Management\n",
    "\n",
    "- create new reviews (with user as owner)\n",
    "- delete existing owned reviews\n",
    "- invite/uninvite other users to collaborate on existing reviews\n",
    "- assign other user as owned review's new owner"
   ]
  },
  {
   "cell_type": "code",
   "execution_count": 2,
   "metadata": {
    "collapsed": false
   },
   "outputs": [
    {
     "name": "stdout",
     "output_type": "stream",
     "text": [
      "Review name: My Great Systematic Review\n",
      "Review description (optional):\n",
      "lorem ipsem dolor sit amen\n"
     ]
    },
    {
     "name": "stderr",
     "output_type": "stream",
     "text": [
      "2016-07-12 21:59:26,941 - create_review - INFO - created review (TEST): {'name': 'My Great Systematic Review', 'owner_user_id': 1, 'description': 'lorem ipsem dolor sit amen', 'created_ts': '2016-07-13T01:48:11.753010Z', 'user_ids': [1]}\n"
     ]
    }
   ],
   "source": [
    "%run ../scripts/create_review.py --user_id=1 --test"
   ]
  },
  {
   "cell_type": "code",
   "execution_count": 3,
   "metadata": {
    "collapsed": false
   },
   "outputs": [
    {
     "name": "stderr",
     "output_type": "stream",
     "text": [
      "2016-07-12 21:59:45,881 - delete_review - INFO - deleted review id=1 (TEST)\n"
     ]
    }
   ],
   "source": [
    "%run ../scripts/delete_review.py --user_id=1 --review_id=1 --test"
   ]
  },
  {
   "cell_type": "code",
   "execution_count": 37,
   "metadata": {
    "collapsed": false
   },
   "outputs": [
    {
     "name": "stderr",
     "output_type": "stream",
     "text": [
      "2016-07-12 22:40:52,400 - manage_collaborators - INFO - user id=3 added as collaborator to review id=1 \n"
     ]
    }
   ],
   "source": [
    "%run ../scripts/manage_collaborators.py --owner_user_id=1 --review_id=1 --add_user_emails \"samc@gmail.com\""
   ]
  },
  {
   "cell_type": "code",
   "execution_count": 38,
   "metadata": {
    "collapsed": false
   },
   "outputs": [
    {
     "name": "stdout",
     "output_type": "stream",
     "text": [
      "review: [{'review_id': 1, 'user_ids': [1, 3]}]\n",
      "user: [{'user_id': 3, 'review_ids': [1]}]\n"
     ]
    }
   ],
   "source": [
    "print('review:', list(pgdb.run_query('SELECT review_id, user_ids FROM reviews WHERE review_id=1')))\n",
    "print('user:', list(pgdb.run_query('SELECT user_id, review_ids FROM users WHERE user_id=3')))"
   ]
  },
  {
   "cell_type": "code",
   "execution_count": 39,
   "metadata": {
    "collapsed": false
   },
   "outputs": [
    {
     "name": "stderr",
     "output_type": "stream",
     "text": [
      "2016-07-12 22:40:55,110 - manage_collaborators - INFO - user id=3 removed as collaborator to review id=1 \n"
     ]
    }
   ],
   "source": [
    "%run ../scripts/manage_collaborators.py --owner_user_id=1 --review_id=1 --remove_user_emails \"samc@gmail.com\""
   ]
  },
  {
   "cell_type": "code",
   "execution_count": 40,
   "metadata": {
    "collapsed": false
   },
   "outputs": [
    {
     "name": "stdout",
     "output_type": "stream",
     "text": [
      "review: [{'review_id': 1, 'user_ids': [1]}]\n",
      "user: [{'user_id': 3, 'review_ids': []}]\n"
     ]
    }
   ],
   "source": [
    "print('review:', list(pgdb.run_query('SELECT review_id, user_ids FROM reviews WHERE review_id=1')))\n",
    "print('user:', list(pgdb.run_query('SELECT user_id, review_ids FROM users WHERE user_id=3')))"
   ]
  },
  {
   "cell_type": "markdown",
   "metadata": {},
   "source": [
    "---\n",
    "\n",
    "## Review Planning\n",
    "\n",
    "- facilitate systematic review planning while also gathering structured data that informs and is informed by the citation pre-screening process; user entry of the following fields:\n",
    "    - objective\n",
    "    - research questions, ranked\n",
    "    - PICO statements\n",
    "    - grouped keyterms (with automatic boolean search query generation)\n",
    "    - data sources\n",
    "    - inclusion/exclusion criteria, with shorthand labels"
   ]
  },
  {
   "cell_type": "code",
   "execution_count": 8,
   "metadata": {
    "collapsed": false,
    "scrolled": true
   },
   "outputs": [
    {
     "name": "stdout",
     "output_type": "stream",
     "text": [
      "\n",
      "PROJECT PLAN\n",
      "\n",
      "Objective:\n",
      "To assess and characterize the current state and distribution of the existing evidence base around the causal linkages between both positive and negative effects of nature conservation and human well-being.\n",
      "\n",
      "Research Questions:\n",
      " 0 What are the impacts of nature conservation interventions on different domains of human well-being in developing countries?\n",
      " 1 What is the current state and distribution of evidence?\n",
      " 2 What types of impacts from conservation interventions on human well-being are measured?\n",
      " 3 What types of ecosystem services are explicitly associated with the impacts of conservation interventions on human well-being?\n",
      " 4 What populations are affected by conservation and/ or focus of studies?\n",
      " 5 How does the evidence base align with major priorities and investments of implementing agencies?\n",
      "\n",
      "PICO:\n",
      "- Population    : Human populations, including individuals, households, communities or nation states in non-OECD countries\n",
      "- Intervention  : Adoption or implementation of nature conservation interventions\n",
      "- Comparator    : No use of nature conservation interventions either between sites or groups, or over time series (before/after)\n",
      "- Outcome       : Positive or negative effects on the multi-dimensional well-being status of human populations\n",
      "Keyterms: None\n",
      "\n",
      "Selection Criteria:\n",
      "- location: individuals, households, or communities must be in non-OECD countries\n",
      "- undefined pop.: studies must include discrete populations and not undefined groups or populations\n",
      "- intervention type: study must document or measure people's specific and discrete external interventions, not daily use\n",
      "- in-situ: study must focus on establishment, adoption, or implementation of regulation, protection, or management of natural ecosystems through in-situ activities\n",
      "- outcome: studies must measure or describe human well-being outcomes, and can't only focus on biophysical outcomes of conservation\n",
      "\n",
      "\n",
      "UPDATES:\n",
      "Objective:\n",
      "\n",
      "\n",
      "Research Questions\n",
      "\n",
      "Question:\n",
      "\n",
      "\n",
      "PICO\n",
      "Population:\n",
      "\n",
      "Intervention:\n",
      "\n",
      "Comparator:\n",
      "\n",
      "Outcome:\n",
      "\n",
      "\n",
      "Keyterms\n",
      "\n",
      "Group name: outcome\n",
      "Term: wellbeing\n",
      "Synonyms, if any (separate by commas): well-being,well being\n",
      "Term: ecosystem service\n",
      "Synonyms, if any (separate by commas): ecosystem services\n",
      "Term: nutrition\n",
      "Synonyms, if any (separate by commas): \n",
      "Term: skill\n",
      "Synonyms, if any (separate by commas): skills\n",
      "Term: empower\n",
      "Synonyms, if any (separate by commas): empowering\n",
      "Term: clean water\n",
      "Synonyms, if any (separate by commas): livelihood\n",
      "Term: livelihoods\n",
      "Synonyms, if any (separate by commas): food security\n",
      "Term: resilience\n",
      "Synonyms, if any (separate by commas): vulnerability\n",
      "Term: capital\n",
      "Synonyms, if any (separate by commas): social capital\n",
      "Term: attitude\n",
      "Synonyms, if any (separate by commas): attitudes\n",
      "Term: perception\n",
      "Synonyms, if any (separate by commas): perceptions\n",
      "Term: health\n",
      "Synonyms, if any (separate by commas): human health\n",
      "Term: human capital\n",
      "Synonyms, if any (separate by commas): knowledge\n",
      "Term: traditional knowledge\n",
      "Synonyms, if any (separate by commas): \n",
      "Term: \n",
      "\n",
      "Group name: intervention qualifiers\n",
      "Term: marine\n",
      "Synonyms, if any (separate by commas): freshwater\n",
      "Term: coastal\n",
      "Synonyms, if any (separate by commas): \n",
      "Term: forest\n",
      "Synonyms, if any (separate by commas): forests,forestry\n",
      "Term: ecosystem\n",
      "Synonyms, if any (separate by commas): ecosystems\n",
      "Term: species\n",
      "Synonyms, if any (separate by commas): \n",
      "Term: habitat\n",
      "Synonyms, if any (separate by commas): habitats\n",
      "Term: biodiversity\n",
      "Synonyms, if any (separate by commas): \n",
      "Term: sustainable\n",
      "Synonyms, if any (separate by commas): sustainability\n",
      "Term: ecology\n",
      "Synonyms, if any (separate by commas): ecological\n",
      "Term: integrated\n",
      "Synonyms, if any (separate by commas): \n",
      "Term: landscape\n",
      "Synonyms, if any (separate by commas): \n",
      "Term: seascape\n",
      "Synonyms, if any (separate by commas): \n",
      "Term: coral reef\n",
      "Synonyms, if any (separate by commas): coral reefs\n",
      "Term: natural resources\n",
      "Synonyms, if any (separate by commas): natural resource\n",
      "Term: \n",
      "\n",
      "Group name: outcome qualifiers\n",
      "Term: human\n",
      "Synonyms, if any (separate by commas): humans, humanity\n",
      "Term: people\n",
      "Synonyms, if any (separate by commas): \n",
      "Term: person\n",
      "Synonyms, if any (separate by commas): persons\n",
      "Term: community\n",
      "Synonyms, if any (separate by commas): communities\n",
      "Term: household\n",
      "Synonyms, if any (separate by commas): households\n",
      "Term: fishermen\n",
      "Synonyms, if any (separate by commas): fisherman\n",
      "Term: collaborative\n",
      "Synonyms, if any (separate by commas): \n",
      "Term: \n",
      "\n",
      "Group name: intervention\n",
      "Term: conservation\n",
      "Synonyms, if any (separate by commas): \n",
      "Term: conserve\n",
      "Synonyms, if any (separate by commas): \n",
      "Term: conservancy\n",
      "Synonyms, if any (separate by commas): \n",
      "Term: protect\n",
      "Synonyms, if any (separate by commas): protects, protection\n",
      "Term: management\n",
      "Synonyms, if any (separate by commas): \n",
      "Term: awareness\n",
      "Synonyms, if any (separate by commas): \n",
      "Term: law\n",
      "Synonyms, if any (separate by commas): laws\n",
      "Term: policy\n",
      "Synonyms, if any (separate by commas): policy-making\n",
      "Term: reserve\n",
      "Synonyms, if any (separate by commas): \n",
      "Term: govern\n",
      "Synonyms, if any (separate by commas): governs, government\n",
      "Term: capacity-build\n",
      "Synonyms, if any (separate by commas): capacity-building, capacity building\n",
      "Term: train\n",
      "Synonyms, if any (separate by commas): tarins, training\n",
      "Term: PES\n",
      "Synonyms, if any (separate by commas): \n",
      "Term: ecotourism\n",
      "Synonyms, if any (separate by commas): eco-tourism\n",
      "Term: sustainable use\n",
      "Synonyms, if any (separate by commas): \n",
      "Term: \n",
      "\n",
      "Group name: \n",
      "\n",
      "Selection Criteria\n",
      "\n",
      "Criterion label: \n"
     ]
    },
    {
     "name": "stderr",
     "output_type": "stream",
     "text": [
      "2016-07-20 23:51:50,892 - plan_review - INFO - valid record: review_id=1 with {'objective', 'research_questions', 'selection_criteria', 'keyterms', 'pico'}, \n"
     ]
    },
    {
     "name": "stdout",
     "output_type": "stream",
     "text": [
      "\n",
      "PROJECT PLAN\n",
      "\n",
      "Objective:\n",
      "To assess and characterize the current state and distribution of the existing evidence base around the causal linkages between both positive and negative effects of nature conservation and human well-being.\n",
      "\n",
      "Research Questions:\n",
      " 0 What are the impacts of nature conservation interventions on different domains of human well-being in developing countries?\n",
      " 1 What is the current state and distribution of evidence?\n",
      " 2 What types of impacts from conservation interventions on human well-being are measured?\n",
      " 3 What types of ecosystem services are explicitly associated with the impacts of conservation interventions on human well-being?\n",
      " 4 What populations are affected by conservation and/ or focus of studies?\n",
      " 5 How does the evidence base align with major priorities and investments of implementing agencies?\n",
      "\n",
      "PICO:\n",
      "- Population    : Human populations, including individuals, households, communities or nation states in non-OECD countries\n",
      "- Intervention  : Adoption or implementation of nature conservation interventions\n",
      "- Comparator    : No use of nature conservation interventions either between sites or groups, or over time series (before/after)\n",
      "- Outcome       : Positive or negative effects on the multi-dimensional well-being status of human populations\n",
      "\n",
      "Keyterms:\n",
      "- Group: outcome qualifiers\n",
      "    - human (synonyms: ['humans', 'humanity'])\n",
      "    - people \n",
      "    - person (synonyms: ['persons'])\n",
      "    - community (synonyms: ['communities'])\n",
      "    - household (synonyms: ['households'])\n",
      "    - fishermen (synonyms: ['fisherman'])\n",
      "    - collaborative \n",
      "- Group: intervention qualifiers\n",
      "    - marine (synonyms: ['freshwater'])\n",
      "    - coastal \n",
      "    - forest (synonyms: ['forests', 'forestry'])\n",
      "    - ecosystem (synonyms: ['ecosystems'])\n",
      "    - species \n",
      "    - habitat (synonyms: ['habitats'])\n",
      "    - biodiversity \n",
      "    - sustainable (synonyms: ['sustainability'])\n",
      "    - ecology (synonyms: ['ecological'])\n",
      "    - integrated \n",
      "    - landscape \n",
      "    - seascape \n",
      "    - coral reef (synonyms: ['coral reefs'])\n",
      "    - natural resources (synonyms: ['natural resource'])\n",
      "- Group: intervention\n",
      "    - conservation \n",
      "    - conserve \n",
      "    - conservancy \n",
      "    - protect (synonyms: ['protects', 'protection'])\n",
      "    - management \n",
      "    - awareness \n",
      "    - law (synonyms: ['laws'])\n",
      "    - policy (synonyms: ['policy-making'])\n",
      "    - reserve \n",
      "    - govern (synonyms: ['governs', 'government'])\n",
      "    - capacity-build (synonyms: ['capacity-building', 'capacity building'])\n",
      "    - train (synonyms: ['tarins', 'training'])\n",
      "    - PES \n",
      "    - ecotourism (synonyms: ['eco-tourism'])\n",
      "    - sustainable use \n",
      "- Group: outcome\n",
      "    - wellbeing (synonyms: ['well-being', 'well being'])\n",
      "    - ecosystem service (synonyms: ['ecosystem services'])\n",
      "    - nutrition \n",
      "    - skill (synonyms: ['skills'])\n",
      "    - empower (synonyms: ['empowering'])\n",
      "    - clean water (synonyms: ['livelihood'])\n",
      "    - livelihoods (synonyms: ['food security'])\n",
      "    - resilience (synonyms: ['vulnerability'])\n",
      "    - capital (synonyms: ['social capital'])\n",
      "    - attitude (synonyms: ['attitudes'])\n",
      "    - perception (synonyms: ['perceptions'])\n",
      "    - health (synonyms: ['human health'])\n",
      "    - human capital (synonyms: ['knowledge'])\n",
      "    - traditional knowledge \n",
      "\n",
      "Selection Criteria:\n",
      "- location: individuals, households, or communities must be in non-OECD countries\n",
      "- undefined pop.: studies must include discrete populations and not undefined groups or populations\n",
      "- intervention type: study must document or measure people's specific and discrete external interventions, not daily use\n",
      "- in-situ: study must focus on establishment, adoption, or implementation of regulation, protection, or management of natural ecosystems through in-situ activities\n",
      "- outcome: studies must measure or describe human well-being outcomes, and can't only focus on biophysical outcomes of conservation\n",
      "\n"
     ]
    }
   ],
   "source": [
    "%run ../scripts/plan_review.py --user_id=1 --review_id=1 --test"
   ]
  },
  {
   "cell_type": "markdown",
   "metadata": {
    "collapsed": true
   },
   "source": [
    "---\n",
    "\n",
    "## Citation Ingestion and De-duplication\n",
    "\n",
    "- load citations from RIS or BibTex files then parse, standardize, sanitize, validate, and store the data\n",
    "- identify duplicate citations using a sophisticated model and assign the most complete record in a set of duplicates as the \"canonical\" record"
   ]
  },
  {
   "cell_type": "code",
   "execution_count": 13,
   "metadata": {
    "collapsed": false
   },
   "outputs": [
    {
     "name": "stderr",
     "output_type": "stream",
     "text": [
      "2016-07-11 22:24:20,813 - ingest_citations - INFO - parsing records in ../data/raw/citation_files/phase_2_demo_citations.ris\n",
      "2016-07-11 22:24:20,814 - ingest_citations - INFO - valid record: Ecological protection and well-being, 2013\n",
      "2016-07-11 22:24:20,815 - ingest_citations - INFO - valid record: The economic value of forest ecosystems, 2001\n",
      "2016-07-11 22:24:20,816 - ingest_citations - INFO - valid record: Contribution of tourism development to protected area management: Local stakeholder perspectives, 2009\n",
      "2016-07-11 22:24:20,817 - ingest_citations - INFO - 3 valid records inserted into appname db (TEST)\n"
     ]
    }
   ],
   "source": [
    "%run ../scripts/ingest_citations.py --citations ../data/raw/citation_files/phase_2_demo_citations.ris --user_id=1 --review_id=1 --test"
   ]
  },
  {
   "cell_type": "code",
   "execution_count": 17,
   "metadata": {
    "collapsed": false
   },
   "outputs": [
    {
     "name": "stdout",
     "output_type": "stream",
     "text": [
      "total # citations = 28709\n"
     ]
    }
   ],
   "source": [
    "num_citations = list(pgdb.run_query('SELECT COUNT(1) FROM citations WHERE review_id = 1'))[0]['count']\n",
    "print('total # citations =', num_citations)"
   ]
  },
  {
   "cell_type": "code",
   "execution_count": 7,
   "metadata": {
    "collapsed": false
   },
   "outputs": [
    {
     "name": "stderr",
     "output_type": "stream",
     "text": [
      "2016-07-11 22:19:58,881 - dedupe_records - INFO - reading dedupe settings from ../models/dedupe_citations_settings\n",
      "2016-07-11 22:20:19,236 - dedupe_records - INFO - duplicate threshold = 0.827943\n",
      "2016-07-11 22:20:19,879 - dedupe_records - INFO - found 361 duplicate clusters\n",
      "2016-07-11 22:20:20,020 - dedupe_records - INFO - inserted 726 records into duplicates db (TEST)\n"
     ]
    }
   ],
   "source": [
    "%run ../scripts/dedupe_records.py --review_id=1 --threshold=auto --settings=../models/dedupe_citations_settings --test"
   ]
  },
  {
   "cell_type": "code",
   "execution_count": 2,
   "metadata": {
    "collapsed": false,
    "scrolled": false
   },
   "outputs": [
    {
     "name": "stdout",
     "output_type": "stream",
     "text": [
      "citations [497, 496] are duplicates with avg. duplicate score = 0.827182\n",
      "\n",
      "TITLE:    INTEGRATIVE SOCIAL WORK APPROACH AS A CONTEXT FOR UNDERSTANDING THE INDIVIDUAL SOCIAL CARE PLAN\n",
      "YEAR:     2009\n",
      "AUTHORS:  Ajdukovic, M; Urbanc, K\n",
      "ABSTRACT: The article deals with the issue of introducing the individual social core plan as one of the initiatives pertaining to the long-awaited social core system reform. The ideas of the individual social care plan are placed within a theoretical framework of the integrative social work approach and in the context of numerous changes which have occurred in the lost twenty years at the conceptual and practical level of offering integrated and coordinated services to service users, ie case management, care management, person-centred planning, etc. Based on the experience that, in order to change the organisation of the Centres for Social Care and develop efficient social care services, the changes to the legal framework are not sufficient but it is necessary to change the social services paradigm underlined by the user perspective and empowerment of individuals, groups and communities, the authors draw attention to challenges and necessary prerequisites which should be taken into account for the changes to be applied in practice\n",
      "DOI:      None\n",
      "\n",
      "TITLE:    Integrative social work approach as a context for understanding the individual social care plan\n",
      "YEAR:     2010\n",
      "AUTHORS:  Ajduković, M; Urbanc, K\n",
      "ABSTRACT: The article deals with the issue of introducing the individual social care plan as one of the initiatives pertaining to the long-awaited social care system reform. The ideas of the individual social care plan are placed within a theoretical framework of the integrative social work approach and in the context of numerous changes which have occurred in the last twenty years at the conceptual and practical level of offering integrated and coordinated services to service users, i.e. case management, care management, person-centred planning, etc. Based on the experience that, in order to change the organisation of the Centres for Social Care and develop efficient social care services, the changes to the legal framework are not sufficient but it is necessary to change the social services paradigm underlined by the user perspective and empowerment of individuals, groups and communities, the authors draw attention to challenges and necessary prerequisites which should be taken into account for the changes to be applied in practice.\n",
      "DOI:      None\n"
     ]
    }
   ],
   "source": [
    "query = \"\"\"\n",
    "SELECT canonical_citation_id, array_agg(citation_id) AS citation_ids, AVG(duplicate_score) AS avg_score\n",
    "FROM duplicates\n",
    "GROUP BY 1 HAVING AVG(duplicate_score) < 0.9 ORDER BY 1 ASC\n",
    "LIMIT 1\n",
    "\"\"\"\n",
    "dupes = list(pgdb.run_query(query))[0]\n",
    "print('citations {} are duplicates with avg. duplicate score = {}'.format(\n",
    "        dupes['citation_ids'], round(dupes['avg_score'], 6)))\n",
    "\n",
    "query = \"\"\"\n",
    "SELECT citation_id, authors, title, abstract, publication_year, doi\n",
    "FROM citations\n",
    "WHERE citation_id = ANY(%(citation_ids)s)\n",
    "\"\"\"\n",
    "for record in pgdb.run_query(query, {'citation_ids': dupes['citation_ids']}):\n",
    "    cipy.db.db_utils.present_citation(record)"
   ]
  },
  {
   "cell_type": "markdown",
   "metadata": {},
   "source": [
    "---\n",
    "\n",
    "## Initial Ranking of Citations\n",
    "\n",
    "- sample citations ranked by overlap with keyterms; user pre-screens citations until 10 have been included and 10 have been excluded\n",
    "- based on included/excluded citations, rank citations by ratio of relevant to irrelevant keyterms and present those most likely to be relevant to the user for pre-screening"
   ]
  },
  {
   "cell_type": "code",
   "execution_count": null,
   "metadata": {
    "collapsed": true
   },
   "outputs": [],
   "source": []
  },
  {
   "cell_type": "markdown",
   "metadata": {},
   "source": [
    "---\n",
    "\n",
    "## Refinement of Search Keyterms\n",
    "\n",
    "- based on included/excluded citations, create lists of strongly relevant and irrelevant keyterms that can be used to refine initial set of keyterms"
   ]
  },
  {
   "cell_type": "code",
   "execution_count": null,
   "metadata": {
    "collapsed": true
   },
   "outputs": [],
   "source": []
  }
 ],
 "metadata": {
  "kernelspec": {
   "display_name": "Python 3",
   "language": "python",
   "name": "python3"
  },
  "language_info": {
   "codemirror_mode": {
    "name": "ipython",
    "version": 3
   },
   "file_extension": ".py",
   "mimetype": "text/x-python",
   "name": "python",
   "nbconvert_exporter": "python",
   "pygments_lexer": "ipython3",
   "version": "3.5.1"
  }
 },
 "nbformat": 4,
 "nbformat_minor": 0
}
