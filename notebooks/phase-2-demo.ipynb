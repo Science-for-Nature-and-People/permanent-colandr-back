{
 "cells": [
  {
   "cell_type": "code",
   "execution_count": 1,
   "metadata": {
    "collapsed": false
   },
   "outputs": [],
   "source": [
    "from __future__ import absolute_import, division, print_function, unicode_literals\n",
    "\n",
    "import logging\n",
    "\n",
    "import cipy\n",
    "\n",
    "logger = logging.getLogger()\n",
    "handler = logger.handlers[0]\n",
    "handler.setLevel(logging.CRITICAL)\n",
    "\n",
    "conn_creds = cipy.db.get_conn_creds('DATABASE_URL')\n",
    "pgdb = cipy.db.PostgresDB(conn_creds)"
   ]
  },
  {
   "cell_type": "markdown",
   "metadata": {},
   "source": [
    "---\n",
    "\n",
    "## User Management\n",
    "\n",
    "- create new user accounts and store passwords in a secure format\n",
    "- delete existing user accounts (along with any owned reviews)\n",
    "- user login"
   ]
  },
  {
   "cell_type": "code",
   "execution_count": 4,
   "metadata": {
    "collapsed": false,
    "scrolled": false
   },
   "outputs": [
    {
     "name": "stdout",
     "output_type": "stream",
     "text": [
      "Enter user name: Sam C\n",
      "Enter user email: samc@gmail.com\n",
      "Confirm user email: samc@gmail.com\n",
      "Enter password: ········\n",
      "Confirm password: ········\n"
     ]
    },
    {
     "name": "stderr",
     "output_type": "stream",
     "text": [
      "2016-07-12 22:27:25,784 - create_user - INFO - created user id=3: {'owned_review_ids': None, 'name': 'Sam C', 'email': 'samc@gmail.com', 'created_ts': '2016-07-13T01:48:11.754032Z', 'review_ids': None}\n"
     ]
    }
   ],
   "source": [
    "%run ../scripts/create_user.py --test"
   ]
  },
  {
   "cell_type": "code",
   "execution_count": 5,
   "metadata": {
    "collapsed": false
   },
   "outputs": [
    {
     "data": {
      "text/plain": [
       "[{'created_ts': datetime.datetime(2016, 7, 7, 17, 56, 7),\n",
       "  'email': 'burtdewilde@gmail.com',\n",
       "  'name': 'Burton DeWilde',\n",
       "  'owned_review_ids': [1],\n",
       "  'password': '$2a$06$5qfLF4y/sfXkc8XhZ360i.48V5GaQfxF5Uy8zVJcO6dLmUqX9JGie',\n",
       "  'review_ids': [1],\n",
       "  'user_id': 1},\n",
       " {'created_ts': datetime.datetime(2016, 7, 13, 1, 48, 12),\n",
       "  'email': 'samc@gmail.com',\n",
       "  'name': 'Sam C',\n",
       "  'owned_review_ids': None,\n",
       "  'password': '$2a$06$MHhP.XjRGfSO7eiDiNLFieJEGoOXxQruc6.Sd3nb.vImvoAuO09x.',\n",
       "  'review_ids': None,\n",
       "  'user_id': 3}]"
      ]
     },
     "execution_count": 5,
     "metadata": {},
     "output_type": "execute_result"
    }
   ],
   "source": [
    "list(pgdb.run_query('SELECT * from users'))"
   ]
  },
  {
   "cell_type": "code",
   "execution_count": 2,
   "metadata": {
    "collapsed": false
   },
   "outputs": [
    {
     "name": "stdout",
     "output_type": "stream",
     "text": [
      "Enter email: burtdewilde@gmail.com\n",
      "Enter password: ········\n"
     ]
    },
    {
     "name": "stderr",
     "output_type": "stream",
     "text": [
      "2016-07-23 10:18:00,069 - login_user - INFO - Welcome, Burton DeWilde id=1\n"
     ]
    }
   ],
   "source": [
    "%run ../scripts/login_user.py"
   ]
  },
  {
   "cell_type": "code",
   "execution_count": 2,
   "metadata": {
    "collapsed": false
   },
   "outputs": [
    {
     "name": "stderr",
     "output_type": "stream",
     "text": [
      "2016-07-12 21:39:29,460 - delete_user - INFO - deleted user id=1 from reviews (TEST)\n",
      "2016-07-12 21:39:29,460 - delete_user - INFO - deleted user id=1 (TEST)\n"
     ]
    }
   ],
   "source": [
    "%run ../scripts/delete_user.py --user_id=3 --test"
   ]
  },
  {
   "cell_type": "markdown",
   "metadata": {},
   "source": [
    "---\n",
    "\n",
    "## Review Management\n",
    "\n",
    "- create new reviews (with user as owner)\n",
    "- delete existing owned reviews\n",
    "- invite/uninvite other users to collaborate on existing reviews\n",
    "- assign other user as owned review's new owner"
   ]
  },
  {
   "cell_type": "code",
   "execution_count": 2,
   "metadata": {
    "collapsed": false
   },
   "outputs": [
    {
     "name": "stdout",
     "output_type": "stream",
     "text": [
      "Review name: My Great Systematic Review\n",
      "Review description (optional):\n",
      "lorem ipsem dolor sit amen\n"
     ]
    },
    {
     "name": "stderr",
     "output_type": "stream",
     "text": [
      "2016-07-12 21:59:26,941 - create_review - INFO - created review (TEST): {'name': 'My Great Systematic Review', 'owner_user_id': 1, 'description': 'lorem ipsem dolor sit amen', 'created_ts': '2016-07-13T01:48:11.753010Z', 'user_ids': [1]}\n"
     ]
    }
   ],
   "source": [
    "%run ../scripts/create_review.py --user_id=1 --test"
   ]
  },
  {
   "cell_type": "code",
   "execution_count": 2,
   "metadata": {
    "collapsed": false
   },
   "outputs": [
    {
     "data": {
      "text/plain": [
       "{'created_ts': datetime.datetime(2016, 7, 13, 1, 40, 27),\n",
       " 'description': 'International policy has sought to emphasize and strengthen the link between the conservation of natural ecosystems and human development. Furthermore, international conservation organizations have broadened their objectives beyond nature-based goals to recognize the contribution of conservation interventions in sustaining ecosystem services upon which human populations are dependent. While many indices have been developed to measure various human well-being domains, the strength of evidence to support the effects, both positive and negative, of conservation interventions on human well-being, is still unclear.\\\\n\\\\nThis protocol describes the methodology for examining the research question: What are the impacts of nature conservation interventions on different domains of human well-being in developing countries? Using systematic mapping, this study will scope and identify studies that measure the impacts of nature conservation interventions on human well-being at local to regional scales. The primary objective of this study is to synthesize the state and distribution of the existing evidence base linking conservation and human well-being. In addition, a theory of change approach will be used to identify and characterize the causal linkages between conservation and human well-being, with attention on those studies that examine the role of ecosystem services. Key trends among the resulting studies will be synthesized and the range of studies organized and presented in a graphical matrix illustrating the relationships between types of interventions and types of outcomes. Results of the study are intended to help conservation and development practitioners and the academic community to improve research studies and conservation practices in developing countries in order to achieve both conservation and human well-being outcomes.',\n",
       " 'name': 'Conservation International demo',\n",
       " 'owner_user_id': 1,\n",
       " 'review_id': 1,\n",
       " 'user_ids': [1]}"
      ]
     },
     "execution_count": 2,
     "metadata": {},
     "output_type": "execute_result"
    }
   ],
   "source": [
    "list(pgdb.run_query(\"SELECT * FROM reviews where review_id=1\"))[0]"
   ]
  },
  {
   "cell_type": "code",
   "execution_count": 3,
   "metadata": {
    "collapsed": false
   },
   "outputs": [
    {
     "name": "stderr",
     "output_type": "stream",
     "text": [
      "2016-07-12 21:59:45,881 - delete_review - INFO - deleted review id=1 (TEST)\n"
     ]
    }
   ],
   "source": [
    "%run ../scripts/delete_review.py --user_id=1 --review_id=1 --test"
   ]
  },
  {
   "cell_type": "code",
   "execution_count": 37,
   "metadata": {
    "collapsed": false
   },
   "outputs": [
    {
     "name": "stderr",
     "output_type": "stream",
     "text": [
      "2016-07-12 22:40:52,400 - manage_collaborators - INFO - user id=3 added as collaborator to review id=1 \n"
     ]
    }
   ],
   "source": [
    "%run ../scripts/manage_collaborators.py --owner_user_id=1 --review_id=1 --add_user_emails \"samc@gmail.com\""
   ]
  },
  {
   "cell_type": "code",
   "execution_count": 38,
   "metadata": {
    "collapsed": false
   },
   "outputs": [
    {
     "name": "stdout",
     "output_type": "stream",
     "text": [
      "review: [{'review_id': 1, 'user_ids': [1, 3]}]\n",
      "user: [{'user_id': 3, 'review_ids': [1]}]\n"
     ]
    }
   ],
   "source": [
    "print('review:', list(pgdb.run_query('SELECT review_id, user_ids FROM reviews WHERE review_id=1')))\n",
    "print('user:', list(pgdb.run_query('SELECT user_id, review_ids FROM users WHERE user_id=3')))"
   ]
  },
  {
   "cell_type": "code",
   "execution_count": 39,
   "metadata": {
    "collapsed": false
   },
   "outputs": [
    {
     "name": "stderr",
     "output_type": "stream",
     "text": [
      "2016-07-12 22:40:55,110 - manage_collaborators - INFO - user id=3 removed as collaborator to review id=1 \n"
     ]
    }
   ],
   "source": [
    "%run ../scripts/manage_collaborators.py --owner_user_id=1 --review_id=1 --remove_user_emails \"samc@gmail.com\""
   ]
  },
  {
   "cell_type": "code",
   "execution_count": 40,
   "metadata": {
    "collapsed": false
   },
   "outputs": [
    {
     "name": "stdout",
     "output_type": "stream",
     "text": [
      "review: [{'review_id': 1, 'user_ids': [1]}]\n",
      "user: [{'user_id': 3, 'review_ids': []}]\n"
     ]
    }
   ],
   "source": [
    "print('review:', list(pgdb.run_query('SELECT review_id, user_ids FROM reviews WHERE review_id=1')))\n",
    "print('user:', list(pgdb.run_query('SELECT user_id, review_ids FROM users WHERE user_id=3')))"
   ]
  },
  {
   "cell_type": "markdown",
   "metadata": {},
   "source": [
    "---\n",
    "\n",
    "## Review Planning\n",
    "\n",
    "- facilitate systematic review planning while also gathering structured data that informs and is informed by the citation pre-screening process; user entry of the following fields:\n",
    "    - objective\n",
    "    - research questions, ranked\n",
    "    - PICO statements\n",
    "    - grouped keyterms (with automatic boolean search query generation)\n",
    "    - selection criteria, with shorthand labels\n",
    "- automatically generate boolean search queries from given keyterms\n",
    "- after enough citations have been screened, suggest good/bad keyterms for search query"
   ]
  },
  {
   "cell_type": "code",
   "execution_count": 3,
   "metadata": {
    "collapsed": false,
    "scrolled": true
   },
   "outputs": [
    {
     "name": "stdout",
     "output_type": "stream",
     "text": [
      "\n",
      "PROJECT PLAN\n",
      "\n",
      "Objective:\n",
      "To assess and characterize the current state and distribution of the existing evidence base around the causal linkages between both positive and negative effects of nature conservation and human well-being.\n",
      "\n",
      "Research Questions:\n",
      " 0 What are the impacts of nature conservation interventions on different domains of human well-being in developing countries?\n",
      " 1 What is the current state and distribution of evidence?\n",
      " 2 What types of impacts from conservation interventions on human well-being are measured?\n",
      " 3 What types of ecosystem services are explicitly associated with the impacts of conservation interventions on human well-being?\n",
      " 4 What populations are affected by conservation and/ or focus of studies?\n",
      " 5 How does the evidence base align with major priorities and investments of implementing agencies?\n",
      "\n",
      "PICO:\n",
      "- Population    : Human populations, including individuals, households, communities or nation states in non-OECD countries\n",
      "- Intervention  : Adoption or implementation of nature conservation interventions\n",
      "- Comparator    : No use of nature conservation interventions either between sites or groups, or over time series (before/after)\n",
      "- Outcome       : Positive or negative effects on the multi-dimensional well-being status of human populations\n",
      "\n",
      "Keyterms:\n",
      "- Group: intervention qualifiers\n",
      "    - marine (synonyms: ['freshwater'])\n",
      "    - coastal \n",
      "    - forest (synonyms: ['forests', 'forestry'])\n",
      "    - ecosystem (synonyms: ['ecosystems'])\n",
      "    - species \n",
      "    - habitat (synonyms: ['habitats'])\n",
      "    - biodiversity \n",
      "    - sustainable (synonyms: ['sustainability'])\n",
      "    - ecology (synonyms: ['ecological'])\n",
      "    - integrated \n",
      "    - landscape \n",
      "    - seascape \n",
      "    - coral reef (synonyms: ['coral reefs'])\n",
      "    - natural resources (synonyms: ['natural resource'])\n",
      "- Group: outcome\n",
      "    - wellbeing (synonyms: ['well-being', 'well being'])\n",
      "    - ecosystem service (synonyms: ['ecosystem services'])\n",
      "    - nutrition \n",
      "    - skill (synonyms: ['skills'])\n",
      "    - empower (synonyms: ['empowering'])\n",
      "    - clean water (synonyms: ['livelihood'])\n",
      "    - livelihoods (synonyms: ['food security'])\n",
      "    - resilience (synonyms: ['vulnerability'])\n",
      "    - capital (synonyms: ['social capital'])\n",
      "    - attitude (synonyms: ['attitudes'])\n",
      "    - perception (synonyms: ['perceptions'])\n",
      "    - health (synonyms: ['human health'])\n",
      "    - human capital (synonyms: ['knowledge'])\n",
      "    - traditional knowledge \n",
      "- Group: outcome qualifiers\n",
      "    - human (synonyms: ['humans', 'humanity'])\n",
      "    - people \n",
      "    - person (synonyms: ['persons'])\n",
      "    - community (synonyms: ['communities'])\n",
      "    - household (synonyms: ['households'])\n",
      "    - fishermen (synonyms: ['fisherman'])\n",
      "    - collaborative \n",
      "- Group: intervention\n",
      "    - conservation \n",
      "    - conserve \n",
      "    - conservancy \n",
      "    - protect (synonyms: ['protects', 'protection'])\n",
      "    - management \n",
      "    - awareness \n",
      "    - law (synonyms: ['laws'])\n",
      "    - policy (synonyms: ['policy-making'])\n",
      "    - reserve \n",
      "    - govern (synonyms: ['governs', 'government'])\n",
      "    - capacity-build (synonyms: ['capacity-building', 'capacity building'])\n",
      "    - train (synonyms: ['tarins', 'training'])\n",
      "    - PES \n",
      "    - ecotourism (synonyms: ['eco-tourism'])\n",
      "    - sustainable use \n",
      "\n",
      "Selection Criteria:\n",
      "- location: individuals, households, or communities must be in non-OECD countries\n",
      "- undefined pop.: studies must include discrete populations and not undefined groups or populations\n",
      "- intervention type: study must document or measure people's specific and discrete external interventions, not daily use\n",
      "- in-situ: study must focus on establishment, adoption, or implementation of regulation, protection, or management of natural ecosystems through in-situ activities\n",
      "- outcome: studies must measure or describe human well-being outcomes, and can't only focus on biophysical outcomes of conservation\n",
      "\n",
      "\n",
      "UPDATES:\n",
      "Objective:\n",
      "\n",
      "\n",
      "Research Questions\n",
      "\n",
      "Question:\n",
      "\n",
      "\n",
      "PICO\n",
      "Population:\n",
      "\n",
      "Intervention:\n",
      "\n",
      "Comparator:\n",
      "\n",
      "Outcome:\n",
      "\n",
      "\n",
      "Keyterms\n",
      "\n",
      "Group name: \n",
      "\n",
      "Selection Criteria\n",
      "\n",
      "Criterion label: \n"
     ]
    },
    {
     "name": "stderr",
     "output_type": "stream",
     "text": [
      "2016-07-23 11:10:41,502 - plan_review - INFO - valid record: review_id=1 with {'pico', 'selection_criteria', 'objective', 'research_questions', 'keyterms'}, (TEST)\n"
     ]
    },
    {
     "name": "stdout",
     "output_type": "stream",
     "text": [
      "\n",
      "PROJECT PLAN\n",
      "\n",
      "Objective:\n",
      "To assess and characterize the current state and distribution of the existing evidence base around the causal linkages between both positive and negative effects of nature conservation and human well-being.\n",
      "\n",
      "Research Questions:\n",
      " 0 What are the impacts of nature conservation interventions on different domains of human well-being in developing countries?\n",
      " 1 What is the current state and distribution of evidence?\n",
      " 2 What types of impacts from conservation interventions on human well-being are measured?\n",
      " 3 What types of ecosystem services are explicitly associated with the impacts of conservation interventions on human well-being?\n",
      " 4 What populations are affected by conservation and/ or focus of studies?\n",
      " 5 How does the evidence base align with major priorities and investments of implementing agencies?\n",
      "\n",
      "PICO:\n",
      "- Population    : Human populations, including individuals, households, communities or nation states in non-OECD countries\n",
      "- Intervention  : Adoption or implementation of nature conservation interventions\n",
      "- Comparator    : No use of nature conservation interventions either between sites or groups, or over time series (before/after)\n",
      "- Outcome       : Positive or negative effects on the multi-dimensional well-being status of human populations\n",
      "\n",
      "Keyterms:\n",
      "- Group: intervention qualifiers\n",
      "    - marine (synonyms: ['freshwater'])\n",
      "    - coastal \n",
      "    - forest (synonyms: ['forests', 'forestry'])\n",
      "    - ecosystem (synonyms: ['ecosystems'])\n",
      "    - species \n",
      "    - habitat (synonyms: ['habitats'])\n",
      "    - biodiversity \n",
      "    - sustainable (synonyms: ['sustainability'])\n",
      "    - ecology (synonyms: ['ecological'])\n",
      "    - integrated \n",
      "    - landscape \n",
      "    - seascape \n",
      "    - coral reef (synonyms: ['coral reefs'])\n",
      "    - natural resources (synonyms: ['natural resource'])\n",
      "- Group: outcome\n",
      "    - wellbeing (synonyms: ['well-being', 'well being'])\n",
      "    - ecosystem service (synonyms: ['ecosystem services'])\n",
      "    - nutrition \n",
      "    - skill (synonyms: ['skills'])\n",
      "    - empower (synonyms: ['empowering'])\n",
      "    - clean water (synonyms: ['livelihood'])\n",
      "    - livelihoods (synonyms: ['food security'])\n",
      "    - resilience (synonyms: ['vulnerability'])\n",
      "    - capital (synonyms: ['social capital'])\n",
      "    - attitude (synonyms: ['attitudes'])\n",
      "    - perception (synonyms: ['perceptions'])\n",
      "    - health (synonyms: ['human health'])\n",
      "    - human capital (synonyms: ['knowledge'])\n",
      "    - traditional knowledge \n",
      "- Group: outcome qualifiers\n",
      "    - human (synonyms: ['humans', 'humanity'])\n",
      "    - people \n",
      "    - person (synonyms: ['persons'])\n",
      "    - community (synonyms: ['communities'])\n",
      "    - household (synonyms: ['households'])\n",
      "    - fishermen (synonyms: ['fisherman'])\n",
      "    - collaborative \n",
      "- Group: intervention\n",
      "    - conservation \n",
      "    - conserve \n",
      "    - conservancy \n",
      "    - protect (synonyms: ['protects', 'protection'])\n",
      "    - management \n",
      "    - awareness \n",
      "    - law (synonyms: ['laws'])\n",
      "    - policy (synonyms: ['policy-making'])\n",
      "    - reserve \n",
      "    - govern (synonyms: ['governs', 'government'])\n",
      "    - capacity-build (synonyms: ['capacity-building', 'capacity building'])\n",
      "    - train (synonyms: ['tarins', 'training'])\n",
      "    - PES \n",
      "    - ecotourism (synonyms: ['eco-tourism'])\n",
      "    - sustainable use \n",
      "\n",
      "Selection Criteria:\n",
      "- location: individuals, households, or communities must be in non-OECD countries\n",
      "- undefined pop.: studies must include discrete populations and not undefined groups or populations\n",
      "- intervention type: study must document or measure people's specific and discrete external interventions, not daily use\n",
      "- in-situ: study must focus on establishment, adoption, or implementation of regulation, protection, or management of natural ecosystems through in-situ activities\n",
      "- outcome: studies must measure or describe human well-being outcomes, and can't only focus on biophysical outcomes of conservation\n",
      "\n"
     ]
    }
   ],
   "source": [
    "%run ../scripts/plan_review.py --user_id=1 --review_id=1 --test"
   ]
  },
  {
   "cell_type": "code",
   "execution_count": 5,
   "metadata": {
    "collapsed": false
   },
   "outputs": [
    {
     "name": "stdout",
     "output_type": "stream",
     "text": [
      "((\"wellbeing\" OR \"well-being\" OR \"well being\") OR (\"ecosystem service\" OR \"ecosystem services\") OR \"nutrition\" OR (\"skill\" OR \"skills\") OR (\"empower\" OR \"empowering\") OR (\"clean water\" OR \"livelihood\") OR (\"livelihoods\" OR \"food security\") OR (\"resilience\" OR \"vulnerability\") OR (\"capital\" OR \"social capital\") OR (\"attitude\" OR \"attitudes\") OR (\"perception\" OR \"perceptions\") OR (\"health\" OR \"human health\") OR (\"human capital\" OR \"knowledge\") OR \"traditional knowledge\")\n",
      "AND\n",
      "((\"marine\" OR \"freshwater\") OR \"coastal\" OR (\"forest\" OR \"forests\" OR \"forestry\") OR (\"ecosystem\" OR \"ecosystems\") OR \"species\" OR (\"habitat\" OR \"habitats\") OR \"biodiversity\" OR (\"sustainable\" OR \"sustainability\") OR (\"ecology\" OR \"ecological\") OR \"integrated\" OR \"landscape\" OR \"seascape\" OR (\"coral reef\" OR \"coral reefs\") OR (\"natural resources\" OR \"natural resource\"))\n",
      "AND\n",
      "((\"human\" OR \"humans\" OR \"humanity\") OR \"people\" OR (\"person\" OR \"persons\") OR (\"community\" OR \"communities\") OR (\"household\" OR \"households\") OR (\"fishermen\" OR \"fisherman\") OR \"collaborative\")\n",
      "AND\n",
      "(\"conservation\" OR \"conserve\" OR \"conservancy\" OR (\"protect\" OR \"protects\" OR \"protection\") OR \"management\" OR \"awareness\" OR (\"law\" OR \"laws\") OR (\"policy\" OR \"policy-making\") OR \"reserve\" OR (\"govern\" OR \"governs\" OR \"government\") OR (\"capacity-build\" OR \"capacity-building\" OR \"capacity building\") OR (\"train\" OR \"tarins\" OR \"training\") OR \"PES\" OR (\"ecotourism\" OR \"eco-tourism\") OR \"sustainable use\")\n"
     ]
    }
   ],
   "source": [
    "query = \"SELECT keyterms FROM review_plans WHERE review_id = 1\"\n",
    "keyterms = list(pgdb.run_query(query))[0]['keyterms']\n",
    "print(cipy.utils.get_boolean_search_query(keyterms))"
   ]
  },
  {
   "cell_type": "markdown",
   "metadata": {
    "collapsed": true
   },
   "source": [
    "---\n",
    "\n",
    "## Citation Ingestion and De-duplication\n",
    "\n",
    "- load citations from RIS or BibTex files then parse, standardize, sanitize, validate, and store the data\n",
    "- identify duplicate citations using a sophisticated model and assign the most complete record in a set of duplicates as the \"canonical\" record"
   ]
  },
  {
   "cell_type": "code",
   "execution_count": 13,
   "metadata": {
    "collapsed": false
   },
   "outputs": [
    {
     "name": "stderr",
     "output_type": "stream",
     "text": [
      "2016-07-11 22:24:20,813 - ingest_citations - INFO - parsing records in ../data/raw/citation_files/phase_2_demo_citations.ris\n",
      "2016-07-11 22:24:20,814 - ingest_citations - INFO - valid record: Ecological protection and well-being, 2013\n",
      "2016-07-11 22:24:20,815 - ingest_citations - INFO - valid record: The economic value of forest ecosystems, 2001\n",
      "2016-07-11 22:24:20,816 - ingest_citations - INFO - valid record: Contribution of tourism development to protected area management: Local stakeholder perspectives, 2009\n",
      "2016-07-11 22:24:20,817 - ingest_citations - INFO - 3 valid records inserted into appname db (TEST)\n"
     ]
    }
   ],
   "source": [
    "%run ../scripts/ingest_citations.py --citations ../data/raw/citation_files/phase_2_demo_citations.ris --user_id=1 --review_id=1 --test"
   ]
  },
  {
   "cell_type": "code",
   "execution_count": 17,
   "metadata": {
    "collapsed": false
   },
   "outputs": [
    {
     "name": "stdout",
     "output_type": "stream",
     "text": [
      "total # citations = 28709\n"
     ]
    }
   ],
   "source": [
    "num_citations = list(pgdb.run_query('SELECT COUNT(1) FROM citations WHERE review_id = 1'))[0]['count']\n",
    "print('total # citations =', num_citations)"
   ]
  },
  {
   "cell_type": "code",
   "execution_count": 7,
   "metadata": {
    "collapsed": false
   },
   "outputs": [
    {
     "name": "stderr",
     "output_type": "stream",
     "text": [
      "2016-07-11 22:19:58,881 - dedupe_records - INFO - reading dedupe settings from ../models/dedupe_citations_settings\n",
      "2016-07-11 22:20:19,236 - dedupe_records - INFO - duplicate threshold = 0.827943\n",
      "2016-07-11 22:20:19,879 - dedupe_records - INFO - found 361 duplicate clusters\n",
      "2016-07-11 22:20:20,020 - dedupe_records - INFO - inserted 726 records into duplicates db (TEST)\n"
     ]
    }
   ],
   "source": [
    "%run ../scripts/dedupe_records.py --review_id=1 --threshold=auto --settings=../models/dedupe_citations_settings --test"
   ]
  },
  {
   "cell_type": "code",
   "execution_count": 4,
   "metadata": {
    "collapsed": false,
    "scrolled": false
   },
   "outputs": [
    {
     "name": "stdout",
     "output_type": "stream",
     "text": [
      "citations [15, 14] are duplicates with avg. duplicate score = 0.999982\n",
      "\n",
      "TITLE:    Managing the Brisbane River and Moreton Bay: an integrated research/management program to reduce impacts on an Australian estuary\n",
      "YEAR:     2001\n",
      "AUTHORS:  Abal, E G; Dennison, W C; Greenfield, P F\n",
      "ABSTRACT: The Brisbane River and Moreton Bay Study, an interdisciplinary study of Moreton Bay and its major tributaries, was initiated to address water quality issues which link sewage and diffuse loading with environmental degradation. Runoff and deposition of fine-grained sediments into Moreton Bay, followed by resuspension, have been linked with increased turbidity and significant loss of seagrass habitat. Sewage-derived nutrient enrichment, particularly nitrogen (N), has been linked to algal blooms by sewage plume maps. Blooms of a marine cyanobacterium, Lyngbya majuscula, in Moreton Bay have resulted in significant impacts on human health (e.g., contact dermatitis) and ecological health (e.g., seagrass loss), and the availability of dissolved iron from acid sulfate soil runoff has been hypothesised. The impacts of catchment activities resulting in runoff of sediments, nutrients and dissolved iron on the health of the Moreton Bay waterways are addressed. The Study, established by 6 local councils in association with two state departments in 1994, forms a regional component of a national and state program to achieve ecologically sustainable use of the waterways by protecting and enhancing their health, while maintaining economic and social development. The Study framework illustrates a unique integrated approach to water quality management whereby scientific research, community participation and the strategy development were done in parallel with each other. This collaborative effort resulted in a water quality management strategy which focuses on the integration of socioeconomic and ecological values of the waterways. This work has led to significant cost savings in infrastructure by providing a clear focus on initiatives towards achieving healthy waterways. The Study's Stage 2 initiatives form the basis for this paper.\n",
      "DOI:      None\n",
      "\n",
      "TITLE:    Managing the Brisbane River and Moreton Bay: An integrated research/management program to reduce impacts on an Australian estuary\n",
      "YEAR:     2001\n",
      "AUTHORS:  Abal, E G; Dennison, W C; Greenfield, P F\n",
      "ABSTRACT: The Brisbane River and Moreton Bay Study, an interdisciplinary study of Moreton Bay and its major tributaries, was initiated to address water quality issues which link sewage and diffuse loading with environmental degradation. Runoff and deposition of fine-grained sediments into Moreton Bay, followed by resuspension, have been linked with increased turbidity and significant loss of seagrass habitat. Sewage-derived nutrient enrichment, particularly nitrogen (N), has been linked to algal blooms by sewage plume maps. Blooms of a marine cyanobacterium, Lyngbya majuscula, in Moreton Bay have resulted in significant impacts on human health (e.g., contact dermatitis) and ecological health (e.g., seagrass loss), and the availability of dissolved iron from acid sulfate soil runoff has been hypothesised. The impacts of catchment activities resulting in runoff of sediments, nutrients and dissolved iron on the health of the Moreton Bay waterway are addressed. The Study, established by 6 local councils in association with two state departments in 1994, forms a regional component of a national and state program to achieve ecologically sustainable use of the waterways by protecting and enhancing their health, while maintaining economic and social development. The Study framework illustrates a unique integrated approach to water quality management whereby scientific research, community participation and the strategy development were done in parallel with each other. This collaborative effort resulted in a water quality management strategy which focuses on the integration of socioeconomic and ecological values of the waterways. This work has led to significant cost savings in infrastructure by providing a clear focus on initiatives towards achieving healthy waterways. The Study's Stage 2 initiatives form the basis for this paper.\n",
      "DOI:      None\n"
     ]
    }
   ],
   "source": [
    "query = \"\"\"\n",
    "SELECT canonical_citation_id, array_agg(citation_id) AS citation_ids, AVG(duplicate_score) AS avg_score\n",
    "FROM duplicates\n",
    "GROUP BY 1 HAVING AVG(duplicate_score) > 0.9 ORDER BY 1 ASC\n",
    "LIMIT 1\n",
    "\"\"\"\n",
    "dupes = list(pgdb.run_query(query))[0]\n",
    "print('citations {} are duplicates with avg. duplicate score = {}'.format(\n",
    "        dupes['citation_ids'], round(dupes['avg_score'], 6)))\n",
    "\n",
    "query = \"\"\"\n",
    "SELECT citation_id, authors, title, abstract, publication_year, doi\n",
    "FROM citations\n",
    "WHERE citation_id = ANY(%(citation_ids)s)\n",
    "\"\"\"\n",
    "for record in pgdb.run_query(query, {'citation_ids': dupes['citation_ids']}):\n",
    "    cipy.utils.present_citation(record)"
   ]
  },
  {
   "cell_type": "markdown",
   "metadata": {},
   "source": [
    "---\n",
    "\n",
    "## Initial Ranking of Citations\n",
    "\n",
    "- sample citations ranked by overlap with keyterms; user pre-screens citations until 10 have been included and 10 have been excluded\n",
    "- based on included/excluded citations, rank citations by ratio of relevant to irrelevant keyterms and present those most likely to be relevant to the user for pre-screening"
   ]
  },
  {
   "cell_type": "code",
   "execution_count": null,
   "metadata": {
    "collapsed": true
   },
   "outputs": [],
   "source": []
  },
  {
   "cell_type": "markdown",
   "metadata": {},
   "source": [
    "---\n",
    "\n",
    "## Refinement of Search Keyterms\n",
    "\n",
    "- based on included/excluded citations, create lists of strongly relevant and irrelevant keyterms that can be used to refine initial set of keyterms"
   ]
  },
  {
   "cell_type": "code",
   "execution_count": null,
   "metadata": {
    "collapsed": true
   },
   "outputs": [],
   "source": []
  }
 ],
 "metadata": {
  "kernelspec": {
   "display_name": "Python 3",
   "language": "python",
   "name": "python3"
  },
  "language_info": {
   "codemirror_mode": {
    "name": "ipython",
    "version": 3
   },
   "file_extension": ".py",
   "mimetype": "text/x-python",
   "name": "python",
   "nbconvert_exporter": "python",
   "pygments_lexer": "ipython3",
   "version": "3.5.1"
  }
 },
 "nbformat": 4,
 "nbformat_minor": 0
}
