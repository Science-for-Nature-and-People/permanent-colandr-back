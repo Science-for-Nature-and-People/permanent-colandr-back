{
 "cells": [
  {
   "cell_type": "markdown",
   "metadata": {},
   "source": [
    "---\n",
    "\n",
    "## Set Up System Tools\n",
    "\n",
    "[Homebrew](http://brew.sh/) installs the stuff you need that Apple didn’t. From a command line (denoted by `$`), enter the following:\n",
    "\n",
    "```\n",
    "$ /usr/bin/ruby -e \"$(curl -fsSL https://raw.githubusercontent.com/Homebrew/install/master/install)\"\n",
    "```\n",
    "\n",
    "Insert the Homebrew directory at the top of your `PATH` environment variable by adding the following to your `~/.profile` (or `~/.zshrc`) file:\n",
    "\n",
    "```\n",
    "export PATH=/usr/local/bin:/usr/local/sbin:$PATH\n",
    "```\n",
    "\n",
    "Also install `git`, for version control and (later) access to the app's code:\n",
    "\n",
    "```\n",
    "$ brew install git\n",
    "```"
   ]
  },
  {
   "cell_type": "markdown",
   "metadata": {},
   "source": [
    "---\n",
    "\n",
    "## Set Up PostgreSQL\n",
    "\n",
    "Install with Homebrew:\n",
    "\n",
    "```\n",
    "$ brew update && brew install postgres\n",
    "```\n",
    "\n",
    "Or, if already installed,\n",
    "\n",
    "```\n",
    "$ brew update && brew upgrade postgres\n",
    "```\n",
    "\n",
    "Run `initdb` just once, basically to create the directory structure and such on disk that's needed for creating new databases. Note: The specified path should match the version of Postgres just installed!\n",
    "\n",
    "```\n",
    "$ initdb /usr/local/var/postgres9.5 -E utf8\n",
    "```\n",
    "\n",
    "To _manually_ start and stop a local Postgres server from running, use\n",
    "\n",
    "```\n",
    "$ pg_ctl -D /usr/local/var/postgres -l /usr/local/var/postgres/server.log start\n",
    "$ pg_ctl -D /usr/local/var/postgres stop -s -m fast\n",
    "```\n",
    "        \n",
    "Or to _automatically_ start a Postgres server (now and) at launch:\n",
    "\n",
    "```\n",
    "$ mkdir -p ~/Library/LaunchAgents\n",
    "$ ln -sfv /usr/local/opt/postgresql/*.plist ~/Library/LaunchAgents\n",
    "$ launchctl load ~/Library/LaunchAgents/homebrew.mxcl.postgresql.plist\n",
    "```\n",
    "\n",
    "Open the system paths file, `/etc/paths`, in a text editor, and move the line `/usr/local/bin` from the bottom of the file to the top (if it wasn't like this already). If you had to make a change to the file, reboot the computer. After rebooting, the command `which psql` command should return `/usr/local/bin/psql`.\n",
    "\n",
    "Homebrew automatically created a database superuser account with the same login as your current Mac OS account. Let's create a dedicated user named `app` for connecting to and owning the app's database:\n",
    "\n",
    "```\n",
    "$ createuser --echo --pwprompt --superuser --createdb app\n",
    "```\n",
    "\n",
    "You'll be prompted to create a password — be sure to remember it or save it somewhere!\n",
    "\n",
    "Homebrew also automatically created a database named `postgres` that may be used to log info for administrative tasks such as creating a user. Let's create a new database for this project:\n",
    "\n",
    "```\n",
    "$ createdb --echo --encoding=utf8 --host=<HOST> --port=<PORT> --username=app --owner=app <DBNAME>\n",
    "```\n",
    "\n",
    "We're using our `app` user to create the database, and assign it as the db's owner. **TODO:** Choose a `<DBNAME>` for this project!\n",
    "\n",
    "To access the database through an interactive shell:\n",
    "\n",
    "```\n",
    "$ psql --host=<HOST> --port=<PORT> --username=app --dbname=<DBNAME>\n",
    "```\n",
    "\n",
    "While we're in the interactive shell, let's create the `pgcrypto` extension for secure password storage and `intarray` extension for integer array handling:\n",
    "\n",
    "```\n",
    "=# CREATE EXTENSION \"pgcrypto\";\n",
    "=# CREATE EXTENSION \"intarray\";\n",
    "```\n",
    "\n",
    "Lastly, after exiting the postgres shell, define a `DATABASE_URL` environment variable containing this same information so that programs such as those in `cipy` can access it:\n",
    "\n",
    "```\n",
    "$ export DATABASE_URL=postgres://app:<PASSWORD>@<HOST>:<PORT>/<DBNAME>\n",
    "```"
   ]
  },
  {
   "cell_type": "markdown",
   "metadata": {},
   "source": [
    "---\n",
    "\n",
    "## Set Up the App Code\n",
    "\n",
    "First you'll need access permissions to the repo — contact DataKind! Then, \"clone\" the code needed to run the app from its repository hosted on GitLab. Make a new local directory for the repo (if needed) and change your current working directory to it:\n",
    "\n",
    "```\n",
    "$ mkdir /path/to/cloned_repo\n",
    "$ cd /path/to/cloned_repo\n",
    "$ git clone http://gitlab.datakind.org/conservation-intl/conservation-intl.git\n",
    "```\n",
    "\n",
    "This command should create a `conservation-intl` directory, in which the app's code lives."
   ]
  },
  {
   "cell_type": "markdown",
   "metadata": {},
   "source": [
    "---\n",
    "\n",
    "## Set Up Python 3\n",
    "\n",
    "For a fuller guide to everything below, check out [The Hitchhiker's Guide to Python](http://docs.python-guide.org/en/latest/).\n",
    "\n",
    "Install Python 3 with Homebrew:\n",
    "\n",
    "```\n",
    "$ brew install python3\n",
    "```\n",
    "\n",
    "You may wish to work entirely within a virtual environment. (See [here](http://docs.python-guide.org/en/latest/dev/virtualenvs/?highlight=virtualenv) for more information on working within virtual envs.) If so, install with `pip`:\n",
    "\n",
    "```\n",
    "$ pip3 install virtualenv\n",
    "```\n",
    "\n",
    "You may wish to develop within an IPython interpreter and/or Jupyter Notebook:\n",
    "\n",
    "```\n",
    "$ pip3 install ipython jupyter\n",
    "```\n",
    "\n",
    "Change your working directory to your local copy of the repo (see the section above), then install all 3rd-party dependencies upon which the app will rely by:\n",
    "\n",
    "```\n",
    "$ cd /path/to/conservation-intl\n",
    "$ pip install -r requirements.txt\n",
    "```\n",
    "\n",
    "Also add the repo to your `PYTHONPATH` environment variable by modifying the corresponding line (or adding a new line) in your `~/.profile` (or `~/.zshrc`) file:\n",
    "\n",
    "```\n",
    "export PYTHONPATH=/path/to/conservation-intl/:$PYTHONPATH\n",
    "```"
   ]
  },
  {
   "cell_type": "markdown",
   "metadata": {},
   "source": [
    "---\n",
    "\n",
    "## Create Tables and Indexes from DDLs\n",
    "\n",
    "** The code below is subject to change **"
   ]
  },
  {
   "cell_type": "code",
   "execution_count": 1,
   "metadata": {
    "collapsed": false
   },
   "outputs": [],
   "source": [
    "import logging\n",
    "\n",
    "import cipy"
   ]
  },
  {
   "cell_type": "code",
   "execution_count": 2,
   "metadata": {
    "collapsed": true
   },
   "outputs": [],
   "source": [
    "logger = logging.getLogger('cipy')\n",
    "logger.setLevel(logging.DEBUG)"
   ]
  },
  {
   "cell_type": "code",
   "execution_count": 3,
   "metadata": {
    "collapsed": false
   },
   "outputs": [
    {
     "name": "stdout",
     "output_type": "stream",
     "text": [
      "\n",
      "DDL(path='/Users/burtondewilde/Desktop/datakind/ci/conservation-intl/cipy/ddls/review_settings.yaml')\n",
      "CREATE TABLE IF NOT EXISTS review_settings (review_id INTEGER PRIMARY KEY, num_citation_screening_reviewers INTEGER DEFAULT 2, num_fulltext_screening_reviewers INTEGER DEFAULT 2, required_citation_screener_id INTEGER DEFAULT NULL, required_fulltext_screener_id INTEGER DEFAULT NULL) \n",
      "\n",
      "DDL(path='/Users/burtondewilde/Desktop/datakind/ci/conservation-intl/cipy/ddls/citations.yaml')\n",
      "CREATE TABLE IF NOT EXISTS citations (citation_id BIGSERIAL PRIMARY KEY, review_id INTEGER NOT NULL, user_id INTEGER NOT NULL, created_ts TIMESTAMP(0) WITHOUT TIME ZONE NOT NULL, type_of_work VARCHAR(25), title VARCHAR(250), secondary_title VARCHAR(250), publication_year SMALLINT, publication_month SMALLINT, authors VARCHAR(100) ARRAY, abstract TEXT, keywords VARCHAR(100) ARRAY, type_of_reference VARCHAR(50), journal_column_name VARCHAR(100), volume VARCHAR(20), issue_number VARCHAR(20), doi VARCHAR(100), issn VARCHAR(20), publisher VARCHAR(100), language VARCHAR(50), other_fields JSONB) \n",
      "CREATE INDEX IF NOT EXISTS citations_review_id_idx ON citations USING btree (review_id)\n",
      "\n",
      "DDL(path='/Users/burtondewilde/Desktop/datakind/ci/conservation-intl/cipy/ddls/review_plans.yaml')\n",
      "CREATE TABLE IF NOT EXISTS review_plans (review_id INTEGER PRIMARY KEY, objective TEXT, research_questions JSONB, pico JSONB, keyterms JSONB, selection_criteria JSONB) \n",
      "\n",
      "DDL(path='/Users/burtondewilde/Desktop/datakind/ci/conservation-intl/cipy/ddls/citation_status.yaml')\n",
      "CREATE TABLE IF NOT EXISTS citation_status (citation_id BIGINT PRIMARY KEY, review_id INTEGER NOT NULL, status VARCHAR(15) NOT NULL, exclude_reason VARCHAR(20), deduplication JSONB, citation_screening JSONB) \n",
      "CREATE INDEX IF NOT EXISTS citation_status_review_id_idx ON citation_status USING btree (review_id)\n",
      "CREATE INDEX IF NOT EXISTS citation_status_status_idx ON citation_status USING btree (status)\n",
      "\n",
      "DDL(path='/Users/burtondewilde/Desktop/datakind/ci/conservation-intl/cipy/ddls/users.yaml')\n",
      "CREATE TABLE IF NOT EXISTS users (user_id SERIAL PRIMARY KEY, created_ts TIMESTAMP(0) WITHOUT TIME ZONE NOT NULL, name VARCHAR(200) NOT NULL, email VARCHAR(200) NOT NULL, password VARCHAR NOT NULL, review_ids INTEGER ARRAY, owned_review_ids INTEGER ARRAY) \n",
      "\n",
      "DDL(path='/Users/burtondewilde/Desktop/datakind/ci/conservation-intl/cipy/ddls/duplicates.yaml')\n",
      "CREATE TABLE IF NOT EXISTS duplicates (citation_id BIGINT PRIMARY KEY, review_id INTEGER NOT NULL, canonical_citation_id INTEGER NOT NULL, duplicate_score REAL NOT NULL, is_confirmed BOOLEAN NOT NULL, confirming_user_id INTEGER) \n",
      "CREATE INDEX IF NOT EXISTS duplicates_review_id_idx ON duplicates USING btree (review_id)\n",
      "CREATE INDEX IF NOT EXISTS duplicates_canonical_citation_id_idx ON duplicates USING btree (canonical_citation_id)\n",
      "\n",
      "DDL(path='/Users/burtondewilde/Desktop/datakind/ci/conservation-intl/cipy/ddls/reviews.yaml')\n",
      "CREATE TABLE IF NOT EXISTS reviews (review_id SERIAL PRIMARY KEY, created_ts TIMESTAMP(0) WITHOUT TIME ZONE NOT NULL, owner_user_id INTEGER NOT NULL, user_ids INTEGER ARRAY NOT NULL, name VARCHAR(500) NOT NULL, description TEXT) \n"
     ]
    }
   ],
   "source": [
    "conn_creds = cipy.db.get_conn_creds(env_var='DATABASE_URL')\n",
    "\n",
    "for ddl_name in cipy.DEFAULT_DDL_PATHS:\n",
    "    ddl = cipy.db.get_ddl(ddl_name)\n",
    "    print('\\n{}'.format(ddl))\n",
    "    \n",
    "    pgdb = cipy.db.PostgresDB(conn_creds, ddl=ddl)\n",
    "    pgdb.create_table(act=True)\n",
    "    print(ddl.create_table_statement())\n",
    "    \n",
    "    pgdb.create_indexes(act=True)\n",
    "    for index_statement in ddl.create_index_statements():\n",
    "        print(index_statement)"
   ]
  },
  {
   "cell_type": "code",
   "execution_count": null,
   "metadata": {
    "collapsed": true
   },
   "outputs": [],
   "source": []
  }
 ],
 "metadata": {
  "kernelspec": {
   "display_name": "Python 3",
   "language": "python",
   "name": "python3"
  },
  "language_info": {
   "codemirror_mode": {
    "name": "ipython",
    "version": 3
   },
   "file_extension": ".py",
   "mimetype": "text/x-python",
   "name": "python",
   "nbconvert_exporter": "python",
   "pygments_lexer": "ipython3",
   "version": "3.5.2"
  }
 },
 "nbformat": 4,
 "nbformat_minor": 0
}
