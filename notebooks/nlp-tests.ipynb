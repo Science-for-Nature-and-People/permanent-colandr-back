{
 "cells": [
  {
   "cell_type": "code",
   "execution_count": 1,
   "metadata": {
    "collapsed": false
   },
   "outputs": [
    {
     "name": "stderr",
     "output_type": "stream",
     "text": [
      "/Users/burtondewilde/.pyenv/versions/3.5.2/lib/python3.5/site-packages/flask/exthook.py:71: ExtDeprecationWarning: Importing flask.ext.restful is deprecated, use flask_restful instead.\n",
      "  .format(x=modname), ExtDeprecationWarning\n"
     ]
    }
   ],
   "source": [
    "from pprint import pprint\n",
    "import re\n",
    "\n",
    "import textacy\n",
    "\n",
    "from colandr import create_app, db\n",
    "from colandr.lib.nlp import reviewer_terms\n",
    "from colandr.models import Citation, Review, ReviewPlan"
   ]
  },
  {
   "cell_type": "code",
   "execution_count": 2,
   "metadata": {
    "collapsed": true
   },
   "outputs": [],
   "source": [
    "app = create_app('default')"
   ]
  },
  {
   "cell_type": "code",
   "execution_count": 10,
   "metadata": {
    "collapsed": false
   },
   "outputs": [],
   "source": [
    "keyterms_scores = []\n",
    "incl_excl_scores = []\n",
    "\n",
    "with app.app_context():\n",
    "    \n",
    "    review = db.session.query(Review).get(1)\n",
    "    review_plan = review.review_plan\n",
    "    \n",
    "    keyterms_regex = reviewer_terms.get_keyterms_regex(review_plan.keyterms)\n",
    "    incl_regex, excl_regex = reviewer_terms.get_incl_excl_terms_regex(review_plan.suggested_keyterms)\n",
    "    \n",
    "    for i in range(1, 100):\n",
    "        citation = db.session.query(Citation).get(i)\n",
    "        text_content = citation.text_content\n",
    "    \n",
    "        keyterms_score = reviewer_terms.get_keyterms_regex_score(keyterms_regex, text_content)\n",
    "        incl_excl_score = reviewer_terms.get_incl_excl_terms_score(incl_regex, excl_regex, text_content)\n",
    "        \n",
    "        keyterms_scores.append(keyterms_score)\n",
    "        incl_excl_scores.append(incl_excl_score)\n",
    "        \n",
    "#         print('\\n' + str(i))\n",
    "#         print(keyterms_score)\n",
    "#         print(incl_excl_score)"
   ]
  },
  {
   "cell_type": "code",
   "execution_count": 13,
   "metadata": {
    "collapsed": false
   },
   "outputs": [
    {
     "data": {
      "text/plain": [
       "SpearmanrResult(correlation=-0.068977544592122658, pvalue=masked_array(data = 0.49751165378891526,\n",
       "             mask = False,\n",
       "       fill_value = 1e+20)\n",
       ")"
      ]
     },
     "execution_count": 13,
     "metadata": {},
     "output_type": "execute_result"
    }
   ],
   "source": [
    "from scipy.stats.mstats import spearmanr\n",
    "\n",
    "spearmanr(keyterms_scores, incl_excl_scores)"
   ]
  },
  {
   "cell_type": "code",
   "execution_count": null,
   "metadata": {
    "collapsed": false
   },
   "outputs": [],
   "source": []
  },
  {
   "cell_type": "code",
   "execution_count": null,
   "metadata": {
    "collapsed": false
   },
   "outputs": [],
   "source": []
  },
  {
   "cell_type": "code",
   "execution_count": null,
   "metadata": {
    "collapsed": false
   },
   "outputs": [],
   "source": []
  }
 ],
 "metadata": {
  "kernelspec": {
   "display_name": "Python 3",
   "language": "python",
   "name": "python3"
  },
  "language_info": {
   "codemirror_mode": {
    "name": "ipython",
    "version": 3
   },
   "file_extension": ".py",
   "mimetype": "text/x-python",
   "name": "python",
   "nbconvert_exporter": "python",
   "pygments_lexer": "ipython3",
   "version": "3.5.2"
  }
 },
 "nbformat": 4,
 "nbformat_minor": 1
}
