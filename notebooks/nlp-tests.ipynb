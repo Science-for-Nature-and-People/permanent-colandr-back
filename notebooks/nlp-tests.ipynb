{
 "cells": [
  {
   "cell_type": "code",
   "execution_count": 8,
   "metadata": {
    "collapsed": false
   },
   "outputs": [],
   "source": [
    "from pprint import pprint\n",
    "import re\n",
    "\n",
    "from scipy.stats.mstats import spearmanr\n",
    "import textacy\n",
    "\n",
    "from colandr import create_app, db\n",
    "from colandr.lib.nlp import reviewer_terms\n",
    "from colandr.models import Citation, Review, ReviewPlan\n",
    "from colandr.api.schemas import CitationSchema"
   ]
  },
  {
   "cell_type": "code",
   "execution_count": 3,
   "metadata": {
    "collapsed": true
   },
   "outputs": [],
   "source": [
    "app = create_app('default')"
   ]
  },
  {
   "cell_type": "markdown",
   "metadata": {},
   "source": [
    "### reviewer terms tests"
   ]
  },
  {
   "cell_type": "code",
   "execution_count": 10,
   "metadata": {
    "collapsed": false
   },
   "outputs": [],
   "source": [
    "keyterms_scores = []\n",
    "incl_excl_scores = []\n",
    "\n",
    "with app.app_context():\n",
    "    \n",
    "    review = db.session.query(Review).get(1)\n",
    "    review_plan = review.review_plan\n",
    "    \n",
    "    keyterms_regex = reviewer_terms.get_keyterms_regex(review_plan.keyterms)\n",
    "    incl_regex, excl_regex = reviewer_terms.get_incl_excl_terms_regex(review_plan.suggested_keyterms)\n",
    "    \n",
    "    for i in range(1, 100):\n",
    "        citation = db.session.query(Citation).get(i)\n",
    "        text_content = citation.text_content\n",
    "    \n",
    "        keyterms_score = reviewer_terms.get_keyterms_regex_score(keyterms_regex, text_content)\n",
    "        incl_excl_score = reviewer_terms.get_incl_excl_terms_score(incl_regex, excl_regex, text_content)\n",
    "        \n",
    "        keyterms_scores.append(keyterms_score)\n",
    "        incl_excl_scores.append(incl_excl_score)\n",
    "        \n",
    "#         print('\\n' + str(i))\n",
    "#         print(keyterms_score)\n",
    "#         print(incl_excl_score)"
   ]
  },
  {
   "cell_type": "code",
   "execution_count": 13,
   "metadata": {
    "collapsed": false
   },
   "outputs": [
    {
     "data": {
      "text/plain": [
       "SpearmanrResult(correlation=-0.068977544592122658, pvalue=masked_array(data = 0.49751165378891526,\n",
       "             mask = False,\n",
       "       fill_value = 1e+20)\n",
       ")"
      ]
     },
     "execution_count": 13,
     "metadata": {},
     "output_type": "execute_result"
    }
   ],
   "source": [
    "spearmanr(keyterms_scores, incl_excl_scores)"
   ]
  },
  {
   "cell_type": "code",
   "execution_count": null,
   "metadata": {
    "collapsed": false
   },
   "outputs": [],
   "source": []
  },
  {
   "cell_type": "code",
   "execution_count": null,
   "metadata": {
    "collapsed": false
   },
   "outputs": [],
   "source": []
  },
  {
   "cell_type": "code",
   "execution_count": 20,
   "metadata": {
    "collapsed": false
   },
   "outputs": [
    {
     "name": "stdout",
     "output_type": "stream",
     "text": [
      "Corpus(28708 docs; 8293029 tokens)\n",
      "CPU times: user 8min 3s, sys: 1.75 s, total: 8min 5s\n",
      "Wall time: 8min 6s\n"
     ]
    }
   ],
   "source": [
    "%%time\n",
    "\n",
    "with app.app_context():\n",
    "    \n",
    "    results = db.session.query(Citation.text_content).filter_by(review_id=1)\n",
    "    texts = (result[0] for result in results)\n",
    "    corpus = textacy.Corpus('en', texts=texts)\n",
    "    print(corpus)"
   ]
  },
  {
   "cell_type": "code",
   "execution_count": 22,
   "metadata": {
    "collapsed": false
   },
   "outputs": [
    {
     "data": {
      "text/plain": [
       "Doc(228 tokens; \"Place Perceptions and Controversies over Forest...\")"
      ]
     },
     "execution_count": 22,
     "metadata": {},
     "output_type": "execute_result"
    }
   ],
   "source": [
    "doc = corpus[10]\n",
    "doc"
   ]
  },
  {
   "cell_type": "code",
   "execution_count": 23,
   "metadata": {
    "collapsed": false
   },
   "outputs": [
    {
     "data": {
      "text/plain": [
       "b'\\xcb\\x05\\x00\\x00m\\xfa\\xff\\xffy\\x14\\x9e\\xce<nMG7\\xc6\\x7f\\xf2\\'n\\x14\\xbfWdo=\\xbcgdo\\ty\\xac{\\xedf\\xfc\\xb9\\xba\\xf9~C\\xeb\\xa6;\\xd1%\\x16\\xfeJ6sz\\x04\\xdfp\\xd3\\x9dx\\xa6\\xcb\\xed\\xeeB\\x0c|\\xf2j\\x9c\\xcay;\\xd1%\\xd6={\\x9c+\\xca\\x19\\x89t\\xe1\\xe9\\xa4oMG7\\xc6\\x7f\\xe2w\\x8a\\xdf+\\xb2\\xb7\\x1e\\xde3\\xb2\\xb7Lb\\xddkg\\xfe\\\\\\xdd|\\xbfa\\xf3\\xf9/\\xa0n\\x00Vn\\x1c\\xce\\xc8_\\xa6\\xe9\\x15<\\r;L\\x16\\xcf\\'\\x7f.\\xf5\\xc3\\'>\\xc1;b\\x87\\xb7\\x13]b\\x9d<u\\xac\\xb7-}k:\\xba1\\xfe3\\x12\\xe9\\xc2\\xd3=\\xaaI\\xac{\\xfd\\xe4O\\xa4\\xa3\\xe0T\\xc3B\\x0c|\\xe2s\\x8ay\\x8f\\xff\\x88)\\xf6\\x90\\xbf\\xb7\\x13\\xcf\\xf8\\xb91\\xbe\\x91\\xc8S\\xc7z\\xdbfy\\xd5\\xf8+\\'\\xa6y\\xc2\\xae\\xed\\x10\\x7fR\\xc0\\xfd\\xe9\\xa4\\xa3\\xe0TC\\x9d9\\x87\\xbf\\x12<\\xfc\\x95\\xfc\\xc5\\xdf\\xb7\\xe8u\\x8d\\xd9\\x93\\x8e\\x82S-\\x7f.\\xf5\\xc3g\\xb2x\\xbe4V\\x0ev\\xd3\\x99\\xc6\\x85\\x13\\x97RS\\xedq\\xf2\\xe7R?|\\xe2\\xcf\\xdek\\xac\\xb8\\xef\\xc9N\\xf1{E\\xf6\\xd6\\xab\\x8d\\xec-?7X\\\\\\\\\\xf7\\x02\\xac\\xe9\\x9c\\xf9su\\xf3\\xfd\\x16\\xbf;\\x14\\xb9\\xdc\\x1c\\xb9\\x9c3\\xf88!\\xcd\\x05\\xbb\\xa6\\xfac\\xf5\\xb8\\xf5\\xcd\\x9c\\x1e\\xb9\\x0f\\x0b1\\xceu\\xefxMC\\xb28}\\x02:\\xbe\\x9b\\x03\\\\\\xb0\\xb91{\\x12nv\\x8aRn\\xea#&+f\\xd9,/\\xbc\\xae\\x8d\\xc4\\xd7\\xdcG\\xf5\\xa6\\xf81\\xe3$\\x7f\\xe2\\x8b\\t\\xb9\\xc8S\\xc7z\\xb0\\x94\\xf6\\x8dH\\x9f#R\\xd9W\\xbf\\xbe\\x99\\x1b\\'\\xf9s\\xa9\\x1f>#\\x91.<\\x1d\\xd4u\\x85\\xfb\\x88\\xc9\\xe2\\xf9\\x9e\\x13\\x7f\\xaf\\x80\\t\\t\\xf7\\xd9\\xe3\\xa4\\xa3\\xe0TC\\x9d9\\x87\\xbf\\x92^1\\xdd{\\xb0\\x94\\x96\\xdc\\x1c\\xff\\xf5\\xe2\\xbe\\xe7\\x88\\xd4)~Rpj\\xfc\\x95t\\xe1\\xe9\\x9c\\x8f?\\xfe\\xeaI0\\x8b\\xe4\\xe4\\xa9c=\\xaa=\\x0e\\x97\\xc9\\xe2\\xf9\\x9e\\xfc\\x89\\xf8\\xfb\\x16\\xbd\\xae1{N1\\xcf\\xe0c\\xe3=\\xd8M\"\\xbd\\xec-\\xaa/&\\xe4b\\xac\\x8a?n\\x9e\\x1b\\xe3\\xcb\\x9fX\\xa2\\xe6\\xd2xO^\\'\\x97\\x17\\xe2L\\xc7j\\xfe-~\\xdf`\\x1a\\x7f%O\\x8d\\xf1\\x1f,\\xc48\\xf9s\\xa9\\x1b\\'.&\\x8b\\xe7Kc\\xe5\\x8c$\\xb9\\xf5d_L\\x18%*\\x9c\\xb8\\x94\\xda=\\xbf#2M\\xaf\\xe0i\\xd8\\xe1\\xedD\\x97X\\xf8+{\\x9c+\\xca\\x19\\x89t\\xe1\\xe9\\xa4oMG7\\xc6\\x7f\\xe2\\xf7s\\x83\\xc5\\xc5u/\\xc0\\x9aN:\\n6N\\x0f\\x96\\xd2&<a\\xc1\\xe6\\xbe\\'~\\xa8\\xe4\\xe8\\x1e\\x82On\\xbd\\xe6O\\xf0WF\"\\x1d\\x05\\xa7\\x1a\\xea\\xcc9\\xfc\\x95\\xfc\\x893\\xd7\\xf6\\x00\\xcf)~/\\xdc\\x83>;|\\xbd\\xeeW=\\xee\\xe3\\xaf\\xbc$\\x89\\xd5\\xcf\\x0eg\\xfe\\\\\\x9dS\\xfc\\xa4\\xe0\\xd4O\\xfe\\xc4\\x0e\\xc9e\\xaf\\x04\\xedm\\x0e`\\xf3\\xbe\\x9cUdo}\\xfe\\xd3\\xf9\\xea\\xd77?\\x93X~n\\xb0\\xb8\\xb8\\xee\\x05X\\xd39\\xf3\\xe7\\xea\\xe6\\xfb\\r\\xbb\\xc3\\xb1U\\xe8\\x0e\\xf2\\x86.\\xc3n\\x14t\\xbd\\xb0\\x1a-\\x04\\xd7%\\x96\\xfc\\x89\\x90/\\xfe\\x13>\\xa1X\\x01h\\xaa\\xd0C\\xbf\\x11\\xbc\\xbb\\x9b\\xc4\\xba\\xd7N\\xf1\\x93\\x82S?\\xaa\\xc9\\xe2\\xf9\\xe4\\xcf\\xa5~\\xf8\\xa8\\xe2\\xef[\\xf4\\xba\\xc6\\xecIG\\xc1\\xa9\\x96?\\x97\\xfa\\xe1\\xa3J\\x17\\x9eN\\xfa\\xd6ttc\\xfc\\x07\\x01\\x10\\x01@\\x08\\x04`\\x00\\x05\\x04\\x14\\x01\\x01\"$\\x08\\x80\\x04\\x00!\\x10\\x80\\xc5\\x00\\x04H\\x10 !\\x01\\x81\\x01\\x90\\xc0\\x80\\x08\\x0c\\t\\x10\\x12\\x00\\t\\x0c\\x08\\x90\\x00\\x02\\x83 \\x01 \\x10 \\x80\\x010\\x02\\x04\\x80\\x02 \\x04\\x04\\x08@\\x02\\x04\\x80\\x01\\x02#@\\x10\\x02 \\x04\\x10\\nH0@\\x04\\x02\\x13D\\x01\\x08\\x90` \\x10\\x01D`\\x100\\x01 \\x02 \\x08\\x10\\x08\\x0c\\x02\\x11\\x00\\x02`\\xc0@\\x00\\x88\\x00\"\\x04\\x90\\x80\\x80\\x11\\x80\\x00\\x02\\x05\\x00\\x82\\x00\\t B\\x82\\x00H@\\x80\\x00\\x13\\x00\\x19\\x02\\x80\\x04\\x06\\x11!\\x00\\t\\x00\\x02\\x12\\x08 \\x12\\x10@\\x00\\x02\" @\\x00\\x16\\x02\\x08D@0\\x14\\x040\\x080\\x00\\x04\\x02\\x0c\\x02`\\xac\\xa0j\\x86\\xaf~\\x1f\\xde\\xc7>\\xf8\\xa3\\x98L\\t}\\xb8\\x9e\\xaa\\x07oU7\\x8e\\xc9\\xc0J\\xe8\\xf1\\xa6\\x8f\\x8cS\\xa7\\xea\\xe1\\xd6\\xf5{\\x12\\xba\\xf0\\xc1\\x1fy\\xa2\\t\\xf8\\xd0\\x07\\xcbm\\xd3G\\x01/nt0\\xff{\\x14\\xeefL\\xffp\\xeb\\xd0\\xc1\\xfc\\x1e\\xdb\\r\\x10+nt\\xc1Sl\\xbf\\xae\\xda\\xe8=\\xf8\\xef\\x16\\xd5\\x1f\\xc5\\xe41:X\\xdcD\\xe1\\xa60\\xb7\\xab\\xb6\\xaa[\\xa9\\xba\\xc7\\xe4\\te\\x9d)30\\xbc\\x8f\\xc5 \\x01O f\\xe3\\x1d\\xec#X\\xa3\\x8b\\xc0\\x8e.\\xc1\\x1e\\x0f\\xfbl\\x0fK\\xce\\x8dJz\\xae\\x8d\\x90\\xf0q\\xdeERR\\xec\\xa3\\x11\\xf2\\x1f\\x81\\x85\\xe4e3J\\xcf\\x8e.\\x81\\xeda\\x1f.fG\\xc1/\\xc0>>\\xec\\xddg\\xb4/\\x0f\\xaa\\xe1?\\xf5V\\xc3\\x94\\xd1\\xce65\\xa5)zv\\xe9\\xe1\\xf1N{\\x05\\x97\\x94\\xe5\\xd1\\xedL\\xb8\\\\\\x82=\\xd8>\\xa3\\xc8\\x0f,\\xefO\\xafqIG@\\xfe86\\x02\\xdb\\xa7\\xfdnEo.v\\x110\\x17sas1%i\\x92\\xa4$I\\x92$I\\x92$I\\x92$I\\x92$I\\x92$I\\x92$I\\x92$I\\x92$I\\x92\\x94\\xa4$I\\x92$I\\x92$I\\x92$I\\x92$I\\x92$I\\x92$I\\x92$I\\x92$I\\x92$I\\x92$I\\x92$I\\x92$I\\x92$I\\x92$I\\x7f\\x92$I\\x92$y\\xf2\\xcb\\xff\\xff\\xff\\xff\\xff\\xff\\xff\\xff\\xffv\\xfb\\xff\\xff\\xff\\xff\\xff\\xff\\xff\\xff\\xff\\xff\\xff\\xff\\xff\\xffX\\xb1b\\xc5\\x8a\\x15+\\xd6\\xff\\x7f\\xbb\\x9e\\x8f\\x03V\\xfe\\xc2\\xf8\\xf8?\\xeel\\xaa}|\\x18u\\xff\\xcfsJ\\xe1\\xe3\\xd7\\x1bQ\\xf9\\xd8*\\x00q[\\x85\\xf1\\xe5\\x8f#\\xdb\\xaa\\xf0\\xf1\\x8f\\xff\\xd7iC\\x86\\xbb\\xd5\\xfcU\\xa3\\x9dM\\x05&\\x85\\x9b\\n\\x9c\\x8d\\xe7V\\xa6}\\xeb\\xc4\\xf3\\xbf\\xad\\xc2U\\xe3\\x8f\\x8f/\\x9f\\x13N\\x8e\\x13W\\x0e\\xd4\\xd4\\xffx6\\x94\\xbf\\xdc\\xdaf}\\xfe\\xfc\\xeb\\xed<\\x7f\\x8d\\x87'"
      ]
     },
     "execution_count": 23,
     "metadata": {},
     "output_type": "execute_result"
    }
   ],
   "source": [
    "doc.spacy_doc.to_bytes()"
   ]
  },
  {
   "cell_type": "code",
   "execution_count": null,
   "metadata": {
    "collapsed": true
   },
   "outputs": [],
   "source": []
  },
  {
   "cell_type": "code",
   "execution_count": null,
   "metadata": {
    "collapsed": true
   },
   "outputs": [],
   "source": []
  },
  {
   "cell_type": "code",
   "execution_count": null,
   "metadata": {
    "collapsed": true
   },
   "outputs": [],
   "source": []
  },
  {
   "cell_type": "code",
   "execution_count": null,
   "metadata": {
    "collapsed": true
   },
   "outputs": [],
   "source": []
  },
  {
   "cell_type": "code",
   "execution_count": null,
   "metadata": {
    "collapsed": true
   },
   "outputs": [],
   "source": []
  },
  {
   "cell_type": "code",
   "execution_count": null,
   "metadata": {
    "collapsed": true
   },
   "outputs": [],
   "source": []
  }
 ],
 "metadata": {
  "kernelspec": {
   "display_name": "Python 3",
   "language": "python",
   "name": "python3"
  },
  "language_info": {
   "codemirror_mode": {
    "name": "ipython",
    "version": 3
   },
   "file_extension": ".py",
   "mimetype": "text/x-python",
   "name": "python",
   "nbconvert_exporter": "python",
   "pygments_lexer": "ipython3",
   "version": "3.5.2"
  }
 },
 "nbformat": 4,
 "nbformat_minor": 1
}
