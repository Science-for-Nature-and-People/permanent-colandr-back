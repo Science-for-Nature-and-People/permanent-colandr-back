{
 "cells": [
  {
   "cell_type": "markdown",
   "metadata": {},
   "source": [
    "1. Ingest citation data via uploaded RIS or BibTex files or via manually-entered, individual records\n",
    "1. Parse citation data according to input format and standardize (across formats) field names and values as much as possible\n",
    "1. Munge parsed data into a convenient format for importing into a database, e.g. CSV -> Postgres (see [here](https://www.postgresql.org/docs/9.5/static/sql-copy.html))\n",
    "1. Import citations into database with additional columns for, e.g. citation_id, project_id, user_id, is_duplicate (NULL to start), confirmed_duplicate, ...\n",
    "1. Apply trained dedupe model to new citations vs. existing citations for given project, find possible matches, interactively prompt user to confirm duplicates when in doubt; mark duplicate records in the db accordingly"
   ]
  },
  {
   "cell_type": "code",
   "execution_count": 6,
   "metadata": {
    "collapsed": false
   },
   "outputs": [],
   "source": [
    "import io\n",
    "import logging\n",
    "import os\n",
    "\n",
    "import dedupe\n",
    "\n",
    "import cipy"
   ]
  },
  {
   "cell_type": "code",
   "execution_count": 7,
   "metadata": {
    "collapsed": true
   },
   "outputs": [],
   "source": [
    "logger = logging.getLogger()\n",
    "logging.basicConfig()"
   ]
  },
  {
   "cell_type": "code",
   "execution_count": 11,
   "metadata": {
    "collapsed": false
   },
   "outputs": [],
   "source": [
    "citations_ddl = cipy.db.get_ddl('citations')\n",
    "conn_creds = cipy.db.get_conn_creds('DATABASE_URL')\n",
    "citations_db = cipy.db.PostgresDB(citations_ddl, conn_creds)"
   ]
  },
  {
   "cell_type": "code",
   "execution_count": 22,
   "metadata": {
    "collapsed": true
   },
   "outputs": [],
   "source": [
    "def generate_candidates(results):\n",
    "\n",
    "    lset = set\n",
    "\n",
    "    block_id = None\n",
    "    records = []\n",
    "    i = 0\n",
    "    for row in results:\n",
    "        if row['block_id'] != block_id:\n",
    "            if records:\n",
    "                yield records\n",
    "\n",
    "            block_id = row['block_id']\n",
    "            records = []\n",
    "            i += 1\n",
    "\n",
    "            if i % 10000 == 0:\n",
    "                print(i, \"blocks\")\n",
    "                print(time.time() - start_time, \"seconds\")\n",
    "\n",
    "        smaller_ids = row['smaller_ids']\n",
    "\n",
    "        if smaller_ids:\n",
    "            smaller_ids = lset(smaller_ids.split(','))\n",
    "        else:\n",
    "            smaller_ids = lset([])\n",
    "\n",
    "        records.append((row['citation_id'], row, smaller_ids))\n",
    "\n",
    "    if records:\n",
    "        yield records"
   ]
  },
  {
   "cell_type": "code",
   "execution_count": 26,
   "metadata": {
    "collapsed": true
   },
   "outputs": [],
   "source": [
    "query = \"\"\"\n",
    "SELECT\n",
    "    citation_id, authors, title, abstract,\n",
    "    publication_year, doi, block_id, smaller_ids\n",
    "FROM smaller_coverage \n",
    "INNER JOIN citations \n",
    "USING (citation_id)\n",
    "ORDER BY block_id\n",
    "\"\"\"\n",
    "\n",
    "results = citations_db.run_query(query)"
   ]
  },
  {
   "cell_type": "code",
   "execution_count": 27,
   "metadata": {
    "collapsed": false
   },
   "outputs": [],
   "source": [
    "# for records in generate_candidates(results):\n",
    "#     print(records)\n",
    "#     break"
   ]
  },
  {
   "cell_type": "code",
   "execution_count": 28,
   "metadata": {
    "collapsed": false
   },
   "outputs": [
    {
     "ename": "NameError",
     "evalue": "name 'deduper' is not defined",
     "output_type": "error",
     "traceback": [
      "\u001b[0;31m---------------------------------------------------------------------------\u001b[0m",
      "\u001b[0;31mNameError\u001b[0m                                 Traceback (most recent call last)",
      "\u001b[0;32m<ipython-input-28-023cdab3e615>\u001b[0m in \u001b[0;36m<module>\u001b[0;34m()\u001b[0m\n\u001b[0;32m----> 1\u001b[0;31m \u001b[0mclustered_dupes\u001b[0m \u001b[0;34m=\u001b[0m \u001b[0mdeduper\u001b[0m\u001b[0;34m.\u001b[0m\u001b[0mmatchBlocks\u001b[0m\u001b[0;34m(\u001b[0m\u001b[0mgenerate_candidates\u001b[0m\u001b[0;34m(\u001b[0m\u001b[0mresults\u001b[0m\u001b[0;34m)\u001b[0m\u001b[0;34m,\u001b[0m \u001b[0mthreshold\u001b[0m\u001b[0;34m=\u001b[0m\u001b[0;36m0.5\u001b[0m\u001b[0;34m)\u001b[0m\u001b[0;34m\u001b[0m\u001b[0m\n\u001b[0m",
      "\u001b[0;31mNameError\u001b[0m: name 'deduper' is not defined"
     ]
    }
   ],
   "source": [
    "clustered_dupes = deduper.matchBlocks(generate_candidates(results), threshold=0.5)"
   ]
  },
  {
   "cell_type": "code",
   "execution_count": null,
   "metadata": {
    "collapsed": true
   },
   "outputs": [],
   "source": []
  },
  {
   "cell_type": "code",
   "execution_count": null,
   "metadata": {
    "collapsed": true
   },
   "outputs": [],
   "source": []
  },
  {
   "cell_type": "code",
   "execution_count": null,
   "metadata": {
    "collapsed": true
   },
   "outputs": [],
   "source": []
  },
  {
   "cell_type": "code",
   "execution_count": null,
   "metadata": {
    "collapsed": true
   },
   "outputs": [],
   "source": []
  },
  {
   "cell_type": "code",
   "execution_count": null,
   "metadata": {
    "collapsed": true
   },
   "outputs": [],
   "source": []
  },
  {
   "cell_type": "code",
   "execution_count": null,
   "metadata": {
    "collapsed": true
   },
   "outputs": [],
   "source": []
  },
  {
   "cell_type": "code",
   "execution_count": null,
   "metadata": {
    "collapsed": true
   },
   "outputs": [],
   "source": []
  },
  {
   "cell_type": "code",
   "execution_count": null,
   "metadata": {
    "collapsed": true
   },
   "outputs": [],
   "source": []
  }
 ],
 "metadata": {
  "kernelspec": {
   "display_name": "Python 3",
   "language": "python",
   "name": "python3"
  },
  "language_info": {
   "codemirror_mode": {
    "name": "ipython",
    "version": 3
   },
   "file_extension": ".py",
   "mimetype": "text/x-python",
   "name": "python",
   "nbconvert_exporter": "python",
   "pygments_lexer": "ipython3",
   "version": "3.5.1"
  }
 },
 "nbformat": 4,
 "nbformat_minor": 0
}
