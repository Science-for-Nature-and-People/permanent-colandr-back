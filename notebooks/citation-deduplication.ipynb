{
 "cells": [
  {
   "cell_type": "markdown",
   "metadata": {},
   "source": [
    "1. Ingest citation data via uploaded RIS or BibTex files or via manually-entered, individual records\n",
    "1. Parse citation data according to input format and standardize (across formats) field names and values as much as possible\n",
    "1. Munge parsed data into a convenient format for importing into a database, e.g. CSV -> Postgres (see [here](https://www.postgresql.org/docs/9.5/static/sql-copy.html))\n",
    "1. Import citations into database with additional columns for, e.g. citation_id, project_id, user_id, is_duplicate (NULL to start), confirmed_duplicate, ...\n",
    "1. Apply trained dedupe model to new citations vs. existing citations for given project, find possible matches, interactively prompt user to confirm duplicates when in doubt; mark duplicate records in the db accordingly"
   ]
  },
  {
   "cell_type": "code",
   "execution_count": 1,
   "metadata": {
    "collapsed": false
   },
   "outputs": [],
   "source": [
    "import io\n",
    "import logging\n",
    "import os\n",
    "\n",
    "import dedupe\n",
    "\n",
    "import cipy"
   ]
  },
  {
   "cell_type": "code",
   "execution_count": 2,
   "metadata": {
    "collapsed": true
   },
   "outputs": [],
   "source": [
    "logger = logging.getLogger()\n",
    "logging.basicConfig()"
   ]
  },
  {
   "cell_type": "code",
   "execution_count": 3,
   "metadata": {
    "collapsed": false
   },
   "outputs": [],
   "source": [
    "citations_ddl = cipy.db.get_ddl('citations')\n",
    "conn_creds = cipy.db.get_conn_creds('DATABASE_URL')\n",
    "citations_db = cipy.db.PostgresDB(conn_creds, citations_ddl)"
   ]
  },
  {
   "cell_type": "code",
   "execution_count": 4,
   "metadata": {
    "collapsed": true
   },
   "outputs": [],
   "source": [
    "project_id = 0"
   ]
  },
  {
   "cell_type": "code",
   "execution_count": 5,
   "metadata": {
    "collapsed": false
   },
   "outputs": [],
   "source": [
    "deduper = cipy.db.get_deduper('../models/dedupe_citations_settings')"
   ]
  },
  {
   "cell_type": "code",
   "execution_count": 6,
   "metadata": {
    "collapsed": false
   },
   "outputs": [
    {
     "data": {
      "text/plain": [
       "0.82794285"
      ]
     },
     "execution_count": 6,
     "metadata": {},
     "output_type": "execute_result"
    }
   ],
   "source": [
    "query = \"\"\"\n",
    "SELECT citation_id, authors, title, abstract, publication_year, doi\n",
    "FROM citations\n",
    "WHERE project_id = %(project_id)s\n",
    "ORDER BY random()\n",
    "LIMIT 10000\n",
    "\"\"\"\n",
    "\n",
    "results = citations_db.run_query(query, {'project_id': project_id})\n",
    "\n",
    "dupe_threshold = deduper.threshold({row['citation_id']: cipy.db.db_utils.make_immutable(row)\n",
    "                                    for row in results},\n",
    "                                   recall_weight=0.5)\n",
    "dupe_threshold"
   ]
  },
  {
   "cell_type": "code",
   "execution_count": 7,
   "metadata": {
    "collapsed": false
   },
   "outputs": [],
   "source": [
    "# dupe_confirm_threshold = 0.75 * dupe_threshold\n",
    "# dupe_confirm_threshold"
   ]
  },
  {
   "cell_type": "code",
   "execution_count": 34,
   "metadata": {
    "collapsed": false
   },
   "outputs": [
    {
     "data": {
      "text/plain": [
       "[{'citation_id': 1028},\n",
       " {'citation_id': 1029},\n",
       " {'citation_id': 3078},\n",
       " {'citation_id': 3079},\n",
       " {'citation_id': 1037},\n",
       " {'citation_id': 1038},\n",
       " {'citation_id': 14},\n",
       " {'citation_id': 15},\n",
       " {'citation_id': 3096},\n",
       " {'citation_id': 3095},\n",
       " {'citation_id': 688},\n",
       " {'citation_id': 687},\n",
       " {'citation_id': 15392},\n",
       " {'citation_id': 15393},\n",
       " {'citation_id': 4130},\n",
       " {'citation_id': 4131},\n",
       " {'citation_id': 42},\n",
       " {'citation_id': 43},\n",
       " {'citation_id': 3120},\n",
       " {'citation_id': 8088},\n",
       " {'citation_id': 3123},\n",
       " {'citation_id': 3124},\n",
       " {'citation_id': 59},\n",
       " {'citation_id': 53},\n",
       " {'citation_id': 6706},\n",
       " {'citation_id': 5175},\n",
       " {'citation_id': 10296},\n",
       " {'citation_id': 10297},\n",
       " {'citation_id': 10298},\n",
       " {'citation_id': 1081},\n",
       " {'citation_id': 1082},\n",
       " {'citation_id': 4154},\n",
       " {'citation_id': 4155},\n",
       " {'citation_id': 2107},\n",
       " {'citation_id': 12731},\n",
       " {'citation_id': 3137},\n",
       " {'citation_id': 3138},\n",
       " {'citation_id': 5187},\n",
       " {'citation_id': 5188},\n",
       " {'citation_id': 1092},\n",
       " {'citation_id': 1093},\n",
       " {'citation_id': 1097},\n",
       " {'citation_id': 1095},\n",
       " {'citation_id': 5816},\n",
       " {'citation_id': 5817},\n",
       " {'citation_id': 5815},\n",
       " {'citation_id': 2126},\n",
       " {'citation_id': 2127},\n",
       " {'citation_id': 81},\n",
       " {'citation_id': 82},\n",
       " {'citation_id': 3155},\n",
       " {'citation_id': 3156},\n",
       " {'citation_id': 2132},\n",
       " {'citation_id': 2133},\n",
       " {'citation_id': 3598},\n",
       " {'citation_id': 3599},\n",
       " {'citation_id': 2139},\n",
       " {'citation_id': 2140},\n",
       " {'citation_id': 94},\n",
       " {'citation_id': 95},\n",
       " {'citation_id': 5217},\n",
       " {'citation_id': 5218},\n",
       " {'citation_id': 4198},\n",
       " {'citation_id': 4199},\n",
       " {'citation_id': 1553},\n",
       " {'citation_id': 1554},\n",
       " {'citation_id': 3177},\n",
       " {'citation_id': 3178},\n",
       " {'citation_id': 4202},\n",
       " {'citation_id': 4203},\n",
       " {'citation_id': 2156},\n",
       " {'citation_id': 2157},\n",
       " {'citation_id': 3186},\n",
       " {'citation_id': 3187},\n",
       " {'citation_id': 3188},\n",
       " {'citation_id': 3189},\n",
       " {'citation_id': 3190},\n",
       " {'citation_id': 3191},\n",
       " {'citation_id': 3433},\n",
       " {'citation_id': 3434},\n",
       " {'citation_id': 4216},\n",
       " {'citation_id': 4217},\n",
       " {'citation_id': 12410},\n",
       " {'citation_id': 12411},\n",
       " {'citation_id': 3204},\n",
       " {'citation_id': 3205},\n",
       " {'citation_id': 5253},\n",
       " {'citation_id': 5254},\n",
       " {'citation_id': 4232},\n",
       " {'citation_id': 4231},\n",
       " {'citation_id': 4234},\n",
       " {'citation_id': 4235},\n",
       " {'citation_id': 22667},\n",
       " {'citation_id': 22668},\n",
       " {'citation_id': 2192},\n",
       " {'citation_id': 2189},\n",
       " {'citation_id': 2190},\n",
       " {'citation_id': 2191},\n",
       " {'citation_id': 1168},\n",
       " {'citation_id': 1167},\n",
       " {'citation_id': 3216},\n",
       " {'citation_id': 3217},\n",
       " {'citation_id': 2196},\n",
       " {'citation_id': 2197},\n",
       " {'citation_id': 22681},\n",
       " {'citation_id': 22682},\n",
       " {'citation_id': 5276},\n",
       " {'citation_id': 5277},\n",
       " {'citation_id': 3230},\n",
       " {'citation_id': 3231},\n",
       " {'citation_id': 4256},\n",
       " {'citation_id': 4255},\n",
       " {'citation_id': 5281},\n",
       " {'citation_id': 5282},\n",
       " {'citation_id': 15522},\n",
       " {'citation_id': 15523},\n",
       " {'citation_id': 163},\n",
       " {'citation_id': 164},\n",
       " {'citation_id': 3240},\n",
       " {'citation_id': 3239},\n",
       " {'citation_id': 5288},\n",
       " {'citation_id': 5289},\n",
       " {'citation_id': 4266},\n",
       " {'citation_id': 4267},\n",
       " {'citation_id': 4270},\n",
       " {'citation_id': 4271},\n",
       " {'citation_id': 21387},\n",
       " {'citation_id': 21388},\n",
       " {'citation_id': 883},\n",
       " {'citation_id': 884},\n",
       " {'citation_id': 181},\n",
       " {'citation_id': 182},\n",
       " {'citation_id': 3450},\n",
       " {'citation_id': 3451},\n",
       " {'citation_id': 715},\n",
       " {'citation_id': 716},\n",
       " {'citation_id': 3270},\n",
       " {'citation_id': 3271},\n",
       " {'citation_id': 4299},\n",
       " {'citation_id': 4300},\n",
       " {'citation_id': 1228},\n",
       " {'citation_id': 1229},\n",
       " {'citation_id': 5154},\n",
       " {'citation_id': 5155},\n",
       " {'citation_id': 14545},\n",
       " {'citation_id': 14546},\n",
       " {'citation_id': 21714},\n",
       " {'citation_id': 21715},\n",
       " {'citation_id': 3288},\n",
       " {'citation_id': 3289},\n",
       " {'citation_id': 2265},\n",
       " {'citation_id': 2266},\n",
       " {'citation_id': 1243},\n",
       " {'citation_id': 1244},\n",
       " {'citation_id': 220},\n",
       " {'citation_id': 221},\n",
       " {'citation_id': 2426},\n",
       " {'citation_id': 2427},\n",
       " {'citation_id': 4320},\n",
       " {'citation_id': 4321},\n",
       " {'citation_id': 3299},\n",
       " {'citation_id': 3300},\n",
       " {'citation_id': 2277},\n",
       " {'citation_id': 2278},\n",
       " {'citation_id': 3304},\n",
       " {'citation_id': 3305},\n",
       " {'citation_id': 4330},\n",
       " {'citation_id': 4331},\n",
       " {'citation_id': 3308},\n",
       " {'citation_id': 3309},\n",
       " {'citation_id': 5363},\n",
       " {'citation_id': 5357},\n",
       " {'citation_id': 5365},\n",
       " {'citation_id': 5358},\n",
       " {'citation_id': 4342},\n",
       " {'citation_id': 4343},\n",
       " {'citation_id': 3322},\n",
       " {'citation_id': 3323},\n",
       " {'citation_id': 5373},\n",
       " {'citation_id': 5374},\n",
       " {'citation_id': 1278},\n",
       " {'citation_id': 1279},\n",
       " {'citation_id': 2304},\n",
       " {'citation_id': 2305},\n",
       " {'citation_id': 22793},\n",
       " {'citation_id': 22794},\n",
       " {'citation_id': 5387},\n",
       " {'citation_id': 5388},\n",
       " {'citation_id': 2316},\n",
       " {'citation_id': 2317},\n",
       " {'citation_id': 14605},\n",
       " {'citation_id': 14606},\n",
       " {'citation_id': 3346},\n",
       " {'citation_id': 3347},\n",
       " {'citation_id': 4373},\n",
       " {'citation_id': 4374},\n",
       " {'citation_id': 9499},\n",
       " {'citation_id': 9500},\n",
       " {'citation_id': 1646},\n",
       " {'citation_id': 1647},\n",
       " {'citation_id': 1317},\n",
       " {'citation_id': 1318},\n",
       " {'citation_id': 301},\n",
       " {'citation_id': 303},\n",
       " {'citation_id': 15662},\n",
       " {'citation_id': 15663},\n",
       " {'citation_id': 4401},\n",
       " {'citation_id': 4406},\n",
       " {'citation_id': 26931},\n",
       " {'citation_id': 26932},\n",
       " {'citation_id': 3385},\n",
       " {'citation_id': 3386},\n",
       " {'citation_id': 314},\n",
       " {'citation_id': 315},\n",
       " {'citation_id': 2961},\n",
       " {'citation_id': 2955},\n",
       " {'citation_id': 3396},\n",
       " {'citation_id': 3397},\n",
       " {'citation_id': 3400},\n",
       " {'citation_id': 3399},\n",
       " {'citation_id': 2378},\n",
       " {'citation_id': 2379},\n",
       " {'citation_id': 20812},\n",
       " {'citation_id': 20813},\n",
       " {'citation_id': 4430},\n",
       " {'citation_id': 4431},\n",
       " {'citation_id': 4432},\n",
       " {'citation_id': 4433},\n",
       " {'citation_id': 3409},\n",
       " {'citation_id': 3410},\n",
       " {'citation_id': 344},\n",
       " {'citation_id': 343},\n",
       " {'citation_id': 2392},\n",
       " {'citation_id': 2394},\n",
       " {'citation_id': 1374},\n",
       " {'citation_id': 1375},\n",
       " {'citation_id': 4450},\n",
       " {'citation_id': 4452},\n",
       " {'citation_id': 5476},\n",
       " {'citation_id': 5477},\n",
       " {'citation_id': 3430},\n",
       " {'citation_id': 3431},\n",
       " {'citation_id': 360},\n",
       " {'citation_id': 361},\n",
       " {'citation_id': 2409},\n",
       " {'citation_id': 2410},\n",
       " {'citation_id': 4459},\n",
       " {'citation_id': 4460},\n",
       " {'citation_id': 366},\n",
       " {'citation_id': 367},\n",
       " {'citation_id': 3440},\n",
       " {'citation_id': 20589},\n",
       " {'citation_id': 371},\n",
       " {'citation_id': 372},\n",
       " {'citation_id': 9590},\n",
       " {'citation_id': 9591},\n",
       " {'citation_id': 1428},\n",
       " {'citation_id': 1429},\n",
       " {'citation_id': 5504},\n",
       " {'citation_id': 5498},\n",
       " {'citation_id': 5499},\n",
       " {'citation_id': 5567},\n",
       " {'citation_id': 5506},\n",
       " {'citation_id': 5500},\n",
       " {'citation_id': 3458},\n",
       " {'citation_id': 3459},\n",
       " {'citation_id': 387},\n",
       " {'citation_id': 388},\n",
       " {'citation_id': 5868},\n",
       " {'citation_id': 5869},\n",
       " {'citation_id': 5515},\n",
       " {'citation_id': 5516},\n",
       " {'citation_id': 5698},\n",
       " {'citation_id': 5699},\n",
       " {'citation_id': 2450},\n",
       " {'citation_id': 2451},\n",
       " {'citation_id': 2115},\n",
       " {'citation_id': 2117},\n",
       " {'citation_id': 1309},\n",
       " {'citation_id': 1310},\n",
       " {'citation_id': 3480},\n",
       " {'citation_id': 3481},\n",
       " {'citation_id': 410},\n",
       " {'citation_id': 411},\n",
       " {'citation_id': 6117},\n",
       " {'citation_id': 6118},\n",
       " {'citation_id': 7580},\n",
       " {'citation_id': 7581},\n",
       " {'citation_id': 413},\n",
       " {'citation_id': 414},\n",
       " {'citation_id': 1438},\n",
       " {'citation_id': 1439},\n",
       " {'citation_id': 4518},\n",
       " {'citation_id': 4519},\n",
       " {'citation_id': 5873},\n",
       " {'citation_id': 5874},\n",
       " {'citation_id': 5545},\n",
       " {'citation_id': 5550},\n",
       " {'citation_id': 20913},\n",
       " {'citation_id': 20914},\n",
       " {'citation_id': 4534},\n",
       " {'citation_id': 4535},\n",
       " {'citation_id': 5562},\n",
       " {'citation_id': 5563},\n",
       " {'citation_id': 8635},\n",
       " {'citation_id': 8636},\n",
       " {'citation_id': 5565},\n",
       " {'citation_id': 5566},\n",
       " {'citation_id': 3518},\n",
       " {'citation_id': 3519},\n",
       " {'citation_id': 458},\n",
       " {'citation_id': 459},\n",
       " {'citation_id': 1473},\n",
       " {'citation_id': 1474},\n",
       " {'citation_id': 450},\n",
       " {'citation_id': 2855},\n",
       " {'citation_id': 3147},\n",
       " {'citation_id': 3148},\n",
       " {'citation_id': 453},\n",
       " {'citation_id': 454},\n",
       " {'citation_id': 2502},\n",
       " {'citation_id': 2503},\n",
       " {'citation_id': 1480},\n",
       " {'citation_id': 1479},\n",
       " {'citation_id': 2504},\n",
       " {'citation_id': 2505},\n",
       " {'citation_id': 5578},\n",
       " {'citation_id': 5581},\n",
       " {'citation_id': 1483},\n",
       " {'citation_id': 1486},\n",
       " {'citation_id': 460},\n",
       " {'citation_id': 461},\n",
       " {'citation_id': 2510},\n",
       " {'citation_id': 2511},\n",
       " {'citation_id': 1102},\n",
       " {'citation_id': 1103},\n",
       " {'citation_id': 3542},\n",
       " {'citation_id': 3543},\n",
       " {'citation_id': 472},\n",
       " {'citation_id': 471},\n",
       " {'citation_id': 3547},\n",
       " {'citation_id': 3548},\n",
       " {'citation_id': 2524},\n",
       " {'citation_id': 2525},\n",
       " {'citation_id': 1502},\n",
       " {'citation_id': 1503},\n",
       " {'citation_id': 2529},\n",
       " {'citation_id': 2530},\n",
       " {'citation_id': 3555},\n",
       " {'citation_id': 3556},\n",
       " {'citation_id': 4581},\n",
       " {'citation_id': 4583},\n",
       " {'citation_id': 2129},\n",
       " {'citation_id': 2130},\n",
       " {'citation_id': 1513},\n",
       " {'citation_id': 1514},\n",
       " {'citation_id': 3562},\n",
       " {'citation_id': 3563},\n",
       " {'citation_id': 4587},\n",
       " {'citation_id': 4588},\n",
       " {'citation_id': 494},\n",
       " {'citation_id': 495},\n",
       " {'citation_id': 2302},\n",
       " {'citation_id': 2303},\n",
       " {'citation_id': 3157},\n",
       " {'citation_id': 3158},\n",
       " {'citation_id': 15616},\n",
       " {'citation_id': 15617},\n",
       " {'citation_id': 2564},\n",
       " {'citation_id': 2565},\n",
       " {'citation_id': 518},\n",
       " {'citation_id': 519},\n",
       " {'citation_id': 4616},\n",
       " {'citation_id': 4617},\n",
       " {'citation_id': 4620},\n",
       " {'citation_id': 4621},\n",
       " {'citation_id': 1550},\n",
       " {'citation_id': 1551},\n",
       " {'citation_id': 5649},\n",
       " {'citation_id': 5650},\n",
       " {'citation_id': 4630},\n",
       " {'citation_id': 4631},\n",
       " {'citation_id': 4636},\n",
       " {'citation_id': 4637},\n",
       " {'citation_id': 2590},\n",
       " {'citation_id': 2591},\n",
       " {'citation_id': 2592},\n",
       " {'citation_id': 2593},\n",
       " {'citation_id': 5211},\n",
       " {'citation_id': 5212},\n",
       " {'citation_id': 2596},\n",
       " {'citation_id': 2597},\n",
       " {'citation_id': 2599},\n",
       " {'citation_id': 690},\n",
       " {'citation_id': 555},\n",
       " {'citation_id': 3629},\n",
       " {'citation_id': 3630},\n",
       " {'citation_id': 26130},\n",
       " {'citation_id': 9782},\n",
       " {'citation_id': 2616},\n",
       " {'citation_id': 2617},\n",
       " {'citation_id': 5689},\n",
       " {'citation_id': 5690},\n",
       " {'citation_id': 571},\n",
       " {'citation_id': 572},\n",
       " {'citation_id': 15938},\n",
       " {'citation_id': 15939},\n",
       " {'citation_id': 2998},\n",
       " {'citation_id': 2999},\n",
       " {'citation_id': 1606},\n",
       " {'citation_id': 1607},\n",
       " {'citation_id': 1121},\n",
       " {'citation_id': 1122},\n",
       " {'citation_id': 584},\n",
       " {'citation_id': 585},\n",
       " {'citation_id': 3659},\n",
       " {'citation_id': 3660},\n",
       " {'citation_id': 3661},\n",
       " {'citation_id': 3662},\n",
       " {'citation_id': 5713},\n",
       " {'citation_id': 5714},\n",
       " {'citation_id': 26211},\n",
       " {'citation_id': 26212},\n",
       " {'citation_id': 3669},\n",
       " {'citation_id': 3670},\n",
       " {'citation_id': 2646},\n",
       " {'citation_id': 2647},\n",
       " {'citation_id': 2490},\n",
       " {'citation_id': 2491},\n",
       " {'citation_id': 2654},\n",
       " {'citation_id': 2655},\n",
       " {'citation_id': 8802},\n",
       " {'citation_id': 8803},\n",
       " {'citation_id': 2659},\n",
       " {'citation_id': 2660},\n",
       " {'citation_id': 616},\n",
       " {'citation_id': 615},\n",
       " {'citation_id': 5738},\n",
       " {'citation_id': 5739},\n",
       " {'citation_id': 619},\n",
       " {'citation_id': 620},\n",
       " {'citation_id': 622},\n",
       " {'citation_id': 623},\n",
       " {'citation_id': 626},\n",
       " {'citation_id': 627},\n",
       " {'citation_id': 4724},\n",
       " {'citation_id': 4725},\n",
       " {'citation_id': 632},\n",
       " {'citation_id': 630},\n",
       " {'citation_id': 633},\n",
       " {'citation_id': 631},\n",
       " {'citation_id': 4728},\n",
       " {'citation_id': 5165},\n",
       " {'citation_id': 3860},\n",
       " {'citation_id': 3861},\n",
       " {'citation_id': 4730},\n",
       " {'citation_id': 4731},\n",
       " {'citation_id': 7804},\n",
       " {'citation_id': 7805},\n",
       " {'citation_id': 10880},\n",
       " {'citation_id': 10879},\n",
       " {'citation_id': 4738},\n",
       " {'citation_id': 4739},\n",
       " {'citation_id': 3716},\n",
       " {'citation_id': 3717},\n",
       " {'citation_id': 646},\n",
       " {'citation_id': 647},\n",
       " {'citation_id': 5770},\n",
       " {'citation_id': 5771},\n",
       " {'citation_id': 4747},\n",
       " {'citation_id': 4748},\n",
       " {'citation_id': 3010},\n",
       " {'citation_id': 3011},\n",
       " {'citation_id': 656},\n",
       " {'citation_id': 658},\n",
       " {'citation_id': 3729},\n",
       " {'citation_id': 3730},\n",
       " {'citation_id': 4757},\n",
       " {'citation_id': 4758},\n",
       " {'citation_id': 2710},\n",
       " {'citation_id': 2711},\n",
       " {'citation_id': 15008},\n",
       " {'citation_id': 15007},\n",
       " {'citation_id': 4769},\n",
       " {'citation_id': 4770},\n",
       " {'citation_id': 11938},\n",
       " {'citation_id': 11939},\n",
       " {'citation_id': 6825},\n",
       " {'citation_id': 6826},\n",
       " {'citation_id': 2674},\n",
       " {'citation_id': 2675},\n",
       " {'citation_id': 4784},\n",
       " {'citation_id': 4783},\n",
       " {'citation_id': 4552},\n",
       " {'citation_id': 4553},\n",
       " {'citation_id': 3765},\n",
       " {'citation_id': 3766},\n",
       " {'citation_id': 10934},\n",
       " {'citation_id': 10935},\n",
       " {'citation_id': 1720},\n",
       " {'citation_id': 1719},\n",
       " {'citation_id': 800},\n",
       " {'citation_id': 799},\n",
       " {'citation_id': 5821},\n",
       " {'citation_id': 5822},\n",
       " {'citation_id': 2754},\n",
       " {'citation_id': 2755},\n",
       " {'citation_id': 4805},\n",
       " {'citation_id': 4806},\n",
       " {'citation_id': 13000},\n",
       " {'citation_id': 12998},\n",
       " {'citation_id': 2849},\n",
       " {'citation_id': 2850},\n",
       " {'citation_id': 3786},\n",
       " {'citation_id': 3787},\n",
       " {'citation_id': 5752},\n",
       " {'citation_id': 5751},\n",
       " {'citation_id': 5837},\n",
       " {'citation_id': 12487},\n",
       " {'citation_id': 4814},\n",
       " {'citation_id': 4815},\n",
       " {'citation_id': 4816},\n",
       " {'citation_id': 4817},\n",
       " {'citation_id': 5240},\n",
       " {'citation_id': 5241},\n",
       " {'citation_id': 5413},\n",
       " {'citation_id': 5414},\n",
       " {'citation_id': 1762},\n",
       " {'citation_id': 1763},\n",
       " {'citation_id': 5864},\n",
       " {'citation_id': 5865},\n",
       " {'citation_id': 4732},\n",
       " {'citation_id': 4733},\n",
       " {'citation_id': 2796},\n",
       " {'citation_id': 2797},\n",
       " {'citation_id': 2002},\n",
       " {'citation_id': 2003},\n",
       " {'citation_id': 4848},\n",
       " {'citation_id': 4847},\n",
       " {'citation_id': 3824},\n",
       " {'citation_id': 3827},\n",
       " {'citation_id': 3825},\n",
       " {'citation_id': 3826},\n",
       " {'citation_id': 4853},\n",
       " {'citation_id': 4854},\n",
       " {'citation_id': 5880},\n",
       " {'citation_id': 5879},\n",
       " {'citation_id': 5882},\n",
       " {'citation_id': 5883},\n",
       " {'citation_id': 5884},\n",
       " {'citation_id': 5885},\n",
       " {'citation_id': 5886},\n",
       " {'citation_id': 1493},\n",
       " {'citation_id': 1494},\n",
       " {'citation_id': 768},\n",
       " {'citation_id': 769},\n",
       " {'citation_id': 1795},\n",
       " {'citation_id': 1796},\n",
       " {'citation_id': 1800},\n",
       " {'citation_id': 1799},\n",
       " {'citation_id': 3606},\n",
       " {'citation_id': 3607},\n",
       " {'citation_id': 2830},\n",
       " {'citation_id': 2831},\n",
       " {'citation_id': 23312},\n",
       " {'citation_id': 23313},\n",
       " {'citation_id': 4882},\n",
       " {'citation_id': 4883},\n",
       " {'citation_id': 4884},\n",
       " {'citation_id': 4885},\n",
       " {'citation_id': 5913},\n",
       " {'citation_id': 5914},\n",
       " {'citation_id': 2848},\n",
       " {'citation_id': 2847},\n",
       " {'citation_id': 6944},\n",
       " {'citation_id': 6945},\n",
       " {'citation_id': 1825},\n",
       " {'citation_id': 1826},\n",
       " {'citation_id': 4898},\n",
       " {'citation_id': 4899},\n",
       " {'citation_id': 2853},\n",
       " {'citation_id': 2854},\n",
       " {'citation_id': 3880},\n",
       " {'citation_id': 3879},\n",
       " {'citation_id': 1835},\n",
       " {'citation_id': 1836},\n",
       " {'citation_id': 3885},\n",
       " {'citation_id': 3886},\n",
       " {'citation_id': 2865},\n",
       " {'citation_id': 2866},\n",
       " {'citation_id': 9010},\n",
       " {'citation_id': 9011},\n",
       " {'citation_id': 3894},\n",
       " {'citation_id': 3895},\n",
       " {'citation_id': 4929},\n",
       " {'citation_id': 4930},\n",
       " {'citation_id': 4931},\n",
       " {'citation_id': 4932},\n",
       " {'citation_id': 4918},\n",
       " {'citation_id': 4919},\n",
       " {'citation_id': 2886},\n",
       " {'citation_id': 2887},\n",
       " {'citation_id': 1864},\n",
       " {'citation_id': 1863},\n",
       " {'citation_id': 843},\n",
       " {'citation_id': 844},\n",
       " {'citation_id': 4940},\n",
       " {'citation_id': 4941},\n",
       " {'citation_id': 1873},\n",
       " {'citation_id': 1871},\n",
       " {'citation_id': 860},\n",
       " {'citation_id': 861},\n",
       " {'citation_id': 2533},\n",
       " {'citation_id': 2534},\n",
       " {'citation_id': 866},\n",
       " {'citation_id': 867},\n",
       " {'citation_id': 2915},\n",
       " {'citation_id': 2917},\n",
       " {'citation_id': 17253},\n",
       " {'citation_id': 5990},\n",
       " {'citation_id': 5992},\n",
       " {'citation_id': 5993},\n",
       " {'citation_id': 2923},\n",
       " {'citation_id': 2924},\n",
       " {'citation_id': 20337},\n",
       " {'citation_id': 20338},\n",
       " {'citation_id': 1907},\n",
       " {'citation_id': 1908},\n",
       " {'citation_id': 4984},\n",
       " {'citation_id': 4985},\n",
       " {'citation_id': 4987},\n",
       " {'citation_id': 4988},\n",
       " {'citation_id': 1917},\n",
       " {'citation_id': 1918},\n",
       " {'citation_id': 1685},\n",
       " {'citation_id': 1686},\n",
       " {'citation_id': 3968},\n",
       " {'citation_id': 3969},\n",
       " {'citation_id': 5099},\n",
       " {'citation_id': 5100},\n",
       " {'citation_id': 6026},\n",
       " {'citation_id': 6027},\n",
       " {'citation_id': 5003},\n",
       " {'citation_id': 5004},\n",
       " {'citation_id': 909},\n",
       " {'citation_id': 910},\n",
       " {'citation_id': 5009},\n",
       " {'citation_id': 5010},\n",
       " {'citation_id': 5102},\n",
       " {'citation_id': 5103},\n",
       " {'citation_id': 920},\n",
       " {'citation_id': 921},\n",
       " {'citation_id': 922},\n",
       " {'citation_id': 923},\n",
       " {'citation_id': 1953},\n",
       " {'citation_id': 1954},\n",
       " {'citation_id': 2980},\n",
       " {'citation_id': 2981},\n",
       " {'citation_id': 2145},\n",
       " {'citation_id': 2146},\n",
       " {'citation_id': 937},\n",
       " {'citation_id': 938},\n",
       " {'citation_id': 944},\n",
       " {'citation_id': 943},\n",
       " {'citation_id': 21429},\n",
       " {'citation_id': 21430},\n",
       " {'citation_id': 4022},\n",
       " {'citation_id': 4023},\n",
       " {'citation_id': 6073},\n",
       " {'citation_id': 6074},\n",
       " {'citation_id': 4026},\n",
       " {'citation_id': 4027},\n",
       " {'citation_id': 5058},\n",
       " {'citation_id': 5059},\n",
       " {'citation_id': 963},\n",
       " {'citation_id': 964},\n",
       " {'citation_id': 3233},\n",
       " {'citation_id': 3234},\n",
       " {'citation_id': 3404},\n",
       " {'citation_id': 3405},\n",
       " {'citation_id': 15306},\n",
       " {'citation_id': 15307},\n",
       " {'citation_id': 5794},\n",
       " {'citation_id': 5795},\n",
       " {'citation_id': 3026},\n",
       " {'citation_id': 3027},\n",
       " {'citation_id': 4051},\n",
       " {'citation_id': 4052},\n",
       " {'citation_id': 7124},\n",
       " {'citation_id': 7125},\n",
       " {'citation_id': 27605},\n",
       " {'citation_id': 27606},\n",
       " {'citation_id': 2006},\n",
       " {'citation_id': 2007},\n",
       " {'citation_id': 5083},\n",
       " {'citation_id': 5084},\n",
       " {'citation_id': 5088},\n",
       " {'citation_id': 5089},\n",
       " {'citation_id': 2019},\n",
       " {'citation_id': 2020},\n",
       " {'citation_id': 3045},\n",
       " {'citation_id': 3046},\n",
       " {'citation_id': 998},\n",
       " {'citation_id': 999},\n",
       " {'citation_id': 4074},\n",
       " {'citation_id': 4075},\n",
       " {'citation_id': 1192},\n",
       " {'citation_id': 1191},\n",
       " {'citation_id': 4078},\n",
       " {'citation_id': 4079},\n",
       " {'citation_id': 6141},\n",
       " {'citation_id': 6142},\n",
       " {'citation_id': 22515},\n",
       " {'citation_id': 22516},\n",
       " {'citation_id': 5108},\n",
       " {'citation_id': 5109},\n",
       " {'citation_id': 3065},\n",
       " {'citation_id': 3066},\n",
       " {'citation_id': 16378},\n",
       " {'citation_id': 16379},\n",
       " {'citation_id': 818},\n",
       " {'citation_id': 819},\n",
       " {'citation_id': 5116},\n",
       " {'citation_id': 5117},\n",
       " {'citation_id': 19626},\n",
       " {'citation_id': 19627}]"
      ]
     },
     "execution_count": 34,
     "metadata": {},
     "output_type": "execute_result"
    }
   ],
   "source": [
    "list(citations_db.run_query('SELECT citation_id FROM duplicates'))"
   ]
  },
  {
   "cell_type": "code",
   "execution_count": 31,
   "metadata": {
    "collapsed": true
   },
   "outputs": [],
   "source": [
    "def get_candidate_dupes(citations_db, project_id):\n",
    "    \"\"\"\n",
    "    Args:\n",
    "        citations_db (cipy.db.PostgresDB)\n",
    "        project_id (int)\n",
    "        \n",
    "    Yields:\n",
    "        list[tuple]\n",
    "    \"\"\"\n",
    "    query = \"\"\"\n",
    "    SELECT\n",
    "        t1.citation_id, t1.authors, t1.title, t1.abstract, t1.publication_year, t1.doi,\n",
    "        t2.block_id, t2.smaller_ids\n",
    "    FROM\n",
    "        citations AS t1,\n",
    "        dedupe_smaller_coverage AS t2\n",
    "    WHERE\n",
    "        project_id = %(project_id)s\n",
    "        AND t1.citation_id = t2.citation_id\n",
    "        AND t1.citation_id NOT IN (SELECT citation_id\n",
    "                                   FROM duplicates\n",
    "                                   WHERE project_id = %(project_id)s)\n",
    "    ORDER BY t2.block_id\n",
    "    \"\"\"\n",
    "    results = citations_db.run_query(query, {'project_id': project_id})\n",
    "    \n",
    "    block_id = None\n",
    "    records = []\n",
    "    for row in results:\n",
    "        if row['block_id'] != block_id:\n",
    "            if records:\n",
    "                yield records\n",
    "\n",
    "            block_id = row['block_id']\n",
    "            records = []\n",
    "\n",
    "        smaller_ids = row['smaller_ids']\n",
    "        if smaller_ids:\n",
    "            smaller_ids = set(smaller_ids.split(','))\n",
    "        else:\n",
    "            smaller_ids = set()\n",
    "        \n",
    "        records.append((row['citation_id'],\n",
    "                        cipy.db.make_immutable(row),\n",
    "                        smaller_ids))\n",
    "\n",
    "    if records:\n",
    "        yield records"
   ]
  },
  {
   "cell_type": "code",
   "execution_count": 32,
   "metadata": {
    "collapsed": false,
    "scrolled": true
   },
   "outputs": [
    {
     "name": "stdout",
     "output_type": "stream",
     "text": [
      "[(17429, {'block_id': 1, 'smaller_ids': '', 'title': 'Building financially sustainable incentives for environmental conservation into small enterprise development', 'publication_year': 2002, 'doi': None, 'authors': ('Millard, E',), 'citation_id': 17429, 'abstract': 'The countries facing the largest challenges of unemployment, population growth and poverty are also those that contain the most important biological diversity. Many economic growth policies threaten the environment, through exploitation of natural resources and large industrial development that earns foreign exchange. These in turn increase poverty, as deforestation reduces soil quality, over-harvesting the land and sea reduces food security and people lose access to traditional resources. The challenge is to identify approaches to development that conserve the environment. Recent initiatives demonstrate that incentives can be created for small enterprises to invest in conservation in a financially sustainable way.'}, set()), (17428, {'block_id': 1, 'smaller_ids': '', 'title': 'Incorporating agroforestry approaches into commodity value chains', 'publication_year': 2011, 'doi': None, 'authors': ('Millard, E',), 'citation_id': 17428, 'abstract': 'The productivity of tropical agricultural commodities is affected by the health of the ecosystem. Shade tolerant crops such as coffee and cocoa benefit from environmental services provided by forested landscapes, enabling landscape design that meets biodiversity conservation and economic needs. What can motivate farmers to apply and maintain such landscape approaches? Rather than rely on a proliferation of externally funded projects new opportunities are emerging through the international market that buys these commodities. As part of their growing commitment to sustainable supply chains, major companies are supporting agroforestry approaches and requiring producers and traders to demonstrate that the source of their commodities complies with a set of principles that conserves forested landscapes and improves local livelihoods. The paper presents examples of international companies that are moving in this direction, analyzes why and how they are doing it and discusses the impact that has been measured in coffee and cocoa communities in Latin America and Africa. It particularly considers the role of standards and certification systems as a driver of this commitment to promote profitable operations, environmental conservation and social responsibility throughout the coffee and cocoa value chains. Such approaches are already being taken to scale and are no longer operating only in small niches of the market but the paper also considers the limitations to growth in this market-based approach. © 2011 Springer Science+Business Media, LLC.'}, set())]\n"
     ]
    }
   ],
   "source": [
    "for records in get_candidate_dupes(citations_db, 0):\n",
    "    print(records)\n",
    "    break"
   ]
  },
  {
   "cell_type": "code",
   "execution_count": 10,
   "metadata": {
    "collapsed": false
   },
   "outputs": [
    {
     "data": {
      "text/plain": [
       "(17429,\n",
       " {'abstract': 'The countries facing the largest challenges of unemployment, population growth and poverty are also those that contain the most important biological diversity. Many economic growth policies threaten the environment, through exploitation of natural resources and large industrial development that earns foreign exchange. These in turn increase poverty, as deforestation reduces soil quality, over-harvesting the land and sea reduces food security and people lose access to traditional resources. The challenge is to identify approaches to development that conserve the environment. Recent initiatives demonstrate that incentives can be created for small enterprises to invest in conservation in a financially sustainable way.',\n",
       "  'authors': ('Millard, E',),\n",
       "  'block_id': 1,\n",
       "  'citation_id': 17429,\n",
       "  'doi': None,\n",
       "  'publication_year': 2002,\n",
       "  'smaller_ids': '',\n",
       "  'title': 'Building financially sustainable incentives for environmental conservation into small enterprise development'},\n",
       " set())"
      ]
     },
     "execution_count": 10,
     "metadata": {},
     "output_type": "execute_result"
    }
   ],
   "source": [
    "records[0]"
   ]
  },
  {
   "cell_type": "code",
   "execution_count": 35,
   "metadata": {
    "collapsed": false
   },
   "outputs": [],
   "source": [
    "clustered_dupes = deduper.matchBlocks(get_candidate_dupes(citations_db, 0),\n",
    "                                      threshold=dupe_threshold)"
   ]
  },
  {
   "cell_type": "code",
   "execution_count": 12,
   "metadata": {
    "collapsed": false
   },
   "outputs": [
    {
     "name": "stdout",
     "output_type": "stream",
     "text": [
      "(10296, 10297, 10298) [ 0.92679411  0.92115211  0.92679411]\n",
      "(5815, 5816, 5817) [ 0.99997786  0.99997643  0.99997753]\n",
      "(2596, 2597, 2599) [ 0.9320623   0.96693608  0.96510524]\n"
     ]
    }
   ],
   "source": [
    "for cluster, scores in clustered_dupes:\n",
    "    if scores[0] != scores[1]:\n",
    "        print(cluster, scores)\n",
    "#     cluster_id = cluster[0]\n",
    "#     for citation_id, score in zip(cluster, scores):\n",
    "#         print(citation_id, score)"
   ]
  },
  {
   "cell_type": "code",
   "execution_count": 36,
   "metadata": {
    "collapsed": false
   },
   "outputs": [
    {
     "data": {
      "text/plain": [
       "0"
      ]
     },
     "execution_count": 36,
     "metadata": {},
     "output_type": "execute_result"
    }
   ],
   "source": [
    "len(clustered_dupes)"
   ]
  },
  {
   "cell_type": "code",
   "execution_count": 14,
   "metadata": {
    "collapsed": false
   },
   "outputs": [],
   "source": [
    "from operator import itemgetter\n",
    "import numpy as np"
   ]
  },
  {
   "cell_type": "code",
   "execution_count": 15,
   "metadata": {
    "collapsed": false
   },
   "outputs": [],
   "source": [
    "query = \"\"\"\n",
    "SELECT\n",
    "    citation_id,\n",
    "    ((CASE WHEN authors IS NULL THEN 1 ELSE 0 END)\n",
    "    + (CASE WHEN title IS NULL THEN 1 ELSE 0 END)\n",
    "    + (CASE WHEN abstract IS NULL THEN 1 ELSE 0 END)\n",
    "    + (CASE WHEN publication_year IS NULL THEN 1 ELSE 0 END)\n",
    "    + (CASE WHEN doi IS NULL THEN 1 ELSE 0 END)\n",
    "    + (CASE WHEN type_of_work IS NULL THEN 1 ELSE 0 END)\n",
    "    + (CASE WHEN publication_month IS NULL THEN 1 ELSE 0 END)\n",
    "    + (CASE WHEN keywords IS NULL THEN 1 ELSE 0 END)\n",
    "    + (CASE WHEN journal_name IS NULL THEN 1 ELSE 0 END)\n",
    "    + (CASE WHEN type_of_reference IS NULL THEN 1 ELSE 0 END)\n",
    "    + (CASE WHEN volume IS NULL THEN 1 ELSE 0 END)\n",
    "    + (CASE WHEN issue_number IS NULL THEN 1 ELSE 0 END)\n",
    "    + (CASE WHEN issn IS NULL THEN 1 ELSE 0 END)\n",
    "    + (CASE WHEN publisher IS NULL THEN 1 ELSE 0 END)\n",
    "    + (CASE WHEN language IS NULL THEN 1 ELSE 0 END)) AS n_null_cols\n",
    "FROM citations\n",
    "WHERE\n",
    "    project_id = %(project_id)s\n",
    "    AND citation_id IN ({})\n",
    "ORDER BY n_null_cols ASC\n",
    "LIMIT 1\n",
    "\"\"\"\n",
    "\n",
    "insert_values = []\n",
    "\n",
    "for cids, scores in clustered_dupes:\n",
    "\n",
    "    citation_duplicate_scores = {cid: score\n",
    "                                 for cid, score in zip(cids, scores)}\n",
    "    \n",
    "    canonical_citation = citations_db.run_query(\n",
    "        query.format(','.join(str(cid) for cid in cids)),\n",
    "        {'project_id': project_id})\n",
    "    canonical_citation_id = tuple(canonical_citation)[0]['citation_id']\n",
    "    \n",
    "    insert_values.extend(\n",
    "        (citation_id, project_id, canonical_citation_id, duplicate_score, False, None)\n",
    "        for citation_id, duplicate_score in citation_duplicate_scores.items())"
   ]
  },
  {
   "cell_type": "code",
   "execution_count": 28,
   "metadata": {
    "collapsed": true
   },
   "outputs": [],
   "source": [
    "import csv\n",
    "import tempfile\n",
    "\n",
    "csv_file = tempfile.NamedTemporaryFile(\n",
    "    prefix='duplicates_', delete=False, mode='wt')\n",
    "csv_writer = csv.writer(csv_file)\n",
    "\n",
    "for cids, scores in clustered_dupes:\n",
    "    citation_duplicate_scores = {cid: score\n",
    "                                 for cid, score in zip(cids, scores)}\n",
    "    canonical_citation = citations_db.run_query(\n",
    "        query.format(','.join(str(cid) for cid in cids)),\n",
    "        {'project_id': project_id})\n",
    "    canonical_citation_id = tuple(canonical_citation)[0]['citation_id']\n",
    "    \n",
    "    for citation_id, duplicate_score in citation_duplicate_scores.items():\n",
    "        csv_writer.writerow(\n",
    "            (citation_id, project_id, canonical_citation_id, duplicate_score, False, None))\n",
    "\n",
    "csv_file.close()"
   ]
  },
  {
   "cell_type": "code",
   "execution_count": 29,
   "metadata": {
    "collapsed": true
   },
   "outputs": [],
   "source": [
    "import psycopg2"
   ]
  },
  {
   "cell_type": "code",
   "execution_count": 30,
   "metadata": {
    "collapsed": false
   },
   "outputs": [],
   "source": [
    "try:\n",
    "    with io.open(csv_file.name, mode='rt') as f:\n",
    "        with duplicates_db.conn.cursor() as cur:\n",
    "            cur.copy_expert('COPY duplicates FROM STDIN CSV', f)\n",
    "except psycopg2.DataError as e:\n",
    "    print(e)\n",
    "    #LOGGER.exception()"
   ]
  },
  {
   "cell_type": "code",
   "execution_count": 27,
   "metadata": {
    "collapsed": true
   },
   "outputs": [],
   "source": [
    "os.remove(csv_file.name)"
   ]
  },
  {
   "cell_type": "code",
   "execution_count": null,
   "metadata": {
    "collapsed": false
   },
   "outputs": [],
   "source": []
  },
  {
   "cell_type": "code",
   "execution_count": 16,
   "metadata": {
    "collapsed": false
   },
   "outputs": [
    {
     "data": {
      "text/plain": [
       "726"
      ]
     },
     "execution_count": 16,
     "metadata": {},
     "output_type": "execute_result"
    }
   ],
   "source": [
    "len(insert_values)"
   ]
  },
  {
   "cell_type": "code",
   "execution_count": 17,
   "metadata": {
    "collapsed": false
   },
   "outputs": [
    {
     "data": {
      "text/plain": [
       "(1028, 0, 1028, 0.99991339, False)"
      ]
     },
     "execution_count": 17,
     "metadata": {},
     "output_type": "execute_result"
    }
   ],
   "source": [
    "insert_values[0]"
   ]
  },
  {
   "cell_type": "code",
   "execution_count": 18,
   "metadata": {
    "collapsed": false
   },
   "outputs": [],
   "source": [
    "duplicates_ddl = cipy.db.get_ddl('duplicates')\n",
    "duplicates_db = cipy.db.PostgresDB(conn_creds, duplicates_ddl)"
   ]
  },
  {
   "cell_type": "code",
   "execution_count": 19,
   "metadata": {
    "collapsed": false
   },
   "outputs": [],
   "source": [
    "duplicates_db.create_table()"
   ]
  },
  {
   "cell_type": "code",
   "execution_count": null,
   "metadata": {
    "collapsed": true
   },
   "outputs": [],
   "source": []
  },
  {
   "cell_type": "code",
   "execution_count": null,
   "metadata": {
    "collapsed": true
   },
   "outputs": [],
   "source": [
    "query = cur.copy_from(f, 'test', columns=('num', 'data'))\n",
    "\n",
    "with duplicates_db.conn.cursor() as cur:\n",
    "    cur.copy_from()"
   ]
  },
  {
   "cell_type": "code",
   "execution_count": null,
   "metadata": {
    "collapsed": false
   },
   "outputs": [],
   "source": []
  },
  {
   "cell_type": "code",
   "execution_count": null,
   "metadata": {
    "collapsed": false
   },
   "outputs": [],
   "source": []
  },
  {
   "cell_type": "code",
   "execution_count": null,
   "metadata": {
    "collapsed": false
   },
   "outputs": [],
   "source": []
  },
  {
   "cell_type": "code",
   "execution_count": null,
   "metadata": {
    "collapsed": true
   },
   "outputs": [],
   "source": []
  },
  {
   "cell_type": "code",
   "execution_count": 38,
   "metadata": {
    "collapsed": true
   },
   "outputs": [],
   "source": [
    "import json\n",
    "\n",
    "with open('/Users/burtondewilde/Desktop/datakind/ci/conservation-intl/models/dedupe_citations_training.json') as f:\n",
    "    training = json.load(f)"
   ]
  },
  {
   "cell_type": "code",
   "execution_count": 49,
   "metadata": {
    "collapsed": false
   },
   "outputs": [
    {
     "name": "stdout",
     "output_type": "stream",
     "text": [
      "42\n",
      "38\n"
     ]
    }
   ],
   "source": [
    "cids = [record['citation_id']\n",
    "        for pair in training['distinct']\n",
    "        for record in pair['__value__']]\n",
    "print(len(cids))\n",
    "print(len(set(cids)))"
   ]
  },
  {
   "cell_type": "code",
   "execution_count": 40,
   "metadata": {
    "collapsed": true
   },
   "outputs": [],
   "source": [
    "with open('/Users/burtondewilde/Desktop/bad_dedupe_citations_training.json') as f:\n",
    "    bad_training = json.load(f)"
   ]
  },
  {
   "cell_type": "code",
   "execution_count": 56,
   "metadata": {
    "collapsed": false
   },
   "outputs": [
    {
     "data": {
      "text/plain": [
       "dict_keys(['citation_id', 'title', 'publication_year', 'doi', 'abstract', 'authors'])"
      ]
     },
     "execution_count": 56,
     "metadata": {},
     "output_type": "execute_result"
    }
   ],
   "source": [
    "training['distinct'][0]['__value__'][0].keys()"
   ]
  },
  {
   "cell_type": "code",
   "execution_count": 55,
   "metadata": {
    "collapsed": false
   },
   "outputs": [
    {
     "data": {
      "text/plain": [
       "dict_keys(['publication_year', 'doi', 'abstract', 'title', 'authors'])"
      ]
     },
     "execution_count": 55,
     "metadata": {},
     "output_type": "execute_result"
    }
   ],
   "source": [
    "bad_training['distinct'][0]['__value__'][0].keys()"
   ]
  },
  {
   "cell_type": "code",
   "execution_count": 57,
   "metadata": {
    "collapsed": false
   },
   "outputs": [
    {
     "name": "stdout",
     "output_type": "stream",
     "text": [
      "52\n",
      "11\n"
     ]
    }
   ],
   "source": [
    "cids = [record.get('citation_id')\n",
    "        for pair in bad_training['distinct']\n",
    "        for record in pair['__value__']]\n",
    "print(len(cids))\n",
    "print(len(set(cids)))"
   ]
  },
  {
   "cell_type": "code",
   "execution_count": 58,
   "metadata": {
    "collapsed": false
   },
   "outputs": [
    {
     "data": {
      "text/plain": [
       "[None,\n",
       " None,\n",
       " None,\n",
       " None,\n",
       " None,\n",
       " None,\n",
       " None,\n",
       " None,\n",
       " None,\n",
       " None,\n",
       " None,\n",
       " None,\n",
       " None,\n",
       " None,\n",
       " None,\n",
       " None,\n",
       " None,\n",
       " None,\n",
       " None,\n",
       " None,\n",
       " None,\n",
       " None,\n",
       " None,\n",
       " None,\n",
       " None,\n",
       " None,\n",
       " None,\n",
       " None,\n",
       " None,\n",
       " None,\n",
       " None,\n",
       " None,\n",
       " None,\n",
       " None,\n",
       " None,\n",
       " None,\n",
       " None,\n",
       " None,\n",
       " None,\n",
       " None,\n",
       " None,\n",
       " None,\n",
       " 11943,\n",
       " 11944,\n",
       " 10597,\n",
       " 25946,\n",
       " 449,\n",
       " 2854,\n",
       " 13127,\n",
       " 20424,\n",
       " 13464,\n",
       " 13465]"
      ]
     },
     "execution_count": 58,
     "metadata": {},
     "output_type": "execute_result"
    }
   ],
   "source": [
    "cids"
   ]
  },
  {
   "cell_type": "code",
   "execution_count": null,
   "metadata": {
    "collapsed": true
   },
   "outputs": [],
   "source": []
  }
 ],
 "metadata": {
  "kernelspec": {
   "display_name": "Python 3",
   "language": "python",
   "name": "python3"
  },
  "language_info": {
   "codemirror_mode": {
    "name": "ipython",
    "version": 3
   },
   "file_extension": ".py",
   "mimetype": "text/x-python",
   "name": "python",
   "nbconvert_exporter": "python",
   "pygments_lexer": "ipython3",
   "version": "3.5.1"
  }
 },
 "nbformat": 4,
 "nbformat_minor": 0
}
