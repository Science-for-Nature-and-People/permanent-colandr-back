{
 "cells": [
  {
   "cell_type": "markdown",
   "metadata": {},
   "source": [
    "1. Ingest citation data via uploaded RIS or BibTex files or via manually-entered, individual records\n",
    "1. Parse citation data according to input format and standardize (across formats) field names and values as much as possible\n",
    "1. Munge parsed data into a convenient format for importing into a database, e.g. CSV -> Postgres (see [here](https://www.postgresql.org/docs/9.5/static/sql-copy.html))\n",
    "1. Import citations into database with additional columns for, e.g. citation_id, project_id, user_id, is_duplicate (NULL to start), confirmed_duplicate, ...\n",
    "1. Apply trained dedupe model to new citations vs. existing citations for given project, find possible matches, interactively prompt user to confirm duplicates when in doubt; mark duplicate records in the db accordingly"
   ]
  },
  {
   "cell_type": "code",
   "execution_count": 11,
   "metadata": {
    "collapsed": false
   },
   "outputs": [],
   "source": [
    "import io\n",
    "import logging\n",
    "import os\n",
    "\n",
    "import dedupe\n",
    "\n",
    "import cipy"
   ]
  },
  {
   "cell_type": "code",
   "execution_count": 12,
   "metadata": {
    "collapsed": true
   },
   "outputs": [],
   "source": [
    "logger = logging.getLogger()\n",
    "logging.basicConfig()"
   ]
  },
  {
   "cell_type": "code",
   "execution_count": 13,
   "metadata": {
    "collapsed": false
   },
   "outputs": [],
   "source": [
    "citations_ddl = cipy.db.get_ddl('citations')\n",
    "conn_creds = cipy.db.get_conn_creds('DATABASE_URL')\n",
    "citations_db = cipy.db.PostgresDB(conn_creds, citations_ddl)"
   ]
  },
  {
   "cell_type": "code",
   "execution_count": 14,
   "metadata": {
    "collapsed": false
   },
   "outputs": [],
   "source": [
    "deduper = cipy.db.get_deduper('../models/dedupe_citations_settings')"
   ]
  },
  {
   "cell_type": "code",
   "execution_count": 15,
   "metadata": {
    "collapsed": false
   },
   "outputs": [
    {
     "data": {
      "text/plain": [
       "0.80366647"
      ]
     },
     "execution_count": 15,
     "metadata": {},
     "output_type": "execute_result"
    }
   ],
   "source": [
    "query = \"\"\"\n",
    "SELECT citation_id, authors, title, abstract, publication_year, doi\n",
    "FROM citations\n",
    "WHERE project_id = %(project_id)s\n",
    "\"\"\"\n",
    "\n",
    "results = citations_db.run_query(query, {'project_id': 0})\n",
    "\n",
    "dupe_threshold = deduper.threshold({row['citation_id']: cipy.db.db_utils.make_immutable(row)\n",
    "                                    for row in results},\n",
    "                                   recall_weight=0.5)\n",
    "dupe_threshold"
   ]
  },
  {
   "cell_type": "code",
   "execution_count": 16,
   "metadata": {
    "collapsed": true
   },
   "outputs": [],
   "source": [
    "import time\n",
    "\n",
    "def generate_candidates(results):\n",
    "    \n",
    "    start_time = time.time()\n",
    "\n",
    "    lset = set\n",
    "\n",
    "    block_id = None\n",
    "    records = []\n",
    "    i = 0\n",
    "    for row in results:\n",
    "        if row['block_id'] != block_id:\n",
    "            if records:\n",
    "                yield records\n",
    "\n",
    "            block_id = row['block_id']\n",
    "            records = []\n",
    "            i += 1\n",
    "\n",
    "            if i % 10000 == 0:\n",
    "                print(i, \"blocks\")\n",
    "                print(time.time() - start_time, \"seconds\")\n",
    "\n",
    "        smaller_ids = row['smaller_ids']\n",
    "\n",
    "        if smaller_ids:\n",
    "            smaller_ids = lset(smaller_ids.split(','))\n",
    "        else:\n",
    "            smaller_ids = lset([])\n",
    "\n",
    "        records.append((row['citation_id'],\n",
    "                        {'authors': tuple(row['authors'] if row['authors'] else []),\n",
    "                         'title': row.get('title'),\n",
    "                         'abstract': row.get('abstract'),\n",
    "                         'publication_year': row.get('publication_year'),\n",
    "                         'doi': row.get('doi')},\n",
    "                        smaller_ids))\n",
    "\n",
    "    if records:\n",
    "        yield records"
   ]
  },
  {
   "cell_type": "code",
   "execution_count": 17,
   "metadata": {
    "collapsed": true
   },
   "outputs": [],
   "source": [
    "query = \"\"\"\n",
    "SELECT\n",
    "    citation_id, authors, title, abstract,\n",
    "    publication_year, doi, block_id, smaller_ids\n",
    "FROM smaller_coverage\n",
    "INNER JOIN citations\n",
    "USING (citation_id)\n",
    "WHERE project_id = %(project_id)s\n",
    "ORDER BY block_id\n",
    "\"\"\"\n",
    "\n",
    "results = citations_db.run_query(query, {'project_id': 0})"
   ]
  },
  {
   "cell_type": "code",
   "execution_count": 18,
   "metadata": {
    "collapsed": false
   },
   "outputs": [],
   "source": [
    "# for records in generate_candidates(results):\n",
    "#     print(records)\n",
    "#     break"
   ]
  },
  {
   "cell_type": "code",
   "execution_count": 19,
   "metadata": {
    "collapsed": false
   },
   "outputs": [
    {
     "name": "stdout",
     "output_type": "stream",
     "text": [
      "10000 blocks\n",
      "0.9351649284362793 seconds\n",
      "20000 blocks\n",
      "1.4290659427642822 seconds\n"
     ]
    }
   ],
   "source": [
    "clustered_dupes = deduper.matchBlocks(generate_candidates(results), threshold=dupe_threshold)"
   ]
  },
  {
   "cell_type": "code",
   "execution_count": 20,
   "metadata": {
    "collapsed": false
   },
   "outputs": [
    {
     "name": "stdout",
     "output_type": "stream",
     "text": [
      "1 1.0\n",
      "1001 1.0\n",
      "4011 1.0\n",
      "5011 1.0\n"
     ]
    }
   ],
   "source": [
    "for cluster, scores in clustered_dupes:\n",
    "    cluster_id = cluster[0]\n",
    "    for citation_id, score in zip(cluster, scores):\n",
    "        print(citation_id, score)\n",
    "    break"
   ]
  },
  {
   "cell_type": "code",
   "execution_count": 21,
   "metadata": {
    "collapsed": false
   },
   "outputs": [
    {
     "data": {
      "text/plain": [
       "11151"
      ]
     },
     "execution_count": 21,
     "metadata": {},
     "output_type": "execute_result"
    }
   ],
   "source": [
    "len(clustered_dupes)"
   ]
  },
  {
   "cell_type": "code",
   "execution_count": 24,
   "metadata": {
    "collapsed": false
   },
   "outputs": [],
   "source": [
    "from operator import itemgetter\n",
    "import numpy as np"
   ]
  },
  {
   "cell_type": "code",
   "execution_count": 35,
   "metadata": {
    "collapsed": false
   },
   "outputs": [],
   "source": [
    "query = \"\"\"\n",
    "SELECT\n",
    "    citation_id,\n",
    "    ((CASE WHEN authors IS NULL THEN 1 ELSE 0 END)\n",
    "    + (CASE WHEN title IS NULL THEN 1 ELSE 0 END)\n",
    "    + (CASE WHEN abstract IS NULL THEN 1 ELSE 0 END)\n",
    "    + (CASE WHEN publication_year IS NULL THEN 1 ELSE 0 END)\n",
    "    + (CASE WHEN doi IS NULL THEN 1 ELSE 0 END)\n",
    "    + (CASE WHEN type_of_work IS NULL THEN 1 ELSE 0 END)\n",
    "    + (CASE WHEN publication_month IS NULL THEN 1 ELSE 0 END)\n",
    "    + (CASE WHEN keywords IS NULL THEN 1 ELSE 0 END)\n",
    "    + (CASE WHEN journal_name IS NULL THEN 1 ELSE 0 END)\n",
    "    + (CASE WHEN type_of_reference IS NULL THEN 1 ELSE 0 END)\n",
    "    + (CASE WHEN volume IS NULL THEN 1 ELSE 0 END)\n",
    "    + (CASE WHEN issue_number IS NULL THEN 1 ELSE 0 END)\n",
    "    + (CASE WHEN issn IS NULL THEN 1 ELSE 0 END)\n",
    "    + (CASE WHEN publisher IS NULL THEN 1 ELSE 0 END)\n",
    "    + (CASE WHEN language IS NULL THEN 1 ELSE 0 END)) AS n_null_vols\n",
    "FROM citations\n",
    "WHERE\n",
    "    project_id = %(project_id)s\n",
    "    AND citation_id IN ({})\n",
    "\"\"\"\n",
    "\n",
    "for cluster, scores in clustered_dupes:\n",
    "    citation_ids = ','.join(str(c) for c in cluster)\n",
    "    citations = citations_db.run_query(query.format(citation_ids), {'project_id': 0})\n",
    "    canonical_id = sorted(citations, key=itemgetter('n_null_vols'))[0]['citation_id']\n",
    "    dupe_citation_ids = tuple(cid for cid in cluster if cid != canonical_id)\n",
    "        \n",
    "    break"
   ]
  },
  {
   "cell_type": "code",
   "execution_count": 36,
   "metadata": {
    "collapsed": false
   },
   "outputs": [
    {
     "data": {
      "text/plain": [
       "4011"
      ]
     },
     "execution_count": 36,
     "metadata": {},
     "output_type": "execute_result"
    }
   ],
   "source": [
    "canonical_id"
   ]
  },
  {
   "cell_type": "code",
   "execution_count": 37,
   "metadata": {
    "collapsed": false
   },
   "outputs": [
    {
     "data": {
      "text/plain": [
       "(1, 1001, 5011)"
      ]
     },
     "execution_count": 37,
     "metadata": {},
     "output_type": "execute_result"
    }
   ],
   "source": [
    "dupe_citation_ids"
   ]
  },
  {
   "cell_type": "code",
   "execution_count": 27,
   "metadata": {
    "collapsed": false
   },
   "outputs": [
    {
     "data": {
      "text/plain": [
       "(1, 1001, 4011, 5011)"
      ]
     },
     "execution_count": 27,
     "metadata": {},
     "output_type": "execute_result"
    }
   ],
   "source": [
    "cluster"
   ]
  },
  {
   "cell_type": "code",
   "execution_count": 30,
   "metadata": {
    "collapsed": false
   },
   "outputs": [
    {
     "data": {
      "text/plain": [
       "[{'citation_id': 1, 'n_null_vols': 5},\n",
       " {'citation_id': 1001, 'n_null_vols': 5},\n",
       " {'citation_id': 4011, 'n_null_vols': 3},\n",
       " {'citation_id': 5011, 'n_null_vols': 6}]"
      ]
     },
     "execution_count": 30,
     "metadata": {},
     "output_type": "execute_result"
    }
   ],
   "source": [
    "citations"
   ]
  },
  {
   "cell_type": "code",
   "execution_count": null,
   "metadata": {
    "collapsed": false
   },
   "outputs": [],
   "source": []
  },
  {
   "cell_type": "code",
   "execution_count": null,
   "metadata": {
    "collapsed": true
   },
   "outputs": [],
   "source": []
  },
  {
   "cell_type": "code",
   "execution_count": null,
   "metadata": {
    "collapsed": true
   },
   "outputs": [],
   "source": []
  },
  {
   "cell_type": "code",
   "execution_count": null,
   "metadata": {
    "collapsed": true
   },
   "outputs": [],
   "source": []
  }
 ],
 "metadata": {
  "kernelspec": {
   "display_name": "Python 3",
   "language": "python",
   "name": "python3"
  },
  "language_info": {
   "codemirror_mode": {
    "name": "ipython",
    "version": 3
   },
   "file_extension": ".py",
   "mimetype": "text/x-python",
   "name": "python",
   "nbconvert_exporter": "python",
   "pygments_lexer": "ipython3",
   "version": "3.5.1"
  }
 },
 "nbformat": 4,
 "nbformat_minor": 0
}
