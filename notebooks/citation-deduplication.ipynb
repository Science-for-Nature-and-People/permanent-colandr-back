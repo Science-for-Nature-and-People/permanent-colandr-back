{
 "cells": [
  {
   "cell_type": "markdown",
   "metadata": {},
   "source": [
    "1. Ingest citation data via uploaded RIS or BibTex files or via manually-entered, individual records\n",
    "1. Parse citation data according to input format and standardize (across formats) field names and values as much as possible\n",
    "1. Munge parsed data into a convenient format for importing into a database, e.g. CSV -> Postgres (see [here](https://www.postgresql.org/docs/9.5/static/sql-copy.html))\n",
    "1. Import citations into database with additional columns for, e.g. citation_id, project_id, user_id, is_duplicate (NULL to start), confirmed_duplicate, ...\n",
    "1. Apply trained dedupe model to new citations vs. existing citations for given project, find possible matches, interactively prompt user to confirm duplicates when in doubt; mark duplicate records in the db accordingly"
   ]
  },
  {
   "cell_type": "code",
   "execution_count": 2,
   "metadata": {
    "collapsed": false
   },
   "outputs": [],
   "source": [
    "import io\n",
    "import logging\n",
    "import os\n",
    "\n",
    "import dedupe\n",
    "\n",
    "import cipy"
   ]
  },
  {
   "cell_type": "code",
   "execution_count": 21,
   "metadata": {
    "collapsed": true
   },
   "outputs": [],
   "source": [
    "logger = logging.getLogger()\n",
    "logging.basicConfig()"
   ]
  },
  {
   "cell_type": "code",
   "execution_count": 4,
   "metadata": {
    "collapsed": false
   },
   "outputs": [],
   "source": [
    "conn_creds = cipy.db.get_conn_creds('DATABASE_URL')\n",
    "ddl_path = '/Users/burtondewilde/Desktop/datakind/ci/conservation-intl/cipy/db/ddls/citations.yaml'\n",
    "psql = cipy.db.PostgresDB(ddl_path, conn_creds)"
   ]
  },
  {
   "cell_type": "code",
   "execution_count": 5,
   "metadata": {
    "collapsed": false
   },
   "outputs": [
    {
     "name": "stdout",
     "output_type": "stream",
     "text": [
      "name                 pos type                           nullable max_length\n",
      "---------------------------------------------------------------------------\n",
      "record_id              1 bigint                         NO                 \n",
      "project_id             2 integer                        NO                 \n",
      "user_id                3 integer                        NO                 \n",
      "insert_ts              4 timestamp without time zone    NO                 \n",
      "type_of_work           5 character varying              YES      25        \n",
      "title                  6 character varying              YES      250       \n",
      "secondary_title        7 character varying              YES      250       \n",
      "publication_year       8 smallint                       YES                \n",
      "publication_month      9 smallint                       YES                \n",
      "authors               10 ARRAY                          YES                \n",
      "abstract              11 text                           YES                \n",
      "keywords              12 ARRAY                          YES                \n",
      "type_of_reference     13 character varying              YES      50        \n",
      "journal_name          14 character varying              YES      100       \n",
      "volume                15 character varying              YES      20        \n",
      "issue_number          16 character varying              YES      20        \n",
      "doi                   17 character varying              YES      100       \n",
      "issn                  18 character varying              YES      20        \n",
      "publisher             19 character varying              YES      100       \n",
      "language              20 character varying              YES      50        \n",
      "other_fields          21 jsonb                          YES                \n",
      "is_duplicate          22 boolean                        YES                \n"
     ]
    }
   ],
   "source": [
    "psql.print_table_spec('citations')"
   ]
  },
  {
   "cell_type": "code",
   "execution_count": 6,
   "metadata": {
    "collapsed": false
   },
   "outputs": [],
   "source": [
    "settings_file = '/Users/burtondewilde/Desktop/datakind/ci/conservation-intl/models/dedupe_citations_settings'\n",
    "training_file = '/Users/burtondewilde/Desktop/datakind/ci/conservation-intl/models/dedupe_citations_training.json'"
   ]
  },
  {
   "cell_type": "code",
   "execution_count": 24,
   "metadata": {
    "collapsed": false,
    "scrolled": true
   },
   "outputs": [
    {
     "name": "stderr",
     "output_type": "stream",
     "text": [
      "title : A study of low level vibrations as a power source for wireless sensor nodes\n",
      "abstract : Advances in low power VLSI design, along with the potentially low duty cycle of wireless sensor nodes open up the possibility of powering small wireless computing devices from scavenged ambient power. A broad review of potential power scavenging technologies and conventional energy sources is first presented. Low-level vibrations occurring in common household and office environments as a potential power source are studied in depth. The goal of this paper is not to suggest that the conversion of vibrations is the best or most versatile method to scavenge ambient power, but to study its potential as a viable power source for applications where vibrations are present. Different conversion mechanisms are investigated and evaluated leading to specific optimized designs for both capacitive MicroElectroMechancial Systems (MEMS) and piezoelectric converters. Simulations show that the potential power density from piezoelectric conversion is significantly higher. Experiments using an off-the-shelf PZT piezoelectric bimorph verify the accuracy of the models for piezoelectric converters. A power density of 70 muW/cm(3) has been demonstrated with the PZT bimorph. Simulations show that an optimized design would be capable of 250 muW/cm(3) from a vibration source with an acceleration amplitude of 2.5 m/s(2) at 120 Hz. (C) 2002 Elsevier Science B.V.. All rights reserved.\n",
      "publication_year : 2003\n",
      "doi : None\n",
      "\n",
      "title : A study of low level vibrations as a power source for wireless sensor nodes\n",
      "abstract : Advances in low power VLSI design, along with the potentially low duty cycle of wireless sensor nodes open up the possibility of powering small wireless computing devices from scavenged ambient power. A broad review of potential power scavenging technologies and conventional energy sources is first presented. Low-level vibrations occurring in common household and office environments as a potential power source are studied in depth. The goal of this paper is not to suggest that the conversion of vibrations is the best or most versatile method to scavenge ambient power, but to study its potential as a viable power source for applications where vibrations are present. Different conversion mechanisms are investigated and evaluated leading to specific optimized designs for both capacitive MicroElectroMechancial Systems (MEMS) and piezoelectric converters. Simulations show that the potential power density from piezoelectric conversion is significantly higher. Experiments using an off-the-shelf PZT piezoelectric bimorph verify the accuracy of the models for piezoelectric converters. A power density of 70 muW/cm(3) has been demonstrated with the PZT bimorph. Simulations show that an optimized design would be capable of 250 muW/cm(3) from a vibration source with an acceleration amplitude of 2.5 m/s(2) at 120 Hz. (C) 2002 Elsevier Science B.V.. All rights reserved.\n",
      "publication_year : 2003\n",
      "doi : None\n",
      "\n",
      "0/10 positive, 0/10 negative\n",
      "Do these records refer to the same thing?\n",
      "(y)es / (n)o / (u)nsure / (f)inished\n"
     ]
    },
    {
     "name": "stdout",
     "output_type": "stream",
     "text": [
      "y\n"
     ]
    },
    {
     "name": "stderr",
     "output_type": "stream",
     "text": [
      "title : Structure and growth of self-assembling monolayers\n",
      "abstract : The structural phases and the growth of self-assembled monolayers (SAMs) are reviewed from a surface science perspective. with emphasis on simple model systems. The concept of self-assembly is explained, and different self-assembling materials are briefly discussed. A summary of the techniques used for the study of SAMs is given. Different general scenarios for structures obtained by self-assembly are described. Thiols on Au(111) surfaces are used as an archetypal system to investigate in detail the structural phase diagram as a function of temperature and coverage, the specific structural features on a molecular level, and the effect of changes of the molecular backbone and the end group on the structure of the SAM. Temperature effects including phase transitions are discussed. Concepts for the preparation of more complex structures such as multi-component SAMs, laterally structured SAMs, and heterostructures. also with inorganic materials, are outlined. The growth and ways to control it are discussed in detail. Solution and gas phase deposition and the impact of various parameters such as temperature, concentration tin solution) or partial pressure (in the gas phase) are described. The kinetics and the energetics of self-assembly are analyzed. Several more complex issues of the film formation process including non-equilibrium issues are discussed. Some general conclusions are drawn concerning the impact of various molecular features on the growth behavior and concerning the relationship between growth and structural phase diagram. Finally. the potential of self-assembly as a route for the preparation of monolayers with pre-designed properties and SAMs as building blocks in heterostructures as well as application strategies are discussed. (C) 2000 Elsevier Science Ltd. All rights reserved.\n",
      "publication_year : 2000\n",
      "doi : 10.1016/S0079-6816(00)00024-1\n",
      "\n",
      "title : TUBERCULOSIS - COMMENTARY ON A REEMERGENT KILLER\n",
      "abstract : Tuberculosis remains the leading cause of death in the world from a single infectious disease, although there is little knowledge of the mechanisms of its pathogenesis and protection from it. After a century of decline in the United States, tuberculosis is increasing, and strains resistant to multiple antibiotics have emerged. This excess of cases is attributable to changes in the social structure in cities, the human immunodeficiency virus epidemic, and a failure in certain major cities to improve public treatment programs. The economic costs of not adequately addressing the problem of tuberculosis in this country are estimated from an epidemiological model.\n",
      "publication_year : 1992\n",
      "doi : 10.1126/science.257.5073.1055\n",
      "\n",
      "1/10 positive, 0/10 negative\n",
      "Do these records refer to the same thing?\n",
      "(y)es / (n)o / (u)nsure / (f)inished\n"
     ]
    },
    {
     "name": "stdout",
     "output_type": "stream",
     "text": [
      "n\n"
     ]
    },
    {
     "name": "stderr",
     "output_type": "stream",
     "text": [
      "title : The feasibility of creating a checklist for the assessment of the methodological quality both of randomised and non-randomised studies of health care interventions\n",
      "abstract : Objective-To test the feasibility of creating a valid and reliable checklist with the following features: appropriate for assessing both randomised and non-randomised studies; provision of both an overall score for study quality and a profile of scores not only for the quality of reporting, internal validity (bias and confounding) and power, but also for external validity. Design-A pilot version was first developed, based on epidemiological principles, reviews, and existing checklists for randomised studies. Face and content validity were assessed by three experienced reviewers and reliability was determined using two raters assessing 10 randomised and 10 non-randomised studies. Using different raters, the checklist was revised and tested for internal consistency (Kuder-Richardson 20), test-retest and inter-rater reliability (Spearman correlation coefficient and sign rank test; K statistics;), criterion validity, and respondent burden. Main results-The performance of the checklist improved considerably after revision of a pilot version. The Quality Index had high internal consistency (KR-20: 0.89) as did the subscales apart from external validity (KR-20: 0.54). Test-retest (r 0.88) and inter-rater (r 0.75) reliability of the Quality Index were good. Reliability of the subscales varied from good (bias) to poor (external validity). The Quality Index correlated highly with an existing, established instrument for assessing randomised studies (r 0.90). There was little difference between its performance with non-randomised and with randomised studies. Raters took about 20 minutes to assess each paper (range 10 to 45 minutes). Conclusions-This study has shown r;hat it is feasible to develop a checklist that can be used to assess the methodological quality not only of randomised controlled trials but also non-randomised studies. It has also shown that it is possible to produce a checklist that provides a profile of the paper, alerting reviewers to its particular methodological strengths and weaknesses. Further work is required to improve the checklist and the training of raters in the assessment of external validity.\n",
      "publication_year : 1998\n",
      "doi : None\n",
      "\n",
      "title : EVIDENCE FOR THE EFFECTIVENESS OF CME - A REVIEW OF 50 RANDOMIZED CONTROLLED TRIALS\n",
      "abstract : Objective.-To assess the impact of diverse continuing medical education (CME) interventions on physician performance and health care outcomes. Data Sources.-Using continuing medical education and related phrases, we performed regular searches of the indexed literature (MEDLINE, Social Science Index, the National Technical Information Service, and Educational Research Information Clearinghouse) from 1975 through 1991. In addition, for these years, we used manual searches, key informants, and requests to authors to locate other indexed articles and the nonindexed literature of adult and continuing professional education. Study Selection.-From the resulting database we selected studies that met the following criteria: randomized controlled trials; educational programs, activities, or other interventions; studies that included 50% or more physicians; follow-up assessments of at least 75% of study subjects; and objective assessments of either physician performance or health care outcomes. Data Extraction.-Studies were reviewed for data related to physician specialty and setting. Continuing medical education interventions were classified by their mode(s) of activity as being predisposing, enabling, or facilitating. Using the statistical tests supplied by the original investigators, physician performance outcomes and patient outcomes were classified as positive, negative, or inconclusive. Data Synthesis.-We located 777 CME studies, of which 50 met all criteria. Thirty-two of these analyzed physician performance; seven evaluated patient outcomes; 11 examined both measures. The majority of the 43 studies of physician performance showed positive results in some important measures of resource utilization, counseling strategies, and preventive medicine. Of the 18 studies of health care outcomes, eight demonstrated positive changes in patients' health care outcomes. Conclusion.-Broadly defined CME interventions using practice-enabling or reinforcing strategies consistently improve physician performance and, in some instances, health care outcomes.\n",
      "publication_year : 1992\n",
      "doi : 10.1001/jama.268.9.1111\n",
      "\n",
      "1/10 positive, 1/10 negative\n",
      "Do these records refer to the same thing?\n",
      "(y)es / (n)o / (u)nsure / (f)inished\n"
     ]
    },
    {
     "ename": "KeyboardInterrupt",
     "evalue": "",
     "output_type": "error",
     "traceback": [
      "\u001b[0;31m---------------------------------------------------------------------------\u001b[0m",
      "\u001b[0;31mKeyboardInterrupt\u001b[0m                         Traceback (most recent call last)",
      "\u001b[0;32m/Users/burtondewilde/.pyenv/versions/3.5.1/lib/python3.5/site-packages/ipykernel/kernelbase.py\u001b[0m in \u001b[0;36m_input_request\u001b[0;34m(self, prompt, ident, parent, password)\u001b[0m\n\u001b[1;32m    701\u001b[0m             \u001b[0;32mtry\u001b[0m\u001b[0;34m:\u001b[0m\u001b[0;34m\u001b[0m\u001b[0m\n\u001b[0;32m--> 702\u001b[0;31m                 \u001b[0mident\u001b[0m\u001b[0;34m,\u001b[0m \u001b[0mreply\u001b[0m \u001b[0;34m=\u001b[0m \u001b[0mself\u001b[0m\u001b[0;34m.\u001b[0m\u001b[0msession\u001b[0m\u001b[0;34m.\u001b[0m\u001b[0mrecv\u001b[0m\u001b[0;34m(\u001b[0m\u001b[0mself\u001b[0m\u001b[0;34m.\u001b[0m\u001b[0mstdin_socket\u001b[0m\u001b[0;34m,\u001b[0m \u001b[0;36m0\u001b[0m\u001b[0;34m)\u001b[0m\u001b[0;34m\u001b[0m\u001b[0m\n\u001b[0m\u001b[1;32m    703\u001b[0m             \u001b[0;32mexcept\u001b[0m \u001b[0mException\u001b[0m\u001b[0;34m:\u001b[0m\u001b[0;34m\u001b[0m\u001b[0m\n",
      "\u001b[0;32m/Users/burtondewilde/.pyenv/versions/3.5.1/lib/python3.5/site-packages/jupyter_client/session.py\u001b[0m in \u001b[0;36mrecv\u001b[0;34m(self, socket, mode, content, copy)\u001b[0m\n\u001b[1;32m    738\u001b[0m         \u001b[0;32mtry\u001b[0m\u001b[0;34m:\u001b[0m\u001b[0;34m\u001b[0m\u001b[0m\n\u001b[0;32m--> 739\u001b[0;31m             \u001b[0mmsg_list\u001b[0m \u001b[0;34m=\u001b[0m \u001b[0msocket\u001b[0m\u001b[0;34m.\u001b[0m\u001b[0mrecv_multipart\u001b[0m\u001b[0;34m(\u001b[0m\u001b[0mmode\u001b[0m\u001b[0;34m,\u001b[0m \u001b[0mcopy\u001b[0m\u001b[0;34m=\u001b[0m\u001b[0mcopy\u001b[0m\u001b[0;34m)\u001b[0m\u001b[0;34m\u001b[0m\u001b[0m\n\u001b[0m\u001b[1;32m    740\u001b[0m         \u001b[0;32mexcept\u001b[0m \u001b[0mzmq\u001b[0m\u001b[0;34m.\u001b[0m\u001b[0mZMQError\u001b[0m \u001b[0;32mas\u001b[0m \u001b[0me\u001b[0m\u001b[0;34m:\u001b[0m\u001b[0;34m\u001b[0m\u001b[0m\n",
      "\u001b[0;32m/Users/burtondewilde/.pyenv/versions/3.5.1/lib/python3.5/site-packages/zmq/sugar/socket.py\u001b[0m in \u001b[0;36mrecv_multipart\u001b[0;34m(self, flags, copy, track)\u001b[0m\n\u001b[1;32m    357\u001b[0m         \"\"\"\n\u001b[0;32m--> 358\u001b[0;31m         \u001b[0mparts\u001b[0m \u001b[0;34m=\u001b[0m \u001b[0;34m[\u001b[0m\u001b[0mself\u001b[0m\u001b[0;34m.\u001b[0m\u001b[0mrecv\u001b[0m\u001b[0;34m(\u001b[0m\u001b[0mflags\u001b[0m\u001b[0;34m,\u001b[0m \u001b[0mcopy\u001b[0m\u001b[0;34m=\u001b[0m\u001b[0mcopy\u001b[0m\u001b[0;34m,\u001b[0m \u001b[0mtrack\u001b[0m\u001b[0;34m=\u001b[0m\u001b[0mtrack\u001b[0m\u001b[0;34m)\u001b[0m\u001b[0;34m]\u001b[0m\u001b[0;34m\u001b[0m\u001b[0m\n\u001b[0m\u001b[1;32m    359\u001b[0m         \u001b[0;31m# have first part already, only loop while more to receive\u001b[0m\u001b[0;34m\u001b[0m\u001b[0;34m\u001b[0m\u001b[0m\n",
      "\u001b[0;32mzmq/backend/cython/socket.pyx\u001b[0m in \u001b[0;36mzmq.backend.cython.socket.Socket.recv (zmq/backend/cython/socket.c:6971)\u001b[0;34m()\u001b[0m\n",
      "\u001b[0;32mzmq/backend/cython/socket.pyx\u001b[0m in \u001b[0;36mzmq.backend.cython.socket.Socket.recv (zmq/backend/cython/socket.c:6763)\u001b[0;34m()\u001b[0m\n",
      "\u001b[0;32mzmq/backend/cython/socket.pyx\u001b[0m in \u001b[0;36mzmq.backend.cython.socket._recv_copy (zmq/backend/cython/socket.c:1931)\u001b[0;34m()\u001b[0m\n",
      "\u001b[0;32m/Users/burtondewilde/.pyenv/versions/3.5.1/lib/python3.5/site-packages/zmq/backend/cython/checkrc.pxd\u001b[0m in \u001b[0;36mzmq.backend.cython.checkrc._check_rc (zmq/backend/cython/socket.c:7222)\u001b[0;34m()\u001b[0m\n",
      "\u001b[0;31mKeyboardInterrupt\u001b[0m: ",
      "\nDuring handling of the above exception, another exception occurred:\n",
      "\u001b[0;31mKeyboardInterrupt\u001b[0m                         Traceback (most recent call last)",
      "\u001b[0;32m<ipython-input-24-409e0f17cab3>\u001b[0m in \u001b[0;36m<module>\u001b[0;34m()\u001b[0m\n\u001b[1;32m     29\u001b[0m \u001b[0;34m\u001b[0m\u001b[0m\n\u001b[1;32m     30\u001b[0m     \u001b[0;31m# use 'y', 'n' and 'u' keys to flag duplicates press 'f' when you are finished\u001b[0m\u001b[0;34m\u001b[0m\u001b[0;34m\u001b[0m\u001b[0m\n\u001b[0;32m---> 31\u001b[0;31m     \u001b[0mdedupe\u001b[0m\u001b[0;34m.\u001b[0m\u001b[0mconsoleLabel\u001b[0m\u001b[0;34m(\u001b[0m\u001b[0mdeduper\u001b[0m\u001b[0;34m)\u001b[0m\u001b[0;34m\u001b[0m\u001b[0m\n\u001b[0m\u001b[1;32m     32\u001b[0m \u001b[0;34m\u001b[0m\u001b[0m\n\u001b[1;32m     33\u001b[0m     \u001b[0;32mwith\u001b[0m \u001b[0mio\u001b[0m\u001b[0;34m.\u001b[0m\u001b[0mopen\u001b[0m\u001b[0;34m(\u001b[0m\u001b[0mtraining_file\u001b[0m\u001b[0;34m,\u001b[0m \u001b[0mmode\u001b[0m\u001b[0;34m=\u001b[0m\u001b[0;34m'wt'\u001b[0m\u001b[0;34m)\u001b[0m \u001b[0;32mas\u001b[0m \u001b[0mtf\u001b[0m\u001b[0;34m:\u001b[0m\u001b[0;34m\u001b[0m\u001b[0m\n",
      "\u001b[0;32m/Users/burtondewilde/.pyenv/versions/3.5.1/lib/python3.5/site-packages/dedupe/convenience.py\u001b[0m in \u001b[0;36mconsoleLabel\u001b[0;34m(deduper)\u001b[0m\n\u001b[1;32m     55\u001b[0m             \u001b[0;32mwhile\u001b[0m \u001b[0;32mnot\u001b[0m \u001b[0mvalid_response\u001b[0m\u001b[0;34m:\u001b[0m\u001b[0;34m\u001b[0m\u001b[0m\n\u001b[1;32m     56\u001b[0m                 \u001b[0mprint\u001b[0m\u001b[0;34m(\u001b[0m\u001b[0;34m'(y)es / (n)o / (u)nsure / (f)inished'\u001b[0m\u001b[0;34m,\u001b[0m \u001b[0mfile\u001b[0m\u001b[0;34m=\u001b[0m\u001b[0msys\u001b[0m\u001b[0;34m.\u001b[0m\u001b[0mstderr\u001b[0m\u001b[0;34m)\u001b[0m\u001b[0;34m\u001b[0m\u001b[0m\n\u001b[0;32m---> 57\u001b[0;31m                 \u001b[0mlabel\u001b[0m \u001b[0;34m=\u001b[0m \u001b[0minput\u001b[0m\u001b[0;34m(\u001b[0m\u001b[0;34m)\u001b[0m\u001b[0;34m\u001b[0m\u001b[0m\n\u001b[0m\u001b[1;32m     58\u001b[0m                 \u001b[0;32mif\u001b[0m \u001b[0mlabel\u001b[0m \u001b[0;32min\u001b[0m \u001b[0;34m[\u001b[0m\u001b[0;34m'y'\u001b[0m\u001b[0;34m,\u001b[0m \u001b[0;34m'n'\u001b[0m\u001b[0;34m,\u001b[0m \u001b[0;34m'u'\u001b[0m\u001b[0;34m,\u001b[0m \u001b[0;34m'f'\u001b[0m\u001b[0;34m]\u001b[0m\u001b[0;34m:\u001b[0m\u001b[0;34m\u001b[0m\u001b[0m\n\u001b[1;32m     59\u001b[0m                     \u001b[0mvalid_response\u001b[0m \u001b[0;34m=\u001b[0m \u001b[0;32mTrue\u001b[0m\u001b[0;34m\u001b[0m\u001b[0m\n",
      "\u001b[0;32m/Users/burtondewilde/.pyenv/versions/3.5.1/lib/python3.5/site-packages/ipykernel/kernelbase.py\u001b[0m in \u001b[0;36mraw_input\u001b[0;34m(self, prompt)\u001b[0m\n\u001b[1;32m    675\u001b[0m             \u001b[0mself\u001b[0m\u001b[0;34m.\u001b[0m\u001b[0m_parent_ident\u001b[0m\u001b[0;34m,\u001b[0m\u001b[0;34m\u001b[0m\u001b[0m\n\u001b[1;32m    676\u001b[0m             \u001b[0mself\u001b[0m\u001b[0;34m.\u001b[0m\u001b[0m_parent_header\u001b[0m\u001b[0;34m,\u001b[0m\u001b[0;34m\u001b[0m\u001b[0m\n\u001b[0;32m--> 677\u001b[0;31m             \u001b[0mpassword\u001b[0m\u001b[0;34m=\u001b[0m\u001b[0;32mFalse\u001b[0m\u001b[0;34m,\u001b[0m\u001b[0;34m\u001b[0m\u001b[0m\n\u001b[0m\u001b[1;32m    678\u001b[0m         )\n\u001b[1;32m    679\u001b[0m \u001b[0;34m\u001b[0m\u001b[0m\n",
      "\u001b[0;32m/Users/burtondewilde/.pyenv/versions/3.5.1/lib/python3.5/site-packages/ipykernel/kernelbase.py\u001b[0m in \u001b[0;36m_input_request\u001b[0;34m(self, prompt, ident, parent, password)\u001b[0m\n\u001b[1;32m    705\u001b[0m             \u001b[0;32mexcept\u001b[0m \u001b[0mKeyboardInterrupt\u001b[0m\u001b[0;34m:\u001b[0m\u001b[0;34m\u001b[0m\u001b[0m\n\u001b[1;32m    706\u001b[0m                 \u001b[0;31m# re-raise KeyboardInterrupt, to truncate traceback\u001b[0m\u001b[0;34m\u001b[0m\u001b[0;34m\u001b[0m\u001b[0m\n\u001b[0;32m--> 707\u001b[0;31m                 \u001b[0;32mraise\u001b[0m \u001b[0mKeyboardInterrupt\u001b[0m\u001b[0;34m\u001b[0m\u001b[0m\n\u001b[0m\u001b[1;32m    708\u001b[0m             \u001b[0;32melse\u001b[0m\u001b[0;34m:\u001b[0m\u001b[0;34m\u001b[0m\u001b[0m\n\u001b[1;32m    709\u001b[0m                 \u001b[0;32mbreak\u001b[0m\u001b[0;34m\u001b[0m\u001b[0m\n",
      "\u001b[0;31mKeyboardInterrupt\u001b[0m: "
     ]
    }
   ],
   "source": [
    "if os.path.exists(settings_file):\n",
    "    logger.info('reading dedupe settings from %s', settings_file)\n",
    "    with io.open(settings_file, mode='rb') as sf:\n",
    "        deduper = dedupe.StaticDedupe(sf, num_cores=4)\n",
    "else:\n",
    "    \n",
    "    variables = [\n",
    "        #{'field': 'authors', 'type': 'Set', 'has missing': True},\n",
    "        {'field': 'title', 'type': 'String', 'has missing': True},\n",
    "        {'field': 'abstract', 'type': 'Text', 'has missing': True},\n",
    "        {'field': 'publication_year', 'type': 'Exact', 'has missing': True},\n",
    "        {'field': 'doi', 'type': 'String', 'has missing': True}\n",
    "    ]\n",
    "    deduper = dedupe.Dedupe(variables, num_cores=2)\n",
    "    \n",
    "    query = \"\"\"\n",
    "            SELECT authors, title, abstract, publication_year, doi, type_of_work\n",
    "            FROM citations\n",
    "            LIMIT 1000\n",
    "            \"\"\"\n",
    "    deduper.sample({i: row for i, row in enumerate(psql.run_query(query))}, 25000)\n",
    "    \n",
    "    if os.path.exists(training_file):\n",
    "        logger.info('reading labeled examples from %s', training_file)\n",
    "        with io.open(training_file, mode='rt') as tf:\n",
    "            deduper.readTraining(tf)\n",
    "            \n",
    "    logger.info('starting active labeling...')\n",
    "    \n",
    "    # use 'y', 'n' and 'u' keys to flag duplicates press 'f' when you are finished\n",
    "    dedupe.consoleLabel(deduper)\n",
    "    \n",
    "    with io.open(training_file, mode='wt') as tf:\n",
    "        deduper.writeTraining(tf)\n",
    "        \n",
    "    deduper.train(maximum_comparisons=1000000, recall=0.95)\n",
    "    \n",
    "    with io.open(settings_file, mode='wb') as sf:\n",
    "        deduper.writeSettings(sf)\n",
    "        \n",
    "    deduper.cleanupTraining()"
   ]
  },
  {
   "cell_type": "code",
   "execution_count": null,
   "metadata": {
    "collapsed": false,
    "scrolled": false
   },
   "outputs": [],
   "source": []
  },
  {
   "cell_type": "code",
   "execution_count": null,
   "metadata": {
    "collapsed": true
   },
   "outputs": [],
   "source": []
  },
  {
   "cell_type": "code",
   "execution_count": null,
   "metadata": {
    "collapsed": true
   },
   "outputs": [],
   "source": []
  },
  {
   "cell_type": "code",
   "execution_count": null,
   "metadata": {
    "collapsed": true
   },
   "outputs": [],
   "source": []
  },
  {
   "cell_type": "code",
   "execution_count": null,
   "metadata": {
    "collapsed": true
   },
   "outputs": [],
   "source": []
  },
  {
   "cell_type": "code",
   "execution_count": null,
   "metadata": {
    "collapsed": true
   },
   "outputs": [],
   "source": []
  },
  {
   "cell_type": "code",
   "execution_count": null,
   "metadata": {
    "collapsed": true
   },
   "outputs": [],
   "source": []
  },
  {
   "cell_type": "code",
   "execution_count": 3,
   "metadata": {
    "collapsed": true
   },
   "outputs": [],
   "source": []
  },
  {
   "cell_type": "code",
   "execution_count": null,
   "metadata": {
    "collapsed": true
   },
   "outputs": [],
   "source": []
  },
  {
   "cell_type": "code",
   "execution_count": null,
   "metadata": {
    "collapsed": false
   },
   "outputs": [],
   "source": []
  },
  {
   "cell_type": "code",
   "execution_count": null,
   "metadata": {
    "collapsed": true
   },
   "outputs": [],
   "source": []
  },
  {
   "cell_type": "code",
   "execution_count": null,
   "metadata": {
    "collapsed": true
   },
   "outputs": [],
   "source": []
  }
 ],
 "metadata": {
  "kernelspec": {
   "display_name": "Python 3",
   "language": "python",
   "name": "python3"
  },
  "language_info": {
   "codemirror_mode": {
    "name": "ipython",
    "version": 3
   },
   "file_extension": ".py",
   "mimetype": "text/x-python",
   "name": "python",
   "nbconvert_exporter": "python",
   "pygments_lexer": "ipython3",
   "version": "3.5.1"
  }
 },
 "nbformat": 4,
 "nbformat_minor": 0
}
