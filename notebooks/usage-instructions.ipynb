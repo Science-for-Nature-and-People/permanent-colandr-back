{
 "cells": [
  {
   "cell_type": "markdown",
   "metadata": {},
   "source": [
    "#### Set Up PostgreSQL (on a Mac)\n",
    "\n",
    "Install with Homebrew:\n",
    "\n",
    "```\n",
    "$ brew update\n",
    "$ brew install postgres\n",
    "```\n",
    "\n",
    "To _manually_ start and stop a local Postgres server from running, use\n",
    "\n",
    "```\n",
    "$ pg_ctl -D /usr/local/var/postgres -l /usr/local/var/postgres/server.log start\n",
    "$ pg_ctl -D /usr/local/var/postgres stop -s -m fast\n",
    "```\n",
    "        \n",
    "Or to _automatically_ start a Postgres server (now and) at launch:\n",
    "\n",
    "```\n",
    "$ mkdir -p ~/Library/LaunchAgents\n",
    "$ ln -sfv /usr/local/opt/postgresql/*.plist ~/Library/LaunchAgents\n",
    "$ launchctl load ~/Library/LaunchAgents/homebrew.mxcl.postgresql.plist\n",
    "```\n",
    "\n",
    "Open the system paths file, `/etc/paths`, in a text editor, and move the line `/usr/local/bin` from the bottom of the file to the top (if it wasn't like this already). If you had to make a change to the file, reboot the computer.\n",
    "\n",
    "Homebrew automatically created a database superuser account with the same login as your current Mac OS account. You _may_ want to create a dedicated user named `postgres` for database administration:\n",
    "\n",
    "```\n",
    "$ createuser --pwprompt --superuser --echo --createdb postgres\n",
    "```\n",
    "\n",
    "You'll be prompted to create a password — be sure to remember it or save it somewhere!\n",
    "\n",
    "Homebrew also automatically created a database named `postgres` that may be used to log info for administrative tasks such as creating a user. Create a new database for this project:\n",
    "\n",
    "```\n",
    "$ createdb --echo --encoding=utf8 --host=<HOST> --port=<PORT> --username=<USERNAME> <DBNAME>\n",
    "```\n",
    "\n",
    "Although `<USERNAME>` is optional and defaults to the username of the current user, it's better to specify this explicitly. It'll probably be either `postgres` or your OS username. **TODO:** Choose a `<DBNAME>` for this project!\n",
    "\n",
    "To access the database through an interactive shell:\n",
    "\n",
    "```\n",
    "$ psql --host=<HOST> --port=<PORT> --username=<USERNAME> --dbname=<DBNAME>\n",
    "```\n",
    "\n"
   ]
  },
  {
   "cell_type": "code",
   "execution_count": null,
   "metadata": {
    "collapsed": true
   },
   "outputs": [],
   "source": []
  }
 ],
 "metadata": {
  "kernelspec": {
   "display_name": "Python 3",
   "language": "python",
   "name": "python3"
  },
  "language_info": {
   "codemirror_mode": {
    "name": "ipython",
    "version": 3
   },
   "file_extension": ".py",
   "mimetype": "text/x-python",
   "name": "python",
   "nbconvert_exporter": "python",
   "pygments_lexer": "ipython3",
   "version": "3.5.1"
  }
 },
 "nbformat": 4,
 "nbformat_minor": 0
}
