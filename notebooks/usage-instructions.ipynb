{
 "cells": [
  {
   "cell_type": "markdown",
   "metadata": {},
   "source": [
    "#### Set Up PostgreSQL (on a Mac)\n",
    "\n",
    "Install with Homebrew:\n",
    "\n",
    "```\n",
    "$ brew update\n",
    "$ brew install postgres\n",
    "```\n",
    "\n",
    "To _manually_ start and stop a local Postgres server from running, use\n",
    "\n",
    "```\n",
    "$ pg_ctl -D /usr/local/var/postgres -l /usr/local/var/postgres/server.log start\n",
    "$ pg_ctl -D /usr/local/var/postgres stop -s -m fast\n",
    "```\n",
    "        \n",
    "Or to _automatically_ start a Postgres server (now and) at launch:\n",
    "\n",
    "```\n",
    "$ mkdir -p ~/Library/LaunchAgents\n",
    "$ ln -sfv /usr/local/opt/postgresql/*.plist ~/Library/LaunchAgents\n",
    "$ launchctl load ~/Library/LaunchAgents/homebrew.mxcl.postgresql.plist\n",
    "```\n",
    "\n",
    "Open the system paths file, `/etc/paths`, in a text editor, and move the line `/usr/local/bin` from the bottom of the file to the top (if it wasn't like this already). If you had to make a change to the file, reboot the computer. After rebooting, the command `which psql` command should return `/usr/local/bin/psql`.\n",
    "\n",
    "Homebrew automatically created a database superuser account with the same login as your current Mac OS account. Let's create a dedicated user named `app` for connecting to and owning the app's database:\n",
    "\n",
    "```\n",
    "$ createuser --echo --pwprompt --superuser --createdb app\n",
    "```\n",
    "\n",
    "You'll be prompted to create a password — be sure to remember it or save it somewhere!\n",
    "\n",
    "Homebrew also automatically created a database named `postgres` that may be used to log info for administrative tasks such as creating a user. Let's create a new database for this project:\n",
    "\n",
    "```\n",
    "$ createdb --echo --encoding=utf8 --host=<HOST> --port=<PORT> --username=app --owner=app <DBNAME>\n",
    "```\n",
    "\n",
    "We're using our `app` user to create the database, and assign it as the db's owner. **TODO:** Choose a `<DBNAME>` for this project!\n",
    "\n",
    "To access the database through an interactive shell:\n",
    "\n",
    "```\n",
    "$ psql --host=<HOST> --port=<PORT> --username=app --dbname=<DBNAME>\n",
    "```"
   ]
  },
  {
   "cell_type": "code",
   "execution_count": null,
   "metadata": {
    "collapsed": true
   },
   "outputs": [],
   "source": []
  }
 ],
 "metadata": {
  "kernelspec": {
   "display_name": "Python 3",
   "language": "python",
   "name": "python3"
  },
  "language_info": {
   "codemirror_mode": {
    "name": "ipython",
    "version": 3
   },
   "file_extension": ".py",
   "mimetype": "text/x-python",
   "name": "python",
   "nbconvert_exporter": "python",
   "pygments_lexer": "ipython3",
   "version": "3.5.1"
  }
 },
 "nbformat": 4,
 "nbformat_minor": 0
}
